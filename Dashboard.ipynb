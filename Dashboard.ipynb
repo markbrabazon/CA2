{
 "cells": [
  {
   "cell_type": "code",
   "execution_count": 1,
   "id": "e433b296",
   "metadata": {
    "scrolled": false
   },
   "outputs": [
    {
     "data": {
      "text/html": [
       "\n",
       "        <iframe\n",
       "            width=\"100%\"\n",
       "            height=\"650\"\n",
       "            src=\"http://127.0.0.1:8050/\"\n",
       "            frameborder=\"0\"\n",
       "            allowfullscreen\n",
       "            \n",
       "        ></iframe>\n",
       "        "
      ],
      "text/plain": [
       "<IPython.lib.display.IFrame at 0x7f7d2477abb0>"
      ]
     },
     "metadata": {},
     "output_type": "display_data"
    }
   ],
   "source": [
    "# !pip install jupyter-dash\n",
    "# !pip install Flask --upgrade\n",
    "\n",
    "from jupyter_dash import JupyterDash\n",
    "from dash import html, dcc\n",
    "from dash.dependencies import Input, Output\n",
    "import pandas as pd\n",
    "import plotly.express as px\n",
    "# Date / Time \n",
    "import calendar\n",
    "from datetime import datetime\n",
    "\n",
    "# Country colors for plots theme\n",
    "country_colors = {'Ireland': \"green\", 'Netherlands': \"orange\", 'New Zealand': \"grey\"}\n",
    "\n",
    "exports = pd.read_csv('Data/projections_for_dash.csv')\n",
    "exports['Month Date'] = exports['Month Date'].map(lambda x: datetime.strptime(x,'%Y-%m-%d'))\n",
    "\n",
    "# Only yearly observations needed\n",
    "exports = exports.groupby(['Country','Partner','Partner Code','Year']).sum().reset_index()\n",
    "\n",
    "app = JupyterDash(__name__)\n",
    "\n",
    "partner_dropdown = dcc.Dropdown(options=exports['Partner'].unique(),value='United States of America')\n",
    "country_dropdown = dcc.Dropdown(options=exports['Country'].unique(),value='Ireland')\n",
    "\n",
    "app.layout = html.Div(children=[\n",
    "    # Line graph showing history and projections of the three expoorting countries\n",
    "    html.Div([\n",
    "        html.H1(children='Butter Exports Dashboard'),\n",
    "        partner_dropdown,\n",
    "        dcc.Graph(\n",
    "            id='quantity-graph'\n",
    "        ),\n",
    "    ]),\n",
    "    # Choropleth, by exporting country\n",
    "    html.Div([\n",
    "#         html.H1(children='Export partners by country'),\n",
    "        country_dropdown,\n",
    "        dcc.Graph(\n",
    "            id='choropleth'\n",
    "        ),\n",
    "    ]),\n",
    "])\n",
    "\n",
    "@app.callback(\n",
    "    Output(component_id='quantity-graph', component_property='figure'),\n",
    "    Input(component_id=partner_dropdown, component_property='value')\n",
    ")\n",
    "def update_graph(selected_partner,):\n",
    "    filtered_exports = exports[exports['Partner'] == selected_partner]\n",
    "    line_fig = px.line(filtered_exports,\n",
    "                       x='Year', y='Quantity (tonnes)',\n",
    "                       color='Country',\n",
    "                       color_discrete_map=country_colors,\n",
    "                       title=f'Export Quantities (tonnes) to {selected_partner}. Select alternative trading partners above.')\n",
    "    return line_fig\n",
    "\n",
    "@app.callback(\n",
    "    Output(component_id='choropleth', component_property='figure'),\n",
    "    Input(component_id=country_dropdown, component_property='value')\n",
    ")\n",
    "def update_choropleth(selected_country,):\n",
    "    filtered_by_country = exports[exports['Country'] == selected_country].sort_values(by='Year')\n",
    "    choropleth_fig = px.choropleth(filtered_by_country,\n",
    "                                locations=\"Partner Code\",\n",
    "                                color=\"Quantity (tonnes)\",\n",
    "                                hover_name=\"Partner\",\n",
    "                                animation_frame=\"Year\",\n",
    "                                color_continuous_scale='greens',\n",
    "                                height=600,\n",
    "                                title=f'Export destinations from {selected_country}. Select alternative exporting country above.')\n",
    "\n",
    "    return choropleth_fig\n",
    "\n",
    "app.run_server(mode='inline')"
   ]
  },
  {
   "cell_type": "code",
   "execution_count": null,
   "id": "b90dbf29",
   "metadata": {},
   "outputs": [],
   "source": []
  }
 ],
 "metadata": {
  "kernelspec": {
   "display_name": "Python 3 (ipykernel)",
   "language": "python",
   "name": "python3"
  },
  "language_info": {
   "codemirror_mode": {
    "name": "ipython",
    "version": 3
   },
   "file_extension": ".py",
   "mimetype": "text/x-python",
   "name": "python",
   "nbconvert_exporter": "python",
   "pygments_lexer": "ipython3",
   "version": "3.9.12"
  }
 },
 "nbformat": 4,
 "nbformat_minor": 5
}
