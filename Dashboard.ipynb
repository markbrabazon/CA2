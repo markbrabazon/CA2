{
 "cells": [
  {
   "cell_type": "code",
   "execution_count": null,
   "id": "3fbfe3de",
   "metadata": {
    "scrolled": false
   },
   "outputs": [],
   "source": [
    "# !pip install jupyter-dash\n",
    "# !pip install Flask --upgrade\n",
    "\n",
    "import pandas as pd\n",
    "import plotly.express as px\n",
    "from jupyter_dash import JupyterDash\n",
    "from dash import dcc\n",
    "from dash import html\n",
    "from dash.dependencies import Input, Output\n"
   ]
  },
  {
   "cell_type": "code",
   "execution_count": 1,
   "id": "e433b296",
   "metadata": {
    "scrolled": false
   },
   "outputs": [
    {
     "data": {
      "text/html": [
       "\n",
       "        <iframe\n",
       "            width=\"100%\"\n",
       "            height=\"650\"\n",
       "            src=\"http://127.0.0.1:8050/\"\n",
       "            frameborder=\"0\"\n",
       "            allowfullscreen\n",
       "            \n",
       "        ></iframe>\n",
       "        "
      ],
      "text/plain": [
       "<IPython.lib.display.IFrame at 0x7fcc4e078670>"
      ]
     },
     "metadata": {},
     "output_type": "display_data"
    }
   ],
   "source": [
    "from jupyter_dash import JupyterDash\n",
    "from dash import html, dcc\n",
    "from dash.dependencies import Input, Output\n",
    "import pandas as pd\n",
    "import plotly.express as px\n",
    "# Date / Time \n",
    "import calendar\n",
    "from datetime import datetime\n",
    "\n",
    "exports = pd.read_csv('Data/projections.csv')\n",
    "exports['Month Date'] = exports['Month Date'].map(lambda x: datetime.strptime(x,'%Y-%m-%d'))\n",
    "\n",
    "# Group data , getting monthly totals for each country\n",
    "# exports = exports.groupby(['Country','Month Date']).sum().reset_index()\n",
    "\n",
    "exports = exports.sort_values(['Month Date','Country'],ascending=[True,True])\n",
    "# Use the pandas Grouper function to further group the data by frequency parameter\n",
    "# df_plot = df_plot.groupby([pd.Grouper(key='Month Date',freq=frequency),'Country']).sum().reset_index()\n",
    "\n",
    "\n",
    "app = JupyterDash(__name__)\n",
    "\n",
    "partner_dropdown = dcc.Dropdown(options=exports['Partner'].unique(),value='China')\n",
    "\n",
    "app.layout = html.Div(children=[\n",
    "    html.H1(children='Butter Exports Dashboard'),\n",
    "    partner_dropdown,\n",
    "    dcc.Graph(id='quantity-graph')\n",
    "])\n",
    "\n",
    "\n",
    "@app.callback(\n",
    "    Output(component_id='quantity-graph', component_property='figure'),\n",
    "    Input(component_id=partner_dropdown, component_property='value')\n",
    ")\n",
    "def update_graph(selected_partner):\n",
    "    filtered_exports = exports[exports['Partner'] == selected_partner]\n",
    "    line_fig = px.line(filtered_exports,\n",
    "                       x='Month Date', y='Quantity (tonnes)',\n",
    "                       color='Country',\n",
    "                       title=f'Export Quantities (tonnes) to {selected_partner}')\n",
    "    return line_fig\n",
    "\n",
    "app.run_server(mode='inline')"
   ]
  },
  {
   "cell_type": "code",
   "execution_count": null,
   "id": "6e2e49d3",
   "metadata": {
    "scrolled": false
   },
   "outputs": [],
   "source": [
    "def plot_country_exports(df, frequency, y_value):\n",
    "    df_plot = df.copy() \n",
    "    \n",
    "    # Drop unnecessary columns\n",
    "    df_plot.drop(\n",
    "        ['Year','Month','Partner','Partner Code','Population',\n",
    "         'GDP per capita ($US)','GDP ($US)','GDP Growth','Inflation Rate'],\n",
    "        axis=1,\n",
    "        inplace=True)\n",
    "\n",
    "    # Group data , getting monthly totals for each country\n",
    "    df_plot = df_plot.groupby(['Country','Month Date']).sum().reset_index()\n",
    "    \n",
    "    # Use the pandas Grouper function to further group the data by frequency parameter\n",
    "    df_plot = df_plot.groupby([pd.Grouper(key='Month Date',freq=frequency),'Country']).sum().reset_index()\n",
    "\n",
    "    # Sort the data so that the plot legend will be in order (easier to read), using the y_value parameter\n",
    "    df_plot.sort_values(by=['Month Date',y_value],ascending=False,inplace=True)\n",
    "    \n",
    "    # Create and show the plot. The y-value parameter is used to specifiy the data for the y-axis\n",
    "    fig = px.line(df_plot, x='Month Date', y=y_value, color='Country', title='Butter Exports')\n",
    "    fig.show()"
   ]
  },
  {
   "cell_type": "code",
   "execution_count": null,
   "id": "21ce4bc2",
   "metadata": {},
   "outputs": [],
   "source": [
    "exports = pd.read_csv('Data/projections.csv')\n",
    "exports['Month Date'] = exports['Month Date'].map(lambda x: datetime.strptime(x,'%Y-%m-%d'))\n",
    "\n",
    "# Group data , getting monthly totals for each country\n",
    "# exports = exports.groupby(['Country','Month Date']).sum().reset_index()\n",
    "\n",
    "exports = exports.sort_values(['Month Date','Country'],ascending=[True,True])"
   ]
  },
  {
   "cell_type": "code",
   "execution_count": null,
   "id": "36e1281a",
   "metadata": {
    "scrolled": false
   },
   "outputs": [],
   "source": [
    "plot_country_exports(exports,'1M','Quantity (tonnes)')"
   ]
  },
  {
   "cell_type": "code",
   "execution_count": null,
   "id": "239f6ab1",
   "metadata": {
    "scrolled": false
   },
   "outputs": [],
   "source": [
    "def plot_exports_to(df, frequency, y_value):\n",
    "    df_plot = df.copy() \n",
    "    \n",
    "    # Drop unnecessary columns\n",
    "    df_plot.drop(\n",
    "        ['Year','Month','Partner Code','Population',\n",
    "         'GDP per capita ($US)','GDP ($US)','GDP Growth','Inflation Rate'],\n",
    "        axis=1,\n",
    "        inplace=True)\n",
    "\n",
    "    # Group data , getting monthly totals for each country\n",
    "    df_plot = df_plot.groupby(['Country','Month Date','Partner']).sum().reset_index()\n",
    "    \n",
    "    # Use the pandas Grouper function to further group the data by frequency parameter\n",
    "    df_plot = df_plot.groupby([pd.Grouper(key='Month Date',freq=frequency),'Country']).sum().reset_index()\n",
    "\n",
    "    # Sort the data so that the plot legend will be in order (easier to read), using the y_value parameter\n",
    "    df_plot.sort_values(by=['Month Date',y_value],ascending=False,inplace=True)\n",
    "    \n",
    "    # Create and show the plot. The y-value parameter is used to specifiy the data for the y-axis\n",
    "    fig = px.line(df_plot, x='Month Date', y=y_value, color='Country', title='Butter Exports')\n",
    "    fig.show()"
   ]
  },
  {
   "cell_type": "code",
   "execution_count": null,
   "id": "5d87a0ae",
   "metadata": {
    "scrolled": false
   },
   "outputs": [],
   "source": [
    "partner = exports[(exports['Partner']=='Portugal')]\n",
    "plot_exports_to(partner,'1Y','Quantity (tonnes)')"
   ]
  },
  {
   "cell_type": "code",
   "execution_count": null,
   "id": "8902b5ee",
   "metadata": {
    "scrolled": true
   },
   "outputs": [],
   "source": [
    "# # Date / Time \n",
    "# import calendar\n",
    "# from datetime import datetime\n",
    "\n",
    "# exports['Month Date'] = exports['Month Date'].map(lambda x: datetime.strptime(x,'%Y-%m-%d'))"
   ]
  },
  {
   "cell_type": "code",
   "execution_count": null,
   "id": "9d66472a",
   "metadata": {
    "scrolled": false
   },
   "outputs": [],
   "source": []
  }
 ],
 "metadata": {
  "kernelspec": {
   "display_name": "Python 3 (ipykernel)",
   "language": "python",
   "name": "python3"
  },
  "language_info": {
   "codemirror_mode": {
    "name": "ipython",
    "version": 3
   },
   "file_extension": ".py",
   "mimetype": "text/x-python",
   "name": "python",
   "nbconvert_exporter": "python",
   "pygments_lexer": "ipython3",
   "version": "3.9.12"
  }
 },
 "nbformat": 4,
 "nbformat_minor": 5
}
