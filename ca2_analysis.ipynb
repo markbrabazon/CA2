{
 "cells": [
  {
   "cell_type": "code",
   "execution_count": 204,
   "id": "dbf9c54c",
   "metadata": {},
   "outputs": [],
   "source": [
    "import numpy as np\n",
    "import pandas as pd\n",
    "import plotly.express as px\n",
    "from datetime import datetime\n",
    "import calendar"
   ]
  },
  {
   "cell_type": "markdown",
   "id": "b1ae7ed2",
   "metadata": {},
   "source": [
    "## 1.1 EU Data"
   ]
  },
  {
   "cell_type": "code",
   "execution_count": 323,
   "id": "2402fd64",
   "metadata": {},
   "outputs": [
    {
     "data": {
      "text/html": [
       "<div>\n",
       "<style scoped>\n",
       "    .dataframe tbody tr th:only-of-type {\n",
       "        vertical-align: middle;\n",
       "    }\n",
       "\n",
       "    .dataframe tbody tr th {\n",
       "        vertical-align: top;\n",
       "    }\n",
       "\n",
       "    .dataframe thead th {\n",
       "        text-align: right;\n",
       "    }\n",
       "</style>\n",
       "<table border=\"1\" class=\"dataframe\">\n",
       "  <thead>\n",
       "    <tr style=\"text-align: right;\">\n",
       "      <th></th>\n",
       "      <th>Flow</th>\n",
       "      <th>Marketing Year</th>\n",
       "      <th>Month</th>\n",
       "      <th>Month Order in MY</th>\n",
       "      <th>Month Date</th>\n",
       "      <th>Member State</th>\n",
       "      <th>Partner</th>\n",
       "      <th>Product Group</th>\n",
       "      <th>Product Code (CN)</th>\n",
       "      <th>Quantity in tonnes</th>\n",
       "      <th>Value in thousand euro</th>\n",
       "    </tr>\n",
       "  </thead>\n",
       "  <tbody>\n",
       "    <tr>\n",
       "      <th>0</th>\n",
       "      <td>EXPORT</td>\n",
       "      <td>2022</td>\n",
       "      <td>Oct</td>\n",
       "      <td>10</td>\n",
       "      <td>01/10/2022</td>\n",
       "      <td>Austria</td>\n",
       "      <td>Albania</td>\n",
       "      <td>Cheese</td>\n",
       "      <td>4063039</td>\n",
       "      <td>17.677</td>\n",
       "      <td>86.192</td>\n",
       "    </tr>\n",
       "    <tr>\n",
       "      <th>1</th>\n",
       "      <td>EXPORT</td>\n",
       "      <td>2022</td>\n",
       "      <td>Oct</td>\n",
       "      <td>10</td>\n",
       "      <td>01/10/2022</td>\n",
       "      <td>Austria</td>\n",
       "      <td>Angola</td>\n",
       "      <td>Cheese</td>\n",
       "      <td>4061050</td>\n",
       "      <td>0.472</td>\n",
       "      <td>2.189</td>\n",
       "    </tr>\n",
       "    <tr>\n",
       "      <th>2</th>\n",
       "      <td>EXPORT</td>\n",
       "      <td>2022</td>\n",
       "      <td>Oct</td>\n",
       "      <td>10</td>\n",
       "      <td>01/10/2022</td>\n",
       "      <td>Austria</td>\n",
       "      <td>Angola</td>\n",
       "      <td>Cheese</td>\n",
       "      <td>4063031</td>\n",
       "      <td>9.862</td>\n",
       "      <td>41.178</td>\n",
       "    </tr>\n",
       "    <tr>\n",
       "      <th>3</th>\n",
       "      <td>EXPORT</td>\n",
       "      <td>2022</td>\n",
       "      <td>Oct</td>\n",
       "      <td>10</td>\n",
       "      <td>01/10/2022</td>\n",
       "      <td>Austria</td>\n",
       "      <td>Angola</td>\n",
       "      <td>Cheese</td>\n",
       "      <td>4063039</td>\n",
       "      <td>3.177</td>\n",
       "      <td>14.467</td>\n",
       "    </tr>\n",
       "    <tr>\n",
       "      <th>4</th>\n",
       "      <td>EXPORT</td>\n",
       "      <td>2022</td>\n",
       "      <td>Oct</td>\n",
       "      <td>10</td>\n",
       "      <td>01/10/2022</td>\n",
       "      <td>Austria</td>\n",
       "      <td>Antigua and Barbuda</td>\n",
       "      <td>Cheese</td>\n",
       "      <td>4063031</td>\n",
       "      <td>1.800</td>\n",
       "      <td>9.212</td>\n",
       "    </tr>\n",
       "  </tbody>\n",
       "</table>\n",
       "</div>"
      ],
      "text/plain": [
       "     Flow  Marketing Year Month  Month Order in MY  Month Date Member State  \\\n",
       "0  EXPORT            2022   Oct                 10  01/10/2022      Austria   \n",
       "1  EXPORT            2022   Oct                 10  01/10/2022      Austria   \n",
       "2  EXPORT            2022   Oct                 10  01/10/2022      Austria   \n",
       "3  EXPORT            2022   Oct                 10  01/10/2022      Austria   \n",
       "4  EXPORT            2022   Oct                 10  01/10/2022      Austria   \n",
       "\n",
       "               Partner Product Group  Product Code (CN)  Quantity in tonnes  \\\n",
       "0              Albania        Cheese            4063039              17.677   \n",
       "1               Angola        Cheese            4061050               0.472   \n",
       "2               Angola        Cheese            4063031               9.862   \n",
       "3               Angola        Cheese            4063039               3.177   \n",
       "4  Antigua and Barbuda        Cheese            4063031               1.800   \n",
       "\n",
       "   Value in thousand euro  \n",
       "0                  86.192  \n",
       "1                   2.189  \n",
       "2                  41.178  \n",
       "3                  14.467  \n",
       "4                   9.212  "
      ]
     },
     "execution_count": 323,
     "metadata": {},
     "output_type": "execute_result"
    }
   ],
   "source": [
    "df_eu = pd.read_csv('Data/EU_MILK_trade_data_en.csv')\n",
    "df_eu.head()"
   ]
  },
  {
   "cell_type": "code",
   "execution_count": 324,
   "id": "c8c90f1a",
   "metadata": {},
   "outputs": [],
   "source": [
    "df_eu = df_eu[(df_eu['Product Code (CN)'].astype('string').str[:5]=='40510') & (df_eu['Flow']=='EXPORT')]"
   ]
  },
  {
   "cell_type": "code",
   "execution_count": 325,
   "id": "f8d619e2",
   "metadata": {},
   "outputs": [
    {
     "data": {
      "text/plain": [
       "Flow                      0\n",
       "Marketing Year            0\n",
       "Month                     0\n",
       "Month Order in MY         0\n",
       "Month Date                0\n",
       "Member State              0\n",
       "Partner                   0\n",
       "Product Group             0\n",
       "Product Code (CN)         0\n",
       "Quantity in tonnes        0\n",
       "Value in thousand euro    0\n",
       "dtype: int64"
      ]
     },
     "execution_count": 325,
     "metadata": {},
     "output_type": "execute_result"
    }
   ],
   "source": [
    "df_eu.isna().sum()"
   ]
  },
  {
   "cell_type": "code",
   "execution_count": 326,
   "id": "af27db10",
   "metadata": {},
   "outputs": [
    {
     "data": {
      "text/plain": [
       "array(['Butter', 'Butteroil'], dtype=object)"
      ]
     },
     "execution_count": 326,
     "metadata": {},
     "output_type": "execute_result"
    }
   ],
   "source": [
    "df_eu['Product Group'].unique()"
   ]
  },
  {
   "cell_type": "code",
   "execution_count": 327,
   "id": "7c14dada",
   "metadata": {},
   "outputs": [],
   "source": [
    "# Use lambda function to convert the Month Date values to datetime\n",
    "df_eu['Month Date'] = df_eu['Month Date'].map(lambda x: datetime.strptime(x, '%d/%m/%Y'))\n"
   ]
  },
  {
   "cell_type": "code",
   "execution_count": 328,
   "id": "f1362b80",
   "metadata": {},
   "outputs": [
    {
     "data": {
      "text/html": [
       "<div>\n",
       "<style scoped>\n",
       "    .dataframe tbody tr th:only-of-type {\n",
       "        vertical-align: middle;\n",
       "    }\n",
       "\n",
       "    .dataframe tbody tr th {\n",
       "        vertical-align: top;\n",
       "    }\n",
       "\n",
       "    .dataframe thead th {\n",
       "        text-align: right;\n",
       "    }\n",
       "</style>\n",
       "<table border=\"1\" class=\"dataframe\">\n",
       "  <thead>\n",
       "    <tr style=\"text-align: right;\">\n",
       "      <th></th>\n",
       "      <th>Flow</th>\n",
       "      <th>Marketing Year</th>\n",
       "      <th>Month</th>\n",
       "      <th>Month Order in MY</th>\n",
       "      <th>Month Date</th>\n",
       "      <th>Member State</th>\n",
       "      <th>Partner</th>\n",
       "      <th>Product Group</th>\n",
       "      <th>Product Code (CN)</th>\n",
       "      <th>Quantity in tonnes</th>\n",
       "      <th>Value in thousand euro</th>\n",
       "    </tr>\n",
       "  </thead>\n",
       "  <tbody>\n",
       "    <tr>\n",
       "      <th>35</th>\n",
       "      <td>EXPORT</td>\n",
       "      <td>2022</td>\n",
       "      <td>Oct</td>\n",
       "      <td>10</td>\n",
       "      <td>2022-10-01</td>\n",
       "      <td>Austria</td>\n",
       "      <td>Holy See (Vatican City State)</td>\n",
       "      <td>Butter</td>\n",
       "      <td>4051011</td>\n",
       "      <td>1.800</td>\n",
       "      <td>14.275</td>\n",
       "    </tr>\n",
       "    <tr>\n",
       "      <th>89</th>\n",
       "      <td>EXPORT</td>\n",
       "      <td>2022</td>\n",
       "      <td>Oct</td>\n",
       "      <td>10</td>\n",
       "      <td>2022-10-01</td>\n",
       "      <td>Austria</td>\n",
       "      <td>Switzerland</td>\n",
       "      <td>Butter</td>\n",
       "      <td>4051011</td>\n",
       "      <td>0.010</td>\n",
       "      <td>0.084</td>\n",
       "    </tr>\n",
       "    <tr>\n",
       "      <th>90</th>\n",
       "      <td>EXPORT</td>\n",
       "      <td>2022</td>\n",
       "      <td>Oct</td>\n",
       "      <td>10</td>\n",
       "      <td>2022-10-01</td>\n",
       "      <td>Austria</td>\n",
       "      <td>Switzerland</td>\n",
       "      <td>Butteroil</td>\n",
       "      <td>4051090</td>\n",
       "      <td>0.000</td>\n",
       "      <td>0.007</td>\n",
       "    </tr>\n",
       "    <tr>\n",
       "      <th>130</th>\n",
       "      <td>EXPORT</td>\n",
       "      <td>2022</td>\n",
       "      <td>Oct</td>\n",
       "      <td>10</td>\n",
       "      <td>2022-10-01</td>\n",
       "      <td>Austria</td>\n",
       "      <td>United Arab Emirates</td>\n",
       "      <td>Butter</td>\n",
       "      <td>4051011</td>\n",
       "      <td>0.376</td>\n",
       "      <td>1.564</td>\n",
       "    </tr>\n",
       "    <tr>\n",
       "      <th>10165</th>\n",
       "      <td>EXPORT</td>\n",
       "      <td>2022</td>\n",
       "      <td>Sep</td>\n",
       "      <td>9</td>\n",
       "      <td>2022-09-01</td>\n",
       "      <td>Austria</td>\n",
       "      <td>Holy See (Vatican City State)</td>\n",
       "      <td>Butter</td>\n",
       "      <td>4051011</td>\n",
       "      <td>1.200</td>\n",
       "      <td>9.535</td>\n",
       "    </tr>\n",
       "    <tr>\n",
       "      <th>...</th>\n",
       "      <td>...</td>\n",
       "      <td>...</td>\n",
       "      <td>...</td>\n",
       "      <td>...</td>\n",
       "      <td>...</td>\n",
       "      <td>...</td>\n",
       "      <td>...</td>\n",
       "      <td>...</td>\n",
       "      <td>...</td>\n",
       "      <td>...</td>\n",
       "      <td>...</td>\n",
       "    </tr>\n",
       "    <tr>\n",
       "      <th>1459527</th>\n",
       "      <td>EXPORT</td>\n",
       "      <td>2010</td>\n",
       "      <td>Jan</td>\n",
       "      <td>1</td>\n",
       "      <td>2010-01-01</td>\n",
       "      <td>Austria</td>\n",
       "      <td>Russia</td>\n",
       "      <td>Butter</td>\n",
       "      <td>4051011</td>\n",
       "      <td>1.272</td>\n",
       "      <td>6.639</td>\n",
       "    </tr>\n",
       "    <tr>\n",
       "      <th>1459553</th>\n",
       "      <td>EXPORT</td>\n",
       "      <td>2010</td>\n",
       "      <td>Jan</td>\n",
       "      <td>1</td>\n",
       "      <td>2010-01-01</td>\n",
       "      <td>Austria</td>\n",
       "      <td>Switzerland</td>\n",
       "      <td>Butter</td>\n",
       "      <td>4051019</td>\n",
       "      <td>0.479</td>\n",
       "      <td>1.242</td>\n",
       "    </tr>\n",
       "    <tr>\n",
       "      <th>1459554</th>\n",
       "      <td>EXPORT</td>\n",
       "      <td>2010</td>\n",
       "      <td>Jan</td>\n",
       "      <td>1</td>\n",
       "      <td>2010-01-01</td>\n",
       "      <td>Austria</td>\n",
       "      <td>Switzerland</td>\n",
       "      <td>Butteroil</td>\n",
       "      <td>4051090</td>\n",
       "      <td>0.128</td>\n",
       "      <td>0.465</td>\n",
       "    </tr>\n",
       "    <tr>\n",
       "      <th>1459605</th>\n",
       "      <td>EXPORT</td>\n",
       "      <td>2010</td>\n",
       "      <td>Jan</td>\n",
       "      <td>1</td>\n",
       "      <td>2010-01-01</td>\n",
       "      <td>Austria</td>\n",
       "      <td>Turkey</td>\n",
       "      <td>Butteroil</td>\n",
       "      <td>4051090</td>\n",
       "      <td>0.009</td>\n",
       "      <td>0.050</td>\n",
       "    </tr>\n",
       "    <tr>\n",
       "      <th>1459614</th>\n",
       "      <td>EXPORT</td>\n",
       "      <td>2010</td>\n",
       "      <td>Jan</td>\n",
       "      <td>1</td>\n",
       "      <td>2010-01-01</td>\n",
       "      <td>Austria</td>\n",
       "      <td>United Arab Emirates</td>\n",
       "      <td>Butteroil</td>\n",
       "      <td>4051090</td>\n",
       "      <td>0.181</td>\n",
       "      <td>0.228</td>\n",
       "    </tr>\n",
       "  </tbody>\n",
       "</table>\n",
       "<p>582 rows × 11 columns</p>\n",
       "</div>"
      ],
      "text/plain": [
       "           Flow  Marketing Year Month  Month Order in MY Month Date  \\\n",
       "35       EXPORT            2022   Oct                 10 2022-10-01   \n",
       "89       EXPORT            2022   Oct                 10 2022-10-01   \n",
       "90       EXPORT            2022   Oct                 10 2022-10-01   \n",
       "130      EXPORT            2022   Oct                 10 2022-10-01   \n",
       "10165    EXPORT            2022   Sep                  9 2022-09-01   \n",
       "...         ...             ...   ...                ...        ...   \n",
       "1459527  EXPORT            2010   Jan                  1 2010-01-01   \n",
       "1459553  EXPORT            2010   Jan                  1 2010-01-01   \n",
       "1459554  EXPORT            2010   Jan                  1 2010-01-01   \n",
       "1459605  EXPORT            2010   Jan                  1 2010-01-01   \n",
       "1459614  EXPORT            2010   Jan                  1 2010-01-01   \n",
       "\n",
       "        Member State                        Partner Product Group  \\\n",
       "35           Austria  Holy See (Vatican City State)        Butter   \n",
       "89           Austria                    Switzerland        Butter   \n",
       "90           Austria                    Switzerland     Butteroil   \n",
       "130          Austria           United Arab Emirates        Butter   \n",
       "10165        Austria  Holy See (Vatican City State)        Butter   \n",
       "...              ...                            ...           ...   \n",
       "1459527      Austria                         Russia        Butter   \n",
       "1459553      Austria                    Switzerland        Butter   \n",
       "1459554      Austria                    Switzerland     Butteroil   \n",
       "1459605      Austria                         Turkey     Butteroil   \n",
       "1459614      Austria           United Arab Emirates     Butteroil   \n",
       "\n",
       "         Product Code (CN)  Quantity in tonnes  Value in thousand euro  \n",
       "35                 4051011               1.800                  14.275  \n",
       "89                 4051011               0.010                   0.084  \n",
       "90                 4051090               0.000                   0.007  \n",
       "130                4051011               0.376                   1.564  \n",
       "10165              4051011               1.200                   9.535  \n",
       "...                    ...                 ...                     ...  \n",
       "1459527            4051011               1.272                   6.639  \n",
       "1459553            4051019               0.479                   1.242  \n",
       "1459554            4051090               0.128                   0.465  \n",
       "1459605            4051090               0.009                   0.050  \n",
       "1459614            4051090               0.181                   0.228  \n",
       "\n",
       "[582 rows x 11 columns]"
      ]
     },
     "execution_count": 328,
     "metadata": {},
     "output_type": "execute_result"
    }
   ],
   "source": [
    "df_eu[(df_eu['Member State']=='Austria')]"
   ]
  },
  {
   "cell_type": "code",
   "execution_count": 329,
   "id": "94f4ff7d",
   "metadata": {},
   "outputs": [],
   "source": [
    "df_eu.rename(columns = {'Marketing Year':'Year', \n",
    "                        'Member State':'Country',\n",
    "                        'Product Code (CN)':'Product',\n",
    "                        'Quantity in tonnes':'Quantity (tonnes)',\n",
    "                        'Value in thousand euro':'Value (k Euro)'\n",
    "                       }, inplace = True)"
   ]
  },
  {
   "cell_type": "code",
   "execution_count": 330,
   "id": "24212d44",
   "metadata": {},
   "outputs": [],
   "source": [
    "df_eu.drop(['Month Order in MY','Product Group'], axis=1,inplace=True)"
   ]
  },
  {
   "cell_type": "code",
   "execution_count": null,
   "id": "69ed38b6",
   "metadata": {},
   "outputs": [],
   "source": []
  },
  {
   "cell_type": "markdown",
   "id": "98e8cc02",
   "metadata": {},
   "source": [
    "## 1.2 NewZealand Data"
   ]
  },
  {
   "cell_type": "code",
   "execution_count": 331,
   "id": "4d590c89",
   "metadata": {},
   "outputs": [],
   "source": [
    "nz_files = [\n",
    "    {\n",
    "        'filename':'Data/NZ/nz_exports_quantities_01.txt',\n",
    "        'filenames':['Data/NZ/nz_exports_quantities_01.txt',\n",
    "                    'Data/NZ/nz_exports_quantities_02.txt',\n",
    "                    'Data/NZ/nz_exports_quantities_03.txt',\n",
    "                    'Data/NZ/nz_exports_quantities_04.txt',\n",
    "                    'Data/NZ/nz_exports_quantities_05.txt',\n",
    "                    'Data/NZ/nz_exports_quantities_06.txt',\n",
    "                    'Data/NZ/nz_exports_quantities_07.txt',\n",
    "                    'Data/NZ/nz_exports_quantities_08.txt'],\n",
    "        'partner_column':'Importers',\n",
    "        'column_name':'Quantity in tonnes',\n",
    "        'flow':'EXPORT',\n",
    "        'left_date_text':'',\n",
    "        'right_date_text':'%Y-M%m-Exported quantity, Kilograms',\n",
    "        'date_format':'%Y-M%m'\n",
    "    },\n",
    "    {\n",
    "        'filename':'Data/NZ/nz_exports_values_01.txt',\n",
    "        'filenames':['Data/NZ/nz_exports_values_01.txt',\n",
    "                    'Data/NZ/nz_exports_values_02.txt',\n",
    "                    'Data/NZ/nz_exports_values_03.txt',\n",
    "                    'Data/NZ/nz_exports_values_04.txt',\n",
    "                    'Data/NZ/nz_exports_values_05.txt',\n",
    "                    'Data/NZ/nz_exports_values_06.txt',\n",
    "                    'Data/NZ/nz_exports_values_07.txt',\n",
    "                    'Data/NZ/nz_exports_values_08.txt'],\n",
    "        'partner_column':'Importers',\n",
    "        'column_name':'Value in thousand euro',\n",
    "        'flow':'EXPORT',\n",
    "        'left_date_text':'Exported value in ',\n",
    "        'right_date_text':'',\n",
    "        'date_format':'%Y-M%m'\n",
    "    },\n",
    "    {\n",
    "        'filename':'Data/NZ/nz_imports_quantities_01.txt',\n",
    "        'filenames':['Data/NZ/nz_imports_quantities_01.txt',\n",
    "                    'Data/NZ/nz_imports_quantities_02.txt',\n",
    "                    'Data/NZ/nz_imports_quantities_03.txt',\n",
    "                    'Data/NZ/nz_imports_quantities_04.txt',\n",
    "                    'Data/NZ/nz_imports_quantities_05.txt',\n",
    "                    'Data/NZ/nz_imports_quantities_06.txt',\n",
    "                    'Data/NZ/nz_imports_quantities_07.txt',\n",
    "                    'Data/NZ/nz_imports_quantities_08.txt'],\n",
    "        'partner_column':'Exporters',\n",
    "        'column_name':'Quantity in tonnes',\n",
    "        'flow':'IMPORT',\n",
    "        'left_date_text':'',\n",
    "        'right_date_text':'-Imported quantity, Kilograms',\n",
    "        'date_format':'%Y-M%m'\n",
    "    },\n",
    "    {\n",
    "        'filename':'Data/NZ/nz_imports_values_01.txt',\n",
    "        'filenames':['Data/NZ/nz_imports_values_01.txt',\n",
    "                    'Data/NZ/nz_imports_values_02.txt',\n",
    "                    'Data/NZ/nz_imports_values_03.txt',\n",
    "                    'Data/NZ/nz_imports_values_04.txt',\n",
    "                    'Data/NZ/nz_imports_values_05.txt',\n",
    "                    'Data/NZ/nz_imports_values_06.txt',\n",
    "                    'Data/NZ/nz_imports_values_07.txt',\n",
    "                    'Data/NZ/nz_imports_values_08.txt'],\n",
    "        'partner_column':'Exporters',\n",
    "        'column_name':'Value in thousand euro',\n",
    "        'flow':'IMPORT',\n",
    "        'left_date_text':'Imported value in ',\n",
    "        'right_date_text':'',\n",
    "        'date_format':'%Y-M%m'\n",
    "    }\n",
    "]"
   ]
  },
  {
   "cell_type": "code",
   "execution_count": 332,
   "id": "25ea954d",
   "metadata": {},
   "outputs": [
    {
     "data": {
      "text/html": [
       "<div>\n",
       "<style scoped>\n",
       "    .dataframe tbody tr th:only-of-type {\n",
       "        vertical-align: middle;\n",
       "    }\n",
       "\n",
       "    .dataframe tbody tr th {\n",
       "        vertical-align: top;\n",
       "    }\n",
       "\n",
       "    .dataframe thead th {\n",
       "        text-align: right;\n",
       "    }\n",
       "</style>\n",
       "<table border=\"1\" class=\"dataframe\">\n",
       "  <thead>\n",
       "    <tr style=\"text-align: right;\">\n",
       "      <th></th>\n",
       "      <th>Partner</th>\n",
       "      <th>Month Date</th>\n",
       "      <th>Value in thousand euro</th>\n",
       "      <th>Flow</th>\n",
       "      <th>Quantity in tonnes</th>\n",
       "    </tr>\n",
       "  </thead>\n",
       "  <tbody>\n",
       "    <tr>\n",
       "      <th>0</th>\n",
       "      <td>Denmark</td>\n",
       "      <td>2010-01-01</td>\n",
       "      <td>8271.0</td>\n",
       "      <td>EXPORT</td>\n",
       "      <td>4332245.0</td>\n",
       "    </tr>\n",
       "    <tr>\n",
       "      <th>1</th>\n",
       "      <td>Russian Federation</td>\n",
       "      <td>2010-01-01</td>\n",
       "      <td>5504.0</td>\n",
       "      <td>EXPORT</td>\n",
       "      <td>2008407.0</td>\n",
       "    </tr>\n",
       "    <tr>\n",
       "      <th>2</th>\n",
       "      <td>Morocco</td>\n",
       "      <td>2010-01-01</td>\n",
       "      <td>4296.0</td>\n",
       "      <td>EXPORT</td>\n",
       "      <td>2334257.0</td>\n",
       "    </tr>\n",
       "    <tr>\n",
       "      <th>3</th>\n",
       "      <td>China</td>\n",
       "      <td>2010-01-01</td>\n",
       "      <td>3211.0</td>\n",
       "      <td>EXPORT</td>\n",
       "      <td>1578730.0</td>\n",
       "    </tr>\n",
       "    <tr>\n",
       "      <th>4</th>\n",
       "      <td>Australia</td>\n",
       "      <td>2010-01-01</td>\n",
       "      <td>4608.0</td>\n",
       "      <td>EXPORT</td>\n",
       "      <td>2219114.0</td>\n",
       "    </tr>\n",
       "    <tr>\n",
       "      <th>...</th>\n",
       "      <td>...</td>\n",
       "      <td>...</td>\n",
       "      <td>...</td>\n",
       "      <td>...</td>\n",
       "      <td>...</td>\n",
       "    </tr>\n",
       "    <tr>\n",
       "      <th>16978</th>\n",
       "      <td>Fiji</td>\n",
       "      <td>2022-09-01</td>\n",
       "      <td>0.0</td>\n",
       "      <td>IMPORT</td>\n",
       "      <td>0.0</td>\n",
       "    </tr>\n",
       "    <tr>\n",
       "      <th>16979</th>\n",
       "      <td>France</td>\n",
       "      <td>2022-09-01</td>\n",
       "      <td>0.0</td>\n",
       "      <td>IMPORT</td>\n",
       "      <td>0.0</td>\n",
       "    </tr>\n",
       "    <tr>\n",
       "      <th>16980</th>\n",
       "      <td>New Zealand</td>\n",
       "      <td>2022-09-01</td>\n",
       "      <td>544.0</td>\n",
       "      <td>IMPORT</td>\n",
       "      <td>98542.0</td>\n",
       "    </tr>\n",
       "    <tr>\n",
       "      <th>16981</th>\n",
       "      <td>India</td>\n",
       "      <td>2022-09-01</td>\n",
       "      <td>4.0</td>\n",
       "      <td>IMPORT</td>\n",
       "      <td>750.0</td>\n",
       "    </tr>\n",
       "    <tr>\n",
       "      <th>16982</th>\n",
       "      <td>United States of America</td>\n",
       "      <td>2022-09-01</td>\n",
       "      <td>0.0</td>\n",
       "      <td>IMPORT</td>\n",
       "      <td>0.0</td>\n",
       "    </tr>\n",
       "  </tbody>\n",
       "</table>\n",
       "<p>16983 rows × 5 columns</p>\n",
       "</div>"
      ],
      "text/plain": [
       "                        Partner Month Date  Value in thousand euro    Flow  \\\n",
       "0                       Denmark 2010-01-01                  8271.0  EXPORT   \n",
       "1            Russian Federation 2010-01-01                  5504.0  EXPORT   \n",
       "2                       Morocco 2010-01-01                  4296.0  EXPORT   \n",
       "3                         China 2010-01-01                  3211.0  EXPORT   \n",
       "4                     Australia 2010-01-01                  4608.0  EXPORT   \n",
       "...                         ...        ...                     ...     ...   \n",
       "16978                      Fiji 2022-09-01                     0.0  IMPORT   \n",
       "16979                    France 2022-09-01                     0.0  IMPORT   \n",
       "16980               New Zealand 2022-09-01                   544.0  IMPORT   \n",
       "16981                     India 2022-09-01                     4.0  IMPORT   \n",
       "16982  United States of America 2022-09-01                     0.0  IMPORT   \n",
       "\n",
       "       Quantity in tonnes  \n",
       "0               4332245.0  \n",
       "1               2008407.0  \n",
       "2               2334257.0  \n",
       "3               1578730.0  \n",
       "4               2219114.0  \n",
       "...                   ...  \n",
       "16978                 0.0  \n",
       "16979                 0.0  \n",
       "16980             98542.0  \n",
       "16981               750.0  \n",
       "16982                 0.0  \n",
       "\n",
       "[16983 rows x 5 columns]"
      ]
     },
     "execution_count": 332,
     "metadata": {},
     "output_type": "execute_result"
    }
   ],
   "source": [
    "first_quantity_data = True\n",
    "first_value_data = True\n",
    "\n",
    "partner_column_name = 'Partner'\n",
    "\n",
    "for index in range(len(nz_files)):\n",
    "    #df = pd.read_csv(nz_files[index]['filename'], sep='\\t', lineterminator='\\r')\n",
    "    first_part = True\n",
    "    for i in range(len(nz_files[index]['filenames'])):\n",
    "        df_part = pd.read_csv(nz_files[index]['filenames'][i], sep='\\t', lineterminator='\\r')\n",
    "        key = nz_files[index]['partner_column']\n",
    "        \n",
    "        # Rename the 'Importers' / 'Exporters' column to 'Partner', in line with the EU data \n",
    "        df_part.rename(columns = {key:'Partner'}, inplace = True)\n",
    "        #df_part.columns.values[key] = 'Partner'\n",
    "        \n",
    "        if first_part:\n",
    "            df_parts = df_part\n",
    "            first_part = False\n",
    "        else:\n",
    "            df_parts = df_parts.merge(df_part, on='Partner',how='left', suffixes=('', '_DROP')).filter(regex='^(?!.*_DROP)')\n",
    "            df_parts.drop(df_parts.filter(regex='^Unnamed').columns,axis=1,inplace=True)\n",
    "            df_parts = df_parts[(df_parts['Partner'] != '\\n')]\n",
    "                   \n",
    "    df = df_parts\n",
    "    \n",
    "    # Use lambda function to strip unwanted characters from beginning (lstrip) \n",
    "    # and end (rstrip) of the Importers values\n",
    "    df['Partner'] = df['Partner'].map(lambda x: x.lstrip('\\n\"').rstrip('\"'))\n",
    "    \n",
    "    # Remove the sum row 'World', the last row (blank) and the the last column (blank)\n",
    "    df = df[(df['Partner'] != 'World')]\n",
    "    \n",
    "    # Reshape the data, creating a row for each monthly observation\n",
    "    df = df.melt(id_vars=['Partner'], var_name='Month Date', value_name=nz_files[index]['column_name'])\n",
    "    \n",
    "    # Add a 'Flow' column to indicate IMPORT or EXPORT\n",
    "    df['Flow'] = nz_files[index]['flow']\n",
    "    \n",
    "    \n",
    "    # Use lambda function to strip unwanted text and convert Month Date values to datetime\n",
    "    df['Month Date'] = df['Month Date'].map(lambda x: x.lstrip(nz_files[index]['left_date_text']).rstrip(nz_files[index]['right_date_text']))\n",
    "    df['Month Date'] = df['Month Date'].map(lambda x: datetime.strptime(x, nz_files[index]['date_format']))\n",
    "    \n",
    "    if nz_files[index]['column_name'] == 'Value in thousand euro':\n",
    "        if first_value_data:\n",
    "            df_values = df\n",
    "            first_value_data = False\n",
    "        else:\n",
    "            df_values = pd.concat([df_values,df],ignore_index=True)\n",
    "    else:\n",
    "        if first_quantity_data:\n",
    "            df_quantities = df\n",
    "            first_quantity_data = False\n",
    "        else:\n",
    "            df_quantities = pd.concat([df_quantities,df],ignore_index=True)\n",
    "    \n",
    "    \n",
    "df_nz = pd.merge(df_values,\n",
    "                 df_quantities[['Month Date','Partner','Flow','Quantity in tonnes']],\n",
    "                 on=['Month Date','Partner','Flow'], \n",
    "                 how='left')\n",
    "df_nz"
   ]
  },
  {
   "cell_type": "code",
   "execution_count": 333,
   "id": "45770d54",
   "metadata": {},
   "outputs": [],
   "source": [
    "df_nz['Year'] = pd.DatetimeIndex(df_nz['Month Date']).year\n",
    "df_nz['Month'] = pd.DatetimeIndex(df_nz['Month Date']).month\n",
    "df_nz['Month'] = df_nz['Month'].apply(lambda x: calendar.month_abbr[x])"
   ]
  },
  {
   "cell_type": "code",
   "execution_count": 334,
   "id": "ebf6a502",
   "metadata": {},
   "outputs": [],
   "source": [
    "df_nz.rename(columns = {\n",
    "                        'Quantity in tonnes':'Quantity (tonnes)',\n",
    "                        'Value in thousand euro':'Value (k Euro)'\n",
    "                       }, inplace = True)\n",
    "df_nz['Quantity (tonnes)'] = df_nz['Quantity (tonnes)'] / 1000"
   ]
  },
  {
   "cell_type": "code",
   "execution_count": 335,
   "id": "5ef5974b",
   "metadata": {},
   "outputs": [],
   "source": [
    "df_nz['Country'] = 'New Zealand'"
   ]
  },
  {
   "cell_type": "code",
   "execution_count": 336,
   "id": "cb3d2331",
   "metadata": {},
   "outputs": [
    {
     "data": {
      "text/html": [
       "<div>\n",
       "<style scoped>\n",
       "    .dataframe tbody tr th:only-of-type {\n",
       "        vertical-align: middle;\n",
       "    }\n",
       "\n",
       "    .dataframe tbody tr th {\n",
       "        vertical-align: top;\n",
       "    }\n",
       "\n",
       "    .dataframe thead th {\n",
       "        text-align: right;\n",
       "    }\n",
       "</style>\n",
       "<table border=\"1\" class=\"dataframe\">\n",
       "  <thead>\n",
       "    <tr style=\"text-align: right;\">\n",
       "      <th></th>\n",
       "      <th>Partner</th>\n",
       "      <th>Month Date</th>\n",
       "      <th>Value (k Euro)</th>\n",
       "      <th>Flow</th>\n",
       "      <th>Quantity (tonnes)</th>\n",
       "      <th>Year</th>\n",
       "      <th>Month</th>\n",
       "      <th>Country</th>\n",
       "    </tr>\n",
       "  </thead>\n",
       "  <tbody>\n",
       "    <tr>\n",
       "      <th>0</th>\n",
       "      <td>Denmark</td>\n",
       "      <td>2010-01-01</td>\n",
       "      <td>8271.0</td>\n",
       "      <td>EXPORT</td>\n",
       "      <td>4332.245</td>\n",
       "      <td>2010</td>\n",
       "      <td>Jan</td>\n",
       "      <td>New Zealand</td>\n",
       "    </tr>\n",
       "    <tr>\n",
       "      <th>1</th>\n",
       "      <td>Russian Federation</td>\n",
       "      <td>2010-01-01</td>\n",
       "      <td>5504.0</td>\n",
       "      <td>EXPORT</td>\n",
       "      <td>2008.407</td>\n",
       "      <td>2010</td>\n",
       "      <td>Jan</td>\n",
       "      <td>New Zealand</td>\n",
       "    </tr>\n",
       "    <tr>\n",
       "      <th>2</th>\n",
       "      <td>Morocco</td>\n",
       "      <td>2010-01-01</td>\n",
       "      <td>4296.0</td>\n",
       "      <td>EXPORT</td>\n",
       "      <td>2334.257</td>\n",
       "      <td>2010</td>\n",
       "      <td>Jan</td>\n",
       "      <td>New Zealand</td>\n",
       "    </tr>\n",
       "    <tr>\n",
       "      <th>3</th>\n",
       "      <td>China</td>\n",
       "      <td>2010-01-01</td>\n",
       "      <td>3211.0</td>\n",
       "      <td>EXPORT</td>\n",
       "      <td>1578.730</td>\n",
       "      <td>2010</td>\n",
       "      <td>Jan</td>\n",
       "      <td>New Zealand</td>\n",
       "    </tr>\n",
       "    <tr>\n",
       "      <th>4</th>\n",
       "      <td>Australia</td>\n",
       "      <td>2010-01-01</td>\n",
       "      <td>4608.0</td>\n",
       "      <td>EXPORT</td>\n",
       "      <td>2219.114</td>\n",
       "      <td>2010</td>\n",
       "      <td>Jan</td>\n",
       "      <td>New Zealand</td>\n",
       "    </tr>\n",
       "    <tr>\n",
       "      <th>...</th>\n",
       "      <td>...</td>\n",
       "      <td>...</td>\n",
       "      <td>...</td>\n",
       "      <td>...</td>\n",
       "      <td>...</td>\n",
       "      <td>...</td>\n",
       "      <td>...</td>\n",
       "      <td>...</td>\n",
       "    </tr>\n",
       "    <tr>\n",
       "      <th>16978</th>\n",
       "      <td>Fiji</td>\n",
       "      <td>2022-09-01</td>\n",
       "      <td>0.0</td>\n",
       "      <td>IMPORT</td>\n",
       "      <td>0.000</td>\n",
       "      <td>2022</td>\n",
       "      <td>Sep</td>\n",
       "      <td>New Zealand</td>\n",
       "    </tr>\n",
       "    <tr>\n",
       "      <th>16979</th>\n",
       "      <td>France</td>\n",
       "      <td>2022-09-01</td>\n",
       "      <td>0.0</td>\n",
       "      <td>IMPORT</td>\n",
       "      <td>0.000</td>\n",
       "      <td>2022</td>\n",
       "      <td>Sep</td>\n",
       "      <td>New Zealand</td>\n",
       "    </tr>\n",
       "    <tr>\n",
       "      <th>16980</th>\n",
       "      <td>New Zealand</td>\n",
       "      <td>2022-09-01</td>\n",
       "      <td>544.0</td>\n",
       "      <td>IMPORT</td>\n",
       "      <td>98.542</td>\n",
       "      <td>2022</td>\n",
       "      <td>Sep</td>\n",
       "      <td>New Zealand</td>\n",
       "    </tr>\n",
       "    <tr>\n",
       "      <th>16981</th>\n",
       "      <td>India</td>\n",
       "      <td>2022-09-01</td>\n",
       "      <td>4.0</td>\n",
       "      <td>IMPORT</td>\n",
       "      <td>0.750</td>\n",
       "      <td>2022</td>\n",
       "      <td>Sep</td>\n",
       "      <td>New Zealand</td>\n",
       "    </tr>\n",
       "    <tr>\n",
       "      <th>16982</th>\n",
       "      <td>United States of America</td>\n",
       "      <td>2022-09-01</td>\n",
       "      <td>0.0</td>\n",
       "      <td>IMPORT</td>\n",
       "      <td>0.000</td>\n",
       "      <td>2022</td>\n",
       "      <td>Sep</td>\n",
       "      <td>New Zealand</td>\n",
       "    </tr>\n",
       "  </tbody>\n",
       "</table>\n",
       "<p>16983 rows × 8 columns</p>\n",
       "</div>"
      ],
      "text/plain": [
       "                        Partner Month Date  Value (k Euro)    Flow  \\\n",
       "0                       Denmark 2010-01-01          8271.0  EXPORT   \n",
       "1            Russian Federation 2010-01-01          5504.0  EXPORT   \n",
       "2                       Morocco 2010-01-01          4296.0  EXPORT   \n",
       "3                         China 2010-01-01          3211.0  EXPORT   \n",
       "4                     Australia 2010-01-01          4608.0  EXPORT   \n",
       "...                         ...        ...             ...     ...   \n",
       "16978                      Fiji 2022-09-01             0.0  IMPORT   \n",
       "16979                    France 2022-09-01             0.0  IMPORT   \n",
       "16980               New Zealand 2022-09-01           544.0  IMPORT   \n",
       "16981                     India 2022-09-01             4.0  IMPORT   \n",
       "16982  United States of America 2022-09-01             0.0  IMPORT   \n",
       "\n",
       "       Quantity (tonnes)  Year Month      Country  \n",
       "0               4332.245  2010   Jan  New Zealand  \n",
       "1               2008.407  2010   Jan  New Zealand  \n",
       "2               2334.257  2010   Jan  New Zealand  \n",
       "3               1578.730  2010   Jan  New Zealand  \n",
       "4               2219.114  2010   Jan  New Zealand  \n",
       "...                  ...   ...   ...          ...  \n",
       "16978              0.000  2022   Sep  New Zealand  \n",
       "16979              0.000  2022   Sep  New Zealand  \n",
       "16980             98.542  2022   Sep  New Zealand  \n",
       "16981              0.750  2022   Sep  New Zealand  \n",
       "16982              0.000  2022   Sep  New Zealand  \n",
       "\n",
       "[16983 rows x 8 columns]"
      ]
     },
     "execution_count": 336,
     "metadata": {},
     "output_type": "execute_result"
    }
   ],
   "source": [
    "df_nz"
   ]
  },
  {
   "cell_type": "markdown",
   "id": "71311f2b",
   "metadata": {},
   "source": [
    "## 1.3 Combine Data\n"
   ]
  },
  {
   "cell_type": "code",
   "execution_count": 337,
   "id": "5ce92dcd",
   "metadata": {},
   "outputs": [],
   "source": [
    "df_eu.drop(columns='Product',axis=1,inplace=True)\n",
    "\n",
    "df_eu = df_eu.groupby(['Country','Flow','Partner','Month Date','Month','Year']).sum().reset_index()"
   ]
  },
  {
   "cell_type": "code",
   "execution_count": 338,
   "id": "b433ae92",
   "metadata": {},
   "outputs": [
    {
     "data": {
      "text/html": [
       "<div>\n",
       "<style scoped>\n",
       "    .dataframe tbody tr th:only-of-type {\n",
       "        vertical-align: middle;\n",
       "    }\n",
       "\n",
       "    .dataframe tbody tr th {\n",
       "        vertical-align: top;\n",
       "    }\n",
       "\n",
       "    .dataframe thead th {\n",
       "        text-align: right;\n",
       "    }\n",
       "</style>\n",
       "<table border=\"1\" class=\"dataframe\">\n",
       "  <thead>\n",
       "    <tr style=\"text-align: right;\">\n",
       "      <th></th>\n",
       "      <th>Country</th>\n",
       "      <th>Flow</th>\n",
       "      <th>Partner</th>\n",
       "      <th>Month Date</th>\n",
       "      <th>Month</th>\n",
       "      <th>Year</th>\n",
       "      <th>Quantity (tonnes)</th>\n",
       "      <th>Value (k Euro)</th>\n",
       "    </tr>\n",
       "  </thead>\n",
       "  <tbody>\n",
       "    <tr>\n",
       "      <th>0</th>\n",
       "      <td>Austria</td>\n",
       "      <td>EXPORT</td>\n",
       "      <td>Azerbaijan</td>\n",
       "      <td>2016-08-01</td>\n",
       "      <td>Aug</td>\n",
       "      <td>2016</td>\n",
       "      <td>7.376</td>\n",
       "      <td>27.301</td>\n",
       "    </tr>\n",
       "    <tr>\n",
       "      <th>1</th>\n",
       "      <td>Austria</td>\n",
       "      <td>EXPORT</td>\n",
       "      <td>Bahrain</td>\n",
       "      <td>2011-01-01</td>\n",
       "      <td>Jan</td>\n",
       "      <td>2011</td>\n",
       "      <td>0.043</td>\n",
       "      <td>0.100</td>\n",
       "    </tr>\n",
       "    <tr>\n",
       "      <th>2</th>\n",
       "      <td>Austria</td>\n",
       "      <td>EXPORT</td>\n",
       "      <td>Bosnia and Herzegovina</td>\n",
       "      <td>2021-09-01</td>\n",
       "      <td>Sep</td>\n",
       "      <td>2021</td>\n",
       "      <td>0.001</td>\n",
       "      <td>0.003</td>\n",
       "    </tr>\n",
       "  </tbody>\n",
       "</table>\n",
       "</div>"
      ],
      "text/plain": [
       "   Country    Flow                 Partner Month Date Month  Year  \\\n",
       "0  Austria  EXPORT              Azerbaijan 2016-08-01   Aug  2016   \n",
       "1  Austria  EXPORT                 Bahrain 2011-01-01   Jan  2011   \n",
       "2  Austria  EXPORT  Bosnia and Herzegovina 2021-09-01   Sep  2021   \n",
       "\n",
       "   Quantity (tonnes)  Value (k Euro)  \n",
       "0              7.376          27.301  \n",
       "1              0.043           0.100  \n",
       "2              0.001           0.003  "
      ]
     },
     "execution_count": 338,
     "metadata": {},
     "output_type": "execute_result"
    }
   ],
   "source": [
    "df_eu.head(3)"
   ]
  },
  {
   "cell_type": "code",
   "execution_count": null,
   "id": "0e0478ad",
   "metadata": {},
   "outputs": [],
   "source": []
  },
  {
   "cell_type": "code",
   "execution_count": 339,
   "id": "3e24b690",
   "metadata": {},
   "outputs": [],
   "source": [
    "df_nz = df_nz[['Country','Flow','Partner','Month Date','Month','Year','Quantity (tonnes)','Value (k Euro)']]"
   ]
  },
  {
   "cell_type": "code",
   "execution_count": 340,
   "id": "badad1d2",
   "metadata": {},
   "outputs": [
    {
     "data": {
      "text/html": [
       "<div>\n",
       "<style scoped>\n",
       "    .dataframe tbody tr th:only-of-type {\n",
       "        vertical-align: middle;\n",
       "    }\n",
       "\n",
       "    .dataframe tbody tr th {\n",
       "        vertical-align: top;\n",
       "    }\n",
       "\n",
       "    .dataframe thead th {\n",
       "        text-align: right;\n",
       "    }\n",
       "</style>\n",
       "<table border=\"1\" class=\"dataframe\">\n",
       "  <thead>\n",
       "    <tr style=\"text-align: right;\">\n",
       "      <th></th>\n",
       "      <th>Country</th>\n",
       "      <th>Flow</th>\n",
       "      <th>Partner</th>\n",
       "      <th>Month Date</th>\n",
       "      <th>Month</th>\n",
       "      <th>Year</th>\n",
       "      <th>Quantity (tonnes)</th>\n",
       "      <th>Value (k Euro)</th>\n",
       "    </tr>\n",
       "  </thead>\n",
       "  <tbody>\n",
       "    <tr>\n",
       "      <th>0</th>\n",
       "      <td>New Zealand</td>\n",
       "      <td>EXPORT</td>\n",
       "      <td>Denmark</td>\n",
       "      <td>2010-01-01</td>\n",
       "      <td>Jan</td>\n",
       "      <td>2010</td>\n",
       "      <td>4332.245</td>\n",
       "      <td>8271.0</td>\n",
       "    </tr>\n",
       "    <tr>\n",
       "      <th>1</th>\n",
       "      <td>New Zealand</td>\n",
       "      <td>EXPORT</td>\n",
       "      <td>Russian Federation</td>\n",
       "      <td>2010-01-01</td>\n",
       "      <td>Jan</td>\n",
       "      <td>2010</td>\n",
       "      <td>2008.407</td>\n",
       "      <td>5504.0</td>\n",
       "    </tr>\n",
       "    <tr>\n",
       "      <th>2</th>\n",
       "      <td>New Zealand</td>\n",
       "      <td>EXPORT</td>\n",
       "      <td>Morocco</td>\n",
       "      <td>2010-01-01</td>\n",
       "      <td>Jan</td>\n",
       "      <td>2010</td>\n",
       "      <td>2334.257</td>\n",
       "      <td>4296.0</td>\n",
       "    </tr>\n",
       "  </tbody>\n",
       "</table>\n",
       "</div>"
      ],
      "text/plain": [
       "       Country    Flow             Partner Month Date Month  Year  \\\n",
       "0  New Zealand  EXPORT             Denmark 2010-01-01   Jan  2010   \n",
       "1  New Zealand  EXPORT  Russian Federation 2010-01-01   Jan  2010   \n",
       "2  New Zealand  EXPORT             Morocco 2010-01-01   Jan  2010   \n",
       "\n",
       "   Quantity (tonnes)  Value (k Euro)  \n",
       "0           4332.245          8271.0  \n",
       "1           2008.407          5504.0  \n",
       "2           2334.257          4296.0  "
      ]
     },
     "execution_count": 340,
     "metadata": {},
     "output_type": "execute_result"
    }
   ],
   "source": [
    "df_nz.head(3)"
   ]
  },
  {
   "cell_type": "code",
   "execution_count": 341,
   "id": "b2d84da8",
   "metadata": {},
   "outputs": [],
   "source": [
    "pd.set_option('display.max_rows', 20)           "
   ]
  },
  {
   "cell_type": "code",
   "execution_count": 342,
   "id": "fa5593df",
   "metadata": {},
   "outputs": [],
   "source": [
    "df_eu_nz = pd.concat([df_eu,df_nz],ignore_index=True)"
   ]
  },
  {
   "cell_type": "code",
   "execution_count": 343,
   "id": "620b0f86",
   "metadata": {},
   "outputs": [
    {
     "data": {
      "text/html": [
       "<div>\n",
       "<style scoped>\n",
       "    .dataframe tbody tr th:only-of-type {\n",
       "        vertical-align: middle;\n",
       "    }\n",
       "\n",
       "    .dataframe tbody tr th {\n",
       "        vertical-align: top;\n",
       "    }\n",
       "\n",
       "    .dataframe thead th {\n",
       "        text-align: right;\n",
       "    }\n",
       "</style>\n",
       "<table border=\"1\" class=\"dataframe\">\n",
       "  <thead>\n",
       "    <tr style=\"text-align: right;\">\n",
       "      <th></th>\n",
       "      <th>Country</th>\n",
       "      <th>Flow</th>\n",
       "      <th>Partner</th>\n",
       "      <th>Month Date</th>\n",
       "      <th>Month</th>\n",
       "      <th>Year</th>\n",
       "      <th>Quantity (tonnes)</th>\n",
       "      <th>Value (k Euro)</th>\n",
       "    </tr>\n",
       "  </thead>\n",
       "  <tbody>\n",
       "    <tr>\n",
       "      <th>0</th>\n",
       "      <td>Austria</td>\n",
       "      <td>EXPORT</td>\n",
       "      <td>Azerbaijan</td>\n",
       "      <td>2016-08-01</td>\n",
       "      <td>Aug</td>\n",
       "      <td>2016</td>\n",
       "      <td>7.376</td>\n",
       "      <td>27.301</td>\n",
       "    </tr>\n",
       "    <tr>\n",
       "      <th>1</th>\n",
       "      <td>Austria</td>\n",
       "      <td>EXPORT</td>\n",
       "      <td>Bahrain</td>\n",
       "      <td>2011-01-01</td>\n",
       "      <td>Jan</td>\n",
       "      <td>2011</td>\n",
       "      <td>0.043</td>\n",
       "      <td>0.100</td>\n",
       "    </tr>\n",
       "    <tr>\n",
       "      <th>2</th>\n",
       "      <td>Austria</td>\n",
       "      <td>EXPORT</td>\n",
       "      <td>Bosnia and Herzegovina</td>\n",
       "      <td>2021-09-01</td>\n",
       "      <td>Sep</td>\n",
       "      <td>2021</td>\n",
       "      <td>0.001</td>\n",
       "      <td>0.003</td>\n",
       "    </tr>\n",
       "    <tr>\n",
       "      <th>3</th>\n",
       "      <td>Austria</td>\n",
       "      <td>EXPORT</td>\n",
       "      <td>Canada</td>\n",
       "      <td>2020-11-01</td>\n",
       "      <td>Nov</td>\n",
       "      <td>2020</td>\n",
       "      <td>0.000</td>\n",
       "      <td>0.017</td>\n",
       "    </tr>\n",
       "    <tr>\n",
       "      <th>4</th>\n",
       "      <td>Austria</td>\n",
       "      <td>EXPORT</td>\n",
       "      <td>China</td>\n",
       "      <td>2013-11-01</td>\n",
       "      <td>Nov</td>\n",
       "      <td>2013</td>\n",
       "      <td>2.000</td>\n",
       "      <td>13.900</td>\n",
       "    </tr>\n",
       "    <tr>\n",
       "      <th>...</th>\n",
       "      <td>...</td>\n",
       "      <td>...</td>\n",
       "      <td>...</td>\n",
       "      <td>...</td>\n",
       "      <td>...</td>\n",
       "      <td>...</td>\n",
       "      <td>...</td>\n",
       "      <td>...</td>\n",
       "    </tr>\n",
       "    <tr>\n",
       "      <th>69078</th>\n",
       "      <td>New Zealand</td>\n",
       "      <td>IMPORT</td>\n",
       "      <td>Fiji</td>\n",
       "      <td>2022-09-01</td>\n",
       "      <td>Sep</td>\n",
       "      <td>2022</td>\n",
       "      <td>0.000</td>\n",
       "      <td>0.000</td>\n",
       "    </tr>\n",
       "    <tr>\n",
       "      <th>69079</th>\n",
       "      <td>New Zealand</td>\n",
       "      <td>IMPORT</td>\n",
       "      <td>France</td>\n",
       "      <td>2022-09-01</td>\n",
       "      <td>Sep</td>\n",
       "      <td>2022</td>\n",
       "      <td>0.000</td>\n",
       "      <td>0.000</td>\n",
       "    </tr>\n",
       "    <tr>\n",
       "      <th>69080</th>\n",
       "      <td>New Zealand</td>\n",
       "      <td>IMPORT</td>\n",
       "      <td>New Zealand</td>\n",
       "      <td>2022-09-01</td>\n",
       "      <td>Sep</td>\n",
       "      <td>2022</td>\n",
       "      <td>98.542</td>\n",
       "      <td>544.000</td>\n",
       "    </tr>\n",
       "    <tr>\n",
       "      <th>69081</th>\n",
       "      <td>New Zealand</td>\n",
       "      <td>IMPORT</td>\n",
       "      <td>India</td>\n",
       "      <td>2022-09-01</td>\n",
       "      <td>Sep</td>\n",
       "      <td>2022</td>\n",
       "      <td>0.750</td>\n",
       "      <td>4.000</td>\n",
       "    </tr>\n",
       "    <tr>\n",
       "      <th>69082</th>\n",
       "      <td>New Zealand</td>\n",
       "      <td>IMPORT</td>\n",
       "      <td>United States of America</td>\n",
       "      <td>2022-09-01</td>\n",
       "      <td>Sep</td>\n",
       "      <td>2022</td>\n",
       "      <td>0.000</td>\n",
       "      <td>0.000</td>\n",
       "    </tr>\n",
       "  </tbody>\n",
       "</table>\n",
       "<p>69083 rows × 8 columns</p>\n",
       "</div>"
      ],
      "text/plain": [
       "           Country    Flow                   Partner Month Date Month  Year  \\\n",
       "0          Austria  EXPORT                Azerbaijan 2016-08-01   Aug  2016   \n",
       "1          Austria  EXPORT                   Bahrain 2011-01-01   Jan  2011   \n",
       "2          Austria  EXPORT    Bosnia and Herzegovina 2021-09-01   Sep  2021   \n",
       "3          Austria  EXPORT                    Canada 2020-11-01   Nov  2020   \n",
       "4          Austria  EXPORT                     China 2013-11-01   Nov  2013   \n",
       "...            ...     ...                       ...        ...   ...   ...   \n",
       "69078  New Zealand  IMPORT                      Fiji 2022-09-01   Sep  2022   \n",
       "69079  New Zealand  IMPORT                    France 2022-09-01   Sep  2022   \n",
       "69080  New Zealand  IMPORT               New Zealand 2022-09-01   Sep  2022   \n",
       "69081  New Zealand  IMPORT                     India 2022-09-01   Sep  2022   \n",
       "69082  New Zealand  IMPORT  United States of America 2022-09-01   Sep  2022   \n",
       "\n",
       "       Quantity (tonnes)  Value (k Euro)  \n",
       "0                  7.376          27.301  \n",
       "1                  0.043           0.100  \n",
       "2                  0.001           0.003  \n",
       "3                  0.000           0.017  \n",
       "4                  2.000          13.900  \n",
       "...                  ...             ...  \n",
       "69078              0.000           0.000  \n",
       "69079              0.000           0.000  \n",
       "69080             98.542         544.000  \n",
       "69081              0.750           4.000  \n",
       "69082              0.000           0.000  \n",
       "\n",
       "[69083 rows x 8 columns]"
      ]
     },
     "execution_count": 343,
     "metadata": {},
     "output_type": "execute_result"
    }
   ],
   "source": [
    "df_eu_nz"
   ]
  },
  {
   "cell_type": "code",
   "execution_count": null,
   "id": "b80623ec",
   "metadata": {},
   "outputs": [],
   "source": []
  },
  {
   "cell_type": "code",
   "execution_count": null,
   "id": "3e69e214",
   "metadata": {},
   "outputs": [],
   "source": []
  },
  {
   "cell_type": "code",
   "execution_count": null,
   "id": "46656579",
   "metadata": {},
   "outputs": [],
   "source": []
  },
  {
   "cell_type": "code",
   "execution_count": 344,
   "id": "edd22af1",
   "metadata": {},
   "outputs": [
    {
     "data": {
      "text/html": [
       "<div>\n",
       "<style scoped>\n",
       "    .dataframe tbody tr th:only-of-type {\n",
       "        vertical-align: middle;\n",
       "    }\n",
       "\n",
       "    .dataframe tbody tr th {\n",
       "        vertical-align: top;\n",
       "    }\n",
       "\n",
       "    .dataframe thead th {\n",
       "        text-align: right;\n",
       "    }\n",
       "</style>\n",
       "<table border=\"1\" class=\"dataframe\">\n",
       "  <thead>\n",
       "    <tr style=\"text-align: right;\">\n",
       "      <th></th>\n",
       "      <th>Country</th>\n",
       "      <th>Flow</th>\n",
       "      <th>Partner</th>\n",
       "      <th>Month Date</th>\n",
       "      <th>Month</th>\n",
       "      <th>Year</th>\n",
       "      <th>Quantity (tonnes)</th>\n",
       "      <th>Value (k Euro)</th>\n",
       "    </tr>\n",
       "  </thead>\n",
       "  <tbody>\n",
       "    <tr>\n",
       "      <th>68012</th>\n",
       "      <td>New Zealand</td>\n",
       "      <td>IMPORT</td>\n",
       "      <td>Australia</td>\n",
       "      <td>2010-01-01</td>\n",
       "      <td>Jan</td>\n",
       "      <td>2010</td>\n",
       "      <td>12.596</td>\n",
       "      <td>53.0</td>\n",
       "    </tr>\n",
       "    <tr>\n",
       "      <th>68013</th>\n",
       "      <td>New Zealand</td>\n",
       "      <td>IMPORT</td>\n",
       "      <td>Denmark</td>\n",
       "      <td>2010-01-01</td>\n",
       "      <td>Jan</td>\n",
       "      <td>2010</td>\n",
       "      <td>7.024</td>\n",
       "      <td>32.0</td>\n",
       "    </tr>\n",
       "    <tr>\n",
       "      <th>68014</th>\n",
       "      <td>New Zealand</td>\n",
       "      <td>IMPORT</td>\n",
       "      <td>Fiji</td>\n",
       "      <td>2010-01-01</td>\n",
       "      <td>Jan</td>\n",
       "      <td>2010</td>\n",
       "      <td>0.000</td>\n",
       "      <td>0.0</td>\n",
       "    </tr>\n",
       "    <tr>\n",
       "      <th>68015</th>\n",
       "      <td>New Zealand</td>\n",
       "      <td>IMPORT</td>\n",
       "      <td>France</td>\n",
       "      <td>2010-01-01</td>\n",
       "      <td>Jan</td>\n",
       "      <td>2010</td>\n",
       "      <td>0.046</td>\n",
       "      <td>0.0</td>\n",
       "    </tr>\n",
       "    <tr>\n",
       "      <th>68016</th>\n",
       "      <td>New Zealand</td>\n",
       "      <td>IMPORT</td>\n",
       "      <td>New Zealand</td>\n",
       "      <td>2010-01-01</td>\n",
       "      <td>Jan</td>\n",
       "      <td>2010</td>\n",
       "      <td>0.000</td>\n",
       "      <td>0.0</td>\n",
       "    </tr>\n",
       "    <tr>\n",
       "      <th>...</th>\n",
       "      <td>...</td>\n",
       "      <td>...</td>\n",
       "      <td>...</td>\n",
       "      <td>...</td>\n",
       "      <td>...</td>\n",
       "      <td>...</td>\n",
       "      <td>...</td>\n",
       "      <td>...</td>\n",
       "    </tr>\n",
       "    <tr>\n",
       "      <th>69078</th>\n",
       "      <td>New Zealand</td>\n",
       "      <td>IMPORT</td>\n",
       "      <td>Fiji</td>\n",
       "      <td>2022-09-01</td>\n",
       "      <td>Sep</td>\n",
       "      <td>2022</td>\n",
       "      <td>0.000</td>\n",
       "      <td>0.0</td>\n",
       "    </tr>\n",
       "    <tr>\n",
       "      <th>69079</th>\n",
       "      <td>New Zealand</td>\n",
       "      <td>IMPORT</td>\n",
       "      <td>France</td>\n",
       "      <td>2022-09-01</td>\n",
       "      <td>Sep</td>\n",
       "      <td>2022</td>\n",
       "      <td>0.000</td>\n",
       "      <td>0.0</td>\n",
       "    </tr>\n",
       "    <tr>\n",
       "      <th>69080</th>\n",
       "      <td>New Zealand</td>\n",
       "      <td>IMPORT</td>\n",
       "      <td>New Zealand</td>\n",
       "      <td>2022-09-01</td>\n",
       "      <td>Sep</td>\n",
       "      <td>2022</td>\n",
       "      <td>98.542</td>\n",
       "      <td>544.0</td>\n",
       "    </tr>\n",
       "    <tr>\n",
       "      <th>69081</th>\n",
       "      <td>New Zealand</td>\n",
       "      <td>IMPORT</td>\n",
       "      <td>India</td>\n",
       "      <td>2022-09-01</td>\n",
       "      <td>Sep</td>\n",
       "      <td>2022</td>\n",
       "      <td>0.750</td>\n",
       "      <td>4.0</td>\n",
       "    </tr>\n",
       "    <tr>\n",
       "      <th>69082</th>\n",
       "      <td>New Zealand</td>\n",
       "      <td>IMPORT</td>\n",
       "      <td>United States of America</td>\n",
       "      <td>2022-09-01</td>\n",
       "      <td>Sep</td>\n",
       "      <td>2022</td>\n",
       "      <td>0.000</td>\n",
       "      <td>0.0</td>\n",
       "    </tr>\n",
       "  </tbody>\n",
       "</table>\n",
       "<p>1071 rows × 8 columns</p>\n",
       "</div>"
      ],
      "text/plain": [
       "           Country    Flow                   Partner Month Date Month  Year  \\\n",
       "68012  New Zealand  IMPORT                 Australia 2010-01-01   Jan  2010   \n",
       "68013  New Zealand  IMPORT                   Denmark 2010-01-01   Jan  2010   \n",
       "68014  New Zealand  IMPORT                      Fiji 2010-01-01   Jan  2010   \n",
       "68015  New Zealand  IMPORT                    France 2010-01-01   Jan  2010   \n",
       "68016  New Zealand  IMPORT               New Zealand 2010-01-01   Jan  2010   \n",
       "...            ...     ...                       ...        ...   ...   ...   \n",
       "69078  New Zealand  IMPORT                      Fiji 2022-09-01   Sep  2022   \n",
       "69079  New Zealand  IMPORT                    France 2022-09-01   Sep  2022   \n",
       "69080  New Zealand  IMPORT               New Zealand 2022-09-01   Sep  2022   \n",
       "69081  New Zealand  IMPORT                     India 2022-09-01   Sep  2022   \n",
       "69082  New Zealand  IMPORT  United States of America 2022-09-01   Sep  2022   \n",
       "\n",
       "       Quantity (tonnes)  Value (k Euro)  \n",
       "68012             12.596            53.0  \n",
       "68013              7.024            32.0  \n",
       "68014              0.000             0.0  \n",
       "68015              0.046             0.0  \n",
       "68016              0.000             0.0  \n",
       "...                  ...             ...  \n",
       "69078              0.000             0.0  \n",
       "69079              0.000             0.0  \n",
       "69080             98.542           544.0  \n",
       "69081              0.750             4.0  \n",
       "69082              0.000             0.0  \n",
       "\n",
       "[1071 rows x 8 columns]"
      ]
     },
     "execution_count": 344,
     "metadata": {},
     "output_type": "execute_result"
    }
   ],
   "source": [
    "df_eu_nz[(df_eu_nz['Flow']=='IMPORT')]"
   ]
  },
  {
   "cell_type": "code",
   "execution_count": 345,
   "id": "fd164c44",
   "metadata": {},
   "outputs": [
    {
     "data": {
      "text/html": [
       "<div>\n",
       "<style scoped>\n",
       "    .dataframe tbody tr th:only-of-type {\n",
       "        vertical-align: middle;\n",
       "    }\n",
       "\n",
       "    .dataframe tbody tr th {\n",
       "        vertical-align: top;\n",
       "    }\n",
       "\n",
       "    .dataframe thead th {\n",
       "        text-align: right;\n",
       "    }\n",
       "</style>\n",
       "<table border=\"1\" class=\"dataframe\">\n",
       "  <thead>\n",
       "    <tr style=\"text-align: right;\">\n",
       "      <th></th>\n",
       "      <th>Country</th>\n",
       "      <th>Flow</th>\n",
       "      <th>Partner</th>\n",
       "      <th>Month Date</th>\n",
       "      <th>Month</th>\n",
       "      <th>Year</th>\n",
       "      <th>Quantity (tonnes)</th>\n",
       "      <th>Value (k Euro)</th>\n",
       "    </tr>\n",
       "  </thead>\n",
       "  <tbody>\n",
       "    <tr>\n",
       "      <th>15912</th>\n",
       "      <td>New Zealand</td>\n",
       "      <td>IMPORT</td>\n",
       "      <td>Australia</td>\n",
       "      <td>2010-01-01</td>\n",
       "      <td>Jan</td>\n",
       "      <td>2010</td>\n",
       "      <td>12.596</td>\n",
       "      <td>53.0</td>\n",
       "    </tr>\n",
       "    <tr>\n",
       "      <th>15913</th>\n",
       "      <td>New Zealand</td>\n",
       "      <td>IMPORT</td>\n",
       "      <td>Denmark</td>\n",
       "      <td>2010-01-01</td>\n",
       "      <td>Jan</td>\n",
       "      <td>2010</td>\n",
       "      <td>7.024</td>\n",
       "      <td>32.0</td>\n",
       "    </tr>\n",
       "    <tr>\n",
       "      <th>15914</th>\n",
       "      <td>New Zealand</td>\n",
       "      <td>IMPORT</td>\n",
       "      <td>Fiji</td>\n",
       "      <td>2010-01-01</td>\n",
       "      <td>Jan</td>\n",
       "      <td>2010</td>\n",
       "      <td>0.000</td>\n",
       "      <td>0.0</td>\n",
       "    </tr>\n",
       "    <tr>\n",
       "      <th>15915</th>\n",
       "      <td>New Zealand</td>\n",
       "      <td>IMPORT</td>\n",
       "      <td>France</td>\n",
       "      <td>2010-01-01</td>\n",
       "      <td>Jan</td>\n",
       "      <td>2010</td>\n",
       "      <td>0.046</td>\n",
       "      <td>0.0</td>\n",
       "    </tr>\n",
       "    <tr>\n",
       "      <th>15916</th>\n",
       "      <td>New Zealand</td>\n",
       "      <td>IMPORT</td>\n",
       "      <td>New Zealand</td>\n",
       "      <td>2010-01-01</td>\n",
       "      <td>Jan</td>\n",
       "      <td>2010</td>\n",
       "      <td>0.000</td>\n",
       "      <td>0.0</td>\n",
       "    </tr>\n",
       "    <tr>\n",
       "      <th>...</th>\n",
       "      <td>...</td>\n",
       "      <td>...</td>\n",
       "      <td>...</td>\n",
       "      <td>...</td>\n",
       "      <td>...</td>\n",
       "      <td>...</td>\n",
       "      <td>...</td>\n",
       "      <td>...</td>\n",
       "    </tr>\n",
       "    <tr>\n",
       "      <th>16978</th>\n",
       "      <td>New Zealand</td>\n",
       "      <td>IMPORT</td>\n",
       "      <td>Fiji</td>\n",
       "      <td>2022-09-01</td>\n",
       "      <td>Sep</td>\n",
       "      <td>2022</td>\n",
       "      <td>0.000</td>\n",
       "      <td>0.0</td>\n",
       "    </tr>\n",
       "    <tr>\n",
       "      <th>16979</th>\n",
       "      <td>New Zealand</td>\n",
       "      <td>IMPORT</td>\n",
       "      <td>France</td>\n",
       "      <td>2022-09-01</td>\n",
       "      <td>Sep</td>\n",
       "      <td>2022</td>\n",
       "      <td>0.000</td>\n",
       "      <td>0.0</td>\n",
       "    </tr>\n",
       "    <tr>\n",
       "      <th>16980</th>\n",
       "      <td>New Zealand</td>\n",
       "      <td>IMPORT</td>\n",
       "      <td>New Zealand</td>\n",
       "      <td>2022-09-01</td>\n",
       "      <td>Sep</td>\n",
       "      <td>2022</td>\n",
       "      <td>98.542</td>\n",
       "      <td>544.0</td>\n",
       "    </tr>\n",
       "    <tr>\n",
       "      <th>16981</th>\n",
       "      <td>New Zealand</td>\n",
       "      <td>IMPORT</td>\n",
       "      <td>India</td>\n",
       "      <td>2022-09-01</td>\n",
       "      <td>Sep</td>\n",
       "      <td>2022</td>\n",
       "      <td>0.750</td>\n",
       "      <td>4.0</td>\n",
       "    </tr>\n",
       "    <tr>\n",
       "      <th>16982</th>\n",
       "      <td>New Zealand</td>\n",
       "      <td>IMPORT</td>\n",
       "      <td>United States of America</td>\n",
       "      <td>2022-09-01</td>\n",
       "      <td>Sep</td>\n",
       "      <td>2022</td>\n",
       "      <td>0.000</td>\n",
       "      <td>0.0</td>\n",
       "    </tr>\n",
       "  </tbody>\n",
       "</table>\n",
       "<p>1071 rows × 8 columns</p>\n",
       "</div>"
      ],
      "text/plain": [
       "           Country    Flow                   Partner Month Date Month  Year  \\\n",
       "15912  New Zealand  IMPORT                 Australia 2010-01-01   Jan  2010   \n",
       "15913  New Zealand  IMPORT                   Denmark 2010-01-01   Jan  2010   \n",
       "15914  New Zealand  IMPORT                      Fiji 2010-01-01   Jan  2010   \n",
       "15915  New Zealand  IMPORT                    France 2010-01-01   Jan  2010   \n",
       "15916  New Zealand  IMPORT               New Zealand 2010-01-01   Jan  2010   \n",
       "...            ...     ...                       ...        ...   ...   ...   \n",
       "16978  New Zealand  IMPORT                      Fiji 2022-09-01   Sep  2022   \n",
       "16979  New Zealand  IMPORT                    France 2022-09-01   Sep  2022   \n",
       "16980  New Zealand  IMPORT               New Zealand 2022-09-01   Sep  2022   \n",
       "16981  New Zealand  IMPORT                     India 2022-09-01   Sep  2022   \n",
       "16982  New Zealand  IMPORT  United States of America 2022-09-01   Sep  2022   \n",
       "\n",
       "       Quantity (tonnes)  Value (k Euro)  \n",
       "15912             12.596            53.0  \n",
       "15913              7.024            32.0  \n",
       "15914              0.000             0.0  \n",
       "15915              0.046             0.0  \n",
       "15916              0.000             0.0  \n",
       "...                  ...             ...  \n",
       "16978              0.000             0.0  \n",
       "16979              0.000             0.0  \n",
       "16980             98.542           544.0  \n",
       "16981              0.750             4.0  \n",
       "16982              0.000             0.0  \n",
       "\n",
       "[1071 rows x 8 columns]"
      ]
     },
     "execution_count": 345,
     "metadata": {},
     "output_type": "execute_result"
    }
   ],
   "source": [
    "df_nz[(df_nz['Flow']=='IMPORT')]"
   ]
  },
  {
   "cell_type": "code",
   "execution_count": null,
   "id": "097feed4",
   "metadata": {},
   "outputs": [],
   "source": []
  },
  {
   "cell_type": "code",
   "execution_count": null,
   "id": "fc19367b",
   "metadata": {},
   "outputs": [],
   "source": []
  },
  {
   "cell_type": "code",
   "execution_count": null,
   "id": "17bea865",
   "metadata": {},
   "outputs": [],
   "source": []
  },
  {
   "cell_type": "code",
   "execution_count": null,
   "id": "0975466b",
   "metadata": {},
   "outputs": [],
   "source": []
  },
  {
   "cell_type": "code",
   "execution_count": null,
   "id": "c2c72385",
   "metadata": {},
   "outputs": [],
   "source": []
  },
  {
   "cell_type": "code",
   "execution_count": null,
   "id": "7291ddcb",
   "metadata": {},
   "outputs": [],
   "source": []
  },
  {
   "cell_type": "markdown",
   "id": "1a41f8b6",
   "metadata": {},
   "source": [
    "## 2.1 Plot"
   ]
  },
  {
   "cell_type": "code",
   "execution_count": 346,
   "id": "35e87410",
   "metadata": {},
   "outputs": [],
   "source": [
    "df_plot = df_eu_nz.copy() # Use deep copy to preserve the contents of df_eu "
   ]
  },
  {
   "cell_type": "code",
   "execution_count": 347,
   "id": "43613871",
   "metadata": {},
   "outputs": [],
   "source": [
    "df_plot = df_plot[(df_plot['Flow']=='EXPORT')]"
   ]
  },
  {
   "cell_type": "code",
   "execution_count": 348,
   "id": "991a35d3",
   "metadata": {},
   "outputs": [],
   "source": [
    "df_plot.drop(\n",
    "    ['Flow','Year','Month','Partner'],\n",
    "    axis=1,\n",
    "    inplace=True)\n"
   ]
  },
  {
   "cell_type": "code",
   "execution_count": 349,
   "id": "3bc1b2d1",
   "metadata": {},
   "outputs": [
    {
     "data": {
      "text/html": [
       "<div>\n",
       "<style scoped>\n",
       "    .dataframe tbody tr th:only-of-type {\n",
       "        vertical-align: middle;\n",
       "    }\n",
       "\n",
       "    .dataframe tbody tr th {\n",
       "        vertical-align: top;\n",
       "    }\n",
       "\n",
       "    .dataframe thead th {\n",
       "        text-align: right;\n",
       "    }\n",
       "</style>\n",
       "<table border=\"1\" class=\"dataframe\">\n",
       "  <thead>\n",
       "    <tr style=\"text-align: right;\">\n",
       "      <th></th>\n",
       "      <th>Country</th>\n",
       "      <th>Month Date</th>\n",
       "      <th>Quantity (tonnes)</th>\n",
       "      <th>Value (k Euro)</th>\n",
       "    </tr>\n",
       "  </thead>\n",
       "  <tbody>\n",
       "    <tr>\n",
       "      <th>0</th>\n",
       "      <td>Austria</td>\n",
       "      <td>2016-08-01</td>\n",
       "      <td>7.376</td>\n",
       "      <td>27.301</td>\n",
       "    </tr>\n",
       "    <tr>\n",
       "      <th>1</th>\n",
       "      <td>Austria</td>\n",
       "      <td>2011-01-01</td>\n",
       "      <td>0.043</td>\n",
       "      <td>0.100</td>\n",
       "    </tr>\n",
       "    <tr>\n",
       "      <th>2</th>\n",
       "      <td>Austria</td>\n",
       "      <td>2021-09-01</td>\n",
       "      <td>0.001</td>\n",
       "      <td>0.003</td>\n",
       "    </tr>\n",
       "    <tr>\n",
       "      <th>3</th>\n",
       "      <td>Austria</td>\n",
       "      <td>2020-11-01</td>\n",
       "      <td>0.000</td>\n",
       "      <td>0.017</td>\n",
       "    </tr>\n",
       "    <tr>\n",
       "      <th>4</th>\n",
       "      <td>Austria</td>\n",
       "      <td>2013-11-01</td>\n",
       "      <td>2.000</td>\n",
       "      <td>13.900</td>\n",
       "    </tr>\n",
       "    <tr>\n",
       "      <th>...</th>\n",
       "      <td>...</td>\n",
       "      <td>...</td>\n",
       "      <td>...</td>\n",
       "      <td>...</td>\n",
       "    </tr>\n",
       "    <tr>\n",
       "      <th>68007</th>\n",
       "      <td>New Zealand</td>\n",
       "      <td>2022-09-01</td>\n",
       "      <td>7.586</td>\n",
       "      <td>61.000</td>\n",
       "    </tr>\n",
       "    <tr>\n",
       "      <th>68008</th>\n",
       "      <td>New Zealand</td>\n",
       "      <td>2022-09-01</td>\n",
       "      <td>NaN</td>\n",
       "      <td>NaN</td>\n",
       "    </tr>\n",
       "    <tr>\n",
       "      <th>68009</th>\n",
       "      <td>New Zealand</td>\n",
       "      <td>2022-09-01</td>\n",
       "      <td>NaN</td>\n",
       "      <td>NaN</td>\n",
       "    </tr>\n",
       "    <tr>\n",
       "      <th>68010</th>\n",
       "      <td>New Zealand</td>\n",
       "      <td>2022-09-01</td>\n",
       "      <td>0.000</td>\n",
       "      <td>0.000</td>\n",
       "    </tr>\n",
       "    <tr>\n",
       "      <th>68011</th>\n",
       "      <td>New Zealand</td>\n",
       "      <td>2022-09-01</td>\n",
       "      <td>15.777</td>\n",
       "      <td>119.000</td>\n",
       "    </tr>\n",
       "  </tbody>\n",
       "</table>\n",
       "<p>68012 rows × 4 columns</p>\n",
       "</div>"
      ],
      "text/plain": [
       "           Country Month Date  Quantity (tonnes)  Value (k Euro)\n",
       "0          Austria 2016-08-01              7.376          27.301\n",
       "1          Austria 2011-01-01              0.043           0.100\n",
       "2          Austria 2021-09-01              0.001           0.003\n",
       "3          Austria 2020-11-01              0.000           0.017\n",
       "4          Austria 2013-11-01              2.000          13.900\n",
       "...            ...        ...                ...             ...\n",
       "68007  New Zealand 2022-09-01              7.586          61.000\n",
       "68008  New Zealand 2022-09-01                NaN             NaN\n",
       "68009  New Zealand 2022-09-01                NaN             NaN\n",
       "68010  New Zealand 2022-09-01              0.000           0.000\n",
       "68011  New Zealand 2022-09-01             15.777         119.000\n",
       "\n",
       "[68012 rows x 4 columns]"
      ]
     },
     "execution_count": 349,
     "metadata": {},
     "output_type": "execute_result"
    }
   ],
   "source": [
    "df_plot"
   ]
  },
  {
   "cell_type": "code",
   "execution_count": 350,
   "id": "37a7596e",
   "metadata": {},
   "outputs": [],
   "source": [
    "df_plot = df_plot.groupby(['Country','Month Date']).sum().reset_index()"
   ]
  },
  {
   "cell_type": "code",
   "execution_count": 351,
   "id": "adaeb820",
   "metadata": {},
   "outputs": [
    {
     "data": {
      "text/html": [
       "<div>\n",
       "<style scoped>\n",
       "    .dataframe tbody tr th:only-of-type {\n",
       "        vertical-align: middle;\n",
       "    }\n",
       "\n",
       "    .dataframe tbody tr th {\n",
       "        vertical-align: top;\n",
       "    }\n",
       "\n",
       "    .dataframe thead th {\n",
       "        text-align: right;\n",
       "    }\n",
       "</style>\n",
       "<table border=\"1\" class=\"dataframe\">\n",
       "  <thead>\n",
       "    <tr style=\"text-align: right;\">\n",
       "      <th></th>\n",
       "      <th>Country</th>\n",
       "      <th>Month Date</th>\n",
       "      <th>Quantity (tonnes)</th>\n",
       "      <th>Value (k Euro)</th>\n",
       "    </tr>\n",
       "  </thead>\n",
       "  <tbody>\n",
       "    <tr>\n",
       "      <th>0</th>\n",
       "      <td>Austria</td>\n",
       "      <td>2010-01-01</td>\n",
       "      <td>7.529</td>\n",
       "      <td>33.448</td>\n",
       "    </tr>\n",
       "    <tr>\n",
       "      <th>1</th>\n",
       "      <td>Austria</td>\n",
       "      <td>2010-02-01</td>\n",
       "      <td>12.382</td>\n",
       "      <td>56.602</td>\n",
       "    </tr>\n",
       "    <tr>\n",
       "      <th>2</th>\n",
       "      <td>Austria</td>\n",
       "      <td>2010-03-01</td>\n",
       "      <td>7.520</td>\n",
       "      <td>34.685</td>\n",
       "    </tr>\n",
       "    <tr>\n",
       "      <th>3</th>\n",
       "      <td>Austria</td>\n",
       "      <td>2010-04-01</td>\n",
       "      <td>6.950</td>\n",
       "      <td>28.078</td>\n",
       "    </tr>\n",
       "    <tr>\n",
       "      <th>4</th>\n",
       "      <td>Austria</td>\n",
       "      <td>2010-05-01</td>\n",
       "      <td>0.698</td>\n",
       "      <td>3.211</td>\n",
       "    </tr>\n",
       "    <tr>\n",
       "      <th>...</th>\n",
       "      <td>...</td>\n",
       "      <td>...</td>\n",
       "      <td>...</td>\n",
       "      <td>...</td>\n",
       "    </tr>\n",
       "    <tr>\n",
       "      <th>3734</th>\n",
       "      <td>United Kingdom</td>\n",
       "      <td>2019-09-01</td>\n",
       "      <td>730.051</td>\n",
       "      <td>2947.043</td>\n",
       "    </tr>\n",
       "    <tr>\n",
       "      <th>3735</th>\n",
       "      <td>United Kingdom</td>\n",
       "      <td>2019-10-01</td>\n",
       "      <td>1212.479</td>\n",
       "      <td>4995.317</td>\n",
       "    </tr>\n",
       "    <tr>\n",
       "      <th>3736</th>\n",
       "      <td>United Kingdom</td>\n",
       "      <td>2019-11-01</td>\n",
       "      <td>1252.873</td>\n",
       "      <td>5139.480</td>\n",
       "    </tr>\n",
       "    <tr>\n",
       "      <th>3737</th>\n",
       "      <td>United Kingdom</td>\n",
       "      <td>2019-12-01</td>\n",
       "      <td>620.075</td>\n",
       "      <td>2575.875</td>\n",
       "    </tr>\n",
       "    <tr>\n",
       "      <th>3738</th>\n",
       "      <td>United Kingdom</td>\n",
       "      <td>2020-01-01</td>\n",
       "      <td>851.889</td>\n",
       "      <td>3298.135</td>\n",
       "    </tr>\n",
       "  </tbody>\n",
       "</table>\n",
       "<p>3739 rows × 4 columns</p>\n",
       "</div>"
      ],
      "text/plain": [
       "             Country Month Date  Quantity (tonnes)  Value (k Euro)\n",
       "0            Austria 2010-01-01              7.529          33.448\n",
       "1            Austria 2010-02-01             12.382          56.602\n",
       "2            Austria 2010-03-01              7.520          34.685\n",
       "3            Austria 2010-04-01              6.950          28.078\n",
       "4            Austria 2010-05-01              0.698           3.211\n",
       "...              ...        ...                ...             ...\n",
       "3734  United Kingdom 2019-09-01            730.051        2947.043\n",
       "3735  United Kingdom 2019-10-01           1212.479        4995.317\n",
       "3736  United Kingdom 2019-11-01           1252.873        5139.480\n",
       "3737  United Kingdom 2019-12-01            620.075        2575.875\n",
       "3738  United Kingdom 2020-01-01            851.889        3298.135\n",
       "\n",
       "[3739 rows x 4 columns]"
      ]
     },
     "execution_count": 351,
     "metadata": {},
     "output_type": "execute_result"
    }
   ],
   "source": [
    "df_plot"
   ]
  },
  {
   "cell_type": "code",
   "execution_count": null,
   "id": "22aec7d4",
   "metadata": {},
   "outputs": [],
   "source": []
  },
  {
   "cell_type": "code",
   "execution_count": 352,
   "id": "a35de99b",
   "metadata": {},
   "outputs": [],
   "source": [
    "# df_nz"
   ]
  },
  {
   "cell_type": "code",
   "execution_count": 353,
   "id": "4119490a",
   "metadata": {},
   "outputs": [],
   "source": [
    "# df_nz['Member State'] = 'New Zealand'\n",
    "# df_nz['Value in thousand euro'] = 0"
   ]
  },
  {
   "cell_type": "code",
   "execution_count": 354,
   "id": "a2632fdb",
   "metadata": {
    "scrolled": true
   },
   "outputs": [],
   "source": [
    "# df_nz"
   ]
  },
  {
   "cell_type": "markdown",
   "id": "ef9461bb",
   "metadata": {},
   "source": [
    "### Concatenate both sets together"
   ]
  },
  {
   "cell_type": "code",
   "execution_count": 355,
   "id": "d7fedc82",
   "metadata": {},
   "outputs": [],
   "source": [
    "# df_plot = pd.concat([df_plot,df_nz],ignore_index=True)"
   ]
  },
  {
   "cell_type": "code",
   "execution_count": 356,
   "id": "3aa67c14",
   "metadata": {},
   "outputs": [],
   "source": [
    "df_plot = df_plot.groupby([pd.Grouper(key='Month Date',freq='1Y'),'Country']).sum().reset_index()"
   ]
  },
  {
   "cell_type": "code",
   "execution_count": 357,
   "id": "60f22bcf",
   "metadata": {},
   "outputs": [
    {
     "data": {
      "text/html": [
       "<div>\n",
       "<style scoped>\n",
       "    .dataframe tbody tr th:only-of-type {\n",
       "        vertical-align: middle;\n",
       "    }\n",
       "\n",
       "    .dataframe tbody tr th {\n",
       "        vertical-align: top;\n",
       "    }\n",
       "\n",
       "    .dataframe thead th {\n",
       "        text-align: right;\n",
       "    }\n",
       "</style>\n",
       "<table border=\"1\" class=\"dataframe\">\n",
       "  <thead>\n",
       "    <tr style=\"text-align: right;\">\n",
       "      <th></th>\n",
       "      <th>Month Date</th>\n",
       "      <th>Country</th>\n",
       "      <th>Quantity (tonnes)</th>\n",
       "      <th>Value (k Euro)</th>\n",
       "    </tr>\n",
       "  </thead>\n",
       "  <tbody>\n",
       "    <tr>\n",
       "      <th>0</th>\n",
       "      <td>2010-12-31</td>\n",
       "      <td>Austria</td>\n",
       "      <td>78.552</td>\n",
       "      <td>356.651</td>\n",
       "    </tr>\n",
       "    <tr>\n",
       "      <th>1</th>\n",
       "      <td>2010-12-31</td>\n",
       "      <td>Belgium</td>\n",
       "      <td>9822.300</td>\n",
       "      <td>34837.812</td>\n",
       "    </tr>\n",
       "    <tr>\n",
       "      <th>2</th>\n",
       "      <td>2010-12-31</td>\n",
       "      <td>Bulgaria</td>\n",
       "      <td>80.475</td>\n",
       "      <td>219.644</td>\n",
       "    </tr>\n",
       "    <tr>\n",
       "      <th>3</th>\n",
       "      <td>2010-12-31</td>\n",
       "      <td>Czechia</td>\n",
       "      <td>869.249</td>\n",
       "      <td>3054.372</td>\n",
       "    </tr>\n",
       "    <tr>\n",
       "      <th>4</th>\n",
       "      <td>2010-12-31</td>\n",
       "      <td>Denmark</td>\n",
       "      <td>9798.743</td>\n",
       "      <td>44552.686</td>\n",
       "    </tr>\n",
       "    <tr>\n",
       "      <th>...</th>\n",
       "      <td>...</td>\n",
       "      <td>...</td>\n",
       "      <td>...</td>\n",
       "      <td>...</td>\n",
       "    </tr>\n",
       "    <tr>\n",
       "      <th>345</th>\n",
       "      <td>2022-12-31</td>\n",
       "      <td>Romania</td>\n",
       "      <td>176.248</td>\n",
       "      <td>1182.574</td>\n",
       "    </tr>\n",
       "    <tr>\n",
       "      <th>346</th>\n",
       "      <td>2022-12-31</td>\n",
       "      <td>Slovakia</td>\n",
       "      <td>53.646</td>\n",
       "      <td>393.132</td>\n",
       "    </tr>\n",
       "    <tr>\n",
       "      <th>347</th>\n",
       "      <td>2022-12-31</td>\n",
       "      <td>Slovenia</td>\n",
       "      <td>89.055</td>\n",
       "      <td>585.854</td>\n",
       "    </tr>\n",
       "    <tr>\n",
       "      <th>348</th>\n",
       "      <td>2022-12-31</td>\n",
       "      <td>Spain</td>\n",
       "      <td>1094.802</td>\n",
       "      <td>8036.446</td>\n",
       "    </tr>\n",
       "    <tr>\n",
       "      <th>349</th>\n",
       "      <td>2022-12-31</td>\n",
       "      <td>Sweden</td>\n",
       "      <td>31.526</td>\n",
       "      <td>195.899</td>\n",
       "    </tr>\n",
       "  </tbody>\n",
       "</table>\n",
       "<p>350 rows × 4 columns</p>\n",
       "</div>"
      ],
      "text/plain": [
       "    Month Date   Country  Quantity (tonnes)  Value (k Euro)\n",
       "0   2010-12-31   Austria             78.552         356.651\n",
       "1   2010-12-31   Belgium           9822.300       34837.812\n",
       "2   2010-12-31  Bulgaria             80.475         219.644\n",
       "3   2010-12-31   Czechia            869.249        3054.372\n",
       "4   2010-12-31   Denmark           9798.743       44552.686\n",
       "..         ...       ...                ...             ...\n",
       "345 2022-12-31   Romania            176.248        1182.574\n",
       "346 2022-12-31  Slovakia             53.646         393.132\n",
       "347 2022-12-31  Slovenia             89.055         585.854\n",
       "348 2022-12-31     Spain           1094.802        8036.446\n",
       "349 2022-12-31    Sweden             31.526         195.899\n",
       "\n",
       "[350 rows x 4 columns]"
      ]
     },
     "execution_count": 357,
     "metadata": {},
     "output_type": "execute_result"
    }
   ],
   "source": [
    "df_plot"
   ]
  },
  {
   "cell_type": "code",
   "execution_count": 358,
   "id": "fe08fa7d",
   "metadata": {},
   "outputs": [],
   "source": [
    "df_plot.sort_values(by=['Month Date','Value (k Euro)'],ascending=False,inplace=True)"
   ]
  },
  {
   "cell_type": "code",
   "execution_count": 359,
   "id": "e37e8d27",
   "metadata": {},
   "outputs": [
    {
     "data": {
      "text/html": [
       "<div>\n",
       "<style scoped>\n",
       "    .dataframe tbody tr th:only-of-type {\n",
       "        vertical-align: middle;\n",
       "    }\n",
       "\n",
       "    .dataframe tbody tr th {\n",
       "        vertical-align: top;\n",
       "    }\n",
       "\n",
       "    .dataframe thead th {\n",
       "        text-align: right;\n",
       "    }\n",
       "</style>\n",
       "<table border=\"1\" class=\"dataframe\">\n",
       "  <thead>\n",
       "    <tr style=\"text-align: right;\">\n",
       "      <th></th>\n",
       "      <th>Month Date</th>\n",
       "      <th>Country</th>\n",
       "      <th>Quantity (tonnes)</th>\n",
       "      <th>Value (k Euro)</th>\n",
       "    </tr>\n",
       "  </thead>\n",
       "  <tbody>\n",
       "    <tr>\n",
       "      <th>342</th>\n",
       "      <td>2022-12-31</td>\n",
       "      <td>New Zealand</td>\n",
       "      <td>178756.266</td>\n",
       "      <td>1014677.000</td>\n",
       "    </tr>\n",
       "    <tr>\n",
       "      <th>335</th>\n",
       "      <td>2022-12-31</td>\n",
       "      <td>Ireland</td>\n",
       "      <td>68871.577</td>\n",
       "      <td>499476.726</td>\n",
       "    </tr>\n",
       "    <tr>\n",
       "      <th>331</th>\n",
       "      <td>2022-12-31</td>\n",
       "      <td>France</td>\n",
       "      <td>40360.689</td>\n",
       "      <td>298713.263</td>\n",
       "    </tr>\n",
       "    <tr>\n",
       "      <th>328</th>\n",
       "      <td>2022-12-31</td>\n",
       "      <td>Denmark</td>\n",
       "      <td>24279.438</td>\n",
       "      <td>154833.218</td>\n",
       "    </tr>\n",
       "    <tr>\n",
       "      <th>341</th>\n",
       "      <td>2022-12-31</td>\n",
       "      <td>Netherlands</td>\n",
       "      <td>17732.504</td>\n",
       "      <td>121849.368</td>\n",
       "    </tr>\n",
       "    <tr>\n",
       "      <th>...</th>\n",
       "      <td>...</td>\n",
       "      <td>...</td>\n",
       "      <td>...</td>\n",
       "      <td>...</td>\n",
       "    </tr>\n",
       "    <tr>\n",
       "      <th>2</th>\n",
       "      <td>2010-12-31</td>\n",
       "      <td>Bulgaria</td>\n",
       "      <td>80.475</td>\n",
       "      <td>219.644</td>\n",
       "    </tr>\n",
       "    <tr>\n",
       "      <th>10</th>\n",
       "      <td>2010-12-31</td>\n",
       "      <td>Hungary</td>\n",
       "      <td>21.858</td>\n",
       "      <td>93.619</td>\n",
       "    </tr>\n",
       "    <tr>\n",
       "      <th>9</th>\n",
       "      <td>2010-12-31</td>\n",
       "      <td>Greece</td>\n",
       "      <td>0.929</td>\n",
       "      <td>9.473</td>\n",
       "    </tr>\n",
       "    <tr>\n",
       "      <th>15</th>\n",
       "      <td>2010-12-31</td>\n",
       "      <td>Luxembourg</td>\n",
       "      <td>0.840</td>\n",
       "      <td>2.536</td>\n",
       "    </tr>\n",
       "    <tr>\n",
       "      <th>20</th>\n",
       "      <td>2010-12-31</td>\n",
       "      <td>Romania</td>\n",
       "      <td>0.851</td>\n",
       "      <td>1.170</td>\n",
       "    </tr>\n",
       "  </tbody>\n",
       "</table>\n",
       "<p>350 rows × 4 columns</p>\n",
       "</div>"
      ],
      "text/plain": [
       "    Month Date      Country  Quantity (tonnes)  Value (k Euro)\n",
       "342 2022-12-31  New Zealand         178756.266     1014677.000\n",
       "335 2022-12-31      Ireland          68871.577      499476.726\n",
       "331 2022-12-31       France          40360.689      298713.263\n",
       "328 2022-12-31      Denmark          24279.438      154833.218\n",
       "341 2022-12-31  Netherlands          17732.504      121849.368\n",
       "..         ...          ...                ...             ...\n",
       "2   2010-12-31     Bulgaria             80.475         219.644\n",
       "10  2010-12-31      Hungary             21.858          93.619\n",
       "9   2010-12-31       Greece              0.929           9.473\n",
       "15  2010-12-31   Luxembourg              0.840           2.536\n",
       "20  2010-12-31      Romania              0.851           1.170\n",
       "\n",
       "[350 rows x 4 columns]"
      ]
     },
     "execution_count": 359,
     "metadata": {},
     "output_type": "execute_result"
    }
   ],
   "source": [
    "df_plot"
   ]
  },
  {
   "cell_type": "code",
   "execution_count": 362,
   "id": "79b41d6f",
   "metadata": {},
   "outputs": [
    {
     "data": {
      "application/vnd.plotly.v1+json": {
       "config": {
        "plotlyServerURL": "https://plot.ly"
       },
       "data": [
        {
         "hovertemplate": "Country=New Zealand<br>Month Date=%{x}<br>Quantity (tonnes)=%{y}<extra></extra>",
         "legendgroup": "New Zealand",
         "line": {
          "color": "#636efa",
          "dash": "solid"
         },
         "marker": {
          "symbol": "circle"
         },
         "mode": "lines",
         "name": "New Zealand",
         "orientation": "v",
         "showlegend": true,
         "type": "scatter",
         "x": [
          "2022-12-31T00:00:00",
          "2021-12-31T00:00:00",
          "2020-12-31T00:00:00",
          "2019-12-31T00:00:00",
          "2018-12-31T00:00:00",
          "2017-12-31T00:00:00",
          "2016-12-31T00:00:00",
          "2015-12-31T00:00:00",
          "2014-12-31T00:00:00",
          "2013-12-31T00:00:00",
          "2012-12-31T00:00:00",
          "2011-12-31T00:00:00",
          "2010-12-31T00:00:00"
         ],
         "xaxis": "x",
         "y": [
          178756.266,
          240404.956,
          240794.813,
          279653.213,
          271654.58999999997,
          268044.413,
          295051.393,
          290121.483,
          304191.417,
          280329.754,
          292005.288,
          263704.136,
          254038.819
         ],
         "yaxis": "y"
        },
        {
         "hovertemplate": "Country=Ireland<br>Month Date=%{x}<br>Quantity (tonnes)=%{y}<extra></extra>",
         "legendgroup": "Ireland",
         "line": {
          "color": "#EF553B",
          "dash": "solid"
         },
         "marker": {
          "symbol": "circle"
         },
         "mode": "lines",
         "name": "Ireland",
         "orientation": "v",
         "showlegend": true,
         "type": "scatter",
         "x": [
          "2022-12-31T00:00:00",
          "2021-12-31T00:00:00",
          "2020-12-31T00:00:00",
          "2019-12-31T00:00:00",
          "2018-12-31T00:00:00",
          "2017-12-31T00:00:00",
          "2016-12-31T00:00:00",
          "2015-12-31T00:00:00",
          "2014-12-31T00:00:00",
          "2013-12-31T00:00:00",
          "2012-12-31T00:00:00",
          "2011-12-31T00:00:00",
          "2010-12-31T00:00:00"
         ],
         "xaxis": "x",
         "y": [
          68871.577,
          78437.19,
          94754.618,
          50952.123999999996,
          31161.031,
          31536.196,
          33485.652,
          22176.664,
          9427.842,
          5595.613,
          6908.598,
          5687.2970000000005,
          7956.961
         ],
         "yaxis": "y"
        },
        {
         "hovertemplate": "Country=France<br>Month Date=%{x}<br>Quantity (tonnes)=%{y}<extra></extra>",
         "legendgroup": "France",
         "line": {
          "color": "#00cc96",
          "dash": "solid"
         },
         "marker": {
          "symbol": "circle"
         },
         "mode": "lines",
         "name": "France",
         "orientation": "v",
         "showlegend": true,
         "type": "scatter",
         "x": [
          "2022-12-31T00:00:00",
          "2021-12-31T00:00:00",
          "2020-12-31T00:00:00",
          "2019-12-31T00:00:00",
          "2018-12-31T00:00:00",
          "2017-12-31T00:00:00",
          "2016-12-31T00:00:00",
          "2015-12-31T00:00:00",
          "2014-12-31T00:00:00",
          "2013-12-31T00:00:00",
          "2012-12-31T00:00:00",
          "2011-12-31T00:00:00",
          "2010-12-31T00:00:00"
         ],
         "xaxis": "x",
         "y": [
          40360.689,
          44124.561,
          41001.032999999996,
          34039.787,
          32053.762000000002,
          34478.499,
          32056.272,
          28746.262,
          29319.378,
          28512.54,
          24551.135000000002,
          20831.005,
          19381.727
         ],
         "yaxis": "y"
        },
        {
         "hovertemplate": "Country=Denmark<br>Month Date=%{x}<br>Quantity (tonnes)=%{y}<extra></extra>",
         "legendgroup": "Denmark",
         "line": {
          "color": "#ab63fa",
          "dash": "solid"
         },
         "marker": {
          "symbol": "circle"
         },
         "mode": "lines",
         "name": "Denmark",
         "orientation": "v",
         "showlegend": true,
         "type": "scatter",
         "x": [
          "2022-12-31T00:00:00",
          "2021-12-31T00:00:00",
          "2020-12-31T00:00:00",
          "2019-12-31T00:00:00",
          "2018-12-31T00:00:00",
          "2017-12-31T00:00:00",
          "2016-12-31T00:00:00",
          "2015-12-31T00:00:00",
          "2014-12-31T00:00:00",
          "2013-12-31T00:00:00",
          "2012-12-31T00:00:00",
          "2011-12-31T00:00:00",
          "2010-12-31T00:00:00"
         ],
         "xaxis": "x",
         "y": [
          24279.438000000002,
          28972.654,
          28774.798,
          21314.227,
          21972.824,
          16218.445,
          17280.709,
          17048.083,
          12812.253,
          13742.305,
          12766.835,
          12310.374,
          9798.743
         ],
         "yaxis": "y"
        },
        {
         "hovertemplate": "Country=Netherlands<br>Month Date=%{x}<br>Quantity (tonnes)=%{y}<extra></extra>",
         "legendgroup": "Netherlands",
         "line": {
          "color": "#FFA15A",
          "dash": "solid"
         },
         "marker": {
          "symbol": "circle"
         },
         "mode": "lines",
         "name": "Netherlands",
         "orientation": "v",
         "showlegend": true,
         "type": "scatter",
         "x": [
          "2022-12-31T00:00:00",
          "2021-12-31T00:00:00",
          "2020-12-31T00:00:00",
          "2019-12-31T00:00:00",
          "2018-12-31T00:00:00",
          "2017-12-31T00:00:00",
          "2016-12-31T00:00:00",
          "2015-12-31T00:00:00",
          "2014-12-31T00:00:00",
          "2013-12-31T00:00:00",
          "2012-12-31T00:00:00",
          "2011-12-31T00:00:00",
          "2010-12-31T00:00:00"
         ],
         "xaxis": "x",
         "y": [
          17732.504,
          27280.127,
          31558.174,
          24524.452,
          15089.714,
          15072.662,
          20520.044,
          22055.034,
          18226.712,
          12493.413,
          17324.564,
          16757.252,
          29811.153
         ],
         "yaxis": "y"
        },
        {
         "hovertemplate": "Country=Belgium<br>Month Date=%{x}<br>Quantity (tonnes)=%{y}<extra></extra>",
         "legendgroup": "Belgium",
         "line": {
          "color": "#19d3f3",
          "dash": "solid"
         },
         "marker": {
          "symbol": "circle"
         },
         "mode": "lines",
         "name": "Belgium",
         "orientation": "v",
         "showlegend": true,
         "type": "scatter",
         "x": [
          "2022-12-31T00:00:00",
          "2021-12-31T00:00:00",
          "2020-12-31T00:00:00",
          "2019-12-31T00:00:00",
          "2018-12-31T00:00:00",
          "2017-12-31T00:00:00",
          "2016-12-31T00:00:00",
          "2015-12-31T00:00:00",
          "2014-12-31T00:00:00",
          "2013-12-31T00:00:00",
          "2012-12-31T00:00:00",
          "2011-12-31T00:00:00",
          "2010-12-31T00:00:00"
         ],
         "xaxis": "x",
         "y": [
          10359.498,
          12442.042,
          17640.65,
          12854.992999999999,
          6548.768,
          9294.559,
          11189.112,
          10703.714,
          7552.771,
          5056.8,
          4347.5,
          4468.7,
          9822.3
         ],
         "yaxis": "y"
        },
        {
         "hovertemplate": "Country=Germany<br>Month Date=%{x}<br>Quantity (tonnes)=%{y}<extra></extra>",
         "legendgroup": "Germany",
         "line": {
          "color": "#FF6692",
          "dash": "solid"
         },
         "marker": {
          "symbol": "circle"
         },
         "mode": "lines",
         "name": "Germany",
         "orientation": "v",
         "showlegend": true,
         "type": "scatter",
         "x": [
          "2022-12-31T00:00:00",
          "2021-12-31T00:00:00",
          "2020-12-31T00:00:00",
          "2019-12-31T00:00:00",
          "2018-12-31T00:00:00",
          "2017-12-31T00:00:00",
          "2016-12-31T00:00:00",
          "2015-12-31T00:00:00",
          "2014-12-31T00:00:00",
          "2013-12-31T00:00:00",
          "2012-12-31T00:00:00",
          "2011-12-31T00:00:00",
          "2010-12-31T00:00:00"
         ],
         "xaxis": "x",
         "y": [
          8607.433,
          13785.73,
          14077.339,
          16518.459,
          9885.749,
          12356.174,
          14679.600999999999,
          10759.835,
          9970.458,
          9174.766,
          10103.909,
          11686.411,
          21820.779
         ],
         "yaxis": "y"
        },
        {
         "hovertemplate": "Country=Poland<br>Month Date=%{x}<br>Quantity (tonnes)=%{y}<extra></extra>",
         "legendgroup": "Poland",
         "line": {
          "color": "#B6E880",
          "dash": "solid"
         },
         "marker": {
          "symbol": "circle"
         },
         "mode": "lines",
         "name": "Poland",
         "orientation": "v",
         "showlegend": true,
         "type": "scatter",
         "x": [
          "2022-12-31T00:00:00",
          "2021-12-31T00:00:00",
          "2020-12-31T00:00:00",
          "2019-12-31T00:00:00",
          "2018-12-31T00:00:00",
          "2017-12-31T00:00:00",
          "2016-12-31T00:00:00",
          "2015-12-31T00:00:00",
          "2014-12-31T00:00:00",
          "2013-12-31T00:00:00",
          "2012-12-31T00:00:00",
          "2011-12-31T00:00:00",
          "2010-12-31T00:00:00"
         ],
         "xaxis": "x",
         "y": [
          4008.1910000000003,
          7141.615,
          13092.585,
          6503.8640000000005,
          1897.532,
          3241.49,
          4796.143,
          2443.288,
          2363.377,
          1856.8120000000001,
          2787.932,
          2590.9030000000002,
          2247.777
         ],
         "yaxis": "y"
        },
        {
         "hovertemplate": "Country=Finland<br>Month Date=%{x}<br>Quantity (tonnes)=%{y}<extra></extra>",
         "legendgroup": "Finland",
         "line": {
          "color": "#FF97FF",
          "dash": "solid"
         },
         "marker": {
          "symbol": "circle"
         },
         "mode": "lines",
         "name": "Finland",
         "orientation": "v",
         "showlegend": true,
         "type": "scatter",
         "x": [
          "2022-12-31T00:00:00",
          "2021-12-31T00:00:00",
          "2020-12-31T00:00:00",
          "2019-12-31T00:00:00",
          "2018-12-31T00:00:00",
          "2017-12-31T00:00:00",
          "2016-12-31T00:00:00",
          "2015-12-31T00:00:00",
          "2014-12-31T00:00:00",
          "2013-12-31T00:00:00",
          "2012-12-31T00:00:00",
          "2011-12-31T00:00:00",
          "2010-12-31T00:00:00"
         ],
         "xaxis": "x",
         "y": [
          3537.679,
          4440.236,
          5342.595,
          4417.749,
          3273.8940000000002,
          3842.729,
          6456.096,
          7150.24,
          10330.795,
          11944.626,
          11672.578,
          11001.91,
          13104.569
         ],
         "yaxis": "y"
        },
        {
         "hovertemplate": "Country=Lithuania<br>Month Date=%{x}<br>Quantity (tonnes)=%{y}<extra></extra>",
         "legendgroup": "Lithuania",
         "line": {
          "color": "#FECB52",
          "dash": "solid"
         },
         "marker": {
          "symbol": "circle"
         },
         "mode": "lines",
         "name": "Lithuania",
         "orientation": "v",
         "showlegend": true,
         "type": "scatter",
         "x": [
          "2022-12-31T00:00:00",
          "2021-12-31T00:00:00",
          "2020-12-31T00:00:00",
          "2019-12-31T00:00:00",
          "2018-12-31T00:00:00",
          "2017-12-31T00:00:00",
          "2016-12-31T00:00:00",
          "2015-12-31T00:00:00",
          "2014-12-31T00:00:00",
          "2013-12-31T00:00:00",
          "2012-12-31T00:00:00",
          "2011-12-31T00:00:00",
          "2010-12-31T00:00:00"
         ],
         "xaxis": "x",
         "y": [
          2416.381,
          1070.7939999999999,
          4746.866,
          1808.2420000000002,
          504.892,
          720.009,
          8673.325,
          4921.52,
          6229.097,
          1875.074,
          643.367,
          215.441,
          551.756
         ],
         "yaxis": "y"
        },
        {
         "hovertemplate": "Country=Portugal<br>Month Date=%{x}<br>Quantity (tonnes)=%{y}<extra></extra>",
         "legendgroup": "Portugal",
         "line": {
          "color": "#636efa",
          "dash": "solid"
         },
         "marker": {
          "symbol": "circle"
         },
         "mode": "lines",
         "name": "Portugal",
         "orientation": "v",
         "showlegend": true,
         "type": "scatter",
         "x": [
          "2022-12-31T00:00:00",
          "2021-12-31T00:00:00",
          "2020-12-31T00:00:00",
          "2019-12-31T00:00:00",
          "2018-12-31T00:00:00",
          "2017-12-31T00:00:00",
          "2016-12-31T00:00:00",
          "2015-12-31T00:00:00",
          "2014-12-31T00:00:00",
          "2013-12-31T00:00:00",
          "2012-12-31T00:00:00",
          "2011-12-31T00:00:00",
          "2010-12-31T00:00:00"
         ],
         "xaxis": "x",
         "y": [
          2436.774,
          4625.198,
          6667.984,
          2175.762,
          2517.701,
          3134.703,
          4111.786,
          3210.304,
          2353.088,
          1678.4479999999999,
          1444.585,
          863.35,
          1028.127
         ],
         "yaxis": "y"
        },
        {
         "hovertemplate": "Country=Italy<br>Month Date=%{x}<br>Quantity (tonnes)=%{y}<extra></extra>",
         "legendgroup": "Italy",
         "line": {
          "color": "#EF553B",
          "dash": "solid"
         },
         "marker": {
          "symbol": "circle"
         },
         "mode": "lines",
         "name": "Italy",
         "orientation": "v",
         "showlegend": true,
         "type": "scatter",
         "x": [
          "2022-12-31T00:00:00",
          "2021-12-31T00:00:00",
          "2020-12-31T00:00:00",
          "2019-12-31T00:00:00",
          "2018-12-31T00:00:00",
          "2017-12-31T00:00:00",
          "2016-12-31T00:00:00",
          "2015-12-31T00:00:00",
          "2014-12-31T00:00:00",
          "2013-12-31T00:00:00",
          "2012-12-31T00:00:00",
          "2011-12-31T00:00:00",
          "2010-12-31T00:00:00"
         ],
         "xaxis": "x",
         "y": [
          1251.835,
          2048.93,
          2040.306,
          1267.782,
          378.059,
          457.05899999999997,
          603.322,
          481.448,
          287.878,
          236.551,
          167.653,
          214.056,
          215.442
         ],
         "yaxis": "y"
        },
        {
         "hovertemplate": "Country=Spain<br>Month Date=%{x}<br>Quantity (tonnes)=%{y}<extra></extra>",
         "legendgroup": "Spain",
         "line": {
          "color": "#00cc96",
          "dash": "solid"
         },
         "marker": {
          "symbol": "circle"
         },
         "mode": "lines",
         "name": "Spain",
         "orientation": "v",
         "showlegend": true,
         "type": "scatter",
         "x": [
          "2022-12-31T00:00:00",
          "2021-12-31T00:00:00",
          "2020-12-31T00:00:00",
          "2019-12-31T00:00:00",
          "2018-12-31T00:00:00",
          "2017-12-31T00:00:00",
          "2016-12-31T00:00:00",
          "2015-12-31T00:00:00",
          "2014-12-31T00:00:00",
          "2013-12-31T00:00:00",
          "2012-12-31T00:00:00",
          "2011-12-31T00:00:00",
          "2010-12-31T00:00:00"
         ],
         "xaxis": "x",
         "y": [
          1094.802,
          1692.318,
          1789.933,
          919.926,
          810.217,
          805.473,
          936.5250000000001,
          786.605,
          487.214,
          718.086,
          874.851,
          396.158,
          341.375
         ],
         "yaxis": "y"
        },
        {
         "hovertemplate": "Country=Croatia<br>Month Date=%{x}<br>Quantity (tonnes)=%{y}<extra></extra>",
         "legendgroup": "Croatia",
         "line": {
          "color": "#ab63fa",
          "dash": "solid"
         },
         "marker": {
          "symbol": "circle"
         },
         "mode": "lines",
         "name": "Croatia",
         "orientation": "v",
         "showlegend": true,
         "type": "scatter",
         "x": [
          "2022-12-31T00:00:00",
          "2021-12-31T00:00:00",
          "2020-12-31T00:00:00",
          "2019-12-31T00:00:00",
          "2018-12-31T00:00:00",
          "2017-12-31T00:00:00",
          "2016-12-31T00:00:00",
          "2015-12-31T00:00:00",
          "2014-12-31T00:00:00",
          "2013-12-31T00:00:00"
         ],
         "xaxis": "x",
         "y": [
          354.109,
          412.447,
          426.671,
          461.32099999999997,
          456.83299999999997,
          494.83,
          337.735,
          344.858,
          486.788,
          205.793
         ],
         "yaxis": "y"
        },
        {
         "hovertemplate": "Country=Romania<br>Month Date=%{x}<br>Quantity (tonnes)=%{y}<extra></extra>",
         "legendgroup": "Romania",
         "line": {
          "color": "#FFA15A",
          "dash": "solid"
         },
         "marker": {
          "symbol": "circle"
         },
         "mode": "lines",
         "name": "Romania",
         "orientation": "v",
         "showlegend": true,
         "type": "scatter",
         "x": [
          "2022-12-31T00:00:00",
          "2021-12-31T00:00:00",
          "2020-12-31T00:00:00",
          "2019-12-31T00:00:00",
          "2018-12-31T00:00:00",
          "2017-12-31T00:00:00",
          "2016-12-31T00:00:00",
          "2015-12-31T00:00:00",
          "2014-12-31T00:00:00",
          "2012-12-31T00:00:00",
          "2010-12-31T00:00:00"
         ],
         "xaxis": "x",
         "y": [
          176.248,
          333.062,
          268.487,
          124.43,
          62.011,
          327.497,
          134.149,
          15.403,
          9.185,
          0,
          0.851
         ],
         "yaxis": "y"
        },
        {
         "hovertemplate": "Country=Slovenia<br>Month Date=%{x}<br>Quantity (tonnes)=%{y}<extra></extra>",
         "legendgroup": "Slovenia",
         "line": {
          "color": "#19d3f3",
          "dash": "solid"
         },
         "marker": {
          "symbol": "circle"
         },
         "mode": "lines",
         "name": "Slovenia",
         "orientation": "v",
         "showlegend": true,
         "type": "scatter",
         "x": [
          "2022-12-31T00:00:00",
          "2021-12-31T00:00:00",
          "2020-12-31T00:00:00",
          "2019-12-31T00:00:00",
          "2018-12-31T00:00:00",
          "2017-12-31T00:00:00",
          "2016-12-31T00:00:00",
          "2015-12-31T00:00:00",
          "2014-12-31T00:00:00",
          "2013-12-31T00:00:00",
          "2012-12-31T00:00:00",
          "2011-12-31T00:00:00",
          "2010-12-31T00:00:00"
         ],
         "xaxis": "x",
         "y": [
          89.05499999999999,
          71.545,
          44.578,
          60.312999999999995,
          59.131,
          73.102,
          58.664,
          50.943000000000005,
          114.265,
          76.158,
          296.991,
          118.191,
          196.581
         ],
         "yaxis": "y"
        },
        {
         "hovertemplate": "Country=Estonia<br>Month Date=%{x}<br>Quantity (tonnes)=%{y}<extra></extra>",
         "legendgroup": "Estonia",
         "line": {
          "color": "#FF6692",
          "dash": "solid"
         },
         "marker": {
          "symbol": "circle"
         },
         "mode": "lines",
         "name": "Estonia",
         "orientation": "v",
         "showlegend": true,
         "type": "scatter",
         "x": [
          "2022-12-31T00:00:00",
          "2021-12-31T00:00:00",
          "2020-12-31T00:00:00",
          "2019-12-31T00:00:00",
          "2018-12-31T00:00:00",
          "2017-12-31T00:00:00",
          "2016-12-31T00:00:00",
          "2015-12-31T00:00:00",
          "2014-12-31T00:00:00",
          "2013-12-31T00:00:00",
          "2012-12-31T00:00:00",
          "2011-12-31T00:00:00",
          "2010-12-31T00:00:00"
         ],
         "xaxis": "x",
         "y": [
          88.192,
          148.544,
          165.23,
          80.57600000000001,
          31.796,
          168.94,
          157.518,
          492.04999999999995,
          161.23499999999999,
          34.862,
          117.4,
          194.346,
          1700.147
         ],
         "yaxis": "y"
        },
        {
         "hovertemplate": "Country=Slovakia<br>Month Date=%{x}<br>Quantity (tonnes)=%{y}<extra></extra>",
         "legendgroup": "Slovakia",
         "line": {
          "color": "#B6E880",
          "dash": "solid"
         },
         "marker": {
          "symbol": "circle"
         },
         "mode": "lines",
         "name": "Slovakia",
         "orientation": "v",
         "showlegend": true,
         "type": "scatter",
         "x": [
          "2022-12-31T00:00:00",
          "2021-12-31T00:00:00",
          "2020-12-31T00:00:00",
          "2019-12-31T00:00:00",
          "2018-12-31T00:00:00",
          "2017-12-31T00:00:00",
          "2016-12-31T00:00:00",
          "2015-12-31T00:00:00",
          "2014-12-31T00:00:00",
          "2013-12-31T00:00:00",
          "2012-12-31T00:00:00",
          "2011-12-31T00:00:00"
         ],
         "xaxis": "x",
         "y": [
          53.646,
          105.263,
          42.704,
          31.262,
          14.808,
          0.03,
          16.939999999999998,
          20.262,
          10.09,
          1.049,
          1.321,
          64.5
         ],
         "yaxis": "y"
        },
        {
         "hovertemplate": "Country=Czechia<br>Month Date=%{x}<br>Quantity (tonnes)=%{y}<extra></extra>",
         "legendgroup": "Czechia",
         "line": {
          "color": "#FF97FF",
          "dash": "solid"
         },
         "marker": {
          "symbol": "circle"
         },
         "mode": "lines",
         "name": "Czechia",
         "orientation": "v",
         "showlegend": true,
         "type": "scatter",
         "x": [
          "2022-12-31T00:00:00",
          "2021-12-31T00:00:00",
          "2020-12-31T00:00:00",
          "2019-12-31T00:00:00",
          "2018-12-31T00:00:00",
          "2017-12-31T00:00:00",
          "2016-12-31T00:00:00",
          "2015-12-31T00:00:00",
          "2014-12-31T00:00:00",
          "2013-12-31T00:00:00",
          "2012-12-31T00:00:00",
          "2011-12-31T00:00:00",
          "2010-12-31T00:00:00"
         ],
         "xaxis": "x",
         "y": [
          42.617000000000004,
          62.92100000000001,
          52.61600000000001,
          41.616,
          43.40600000000001,
          62.879000000000005,
          127.112,
          135.353,
          406.092,
          618.7370000000001,
          729.885,
          1073.395,
          869.249
         ],
         "yaxis": "y"
        },
        {
         "hovertemplate": "Country=Bulgaria<br>Month Date=%{x}<br>Quantity (tonnes)=%{y}<extra></extra>",
         "legendgroup": "Bulgaria",
         "line": {
          "color": "#FECB52",
          "dash": "solid"
         },
         "marker": {
          "symbol": "circle"
         },
         "mode": "lines",
         "name": "Bulgaria",
         "orientation": "v",
         "showlegend": true,
         "type": "scatter",
         "x": [
          "2022-12-31T00:00:00",
          "2021-12-31T00:00:00",
          "2020-12-31T00:00:00",
          "2019-12-31T00:00:00",
          "2018-12-31T00:00:00",
          "2017-12-31T00:00:00",
          "2016-12-31T00:00:00",
          "2015-12-31T00:00:00",
          "2014-12-31T00:00:00",
          "2013-12-31T00:00:00",
          "2012-12-31T00:00:00",
          "2011-12-31T00:00:00",
          "2010-12-31T00:00:00"
         ],
         "xaxis": "x",
         "y": [
          30.628999999999998,
          23.439999999999998,
          9.745,
          4.064,
          0.38,
          0.33,
          1.75,
          20,
          30.543000000000003,
          0.06,
          62.300000000000004,
          20.975,
          80.475
         ],
         "yaxis": "y"
        },
        {
         "hovertemplate": "Country=Hungary<br>Month Date=%{x}<br>Quantity (tonnes)=%{y}<extra></extra>",
         "legendgroup": "Hungary",
         "line": {
          "color": "#636efa",
          "dash": "solid"
         },
         "marker": {
          "symbol": "circle"
         },
         "mode": "lines",
         "name": "Hungary",
         "orientation": "v",
         "showlegend": true,
         "type": "scatter",
         "x": [
          "2022-12-31T00:00:00",
          "2021-12-31T00:00:00",
          "2020-12-31T00:00:00",
          "2019-12-31T00:00:00",
          "2018-12-31T00:00:00",
          "2017-12-31T00:00:00",
          "2016-12-31T00:00:00",
          "2015-12-31T00:00:00",
          "2014-12-31T00:00:00",
          "2013-12-31T00:00:00",
          "2012-12-31T00:00:00",
          "2011-12-31T00:00:00",
          "2010-12-31T00:00:00"
         ],
         "xaxis": "x",
         "y": [
          28.397000000000002,
          99.314,
          802.777,
          14.509,
          33.125,
          25.768,
          100.25999999999999,
          166.255,
          114.02600000000001,
          284.77299999999997,
          56.931,
          0.213,
          21.858
         ],
         "yaxis": "y"
        },
        {
         "hovertemplate": "Country=Sweden<br>Month Date=%{x}<br>Quantity (tonnes)=%{y}<extra></extra>",
         "legendgroup": "Sweden",
         "line": {
          "color": "#EF553B",
          "dash": "solid"
         },
         "marker": {
          "symbol": "circle"
         },
         "mode": "lines",
         "name": "Sweden",
         "orientation": "v",
         "showlegend": true,
         "type": "scatter",
         "x": [
          "2022-12-31T00:00:00",
          "2021-12-31T00:00:00",
          "2020-12-31T00:00:00",
          "2019-12-31T00:00:00",
          "2018-12-31T00:00:00",
          "2017-12-31T00:00:00",
          "2016-12-31T00:00:00",
          "2015-12-31T00:00:00",
          "2014-12-31T00:00:00",
          "2013-12-31T00:00:00",
          "2012-12-31T00:00:00",
          "2011-12-31T00:00:00",
          "2010-12-31T00:00:00"
         ],
         "xaxis": "x",
         "y": [
          31.526,
          20.941000000000003,
          3.3680000000000003,
          3.7600000000000002,
          5.545,
          4.529,
          3.842,
          1.2309999999999999,
          99.47000000000001,
          21.615000000000002,
          606.245,
          229.625,
          586.735
         ],
         "yaxis": "y"
        },
        {
         "hovertemplate": "Country=Greece<br>Month Date=%{x}<br>Quantity (tonnes)=%{y}<extra></extra>",
         "legendgroup": "Greece",
         "line": {
          "color": "#00cc96",
          "dash": "solid"
         },
         "marker": {
          "symbol": "circle"
         },
         "mode": "lines",
         "name": "Greece",
         "orientation": "v",
         "showlegend": true,
         "type": "scatter",
         "x": [
          "2022-12-31T00:00:00",
          "2021-12-31T00:00:00",
          "2020-12-31T00:00:00",
          "2019-12-31T00:00:00",
          "2018-12-31T00:00:00",
          "2017-12-31T00:00:00",
          "2016-12-31T00:00:00",
          "2015-12-31T00:00:00",
          "2014-12-31T00:00:00",
          "2013-12-31T00:00:00",
          "2012-12-31T00:00:00",
          "2011-12-31T00:00:00",
          "2010-12-31T00:00:00"
         ],
         "xaxis": "x",
         "y": [
          18.409000000000002,
          30.483,
          17.634999999999998,
          11.087,
          32.408,
          13.478,
          12.857,
          4.904,
          59.495000000000005,
          51.206,
          4.954,
          1.078,
          0.929
         ],
         "yaxis": "y"
        },
        {
         "hovertemplate": "Country=Austria<br>Month Date=%{x}<br>Quantity (tonnes)=%{y}<extra></extra>",
         "legendgroup": "Austria",
         "line": {
          "color": "#ab63fa",
          "dash": "solid"
         },
         "marker": {
          "symbol": "circle"
         },
         "mode": "lines",
         "name": "Austria",
         "orientation": "v",
         "showlegend": true,
         "type": "scatter",
         "x": [
          "2022-12-31T00:00:00",
          "2021-12-31T00:00:00",
          "2020-12-31T00:00:00",
          "2019-12-31T00:00:00",
          "2018-12-31T00:00:00",
          "2017-12-31T00:00:00",
          "2016-12-31T00:00:00",
          "2015-12-31T00:00:00",
          "2014-12-31T00:00:00",
          "2013-12-31T00:00:00",
          "2012-12-31T00:00:00",
          "2011-12-31T00:00:00",
          "2010-12-31T00:00:00"
         ],
         "xaxis": "x",
         "y": [
          14.911000000000001,
          37.037,
          24.471,
          44.528999999999996,
          42.75,
          61.727,
          63.098,
          156.486,
          51.564,
          82.287,
          58.464,
          126.45200000000001,
          78.552
         ],
         "yaxis": "y"
        },
        {
         "hovertemplate": "Country=Latvia<br>Month Date=%{x}<br>Quantity (tonnes)=%{y}<extra></extra>",
         "legendgroup": "Latvia",
         "line": {
          "color": "#FFA15A",
          "dash": "solid"
         },
         "marker": {
          "symbol": "circle"
         },
         "mode": "lines",
         "name": "Latvia",
         "orientation": "v",
         "showlegend": true,
         "type": "scatter",
         "x": [
          "2022-12-31T00:00:00",
          "2021-12-31T00:00:00",
          "2020-12-31T00:00:00",
          "2019-12-31T00:00:00",
          "2018-12-31T00:00:00",
          "2017-12-31T00:00:00",
          "2016-12-31T00:00:00",
          "2015-12-31T00:00:00",
          "2014-12-31T00:00:00",
          "2013-12-31T00:00:00",
          "2012-12-31T00:00:00",
          "2011-12-31T00:00:00",
          "2010-12-31T00:00:00"
         ],
         "xaxis": "x",
         "y": [
          8.134,
          35.152,
          178.708,
          188.83499999999998,
          3.558,
          145.045,
          239.276,
          90.506,
          2338.961,
          1825.528,
          478.933,
          94.128,
          247.32
         ],
         "yaxis": "y"
        },
        {
         "hovertemplate": "Country=Luxembourg<br>Month Date=%{x}<br>Quantity (tonnes)=%{y}<extra></extra>",
         "legendgroup": "Luxembourg",
         "line": {
          "color": "#19d3f3",
          "dash": "solid"
         },
         "marker": {
          "symbol": "circle"
         },
         "mode": "lines",
         "name": "Luxembourg",
         "orientation": "v",
         "showlegend": true,
         "type": "scatter",
         "x": [
          "2022-12-31T00:00:00",
          "2021-12-31T00:00:00",
          "2020-12-31T00:00:00",
          "2019-12-31T00:00:00",
          "2018-12-31T00:00:00",
          "2017-12-31T00:00:00",
          "2016-12-31T00:00:00",
          "2015-12-31T00:00:00",
          "2014-12-31T00:00:00",
          "2013-12-31T00:00:00",
          "2012-12-31T00:00:00",
          "2011-12-31T00:00:00",
          "2010-12-31T00:00:00"
         ],
         "xaxis": "x",
         "y": [
          2.391,
          2.115,
          2.1670000000000003,
          4.827,
          1.4649999999999999,
          2.928,
          3.817,
          5.116,
          0.777,
          1.134,
          2.4290000000000003,
          5.513,
          0.84
         ],
         "yaxis": "y"
        },
        {
         "hovertemplate": "Country=Malta<br>Month Date=%{x}<br>Quantity (tonnes)=%{y}<extra></extra>",
         "legendgroup": "Malta",
         "line": {
          "color": "#FF6692",
          "dash": "solid"
         },
         "marker": {
          "symbol": "circle"
         },
         "mode": "lines",
         "name": "Malta",
         "orientation": "v",
         "showlegend": true,
         "type": "scatter",
         "x": [
          "2022-12-31T00:00:00",
          "2021-12-31T00:00:00",
          "2019-12-31T00:00:00",
          "2017-12-31T00:00:00"
         ],
         "xaxis": "x",
         "y": [
          0.207,
          11.370000000000001,
          0.159,
          0.34299999999999997
         ],
         "yaxis": "y"
        },
        {
         "hovertemplate": "Country=United Kingdom<br>Month Date=%{x}<br>Quantity (tonnes)=%{y}<extra></extra>",
         "legendgroup": "United Kingdom",
         "line": {
          "color": "#B6E880",
          "dash": "solid"
         },
         "marker": {
          "symbol": "circle"
         },
         "mode": "lines",
         "name": "United Kingdom",
         "orientation": "v",
         "showlegend": true,
         "type": "scatter",
         "x": [
          "2020-12-31T00:00:00",
          "2019-12-31T00:00:00",
          "2018-12-31T00:00:00",
          "2017-12-31T00:00:00",
          "2016-12-31T00:00:00",
          "2015-12-31T00:00:00",
          "2014-12-31T00:00:00",
          "2013-12-31T00:00:00",
          "2012-12-31T00:00:00",
          "2011-12-31T00:00:00",
          "2010-12-31T00:00:00"
         ],
         "xaxis": "x",
         "y": [
          851.889,
          6103.8240000000005,
          2688.1910000000003,
          6368.284,
          7898.475,
          4056.1809999999996,
          2331.545,
          1303.103,
          2393.984,
          1679.417,
          2560.928
         ],
         "yaxis": "y"
        },
        {
         "hovertemplate": "Country=Cyprus<br>Month Date=%{x}<br>Quantity (tonnes)=%{y}<extra></extra>",
         "legendgroup": "Cyprus",
         "line": {
          "color": "#FF97FF",
          "dash": "solid"
         },
         "marker": {
          "symbol": "circle"
         },
         "mode": "lines",
         "name": "Cyprus",
         "orientation": "v",
         "showlegend": true,
         "type": "scatter",
         "x": [
          "2016-12-31T00:00:00",
          "2015-12-31T00:00:00",
          "2013-12-31T00:00:00"
         ],
         "xaxis": "x",
         "y": [
          0.251,
          0.101,
          3.2
         ],
         "yaxis": "y"
        }
       ],
       "layout": {
        "legend": {
         "title": {
          "text": "Country"
         },
         "tracegroupgap": 0
        },
        "template": {
         "data": {
          "bar": [
           {
            "error_x": {
             "color": "#2a3f5f"
            },
            "error_y": {
             "color": "#2a3f5f"
            },
            "marker": {
             "line": {
              "color": "#E5ECF6",
              "width": 0.5
             },
             "pattern": {
              "fillmode": "overlay",
              "size": 10,
              "solidity": 0.2
             }
            },
            "type": "bar"
           }
          ],
          "barpolar": [
           {
            "marker": {
             "line": {
              "color": "#E5ECF6",
              "width": 0.5
             },
             "pattern": {
              "fillmode": "overlay",
              "size": 10,
              "solidity": 0.2
             }
            },
            "type": "barpolar"
           }
          ],
          "carpet": [
           {
            "aaxis": {
             "endlinecolor": "#2a3f5f",
             "gridcolor": "white",
             "linecolor": "white",
             "minorgridcolor": "white",
             "startlinecolor": "#2a3f5f"
            },
            "baxis": {
             "endlinecolor": "#2a3f5f",
             "gridcolor": "white",
             "linecolor": "white",
             "minorgridcolor": "white",
             "startlinecolor": "#2a3f5f"
            },
            "type": "carpet"
           }
          ],
          "choropleth": [
           {
            "colorbar": {
             "outlinewidth": 0,
             "ticks": ""
            },
            "type": "choropleth"
           }
          ],
          "contour": [
           {
            "colorbar": {
             "outlinewidth": 0,
             "ticks": ""
            },
            "colorscale": [
             [
              0,
              "#0d0887"
             ],
             [
              0.1111111111111111,
              "#46039f"
             ],
             [
              0.2222222222222222,
              "#7201a8"
             ],
             [
              0.3333333333333333,
              "#9c179e"
             ],
             [
              0.4444444444444444,
              "#bd3786"
             ],
             [
              0.5555555555555556,
              "#d8576b"
             ],
             [
              0.6666666666666666,
              "#ed7953"
             ],
             [
              0.7777777777777778,
              "#fb9f3a"
             ],
             [
              0.8888888888888888,
              "#fdca26"
             ],
             [
              1,
              "#f0f921"
             ]
            ],
            "type": "contour"
           }
          ],
          "contourcarpet": [
           {
            "colorbar": {
             "outlinewidth": 0,
             "ticks": ""
            },
            "type": "contourcarpet"
           }
          ],
          "heatmap": [
           {
            "colorbar": {
             "outlinewidth": 0,
             "ticks": ""
            },
            "colorscale": [
             [
              0,
              "#0d0887"
             ],
             [
              0.1111111111111111,
              "#46039f"
             ],
             [
              0.2222222222222222,
              "#7201a8"
             ],
             [
              0.3333333333333333,
              "#9c179e"
             ],
             [
              0.4444444444444444,
              "#bd3786"
             ],
             [
              0.5555555555555556,
              "#d8576b"
             ],
             [
              0.6666666666666666,
              "#ed7953"
             ],
             [
              0.7777777777777778,
              "#fb9f3a"
             ],
             [
              0.8888888888888888,
              "#fdca26"
             ],
             [
              1,
              "#f0f921"
             ]
            ],
            "type": "heatmap"
           }
          ],
          "heatmapgl": [
           {
            "colorbar": {
             "outlinewidth": 0,
             "ticks": ""
            },
            "colorscale": [
             [
              0,
              "#0d0887"
             ],
             [
              0.1111111111111111,
              "#46039f"
             ],
             [
              0.2222222222222222,
              "#7201a8"
             ],
             [
              0.3333333333333333,
              "#9c179e"
             ],
             [
              0.4444444444444444,
              "#bd3786"
             ],
             [
              0.5555555555555556,
              "#d8576b"
             ],
             [
              0.6666666666666666,
              "#ed7953"
             ],
             [
              0.7777777777777778,
              "#fb9f3a"
             ],
             [
              0.8888888888888888,
              "#fdca26"
             ],
             [
              1,
              "#f0f921"
             ]
            ],
            "type": "heatmapgl"
           }
          ],
          "histogram": [
           {
            "marker": {
             "pattern": {
              "fillmode": "overlay",
              "size": 10,
              "solidity": 0.2
             }
            },
            "type": "histogram"
           }
          ],
          "histogram2d": [
           {
            "colorbar": {
             "outlinewidth": 0,
             "ticks": ""
            },
            "colorscale": [
             [
              0,
              "#0d0887"
             ],
             [
              0.1111111111111111,
              "#46039f"
             ],
             [
              0.2222222222222222,
              "#7201a8"
             ],
             [
              0.3333333333333333,
              "#9c179e"
             ],
             [
              0.4444444444444444,
              "#bd3786"
             ],
             [
              0.5555555555555556,
              "#d8576b"
             ],
             [
              0.6666666666666666,
              "#ed7953"
             ],
             [
              0.7777777777777778,
              "#fb9f3a"
             ],
             [
              0.8888888888888888,
              "#fdca26"
             ],
             [
              1,
              "#f0f921"
             ]
            ],
            "type": "histogram2d"
           }
          ],
          "histogram2dcontour": [
           {
            "colorbar": {
             "outlinewidth": 0,
             "ticks": ""
            },
            "colorscale": [
             [
              0,
              "#0d0887"
             ],
             [
              0.1111111111111111,
              "#46039f"
             ],
             [
              0.2222222222222222,
              "#7201a8"
             ],
             [
              0.3333333333333333,
              "#9c179e"
             ],
             [
              0.4444444444444444,
              "#bd3786"
             ],
             [
              0.5555555555555556,
              "#d8576b"
             ],
             [
              0.6666666666666666,
              "#ed7953"
             ],
             [
              0.7777777777777778,
              "#fb9f3a"
             ],
             [
              0.8888888888888888,
              "#fdca26"
             ],
             [
              1,
              "#f0f921"
             ]
            ],
            "type": "histogram2dcontour"
           }
          ],
          "mesh3d": [
           {
            "colorbar": {
             "outlinewidth": 0,
             "ticks": ""
            },
            "type": "mesh3d"
           }
          ],
          "parcoords": [
           {
            "line": {
             "colorbar": {
              "outlinewidth": 0,
              "ticks": ""
             }
            },
            "type": "parcoords"
           }
          ],
          "pie": [
           {
            "automargin": true,
            "type": "pie"
           }
          ],
          "scatter": [
           {
            "marker": {
             "colorbar": {
              "outlinewidth": 0,
              "ticks": ""
             }
            },
            "type": "scatter"
           }
          ],
          "scatter3d": [
           {
            "line": {
             "colorbar": {
              "outlinewidth": 0,
              "ticks": ""
             }
            },
            "marker": {
             "colorbar": {
              "outlinewidth": 0,
              "ticks": ""
             }
            },
            "type": "scatter3d"
           }
          ],
          "scattercarpet": [
           {
            "marker": {
             "colorbar": {
              "outlinewidth": 0,
              "ticks": ""
             }
            },
            "type": "scattercarpet"
           }
          ],
          "scattergeo": [
           {
            "marker": {
             "colorbar": {
              "outlinewidth": 0,
              "ticks": ""
             }
            },
            "type": "scattergeo"
           }
          ],
          "scattergl": [
           {
            "marker": {
             "colorbar": {
              "outlinewidth": 0,
              "ticks": ""
             }
            },
            "type": "scattergl"
           }
          ],
          "scattermapbox": [
           {
            "marker": {
             "colorbar": {
              "outlinewidth": 0,
              "ticks": ""
             }
            },
            "type": "scattermapbox"
           }
          ],
          "scatterpolar": [
           {
            "marker": {
             "colorbar": {
              "outlinewidth": 0,
              "ticks": ""
             }
            },
            "type": "scatterpolar"
           }
          ],
          "scatterpolargl": [
           {
            "marker": {
             "colorbar": {
              "outlinewidth": 0,
              "ticks": ""
             }
            },
            "type": "scatterpolargl"
           }
          ],
          "scatterternary": [
           {
            "marker": {
             "colorbar": {
              "outlinewidth": 0,
              "ticks": ""
             }
            },
            "type": "scatterternary"
           }
          ],
          "surface": [
           {
            "colorbar": {
             "outlinewidth": 0,
             "ticks": ""
            },
            "colorscale": [
             [
              0,
              "#0d0887"
             ],
             [
              0.1111111111111111,
              "#46039f"
             ],
             [
              0.2222222222222222,
              "#7201a8"
             ],
             [
              0.3333333333333333,
              "#9c179e"
             ],
             [
              0.4444444444444444,
              "#bd3786"
             ],
             [
              0.5555555555555556,
              "#d8576b"
             ],
             [
              0.6666666666666666,
              "#ed7953"
             ],
             [
              0.7777777777777778,
              "#fb9f3a"
             ],
             [
              0.8888888888888888,
              "#fdca26"
             ],
             [
              1,
              "#f0f921"
             ]
            ],
            "type": "surface"
           }
          ],
          "table": [
           {
            "cells": {
             "fill": {
              "color": "#EBF0F8"
             },
             "line": {
              "color": "white"
             }
            },
            "header": {
             "fill": {
              "color": "#C8D4E3"
             },
             "line": {
              "color": "white"
             }
            },
            "type": "table"
           }
          ]
         },
         "layout": {
          "annotationdefaults": {
           "arrowcolor": "#2a3f5f",
           "arrowhead": 0,
           "arrowwidth": 1
          },
          "autotypenumbers": "strict",
          "coloraxis": {
           "colorbar": {
            "outlinewidth": 0,
            "ticks": ""
           }
          },
          "colorscale": {
           "diverging": [
            [
             0,
             "#8e0152"
            ],
            [
             0.1,
             "#c51b7d"
            ],
            [
             0.2,
             "#de77ae"
            ],
            [
             0.3,
             "#f1b6da"
            ],
            [
             0.4,
             "#fde0ef"
            ],
            [
             0.5,
             "#f7f7f7"
            ],
            [
             0.6,
             "#e6f5d0"
            ],
            [
             0.7,
             "#b8e186"
            ],
            [
             0.8,
             "#7fbc41"
            ],
            [
             0.9,
             "#4d9221"
            ],
            [
             1,
             "#276419"
            ]
           ],
           "sequential": [
            [
             0,
             "#0d0887"
            ],
            [
             0.1111111111111111,
             "#46039f"
            ],
            [
             0.2222222222222222,
             "#7201a8"
            ],
            [
             0.3333333333333333,
             "#9c179e"
            ],
            [
             0.4444444444444444,
             "#bd3786"
            ],
            [
             0.5555555555555556,
             "#d8576b"
            ],
            [
             0.6666666666666666,
             "#ed7953"
            ],
            [
             0.7777777777777778,
             "#fb9f3a"
            ],
            [
             0.8888888888888888,
             "#fdca26"
            ],
            [
             1,
             "#f0f921"
            ]
           ],
           "sequentialminus": [
            [
             0,
             "#0d0887"
            ],
            [
             0.1111111111111111,
             "#46039f"
            ],
            [
             0.2222222222222222,
             "#7201a8"
            ],
            [
             0.3333333333333333,
             "#9c179e"
            ],
            [
             0.4444444444444444,
             "#bd3786"
            ],
            [
             0.5555555555555556,
             "#d8576b"
            ],
            [
             0.6666666666666666,
             "#ed7953"
            ],
            [
             0.7777777777777778,
             "#fb9f3a"
            ],
            [
             0.8888888888888888,
             "#fdca26"
            ],
            [
             1,
             "#f0f921"
            ]
           ]
          },
          "colorway": [
           "#636efa",
           "#EF553B",
           "#00cc96",
           "#ab63fa",
           "#FFA15A",
           "#19d3f3",
           "#FF6692",
           "#B6E880",
           "#FF97FF",
           "#FECB52"
          ],
          "font": {
           "color": "#2a3f5f"
          },
          "geo": {
           "bgcolor": "white",
           "lakecolor": "white",
           "landcolor": "#E5ECF6",
           "showlakes": true,
           "showland": true,
           "subunitcolor": "white"
          },
          "hoverlabel": {
           "align": "left"
          },
          "hovermode": "closest",
          "mapbox": {
           "style": "light"
          },
          "paper_bgcolor": "white",
          "plot_bgcolor": "#E5ECF6",
          "polar": {
           "angularaxis": {
            "gridcolor": "white",
            "linecolor": "white",
            "ticks": ""
           },
           "bgcolor": "#E5ECF6",
           "radialaxis": {
            "gridcolor": "white",
            "linecolor": "white",
            "ticks": ""
           }
          },
          "scene": {
           "xaxis": {
            "backgroundcolor": "#E5ECF6",
            "gridcolor": "white",
            "gridwidth": 2,
            "linecolor": "white",
            "showbackground": true,
            "ticks": "",
            "zerolinecolor": "white"
           },
           "yaxis": {
            "backgroundcolor": "#E5ECF6",
            "gridcolor": "white",
            "gridwidth": 2,
            "linecolor": "white",
            "showbackground": true,
            "ticks": "",
            "zerolinecolor": "white"
           },
           "zaxis": {
            "backgroundcolor": "#E5ECF6",
            "gridcolor": "white",
            "gridwidth": 2,
            "linecolor": "white",
            "showbackground": true,
            "ticks": "",
            "zerolinecolor": "white"
           }
          },
          "shapedefaults": {
           "line": {
            "color": "#2a3f5f"
           }
          },
          "ternary": {
           "aaxis": {
            "gridcolor": "white",
            "linecolor": "white",
            "ticks": ""
           },
           "baxis": {
            "gridcolor": "white",
            "linecolor": "white",
            "ticks": ""
           },
           "bgcolor": "#E5ECF6",
           "caxis": {
            "gridcolor": "white",
            "linecolor": "white",
            "ticks": ""
           }
          },
          "title": {
           "x": 0.05
          },
          "xaxis": {
           "automargin": true,
           "gridcolor": "white",
           "linecolor": "white",
           "ticks": "",
           "title": {
            "standoff": 15
           },
           "zerolinecolor": "white",
           "zerolinewidth": 2
          },
          "yaxis": {
           "automargin": true,
           "gridcolor": "white",
           "linecolor": "white",
           "ticks": "",
           "title": {
            "standoff": 15
           },
           "zerolinecolor": "white",
           "zerolinewidth": 2
          }
         }
        },
        "title": {
         "text": "Butter Exports"
        },
        "xaxis": {
         "anchor": "y",
         "domain": [
          0,
          1
         ],
         "title": {
          "text": "Month Date"
         }
        },
        "yaxis": {
         "anchor": "x",
         "domain": [
          0,
          1
         ],
         "title": {
          "text": "Quantity (tonnes)"
         }
        }
       }
      },
      "text/html": [
       "<div>                            <div id=\"2ccc16a9-9589-4145-a851-75360c68b92d\" class=\"plotly-graph-div\" style=\"height:525px; width:100%;\"></div>            <script type=\"text/javascript\">                require([\"plotly\"], function(Plotly) {                    window.PLOTLYENV=window.PLOTLYENV || {};                                    if (document.getElementById(\"2ccc16a9-9589-4145-a851-75360c68b92d\")) {                    Plotly.newPlot(                        \"2ccc16a9-9589-4145-a851-75360c68b92d\",                        [{\"hovertemplate\":\"Country=New Zealand<br>Month Date=%{x}<br>Quantity (tonnes)=%{y}<extra></extra>\",\"legendgroup\":\"New Zealand\",\"line\":{\"color\":\"#636efa\",\"dash\":\"solid\"},\"marker\":{\"symbol\":\"circle\"},\"mode\":\"lines\",\"name\":\"New Zealand\",\"orientation\":\"v\",\"showlegend\":true,\"x\":[\"2022-12-31T00:00:00\",\"2021-12-31T00:00:00\",\"2020-12-31T00:00:00\",\"2019-12-31T00:00:00\",\"2018-12-31T00:00:00\",\"2017-12-31T00:00:00\",\"2016-12-31T00:00:00\",\"2015-12-31T00:00:00\",\"2014-12-31T00:00:00\",\"2013-12-31T00:00:00\",\"2012-12-31T00:00:00\",\"2011-12-31T00:00:00\",\"2010-12-31T00:00:00\"],\"xaxis\":\"x\",\"y\":[178756.266,240404.956,240794.813,279653.213,271654.58999999997,268044.413,295051.393,290121.483,304191.417,280329.754,292005.288,263704.136,254038.819],\"yaxis\":\"y\",\"type\":\"scatter\"},{\"hovertemplate\":\"Country=Ireland<br>Month Date=%{x}<br>Quantity (tonnes)=%{y}<extra></extra>\",\"legendgroup\":\"Ireland\",\"line\":{\"color\":\"#EF553B\",\"dash\":\"solid\"},\"marker\":{\"symbol\":\"circle\"},\"mode\":\"lines\",\"name\":\"Ireland\",\"orientation\":\"v\",\"showlegend\":true,\"x\":[\"2022-12-31T00:00:00\",\"2021-12-31T00:00:00\",\"2020-12-31T00:00:00\",\"2019-12-31T00:00:00\",\"2018-12-31T00:00:00\",\"2017-12-31T00:00:00\",\"2016-12-31T00:00:00\",\"2015-12-31T00:00:00\",\"2014-12-31T00:00:00\",\"2013-12-31T00:00:00\",\"2012-12-31T00:00:00\",\"2011-12-31T00:00:00\",\"2010-12-31T00:00:00\"],\"xaxis\":\"x\",\"y\":[68871.577,78437.19,94754.618,50952.123999999996,31161.031,31536.196,33485.652,22176.664,9427.842,5595.613,6908.598,5687.2970000000005,7956.961],\"yaxis\":\"y\",\"type\":\"scatter\"},{\"hovertemplate\":\"Country=France<br>Month Date=%{x}<br>Quantity (tonnes)=%{y}<extra></extra>\",\"legendgroup\":\"France\",\"line\":{\"color\":\"#00cc96\",\"dash\":\"solid\"},\"marker\":{\"symbol\":\"circle\"},\"mode\":\"lines\",\"name\":\"France\",\"orientation\":\"v\",\"showlegend\":true,\"x\":[\"2022-12-31T00:00:00\",\"2021-12-31T00:00:00\",\"2020-12-31T00:00:00\",\"2019-12-31T00:00:00\",\"2018-12-31T00:00:00\",\"2017-12-31T00:00:00\",\"2016-12-31T00:00:00\",\"2015-12-31T00:00:00\",\"2014-12-31T00:00:00\",\"2013-12-31T00:00:00\",\"2012-12-31T00:00:00\",\"2011-12-31T00:00:00\",\"2010-12-31T00:00:00\"],\"xaxis\":\"x\",\"y\":[40360.689,44124.561,41001.032999999996,34039.787,32053.762000000002,34478.499,32056.272,28746.262,29319.378,28512.54,24551.135000000002,20831.005,19381.727],\"yaxis\":\"y\",\"type\":\"scatter\"},{\"hovertemplate\":\"Country=Denmark<br>Month Date=%{x}<br>Quantity (tonnes)=%{y}<extra></extra>\",\"legendgroup\":\"Denmark\",\"line\":{\"color\":\"#ab63fa\",\"dash\":\"solid\"},\"marker\":{\"symbol\":\"circle\"},\"mode\":\"lines\",\"name\":\"Denmark\",\"orientation\":\"v\",\"showlegend\":true,\"x\":[\"2022-12-31T00:00:00\",\"2021-12-31T00:00:00\",\"2020-12-31T00:00:00\",\"2019-12-31T00:00:00\",\"2018-12-31T00:00:00\",\"2017-12-31T00:00:00\",\"2016-12-31T00:00:00\",\"2015-12-31T00:00:00\",\"2014-12-31T00:00:00\",\"2013-12-31T00:00:00\",\"2012-12-31T00:00:00\",\"2011-12-31T00:00:00\",\"2010-12-31T00:00:00\"],\"xaxis\":\"x\",\"y\":[24279.438000000002,28972.654,28774.798,21314.227,21972.824,16218.445,17280.709,17048.083,12812.253,13742.305,12766.835,12310.374,9798.743],\"yaxis\":\"y\",\"type\":\"scatter\"},{\"hovertemplate\":\"Country=Netherlands<br>Month Date=%{x}<br>Quantity (tonnes)=%{y}<extra></extra>\",\"legendgroup\":\"Netherlands\",\"line\":{\"color\":\"#FFA15A\",\"dash\":\"solid\"},\"marker\":{\"symbol\":\"circle\"},\"mode\":\"lines\",\"name\":\"Netherlands\",\"orientation\":\"v\",\"showlegend\":true,\"x\":[\"2022-12-31T00:00:00\",\"2021-12-31T00:00:00\",\"2020-12-31T00:00:00\",\"2019-12-31T00:00:00\",\"2018-12-31T00:00:00\",\"2017-12-31T00:00:00\",\"2016-12-31T00:00:00\",\"2015-12-31T00:00:00\",\"2014-12-31T00:00:00\",\"2013-12-31T00:00:00\",\"2012-12-31T00:00:00\",\"2011-12-31T00:00:00\",\"2010-12-31T00:00:00\"],\"xaxis\":\"x\",\"y\":[17732.504,27280.127,31558.174,24524.452,15089.714,15072.662,20520.044,22055.034,18226.712,12493.413,17324.564,16757.252,29811.153],\"yaxis\":\"y\",\"type\":\"scatter\"},{\"hovertemplate\":\"Country=Belgium<br>Month Date=%{x}<br>Quantity (tonnes)=%{y}<extra></extra>\",\"legendgroup\":\"Belgium\",\"line\":{\"color\":\"#19d3f3\",\"dash\":\"solid\"},\"marker\":{\"symbol\":\"circle\"},\"mode\":\"lines\",\"name\":\"Belgium\",\"orientation\":\"v\",\"showlegend\":true,\"x\":[\"2022-12-31T00:00:00\",\"2021-12-31T00:00:00\",\"2020-12-31T00:00:00\",\"2019-12-31T00:00:00\",\"2018-12-31T00:00:00\",\"2017-12-31T00:00:00\",\"2016-12-31T00:00:00\",\"2015-12-31T00:00:00\",\"2014-12-31T00:00:00\",\"2013-12-31T00:00:00\",\"2012-12-31T00:00:00\",\"2011-12-31T00:00:00\",\"2010-12-31T00:00:00\"],\"xaxis\":\"x\",\"y\":[10359.498,12442.042,17640.65,12854.992999999999,6548.768,9294.559,11189.112,10703.714,7552.771,5056.8,4347.5,4468.7,9822.3],\"yaxis\":\"y\",\"type\":\"scatter\"},{\"hovertemplate\":\"Country=Germany<br>Month Date=%{x}<br>Quantity (tonnes)=%{y}<extra></extra>\",\"legendgroup\":\"Germany\",\"line\":{\"color\":\"#FF6692\",\"dash\":\"solid\"},\"marker\":{\"symbol\":\"circle\"},\"mode\":\"lines\",\"name\":\"Germany\",\"orientation\":\"v\",\"showlegend\":true,\"x\":[\"2022-12-31T00:00:00\",\"2021-12-31T00:00:00\",\"2020-12-31T00:00:00\",\"2019-12-31T00:00:00\",\"2018-12-31T00:00:00\",\"2017-12-31T00:00:00\",\"2016-12-31T00:00:00\",\"2015-12-31T00:00:00\",\"2014-12-31T00:00:00\",\"2013-12-31T00:00:00\",\"2012-12-31T00:00:00\",\"2011-12-31T00:00:00\",\"2010-12-31T00:00:00\"],\"xaxis\":\"x\",\"y\":[8607.433,13785.73,14077.339,16518.459,9885.749,12356.174,14679.600999999999,10759.835,9970.458,9174.766,10103.909,11686.411,21820.779],\"yaxis\":\"y\",\"type\":\"scatter\"},{\"hovertemplate\":\"Country=Poland<br>Month Date=%{x}<br>Quantity (tonnes)=%{y}<extra></extra>\",\"legendgroup\":\"Poland\",\"line\":{\"color\":\"#B6E880\",\"dash\":\"solid\"},\"marker\":{\"symbol\":\"circle\"},\"mode\":\"lines\",\"name\":\"Poland\",\"orientation\":\"v\",\"showlegend\":true,\"x\":[\"2022-12-31T00:00:00\",\"2021-12-31T00:00:00\",\"2020-12-31T00:00:00\",\"2019-12-31T00:00:00\",\"2018-12-31T00:00:00\",\"2017-12-31T00:00:00\",\"2016-12-31T00:00:00\",\"2015-12-31T00:00:00\",\"2014-12-31T00:00:00\",\"2013-12-31T00:00:00\",\"2012-12-31T00:00:00\",\"2011-12-31T00:00:00\",\"2010-12-31T00:00:00\"],\"xaxis\":\"x\",\"y\":[4008.1910000000003,7141.615,13092.585,6503.8640000000005,1897.532,3241.49,4796.143,2443.288,2363.377,1856.8120000000001,2787.932,2590.9030000000002,2247.777],\"yaxis\":\"y\",\"type\":\"scatter\"},{\"hovertemplate\":\"Country=Finland<br>Month Date=%{x}<br>Quantity (tonnes)=%{y}<extra></extra>\",\"legendgroup\":\"Finland\",\"line\":{\"color\":\"#FF97FF\",\"dash\":\"solid\"},\"marker\":{\"symbol\":\"circle\"},\"mode\":\"lines\",\"name\":\"Finland\",\"orientation\":\"v\",\"showlegend\":true,\"x\":[\"2022-12-31T00:00:00\",\"2021-12-31T00:00:00\",\"2020-12-31T00:00:00\",\"2019-12-31T00:00:00\",\"2018-12-31T00:00:00\",\"2017-12-31T00:00:00\",\"2016-12-31T00:00:00\",\"2015-12-31T00:00:00\",\"2014-12-31T00:00:00\",\"2013-12-31T00:00:00\",\"2012-12-31T00:00:00\",\"2011-12-31T00:00:00\",\"2010-12-31T00:00:00\"],\"xaxis\":\"x\",\"y\":[3537.679,4440.236,5342.595,4417.749,3273.8940000000002,3842.729,6456.096,7150.24,10330.795,11944.626,11672.578,11001.91,13104.569],\"yaxis\":\"y\",\"type\":\"scatter\"},{\"hovertemplate\":\"Country=Lithuania<br>Month Date=%{x}<br>Quantity (tonnes)=%{y}<extra></extra>\",\"legendgroup\":\"Lithuania\",\"line\":{\"color\":\"#FECB52\",\"dash\":\"solid\"},\"marker\":{\"symbol\":\"circle\"},\"mode\":\"lines\",\"name\":\"Lithuania\",\"orientation\":\"v\",\"showlegend\":true,\"x\":[\"2022-12-31T00:00:00\",\"2021-12-31T00:00:00\",\"2020-12-31T00:00:00\",\"2019-12-31T00:00:00\",\"2018-12-31T00:00:00\",\"2017-12-31T00:00:00\",\"2016-12-31T00:00:00\",\"2015-12-31T00:00:00\",\"2014-12-31T00:00:00\",\"2013-12-31T00:00:00\",\"2012-12-31T00:00:00\",\"2011-12-31T00:00:00\",\"2010-12-31T00:00:00\"],\"xaxis\":\"x\",\"y\":[2416.381,1070.7939999999999,4746.866,1808.2420000000002,504.892,720.009,8673.325,4921.52,6229.097,1875.074,643.367,215.441,551.756],\"yaxis\":\"y\",\"type\":\"scatter\"},{\"hovertemplate\":\"Country=Portugal<br>Month Date=%{x}<br>Quantity (tonnes)=%{y}<extra></extra>\",\"legendgroup\":\"Portugal\",\"line\":{\"color\":\"#636efa\",\"dash\":\"solid\"},\"marker\":{\"symbol\":\"circle\"},\"mode\":\"lines\",\"name\":\"Portugal\",\"orientation\":\"v\",\"showlegend\":true,\"x\":[\"2022-12-31T00:00:00\",\"2021-12-31T00:00:00\",\"2020-12-31T00:00:00\",\"2019-12-31T00:00:00\",\"2018-12-31T00:00:00\",\"2017-12-31T00:00:00\",\"2016-12-31T00:00:00\",\"2015-12-31T00:00:00\",\"2014-12-31T00:00:00\",\"2013-12-31T00:00:00\",\"2012-12-31T00:00:00\",\"2011-12-31T00:00:00\",\"2010-12-31T00:00:00\"],\"xaxis\":\"x\",\"y\":[2436.774,4625.198,6667.984,2175.762,2517.701,3134.703,4111.786,3210.304,2353.088,1678.4479999999999,1444.585,863.35,1028.127],\"yaxis\":\"y\",\"type\":\"scatter\"},{\"hovertemplate\":\"Country=Italy<br>Month Date=%{x}<br>Quantity (tonnes)=%{y}<extra></extra>\",\"legendgroup\":\"Italy\",\"line\":{\"color\":\"#EF553B\",\"dash\":\"solid\"},\"marker\":{\"symbol\":\"circle\"},\"mode\":\"lines\",\"name\":\"Italy\",\"orientation\":\"v\",\"showlegend\":true,\"x\":[\"2022-12-31T00:00:00\",\"2021-12-31T00:00:00\",\"2020-12-31T00:00:00\",\"2019-12-31T00:00:00\",\"2018-12-31T00:00:00\",\"2017-12-31T00:00:00\",\"2016-12-31T00:00:00\",\"2015-12-31T00:00:00\",\"2014-12-31T00:00:00\",\"2013-12-31T00:00:00\",\"2012-12-31T00:00:00\",\"2011-12-31T00:00:00\",\"2010-12-31T00:00:00\"],\"xaxis\":\"x\",\"y\":[1251.835,2048.93,2040.306,1267.782,378.059,457.05899999999997,603.322,481.448,287.878,236.551,167.653,214.056,215.442],\"yaxis\":\"y\",\"type\":\"scatter\"},{\"hovertemplate\":\"Country=Spain<br>Month Date=%{x}<br>Quantity (tonnes)=%{y}<extra></extra>\",\"legendgroup\":\"Spain\",\"line\":{\"color\":\"#00cc96\",\"dash\":\"solid\"},\"marker\":{\"symbol\":\"circle\"},\"mode\":\"lines\",\"name\":\"Spain\",\"orientation\":\"v\",\"showlegend\":true,\"x\":[\"2022-12-31T00:00:00\",\"2021-12-31T00:00:00\",\"2020-12-31T00:00:00\",\"2019-12-31T00:00:00\",\"2018-12-31T00:00:00\",\"2017-12-31T00:00:00\",\"2016-12-31T00:00:00\",\"2015-12-31T00:00:00\",\"2014-12-31T00:00:00\",\"2013-12-31T00:00:00\",\"2012-12-31T00:00:00\",\"2011-12-31T00:00:00\",\"2010-12-31T00:00:00\"],\"xaxis\":\"x\",\"y\":[1094.802,1692.318,1789.933,919.926,810.217,805.473,936.5250000000001,786.605,487.214,718.086,874.851,396.158,341.375],\"yaxis\":\"y\",\"type\":\"scatter\"},{\"hovertemplate\":\"Country=Croatia<br>Month Date=%{x}<br>Quantity (tonnes)=%{y}<extra></extra>\",\"legendgroup\":\"Croatia\",\"line\":{\"color\":\"#ab63fa\",\"dash\":\"solid\"},\"marker\":{\"symbol\":\"circle\"},\"mode\":\"lines\",\"name\":\"Croatia\",\"orientation\":\"v\",\"showlegend\":true,\"x\":[\"2022-12-31T00:00:00\",\"2021-12-31T00:00:00\",\"2020-12-31T00:00:00\",\"2019-12-31T00:00:00\",\"2018-12-31T00:00:00\",\"2017-12-31T00:00:00\",\"2016-12-31T00:00:00\",\"2015-12-31T00:00:00\",\"2014-12-31T00:00:00\",\"2013-12-31T00:00:00\"],\"xaxis\":\"x\",\"y\":[354.109,412.447,426.671,461.32099999999997,456.83299999999997,494.83,337.735,344.858,486.788,205.793],\"yaxis\":\"y\",\"type\":\"scatter\"},{\"hovertemplate\":\"Country=Romania<br>Month Date=%{x}<br>Quantity (tonnes)=%{y}<extra></extra>\",\"legendgroup\":\"Romania\",\"line\":{\"color\":\"#FFA15A\",\"dash\":\"solid\"},\"marker\":{\"symbol\":\"circle\"},\"mode\":\"lines\",\"name\":\"Romania\",\"orientation\":\"v\",\"showlegend\":true,\"x\":[\"2022-12-31T00:00:00\",\"2021-12-31T00:00:00\",\"2020-12-31T00:00:00\",\"2019-12-31T00:00:00\",\"2018-12-31T00:00:00\",\"2017-12-31T00:00:00\",\"2016-12-31T00:00:00\",\"2015-12-31T00:00:00\",\"2014-12-31T00:00:00\",\"2012-12-31T00:00:00\",\"2010-12-31T00:00:00\"],\"xaxis\":\"x\",\"y\":[176.248,333.062,268.487,124.43,62.011,327.497,134.149,15.403,9.185,0.0,0.851],\"yaxis\":\"y\",\"type\":\"scatter\"},{\"hovertemplate\":\"Country=Slovenia<br>Month Date=%{x}<br>Quantity (tonnes)=%{y}<extra></extra>\",\"legendgroup\":\"Slovenia\",\"line\":{\"color\":\"#19d3f3\",\"dash\":\"solid\"},\"marker\":{\"symbol\":\"circle\"},\"mode\":\"lines\",\"name\":\"Slovenia\",\"orientation\":\"v\",\"showlegend\":true,\"x\":[\"2022-12-31T00:00:00\",\"2021-12-31T00:00:00\",\"2020-12-31T00:00:00\",\"2019-12-31T00:00:00\",\"2018-12-31T00:00:00\",\"2017-12-31T00:00:00\",\"2016-12-31T00:00:00\",\"2015-12-31T00:00:00\",\"2014-12-31T00:00:00\",\"2013-12-31T00:00:00\",\"2012-12-31T00:00:00\",\"2011-12-31T00:00:00\",\"2010-12-31T00:00:00\"],\"xaxis\":\"x\",\"y\":[89.05499999999999,71.545,44.578,60.312999999999995,59.131,73.102,58.664,50.943000000000005,114.265,76.158,296.991,118.191,196.581],\"yaxis\":\"y\",\"type\":\"scatter\"},{\"hovertemplate\":\"Country=Estonia<br>Month Date=%{x}<br>Quantity (tonnes)=%{y}<extra></extra>\",\"legendgroup\":\"Estonia\",\"line\":{\"color\":\"#FF6692\",\"dash\":\"solid\"},\"marker\":{\"symbol\":\"circle\"},\"mode\":\"lines\",\"name\":\"Estonia\",\"orientation\":\"v\",\"showlegend\":true,\"x\":[\"2022-12-31T00:00:00\",\"2021-12-31T00:00:00\",\"2020-12-31T00:00:00\",\"2019-12-31T00:00:00\",\"2018-12-31T00:00:00\",\"2017-12-31T00:00:00\",\"2016-12-31T00:00:00\",\"2015-12-31T00:00:00\",\"2014-12-31T00:00:00\",\"2013-12-31T00:00:00\",\"2012-12-31T00:00:00\",\"2011-12-31T00:00:00\",\"2010-12-31T00:00:00\"],\"xaxis\":\"x\",\"y\":[88.192,148.544,165.23,80.57600000000001,31.796,168.94,157.518,492.04999999999995,161.23499999999999,34.862,117.4,194.346,1700.147],\"yaxis\":\"y\",\"type\":\"scatter\"},{\"hovertemplate\":\"Country=Slovakia<br>Month Date=%{x}<br>Quantity (tonnes)=%{y}<extra></extra>\",\"legendgroup\":\"Slovakia\",\"line\":{\"color\":\"#B6E880\",\"dash\":\"solid\"},\"marker\":{\"symbol\":\"circle\"},\"mode\":\"lines\",\"name\":\"Slovakia\",\"orientation\":\"v\",\"showlegend\":true,\"x\":[\"2022-12-31T00:00:00\",\"2021-12-31T00:00:00\",\"2020-12-31T00:00:00\",\"2019-12-31T00:00:00\",\"2018-12-31T00:00:00\",\"2017-12-31T00:00:00\",\"2016-12-31T00:00:00\",\"2015-12-31T00:00:00\",\"2014-12-31T00:00:00\",\"2013-12-31T00:00:00\",\"2012-12-31T00:00:00\",\"2011-12-31T00:00:00\"],\"xaxis\":\"x\",\"y\":[53.646,105.263,42.704,31.262,14.808,0.03,16.939999999999998,20.262,10.09,1.049,1.321,64.5],\"yaxis\":\"y\",\"type\":\"scatter\"},{\"hovertemplate\":\"Country=Czechia<br>Month Date=%{x}<br>Quantity (tonnes)=%{y}<extra></extra>\",\"legendgroup\":\"Czechia\",\"line\":{\"color\":\"#FF97FF\",\"dash\":\"solid\"},\"marker\":{\"symbol\":\"circle\"},\"mode\":\"lines\",\"name\":\"Czechia\",\"orientation\":\"v\",\"showlegend\":true,\"x\":[\"2022-12-31T00:00:00\",\"2021-12-31T00:00:00\",\"2020-12-31T00:00:00\",\"2019-12-31T00:00:00\",\"2018-12-31T00:00:00\",\"2017-12-31T00:00:00\",\"2016-12-31T00:00:00\",\"2015-12-31T00:00:00\",\"2014-12-31T00:00:00\",\"2013-12-31T00:00:00\",\"2012-12-31T00:00:00\",\"2011-12-31T00:00:00\",\"2010-12-31T00:00:00\"],\"xaxis\":\"x\",\"y\":[42.617000000000004,62.92100000000001,52.61600000000001,41.616,43.40600000000001,62.879000000000005,127.112,135.353,406.092,618.7370000000001,729.885,1073.395,869.249],\"yaxis\":\"y\",\"type\":\"scatter\"},{\"hovertemplate\":\"Country=Bulgaria<br>Month Date=%{x}<br>Quantity (tonnes)=%{y}<extra></extra>\",\"legendgroup\":\"Bulgaria\",\"line\":{\"color\":\"#FECB52\",\"dash\":\"solid\"},\"marker\":{\"symbol\":\"circle\"},\"mode\":\"lines\",\"name\":\"Bulgaria\",\"orientation\":\"v\",\"showlegend\":true,\"x\":[\"2022-12-31T00:00:00\",\"2021-12-31T00:00:00\",\"2020-12-31T00:00:00\",\"2019-12-31T00:00:00\",\"2018-12-31T00:00:00\",\"2017-12-31T00:00:00\",\"2016-12-31T00:00:00\",\"2015-12-31T00:00:00\",\"2014-12-31T00:00:00\",\"2013-12-31T00:00:00\",\"2012-12-31T00:00:00\",\"2011-12-31T00:00:00\",\"2010-12-31T00:00:00\"],\"xaxis\":\"x\",\"y\":[30.628999999999998,23.439999999999998,9.745,4.064,0.38,0.33,1.75,20.0,30.543000000000003,0.06,62.300000000000004,20.975,80.475],\"yaxis\":\"y\",\"type\":\"scatter\"},{\"hovertemplate\":\"Country=Hungary<br>Month Date=%{x}<br>Quantity (tonnes)=%{y}<extra></extra>\",\"legendgroup\":\"Hungary\",\"line\":{\"color\":\"#636efa\",\"dash\":\"solid\"},\"marker\":{\"symbol\":\"circle\"},\"mode\":\"lines\",\"name\":\"Hungary\",\"orientation\":\"v\",\"showlegend\":true,\"x\":[\"2022-12-31T00:00:00\",\"2021-12-31T00:00:00\",\"2020-12-31T00:00:00\",\"2019-12-31T00:00:00\",\"2018-12-31T00:00:00\",\"2017-12-31T00:00:00\",\"2016-12-31T00:00:00\",\"2015-12-31T00:00:00\",\"2014-12-31T00:00:00\",\"2013-12-31T00:00:00\",\"2012-12-31T00:00:00\",\"2011-12-31T00:00:00\",\"2010-12-31T00:00:00\"],\"xaxis\":\"x\",\"y\":[28.397000000000002,99.314,802.777,14.509,33.125,25.768,100.25999999999999,166.255,114.02600000000001,284.77299999999997,56.931,0.213,21.858],\"yaxis\":\"y\",\"type\":\"scatter\"},{\"hovertemplate\":\"Country=Sweden<br>Month Date=%{x}<br>Quantity (tonnes)=%{y}<extra></extra>\",\"legendgroup\":\"Sweden\",\"line\":{\"color\":\"#EF553B\",\"dash\":\"solid\"},\"marker\":{\"symbol\":\"circle\"},\"mode\":\"lines\",\"name\":\"Sweden\",\"orientation\":\"v\",\"showlegend\":true,\"x\":[\"2022-12-31T00:00:00\",\"2021-12-31T00:00:00\",\"2020-12-31T00:00:00\",\"2019-12-31T00:00:00\",\"2018-12-31T00:00:00\",\"2017-12-31T00:00:00\",\"2016-12-31T00:00:00\",\"2015-12-31T00:00:00\",\"2014-12-31T00:00:00\",\"2013-12-31T00:00:00\",\"2012-12-31T00:00:00\",\"2011-12-31T00:00:00\",\"2010-12-31T00:00:00\"],\"xaxis\":\"x\",\"y\":[31.526,20.941000000000003,3.3680000000000003,3.7600000000000002,5.545,4.529,3.842,1.2309999999999999,99.47000000000001,21.615000000000002,606.245,229.625,586.735],\"yaxis\":\"y\",\"type\":\"scatter\"},{\"hovertemplate\":\"Country=Greece<br>Month Date=%{x}<br>Quantity (tonnes)=%{y}<extra></extra>\",\"legendgroup\":\"Greece\",\"line\":{\"color\":\"#00cc96\",\"dash\":\"solid\"},\"marker\":{\"symbol\":\"circle\"},\"mode\":\"lines\",\"name\":\"Greece\",\"orientation\":\"v\",\"showlegend\":true,\"x\":[\"2022-12-31T00:00:00\",\"2021-12-31T00:00:00\",\"2020-12-31T00:00:00\",\"2019-12-31T00:00:00\",\"2018-12-31T00:00:00\",\"2017-12-31T00:00:00\",\"2016-12-31T00:00:00\",\"2015-12-31T00:00:00\",\"2014-12-31T00:00:00\",\"2013-12-31T00:00:00\",\"2012-12-31T00:00:00\",\"2011-12-31T00:00:00\",\"2010-12-31T00:00:00\"],\"xaxis\":\"x\",\"y\":[18.409000000000002,30.483,17.634999999999998,11.087,32.408,13.478,12.857,4.904,59.495000000000005,51.206,4.954,1.078,0.929],\"yaxis\":\"y\",\"type\":\"scatter\"},{\"hovertemplate\":\"Country=Austria<br>Month Date=%{x}<br>Quantity (tonnes)=%{y}<extra></extra>\",\"legendgroup\":\"Austria\",\"line\":{\"color\":\"#ab63fa\",\"dash\":\"solid\"},\"marker\":{\"symbol\":\"circle\"},\"mode\":\"lines\",\"name\":\"Austria\",\"orientation\":\"v\",\"showlegend\":true,\"x\":[\"2022-12-31T00:00:00\",\"2021-12-31T00:00:00\",\"2020-12-31T00:00:00\",\"2019-12-31T00:00:00\",\"2018-12-31T00:00:00\",\"2017-12-31T00:00:00\",\"2016-12-31T00:00:00\",\"2015-12-31T00:00:00\",\"2014-12-31T00:00:00\",\"2013-12-31T00:00:00\",\"2012-12-31T00:00:00\",\"2011-12-31T00:00:00\",\"2010-12-31T00:00:00\"],\"xaxis\":\"x\",\"y\":[14.911000000000001,37.037,24.471,44.528999999999996,42.75,61.727,63.098,156.486,51.564,82.287,58.464,126.45200000000001,78.552],\"yaxis\":\"y\",\"type\":\"scatter\"},{\"hovertemplate\":\"Country=Latvia<br>Month Date=%{x}<br>Quantity (tonnes)=%{y}<extra></extra>\",\"legendgroup\":\"Latvia\",\"line\":{\"color\":\"#FFA15A\",\"dash\":\"solid\"},\"marker\":{\"symbol\":\"circle\"},\"mode\":\"lines\",\"name\":\"Latvia\",\"orientation\":\"v\",\"showlegend\":true,\"x\":[\"2022-12-31T00:00:00\",\"2021-12-31T00:00:00\",\"2020-12-31T00:00:00\",\"2019-12-31T00:00:00\",\"2018-12-31T00:00:00\",\"2017-12-31T00:00:00\",\"2016-12-31T00:00:00\",\"2015-12-31T00:00:00\",\"2014-12-31T00:00:00\",\"2013-12-31T00:00:00\",\"2012-12-31T00:00:00\",\"2011-12-31T00:00:00\",\"2010-12-31T00:00:00\"],\"xaxis\":\"x\",\"y\":[8.134,35.152,178.708,188.83499999999998,3.558,145.045,239.276,90.506,2338.961,1825.528,478.933,94.128,247.32],\"yaxis\":\"y\",\"type\":\"scatter\"},{\"hovertemplate\":\"Country=Luxembourg<br>Month Date=%{x}<br>Quantity (tonnes)=%{y}<extra></extra>\",\"legendgroup\":\"Luxembourg\",\"line\":{\"color\":\"#19d3f3\",\"dash\":\"solid\"},\"marker\":{\"symbol\":\"circle\"},\"mode\":\"lines\",\"name\":\"Luxembourg\",\"orientation\":\"v\",\"showlegend\":true,\"x\":[\"2022-12-31T00:00:00\",\"2021-12-31T00:00:00\",\"2020-12-31T00:00:00\",\"2019-12-31T00:00:00\",\"2018-12-31T00:00:00\",\"2017-12-31T00:00:00\",\"2016-12-31T00:00:00\",\"2015-12-31T00:00:00\",\"2014-12-31T00:00:00\",\"2013-12-31T00:00:00\",\"2012-12-31T00:00:00\",\"2011-12-31T00:00:00\",\"2010-12-31T00:00:00\"],\"xaxis\":\"x\",\"y\":[2.391,2.115,2.1670000000000003,4.827,1.4649999999999999,2.928,3.817,5.116,0.777,1.134,2.4290000000000003,5.513,0.84],\"yaxis\":\"y\",\"type\":\"scatter\"},{\"hovertemplate\":\"Country=Malta<br>Month Date=%{x}<br>Quantity (tonnes)=%{y}<extra></extra>\",\"legendgroup\":\"Malta\",\"line\":{\"color\":\"#FF6692\",\"dash\":\"solid\"},\"marker\":{\"symbol\":\"circle\"},\"mode\":\"lines\",\"name\":\"Malta\",\"orientation\":\"v\",\"showlegend\":true,\"x\":[\"2022-12-31T00:00:00\",\"2021-12-31T00:00:00\",\"2019-12-31T00:00:00\",\"2017-12-31T00:00:00\"],\"xaxis\":\"x\",\"y\":[0.207,11.370000000000001,0.159,0.34299999999999997],\"yaxis\":\"y\",\"type\":\"scatter\"},{\"hovertemplate\":\"Country=United Kingdom<br>Month Date=%{x}<br>Quantity (tonnes)=%{y}<extra></extra>\",\"legendgroup\":\"United Kingdom\",\"line\":{\"color\":\"#B6E880\",\"dash\":\"solid\"},\"marker\":{\"symbol\":\"circle\"},\"mode\":\"lines\",\"name\":\"United Kingdom\",\"orientation\":\"v\",\"showlegend\":true,\"x\":[\"2020-12-31T00:00:00\",\"2019-12-31T00:00:00\",\"2018-12-31T00:00:00\",\"2017-12-31T00:00:00\",\"2016-12-31T00:00:00\",\"2015-12-31T00:00:00\",\"2014-12-31T00:00:00\",\"2013-12-31T00:00:00\",\"2012-12-31T00:00:00\",\"2011-12-31T00:00:00\",\"2010-12-31T00:00:00\"],\"xaxis\":\"x\",\"y\":[851.889,6103.8240000000005,2688.1910000000003,6368.284,7898.475,4056.1809999999996,2331.545,1303.103,2393.984,1679.417,2560.928],\"yaxis\":\"y\",\"type\":\"scatter\"},{\"hovertemplate\":\"Country=Cyprus<br>Month Date=%{x}<br>Quantity (tonnes)=%{y}<extra></extra>\",\"legendgroup\":\"Cyprus\",\"line\":{\"color\":\"#FF97FF\",\"dash\":\"solid\"},\"marker\":{\"symbol\":\"circle\"},\"mode\":\"lines\",\"name\":\"Cyprus\",\"orientation\":\"v\",\"showlegend\":true,\"x\":[\"2016-12-31T00:00:00\",\"2015-12-31T00:00:00\",\"2013-12-31T00:00:00\"],\"xaxis\":\"x\",\"y\":[0.251,0.101,3.2],\"yaxis\":\"y\",\"type\":\"scatter\"}],                        {\"template\":{\"data\":{\"bar\":[{\"error_x\":{\"color\":\"#2a3f5f\"},\"error_y\":{\"color\":\"#2a3f5f\"},\"marker\":{\"line\":{\"color\":\"#E5ECF6\",\"width\":0.5},\"pattern\":{\"fillmode\":\"overlay\",\"size\":10,\"solidity\":0.2}},\"type\":\"bar\"}],\"barpolar\":[{\"marker\":{\"line\":{\"color\":\"#E5ECF6\",\"width\":0.5},\"pattern\":{\"fillmode\":\"overlay\",\"size\":10,\"solidity\":0.2}},\"type\":\"barpolar\"}],\"carpet\":[{\"aaxis\":{\"endlinecolor\":\"#2a3f5f\",\"gridcolor\":\"white\",\"linecolor\":\"white\",\"minorgridcolor\":\"white\",\"startlinecolor\":\"#2a3f5f\"},\"baxis\":{\"endlinecolor\":\"#2a3f5f\",\"gridcolor\":\"white\",\"linecolor\":\"white\",\"minorgridcolor\":\"white\",\"startlinecolor\":\"#2a3f5f\"},\"type\":\"carpet\"}],\"choropleth\":[{\"colorbar\":{\"outlinewidth\":0,\"ticks\":\"\"},\"type\":\"choropleth\"}],\"contour\":[{\"colorbar\":{\"outlinewidth\":0,\"ticks\":\"\"},\"colorscale\":[[0.0,\"#0d0887\"],[0.1111111111111111,\"#46039f\"],[0.2222222222222222,\"#7201a8\"],[0.3333333333333333,\"#9c179e\"],[0.4444444444444444,\"#bd3786\"],[0.5555555555555556,\"#d8576b\"],[0.6666666666666666,\"#ed7953\"],[0.7777777777777778,\"#fb9f3a\"],[0.8888888888888888,\"#fdca26\"],[1.0,\"#f0f921\"]],\"type\":\"contour\"}],\"contourcarpet\":[{\"colorbar\":{\"outlinewidth\":0,\"ticks\":\"\"},\"type\":\"contourcarpet\"}],\"heatmap\":[{\"colorbar\":{\"outlinewidth\":0,\"ticks\":\"\"},\"colorscale\":[[0.0,\"#0d0887\"],[0.1111111111111111,\"#46039f\"],[0.2222222222222222,\"#7201a8\"],[0.3333333333333333,\"#9c179e\"],[0.4444444444444444,\"#bd3786\"],[0.5555555555555556,\"#d8576b\"],[0.6666666666666666,\"#ed7953\"],[0.7777777777777778,\"#fb9f3a\"],[0.8888888888888888,\"#fdca26\"],[1.0,\"#f0f921\"]],\"type\":\"heatmap\"}],\"heatmapgl\":[{\"colorbar\":{\"outlinewidth\":0,\"ticks\":\"\"},\"colorscale\":[[0.0,\"#0d0887\"],[0.1111111111111111,\"#46039f\"],[0.2222222222222222,\"#7201a8\"],[0.3333333333333333,\"#9c179e\"],[0.4444444444444444,\"#bd3786\"],[0.5555555555555556,\"#d8576b\"],[0.6666666666666666,\"#ed7953\"],[0.7777777777777778,\"#fb9f3a\"],[0.8888888888888888,\"#fdca26\"],[1.0,\"#f0f921\"]],\"type\":\"heatmapgl\"}],\"histogram\":[{\"marker\":{\"pattern\":{\"fillmode\":\"overlay\",\"size\":10,\"solidity\":0.2}},\"type\":\"histogram\"}],\"histogram2d\":[{\"colorbar\":{\"outlinewidth\":0,\"ticks\":\"\"},\"colorscale\":[[0.0,\"#0d0887\"],[0.1111111111111111,\"#46039f\"],[0.2222222222222222,\"#7201a8\"],[0.3333333333333333,\"#9c179e\"],[0.4444444444444444,\"#bd3786\"],[0.5555555555555556,\"#d8576b\"],[0.6666666666666666,\"#ed7953\"],[0.7777777777777778,\"#fb9f3a\"],[0.8888888888888888,\"#fdca26\"],[1.0,\"#f0f921\"]],\"type\":\"histogram2d\"}],\"histogram2dcontour\":[{\"colorbar\":{\"outlinewidth\":0,\"ticks\":\"\"},\"colorscale\":[[0.0,\"#0d0887\"],[0.1111111111111111,\"#46039f\"],[0.2222222222222222,\"#7201a8\"],[0.3333333333333333,\"#9c179e\"],[0.4444444444444444,\"#bd3786\"],[0.5555555555555556,\"#d8576b\"],[0.6666666666666666,\"#ed7953\"],[0.7777777777777778,\"#fb9f3a\"],[0.8888888888888888,\"#fdca26\"],[1.0,\"#f0f921\"]],\"type\":\"histogram2dcontour\"}],\"mesh3d\":[{\"colorbar\":{\"outlinewidth\":0,\"ticks\":\"\"},\"type\":\"mesh3d\"}],\"parcoords\":[{\"line\":{\"colorbar\":{\"outlinewidth\":0,\"ticks\":\"\"}},\"type\":\"parcoords\"}],\"pie\":[{\"automargin\":true,\"type\":\"pie\"}],\"scatter\":[{\"marker\":{\"colorbar\":{\"outlinewidth\":0,\"ticks\":\"\"}},\"type\":\"scatter\"}],\"scatter3d\":[{\"line\":{\"colorbar\":{\"outlinewidth\":0,\"ticks\":\"\"}},\"marker\":{\"colorbar\":{\"outlinewidth\":0,\"ticks\":\"\"}},\"type\":\"scatter3d\"}],\"scattercarpet\":[{\"marker\":{\"colorbar\":{\"outlinewidth\":0,\"ticks\":\"\"}},\"type\":\"scattercarpet\"}],\"scattergeo\":[{\"marker\":{\"colorbar\":{\"outlinewidth\":0,\"ticks\":\"\"}},\"type\":\"scattergeo\"}],\"scattergl\":[{\"marker\":{\"colorbar\":{\"outlinewidth\":0,\"ticks\":\"\"}},\"type\":\"scattergl\"}],\"scattermapbox\":[{\"marker\":{\"colorbar\":{\"outlinewidth\":0,\"ticks\":\"\"}},\"type\":\"scattermapbox\"}],\"scatterpolar\":[{\"marker\":{\"colorbar\":{\"outlinewidth\":0,\"ticks\":\"\"}},\"type\":\"scatterpolar\"}],\"scatterpolargl\":[{\"marker\":{\"colorbar\":{\"outlinewidth\":0,\"ticks\":\"\"}},\"type\":\"scatterpolargl\"}],\"scatterternary\":[{\"marker\":{\"colorbar\":{\"outlinewidth\":0,\"ticks\":\"\"}},\"type\":\"scatterternary\"}],\"surface\":[{\"colorbar\":{\"outlinewidth\":0,\"ticks\":\"\"},\"colorscale\":[[0.0,\"#0d0887\"],[0.1111111111111111,\"#46039f\"],[0.2222222222222222,\"#7201a8\"],[0.3333333333333333,\"#9c179e\"],[0.4444444444444444,\"#bd3786\"],[0.5555555555555556,\"#d8576b\"],[0.6666666666666666,\"#ed7953\"],[0.7777777777777778,\"#fb9f3a\"],[0.8888888888888888,\"#fdca26\"],[1.0,\"#f0f921\"]],\"type\":\"surface\"}],\"table\":[{\"cells\":{\"fill\":{\"color\":\"#EBF0F8\"},\"line\":{\"color\":\"white\"}},\"header\":{\"fill\":{\"color\":\"#C8D4E3\"},\"line\":{\"color\":\"white\"}},\"type\":\"table\"}]},\"layout\":{\"annotationdefaults\":{\"arrowcolor\":\"#2a3f5f\",\"arrowhead\":0,\"arrowwidth\":1},\"autotypenumbers\":\"strict\",\"coloraxis\":{\"colorbar\":{\"outlinewidth\":0,\"ticks\":\"\"}},\"colorscale\":{\"diverging\":[[0,\"#8e0152\"],[0.1,\"#c51b7d\"],[0.2,\"#de77ae\"],[0.3,\"#f1b6da\"],[0.4,\"#fde0ef\"],[0.5,\"#f7f7f7\"],[0.6,\"#e6f5d0\"],[0.7,\"#b8e186\"],[0.8,\"#7fbc41\"],[0.9,\"#4d9221\"],[1,\"#276419\"]],\"sequential\":[[0.0,\"#0d0887\"],[0.1111111111111111,\"#46039f\"],[0.2222222222222222,\"#7201a8\"],[0.3333333333333333,\"#9c179e\"],[0.4444444444444444,\"#bd3786\"],[0.5555555555555556,\"#d8576b\"],[0.6666666666666666,\"#ed7953\"],[0.7777777777777778,\"#fb9f3a\"],[0.8888888888888888,\"#fdca26\"],[1.0,\"#f0f921\"]],\"sequentialminus\":[[0.0,\"#0d0887\"],[0.1111111111111111,\"#46039f\"],[0.2222222222222222,\"#7201a8\"],[0.3333333333333333,\"#9c179e\"],[0.4444444444444444,\"#bd3786\"],[0.5555555555555556,\"#d8576b\"],[0.6666666666666666,\"#ed7953\"],[0.7777777777777778,\"#fb9f3a\"],[0.8888888888888888,\"#fdca26\"],[1.0,\"#f0f921\"]]},\"colorway\":[\"#636efa\",\"#EF553B\",\"#00cc96\",\"#ab63fa\",\"#FFA15A\",\"#19d3f3\",\"#FF6692\",\"#B6E880\",\"#FF97FF\",\"#FECB52\"],\"font\":{\"color\":\"#2a3f5f\"},\"geo\":{\"bgcolor\":\"white\",\"lakecolor\":\"white\",\"landcolor\":\"#E5ECF6\",\"showlakes\":true,\"showland\":true,\"subunitcolor\":\"white\"},\"hoverlabel\":{\"align\":\"left\"},\"hovermode\":\"closest\",\"mapbox\":{\"style\":\"light\"},\"paper_bgcolor\":\"white\",\"plot_bgcolor\":\"#E5ECF6\",\"polar\":{\"angularaxis\":{\"gridcolor\":\"white\",\"linecolor\":\"white\",\"ticks\":\"\"},\"bgcolor\":\"#E5ECF6\",\"radialaxis\":{\"gridcolor\":\"white\",\"linecolor\":\"white\",\"ticks\":\"\"}},\"scene\":{\"xaxis\":{\"backgroundcolor\":\"#E5ECF6\",\"gridcolor\":\"white\",\"gridwidth\":2,\"linecolor\":\"white\",\"showbackground\":true,\"ticks\":\"\",\"zerolinecolor\":\"white\"},\"yaxis\":{\"backgroundcolor\":\"#E5ECF6\",\"gridcolor\":\"white\",\"gridwidth\":2,\"linecolor\":\"white\",\"showbackground\":true,\"ticks\":\"\",\"zerolinecolor\":\"white\"},\"zaxis\":{\"backgroundcolor\":\"#E5ECF6\",\"gridcolor\":\"white\",\"gridwidth\":2,\"linecolor\":\"white\",\"showbackground\":true,\"ticks\":\"\",\"zerolinecolor\":\"white\"}},\"shapedefaults\":{\"line\":{\"color\":\"#2a3f5f\"}},\"ternary\":{\"aaxis\":{\"gridcolor\":\"white\",\"linecolor\":\"white\",\"ticks\":\"\"},\"baxis\":{\"gridcolor\":\"white\",\"linecolor\":\"white\",\"ticks\":\"\"},\"bgcolor\":\"#E5ECF6\",\"caxis\":{\"gridcolor\":\"white\",\"linecolor\":\"white\",\"ticks\":\"\"}},\"title\":{\"x\":0.05},\"xaxis\":{\"automargin\":true,\"gridcolor\":\"white\",\"linecolor\":\"white\",\"ticks\":\"\",\"title\":{\"standoff\":15},\"zerolinecolor\":\"white\",\"zerolinewidth\":2},\"yaxis\":{\"automargin\":true,\"gridcolor\":\"white\",\"linecolor\":\"white\",\"ticks\":\"\",\"title\":{\"standoff\":15},\"zerolinecolor\":\"white\",\"zerolinewidth\":2}}},\"xaxis\":{\"anchor\":\"y\",\"domain\":[0.0,1.0],\"title\":{\"text\":\"Month Date\"}},\"yaxis\":{\"anchor\":\"x\",\"domain\":[0.0,1.0],\"title\":{\"text\":\"Quantity (tonnes)\"}},\"legend\":{\"title\":{\"text\":\"Country\"},\"tracegroupgap\":0},\"title\":{\"text\":\"Butter Exports\"}},                        {\"responsive\": true}                    ).then(function(){\n",
       "                            \n",
       "var gd = document.getElementById('2ccc16a9-9589-4145-a851-75360c68b92d');\n",
       "var x = new MutationObserver(function (mutations, observer) {{\n",
       "        var display = window.getComputedStyle(gd).display;\n",
       "        if (!display || display === 'none') {{\n",
       "            console.log([gd, 'removed!']);\n",
       "            Plotly.purge(gd);\n",
       "            observer.disconnect();\n",
       "        }}\n",
       "}});\n",
       "\n",
       "// Listen for the removal of the full notebook cells\n",
       "var notebookContainer = gd.closest('#notebook-container');\n",
       "if (notebookContainer) {{\n",
       "    x.observe(notebookContainer, {childList: true});\n",
       "}}\n",
       "\n",
       "// Listen for the clearing of the current output cell\n",
       "var outputEl = gd.closest('.output');\n",
       "if (outputEl) {{\n",
       "    x.observe(outputEl, {childList: true});\n",
       "}}\n",
       "\n",
       "                        })                };                });            </script>        </div>"
      ]
     },
     "metadata": {},
     "output_type": "display_data"
    }
   ],
   "source": [
    "fig = px.line(df_plot, x=\"Month Date\", y=\"Quantity (tonnes)\", color='Country', title='Butter Exports')\n",
    "fig.show()"
   ]
  },
  {
   "cell_type": "code",
   "execution_count": 361,
   "id": "d1a25782",
   "metadata": {},
   "outputs": [
    {
     "data": {
      "application/vnd.plotly.v1+json": {
       "config": {
        "plotlyServerURL": "https://plot.ly"
       },
       "data": [
        {
         "hovertemplate": "Country=New Zealand<br>Month Date=%{x}<br>Value (k Euro)=%{y}<extra></extra>",
         "legendgroup": "New Zealand",
         "line": {
          "color": "#636efa",
          "dash": "solid"
         },
         "marker": {
          "symbol": "circle"
         },
         "mode": "lines",
         "name": "New Zealand",
         "orientation": "v",
         "showlegend": true,
         "type": "scatter",
         "x": [
          "2022-12-31T00:00:00",
          "2021-12-31T00:00:00",
          "2020-12-31T00:00:00",
          "2019-12-31T00:00:00",
          "2018-12-31T00:00:00",
          "2017-12-31T00:00:00",
          "2016-12-31T00:00:00",
          "2015-12-31T00:00:00",
          "2014-12-31T00:00:00",
          "2013-12-31T00:00:00",
          "2012-12-31T00:00:00",
          "2011-12-31T00:00:00",
          "2010-12-31T00:00:00"
         ],
         "xaxis": "x",
         "y": [
          1014677,
          986155,
          879919,
          1129225,
          1206128,
          1185094,
          828354,
          798252,
          877985,
          786149,
          756961,
          808375,
          688759
         ],
         "yaxis": "y"
        },
        {
         "hovertemplate": "Country=Ireland<br>Month Date=%{x}<br>Value (k Euro)=%{y}<extra></extra>",
         "legendgroup": "Ireland",
         "line": {
          "color": "#EF553B",
          "dash": "solid"
         },
         "marker": {
          "symbol": "circle"
         },
         "mode": "lines",
         "name": "Ireland",
         "orientation": "v",
         "showlegend": true,
         "type": "scatter",
         "x": [
          "2022-12-31T00:00:00",
          "2021-12-31T00:00:00",
          "2020-12-31T00:00:00",
          "2019-12-31T00:00:00",
          "2018-12-31T00:00:00",
          "2017-12-31T00:00:00",
          "2016-12-31T00:00:00",
          "2015-12-31T00:00:00",
          "2014-12-31T00:00:00",
          "2013-12-31T00:00:00",
          "2012-12-31T00:00:00",
          "2011-12-31T00:00:00",
          "2010-12-31T00:00:00"
         ],
         "xaxis": "x",
         "y": [
          499476.726,
          396279.148,
          420785.895,
          283954.787,
          195874.678,
          144567.345,
          110904.084,
          79432.879,
          38586.376000000004,
          24317.852,
          26919.962,
          24287.729,
          28006.582000000002
         ],
         "yaxis": "y"
        },
        {
         "hovertemplate": "Country=France<br>Month Date=%{x}<br>Value (k Euro)=%{y}<extra></extra>",
         "legendgroup": "France",
         "line": {
          "color": "#00cc96",
          "dash": "solid"
         },
         "marker": {
          "symbol": "circle"
         },
         "mode": "lines",
         "name": "France",
         "orientation": "v",
         "showlegend": true,
         "type": "scatter",
         "x": [
          "2022-12-31T00:00:00",
          "2021-12-31T00:00:00",
          "2020-12-31T00:00:00",
          "2019-12-31T00:00:00",
          "2018-12-31T00:00:00",
          "2017-12-31T00:00:00",
          "2016-12-31T00:00:00",
          "2015-12-31T00:00:00",
          "2014-12-31T00:00:00",
          "2013-12-31T00:00:00",
          "2012-12-31T00:00:00",
          "2011-12-31T00:00:00",
          "2010-12-31T00:00:00"
         ],
         "xaxis": "x",
         "y": [
          298713.263,
          267508.009,
          239149.666,
          209453.58,
          199586.581,
          188838.462,
          143301.51,
          128942.142,
          130417.656,
          119326.247,
          98042.612,
          85680.715,
          71429.24799999999
         ],
         "yaxis": "y"
        },
        {
         "hovertemplate": "Country=Denmark<br>Month Date=%{x}<br>Value (k Euro)=%{y}<extra></extra>",
         "legendgroup": "Denmark",
         "line": {
          "color": "#ab63fa",
          "dash": "solid"
         },
         "marker": {
          "symbol": "circle"
         },
         "mode": "lines",
         "name": "Denmark",
         "orientation": "v",
         "showlegend": true,
         "type": "scatter",
         "x": [
          "2022-12-31T00:00:00",
          "2021-12-31T00:00:00",
          "2020-12-31T00:00:00",
          "2019-12-31T00:00:00",
          "2018-12-31T00:00:00",
          "2017-12-31T00:00:00",
          "2016-12-31T00:00:00",
          "2015-12-31T00:00:00",
          "2014-12-31T00:00:00",
          "2013-12-31T00:00:00",
          "2012-12-31T00:00:00",
          "2011-12-31T00:00:00",
          "2010-12-31T00:00:00"
         ],
         "xaxis": "x",
         "y": [
          154833.218,
          150124.234,
          150185.119,
          127018.32,
          131779.218,
          96799.435,
          92796.932,
          92731.859,
          69188.152,
          70271.632,
          67650.748,
          58762.541,
          44552.686
         ],
         "yaxis": "y"
        },
        {
         "hovertemplate": "Country=Netherlands<br>Month Date=%{x}<br>Value (k Euro)=%{y}<extra></extra>",
         "legendgroup": "Netherlands",
         "line": {
          "color": "#FFA15A",
          "dash": "solid"
         },
         "marker": {
          "symbol": "circle"
         },
         "mode": "lines",
         "name": "Netherlands",
         "orientation": "v",
         "showlegend": true,
         "type": "scatter",
         "x": [
          "2022-12-31T00:00:00",
          "2021-12-31T00:00:00",
          "2020-12-31T00:00:00",
          "2019-12-31T00:00:00",
          "2018-12-31T00:00:00",
          "2017-12-31T00:00:00",
          "2016-12-31T00:00:00",
          "2015-12-31T00:00:00",
          "2014-12-31T00:00:00",
          "2013-12-31T00:00:00",
          "2012-12-31T00:00:00",
          "2011-12-31T00:00:00",
          "2010-12-31T00:00:00"
         ],
         "xaxis": "x",
         "y": [
          121849.368,
          138876.34,
          128503.863,
          111346.631,
          81003.682,
          80169.41,
          73779.136,
          81675.537,
          72263.538,
          54921.108,
          58430.233,
          69661.092,
          97731.441
         ],
         "yaxis": "y"
        },
        {
         "hovertemplate": "Country=Belgium<br>Month Date=%{x}<br>Value (k Euro)=%{y}<extra></extra>",
         "legendgroup": "Belgium",
         "line": {
          "color": "#19d3f3",
          "dash": "solid"
         },
         "marker": {
          "symbol": "circle"
         },
         "mode": "lines",
         "name": "Belgium",
         "orientation": "v",
         "showlegend": true,
         "type": "scatter",
         "x": [
          "2022-12-31T00:00:00",
          "2021-12-31T00:00:00",
          "2020-12-31T00:00:00",
          "2019-12-31T00:00:00",
          "2018-12-31T00:00:00",
          "2017-12-31T00:00:00",
          "2016-12-31T00:00:00",
          "2015-12-31T00:00:00",
          "2014-12-31T00:00:00",
          "2013-12-31T00:00:00",
          "2012-12-31T00:00:00",
          "2011-12-31T00:00:00",
          "2010-12-31T00:00:00"
         ],
         "xaxis": "x",
         "y": [
          71956.462,
          55655.169,
          72503.901,
          60909.287000000004,
          37359.366,
          47171.967000000004,
          37605.745,
          37558.886,
          30002.336,
          20312.635,
          15092.835000000001,
          19065.709,
          34837.812
         ],
         "yaxis": "y"
        },
        {
         "hovertemplate": "Country=Germany<br>Month Date=%{x}<br>Value (k Euro)=%{y}<extra></extra>",
         "legendgroup": "Germany",
         "line": {
          "color": "#FF6692",
          "dash": "solid"
         },
         "marker": {
          "symbol": "circle"
         },
         "mode": "lines",
         "name": "Germany",
         "orientation": "v",
         "showlegend": true,
         "type": "scatter",
         "x": [
          "2022-12-31T00:00:00",
          "2021-12-31T00:00:00",
          "2020-12-31T00:00:00",
          "2019-12-31T00:00:00",
          "2018-12-31T00:00:00",
          "2017-12-31T00:00:00",
          "2016-12-31T00:00:00",
          "2015-12-31T00:00:00",
          "2014-12-31T00:00:00",
          "2013-12-31T00:00:00",
          "2012-12-31T00:00:00",
          "2011-12-31T00:00:00",
          "2010-12-31T00:00:00"
         ],
         "xaxis": "x",
         "y": [
          57218.03,
          58713.573000000004,
          52822.591,
          70435.412,
          47720.093,
          52931.257,
          45075.382,
          35620.835,
          38760.223,
          36968.873999999996,
          33970.244,
          47169.359,
          76226.13
         ],
         "yaxis": "y"
        },
        {
         "hovertemplate": "Country=Poland<br>Month Date=%{x}<br>Value (k Euro)=%{y}<extra></extra>",
         "legendgroup": "Poland",
         "line": {
          "color": "#B6E880",
          "dash": "solid"
         },
         "marker": {
          "symbol": "circle"
         },
         "mode": "lines",
         "name": "Poland",
         "orientation": "v",
         "showlegend": true,
         "type": "scatter",
         "x": [
          "2022-12-31T00:00:00",
          "2021-12-31T00:00:00",
          "2020-12-31T00:00:00",
          "2019-12-31T00:00:00",
          "2018-12-31T00:00:00",
          "2017-12-31T00:00:00",
          "2016-12-31T00:00:00",
          "2015-12-31T00:00:00",
          "2014-12-31T00:00:00",
          "2013-12-31T00:00:00",
          "2012-12-31T00:00:00",
          "2011-12-31T00:00:00",
          "2010-12-31T00:00:00"
         ],
         "xaxis": "x",
         "y": [
          24699.518,
          28810.431,
          45559.504,
          26002.326,
          8989.942000000001,
          15153.769,
          13714.483,
          7761.027,
          8628.157,
          7346.549,
          7992.017,
          9606.584,
          7923.357
         ],
         "yaxis": "y"
        },
        {
         "hovertemplate": "Country=Finland<br>Month Date=%{x}<br>Value (k Euro)=%{y}<extra></extra>",
         "legendgroup": "Finland",
         "line": {
          "color": "#FF97FF",
          "dash": "solid"
         },
         "marker": {
          "symbol": "circle"
         },
         "mode": "lines",
         "name": "Finland",
         "orientation": "v",
         "showlegend": true,
         "type": "scatter",
         "x": [
          "2022-12-31T00:00:00",
          "2021-12-31T00:00:00",
          "2020-12-31T00:00:00",
          "2019-12-31T00:00:00",
          "2018-12-31T00:00:00",
          "2017-12-31T00:00:00",
          "2016-12-31T00:00:00",
          "2015-12-31T00:00:00",
          "2014-12-31T00:00:00",
          "2013-12-31T00:00:00",
          "2012-12-31T00:00:00",
          "2011-12-31T00:00:00",
          "2010-12-31T00:00:00"
         ],
         "xaxis": "x",
         "y": [
          18534.605,
          18450.548,
          21784.114,
          19467.314,
          14339.261,
          15302.380000000001,
          19517.225,
          21878.374,
          40581.797000000006,
          53425.814,
          53438.012,
          48835.287,
          49157.131
         ],
         "yaxis": "y"
        },
        {
         "hovertemplate": "Country=Lithuania<br>Month Date=%{x}<br>Value (k Euro)=%{y}<extra></extra>",
         "legendgroup": "Lithuania",
         "line": {
          "color": "#FECB52",
          "dash": "solid"
         },
         "marker": {
          "symbol": "circle"
         },
         "mode": "lines",
         "name": "Lithuania",
         "orientation": "v",
         "showlegend": true,
         "type": "scatter",
         "x": [
          "2022-12-31T00:00:00",
          "2021-12-31T00:00:00",
          "2020-12-31T00:00:00",
          "2019-12-31T00:00:00",
          "2018-12-31T00:00:00",
          "2017-12-31T00:00:00",
          "2016-12-31T00:00:00",
          "2015-12-31T00:00:00",
          "2014-12-31T00:00:00",
          "2013-12-31T00:00:00",
          "2012-12-31T00:00:00",
          "2011-12-31T00:00:00",
          "2010-12-31T00:00:00"
         ],
         "xaxis": "x",
         "y": [
          15951.28,
          4498.613,
          18761.676,
          6189.078,
          2265.062,
          2796.3469999999998,
          27230.154,
          16435.645,
          22692.423,
          7985.87,
          2285.832,
          865.001,
          1716.717
         ],
         "yaxis": "y"
        },
        {
         "hovertemplate": "Country=Portugal<br>Month Date=%{x}<br>Value (k Euro)=%{y}<extra></extra>",
         "legendgroup": "Portugal",
         "line": {
          "color": "#636efa",
          "dash": "solid"
         },
         "marker": {
          "symbol": "circle"
         },
         "mode": "lines",
         "name": "Portugal",
         "orientation": "v",
         "showlegend": true,
         "type": "scatter",
         "x": [
          "2022-12-31T00:00:00",
          "2021-12-31T00:00:00",
          "2020-12-31T00:00:00",
          "2019-12-31T00:00:00",
          "2018-12-31T00:00:00",
          "2017-12-31T00:00:00",
          "2016-12-31T00:00:00",
          "2015-12-31T00:00:00",
          "2014-12-31T00:00:00",
          "2013-12-31T00:00:00",
          "2012-12-31T00:00:00",
          "2011-12-31T00:00:00",
          "2010-12-31T00:00:00"
         ],
         "xaxis": "x",
         "y": [
          15555.956,
          19762.993000000002,
          25205.634000000002,
          9388.67,
          12709.755000000001,
          15195.796,
          14069.933,
          10875.687,
          9019.662,
          7527.093,
          5945.64,
          4282.392,
          4158.041
         ],
         "yaxis": "y"
        },
        {
         "hovertemplate": "Country=Italy<br>Month Date=%{x}<br>Value (k Euro)=%{y}<extra></extra>",
         "legendgroup": "Italy",
         "line": {
          "color": "#EF553B",
          "dash": "solid"
         },
         "marker": {
          "symbol": "circle"
         },
         "mode": "lines",
         "name": "Italy",
         "orientation": "v",
         "showlegend": true,
         "type": "scatter",
         "x": [
          "2022-12-31T00:00:00",
          "2021-12-31T00:00:00",
          "2020-12-31T00:00:00",
          "2019-12-31T00:00:00",
          "2018-12-31T00:00:00",
          "2017-12-31T00:00:00",
          "2016-12-31T00:00:00",
          "2015-12-31T00:00:00",
          "2014-12-31T00:00:00",
          "2013-12-31T00:00:00",
          "2012-12-31T00:00:00",
          "2011-12-31T00:00:00",
          "2010-12-31T00:00:00"
         ],
         "xaxis": "x",
         "y": [
          9269.485,
          10189.95,
          8527.85,
          6039.814,
          2199.8109999999997,
          2500.796,
          2328.489,
          2038.887,
          1481.51,
          1287.826,
          809.391,
          910.438,
          802.4159999999999
         ],
         "yaxis": "y"
        },
        {
         "hovertemplate": "Country=Spain<br>Month Date=%{x}<br>Value (k Euro)=%{y}<extra></extra>",
         "legendgroup": "Spain",
         "line": {
          "color": "#00cc96",
          "dash": "solid"
         },
         "marker": {
          "symbol": "circle"
         },
         "mode": "lines",
         "name": "Spain",
         "orientation": "v",
         "showlegend": true,
         "type": "scatter",
         "x": [
          "2022-12-31T00:00:00",
          "2021-12-31T00:00:00",
          "2020-12-31T00:00:00",
          "2019-12-31T00:00:00",
          "2018-12-31T00:00:00",
          "2017-12-31T00:00:00",
          "2016-12-31T00:00:00",
          "2015-12-31T00:00:00",
          "2014-12-31T00:00:00",
          "2013-12-31T00:00:00",
          "2012-12-31T00:00:00",
          "2011-12-31T00:00:00",
          "2010-12-31T00:00:00"
         ],
         "xaxis": "x",
         "y": [
          8036.446000000001,
          8030.604,
          7396.383,
          4487.844,
          3587.6530000000002,
          3912.264,
          3474.068,
          3036.194,
          2135.492,
          3080.56,
          3016.815,
          1670.401,
          1287.984
         ],
         "yaxis": "y"
        },
        {
         "hovertemplate": "Country=Croatia<br>Month Date=%{x}<br>Value (k Euro)=%{y}<extra></extra>",
         "legendgroup": "Croatia",
         "line": {
          "color": "#ab63fa",
          "dash": "solid"
         },
         "marker": {
          "symbol": "circle"
         },
         "mode": "lines",
         "name": "Croatia",
         "orientation": "v",
         "showlegend": true,
         "type": "scatter",
         "x": [
          "2022-12-31T00:00:00",
          "2021-12-31T00:00:00",
          "2020-12-31T00:00:00",
          "2019-12-31T00:00:00",
          "2018-12-31T00:00:00",
          "2017-12-31T00:00:00",
          "2016-12-31T00:00:00",
          "2015-12-31T00:00:00",
          "2014-12-31T00:00:00",
          "2013-12-31T00:00:00"
         ],
         "xaxis": "x",
         "y": [
          2278.0550000000003,
          2172.966,
          2229.339,
          2527.626,
          2309.913,
          2102.501,
          1370.829,
          1414.353,
          1870.151,
          824.653
         ],
         "yaxis": "y"
        },
        {
         "hovertemplate": "Country=Romania<br>Month Date=%{x}<br>Value (k Euro)=%{y}<extra></extra>",
         "legendgroup": "Romania",
         "line": {
          "color": "#FFA15A",
          "dash": "solid"
         },
         "marker": {
          "symbol": "circle"
         },
         "mode": "lines",
         "name": "Romania",
         "orientation": "v",
         "showlegend": true,
         "type": "scatter",
         "x": [
          "2022-12-31T00:00:00",
          "2021-12-31T00:00:00",
          "2020-12-31T00:00:00",
          "2019-12-31T00:00:00",
          "2018-12-31T00:00:00",
          "2017-12-31T00:00:00",
          "2016-12-31T00:00:00",
          "2015-12-31T00:00:00",
          "2014-12-31T00:00:00",
          "2012-12-31T00:00:00",
          "2010-12-31T00:00:00"
         ],
         "xaxis": "x",
         "y": [
          1182.574,
          1621.001,
          1199.969,
          610.396,
          297.08,
          1412.943,
          474.483,
          47.081,
          29.434,
          0.012,
          1.17
         ],
         "yaxis": "y"
        },
        {
         "hovertemplate": "Country=Slovenia<br>Month Date=%{x}<br>Value (k Euro)=%{y}<extra></extra>",
         "legendgroup": "Slovenia",
         "line": {
          "color": "#19d3f3",
          "dash": "solid"
         },
         "marker": {
          "symbol": "circle"
         },
         "mode": "lines",
         "name": "Slovenia",
         "orientation": "v",
         "showlegend": true,
         "type": "scatter",
         "x": [
          "2022-12-31T00:00:00",
          "2021-12-31T00:00:00",
          "2020-12-31T00:00:00",
          "2019-12-31T00:00:00",
          "2018-12-31T00:00:00",
          "2017-12-31T00:00:00",
          "2016-12-31T00:00:00",
          "2015-12-31T00:00:00",
          "2014-12-31T00:00:00",
          "2013-12-31T00:00:00",
          "2012-12-31T00:00:00",
          "2011-12-31T00:00:00",
          "2010-12-31T00:00:00"
         ],
         "xaxis": "x",
         "y": [
          585.854,
          338.906,
          194.12300000000002,
          298.55,
          298.459,
          320.36400000000003,
          185.793,
          180.264,
          403.646,
          276.054,
          956.734,
          442.32,
          553.932
         ],
         "yaxis": "y"
        },
        {
         "hovertemplate": "Country=Estonia<br>Month Date=%{x}<br>Value (k Euro)=%{y}<extra></extra>",
         "legendgroup": "Estonia",
         "line": {
          "color": "#FF6692",
          "dash": "solid"
         },
         "marker": {
          "symbol": "circle"
         },
         "mode": "lines",
         "name": "Estonia",
         "orientation": "v",
         "showlegend": true,
         "type": "scatter",
         "x": [
          "2022-12-31T00:00:00",
          "2021-12-31T00:00:00",
          "2020-12-31T00:00:00",
          "2019-12-31T00:00:00",
          "2018-12-31T00:00:00",
          "2017-12-31T00:00:00",
          "2016-12-31T00:00:00",
          "2015-12-31T00:00:00",
          "2014-12-31T00:00:00",
          "2013-12-31T00:00:00",
          "2012-12-31T00:00:00",
          "2011-12-31T00:00:00",
          "2010-12-31T00:00:00"
         ],
         "xaxis": "x",
         "y": [
          486.033,
          665.676,
          666.745,
          330.742,
          155.90800000000002,
          708.0479999999999,
          506.484,
          1557.6000000000001,
          619.883,
          156.441,
          394.306,
          785.953,
          3600.563
         ],
         "yaxis": "y"
        },
        {
         "hovertemplate": "Country=Slovakia<br>Month Date=%{x}<br>Value (k Euro)=%{y}<extra></extra>",
         "legendgroup": "Slovakia",
         "line": {
          "color": "#B6E880",
          "dash": "solid"
         },
         "marker": {
          "symbol": "circle"
         },
         "mode": "lines",
         "name": "Slovakia",
         "orientation": "v",
         "showlegend": true,
         "type": "scatter",
         "x": [
          "2022-12-31T00:00:00",
          "2021-12-31T00:00:00",
          "2020-12-31T00:00:00",
          "2019-12-31T00:00:00",
          "2018-12-31T00:00:00",
          "2017-12-31T00:00:00",
          "2016-12-31T00:00:00",
          "2015-12-31T00:00:00",
          "2014-12-31T00:00:00",
          "2013-12-31T00:00:00",
          "2012-12-31T00:00:00",
          "2011-12-31T00:00:00"
         ],
         "xaxis": "x",
         "y": [
          393.132,
          541.818,
          209.42700000000002,
          179.327,
          86.259,
          0.008,
          67.004,
          68.492,
          31.575000000000003,
          4.852,
          3.019,
          258.538
         ],
         "yaxis": "y"
        },
        {
         "hovertemplate": "Country=Czechia<br>Month Date=%{x}<br>Value (k Euro)=%{y}<extra></extra>",
         "legendgroup": "Czechia",
         "line": {
          "color": "#FF97FF",
          "dash": "solid"
         },
         "marker": {
          "symbol": "circle"
         },
         "mode": "lines",
         "name": "Czechia",
         "orientation": "v",
         "showlegend": true,
         "type": "scatter",
         "x": [
          "2022-12-31T00:00:00",
          "2021-12-31T00:00:00",
          "2020-12-31T00:00:00",
          "2019-12-31T00:00:00",
          "2018-12-31T00:00:00",
          "2017-12-31T00:00:00",
          "2016-12-31T00:00:00",
          "2015-12-31T00:00:00",
          "2014-12-31T00:00:00",
          "2013-12-31T00:00:00",
          "2012-12-31T00:00:00",
          "2011-12-31T00:00:00",
          "2010-12-31T00:00:00"
         ],
         "xaxis": "x",
         "y": [
          312.68399999999997,
          261.454,
          200.953,
          141.221,
          245.40800000000002,
          288.007,
          361.621,
          471.026,
          1615.0159999999998,
          2513.273,
          2399.016,
          4326.808,
          3054.3720000000003
         ],
         "yaxis": "y"
        },
        {
         "hovertemplate": "Country=Bulgaria<br>Month Date=%{x}<br>Value (k Euro)=%{y}<extra></extra>",
         "legendgroup": "Bulgaria",
         "line": {
          "color": "#FECB52",
          "dash": "solid"
         },
         "marker": {
          "symbol": "circle"
         },
         "mode": "lines",
         "name": "Bulgaria",
         "orientation": "v",
         "showlegend": true,
         "type": "scatter",
         "x": [
          "2022-12-31T00:00:00",
          "2021-12-31T00:00:00",
          "2020-12-31T00:00:00",
          "2019-12-31T00:00:00",
          "2018-12-31T00:00:00",
          "2017-12-31T00:00:00",
          "2016-12-31T00:00:00",
          "2015-12-31T00:00:00",
          "2014-12-31T00:00:00",
          "2013-12-31T00:00:00",
          "2012-12-31T00:00:00",
          "2011-12-31T00:00:00",
          "2010-12-31T00:00:00"
         ],
         "xaxis": "x",
         "y": [
          197.968,
          79.78,
          64.401,
          19.916,
          3.862,
          1.816,
          9.902999999999999,
          54,
          124.687,
          0.228,
          205.818,
          59.732,
          219.644
         ],
         "yaxis": "y"
        },
        {
         "hovertemplate": "Country=Hungary<br>Month Date=%{x}<br>Value (k Euro)=%{y}<extra></extra>",
         "legendgroup": "Hungary",
         "line": {
          "color": "#636efa",
          "dash": "solid"
         },
         "marker": {
          "symbol": "circle"
         },
         "mode": "lines",
         "name": "Hungary",
         "orientation": "v",
         "showlegend": true,
         "type": "scatter",
         "x": [
          "2022-12-31T00:00:00",
          "2021-12-31T00:00:00",
          "2020-12-31T00:00:00",
          "2019-12-31T00:00:00",
          "2018-12-31T00:00:00",
          "2017-12-31T00:00:00",
          "2016-12-31T00:00:00",
          "2015-12-31T00:00:00",
          "2014-12-31T00:00:00",
          "2013-12-31T00:00:00",
          "2012-12-31T00:00:00",
          "2011-12-31T00:00:00",
          "2010-12-31T00:00:00"
         ],
         "xaxis": "x",
         "y": [
          196.725,
          456.18699999999995,
          3750.081,
          109.895,
          131.01000000000002,
          83.096,
          297.51300000000003,
          550.286,
          427.828,
          1045.3429999999998,
          151.733,
          1.124,
          93.619
         ],
         "yaxis": "y"
        },
        {
         "hovertemplate": "Country=Sweden<br>Month Date=%{x}<br>Value (k Euro)=%{y}<extra></extra>",
         "legendgroup": "Sweden",
         "line": {
          "color": "#EF553B",
          "dash": "solid"
         },
         "marker": {
          "symbol": "circle"
         },
         "mode": "lines",
         "name": "Sweden",
         "orientation": "v",
         "showlegend": true,
         "type": "scatter",
         "x": [
          "2022-12-31T00:00:00",
          "2021-12-31T00:00:00",
          "2020-12-31T00:00:00",
          "2019-12-31T00:00:00",
          "2018-12-31T00:00:00",
          "2017-12-31T00:00:00",
          "2016-12-31T00:00:00",
          "2015-12-31T00:00:00",
          "2014-12-31T00:00:00",
          "2013-12-31T00:00:00",
          "2012-12-31T00:00:00",
          "2011-12-31T00:00:00",
          "2010-12-31T00:00:00"
         ],
         "xaxis": "x",
         "y": [
          195.899,
          149.287,
          23.342,
          16.985,
          29.939,
          23.192,
          16.429000000000002,
          5.631,
          364.846,
          91.405,
          2658.249,
          1001.446,
          2174.391
         ],
         "yaxis": "y"
        },
        {
         "hovertemplate": "Country=Greece<br>Month Date=%{x}<br>Value (k Euro)=%{y}<extra></extra>",
         "legendgroup": "Greece",
         "line": {
          "color": "#00cc96",
          "dash": "solid"
         },
         "marker": {
          "symbol": "circle"
         },
         "mode": "lines",
         "name": "Greece",
         "orientation": "v",
         "showlegend": true,
         "type": "scatter",
         "x": [
          "2022-12-31T00:00:00",
          "2021-12-31T00:00:00",
          "2020-12-31T00:00:00",
          "2019-12-31T00:00:00",
          "2018-12-31T00:00:00",
          "2017-12-31T00:00:00",
          "2016-12-31T00:00:00",
          "2015-12-31T00:00:00",
          "2014-12-31T00:00:00",
          "2013-12-31T00:00:00",
          "2012-12-31T00:00:00",
          "2011-12-31T00:00:00",
          "2010-12-31T00:00:00"
         ],
         "xaxis": "x",
         "y": [
          155.161,
          193.12199999999999,
          102.678,
          68.999,
          175.147,
          68.887,
          57.378,
          24.878999999999998,
          235.85899999999998,
          269.15999999999997,
          38.513,
          9.648,
          9.473
         ],
         "yaxis": "y"
        },
        {
         "hovertemplate": "Country=Austria<br>Month Date=%{x}<br>Value (k Euro)=%{y}<extra></extra>",
         "legendgroup": "Austria",
         "line": {
          "color": "#ab63fa",
          "dash": "solid"
         },
         "marker": {
          "symbol": "circle"
         },
         "mode": "lines",
         "name": "Austria",
         "orientation": "v",
         "showlegend": true,
         "type": "scatter",
         "x": [
          "2022-12-31T00:00:00",
          "2021-12-31T00:00:00",
          "2020-12-31T00:00:00",
          "2019-12-31T00:00:00",
          "2018-12-31T00:00:00",
          "2017-12-31T00:00:00",
          "2016-12-31T00:00:00",
          "2015-12-31T00:00:00",
          "2014-12-31T00:00:00",
          "2013-12-31T00:00:00",
          "2012-12-31T00:00:00",
          "2011-12-31T00:00:00",
          "2010-12-31T00:00:00"
         ],
         "xaxis": "x",
         "y": [
          117.583,
          242.629,
          183.048,
          310.07800000000003,
          291.272,
          370.51800000000003,
          317.147,
          666.7239999999999,
          322.467,
          436.711,
          294.951,
          645.7860000000001,
          356.651
         ],
         "yaxis": "y"
        },
        {
         "hovertemplate": "Country=Latvia<br>Month Date=%{x}<br>Value (k Euro)=%{y}<extra></extra>",
         "legendgroup": "Latvia",
         "line": {
          "color": "#FFA15A",
          "dash": "solid"
         },
         "marker": {
          "symbol": "circle"
         },
         "mode": "lines",
         "name": "Latvia",
         "orientation": "v",
         "showlegend": true,
         "type": "scatter",
         "x": [
          "2022-12-31T00:00:00",
          "2021-12-31T00:00:00",
          "2020-12-31T00:00:00",
          "2019-12-31T00:00:00",
          "2018-12-31T00:00:00",
          "2017-12-31T00:00:00",
          "2016-12-31T00:00:00",
          "2015-12-31T00:00:00",
          "2014-12-31T00:00:00",
          "2013-12-31T00:00:00",
          "2012-12-31T00:00:00",
          "2011-12-31T00:00:00",
          "2010-12-31T00:00:00"
         ],
         "xaxis": "x",
         "y": [
          61.155,
          193.308,
          671.055,
          745.722,
          24.532999999999998,
          928.5409999999999,
          730.653,
          347.954,
          8566.557999999999,
          6772.291,
          1749.365,
          367.639,
          633.657
         ],
         "yaxis": "y"
        },
        {
         "hovertemplate": "Country=Luxembourg<br>Month Date=%{x}<br>Value (k Euro)=%{y}<extra></extra>",
         "legendgroup": "Luxembourg",
         "line": {
          "color": "#19d3f3",
          "dash": "solid"
         },
         "marker": {
          "symbol": "circle"
         },
         "mode": "lines",
         "name": "Luxembourg",
         "orientation": "v",
         "showlegend": true,
         "type": "scatter",
         "x": [
          "2022-12-31T00:00:00",
          "2021-12-31T00:00:00",
          "2020-12-31T00:00:00",
          "2019-12-31T00:00:00",
          "2018-12-31T00:00:00",
          "2017-12-31T00:00:00",
          "2016-12-31T00:00:00",
          "2015-12-31T00:00:00",
          "2014-12-31T00:00:00",
          "2013-12-31T00:00:00",
          "2012-12-31T00:00:00",
          "2011-12-31T00:00:00",
          "2010-12-31T00:00:00"
         ],
         "xaxis": "x",
         "y": [
          25.63,
          24.775,
          25.012,
          40.458,
          16.626,
          26.941,
          27.101,
          35.401,
          5.826,
          8.597,
          19.23,
          27.208,
          2.536
         ],
         "yaxis": "y"
        },
        {
         "hovertemplate": "Country=Malta<br>Month Date=%{x}<br>Value (k Euro)=%{y}<extra></extra>",
         "legendgroup": "Malta",
         "line": {
          "color": "#FF6692",
          "dash": "solid"
         },
         "marker": {
          "symbol": "circle"
         },
         "mode": "lines",
         "name": "Malta",
         "orientation": "v",
         "showlegend": true,
         "type": "scatter",
         "x": [
          "2022-12-31T00:00:00",
          "2021-12-31T00:00:00",
          "2019-12-31T00:00:00",
          "2017-12-31T00:00:00"
         ],
         "xaxis": "x",
         "y": [
          2.525,
          67.42099999999999,
          0.711,
          0.541
         ],
         "yaxis": "y"
        },
        {
         "hovertemplate": "Country=United Kingdom<br>Month Date=%{x}<br>Value (k Euro)=%{y}<extra></extra>",
         "legendgroup": "United Kingdom",
         "line": {
          "color": "#B6E880",
          "dash": "solid"
         },
         "marker": {
          "symbol": "circle"
         },
         "mode": "lines",
         "name": "United Kingdom",
         "orientation": "v",
         "showlegend": true,
         "type": "scatter",
         "x": [
          "2020-12-31T00:00:00",
          "2019-12-31T00:00:00",
          "2018-12-31T00:00:00",
          "2017-12-31T00:00:00",
          "2016-12-31T00:00:00",
          "2015-12-31T00:00:00",
          "2014-12-31T00:00:00",
          "2013-12-31T00:00:00",
          "2012-12-31T00:00:00",
          "2011-12-31T00:00:00",
          "2010-12-31T00:00:00"
         ],
         "xaxis": "x",
         "y": [
          3298.135,
          26796.427,
          13194.249,
          31055.559,
          25195.987999999998,
          14775.062,
          9490.264000000001,
          5556.841,
          8096.5,
          6763.530000000001,
          8552.366
         ],
         "yaxis": "y"
        },
        {
         "hovertemplate": "Country=Cyprus<br>Month Date=%{x}<br>Value (k Euro)=%{y}<extra></extra>",
         "legendgroup": "Cyprus",
         "line": {
          "color": "#FF97FF",
          "dash": "solid"
         },
         "marker": {
          "symbol": "circle"
         },
         "mode": "lines",
         "name": "Cyprus",
         "orientation": "v",
         "showlegend": true,
         "type": "scatter",
         "x": [
          "2016-12-31T00:00:00",
          "2015-12-31T00:00:00",
          "2013-12-31T00:00:00"
         ],
         "xaxis": "x",
         "y": [
          1.318,
          0.453,
          11.52
         ],
         "yaxis": "y"
        }
       ],
       "layout": {
        "legend": {
         "title": {
          "text": "Country"
         },
         "tracegroupgap": 0
        },
        "template": {
         "data": {
          "bar": [
           {
            "error_x": {
             "color": "#2a3f5f"
            },
            "error_y": {
             "color": "#2a3f5f"
            },
            "marker": {
             "line": {
              "color": "#E5ECF6",
              "width": 0.5
             },
             "pattern": {
              "fillmode": "overlay",
              "size": 10,
              "solidity": 0.2
             }
            },
            "type": "bar"
           }
          ],
          "barpolar": [
           {
            "marker": {
             "line": {
              "color": "#E5ECF6",
              "width": 0.5
             },
             "pattern": {
              "fillmode": "overlay",
              "size": 10,
              "solidity": 0.2
             }
            },
            "type": "barpolar"
           }
          ],
          "carpet": [
           {
            "aaxis": {
             "endlinecolor": "#2a3f5f",
             "gridcolor": "white",
             "linecolor": "white",
             "minorgridcolor": "white",
             "startlinecolor": "#2a3f5f"
            },
            "baxis": {
             "endlinecolor": "#2a3f5f",
             "gridcolor": "white",
             "linecolor": "white",
             "minorgridcolor": "white",
             "startlinecolor": "#2a3f5f"
            },
            "type": "carpet"
           }
          ],
          "choropleth": [
           {
            "colorbar": {
             "outlinewidth": 0,
             "ticks": ""
            },
            "type": "choropleth"
           }
          ],
          "contour": [
           {
            "colorbar": {
             "outlinewidth": 0,
             "ticks": ""
            },
            "colorscale": [
             [
              0,
              "#0d0887"
             ],
             [
              0.1111111111111111,
              "#46039f"
             ],
             [
              0.2222222222222222,
              "#7201a8"
             ],
             [
              0.3333333333333333,
              "#9c179e"
             ],
             [
              0.4444444444444444,
              "#bd3786"
             ],
             [
              0.5555555555555556,
              "#d8576b"
             ],
             [
              0.6666666666666666,
              "#ed7953"
             ],
             [
              0.7777777777777778,
              "#fb9f3a"
             ],
             [
              0.8888888888888888,
              "#fdca26"
             ],
             [
              1,
              "#f0f921"
             ]
            ],
            "type": "contour"
           }
          ],
          "contourcarpet": [
           {
            "colorbar": {
             "outlinewidth": 0,
             "ticks": ""
            },
            "type": "contourcarpet"
           }
          ],
          "heatmap": [
           {
            "colorbar": {
             "outlinewidth": 0,
             "ticks": ""
            },
            "colorscale": [
             [
              0,
              "#0d0887"
             ],
             [
              0.1111111111111111,
              "#46039f"
             ],
             [
              0.2222222222222222,
              "#7201a8"
             ],
             [
              0.3333333333333333,
              "#9c179e"
             ],
             [
              0.4444444444444444,
              "#bd3786"
             ],
             [
              0.5555555555555556,
              "#d8576b"
             ],
             [
              0.6666666666666666,
              "#ed7953"
             ],
             [
              0.7777777777777778,
              "#fb9f3a"
             ],
             [
              0.8888888888888888,
              "#fdca26"
             ],
             [
              1,
              "#f0f921"
             ]
            ],
            "type": "heatmap"
           }
          ],
          "heatmapgl": [
           {
            "colorbar": {
             "outlinewidth": 0,
             "ticks": ""
            },
            "colorscale": [
             [
              0,
              "#0d0887"
             ],
             [
              0.1111111111111111,
              "#46039f"
             ],
             [
              0.2222222222222222,
              "#7201a8"
             ],
             [
              0.3333333333333333,
              "#9c179e"
             ],
             [
              0.4444444444444444,
              "#bd3786"
             ],
             [
              0.5555555555555556,
              "#d8576b"
             ],
             [
              0.6666666666666666,
              "#ed7953"
             ],
             [
              0.7777777777777778,
              "#fb9f3a"
             ],
             [
              0.8888888888888888,
              "#fdca26"
             ],
             [
              1,
              "#f0f921"
             ]
            ],
            "type": "heatmapgl"
           }
          ],
          "histogram": [
           {
            "marker": {
             "pattern": {
              "fillmode": "overlay",
              "size": 10,
              "solidity": 0.2
             }
            },
            "type": "histogram"
           }
          ],
          "histogram2d": [
           {
            "colorbar": {
             "outlinewidth": 0,
             "ticks": ""
            },
            "colorscale": [
             [
              0,
              "#0d0887"
             ],
             [
              0.1111111111111111,
              "#46039f"
             ],
             [
              0.2222222222222222,
              "#7201a8"
             ],
             [
              0.3333333333333333,
              "#9c179e"
             ],
             [
              0.4444444444444444,
              "#bd3786"
             ],
             [
              0.5555555555555556,
              "#d8576b"
             ],
             [
              0.6666666666666666,
              "#ed7953"
             ],
             [
              0.7777777777777778,
              "#fb9f3a"
             ],
             [
              0.8888888888888888,
              "#fdca26"
             ],
             [
              1,
              "#f0f921"
             ]
            ],
            "type": "histogram2d"
           }
          ],
          "histogram2dcontour": [
           {
            "colorbar": {
             "outlinewidth": 0,
             "ticks": ""
            },
            "colorscale": [
             [
              0,
              "#0d0887"
             ],
             [
              0.1111111111111111,
              "#46039f"
             ],
             [
              0.2222222222222222,
              "#7201a8"
             ],
             [
              0.3333333333333333,
              "#9c179e"
             ],
             [
              0.4444444444444444,
              "#bd3786"
             ],
             [
              0.5555555555555556,
              "#d8576b"
             ],
             [
              0.6666666666666666,
              "#ed7953"
             ],
             [
              0.7777777777777778,
              "#fb9f3a"
             ],
             [
              0.8888888888888888,
              "#fdca26"
             ],
             [
              1,
              "#f0f921"
             ]
            ],
            "type": "histogram2dcontour"
           }
          ],
          "mesh3d": [
           {
            "colorbar": {
             "outlinewidth": 0,
             "ticks": ""
            },
            "type": "mesh3d"
           }
          ],
          "parcoords": [
           {
            "line": {
             "colorbar": {
              "outlinewidth": 0,
              "ticks": ""
             }
            },
            "type": "parcoords"
           }
          ],
          "pie": [
           {
            "automargin": true,
            "type": "pie"
           }
          ],
          "scatter": [
           {
            "marker": {
             "colorbar": {
              "outlinewidth": 0,
              "ticks": ""
             }
            },
            "type": "scatter"
           }
          ],
          "scatter3d": [
           {
            "line": {
             "colorbar": {
              "outlinewidth": 0,
              "ticks": ""
             }
            },
            "marker": {
             "colorbar": {
              "outlinewidth": 0,
              "ticks": ""
             }
            },
            "type": "scatter3d"
           }
          ],
          "scattercarpet": [
           {
            "marker": {
             "colorbar": {
              "outlinewidth": 0,
              "ticks": ""
             }
            },
            "type": "scattercarpet"
           }
          ],
          "scattergeo": [
           {
            "marker": {
             "colorbar": {
              "outlinewidth": 0,
              "ticks": ""
             }
            },
            "type": "scattergeo"
           }
          ],
          "scattergl": [
           {
            "marker": {
             "colorbar": {
              "outlinewidth": 0,
              "ticks": ""
             }
            },
            "type": "scattergl"
           }
          ],
          "scattermapbox": [
           {
            "marker": {
             "colorbar": {
              "outlinewidth": 0,
              "ticks": ""
             }
            },
            "type": "scattermapbox"
           }
          ],
          "scatterpolar": [
           {
            "marker": {
             "colorbar": {
              "outlinewidth": 0,
              "ticks": ""
             }
            },
            "type": "scatterpolar"
           }
          ],
          "scatterpolargl": [
           {
            "marker": {
             "colorbar": {
              "outlinewidth": 0,
              "ticks": ""
             }
            },
            "type": "scatterpolargl"
           }
          ],
          "scatterternary": [
           {
            "marker": {
             "colorbar": {
              "outlinewidth": 0,
              "ticks": ""
             }
            },
            "type": "scatterternary"
           }
          ],
          "surface": [
           {
            "colorbar": {
             "outlinewidth": 0,
             "ticks": ""
            },
            "colorscale": [
             [
              0,
              "#0d0887"
             ],
             [
              0.1111111111111111,
              "#46039f"
             ],
             [
              0.2222222222222222,
              "#7201a8"
             ],
             [
              0.3333333333333333,
              "#9c179e"
             ],
             [
              0.4444444444444444,
              "#bd3786"
             ],
             [
              0.5555555555555556,
              "#d8576b"
             ],
             [
              0.6666666666666666,
              "#ed7953"
             ],
             [
              0.7777777777777778,
              "#fb9f3a"
             ],
             [
              0.8888888888888888,
              "#fdca26"
             ],
             [
              1,
              "#f0f921"
             ]
            ],
            "type": "surface"
           }
          ],
          "table": [
           {
            "cells": {
             "fill": {
              "color": "#EBF0F8"
             },
             "line": {
              "color": "white"
             }
            },
            "header": {
             "fill": {
              "color": "#C8D4E3"
             },
             "line": {
              "color": "white"
             }
            },
            "type": "table"
           }
          ]
         },
         "layout": {
          "annotationdefaults": {
           "arrowcolor": "#2a3f5f",
           "arrowhead": 0,
           "arrowwidth": 1
          },
          "autotypenumbers": "strict",
          "coloraxis": {
           "colorbar": {
            "outlinewidth": 0,
            "ticks": ""
           }
          },
          "colorscale": {
           "diverging": [
            [
             0,
             "#8e0152"
            ],
            [
             0.1,
             "#c51b7d"
            ],
            [
             0.2,
             "#de77ae"
            ],
            [
             0.3,
             "#f1b6da"
            ],
            [
             0.4,
             "#fde0ef"
            ],
            [
             0.5,
             "#f7f7f7"
            ],
            [
             0.6,
             "#e6f5d0"
            ],
            [
             0.7,
             "#b8e186"
            ],
            [
             0.8,
             "#7fbc41"
            ],
            [
             0.9,
             "#4d9221"
            ],
            [
             1,
             "#276419"
            ]
           ],
           "sequential": [
            [
             0,
             "#0d0887"
            ],
            [
             0.1111111111111111,
             "#46039f"
            ],
            [
             0.2222222222222222,
             "#7201a8"
            ],
            [
             0.3333333333333333,
             "#9c179e"
            ],
            [
             0.4444444444444444,
             "#bd3786"
            ],
            [
             0.5555555555555556,
             "#d8576b"
            ],
            [
             0.6666666666666666,
             "#ed7953"
            ],
            [
             0.7777777777777778,
             "#fb9f3a"
            ],
            [
             0.8888888888888888,
             "#fdca26"
            ],
            [
             1,
             "#f0f921"
            ]
           ],
           "sequentialminus": [
            [
             0,
             "#0d0887"
            ],
            [
             0.1111111111111111,
             "#46039f"
            ],
            [
             0.2222222222222222,
             "#7201a8"
            ],
            [
             0.3333333333333333,
             "#9c179e"
            ],
            [
             0.4444444444444444,
             "#bd3786"
            ],
            [
             0.5555555555555556,
             "#d8576b"
            ],
            [
             0.6666666666666666,
             "#ed7953"
            ],
            [
             0.7777777777777778,
             "#fb9f3a"
            ],
            [
             0.8888888888888888,
             "#fdca26"
            ],
            [
             1,
             "#f0f921"
            ]
           ]
          },
          "colorway": [
           "#636efa",
           "#EF553B",
           "#00cc96",
           "#ab63fa",
           "#FFA15A",
           "#19d3f3",
           "#FF6692",
           "#B6E880",
           "#FF97FF",
           "#FECB52"
          ],
          "font": {
           "color": "#2a3f5f"
          },
          "geo": {
           "bgcolor": "white",
           "lakecolor": "white",
           "landcolor": "#E5ECF6",
           "showlakes": true,
           "showland": true,
           "subunitcolor": "white"
          },
          "hoverlabel": {
           "align": "left"
          },
          "hovermode": "closest",
          "mapbox": {
           "style": "light"
          },
          "paper_bgcolor": "white",
          "plot_bgcolor": "#E5ECF6",
          "polar": {
           "angularaxis": {
            "gridcolor": "white",
            "linecolor": "white",
            "ticks": ""
           },
           "bgcolor": "#E5ECF6",
           "radialaxis": {
            "gridcolor": "white",
            "linecolor": "white",
            "ticks": ""
           }
          },
          "scene": {
           "xaxis": {
            "backgroundcolor": "#E5ECF6",
            "gridcolor": "white",
            "gridwidth": 2,
            "linecolor": "white",
            "showbackground": true,
            "ticks": "",
            "zerolinecolor": "white"
           },
           "yaxis": {
            "backgroundcolor": "#E5ECF6",
            "gridcolor": "white",
            "gridwidth": 2,
            "linecolor": "white",
            "showbackground": true,
            "ticks": "",
            "zerolinecolor": "white"
           },
           "zaxis": {
            "backgroundcolor": "#E5ECF6",
            "gridcolor": "white",
            "gridwidth": 2,
            "linecolor": "white",
            "showbackground": true,
            "ticks": "",
            "zerolinecolor": "white"
           }
          },
          "shapedefaults": {
           "line": {
            "color": "#2a3f5f"
           }
          },
          "ternary": {
           "aaxis": {
            "gridcolor": "white",
            "linecolor": "white",
            "ticks": ""
           },
           "baxis": {
            "gridcolor": "white",
            "linecolor": "white",
            "ticks": ""
           },
           "bgcolor": "#E5ECF6",
           "caxis": {
            "gridcolor": "white",
            "linecolor": "white",
            "ticks": ""
           }
          },
          "title": {
           "x": 0.05
          },
          "xaxis": {
           "automargin": true,
           "gridcolor": "white",
           "linecolor": "white",
           "ticks": "",
           "title": {
            "standoff": 15
           },
           "zerolinecolor": "white",
           "zerolinewidth": 2
          },
          "yaxis": {
           "automargin": true,
           "gridcolor": "white",
           "linecolor": "white",
           "ticks": "",
           "title": {
            "standoff": 15
           },
           "zerolinecolor": "white",
           "zerolinewidth": 2
          }
         }
        },
        "title": {
         "text": "Butter Exports"
        },
        "xaxis": {
         "anchor": "y",
         "domain": [
          0,
          1
         ],
         "title": {
          "text": "Month Date"
         }
        },
        "yaxis": {
         "anchor": "x",
         "domain": [
          0,
          1
         ],
         "title": {
          "text": "Value (k Euro)"
         }
        }
       }
      },
      "text/html": [
       "<div>                            <div id=\"2b87ca2c-91f1-4143-a371-7ff7b268957c\" class=\"plotly-graph-div\" style=\"height:525px; width:100%;\"></div>            <script type=\"text/javascript\">                require([\"plotly\"], function(Plotly) {                    window.PLOTLYENV=window.PLOTLYENV || {};                                    if (document.getElementById(\"2b87ca2c-91f1-4143-a371-7ff7b268957c\")) {                    Plotly.newPlot(                        \"2b87ca2c-91f1-4143-a371-7ff7b268957c\",                        [{\"hovertemplate\":\"Country=New Zealand<br>Month Date=%{x}<br>Value (k Euro)=%{y}<extra></extra>\",\"legendgroup\":\"New Zealand\",\"line\":{\"color\":\"#636efa\",\"dash\":\"solid\"},\"marker\":{\"symbol\":\"circle\"},\"mode\":\"lines\",\"name\":\"New Zealand\",\"orientation\":\"v\",\"showlegend\":true,\"x\":[\"2022-12-31T00:00:00\",\"2021-12-31T00:00:00\",\"2020-12-31T00:00:00\",\"2019-12-31T00:00:00\",\"2018-12-31T00:00:00\",\"2017-12-31T00:00:00\",\"2016-12-31T00:00:00\",\"2015-12-31T00:00:00\",\"2014-12-31T00:00:00\",\"2013-12-31T00:00:00\",\"2012-12-31T00:00:00\",\"2011-12-31T00:00:00\",\"2010-12-31T00:00:00\"],\"xaxis\":\"x\",\"y\":[1014677.0,986155.0,879919.0,1129225.0,1206128.0,1185094.0,828354.0,798252.0,877985.0,786149.0,756961.0,808375.0,688759.0],\"yaxis\":\"y\",\"type\":\"scatter\"},{\"hovertemplate\":\"Country=Ireland<br>Month Date=%{x}<br>Value (k Euro)=%{y}<extra></extra>\",\"legendgroup\":\"Ireland\",\"line\":{\"color\":\"#EF553B\",\"dash\":\"solid\"},\"marker\":{\"symbol\":\"circle\"},\"mode\":\"lines\",\"name\":\"Ireland\",\"orientation\":\"v\",\"showlegend\":true,\"x\":[\"2022-12-31T00:00:00\",\"2021-12-31T00:00:00\",\"2020-12-31T00:00:00\",\"2019-12-31T00:00:00\",\"2018-12-31T00:00:00\",\"2017-12-31T00:00:00\",\"2016-12-31T00:00:00\",\"2015-12-31T00:00:00\",\"2014-12-31T00:00:00\",\"2013-12-31T00:00:00\",\"2012-12-31T00:00:00\",\"2011-12-31T00:00:00\",\"2010-12-31T00:00:00\"],\"xaxis\":\"x\",\"y\":[499476.726,396279.148,420785.895,283954.787,195874.678,144567.345,110904.084,79432.879,38586.376000000004,24317.852,26919.962,24287.729,28006.582000000002],\"yaxis\":\"y\",\"type\":\"scatter\"},{\"hovertemplate\":\"Country=France<br>Month Date=%{x}<br>Value (k Euro)=%{y}<extra></extra>\",\"legendgroup\":\"France\",\"line\":{\"color\":\"#00cc96\",\"dash\":\"solid\"},\"marker\":{\"symbol\":\"circle\"},\"mode\":\"lines\",\"name\":\"France\",\"orientation\":\"v\",\"showlegend\":true,\"x\":[\"2022-12-31T00:00:00\",\"2021-12-31T00:00:00\",\"2020-12-31T00:00:00\",\"2019-12-31T00:00:00\",\"2018-12-31T00:00:00\",\"2017-12-31T00:00:00\",\"2016-12-31T00:00:00\",\"2015-12-31T00:00:00\",\"2014-12-31T00:00:00\",\"2013-12-31T00:00:00\",\"2012-12-31T00:00:00\",\"2011-12-31T00:00:00\",\"2010-12-31T00:00:00\"],\"xaxis\":\"x\",\"y\":[298713.263,267508.009,239149.666,209453.58,199586.581,188838.462,143301.51,128942.142,130417.656,119326.247,98042.612,85680.715,71429.24799999999],\"yaxis\":\"y\",\"type\":\"scatter\"},{\"hovertemplate\":\"Country=Denmark<br>Month Date=%{x}<br>Value (k Euro)=%{y}<extra></extra>\",\"legendgroup\":\"Denmark\",\"line\":{\"color\":\"#ab63fa\",\"dash\":\"solid\"},\"marker\":{\"symbol\":\"circle\"},\"mode\":\"lines\",\"name\":\"Denmark\",\"orientation\":\"v\",\"showlegend\":true,\"x\":[\"2022-12-31T00:00:00\",\"2021-12-31T00:00:00\",\"2020-12-31T00:00:00\",\"2019-12-31T00:00:00\",\"2018-12-31T00:00:00\",\"2017-12-31T00:00:00\",\"2016-12-31T00:00:00\",\"2015-12-31T00:00:00\",\"2014-12-31T00:00:00\",\"2013-12-31T00:00:00\",\"2012-12-31T00:00:00\",\"2011-12-31T00:00:00\",\"2010-12-31T00:00:00\"],\"xaxis\":\"x\",\"y\":[154833.218,150124.234,150185.119,127018.32,131779.218,96799.435,92796.932,92731.859,69188.152,70271.632,67650.748,58762.541,44552.686],\"yaxis\":\"y\",\"type\":\"scatter\"},{\"hovertemplate\":\"Country=Netherlands<br>Month Date=%{x}<br>Value (k Euro)=%{y}<extra></extra>\",\"legendgroup\":\"Netherlands\",\"line\":{\"color\":\"#FFA15A\",\"dash\":\"solid\"},\"marker\":{\"symbol\":\"circle\"},\"mode\":\"lines\",\"name\":\"Netherlands\",\"orientation\":\"v\",\"showlegend\":true,\"x\":[\"2022-12-31T00:00:00\",\"2021-12-31T00:00:00\",\"2020-12-31T00:00:00\",\"2019-12-31T00:00:00\",\"2018-12-31T00:00:00\",\"2017-12-31T00:00:00\",\"2016-12-31T00:00:00\",\"2015-12-31T00:00:00\",\"2014-12-31T00:00:00\",\"2013-12-31T00:00:00\",\"2012-12-31T00:00:00\",\"2011-12-31T00:00:00\",\"2010-12-31T00:00:00\"],\"xaxis\":\"x\",\"y\":[121849.368,138876.34,128503.863,111346.631,81003.682,80169.41,73779.136,81675.537,72263.538,54921.108,58430.233,69661.092,97731.441],\"yaxis\":\"y\",\"type\":\"scatter\"},{\"hovertemplate\":\"Country=Belgium<br>Month Date=%{x}<br>Value (k Euro)=%{y}<extra></extra>\",\"legendgroup\":\"Belgium\",\"line\":{\"color\":\"#19d3f3\",\"dash\":\"solid\"},\"marker\":{\"symbol\":\"circle\"},\"mode\":\"lines\",\"name\":\"Belgium\",\"orientation\":\"v\",\"showlegend\":true,\"x\":[\"2022-12-31T00:00:00\",\"2021-12-31T00:00:00\",\"2020-12-31T00:00:00\",\"2019-12-31T00:00:00\",\"2018-12-31T00:00:00\",\"2017-12-31T00:00:00\",\"2016-12-31T00:00:00\",\"2015-12-31T00:00:00\",\"2014-12-31T00:00:00\",\"2013-12-31T00:00:00\",\"2012-12-31T00:00:00\",\"2011-12-31T00:00:00\",\"2010-12-31T00:00:00\"],\"xaxis\":\"x\",\"y\":[71956.462,55655.169,72503.901,60909.287000000004,37359.366,47171.967000000004,37605.745,37558.886,30002.336,20312.635,15092.835000000001,19065.709,34837.812],\"yaxis\":\"y\",\"type\":\"scatter\"},{\"hovertemplate\":\"Country=Germany<br>Month Date=%{x}<br>Value (k Euro)=%{y}<extra></extra>\",\"legendgroup\":\"Germany\",\"line\":{\"color\":\"#FF6692\",\"dash\":\"solid\"},\"marker\":{\"symbol\":\"circle\"},\"mode\":\"lines\",\"name\":\"Germany\",\"orientation\":\"v\",\"showlegend\":true,\"x\":[\"2022-12-31T00:00:00\",\"2021-12-31T00:00:00\",\"2020-12-31T00:00:00\",\"2019-12-31T00:00:00\",\"2018-12-31T00:00:00\",\"2017-12-31T00:00:00\",\"2016-12-31T00:00:00\",\"2015-12-31T00:00:00\",\"2014-12-31T00:00:00\",\"2013-12-31T00:00:00\",\"2012-12-31T00:00:00\",\"2011-12-31T00:00:00\",\"2010-12-31T00:00:00\"],\"xaxis\":\"x\",\"y\":[57218.03,58713.573000000004,52822.591,70435.412,47720.093,52931.257,45075.382,35620.835,38760.223,36968.873999999996,33970.244,47169.359,76226.13],\"yaxis\":\"y\",\"type\":\"scatter\"},{\"hovertemplate\":\"Country=Poland<br>Month Date=%{x}<br>Value (k Euro)=%{y}<extra></extra>\",\"legendgroup\":\"Poland\",\"line\":{\"color\":\"#B6E880\",\"dash\":\"solid\"},\"marker\":{\"symbol\":\"circle\"},\"mode\":\"lines\",\"name\":\"Poland\",\"orientation\":\"v\",\"showlegend\":true,\"x\":[\"2022-12-31T00:00:00\",\"2021-12-31T00:00:00\",\"2020-12-31T00:00:00\",\"2019-12-31T00:00:00\",\"2018-12-31T00:00:00\",\"2017-12-31T00:00:00\",\"2016-12-31T00:00:00\",\"2015-12-31T00:00:00\",\"2014-12-31T00:00:00\",\"2013-12-31T00:00:00\",\"2012-12-31T00:00:00\",\"2011-12-31T00:00:00\",\"2010-12-31T00:00:00\"],\"xaxis\":\"x\",\"y\":[24699.518,28810.431,45559.504,26002.326,8989.942000000001,15153.769,13714.483,7761.027,8628.157,7346.549,7992.017,9606.584,7923.357],\"yaxis\":\"y\",\"type\":\"scatter\"},{\"hovertemplate\":\"Country=Finland<br>Month Date=%{x}<br>Value (k Euro)=%{y}<extra></extra>\",\"legendgroup\":\"Finland\",\"line\":{\"color\":\"#FF97FF\",\"dash\":\"solid\"},\"marker\":{\"symbol\":\"circle\"},\"mode\":\"lines\",\"name\":\"Finland\",\"orientation\":\"v\",\"showlegend\":true,\"x\":[\"2022-12-31T00:00:00\",\"2021-12-31T00:00:00\",\"2020-12-31T00:00:00\",\"2019-12-31T00:00:00\",\"2018-12-31T00:00:00\",\"2017-12-31T00:00:00\",\"2016-12-31T00:00:00\",\"2015-12-31T00:00:00\",\"2014-12-31T00:00:00\",\"2013-12-31T00:00:00\",\"2012-12-31T00:00:00\",\"2011-12-31T00:00:00\",\"2010-12-31T00:00:00\"],\"xaxis\":\"x\",\"y\":[18534.605,18450.548,21784.114,19467.314,14339.261,15302.380000000001,19517.225,21878.374,40581.797000000006,53425.814,53438.012,48835.287,49157.131],\"yaxis\":\"y\",\"type\":\"scatter\"},{\"hovertemplate\":\"Country=Lithuania<br>Month Date=%{x}<br>Value (k Euro)=%{y}<extra></extra>\",\"legendgroup\":\"Lithuania\",\"line\":{\"color\":\"#FECB52\",\"dash\":\"solid\"},\"marker\":{\"symbol\":\"circle\"},\"mode\":\"lines\",\"name\":\"Lithuania\",\"orientation\":\"v\",\"showlegend\":true,\"x\":[\"2022-12-31T00:00:00\",\"2021-12-31T00:00:00\",\"2020-12-31T00:00:00\",\"2019-12-31T00:00:00\",\"2018-12-31T00:00:00\",\"2017-12-31T00:00:00\",\"2016-12-31T00:00:00\",\"2015-12-31T00:00:00\",\"2014-12-31T00:00:00\",\"2013-12-31T00:00:00\",\"2012-12-31T00:00:00\",\"2011-12-31T00:00:00\",\"2010-12-31T00:00:00\"],\"xaxis\":\"x\",\"y\":[15951.28,4498.613,18761.676,6189.078,2265.062,2796.3469999999998,27230.154,16435.645,22692.423,7985.87,2285.832,865.001,1716.717],\"yaxis\":\"y\",\"type\":\"scatter\"},{\"hovertemplate\":\"Country=Portugal<br>Month Date=%{x}<br>Value (k Euro)=%{y}<extra></extra>\",\"legendgroup\":\"Portugal\",\"line\":{\"color\":\"#636efa\",\"dash\":\"solid\"},\"marker\":{\"symbol\":\"circle\"},\"mode\":\"lines\",\"name\":\"Portugal\",\"orientation\":\"v\",\"showlegend\":true,\"x\":[\"2022-12-31T00:00:00\",\"2021-12-31T00:00:00\",\"2020-12-31T00:00:00\",\"2019-12-31T00:00:00\",\"2018-12-31T00:00:00\",\"2017-12-31T00:00:00\",\"2016-12-31T00:00:00\",\"2015-12-31T00:00:00\",\"2014-12-31T00:00:00\",\"2013-12-31T00:00:00\",\"2012-12-31T00:00:00\",\"2011-12-31T00:00:00\",\"2010-12-31T00:00:00\"],\"xaxis\":\"x\",\"y\":[15555.956,19762.993000000002,25205.634000000002,9388.67,12709.755000000001,15195.796,14069.933,10875.687,9019.662,7527.093,5945.64,4282.392,4158.041],\"yaxis\":\"y\",\"type\":\"scatter\"},{\"hovertemplate\":\"Country=Italy<br>Month Date=%{x}<br>Value (k Euro)=%{y}<extra></extra>\",\"legendgroup\":\"Italy\",\"line\":{\"color\":\"#EF553B\",\"dash\":\"solid\"},\"marker\":{\"symbol\":\"circle\"},\"mode\":\"lines\",\"name\":\"Italy\",\"orientation\":\"v\",\"showlegend\":true,\"x\":[\"2022-12-31T00:00:00\",\"2021-12-31T00:00:00\",\"2020-12-31T00:00:00\",\"2019-12-31T00:00:00\",\"2018-12-31T00:00:00\",\"2017-12-31T00:00:00\",\"2016-12-31T00:00:00\",\"2015-12-31T00:00:00\",\"2014-12-31T00:00:00\",\"2013-12-31T00:00:00\",\"2012-12-31T00:00:00\",\"2011-12-31T00:00:00\",\"2010-12-31T00:00:00\"],\"xaxis\":\"x\",\"y\":[9269.485,10189.95,8527.85,6039.814,2199.8109999999997,2500.796,2328.489,2038.887,1481.51,1287.826,809.391,910.438,802.4159999999999],\"yaxis\":\"y\",\"type\":\"scatter\"},{\"hovertemplate\":\"Country=Spain<br>Month Date=%{x}<br>Value (k Euro)=%{y}<extra></extra>\",\"legendgroup\":\"Spain\",\"line\":{\"color\":\"#00cc96\",\"dash\":\"solid\"},\"marker\":{\"symbol\":\"circle\"},\"mode\":\"lines\",\"name\":\"Spain\",\"orientation\":\"v\",\"showlegend\":true,\"x\":[\"2022-12-31T00:00:00\",\"2021-12-31T00:00:00\",\"2020-12-31T00:00:00\",\"2019-12-31T00:00:00\",\"2018-12-31T00:00:00\",\"2017-12-31T00:00:00\",\"2016-12-31T00:00:00\",\"2015-12-31T00:00:00\",\"2014-12-31T00:00:00\",\"2013-12-31T00:00:00\",\"2012-12-31T00:00:00\",\"2011-12-31T00:00:00\",\"2010-12-31T00:00:00\"],\"xaxis\":\"x\",\"y\":[8036.446000000001,8030.604,7396.383,4487.844,3587.6530000000002,3912.264,3474.068,3036.194,2135.492,3080.56,3016.815,1670.401,1287.984],\"yaxis\":\"y\",\"type\":\"scatter\"},{\"hovertemplate\":\"Country=Croatia<br>Month Date=%{x}<br>Value (k Euro)=%{y}<extra></extra>\",\"legendgroup\":\"Croatia\",\"line\":{\"color\":\"#ab63fa\",\"dash\":\"solid\"},\"marker\":{\"symbol\":\"circle\"},\"mode\":\"lines\",\"name\":\"Croatia\",\"orientation\":\"v\",\"showlegend\":true,\"x\":[\"2022-12-31T00:00:00\",\"2021-12-31T00:00:00\",\"2020-12-31T00:00:00\",\"2019-12-31T00:00:00\",\"2018-12-31T00:00:00\",\"2017-12-31T00:00:00\",\"2016-12-31T00:00:00\",\"2015-12-31T00:00:00\",\"2014-12-31T00:00:00\",\"2013-12-31T00:00:00\"],\"xaxis\":\"x\",\"y\":[2278.0550000000003,2172.966,2229.339,2527.626,2309.913,2102.501,1370.829,1414.353,1870.151,824.653],\"yaxis\":\"y\",\"type\":\"scatter\"},{\"hovertemplate\":\"Country=Romania<br>Month Date=%{x}<br>Value (k Euro)=%{y}<extra></extra>\",\"legendgroup\":\"Romania\",\"line\":{\"color\":\"#FFA15A\",\"dash\":\"solid\"},\"marker\":{\"symbol\":\"circle\"},\"mode\":\"lines\",\"name\":\"Romania\",\"orientation\":\"v\",\"showlegend\":true,\"x\":[\"2022-12-31T00:00:00\",\"2021-12-31T00:00:00\",\"2020-12-31T00:00:00\",\"2019-12-31T00:00:00\",\"2018-12-31T00:00:00\",\"2017-12-31T00:00:00\",\"2016-12-31T00:00:00\",\"2015-12-31T00:00:00\",\"2014-12-31T00:00:00\",\"2012-12-31T00:00:00\",\"2010-12-31T00:00:00\"],\"xaxis\":\"x\",\"y\":[1182.574,1621.001,1199.969,610.396,297.08,1412.943,474.483,47.081,29.434,0.012,1.17],\"yaxis\":\"y\",\"type\":\"scatter\"},{\"hovertemplate\":\"Country=Slovenia<br>Month Date=%{x}<br>Value (k Euro)=%{y}<extra></extra>\",\"legendgroup\":\"Slovenia\",\"line\":{\"color\":\"#19d3f3\",\"dash\":\"solid\"},\"marker\":{\"symbol\":\"circle\"},\"mode\":\"lines\",\"name\":\"Slovenia\",\"orientation\":\"v\",\"showlegend\":true,\"x\":[\"2022-12-31T00:00:00\",\"2021-12-31T00:00:00\",\"2020-12-31T00:00:00\",\"2019-12-31T00:00:00\",\"2018-12-31T00:00:00\",\"2017-12-31T00:00:00\",\"2016-12-31T00:00:00\",\"2015-12-31T00:00:00\",\"2014-12-31T00:00:00\",\"2013-12-31T00:00:00\",\"2012-12-31T00:00:00\",\"2011-12-31T00:00:00\",\"2010-12-31T00:00:00\"],\"xaxis\":\"x\",\"y\":[585.854,338.906,194.12300000000002,298.55,298.459,320.36400000000003,185.793,180.264,403.646,276.054,956.734,442.32,553.932],\"yaxis\":\"y\",\"type\":\"scatter\"},{\"hovertemplate\":\"Country=Estonia<br>Month Date=%{x}<br>Value (k Euro)=%{y}<extra></extra>\",\"legendgroup\":\"Estonia\",\"line\":{\"color\":\"#FF6692\",\"dash\":\"solid\"},\"marker\":{\"symbol\":\"circle\"},\"mode\":\"lines\",\"name\":\"Estonia\",\"orientation\":\"v\",\"showlegend\":true,\"x\":[\"2022-12-31T00:00:00\",\"2021-12-31T00:00:00\",\"2020-12-31T00:00:00\",\"2019-12-31T00:00:00\",\"2018-12-31T00:00:00\",\"2017-12-31T00:00:00\",\"2016-12-31T00:00:00\",\"2015-12-31T00:00:00\",\"2014-12-31T00:00:00\",\"2013-12-31T00:00:00\",\"2012-12-31T00:00:00\",\"2011-12-31T00:00:00\",\"2010-12-31T00:00:00\"],\"xaxis\":\"x\",\"y\":[486.033,665.676,666.745,330.742,155.90800000000002,708.0479999999999,506.484,1557.6000000000001,619.883,156.441,394.306,785.953,3600.563],\"yaxis\":\"y\",\"type\":\"scatter\"},{\"hovertemplate\":\"Country=Slovakia<br>Month Date=%{x}<br>Value (k Euro)=%{y}<extra></extra>\",\"legendgroup\":\"Slovakia\",\"line\":{\"color\":\"#B6E880\",\"dash\":\"solid\"},\"marker\":{\"symbol\":\"circle\"},\"mode\":\"lines\",\"name\":\"Slovakia\",\"orientation\":\"v\",\"showlegend\":true,\"x\":[\"2022-12-31T00:00:00\",\"2021-12-31T00:00:00\",\"2020-12-31T00:00:00\",\"2019-12-31T00:00:00\",\"2018-12-31T00:00:00\",\"2017-12-31T00:00:00\",\"2016-12-31T00:00:00\",\"2015-12-31T00:00:00\",\"2014-12-31T00:00:00\",\"2013-12-31T00:00:00\",\"2012-12-31T00:00:00\",\"2011-12-31T00:00:00\"],\"xaxis\":\"x\",\"y\":[393.132,541.818,209.42700000000002,179.327,86.259,0.008,67.004,68.492,31.575000000000003,4.852,3.019,258.538],\"yaxis\":\"y\",\"type\":\"scatter\"},{\"hovertemplate\":\"Country=Czechia<br>Month Date=%{x}<br>Value (k Euro)=%{y}<extra></extra>\",\"legendgroup\":\"Czechia\",\"line\":{\"color\":\"#FF97FF\",\"dash\":\"solid\"},\"marker\":{\"symbol\":\"circle\"},\"mode\":\"lines\",\"name\":\"Czechia\",\"orientation\":\"v\",\"showlegend\":true,\"x\":[\"2022-12-31T00:00:00\",\"2021-12-31T00:00:00\",\"2020-12-31T00:00:00\",\"2019-12-31T00:00:00\",\"2018-12-31T00:00:00\",\"2017-12-31T00:00:00\",\"2016-12-31T00:00:00\",\"2015-12-31T00:00:00\",\"2014-12-31T00:00:00\",\"2013-12-31T00:00:00\",\"2012-12-31T00:00:00\",\"2011-12-31T00:00:00\",\"2010-12-31T00:00:00\"],\"xaxis\":\"x\",\"y\":[312.68399999999997,261.454,200.953,141.221,245.40800000000002,288.007,361.621,471.026,1615.0159999999998,2513.273,2399.016,4326.808,3054.3720000000003],\"yaxis\":\"y\",\"type\":\"scatter\"},{\"hovertemplate\":\"Country=Bulgaria<br>Month Date=%{x}<br>Value (k Euro)=%{y}<extra></extra>\",\"legendgroup\":\"Bulgaria\",\"line\":{\"color\":\"#FECB52\",\"dash\":\"solid\"},\"marker\":{\"symbol\":\"circle\"},\"mode\":\"lines\",\"name\":\"Bulgaria\",\"orientation\":\"v\",\"showlegend\":true,\"x\":[\"2022-12-31T00:00:00\",\"2021-12-31T00:00:00\",\"2020-12-31T00:00:00\",\"2019-12-31T00:00:00\",\"2018-12-31T00:00:00\",\"2017-12-31T00:00:00\",\"2016-12-31T00:00:00\",\"2015-12-31T00:00:00\",\"2014-12-31T00:00:00\",\"2013-12-31T00:00:00\",\"2012-12-31T00:00:00\",\"2011-12-31T00:00:00\",\"2010-12-31T00:00:00\"],\"xaxis\":\"x\",\"y\":[197.968,79.78,64.401,19.916,3.862,1.816,9.902999999999999,54.0,124.687,0.228,205.818,59.732,219.644],\"yaxis\":\"y\",\"type\":\"scatter\"},{\"hovertemplate\":\"Country=Hungary<br>Month Date=%{x}<br>Value (k Euro)=%{y}<extra></extra>\",\"legendgroup\":\"Hungary\",\"line\":{\"color\":\"#636efa\",\"dash\":\"solid\"},\"marker\":{\"symbol\":\"circle\"},\"mode\":\"lines\",\"name\":\"Hungary\",\"orientation\":\"v\",\"showlegend\":true,\"x\":[\"2022-12-31T00:00:00\",\"2021-12-31T00:00:00\",\"2020-12-31T00:00:00\",\"2019-12-31T00:00:00\",\"2018-12-31T00:00:00\",\"2017-12-31T00:00:00\",\"2016-12-31T00:00:00\",\"2015-12-31T00:00:00\",\"2014-12-31T00:00:00\",\"2013-12-31T00:00:00\",\"2012-12-31T00:00:00\",\"2011-12-31T00:00:00\",\"2010-12-31T00:00:00\"],\"xaxis\":\"x\",\"y\":[196.725,456.18699999999995,3750.081,109.895,131.01000000000002,83.096,297.51300000000003,550.286,427.828,1045.3429999999998,151.733,1.124,93.619],\"yaxis\":\"y\",\"type\":\"scatter\"},{\"hovertemplate\":\"Country=Sweden<br>Month Date=%{x}<br>Value (k Euro)=%{y}<extra></extra>\",\"legendgroup\":\"Sweden\",\"line\":{\"color\":\"#EF553B\",\"dash\":\"solid\"},\"marker\":{\"symbol\":\"circle\"},\"mode\":\"lines\",\"name\":\"Sweden\",\"orientation\":\"v\",\"showlegend\":true,\"x\":[\"2022-12-31T00:00:00\",\"2021-12-31T00:00:00\",\"2020-12-31T00:00:00\",\"2019-12-31T00:00:00\",\"2018-12-31T00:00:00\",\"2017-12-31T00:00:00\",\"2016-12-31T00:00:00\",\"2015-12-31T00:00:00\",\"2014-12-31T00:00:00\",\"2013-12-31T00:00:00\",\"2012-12-31T00:00:00\",\"2011-12-31T00:00:00\",\"2010-12-31T00:00:00\"],\"xaxis\":\"x\",\"y\":[195.899,149.287,23.342,16.985,29.939,23.192,16.429000000000002,5.631,364.846,91.405,2658.249,1001.446,2174.391],\"yaxis\":\"y\",\"type\":\"scatter\"},{\"hovertemplate\":\"Country=Greece<br>Month Date=%{x}<br>Value (k Euro)=%{y}<extra></extra>\",\"legendgroup\":\"Greece\",\"line\":{\"color\":\"#00cc96\",\"dash\":\"solid\"},\"marker\":{\"symbol\":\"circle\"},\"mode\":\"lines\",\"name\":\"Greece\",\"orientation\":\"v\",\"showlegend\":true,\"x\":[\"2022-12-31T00:00:00\",\"2021-12-31T00:00:00\",\"2020-12-31T00:00:00\",\"2019-12-31T00:00:00\",\"2018-12-31T00:00:00\",\"2017-12-31T00:00:00\",\"2016-12-31T00:00:00\",\"2015-12-31T00:00:00\",\"2014-12-31T00:00:00\",\"2013-12-31T00:00:00\",\"2012-12-31T00:00:00\",\"2011-12-31T00:00:00\",\"2010-12-31T00:00:00\"],\"xaxis\":\"x\",\"y\":[155.161,193.12199999999999,102.678,68.999,175.147,68.887,57.378,24.878999999999998,235.85899999999998,269.15999999999997,38.513,9.648,9.473],\"yaxis\":\"y\",\"type\":\"scatter\"},{\"hovertemplate\":\"Country=Austria<br>Month Date=%{x}<br>Value (k Euro)=%{y}<extra></extra>\",\"legendgroup\":\"Austria\",\"line\":{\"color\":\"#ab63fa\",\"dash\":\"solid\"},\"marker\":{\"symbol\":\"circle\"},\"mode\":\"lines\",\"name\":\"Austria\",\"orientation\":\"v\",\"showlegend\":true,\"x\":[\"2022-12-31T00:00:00\",\"2021-12-31T00:00:00\",\"2020-12-31T00:00:00\",\"2019-12-31T00:00:00\",\"2018-12-31T00:00:00\",\"2017-12-31T00:00:00\",\"2016-12-31T00:00:00\",\"2015-12-31T00:00:00\",\"2014-12-31T00:00:00\",\"2013-12-31T00:00:00\",\"2012-12-31T00:00:00\",\"2011-12-31T00:00:00\",\"2010-12-31T00:00:00\"],\"xaxis\":\"x\",\"y\":[117.583,242.629,183.048,310.07800000000003,291.272,370.51800000000003,317.147,666.7239999999999,322.467,436.711,294.951,645.7860000000001,356.651],\"yaxis\":\"y\",\"type\":\"scatter\"},{\"hovertemplate\":\"Country=Latvia<br>Month Date=%{x}<br>Value (k Euro)=%{y}<extra></extra>\",\"legendgroup\":\"Latvia\",\"line\":{\"color\":\"#FFA15A\",\"dash\":\"solid\"},\"marker\":{\"symbol\":\"circle\"},\"mode\":\"lines\",\"name\":\"Latvia\",\"orientation\":\"v\",\"showlegend\":true,\"x\":[\"2022-12-31T00:00:00\",\"2021-12-31T00:00:00\",\"2020-12-31T00:00:00\",\"2019-12-31T00:00:00\",\"2018-12-31T00:00:00\",\"2017-12-31T00:00:00\",\"2016-12-31T00:00:00\",\"2015-12-31T00:00:00\",\"2014-12-31T00:00:00\",\"2013-12-31T00:00:00\",\"2012-12-31T00:00:00\",\"2011-12-31T00:00:00\",\"2010-12-31T00:00:00\"],\"xaxis\":\"x\",\"y\":[61.155,193.308,671.055,745.722,24.532999999999998,928.5409999999999,730.653,347.954,8566.557999999999,6772.291,1749.365,367.639,633.657],\"yaxis\":\"y\",\"type\":\"scatter\"},{\"hovertemplate\":\"Country=Luxembourg<br>Month Date=%{x}<br>Value (k Euro)=%{y}<extra></extra>\",\"legendgroup\":\"Luxembourg\",\"line\":{\"color\":\"#19d3f3\",\"dash\":\"solid\"},\"marker\":{\"symbol\":\"circle\"},\"mode\":\"lines\",\"name\":\"Luxembourg\",\"orientation\":\"v\",\"showlegend\":true,\"x\":[\"2022-12-31T00:00:00\",\"2021-12-31T00:00:00\",\"2020-12-31T00:00:00\",\"2019-12-31T00:00:00\",\"2018-12-31T00:00:00\",\"2017-12-31T00:00:00\",\"2016-12-31T00:00:00\",\"2015-12-31T00:00:00\",\"2014-12-31T00:00:00\",\"2013-12-31T00:00:00\",\"2012-12-31T00:00:00\",\"2011-12-31T00:00:00\",\"2010-12-31T00:00:00\"],\"xaxis\":\"x\",\"y\":[25.63,24.775,25.012,40.458,16.626,26.941,27.101,35.401,5.826,8.597,19.23,27.208,2.536],\"yaxis\":\"y\",\"type\":\"scatter\"},{\"hovertemplate\":\"Country=Malta<br>Month Date=%{x}<br>Value (k Euro)=%{y}<extra></extra>\",\"legendgroup\":\"Malta\",\"line\":{\"color\":\"#FF6692\",\"dash\":\"solid\"},\"marker\":{\"symbol\":\"circle\"},\"mode\":\"lines\",\"name\":\"Malta\",\"orientation\":\"v\",\"showlegend\":true,\"x\":[\"2022-12-31T00:00:00\",\"2021-12-31T00:00:00\",\"2019-12-31T00:00:00\",\"2017-12-31T00:00:00\"],\"xaxis\":\"x\",\"y\":[2.525,67.42099999999999,0.711,0.541],\"yaxis\":\"y\",\"type\":\"scatter\"},{\"hovertemplate\":\"Country=United Kingdom<br>Month Date=%{x}<br>Value (k Euro)=%{y}<extra></extra>\",\"legendgroup\":\"United Kingdom\",\"line\":{\"color\":\"#B6E880\",\"dash\":\"solid\"},\"marker\":{\"symbol\":\"circle\"},\"mode\":\"lines\",\"name\":\"United Kingdom\",\"orientation\":\"v\",\"showlegend\":true,\"x\":[\"2020-12-31T00:00:00\",\"2019-12-31T00:00:00\",\"2018-12-31T00:00:00\",\"2017-12-31T00:00:00\",\"2016-12-31T00:00:00\",\"2015-12-31T00:00:00\",\"2014-12-31T00:00:00\",\"2013-12-31T00:00:00\",\"2012-12-31T00:00:00\",\"2011-12-31T00:00:00\",\"2010-12-31T00:00:00\"],\"xaxis\":\"x\",\"y\":[3298.135,26796.427,13194.249,31055.559,25195.987999999998,14775.062,9490.264000000001,5556.841,8096.5,6763.530000000001,8552.366],\"yaxis\":\"y\",\"type\":\"scatter\"},{\"hovertemplate\":\"Country=Cyprus<br>Month Date=%{x}<br>Value (k Euro)=%{y}<extra></extra>\",\"legendgroup\":\"Cyprus\",\"line\":{\"color\":\"#FF97FF\",\"dash\":\"solid\"},\"marker\":{\"symbol\":\"circle\"},\"mode\":\"lines\",\"name\":\"Cyprus\",\"orientation\":\"v\",\"showlegend\":true,\"x\":[\"2016-12-31T00:00:00\",\"2015-12-31T00:00:00\",\"2013-12-31T00:00:00\"],\"xaxis\":\"x\",\"y\":[1.318,0.453,11.52],\"yaxis\":\"y\",\"type\":\"scatter\"}],                        {\"template\":{\"data\":{\"bar\":[{\"error_x\":{\"color\":\"#2a3f5f\"},\"error_y\":{\"color\":\"#2a3f5f\"},\"marker\":{\"line\":{\"color\":\"#E5ECF6\",\"width\":0.5},\"pattern\":{\"fillmode\":\"overlay\",\"size\":10,\"solidity\":0.2}},\"type\":\"bar\"}],\"barpolar\":[{\"marker\":{\"line\":{\"color\":\"#E5ECF6\",\"width\":0.5},\"pattern\":{\"fillmode\":\"overlay\",\"size\":10,\"solidity\":0.2}},\"type\":\"barpolar\"}],\"carpet\":[{\"aaxis\":{\"endlinecolor\":\"#2a3f5f\",\"gridcolor\":\"white\",\"linecolor\":\"white\",\"minorgridcolor\":\"white\",\"startlinecolor\":\"#2a3f5f\"},\"baxis\":{\"endlinecolor\":\"#2a3f5f\",\"gridcolor\":\"white\",\"linecolor\":\"white\",\"minorgridcolor\":\"white\",\"startlinecolor\":\"#2a3f5f\"},\"type\":\"carpet\"}],\"choropleth\":[{\"colorbar\":{\"outlinewidth\":0,\"ticks\":\"\"},\"type\":\"choropleth\"}],\"contour\":[{\"colorbar\":{\"outlinewidth\":0,\"ticks\":\"\"},\"colorscale\":[[0.0,\"#0d0887\"],[0.1111111111111111,\"#46039f\"],[0.2222222222222222,\"#7201a8\"],[0.3333333333333333,\"#9c179e\"],[0.4444444444444444,\"#bd3786\"],[0.5555555555555556,\"#d8576b\"],[0.6666666666666666,\"#ed7953\"],[0.7777777777777778,\"#fb9f3a\"],[0.8888888888888888,\"#fdca26\"],[1.0,\"#f0f921\"]],\"type\":\"contour\"}],\"contourcarpet\":[{\"colorbar\":{\"outlinewidth\":0,\"ticks\":\"\"},\"type\":\"contourcarpet\"}],\"heatmap\":[{\"colorbar\":{\"outlinewidth\":0,\"ticks\":\"\"},\"colorscale\":[[0.0,\"#0d0887\"],[0.1111111111111111,\"#46039f\"],[0.2222222222222222,\"#7201a8\"],[0.3333333333333333,\"#9c179e\"],[0.4444444444444444,\"#bd3786\"],[0.5555555555555556,\"#d8576b\"],[0.6666666666666666,\"#ed7953\"],[0.7777777777777778,\"#fb9f3a\"],[0.8888888888888888,\"#fdca26\"],[1.0,\"#f0f921\"]],\"type\":\"heatmap\"}],\"heatmapgl\":[{\"colorbar\":{\"outlinewidth\":0,\"ticks\":\"\"},\"colorscale\":[[0.0,\"#0d0887\"],[0.1111111111111111,\"#46039f\"],[0.2222222222222222,\"#7201a8\"],[0.3333333333333333,\"#9c179e\"],[0.4444444444444444,\"#bd3786\"],[0.5555555555555556,\"#d8576b\"],[0.6666666666666666,\"#ed7953\"],[0.7777777777777778,\"#fb9f3a\"],[0.8888888888888888,\"#fdca26\"],[1.0,\"#f0f921\"]],\"type\":\"heatmapgl\"}],\"histogram\":[{\"marker\":{\"pattern\":{\"fillmode\":\"overlay\",\"size\":10,\"solidity\":0.2}},\"type\":\"histogram\"}],\"histogram2d\":[{\"colorbar\":{\"outlinewidth\":0,\"ticks\":\"\"},\"colorscale\":[[0.0,\"#0d0887\"],[0.1111111111111111,\"#46039f\"],[0.2222222222222222,\"#7201a8\"],[0.3333333333333333,\"#9c179e\"],[0.4444444444444444,\"#bd3786\"],[0.5555555555555556,\"#d8576b\"],[0.6666666666666666,\"#ed7953\"],[0.7777777777777778,\"#fb9f3a\"],[0.8888888888888888,\"#fdca26\"],[1.0,\"#f0f921\"]],\"type\":\"histogram2d\"}],\"histogram2dcontour\":[{\"colorbar\":{\"outlinewidth\":0,\"ticks\":\"\"},\"colorscale\":[[0.0,\"#0d0887\"],[0.1111111111111111,\"#46039f\"],[0.2222222222222222,\"#7201a8\"],[0.3333333333333333,\"#9c179e\"],[0.4444444444444444,\"#bd3786\"],[0.5555555555555556,\"#d8576b\"],[0.6666666666666666,\"#ed7953\"],[0.7777777777777778,\"#fb9f3a\"],[0.8888888888888888,\"#fdca26\"],[1.0,\"#f0f921\"]],\"type\":\"histogram2dcontour\"}],\"mesh3d\":[{\"colorbar\":{\"outlinewidth\":0,\"ticks\":\"\"},\"type\":\"mesh3d\"}],\"parcoords\":[{\"line\":{\"colorbar\":{\"outlinewidth\":0,\"ticks\":\"\"}},\"type\":\"parcoords\"}],\"pie\":[{\"automargin\":true,\"type\":\"pie\"}],\"scatter\":[{\"marker\":{\"colorbar\":{\"outlinewidth\":0,\"ticks\":\"\"}},\"type\":\"scatter\"}],\"scatter3d\":[{\"line\":{\"colorbar\":{\"outlinewidth\":0,\"ticks\":\"\"}},\"marker\":{\"colorbar\":{\"outlinewidth\":0,\"ticks\":\"\"}},\"type\":\"scatter3d\"}],\"scattercarpet\":[{\"marker\":{\"colorbar\":{\"outlinewidth\":0,\"ticks\":\"\"}},\"type\":\"scattercarpet\"}],\"scattergeo\":[{\"marker\":{\"colorbar\":{\"outlinewidth\":0,\"ticks\":\"\"}},\"type\":\"scattergeo\"}],\"scattergl\":[{\"marker\":{\"colorbar\":{\"outlinewidth\":0,\"ticks\":\"\"}},\"type\":\"scattergl\"}],\"scattermapbox\":[{\"marker\":{\"colorbar\":{\"outlinewidth\":0,\"ticks\":\"\"}},\"type\":\"scattermapbox\"}],\"scatterpolar\":[{\"marker\":{\"colorbar\":{\"outlinewidth\":0,\"ticks\":\"\"}},\"type\":\"scatterpolar\"}],\"scatterpolargl\":[{\"marker\":{\"colorbar\":{\"outlinewidth\":0,\"ticks\":\"\"}},\"type\":\"scatterpolargl\"}],\"scatterternary\":[{\"marker\":{\"colorbar\":{\"outlinewidth\":0,\"ticks\":\"\"}},\"type\":\"scatterternary\"}],\"surface\":[{\"colorbar\":{\"outlinewidth\":0,\"ticks\":\"\"},\"colorscale\":[[0.0,\"#0d0887\"],[0.1111111111111111,\"#46039f\"],[0.2222222222222222,\"#7201a8\"],[0.3333333333333333,\"#9c179e\"],[0.4444444444444444,\"#bd3786\"],[0.5555555555555556,\"#d8576b\"],[0.6666666666666666,\"#ed7953\"],[0.7777777777777778,\"#fb9f3a\"],[0.8888888888888888,\"#fdca26\"],[1.0,\"#f0f921\"]],\"type\":\"surface\"}],\"table\":[{\"cells\":{\"fill\":{\"color\":\"#EBF0F8\"},\"line\":{\"color\":\"white\"}},\"header\":{\"fill\":{\"color\":\"#C8D4E3\"},\"line\":{\"color\":\"white\"}},\"type\":\"table\"}]},\"layout\":{\"annotationdefaults\":{\"arrowcolor\":\"#2a3f5f\",\"arrowhead\":0,\"arrowwidth\":1},\"autotypenumbers\":\"strict\",\"coloraxis\":{\"colorbar\":{\"outlinewidth\":0,\"ticks\":\"\"}},\"colorscale\":{\"diverging\":[[0,\"#8e0152\"],[0.1,\"#c51b7d\"],[0.2,\"#de77ae\"],[0.3,\"#f1b6da\"],[0.4,\"#fde0ef\"],[0.5,\"#f7f7f7\"],[0.6,\"#e6f5d0\"],[0.7,\"#b8e186\"],[0.8,\"#7fbc41\"],[0.9,\"#4d9221\"],[1,\"#276419\"]],\"sequential\":[[0.0,\"#0d0887\"],[0.1111111111111111,\"#46039f\"],[0.2222222222222222,\"#7201a8\"],[0.3333333333333333,\"#9c179e\"],[0.4444444444444444,\"#bd3786\"],[0.5555555555555556,\"#d8576b\"],[0.6666666666666666,\"#ed7953\"],[0.7777777777777778,\"#fb9f3a\"],[0.8888888888888888,\"#fdca26\"],[1.0,\"#f0f921\"]],\"sequentialminus\":[[0.0,\"#0d0887\"],[0.1111111111111111,\"#46039f\"],[0.2222222222222222,\"#7201a8\"],[0.3333333333333333,\"#9c179e\"],[0.4444444444444444,\"#bd3786\"],[0.5555555555555556,\"#d8576b\"],[0.6666666666666666,\"#ed7953\"],[0.7777777777777778,\"#fb9f3a\"],[0.8888888888888888,\"#fdca26\"],[1.0,\"#f0f921\"]]},\"colorway\":[\"#636efa\",\"#EF553B\",\"#00cc96\",\"#ab63fa\",\"#FFA15A\",\"#19d3f3\",\"#FF6692\",\"#B6E880\",\"#FF97FF\",\"#FECB52\"],\"font\":{\"color\":\"#2a3f5f\"},\"geo\":{\"bgcolor\":\"white\",\"lakecolor\":\"white\",\"landcolor\":\"#E5ECF6\",\"showlakes\":true,\"showland\":true,\"subunitcolor\":\"white\"},\"hoverlabel\":{\"align\":\"left\"},\"hovermode\":\"closest\",\"mapbox\":{\"style\":\"light\"},\"paper_bgcolor\":\"white\",\"plot_bgcolor\":\"#E5ECF6\",\"polar\":{\"angularaxis\":{\"gridcolor\":\"white\",\"linecolor\":\"white\",\"ticks\":\"\"},\"bgcolor\":\"#E5ECF6\",\"radialaxis\":{\"gridcolor\":\"white\",\"linecolor\":\"white\",\"ticks\":\"\"}},\"scene\":{\"xaxis\":{\"backgroundcolor\":\"#E5ECF6\",\"gridcolor\":\"white\",\"gridwidth\":2,\"linecolor\":\"white\",\"showbackground\":true,\"ticks\":\"\",\"zerolinecolor\":\"white\"},\"yaxis\":{\"backgroundcolor\":\"#E5ECF6\",\"gridcolor\":\"white\",\"gridwidth\":2,\"linecolor\":\"white\",\"showbackground\":true,\"ticks\":\"\",\"zerolinecolor\":\"white\"},\"zaxis\":{\"backgroundcolor\":\"#E5ECF6\",\"gridcolor\":\"white\",\"gridwidth\":2,\"linecolor\":\"white\",\"showbackground\":true,\"ticks\":\"\",\"zerolinecolor\":\"white\"}},\"shapedefaults\":{\"line\":{\"color\":\"#2a3f5f\"}},\"ternary\":{\"aaxis\":{\"gridcolor\":\"white\",\"linecolor\":\"white\",\"ticks\":\"\"},\"baxis\":{\"gridcolor\":\"white\",\"linecolor\":\"white\",\"ticks\":\"\"},\"bgcolor\":\"#E5ECF6\",\"caxis\":{\"gridcolor\":\"white\",\"linecolor\":\"white\",\"ticks\":\"\"}},\"title\":{\"x\":0.05},\"xaxis\":{\"automargin\":true,\"gridcolor\":\"white\",\"linecolor\":\"white\",\"ticks\":\"\",\"title\":{\"standoff\":15},\"zerolinecolor\":\"white\",\"zerolinewidth\":2},\"yaxis\":{\"automargin\":true,\"gridcolor\":\"white\",\"linecolor\":\"white\",\"ticks\":\"\",\"title\":{\"standoff\":15},\"zerolinecolor\":\"white\",\"zerolinewidth\":2}}},\"xaxis\":{\"anchor\":\"y\",\"domain\":[0.0,1.0],\"title\":{\"text\":\"Month Date\"}},\"yaxis\":{\"anchor\":\"x\",\"domain\":[0.0,1.0],\"title\":{\"text\":\"Value (k Euro)\"}},\"legend\":{\"title\":{\"text\":\"Country\"},\"tracegroupgap\":0},\"title\":{\"text\":\"Butter Exports\"}},                        {\"responsive\": true}                    ).then(function(){\n",
       "                            \n",
       "var gd = document.getElementById('2b87ca2c-91f1-4143-a371-7ff7b268957c');\n",
       "var x = new MutationObserver(function (mutations, observer) {{\n",
       "        var display = window.getComputedStyle(gd).display;\n",
       "        if (!display || display === 'none') {{\n",
       "            console.log([gd, 'removed!']);\n",
       "            Plotly.purge(gd);\n",
       "            observer.disconnect();\n",
       "        }}\n",
       "}});\n",
       "\n",
       "// Listen for the removal of the full notebook cells\n",
       "var notebookContainer = gd.closest('#notebook-container');\n",
       "if (notebookContainer) {{\n",
       "    x.observe(notebookContainer, {childList: true});\n",
       "}}\n",
       "\n",
       "// Listen for the clearing of the current output cell\n",
       "var outputEl = gd.closest('.output');\n",
       "if (outputEl) {{\n",
       "    x.observe(outputEl, {childList: true});\n",
       "}}\n",
       "\n",
       "                        })                };                });            </script>        </div>"
      ]
     },
     "metadata": {},
     "output_type": "display_data"
    }
   ],
   "source": [
    "fig = px.line(df_plot, x=\"Month Date\", y=\"Value (k Euro)\", color='Country', title='Butter Exports')\n",
    "fig.show()"
   ]
  },
  {
   "cell_type": "code",
   "execution_count": null,
   "id": "a0d095a1",
   "metadata": {},
   "outputs": [],
   "source": []
  }
 ],
 "metadata": {
  "kernelspec": {
   "display_name": "Python 3 (ipykernel)",
   "language": "python",
   "name": "python3"
  },
  "language_info": {
   "codemirror_mode": {
    "name": "ipython",
    "version": 3
   },
   "file_extension": ".py",
   "mimetype": "text/x-python",
   "name": "python",
   "nbconvert_exporter": "python",
   "pygments_lexer": "ipython3",
   "version": "3.9.12"
  }
 },
 "nbformat": 4,
 "nbformat_minor": 5
}
