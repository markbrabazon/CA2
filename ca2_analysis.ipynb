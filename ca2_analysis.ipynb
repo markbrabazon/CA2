{
 "cells": [
  {
   "cell_type": "code",
   "execution_count": 117,
   "id": "dbf9c54c",
   "metadata": {},
   "outputs": [],
   "source": [
    "import numpy as np\n",
    "import pandas as pd\n",
    "import plotly.express as px\n",
    "\n",
    "import calendar\n",
    "from datetime import datetime\n",
    "\n",
    "from sklearn.impute import KNNImputer"
   ]
  },
  {
   "cell_type": "markdown",
   "id": "cba47d1b",
   "metadata": {},
   "source": [
    "## 1.0 Global Data (Overview)"
   ]
  },
  {
   "cell_type": "markdown",
   "id": "9aa2400f",
   "metadata": {},
   "source": [
    "### 1.0.1 Global Quantities"
   ]
  },
  {
   "cell_type": "code",
   "execution_count": 261,
   "id": "cf662c08",
   "metadata": {},
   "outputs": [
    {
     "data": {
      "text/html": [
       "<div>\n",
       "<style scoped>\n",
       "    .dataframe tbody tr th:only-of-type {\n",
       "        vertical-align: middle;\n",
       "    }\n",
       "\n",
       "    .dataframe tbody tr th {\n",
       "        vertical-align: top;\n",
       "    }\n",
       "\n",
       "    .dataframe thead th {\n",
       "        text-align: right;\n",
       "    }\n",
       "</style>\n",
       "<table border=\"1\" class=\"dataframe\">\n",
       "  <thead>\n",
       "    <tr style=\"text-align: right;\">\n",
       "      <th></th>\n",
       "      <th>Exporters</th>\n",
       "      <th>2010-Exported quantity, Tons</th>\n",
       "      <th>2011-Exported quantity, Tons</th>\n",
       "      <th>2012-Exported quantity, Tons</th>\n",
       "      <th>2013-Exported quantity, Tons</th>\n",
       "      <th>2014-Exported quantity, Tons</th>\n",
       "      <th>2015-Exported quantity, Tons</th>\n",
       "      <th>2016-Exported quantity, Tons</th>\n",
       "      <th>2017-Exported quantity, Tons</th>\n",
       "      <th>2018-Exported quantity, Tons</th>\n",
       "      <th>2019-Exported quantity, Tons</th>\n",
       "      <th>2020-Exported quantity, Tons</th>\n",
       "      <th>2021-Exported quantity, Tons</th>\n",
       "      <th>Unnamed: 13</th>\n",
       "    </tr>\n",
       "  </thead>\n",
       "  <tbody>\n",
       "    <tr>\n",
       "      <th>0</th>\n",
       "      <td>World</td>\n",
       "      <td>1214351.0</td>\n",
       "      <td>1153849.0</td>\n",
       "      <td>1214137</td>\n",
       "      <td>1267952.0</td>\n",
       "      <td>1326425</td>\n",
       "      <td>1370772</td>\n",
       "      <td>1435756</td>\n",
       "      <td>1386312</td>\n",
       "      <td>1466019</td>\n",
       "      <td>No Quantity</td>\n",
       "      <td>No Quantity</td>\n",
       "      <td>No Quantity</td>\n",
       "      <td>NaN</td>\n",
       "    </tr>\n",
       "    <tr>\n",
       "      <th>1</th>\n",
       "      <td>Netherlands</td>\n",
       "      <td>138693.0</td>\n",
       "      <td>141021.0</td>\n",
       "      <td>172551</td>\n",
       "      <td>175908.0</td>\n",
       "      <td>181423</td>\n",
       "      <td>191954</td>\n",
       "      <td>228026</td>\n",
       "      <td>222106</td>\n",
       "      <td>218488</td>\n",
       "      <td>237042</td>\n",
       "      <td>251917</td>\n",
       "      <td>272105</td>\n",
       "      <td>NaN</td>\n",
       "    </tr>\n",
       "    <tr>\n",
       "      <th>2</th>\n",
       "      <td>Ireland</td>\n",
       "      <td>130068.0</td>\n",
       "      <td>138898.0</td>\n",
       "      <td>140547</td>\n",
       "      <td>152629.0</td>\n",
       "      <td>141914</td>\n",
       "      <td>176444</td>\n",
       "      <td>185560</td>\n",
       "      <td>198444</td>\n",
       "      <td>218804</td>\n",
       "      <td>257186</td>\n",
       "      <td>289292</td>\n",
       "      <td>272013</td>\n",
       "      <td>NaN</td>\n",
       "    </tr>\n",
       "    <tr>\n",
       "      <th>3</th>\n",
       "      <td>New Zealand</td>\n",
       "      <td>245393.0</td>\n",
       "      <td>254906.0</td>\n",
       "      <td>265711</td>\n",
       "      <td>259878.0</td>\n",
       "      <td>296759</td>\n",
       "      <td>291884</td>\n",
       "      <td>297476</td>\n",
       "      <td>269147</td>\n",
       "      <td>273223</td>\n",
       "      <td>280773</td>\n",
       "      <td>242003</td>\n",
       "      <td>241038</td>\n",
       "      <td>NaN</td>\n",
       "    </tr>\n",
       "    <tr>\n",
       "      <th>4</th>\n",
       "      <td>Germany</td>\n",
       "      <td>110900.0</td>\n",
       "      <td>89595.0</td>\n",
       "      <td>99833</td>\n",
       "      <td>122346.0</td>\n",
       "      <td>129422</td>\n",
       "      <td>135736</td>\n",
       "      <td>129008</td>\n",
       "      <td>125805</td>\n",
       "      <td>116785</td>\n",
       "      <td>135311</td>\n",
       "      <td>133137</td>\n",
       "      <td>129049</td>\n",
       "      <td>NaN</td>\n",
       "    </tr>\n",
       "    <tr>\n",
       "      <th>...</th>\n",
       "      <td>...</td>\n",
       "      <td>...</td>\n",
       "      <td>...</td>\n",
       "      <td>...</td>\n",
       "      <td>...</td>\n",
       "      <td>...</td>\n",
       "      <td>...</td>\n",
       "      <td>...</td>\n",
       "      <td>...</td>\n",
       "      <td>...</td>\n",
       "      <td>...</td>\n",
       "      <td>...</td>\n",
       "      <td>...</td>\n",
       "      <td>...</td>\n",
       "    </tr>\n",
       "    <tr>\n",
       "      <th>170</th>\n",
       "      <td>Lesotho</td>\n",
       "      <td>0.0</td>\n",
       "      <td>0.0</td>\n",
       "      <td>0</td>\n",
       "      <td>0.0</td>\n",
       "      <td>0</td>\n",
       "      <td>0</td>\n",
       "      <td>0</td>\n",
       "      <td>0</td>\n",
       "      <td>0</td>\n",
       "      <td>0</td>\n",
       "      <td>0</td>\n",
       "      <td>NaN</td>\n",
       "      <td>NaN</td>\n",
       "    </tr>\n",
       "    <tr>\n",
       "      <th>171</th>\n",
       "      <td>Malawi</td>\n",
       "      <td>3.0</td>\n",
       "      <td>1.0</td>\n",
       "      <td>0</td>\n",
       "      <td>0.0</td>\n",
       "      <td>0</td>\n",
       "      <td>0</td>\n",
       "      <td>0</td>\n",
       "      <td>7</td>\n",
       "      <td>0</td>\n",
       "      <td>0</td>\n",
       "      <td>0</td>\n",
       "      <td>NaN</td>\n",
       "      <td>NaN</td>\n",
       "    </tr>\n",
       "    <tr>\n",
       "      <th>172</th>\n",
       "      <td>Libya, State of</td>\n",
       "      <td>0.0</td>\n",
       "      <td>NaN</td>\n",
       "      <td>NaN</td>\n",
       "      <td>NaN</td>\n",
       "      <td>NaN</td>\n",
       "      <td>4</td>\n",
       "      <td>0</td>\n",
       "      <td>0</td>\n",
       "      <td>0</td>\n",
       "      <td>0</td>\n",
       "      <td>NaN</td>\n",
       "      <td>NaN</td>\n",
       "      <td>NaN</td>\n",
       "    </tr>\n",
       "    <tr>\n",
       "      <th>173</th>\n",
       "      <td>Mali</td>\n",
       "      <td>0.0</td>\n",
       "      <td>0.0</td>\n",
       "      <td>0</td>\n",
       "      <td>NaN</td>\n",
       "      <td>NaN</td>\n",
       "      <td>NaN</td>\n",
       "      <td>0</td>\n",
       "      <td>5</td>\n",
       "      <td>3</td>\n",
       "      <td>7</td>\n",
       "      <td>NaN</td>\n",
       "      <td>NaN</td>\n",
       "      <td>NaN</td>\n",
       "    </tr>\n",
       "    <tr>\n",
       "      <th>174</th>\n",
       "      <td>Netherlands Antilles</td>\n",
       "      <td>0.0</td>\n",
       "      <td>NaN</td>\n",
       "      <td>NaN</td>\n",
       "      <td>NaN</td>\n",
       "      <td>NaN</td>\n",
       "      <td>NaN</td>\n",
       "      <td>NaN</td>\n",
       "      <td>NaN</td>\n",
       "      <td>NaN</td>\n",
       "      <td>NaN</td>\n",
       "      <td>NaN</td>\n",
       "      <td>NaN</td>\n",
       "      <td>NaN</td>\n",
       "    </tr>\n",
       "  </tbody>\n",
       "</table>\n",
       "<p>175 rows × 14 columns</p>\n",
       "</div>"
      ],
      "text/plain": [
       "                Exporters  2010-Exported quantity, Tons  \\\n",
       "0                   World                     1214351.0   \n",
       "1             Netherlands                      138693.0   \n",
       "2                 Ireland                      130068.0   \n",
       "3             New Zealand                      245393.0   \n",
       "4                 Germany                      110900.0   \n",
       "..                    ...                           ...   \n",
       "170               Lesotho                           0.0   \n",
       "171                Malawi                           3.0   \n",
       "172       Libya, State of                           0.0   \n",
       "173                  Mali                           0.0   \n",
       "174  Netherlands Antilles                           0.0   \n",
       "\n",
       "     2011-Exported quantity, Tons 2012-Exported quantity, Tons  \\\n",
       "0                       1153849.0                      1214137   \n",
       "1                        141021.0                       172551   \n",
       "2                        138898.0                       140547   \n",
       "3                        254906.0                       265711   \n",
       "4                         89595.0                        99833   \n",
       "..                            ...                          ...   \n",
       "170                           0.0                            0   \n",
       "171                           1.0                            0   \n",
       "172                           NaN                          NaN   \n",
       "173                           0.0                            0   \n",
       "174                           NaN                          NaN   \n",
       "\n",
       "     2013-Exported quantity, Tons 2014-Exported quantity, Tons  \\\n",
       "0                       1267952.0                      1326425   \n",
       "1                        175908.0                       181423   \n",
       "2                        152629.0                       141914   \n",
       "3                        259878.0                       296759   \n",
       "4                        122346.0                       129422   \n",
       "..                            ...                          ...   \n",
       "170                           0.0                            0   \n",
       "171                           0.0                            0   \n",
       "172                           NaN                          NaN   \n",
       "173                           NaN                          NaN   \n",
       "174                           NaN                          NaN   \n",
       "\n",
       "    2015-Exported quantity, Tons 2016-Exported quantity, Tons  \\\n",
       "0                        1370772                      1435756   \n",
       "1                         191954                       228026   \n",
       "2                         176444                       185560   \n",
       "3                         291884                       297476   \n",
       "4                         135736                       129008   \n",
       "..                           ...                          ...   \n",
       "170                            0                            0   \n",
       "171                            0                            0   \n",
       "172                            4                            0   \n",
       "173                          NaN                            0   \n",
       "174                          NaN                          NaN   \n",
       "\n",
       "    2017-Exported quantity, Tons 2018-Exported quantity, Tons  \\\n",
       "0                        1386312                      1466019   \n",
       "1                         222106                       218488   \n",
       "2                         198444                       218804   \n",
       "3                         269147                       273223   \n",
       "4                         125805                       116785   \n",
       "..                           ...                          ...   \n",
       "170                            0                            0   \n",
       "171                            7                            0   \n",
       "172                            0                            0   \n",
       "173                            5                            3   \n",
       "174                          NaN                          NaN   \n",
       "\n",
       "    2019-Exported quantity, Tons 2020-Exported quantity, Tons  \\\n",
       "0                    No Quantity                  No Quantity   \n",
       "1                         237042                       251917   \n",
       "2                         257186                       289292   \n",
       "3                         280773                       242003   \n",
       "4                         135311                       133137   \n",
       "..                           ...                          ...   \n",
       "170                            0                            0   \n",
       "171                            0                            0   \n",
       "172                            0                          NaN   \n",
       "173                            7                          NaN   \n",
       "174                          NaN                          NaN   \n",
       "\n",
       "    2021-Exported quantity, Tons  Unnamed: 13  \n",
       "0                    No Quantity          NaN  \n",
       "1                         272105          NaN  \n",
       "2                         272013          NaN  \n",
       "3                         241038          NaN  \n",
       "4                         129049          NaN  \n",
       "..                           ...          ...  \n",
       "170                          NaN          NaN  \n",
       "171                          NaN          NaN  \n",
       "172                          NaN          NaN  \n",
       "173                          NaN          NaN  \n",
       "174                          NaN          NaN  \n",
       "\n",
       "[175 rows x 14 columns]"
      ]
     },
     "execution_count": 261,
     "metadata": {},
     "output_type": "execute_result"
    }
   ],
   "source": [
    "df_global_q = pd.read_csv('Data/Global/global_exports_quantities.txt', delimiter='\\t')\n",
    "df_global_q"
   ]
  },
  {
   "cell_type": "code",
   "execution_count": 262,
   "id": "8cbbefc0",
   "metadata": {},
   "outputs": [],
   "source": [
    "df_global_q.drop(df_global_q.filter(regex='^Unnamed').columns,axis=1,inplace=True)\n",
    "\n",
    "# Remove the sum row 'World', the last row (blank) and the the last column (blank)\n",
    "df_global_q = df_global_q[(df_global_q['Exporters'] != 'World')]"
   ]
  },
  {
   "cell_type": "code",
   "execution_count": 263,
   "id": "4ce09058",
   "metadata": {},
   "outputs": [],
   "source": [
    "# Reshape the data, creating a row for each yearly observation\n",
    "df_global_q = df_global_q.melt(id_vars=['Exporters'],\n",
    "                               var_name='Year',\n",
    "                               value_name='Quantity (tonnes)')"
   ]
  },
  {
   "cell_type": "code",
   "execution_count": 264,
   "id": "a091a50d",
   "metadata": {},
   "outputs": [
    {
     "data": {
      "text/html": [
       "<div>\n",
       "<style scoped>\n",
       "    .dataframe tbody tr th:only-of-type {\n",
       "        vertical-align: middle;\n",
       "    }\n",
       "\n",
       "    .dataframe tbody tr th {\n",
       "        vertical-align: top;\n",
       "    }\n",
       "\n",
       "    .dataframe thead th {\n",
       "        text-align: right;\n",
       "    }\n",
       "</style>\n",
       "<table border=\"1\" class=\"dataframe\">\n",
       "  <thead>\n",
       "    <tr style=\"text-align: right;\">\n",
       "      <th></th>\n",
       "      <th>Exporters</th>\n",
       "      <th>Year</th>\n",
       "      <th>Quantity (tonnes)</th>\n",
       "    </tr>\n",
       "  </thead>\n",
       "  <tbody>\n",
       "    <tr>\n",
       "      <th>0</th>\n",
       "      <td>Netherlands</td>\n",
       "      <td>2010-Exported quantity, Tons</td>\n",
       "      <td>138693.0</td>\n",
       "    </tr>\n",
       "    <tr>\n",
       "      <th>1</th>\n",
       "      <td>Ireland</td>\n",
       "      <td>2010-Exported quantity, Tons</td>\n",
       "      <td>130068.0</td>\n",
       "    </tr>\n",
       "    <tr>\n",
       "      <th>2</th>\n",
       "      <td>New Zealand</td>\n",
       "      <td>2010-Exported quantity, Tons</td>\n",
       "      <td>245393.0</td>\n",
       "    </tr>\n",
       "    <tr>\n",
       "      <th>3</th>\n",
       "      <td>Germany</td>\n",
       "      <td>2010-Exported quantity, Tons</td>\n",
       "      <td>110900.0</td>\n",
       "    </tr>\n",
       "    <tr>\n",
       "      <th>4</th>\n",
       "      <td>Belgium</td>\n",
       "      <td>2010-Exported quantity, Tons</td>\n",
       "      <td>74627.0</td>\n",
       "    </tr>\n",
       "    <tr>\n",
       "      <th>...</th>\n",
       "      <td>...</td>\n",
       "      <td>...</td>\n",
       "      <td>...</td>\n",
       "    </tr>\n",
       "    <tr>\n",
       "      <th>2083</th>\n",
       "      <td>Lesotho</td>\n",
       "      <td>2021-Exported quantity, Tons</td>\n",
       "      <td>NaN</td>\n",
       "    </tr>\n",
       "    <tr>\n",
       "      <th>2084</th>\n",
       "      <td>Malawi</td>\n",
       "      <td>2021-Exported quantity, Tons</td>\n",
       "      <td>NaN</td>\n",
       "    </tr>\n",
       "    <tr>\n",
       "      <th>2085</th>\n",
       "      <td>Libya, State of</td>\n",
       "      <td>2021-Exported quantity, Tons</td>\n",
       "      <td>NaN</td>\n",
       "    </tr>\n",
       "    <tr>\n",
       "      <th>2086</th>\n",
       "      <td>Mali</td>\n",
       "      <td>2021-Exported quantity, Tons</td>\n",
       "      <td>NaN</td>\n",
       "    </tr>\n",
       "    <tr>\n",
       "      <th>2087</th>\n",
       "      <td>Netherlands Antilles</td>\n",
       "      <td>2021-Exported quantity, Tons</td>\n",
       "      <td>NaN</td>\n",
       "    </tr>\n",
       "  </tbody>\n",
       "</table>\n",
       "<p>2088 rows × 3 columns</p>\n",
       "</div>"
      ],
      "text/plain": [
       "                 Exporters                          Year Quantity (tonnes)\n",
       "0              Netherlands  2010-Exported quantity, Tons          138693.0\n",
       "1                  Ireland  2010-Exported quantity, Tons          130068.0\n",
       "2              New Zealand  2010-Exported quantity, Tons          245393.0\n",
       "3                  Germany  2010-Exported quantity, Tons          110900.0\n",
       "4                  Belgium  2010-Exported quantity, Tons           74627.0\n",
       "...                    ...                           ...               ...\n",
       "2083               Lesotho  2021-Exported quantity, Tons               NaN\n",
       "2084                Malawi  2021-Exported quantity, Tons               NaN\n",
       "2085       Libya, State of  2021-Exported quantity, Tons               NaN\n",
       "2086                  Mali  2021-Exported quantity, Tons               NaN\n",
       "2087  Netherlands Antilles  2021-Exported quantity, Tons               NaN\n",
       "\n",
       "[2088 rows x 3 columns]"
      ]
     },
     "execution_count": 264,
     "metadata": {},
     "output_type": "execute_result"
    }
   ],
   "source": [
    "df_global_q"
   ]
  },
  {
   "cell_type": "code",
   "execution_count": 265,
   "id": "0022ff52",
   "metadata": {},
   "outputs": [],
   "source": [
    "df_global_q['Year'] = df_global_q['Year'].str[:4]"
   ]
  },
  {
   "cell_type": "code",
   "execution_count": 266,
   "id": "286d901e",
   "metadata": {},
   "outputs": [
    {
     "data": {
      "text/html": [
       "<div>\n",
       "<style scoped>\n",
       "    .dataframe tbody tr th:only-of-type {\n",
       "        vertical-align: middle;\n",
       "    }\n",
       "\n",
       "    .dataframe tbody tr th {\n",
       "        vertical-align: top;\n",
       "    }\n",
       "\n",
       "    .dataframe thead th {\n",
       "        text-align: right;\n",
       "    }\n",
       "</style>\n",
       "<table border=\"1\" class=\"dataframe\">\n",
       "  <thead>\n",
       "    <tr style=\"text-align: right;\">\n",
       "      <th></th>\n",
       "      <th>Exporters</th>\n",
       "      <th>Year</th>\n",
       "      <th>Quantity (tonnes)</th>\n",
       "    </tr>\n",
       "  </thead>\n",
       "  <tbody>\n",
       "    <tr>\n",
       "      <th>0</th>\n",
       "      <td>Netherlands</td>\n",
       "      <td>2010</td>\n",
       "      <td>138693.0</td>\n",
       "    </tr>\n",
       "    <tr>\n",
       "      <th>1</th>\n",
       "      <td>Ireland</td>\n",
       "      <td>2010</td>\n",
       "      <td>130068.0</td>\n",
       "    </tr>\n",
       "    <tr>\n",
       "      <th>2</th>\n",
       "      <td>New Zealand</td>\n",
       "      <td>2010</td>\n",
       "      <td>245393.0</td>\n",
       "    </tr>\n",
       "    <tr>\n",
       "      <th>3</th>\n",
       "      <td>Germany</td>\n",
       "      <td>2010</td>\n",
       "      <td>110900.0</td>\n",
       "    </tr>\n",
       "    <tr>\n",
       "      <th>4</th>\n",
       "      <td>Belgium</td>\n",
       "      <td>2010</td>\n",
       "      <td>74627.0</td>\n",
       "    </tr>\n",
       "    <tr>\n",
       "      <th>...</th>\n",
       "      <td>...</td>\n",
       "      <td>...</td>\n",
       "      <td>...</td>\n",
       "    </tr>\n",
       "    <tr>\n",
       "      <th>2083</th>\n",
       "      <td>Lesotho</td>\n",
       "      <td>2021</td>\n",
       "      <td>NaN</td>\n",
       "    </tr>\n",
       "    <tr>\n",
       "      <th>2084</th>\n",
       "      <td>Malawi</td>\n",
       "      <td>2021</td>\n",
       "      <td>NaN</td>\n",
       "    </tr>\n",
       "    <tr>\n",
       "      <th>2085</th>\n",
       "      <td>Libya, State of</td>\n",
       "      <td>2021</td>\n",
       "      <td>NaN</td>\n",
       "    </tr>\n",
       "    <tr>\n",
       "      <th>2086</th>\n",
       "      <td>Mali</td>\n",
       "      <td>2021</td>\n",
       "      <td>NaN</td>\n",
       "    </tr>\n",
       "    <tr>\n",
       "      <th>2087</th>\n",
       "      <td>Netherlands Antilles</td>\n",
       "      <td>2021</td>\n",
       "      <td>NaN</td>\n",
       "    </tr>\n",
       "  </tbody>\n",
       "</table>\n",
       "<p>2088 rows × 3 columns</p>\n",
       "</div>"
      ],
      "text/plain": [
       "                 Exporters  Year Quantity (tonnes)\n",
       "0              Netherlands  2010          138693.0\n",
       "1                  Ireland  2010          130068.0\n",
       "2              New Zealand  2010          245393.0\n",
       "3                  Germany  2010          110900.0\n",
       "4                  Belgium  2010           74627.0\n",
       "...                    ...   ...               ...\n",
       "2083               Lesotho  2021               NaN\n",
       "2084                Malawi  2021               NaN\n",
       "2085       Libya, State of  2021               NaN\n",
       "2086                  Mali  2021               NaN\n",
       "2087  Netherlands Antilles  2021               NaN\n",
       "\n",
       "[2088 rows x 3 columns]"
      ]
     },
     "execution_count": 266,
     "metadata": {},
     "output_type": "execute_result"
    }
   ],
   "source": [
    "df_global_q"
   ]
  },
  {
   "cell_type": "code",
   "execution_count": null,
   "id": "b75d784a",
   "metadata": {},
   "outputs": [],
   "source": []
  },
  {
   "cell_type": "markdown",
   "id": "d7753bc0",
   "metadata": {},
   "source": [
    "### 1.0.2 Global Values"
   ]
  },
  {
   "cell_type": "code",
   "execution_count": 267,
   "id": "4877e60a",
   "metadata": {},
   "outputs": [
    {
     "data": {
      "text/html": [
       "<div>\n",
       "<style scoped>\n",
       "    .dataframe tbody tr th:only-of-type {\n",
       "        vertical-align: middle;\n",
       "    }\n",
       "\n",
       "    .dataframe tbody tr th {\n",
       "        vertical-align: top;\n",
       "    }\n",
       "\n",
       "    .dataframe thead th {\n",
       "        text-align: right;\n",
       "    }\n",
       "</style>\n",
       "<table border=\"1\" class=\"dataframe\">\n",
       "  <thead>\n",
       "    <tr style=\"text-align: right;\">\n",
       "      <th></th>\n",
       "      <th>Exporters</th>\n",
       "      <th>Exported value in 2010</th>\n",
       "      <th>Exported value in 2011</th>\n",
       "      <th>Exported value in 2012</th>\n",
       "      <th>Exported value in 2013</th>\n",
       "      <th>Exported value in 2014</th>\n",
       "      <th>Exported value in 2015</th>\n",
       "      <th>Exported value in 2016</th>\n",
       "      <th>Exported value in 2017</th>\n",
       "      <th>Exported value in 2018</th>\n",
       "      <th>Exported value in 2019</th>\n",
       "      <th>Exported value in 2020</th>\n",
       "      <th>Exported value in 2021</th>\n",
       "      <th>Unnamed: 13</th>\n",
       "    </tr>\n",
       "  </thead>\n",
       "  <tbody>\n",
       "    <tr>\n",
       "      <th>0</th>\n",
       "      <td>World</td>\n",
       "      <td>3802865.0</td>\n",
       "      <td>4405425.0</td>\n",
       "      <td>3740252.0</td>\n",
       "      <td>4428320.0</td>\n",
       "      <td>4548405.0</td>\n",
       "      <td>4285212.0</td>\n",
       "      <td>4518147.0</td>\n",
       "      <td>6418706.0</td>\n",
       "      <td>6946564.0</td>\n",
       "      <td>6660120.0</td>\n",
       "      <td>5599323.0</td>\n",
       "      <td>6463730.0</td>\n",
       "      <td>NaN</td>\n",
       "    </tr>\n",
       "    <tr>\n",
       "      <th>1</th>\n",
       "      <td>Netherlands</td>\n",
       "      <td>445281.0</td>\n",
       "      <td>550349.0</td>\n",
       "      <td>529077.0</td>\n",
       "      <td>650138.0</td>\n",
       "      <td>636885.0</td>\n",
       "      <td>604647.0</td>\n",
       "      <td>696832.0</td>\n",
       "      <td>998508.0</td>\n",
       "      <td>1034068.0</td>\n",
       "      <td>980831.0</td>\n",
       "      <td>893428.0</td>\n",
       "      <td>1061956.0</td>\n",
       "      <td>NaN</td>\n",
       "    </tr>\n",
       "    <tr>\n",
       "      <th>2</th>\n",
       "      <td>Ireland</td>\n",
       "      <td>405769.0</td>\n",
       "      <td>518267.0</td>\n",
       "      <td>422993.0</td>\n",
       "      <td>541223.0</td>\n",
       "      <td>488388.0</td>\n",
       "      <td>543733.0</td>\n",
       "      <td>544280.0</td>\n",
       "      <td>891261.0</td>\n",
       "      <td>1089962.0</td>\n",
       "      <td>1086854.0</td>\n",
       "      <td>969339.0</td>\n",
       "      <td>1051065.0</td>\n",
       "      <td>NaN</td>\n",
       "    </tr>\n",
       "    <tr>\n",
       "      <th>3</th>\n",
       "      <td>New Zealand</td>\n",
       "      <td>688911.0</td>\n",
       "      <td>1026562.0</td>\n",
       "      <td>715697.0</td>\n",
       "      <td>756614.0</td>\n",
       "      <td>888665.0</td>\n",
       "      <td>797983.0</td>\n",
       "      <td>833396.0</td>\n",
       "      <td>1197924.0</td>\n",
       "      <td>1212271.0</td>\n",
       "      <td>1132339.0</td>\n",
       "      <td>881204.0</td>\n",
       "      <td>988288.0</td>\n",
       "      <td>NaN</td>\n",
       "    </tr>\n",
       "    <tr>\n",
       "      <th>4</th>\n",
       "      <td>Germany</td>\n",
       "      <td>357912.0</td>\n",
       "      <td>353460.0</td>\n",
       "      <td>326588.0</td>\n",
       "      <td>450429.0</td>\n",
       "      <td>456993.0</td>\n",
       "      <td>429577.0</td>\n",
       "      <td>407033.0</td>\n",
       "      <td>595252.0</td>\n",
       "      <td>571646.0</td>\n",
       "      <td>560655.0</td>\n",
       "      <td>477357.0</td>\n",
       "      <td>532870.0</td>\n",
       "      <td>NaN</td>\n",
       "    </tr>\n",
       "    <tr>\n",
       "      <th>...</th>\n",
       "      <td>...</td>\n",
       "      <td>...</td>\n",
       "      <td>...</td>\n",
       "      <td>...</td>\n",
       "      <td>...</td>\n",
       "      <td>...</td>\n",
       "      <td>...</td>\n",
       "      <td>...</td>\n",
       "      <td>...</td>\n",
       "      <td>...</td>\n",
       "      <td>...</td>\n",
       "      <td>...</td>\n",
       "      <td>...</td>\n",
       "      <td>...</td>\n",
       "    </tr>\n",
       "    <tr>\n",
       "      <th>170</th>\n",
       "      <td>Netherlands Antilles</td>\n",
       "      <td>2.0</td>\n",
       "      <td>NaN</td>\n",
       "      <td>NaN</td>\n",
       "      <td>NaN</td>\n",
       "      <td>NaN</td>\n",
       "      <td>NaN</td>\n",
       "      <td>NaN</td>\n",
       "      <td>NaN</td>\n",
       "      <td>NaN</td>\n",
       "      <td>NaN</td>\n",
       "      <td>NaN</td>\n",
       "      <td>NaN</td>\n",
       "      <td>NaN</td>\n",
       "    </tr>\n",
       "    <tr>\n",
       "      <th>171</th>\n",
       "      <td>Libya, State of</td>\n",
       "      <td>0.0</td>\n",
       "      <td>NaN</td>\n",
       "      <td>NaN</td>\n",
       "      <td>NaN</td>\n",
       "      <td>NaN</td>\n",
       "      <td>31.0</td>\n",
       "      <td>0.0</td>\n",
       "      <td>0.0</td>\n",
       "      <td>0.0</td>\n",
       "      <td>0.0</td>\n",
       "      <td>NaN</td>\n",
       "      <td>NaN</td>\n",
       "      <td>NaN</td>\n",
       "    </tr>\n",
       "    <tr>\n",
       "      <th>172</th>\n",
       "      <td>Mali</td>\n",
       "      <td>0.0</td>\n",
       "      <td>0.0</td>\n",
       "      <td>3.0</td>\n",
       "      <td>NaN</td>\n",
       "      <td>NaN</td>\n",
       "      <td>NaN</td>\n",
       "      <td>0.0</td>\n",
       "      <td>11.0</td>\n",
       "      <td>40.0</td>\n",
       "      <td>44.0</td>\n",
       "      <td>NaN</td>\n",
       "      <td>NaN</td>\n",
       "      <td>NaN</td>\n",
       "    </tr>\n",
       "    <tr>\n",
       "      <th>173</th>\n",
       "      <td>Malawi</td>\n",
       "      <td>53.0</td>\n",
       "      <td>2.0</td>\n",
       "      <td>0.0</td>\n",
       "      <td>0.0</td>\n",
       "      <td>0.0</td>\n",
       "      <td>0.0</td>\n",
       "      <td>0.0</td>\n",
       "      <td>12.0</td>\n",
       "      <td>0.0</td>\n",
       "      <td>0.0</td>\n",
       "      <td>0.0</td>\n",
       "      <td>NaN</td>\n",
       "      <td>NaN</td>\n",
       "    </tr>\n",
       "    <tr>\n",
       "      <th>174</th>\n",
       "      <td>Lesotho</td>\n",
       "      <td>0.0</td>\n",
       "      <td>0.0</td>\n",
       "      <td>0.0</td>\n",
       "      <td>0.0</td>\n",
       "      <td>7.0</td>\n",
       "      <td>0.0</td>\n",
       "      <td>0.0</td>\n",
       "      <td>0.0</td>\n",
       "      <td>0.0</td>\n",
       "      <td>0.0</td>\n",
       "      <td>0.0</td>\n",
       "      <td>NaN</td>\n",
       "      <td>NaN</td>\n",
       "    </tr>\n",
       "  </tbody>\n",
       "</table>\n",
       "<p>175 rows × 14 columns</p>\n",
       "</div>"
      ],
      "text/plain": [
       "                Exporters  Exported value in 2010  Exported value in 2011  \\\n",
       "0                   World               3802865.0               4405425.0   \n",
       "1             Netherlands                445281.0                550349.0   \n",
       "2                 Ireland                405769.0                518267.0   \n",
       "3             New Zealand                688911.0               1026562.0   \n",
       "4                 Germany                357912.0                353460.0   \n",
       "..                    ...                     ...                     ...   \n",
       "170  Netherlands Antilles                     2.0                     NaN   \n",
       "171       Libya, State of                     0.0                     NaN   \n",
       "172                  Mali                     0.0                     0.0   \n",
       "173                Malawi                    53.0                     2.0   \n",
       "174               Lesotho                     0.0                     0.0   \n",
       "\n",
       "     Exported value in 2012  Exported value in 2013  Exported value in 2014  \\\n",
       "0                 3740252.0               4428320.0               4548405.0   \n",
       "1                  529077.0                650138.0                636885.0   \n",
       "2                  422993.0                541223.0                488388.0   \n",
       "3                  715697.0                756614.0                888665.0   \n",
       "4                  326588.0                450429.0                456993.0   \n",
       "..                      ...                     ...                     ...   \n",
       "170                     NaN                     NaN                     NaN   \n",
       "171                     NaN                     NaN                     NaN   \n",
       "172                     3.0                     NaN                     NaN   \n",
       "173                     0.0                     0.0                     0.0   \n",
       "174                     0.0                     0.0                     7.0   \n",
       "\n",
       "     Exported value in 2015  Exported value in 2016  Exported value in 2017  \\\n",
       "0                 4285212.0               4518147.0               6418706.0   \n",
       "1                  604647.0                696832.0                998508.0   \n",
       "2                  543733.0                544280.0                891261.0   \n",
       "3                  797983.0                833396.0               1197924.0   \n",
       "4                  429577.0                407033.0                595252.0   \n",
       "..                      ...                     ...                     ...   \n",
       "170                     NaN                     NaN                     NaN   \n",
       "171                    31.0                     0.0                     0.0   \n",
       "172                     NaN                     0.0                    11.0   \n",
       "173                     0.0                     0.0                    12.0   \n",
       "174                     0.0                     0.0                     0.0   \n",
       "\n",
       "     Exported value in 2018  Exported value in 2019  Exported value in 2020  \\\n",
       "0                 6946564.0               6660120.0               5599323.0   \n",
       "1                 1034068.0                980831.0                893428.0   \n",
       "2                 1089962.0               1086854.0                969339.0   \n",
       "3                 1212271.0               1132339.0                881204.0   \n",
       "4                  571646.0                560655.0                477357.0   \n",
       "..                      ...                     ...                     ...   \n",
       "170                     NaN                     NaN                     NaN   \n",
       "171                     0.0                     0.0                     NaN   \n",
       "172                    40.0                    44.0                     NaN   \n",
       "173                     0.0                     0.0                     0.0   \n",
       "174                     0.0                     0.0                     0.0   \n",
       "\n",
       "     Exported value in 2021  Unnamed: 13  \n",
       "0                 6463730.0          NaN  \n",
       "1                 1061956.0          NaN  \n",
       "2                 1051065.0          NaN  \n",
       "3                  988288.0          NaN  \n",
       "4                  532870.0          NaN  \n",
       "..                      ...          ...  \n",
       "170                     NaN          NaN  \n",
       "171                     NaN          NaN  \n",
       "172                     NaN          NaN  \n",
       "173                     NaN          NaN  \n",
       "174                     NaN          NaN  \n",
       "\n",
       "[175 rows x 14 columns]"
      ]
     },
     "execution_count": 267,
     "metadata": {},
     "output_type": "execute_result"
    }
   ],
   "source": [
    "df_global_v = pd.read_csv('Data/Global/global_exports_values.txt', delimiter='\\t')\n",
    "df_global_v"
   ]
  },
  {
   "cell_type": "code",
   "execution_count": 268,
   "id": "3fafab34",
   "metadata": {},
   "outputs": [],
   "source": [
    "df_global_v.drop(df_global_v.filter(regex='^Unnamed').columns,axis=1,inplace=True)\n",
    "\n",
    "# Remove the sum row 'World', the last row (blank) and the the last column (blank)\n",
    "df_global_v = df_global_v[(df_global_v['Exporters'] != 'World')]"
   ]
  },
  {
   "cell_type": "code",
   "execution_count": 269,
   "id": "8363389a",
   "metadata": {},
   "outputs": [],
   "source": [
    "# Reshape the data, creating a row for each yearly observation\n",
    "df_global_v = df_global_v.melt(id_vars=['Exporters'],\n",
    "                               var_name='Year',\n",
    "                               value_name='Value (k Euro)')"
   ]
  },
  {
   "cell_type": "code",
   "execution_count": null,
   "id": "94cb00be",
   "metadata": {},
   "outputs": [],
   "source": []
  },
  {
   "cell_type": "code",
   "execution_count": 270,
   "id": "bed7e4e7",
   "metadata": {},
   "outputs": [],
   "source": [
    "df_global_v['Year'] = df_global_v['Year'].str[-4:]"
   ]
  },
  {
   "cell_type": "code",
   "execution_count": 271,
   "id": "11cc501e",
   "metadata": {},
   "outputs": [],
   "source": [
    "#df_global.sort_values(by=['Month Date','Value (k Euro)'],ascending=False,inplace=True)"
   ]
  },
  {
   "cell_type": "code",
   "execution_count": null,
   "id": "6afee3a7",
   "metadata": {},
   "outputs": [],
   "source": []
  },
  {
   "cell_type": "markdown",
   "id": "43162eca",
   "metadata": {},
   "source": [
    "### 1.0.3 Merge Global Quantities and Values"
   ]
  },
  {
   "cell_type": "code",
   "execution_count": 272,
   "id": "2d53a933",
   "metadata": {},
   "outputs": [
    {
     "data": {
      "text/html": [
       "<div>\n",
       "<style scoped>\n",
       "    .dataframe tbody tr th:only-of-type {\n",
       "        vertical-align: middle;\n",
       "    }\n",
       "\n",
       "    .dataframe tbody tr th {\n",
       "        vertical-align: top;\n",
       "    }\n",
       "\n",
       "    .dataframe thead th {\n",
       "        text-align: right;\n",
       "    }\n",
       "</style>\n",
       "<table border=\"1\" class=\"dataframe\">\n",
       "  <thead>\n",
       "    <tr style=\"text-align: right;\">\n",
       "      <th></th>\n",
       "      <th>Exporters</th>\n",
       "      <th>Year</th>\n",
       "      <th>Quantity (tonnes)</th>\n",
       "      <th>Value (k Euro)</th>\n",
       "    </tr>\n",
       "  </thead>\n",
       "  <tbody>\n",
       "    <tr>\n",
       "      <th>0</th>\n",
       "      <td>Netherlands</td>\n",
       "      <td>2010</td>\n",
       "      <td>138693.0</td>\n",
       "      <td>445281.0</td>\n",
       "    </tr>\n",
       "    <tr>\n",
       "      <th>1</th>\n",
       "      <td>Ireland</td>\n",
       "      <td>2010</td>\n",
       "      <td>130068.0</td>\n",
       "      <td>405769.0</td>\n",
       "    </tr>\n",
       "    <tr>\n",
       "      <th>2</th>\n",
       "      <td>New Zealand</td>\n",
       "      <td>2010</td>\n",
       "      <td>245393.0</td>\n",
       "      <td>688911.0</td>\n",
       "    </tr>\n",
       "    <tr>\n",
       "      <th>3</th>\n",
       "      <td>Germany</td>\n",
       "      <td>2010</td>\n",
       "      <td>110900.0</td>\n",
       "      <td>357912.0</td>\n",
       "    </tr>\n",
       "    <tr>\n",
       "      <th>4</th>\n",
       "      <td>Belgium</td>\n",
       "      <td>2010</td>\n",
       "      <td>74627.0</td>\n",
       "      <td>261367.0</td>\n",
       "    </tr>\n",
       "    <tr>\n",
       "      <th>...</th>\n",
       "      <td>...</td>\n",
       "      <td>...</td>\n",
       "      <td>...</td>\n",
       "      <td>...</td>\n",
       "    </tr>\n",
       "    <tr>\n",
       "      <th>2083</th>\n",
       "      <td>Lesotho</td>\n",
       "      <td>2021</td>\n",
       "      <td>NaN</td>\n",
       "      <td>NaN</td>\n",
       "    </tr>\n",
       "    <tr>\n",
       "      <th>2084</th>\n",
       "      <td>Malawi</td>\n",
       "      <td>2021</td>\n",
       "      <td>NaN</td>\n",
       "      <td>NaN</td>\n",
       "    </tr>\n",
       "    <tr>\n",
       "      <th>2085</th>\n",
       "      <td>Libya, State of</td>\n",
       "      <td>2021</td>\n",
       "      <td>NaN</td>\n",
       "      <td>NaN</td>\n",
       "    </tr>\n",
       "    <tr>\n",
       "      <th>2086</th>\n",
       "      <td>Mali</td>\n",
       "      <td>2021</td>\n",
       "      <td>NaN</td>\n",
       "      <td>NaN</td>\n",
       "    </tr>\n",
       "    <tr>\n",
       "      <th>2087</th>\n",
       "      <td>Netherlands Antilles</td>\n",
       "      <td>2021</td>\n",
       "      <td>NaN</td>\n",
       "      <td>NaN</td>\n",
       "    </tr>\n",
       "  </tbody>\n",
       "</table>\n",
       "<p>2088 rows × 4 columns</p>\n",
       "</div>"
      ],
      "text/plain": [
       "                 Exporters  Year Quantity (tonnes)  Value (k Euro)\n",
       "0              Netherlands  2010          138693.0        445281.0\n",
       "1                  Ireland  2010          130068.0        405769.0\n",
       "2              New Zealand  2010          245393.0        688911.0\n",
       "3                  Germany  2010          110900.0        357912.0\n",
       "4                  Belgium  2010           74627.0        261367.0\n",
       "...                    ...   ...               ...             ...\n",
       "2083               Lesotho  2021               NaN             NaN\n",
       "2084                Malawi  2021               NaN             NaN\n",
       "2085       Libya, State of  2021               NaN             NaN\n",
       "2086                  Mali  2021               NaN             NaN\n",
       "2087  Netherlands Antilles  2021               NaN             NaN\n",
       "\n",
       "[2088 rows x 4 columns]"
      ]
     },
     "execution_count": 272,
     "metadata": {},
     "output_type": "execute_result"
    }
   ],
   "source": [
    "df_global = pd.merge(df_global_q,df_global_v,on=['Exporters','Year'], how='left')\n",
    "df_global"
   ]
  },
  {
   "cell_type": "code",
   "execution_count": 273,
   "id": "ea7988f0",
   "metadata": {},
   "outputs": [
    {
     "name": "stdout",
     "output_type": "stream",
     "text": [
      "<class 'pandas.core.frame.DataFrame'>\n",
      "Int64Index: 2088 entries, 0 to 2087\n",
      "Data columns (total 4 columns):\n",
      " #   Column             Non-Null Count  Dtype  \n",
      "---  ------             --------------  -----  \n",
      " 0   Exporters          2088 non-null   object \n",
      " 1   Year               2088 non-null   object \n",
      " 2   Quantity (tonnes)  1872 non-null   object \n",
      " 3   Value (k Euro)     1872 non-null   float64\n",
      "dtypes: float64(1), object(3)\n",
      "memory usage: 81.6+ KB\n"
     ]
    }
   ],
   "source": [
    "df_global.info()"
   ]
  },
  {
   "cell_type": "code",
   "execution_count": null,
   "id": "83e09689",
   "metadata": {},
   "outputs": [],
   "source": []
  },
  {
   "cell_type": "code",
   "execution_count": 274,
   "id": "39d5ba31",
   "metadata": {},
   "outputs": [],
   "source": [
    "# Remove rows where both quantity and value are null\n",
    "df_global = df_global[(df_global['Quantity (tonnes)'].notna() & df_global['Value (k Euro)'].notna())]"
   ]
  },
  {
   "cell_type": "code",
   "execution_count": 275,
   "id": "6b3a0cf0",
   "metadata": {},
   "outputs": [
    {
     "data": {
      "text/plain": [
       "Exporters            0\n",
       "Year                 0\n",
       "Quantity (tonnes)    0\n",
       "Value (k Euro)       0\n",
       "dtype: int64"
      ]
     },
     "execution_count": 275,
     "metadata": {},
     "output_type": "execute_result"
    }
   ],
   "source": [
    "# Check for nulls\n",
    "df_global.isna().sum()"
   ]
  },
  {
   "cell_type": "code",
   "execution_count": 276,
   "id": "2b379356",
   "metadata": {},
   "outputs": [
    {
     "name": "stdout",
     "output_type": "stream",
     "text": [
      "<class 'pandas.core.frame.DataFrame'>\n",
      "Int64Index: 1872 entries, 0 to 2057\n",
      "Data columns (total 4 columns):\n",
      " #   Column             Non-Null Count  Dtype  \n",
      "---  ------             --------------  -----  \n",
      " 0   Exporters          1872 non-null   object \n",
      " 1   Year               1872 non-null   object \n",
      " 2   Quantity (tonnes)  1872 non-null   object \n",
      " 3   Value (k Euro)     1872 non-null   float64\n",
      "dtypes: float64(1), object(3)\n",
      "memory usage: 73.1+ KB\n"
     ]
    }
   ],
   "source": [
    "df_global.info()"
   ]
  },
  {
   "cell_type": "code",
   "execution_count": 277,
   "id": "d718fe9b",
   "metadata": {},
   "outputs": [
    {
     "name": "stdout",
     "output_type": "stream",
     "text": [
      "<class 'pandas.core.frame.DataFrame'>\n",
      "Int64Index: 1872 entries, 0 to 2057\n",
      "Data columns (total 4 columns):\n",
      " #   Column             Non-Null Count  Dtype  \n",
      "---  ------             --------------  -----  \n",
      " 0   Exporters          1872 non-null   object \n",
      " 1   Year               1872 non-null   object \n",
      " 2   Quantity (tonnes)  1858 non-null   float64\n",
      " 3   Value (k Euro)     1872 non-null   float64\n",
      "dtypes: float64(2), object(2)\n",
      "memory usage: 73.1+ KB\n"
     ]
    }
   ],
   "source": [
    "pd.options.mode.chained_assignment = None  # default='warn'\n",
    "df_global['Quantity (tonnes)'] = df_global['Quantity (tonnes)'].apply(pd.to_numeric, errors='coerce')\n",
    "df_global.info()"
   ]
  },
  {
   "cell_type": "code",
   "execution_count": 278,
   "id": "fbdf4e71",
   "metadata": {},
   "outputs": [
    {
     "data": {
      "text/plain": [
       "Exporters             0\n",
       "Year                  0\n",
       "Quantity (tonnes)    14\n",
       "Value (k Euro)        0\n",
       "dtype: int64"
      ]
     },
     "execution_count": 278,
     "metadata": {},
     "output_type": "execute_result"
    }
   ],
   "source": [
    "# Check for nulls\n",
    "df_global.isna().sum()"
   ]
  },
  {
   "cell_type": "code",
   "execution_count": 279,
   "id": "8eee98f7",
   "metadata": {},
   "outputs": [
    {
     "data": {
      "text/html": [
       "<div>\n",
       "<style scoped>\n",
       "    .dataframe tbody tr th:only-of-type {\n",
       "        vertical-align: middle;\n",
       "    }\n",
       "\n",
       "    .dataframe tbody tr th {\n",
       "        vertical-align: top;\n",
       "    }\n",
       "\n",
       "    .dataframe thead th {\n",
       "        text-align: right;\n",
       "    }\n",
       "</style>\n",
       "<table border=\"1\" class=\"dataframe\">\n",
       "  <thead>\n",
       "    <tr style=\"text-align: right;\">\n",
       "      <th></th>\n",
       "      <th>Exporters</th>\n",
       "      <th>Year</th>\n",
       "      <th>Quantity (tonnes)</th>\n",
       "      <th>Value (k Euro)</th>\n",
       "    </tr>\n",
       "  </thead>\n",
       "  <tbody>\n",
       "    <tr>\n",
       "      <th>473</th>\n",
       "      <td>Viet Nam</td>\n",
       "      <td>2012</td>\n",
       "      <td>NaN</td>\n",
       "      <td>255.0</td>\n",
       "    </tr>\n",
       "    <tr>\n",
       "      <th>479</th>\n",
       "      <td>Bermuda</td>\n",
       "      <td>2012</td>\n",
       "      <td>NaN</td>\n",
       "      <td>1.0</td>\n",
       "    </tr>\n",
       "    <tr>\n",
       "      <th>794</th>\n",
       "      <td>Zimbabwe</td>\n",
       "      <td>2014</td>\n",
       "      <td>NaN</td>\n",
       "      <td>7.0</td>\n",
       "    </tr>\n",
       "    <tr>\n",
       "      <th>994</th>\n",
       "      <td>Nigeria</td>\n",
       "      <td>2015</td>\n",
       "      <td>NaN</td>\n",
       "      <td>6.0</td>\n",
       "    </tr>\n",
       "    <tr>\n",
       "      <th>1196</th>\n",
       "      <td>Palestine, State of</td>\n",
       "      <td>2016</td>\n",
       "      <td>NaN</td>\n",
       "      <td>1.0</td>\n",
       "    </tr>\n",
       "    <tr>\n",
       "      <th>1370</th>\n",
       "      <td>Palestine, State of</td>\n",
       "      <td>2017</td>\n",
       "      <td>NaN</td>\n",
       "      <td>10.0</td>\n",
       "    </tr>\n",
       "    <tr>\n",
       "      <th>1472</th>\n",
       "      <td>Namibia</td>\n",
       "      <td>2018</td>\n",
       "      <td>NaN</td>\n",
       "      <td>18.0</td>\n",
       "    </tr>\n",
       "    <tr>\n",
       "      <th>1576</th>\n",
       "      <td>United Kingdom</td>\n",
       "      <td>2019</td>\n",
       "      <td>NaN</td>\n",
       "      <td>183226.0</td>\n",
       "    </tr>\n",
       "    <tr>\n",
       "      <th>1658</th>\n",
       "      <td>Rwanda</td>\n",
       "      <td>2019</td>\n",
       "      <td>NaN</td>\n",
       "      <td>44.0</td>\n",
       "    </tr>\n",
       "    <tr>\n",
       "      <th>1876</th>\n",
       "      <td>Finland</td>\n",
       "      <td>2020</td>\n",
       "      <td>NaN</td>\n",
       "      <td>128984.0</td>\n",
       "    </tr>\n",
       "    <tr>\n",
       "      <th>2031</th>\n",
       "      <td>Israel</td>\n",
       "      <td>2021</td>\n",
       "      <td>NaN</td>\n",
       "      <td>4.0</td>\n",
       "    </tr>\n",
       "    <tr>\n",
       "      <th>2039</th>\n",
       "      <td>Viet Nam</td>\n",
       "      <td>2021</td>\n",
       "      <td>NaN</td>\n",
       "      <td>71.0</td>\n",
       "    </tr>\n",
       "    <tr>\n",
       "      <th>2049</th>\n",
       "      <td>Czech Republic</td>\n",
       "      <td>2021</td>\n",
       "      <td>NaN</td>\n",
       "      <td>10391.0</td>\n",
       "    </tr>\n",
       "    <tr>\n",
       "      <th>2050</th>\n",
       "      <td>Finland</td>\n",
       "      <td>2021</td>\n",
       "      <td>NaN</td>\n",
       "      <td>122282.0</td>\n",
       "    </tr>\n",
       "  </tbody>\n",
       "</table>\n",
       "</div>"
      ],
      "text/plain": [
       "                Exporters  Year  Quantity (tonnes)  Value (k Euro)\n",
       "473              Viet Nam  2012                NaN           255.0\n",
       "479               Bermuda  2012                NaN             1.0\n",
       "794              Zimbabwe  2014                NaN             7.0\n",
       "994               Nigeria  2015                NaN             6.0\n",
       "1196  Palestine, State of  2016                NaN             1.0\n",
       "1370  Palestine, State of  2017                NaN            10.0\n",
       "1472              Namibia  2018                NaN            18.0\n",
       "1576       United Kingdom  2019                NaN        183226.0\n",
       "1658               Rwanda  2019                NaN            44.0\n",
       "1876              Finland  2020                NaN        128984.0\n",
       "2031               Israel  2021                NaN             4.0\n",
       "2039             Viet Nam  2021                NaN            71.0\n",
       "2049       Czech Republic  2021                NaN         10391.0\n",
       "2050              Finland  2021                NaN        122282.0"
      ]
     },
     "execution_count": 279,
     "metadata": {},
     "output_type": "execute_result"
    }
   ],
   "source": [
    "df_global[(df_global['Quantity (tonnes)'].isna())]"
   ]
  },
  {
   "cell_type": "code",
   "execution_count": 280,
   "id": "4ed746d6",
   "metadata": {},
   "outputs": [],
   "source": [
    "# Use KNN Imputer to fill the missing values\n",
    "\n",
    "column_names = ['Exporters','Year','Quantity (tonnes)','Value (k Euro)']\n",
    "\n",
    "# Columns not included in KNN\n",
    "fixed = np.array(df_global[column_names[:2]])\n",
    "# Columns included in KNN\n",
    "features = np.array(df_global[column_names[2:]])\n",
    "\n",
    "impute_knn = KNNImputer(n_neighbors=1)\n",
    "features = impute_knn.fit_transform(features)\n",
    "\n",
    "full = np.append(fixed,features,axis=1)\n",
    "df_global = pd.DataFrame(full,columns=['Exporters','Year','Quantity (tonnes)','Value (k Euro)'])"
   ]
  },
  {
   "cell_type": "code",
   "execution_count": 281,
   "id": "c5b141a7",
   "metadata": {},
   "outputs": [
    {
     "data": {
      "text/html": [
       "<div>\n",
       "<style scoped>\n",
       "    .dataframe tbody tr th:only-of-type {\n",
       "        vertical-align: middle;\n",
       "    }\n",
       "\n",
       "    .dataframe tbody tr th {\n",
       "        vertical-align: top;\n",
       "    }\n",
       "\n",
       "    .dataframe thead th {\n",
       "        text-align: right;\n",
       "    }\n",
       "</style>\n",
       "<table border=\"1\" class=\"dataframe\">\n",
       "  <thead>\n",
       "    <tr style=\"text-align: right;\">\n",
       "      <th></th>\n",
       "      <th>Exporters</th>\n",
       "      <th>Year</th>\n",
       "      <th>Quantity (tonnes)</th>\n",
       "      <th>Value (k Euro)</th>\n",
       "    </tr>\n",
       "  </thead>\n",
       "  <tbody>\n",
       "    <tr>\n",
       "      <th>0</th>\n",
       "      <td>Netherlands</td>\n",
       "      <td>2010</td>\n",
       "      <td>138693.0</td>\n",
       "      <td>445281.0</td>\n",
       "    </tr>\n",
       "    <tr>\n",
       "      <th>1</th>\n",
       "      <td>Ireland</td>\n",
       "      <td>2010</td>\n",
       "      <td>130068.0</td>\n",
       "      <td>405769.0</td>\n",
       "    </tr>\n",
       "    <tr>\n",
       "      <th>2</th>\n",
       "      <td>New Zealand</td>\n",
       "      <td>2010</td>\n",
       "      <td>245393.0</td>\n",
       "      <td>688911.0</td>\n",
       "    </tr>\n",
       "    <tr>\n",
       "      <th>3</th>\n",
       "      <td>Germany</td>\n",
       "      <td>2010</td>\n",
       "      <td>110900.0</td>\n",
       "      <td>357912.0</td>\n",
       "    </tr>\n",
       "    <tr>\n",
       "      <th>4</th>\n",
       "      <td>Belgium</td>\n",
       "      <td>2010</td>\n",
       "      <td>74627.0</td>\n",
       "      <td>261367.0</td>\n",
       "    </tr>\n",
       "    <tr>\n",
       "      <th>...</th>\n",
       "      <td>...</td>\n",
       "      <td>...</td>\n",
       "      <td>...</td>\n",
       "      <td>...</td>\n",
       "    </tr>\n",
       "    <tr>\n",
       "      <th>1867</th>\n",
       "      <td>Suriname</td>\n",
       "      <td>2021</td>\n",
       "      <td>0.0</td>\n",
       "      <td>0.0</td>\n",
       "    </tr>\n",
       "    <tr>\n",
       "      <th>1868</th>\n",
       "      <td>Eswatini</td>\n",
       "      <td>2021</td>\n",
       "      <td>0.0</td>\n",
       "      <td>0.0</td>\n",
       "    </tr>\n",
       "    <tr>\n",
       "      <th>1869</th>\n",
       "      <td>Togo</td>\n",
       "      <td>2021</td>\n",
       "      <td>0.0</td>\n",
       "      <td>2.0</td>\n",
       "    </tr>\n",
       "    <tr>\n",
       "      <th>1870</th>\n",
       "      <td>United States Minor Outlying Islands</td>\n",
       "      <td>2021</td>\n",
       "      <td>0.0</td>\n",
       "      <td>1.0</td>\n",
       "    </tr>\n",
       "    <tr>\n",
       "      <th>1871</th>\n",
       "      <td>Tanzania, United Republic of</td>\n",
       "      <td>2021</td>\n",
       "      <td>0.0</td>\n",
       "      <td>1.0</td>\n",
       "    </tr>\n",
       "  </tbody>\n",
       "</table>\n",
       "<p>1872 rows × 4 columns</p>\n",
       "</div>"
      ],
      "text/plain": [
       "                                 Exporters  Year Quantity (tonnes)  \\\n",
       "0                              Netherlands  2010          138693.0   \n",
       "1                                  Ireland  2010          130068.0   \n",
       "2                              New Zealand  2010          245393.0   \n",
       "3                                  Germany  2010          110900.0   \n",
       "4                                  Belgium  2010           74627.0   \n",
       "...                                    ...   ...               ...   \n",
       "1867                              Suriname  2021               0.0   \n",
       "1868                              Eswatini  2021               0.0   \n",
       "1869                                  Togo  2021               0.0   \n",
       "1870  United States Minor Outlying Islands  2021               0.0   \n",
       "1871          Tanzania, United Republic of  2021               0.0   \n",
       "\n",
       "     Value (k Euro)  \n",
       "0          445281.0  \n",
       "1          405769.0  \n",
       "2          688911.0  \n",
       "3          357912.0  \n",
       "4          261367.0  \n",
       "...             ...  \n",
       "1867            0.0  \n",
       "1868            0.0  \n",
       "1869            2.0  \n",
       "1870            1.0  \n",
       "1871            1.0  \n",
       "\n",
       "[1872 rows x 4 columns]"
      ]
     },
     "execution_count": 281,
     "metadata": {},
     "output_type": "execute_result"
    }
   ],
   "source": [
    "df_global"
   ]
  },
  {
   "cell_type": "markdown",
   "id": "834f74ee",
   "metadata": {},
   "source": [
    "### 1.0.4 Plot Global Data"
   ]
  },
  {
   "cell_type": "code",
   "execution_count": null,
   "id": "0d41b7ac",
   "metadata": {},
   "outputs": [],
   "source": []
  },
  {
   "cell_type": "code",
   "execution_count": 282,
   "id": "fb8f7e81",
   "metadata": {},
   "outputs": [
    {
     "data": {
      "application/vnd.plotly.v1+json": {
       "config": {
        "plotlyServerURL": "https://plot.ly"
       },
       "data": [
        {
         "hovertemplate": "Exporters=Netherlands<br>Year=%{x}<br>Quantity (tonnes)=%{y}<extra></extra>",
         "legendgroup": "Netherlands",
         "line": {
          "color": "#636efa",
          "dash": "solid"
         },
         "marker": {
          "symbol": "circle"
         },
         "mode": "lines",
         "name": "Netherlands",
         "showlegend": true,
         "type": "scattergl",
         "x": [
          "2010",
          "2011",
          "2012",
          "2013",
          "2014",
          "2015",
          "2016",
          "2017",
          "2018",
          "2019",
          "2020",
          "2021"
         ],
         "xaxis": "x",
         "y": [
          138693,
          141021,
          172551,
          175908,
          181423,
          191954,
          228026,
          222106,
          218488,
          237042,
          251917,
          272105
         ],
         "yaxis": "y"
        },
        {
         "hovertemplate": "Exporters=Ireland<br>Year=%{x}<br>Quantity (tonnes)=%{y}<extra></extra>",
         "legendgroup": "Ireland",
         "line": {
          "color": "#EF553B",
          "dash": "solid"
         },
         "marker": {
          "symbol": "circle"
         },
         "mode": "lines",
         "name": "Ireland",
         "showlegend": true,
         "type": "scattergl",
         "x": [
          "2010",
          "2011",
          "2012",
          "2013",
          "2014",
          "2015",
          "2016",
          "2017",
          "2018",
          "2019",
          "2020",
          "2021"
         ],
         "xaxis": "x",
         "y": [
          130068,
          138898,
          140547,
          152629,
          141914,
          176444,
          185560,
          198444,
          218804,
          257186,
          289292,
          272013
         ],
         "yaxis": "y"
        },
        {
         "hovertemplate": "Exporters=New Zealand<br>Year=%{x}<br>Quantity (tonnes)=%{y}<extra></extra>",
         "legendgroup": "New Zealand",
         "line": {
          "color": "#00cc96",
          "dash": "solid"
         },
         "marker": {
          "symbol": "circle"
         },
         "mode": "lines",
         "name": "New Zealand",
         "showlegend": true,
         "type": "scattergl",
         "x": [
          "2010",
          "2011",
          "2012",
          "2013",
          "2014",
          "2015",
          "2016",
          "2017",
          "2018",
          "2019",
          "2020",
          "2021"
         ],
         "xaxis": "x",
         "y": [
          245393,
          254906,
          265711,
          259878,
          296759,
          291884,
          297476,
          269147,
          273223,
          280773,
          242003,
          241038
         ],
         "yaxis": "y"
        },
        {
         "hovertemplate": "Exporters=Germany<br>Year=%{x}<br>Quantity (tonnes)=%{y}<extra></extra>",
         "legendgroup": "Germany",
         "line": {
          "color": "#ab63fa",
          "dash": "solid"
         },
         "marker": {
          "symbol": "circle"
         },
         "mode": "lines",
         "name": "Germany",
         "showlegend": true,
         "type": "scattergl",
         "x": [
          "2010",
          "2011",
          "2012",
          "2013",
          "2014",
          "2015",
          "2016",
          "2017",
          "2018",
          "2019",
          "2020",
          "2021"
         ],
         "xaxis": "x",
         "y": [
          110900,
          89595,
          99833,
          122346,
          129422,
          135736,
          129008,
          125805,
          116785,
          135311,
          133137,
          129049
         ],
         "yaxis": "y"
        },
        {
         "hovertemplate": "Exporters=Belgium<br>Year=%{x}<br>Quantity (tonnes)=%{y}<extra></extra>",
         "legendgroup": "Belgium",
         "line": {
          "color": "#FFA15A",
          "dash": "solid"
         },
         "marker": {
          "symbol": "circle"
         },
         "mode": "lines",
         "name": "Belgium",
         "showlegend": true,
         "type": "scattergl",
         "x": [
          "2010",
          "2011",
          "2012",
          "2013",
          "2014",
          "2015",
          "2016",
          "2017",
          "2018",
          "2019",
          "2020",
          "2021"
         ],
         "xaxis": "x",
         "y": [
          74627,
          69003,
          77290,
          78941,
          92940,
          95357,
          113618,
          105189,
          117726,
          116988,
          116471,
          126608
         ],
         "yaxis": "y"
        },
        {
         "hovertemplate": "Exporters=Belarus<br>Year=%{x}<br>Quantity (tonnes)=%{y}<extra></extra>",
         "legendgroup": "Belarus",
         "line": {
          "color": "#19d3f3",
          "dash": "solid"
         },
         "marker": {
          "symbol": "circle"
         },
         "mode": "lines",
         "name": "Belarus",
         "showlegend": true,
         "type": "scattergl",
         "x": [
          "2010",
          "2011",
          "2012",
          "2013",
          "2014",
          "2015",
          "2016",
          "2017",
          "2018",
          "2019",
          "2020",
          "2021"
         ],
         "xaxis": "x",
         "y": [
          45282,
          45238,
          53926,
          49857,
          55270,
          69600,
          76581,
          72939,
          77619,
          67130,
          68264,
          77382
         ],
         "yaxis": "y"
        },
        {
         "hovertemplate": "Exporters=France<br>Year=%{x}<br>Quantity (tonnes)=%{y}<extra></extra>",
         "legendgroup": "France",
         "line": {
          "color": "#FF6692",
          "dash": "solid"
         },
         "marker": {
          "symbol": "circle"
         },
         "mode": "lines",
         "name": "France",
         "showlegend": true,
         "type": "scattergl",
         "x": [
          "2010",
          "2011",
          "2012",
          "2013",
          "2014",
          "2015",
          "2016",
          "2017",
          "2018",
          "2019",
          "2020",
          "2021"
         ],
         "xaxis": "x",
         "y": [
          53480,
          53208,
          59423,
          58947,
          69359,
          76003,
          72132,
          72307,
          69930,
          71509,
          72401,
          76153
         ],
         "yaxis": "y"
        },
        {
         "hovertemplate": "Exporters=Denmark<br>Year=%{x}<br>Quantity (tonnes)=%{y}<extra></extra>",
         "legendgroup": "Denmark",
         "line": {
          "color": "#B6E880",
          "dash": "solid"
         },
         "marker": {
          "symbol": "circle"
         },
         "mode": "lines",
         "name": "Denmark",
         "showlegend": true,
         "type": "scattergl",
         "x": [
          "2010",
          "2011",
          "2012",
          "2013",
          "2014",
          "2015",
          "2016",
          "2017",
          "2018",
          "2019",
          "2020",
          "2021"
         ],
         "xaxis": "x",
         "y": [
          55978,
          50350,
          44780,
          37385,
          33935,
          37861,
          38920,
          37246,
          52780,
          51515,
          49526,
          52838
         ],
         "yaxis": "y"
        },
        {
         "hovertemplate": "Exporters=Poland<br>Year=%{x}<br>Quantity (tonnes)=%{y}<extra></extra>",
         "legendgroup": "Poland",
         "line": {
          "color": "#FF97FF",
          "dash": "solid"
         },
         "marker": {
          "symbol": "circle"
         },
         "mode": "lines",
         "name": "Poland",
         "showlegend": true,
         "type": "scattergl",
         "x": [
          "2010",
          "2011",
          "2012",
          "2013",
          "2014",
          "2015",
          "2016",
          "2017",
          "2018",
          "2019",
          "2020",
          "2021"
         ],
         "xaxis": "x",
         "y": [
          24090,
          31931,
          29561,
          29930,
          32046,
          36978,
          40820,
          49809,
          61865,
          52985,
          55255,
          46851
         ],
         "yaxis": "y"
        },
        {
         "hovertemplate": "Exporters=United States of America<br>Year=%{x}<br>Quantity (tonnes)=%{y}<extra></extra>",
         "legendgroup": "United States of America",
         "line": {
          "color": "#FECB52",
          "dash": "solid"
         },
         "marker": {
          "symbol": "circle"
         },
         "mode": "lines",
         "name": "United States of America",
         "showlegend": true,
         "type": "scattergl",
         "x": [
          "2010",
          "2011",
          "2012",
          "2013",
          "2014",
          "2015",
          "2016",
          "2017",
          "2018",
          "2019",
          "2020",
          "2021"
         ],
         "xaxis": "x",
         "y": [
          45492,
          52457,
          43807,
          82468,
          59636,
          18331,
          17631,
          22845,
          27407,
          21457,
          21620,
          45028
         ],
         "yaxis": "y"
        },
        {
         "hovertemplate": "Exporters=United Kingdom<br>Year=%{x}<br>Quantity (tonnes)=%{y}<extra></extra>",
         "legendgroup": "United Kingdom",
         "line": {
          "color": "#636efa",
          "dash": "solid"
         },
         "marker": {
          "symbol": "circle"
         },
         "mode": "lines",
         "name": "United Kingdom",
         "showlegend": true,
         "type": "scattergl",
         "x": [
          "2010",
          "2011",
          "2012",
          "2013",
          "2014",
          "2015",
          "2016",
          "2017",
          "2018",
          "2019",
          "2020",
          "2021"
         ],
         "xaxis": "x",
         "y": [
          15312,
          15825,
          14859,
          18084,
          24629,
          26019,
          41841,
          33347,
          40269,
          40269,
          41051,
          36809
         ],
         "yaxis": "y"
        },
        {
         "hovertemplate": "Exporters=Australia<br>Year=%{x}<br>Quantity (tonnes)=%{y}<extra></extra>",
         "legendgroup": "Australia",
         "line": {
          "color": "#EF553B",
          "dash": "solid"
         },
         "marker": {
          "symbol": "circle"
         },
         "mode": "lines",
         "name": "Australia",
         "showlegend": true,
         "type": "scattergl",
         "x": [
          "2010",
          "2011",
          "2012",
          "2013",
          "2014",
          "2015",
          "2016",
          "2017",
          "2018",
          "2019",
          "2020",
          "2021"
         ],
         "xaxis": "x",
         "y": [
          37315,
          24354,
          41141,
          39536,
          35225,
          22940,
          20939,
          10637,
          10132,
          11510,
          11652,
          17449
         ],
         "yaxis": "y"
        },
        {
         "hovertemplate": "Exporters=Argentina<br>Year=%{x}<br>Quantity (tonnes)=%{y}<extra></extra>",
         "legendgroup": "Argentina",
         "line": {
          "color": "#00cc96",
          "dash": "solid"
         },
         "marker": {
          "symbol": "circle"
         },
         "mode": "lines",
         "name": "Argentina",
         "showlegend": true,
         "type": "scattergl",
         "x": [
          "2010",
          "2011",
          "2012",
          "2013",
          "2014",
          "2015",
          "2016",
          "2017",
          "2018",
          "2019",
          "2020",
          "2021"
         ],
         "xaxis": "x",
         "y": [
          10477,
          19345,
          17123,
          12997,
          9717,
          7590,
          4052,
          3029,
          5240,
          9217,
          14127,
          15893
         ],
         "yaxis": "y"
        },
        {
         "hovertemplate": "Exporters=Portugal<br>Year=%{x}<br>Quantity (tonnes)=%{y}<extra></extra>",
         "legendgroup": "Portugal",
         "line": {
          "color": "#ab63fa",
          "dash": "solid"
         },
         "marker": {
          "symbol": "circle"
         },
         "mode": "lines",
         "name": "Portugal",
         "showlegend": true,
         "type": "scattergl",
         "x": [
          "2010",
          "2011",
          "2012",
          "2013",
          "2014",
          "2015",
          "2016",
          "2017",
          "2018",
          "2019",
          "2020",
          "2021"
         ],
         "xaxis": "x",
         "y": [
          21595,
          13197,
          17940,
          13848,
          13282,
          18699,
          17597,
          15261,
          14541,
          13159,
          13090,
          15323
         ],
         "yaxis": "y"
        },
        {
         "hovertemplate": "Exporters=Italy<br>Year=%{x}<br>Quantity (tonnes)=%{y}<extra></extra>",
         "legendgroup": "Italy",
         "line": {
          "color": "#FFA15A",
          "dash": "solid"
         },
         "marker": {
          "symbol": "circle"
         },
         "mode": "lines",
         "name": "Italy",
         "showlegend": true,
         "type": "scattergl",
         "x": [
          "2010",
          "2011",
          "2012",
          "2013",
          "2014",
          "2015",
          "2016",
          "2017",
          "2018",
          "2019",
          "2020",
          "2021"
         ],
         "xaxis": "x",
         "y": [
          26784,
          8880,
          8307,
          7102,
          3095,
          7565,
          7132,
          6585,
          9394,
          10388,
          13226,
          14495
         ],
         "yaxis": "y"
        },
        {
         "hovertemplate": "Exporters=Uruguay<br>Year=%{x}<br>Quantity (tonnes)=%{y}<extra></extra>",
         "legendgroup": "Uruguay",
         "line": {
          "color": "#19d3f3",
          "dash": "solid"
         },
         "marker": {
          "symbol": "circle"
         },
         "mode": "lines",
         "name": "Uruguay",
         "showlegend": true,
         "type": "scattergl",
         "x": [
          "2010",
          "2011",
          "2012",
          "2013",
          "2014",
          "2015",
          "2016",
          "2017",
          "2018",
          "2019",
          "2020",
          "2021"
         ],
         "xaxis": "x",
         "y": [
          9877,
          15530,
          30679,
          23164,
          20767,
          20542,
          11845,
          9645,
          13491,
          13044,
          13474,
          11940
         ],
         "yaxis": "y"
        },
        {
         "hovertemplate": "Exporters=Spain<br>Year=%{x}<br>Quantity (tonnes)=%{y}<extra></extra>",
         "legendgroup": "Spain",
         "line": {
          "color": "#FF6692",
          "dash": "solid"
         },
         "marker": {
          "symbol": "circle"
         },
         "mode": "lines",
         "name": "Spain",
         "showlegend": true,
         "type": "scattergl",
         "x": [
          "2010",
          "2011",
          "2012",
          "2013",
          "2014",
          "2015",
          "2016",
          "2017",
          "2018",
          "2019",
          "2020",
          "2021"
         ],
         "xaxis": "x",
         "y": [
          30405,
          14650,
          14487,
          13262,
          12256,
          14200,
          13637,
          12340,
          10230,
          11741,
          7967,
          10741
         ],
         "yaxis": "y"
        },
        {
         "hovertemplate": "Exporters=Ukraine<br>Year=%{x}<br>Quantity (tonnes)=%{y}<extra></extra>",
         "legendgroup": "Ukraine",
         "line": {
          "color": "#B6E880",
          "dash": "solid"
         },
         "marker": {
          "symbol": "circle"
         },
         "mode": "lines",
         "name": "Ukraine",
         "showlegend": true,
         "type": "scattergl",
         "x": [
          "2010",
          "2011",
          "2012",
          "2013",
          "2014",
          "2015",
          "2016",
          "2017",
          "2018",
          "2019",
          "2020",
          "2021"
         ],
         "xaxis": "x",
         "y": [
          440,
          1162,
          469,
          3232,
          5277,
          9985,
          9021,
          26995,
          28556,
          16023,
          9370,
          9252
         ],
         "yaxis": "y"
        },
        {
         "hovertemplate": "Exporters=India<br>Year=%{x}<br>Quantity (tonnes)=%{y}<extra></extra>",
         "legendgroup": "India",
         "line": {
          "color": "#FF97FF",
          "dash": "solid"
         },
         "marker": {
          "symbol": "circle"
         },
         "mode": "lines",
         "name": "India",
         "showlegend": true,
         "type": "scattergl",
         "x": [
          "2010",
          "2011",
          "2012",
          "2013",
          "2014",
          "2015",
          "2016",
          "2017",
          "2018",
          "2019",
          "2020",
          "2021"
         ],
         "xaxis": "x",
         "y": [
          4386,
          3491,
          858,
          3368,
          2656,
          1778,
          1275,
          5704,
          15911,
          29878,
          5020,
          8052
         ],
         "yaxis": "y"
        },
        {
         "hovertemplate": "Exporters=Lithuania<br>Year=%{x}<br>Quantity (tonnes)=%{y}<extra></extra>",
         "legendgroup": "Lithuania",
         "line": {
          "color": "#FECB52",
          "dash": "solid"
         },
         "marker": {
          "symbol": "circle"
         },
         "mode": "lines",
         "name": "Lithuania",
         "showlegend": true,
         "type": "scattergl",
         "x": [
          "2010",
          "2011",
          "2012",
          "2013",
          "2014",
          "2015",
          "2016",
          "2017",
          "2018",
          "2019",
          "2020",
          "2021"
         ],
         "xaxis": "x",
         "y": [
          2850,
          3003,
          5522,
          5805,
          9861,
          6536,
          10647,
          5121,
          5262,
          4353,
          6417,
          5737
         ],
         "yaxis": "y"
        },
        {
         "hovertemplate": "Exporters=Austria<br>Year=%{x}<br>Quantity (tonnes)=%{y}<extra></extra>",
         "legendgroup": "Austria",
         "line": {
          "color": "#636efa",
          "dash": "solid"
         },
         "marker": {
          "symbol": "circle"
         },
         "mode": "lines",
         "name": "Austria",
         "showlegend": true,
         "type": "scattergl",
         "x": [
          "2010",
          "2011",
          "2012",
          "2013",
          "2014",
          "2015",
          "2016",
          "2017",
          "2018",
          "2019",
          "2020",
          "2021"
         ],
         "xaxis": "x",
         "y": [
          1451,
          1335,
          1784,
          1680,
          1904,
          3848,
          4389,
          3689,
          3545,
          4218,
          3812,
          4552
         ],
         "yaxis": "y"
        },
        {
         "hovertemplate": "Exporters=Kyrgyzstan<br>Year=%{x}<br>Quantity (tonnes)=%{y}<extra></extra>",
         "legendgroup": "Kyrgyzstan",
         "line": {
          "color": "#EF553B",
          "dash": "solid"
         },
         "marker": {
          "symbol": "circle"
         },
         "mode": "lines",
         "name": "Kyrgyzstan",
         "showlegend": true,
         "type": "scattergl",
         "x": [
          "2010",
          "2011",
          "2012",
          "2013",
          "2014",
          "2015",
          "2016",
          "2017",
          "2018",
          "2019",
          "2020",
          "2021"
         ],
         "xaxis": "x",
         "y": [
          1563,
          683,
          876,
          590,
          521,
          540,
          1999,
          2993,
          2456,
          3480,
          4980,
          4141
         ],
         "yaxis": "y"
        },
        {
         "hovertemplate": "Exporters=Iran, Islamic Republic of<br>Year=%{x}<br>Quantity (tonnes)=%{y}<extra></extra>",
         "legendgroup": "Iran, Islamic Republic of",
         "line": {
          "color": "#00cc96",
          "dash": "solid"
         },
         "marker": {
          "symbol": "circle"
         },
         "mode": "lines",
         "name": "Iran, Islamic Republic of",
         "showlegend": true,
         "type": "scattergl",
         "x": [
          "2010",
          "2011",
          "2012",
          "2013",
          "2014",
          "2015",
          "2016",
          "2017",
          "2018",
          "2019",
          "2020",
          "2021"
         ],
         "xaxis": "x",
         "y": [
          1340,
          1632,
          1113,
          0,
          437,
          521,
          682,
          880,
          1020,
          51,
          64,
          4068
         ],
         "yaxis": "y"
        },
        {
         "hovertemplate": "Exporters=Kazakhstan<br>Year=%{x}<br>Quantity (tonnes)=%{y}<extra></extra>",
         "legendgroup": "Kazakhstan",
         "line": {
          "color": "#ab63fa",
          "dash": "solid"
         },
         "marker": {
          "symbol": "circle"
         },
         "mode": "lines",
         "name": "Kazakhstan",
         "showlegend": true,
         "type": "scattergl",
         "x": [
          "2010",
          "2011",
          "2012",
          "2013",
          "2014",
          "2015",
          "2016",
          "2017",
          "2018",
          "2019",
          "2020",
          "2021"
         ],
         "xaxis": "x",
         "y": [
          12,
          12,
          28,
          191,
          63,
          3099,
          264,
          216,
          1577,
          2324,
          1395,
          4056
         ],
         "yaxis": "y"
        },
        {
         "hovertemplate": "Exporters=Türkiye<br>Year=%{x}<br>Quantity (tonnes)=%{y}<extra></extra>",
         "legendgroup": "Türkiye",
         "line": {
          "color": "#FFA15A",
          "dash": "solid"
         },
         "marker": {
          "symbol": "circle"
         },
         "mode": "lines",
         "name": "Türkiye",
         "showlegend": true,
         "type": "scattergl",
         "x": [
          "2010",
          "2011",
          "2012",
          "2013",
          "2014",
          "2015",
          "2016",
          "2017",
          "2018",
          "2019",
          "2020",
          "2021"
         ],
         "xaxis": "x",
         "y": [
          212,
          551,
          298,
          874,
          730,
          300,
          263,
          1046,
          451,
          4318,
          2198,
          3239
         ],
         "yaxis": "y"
        },
        {
         "hovertemplate": "Exporters=Saudi Arabia<br>Year=%{x}<br>Quantity (tonnes)=%{y}<extra></extra>",
         "legendgroup": "Saudi Arabia",
         "line": {
          "color": "#19d3f3",
          "dash": "solid"
         },
         "marker": {
          "symbol": "circle"
         },
         "mode": "lines",
         "name": "Saudi Arabia",
         "showlegend": true,
         "type": "scattergl",
         "x": [
          "2010",
          "2011",
          "2012",
          "2013",
          "2014",
          "2015",
          "2016",
          "2017",
          "2018",
          "2019",
          "2020",
          "2021"
         ],
         "xaxis": "x",
         "y": [
          2108,
          1809,
          2249,
          2509,
          1970,
          2311,
          2116,
          2556,
          2390,
          2310,
          3205,
          2964
         ],
         "yaxis": "y"
        },
        {
         "hovertemplate": "Exporters=Russian Federation<br>Year=%{x}<br>Quantity (tonnes)=%{y}<extra></extra>",
         "legendgroup": "Russian Federation",
         "line": {
          "color": "#FF6692",
          "dash": "solid"
         },
         "marker": {
          "symbol": "circle"
         },
         "mode": "lines",
         "name": "Russian Federation",
         "showlegend": true,
         "type": "scattergl",
         "x": [
          "2010",
          "2011",
          "2012",
          "2013",
          "2014",
          "2015",
          "2016",
          "2017",
          "2018",
          "2019",
          "2020",
          "2021"
         ],
         "xaxis": "x",
         "y": [
          1249,
          1183,
          3045,
          2069,
          4375,
          3138,
          3767,
          2817,
          2451,
          1608,
          3203,
          2690
         ],
         "yaxis": "y"
        },
        {
         "hovertemplate": "Exporters=Sweden<br>Year=%{x}<br>Quantity (tonnes)=%{y}<extra></extra>",
         "legendgroup": "Sweden",
         "line": {
          "color": "#B6E880",
          "dash": "solid"
         },
         "marker": {
          "symbol": "circle"
         },
         "mode": "lines",
         "name": "Sweden",
         "showlegend": true,
         "type": "scattergl",
         "x": [
          "2010",
          "2011",
          "2012",
          "2013",
          "2014",
          "2015",
          "2016",
          "2017",
          "2018",
          "2019",
          "2020",
          "2021"
         ],
         "xaxis": "x",
         "y": [
          4681,
          1421,
          1944,
          3270,
          1339,
          612,
          580,
          1146,
          2943,
          1586,
          2267,
          2518
         ],
         "yaxis": "y"
        },
        {
         "hovertemplate": "Exporters=Ghana<br>Year=%{x}<br>Quantity (tonnes)=%{y}<extra></extra>",
         "legendgroup": "Ghana",
         "line": {
          "color": "#FF97FF",
          "dash": "solid"
         },
         "marker": {
          "symbol": "circle"
         },
         "mode": "lines",
         "name": "Ghana",
         "showlegend": true,
         "type": "scattergl",
         "x": [
          "2010",
          "2011",
          "2012",
          "2013",
          "2014",
          "2015",
          "2016",
          "2017",
          "2018",
          "2019",
          "2020",
          "2021"
         ],
         "xaxis": "x",
         "y": [
          45,
          317,
          76,
          132,
          144,
          430,
          296,
          131,
          28,
          63,
          1924,
          1999
         ],
         "yaxis": "y"
        },
        {
         "hovertemplate": "Exporters=South Africa<br>Year=%{x}<br>Quantity (tonnes)=%{y}<extra></extra>",
         "legendgroup": "South Africa",
         "line": {
          "color": "#FECB52",
          "dash": "solid"
         },
         "marker": {
          "symbol": "circle"
         },
         "mode": "lines",
         "name": "South Africa",
         "showlegend": true,
         "type": "scattergl",
         "x": [
          "2010",
          "2011",
          "2012",
          "2013",
          "2014",
          "2015",
          "2016",
          "2017",
          "2018",
          "2019",
          "2020",
          "2021"
         ],
         "xaxis": "x",
         "y": [
          2788,
          2406,
          3120,
          1929,
          3708,
          2494,
          1953,
          1174,
          1814,
          1832,
          1777,
          1801
         ],
         "yaxis": "y"
        },
        {
         "hovertemplate": "Exporters=Costa Rica<br>Year=%{x}<br>Quantity (tonnes)=%{y}<extra></extra>",
         "legendgroup": "Costa Rica",
         "line": {
          "color": "#636efa",
          "dash": "solid"
         },
         "marker": {
          "symbol": "circle"
         },
         "mode": "lines",
         "name": "Costa Rica",
         "showlegend": true,
         "type": "scattergl",
         "x": [
          "2010",
          "2011",
          "2012",
          "2013",
          "2014",
          "2015",
          "2016",
          "2017",
          "2018",
          "2019",
          "2020",
          "2021"
         ],
         "xaxis": "x",
         "y": [
          1025,
          867,
          1050,
          1219,
          1312,
          1606,
          897,
          1217,
          1233,
          1181,
          1340,
          1744
         ],
         "yaxis": "y"
        },
        {
         "hovertemplate": "Exporters=Hong Kong, China<br>Year=%{x}<br>Quantity (tonnes)=%{y}<extra></extra>",
         "legendgroup": "Hong Kong, China",
         "line": {
          "color": "#EF553B",
          "dash": "solid"
         },
         "marker": {
          "symbol": "circle"
         },
         "mode": "lines",
         "name": "Hong Kong, China",
         "showlegend": true,
         "type": "scattergl",
         "x": [
          "2010",
          "2011",
          "2012",
          "2013",
          "2014",
          "2015",
          "2016",
          "2017",
          "2018",
          "2019",
          "2020",
          "2021"
         ],
         "xaxis": "x",
         "y": [
          895,
          952,
          753,
          947,
          828,
          977,
          1392,
          947,
          834,
          1016,
          724,
          1520
         ],
         "yaxis": "y"
        },
        {
         "hovertemplate": "Exporters=China<br>Year=%{x}<br>Quantity (tonnes)=%{y}<extra></extra>",
         "legendgroup": "China",
         "line": {
          "color": "#00cc96",
          "dash": "solid"
         },
         "marker": {
          "symbol": "circle"
         },
         "mode": "lines",
         "name": "China",
         "showlegend": true,
         "type": "scattergl",
         "x": [
          "2010",
          "2011",
          "2012",
          "2013",
          "2014",
          "2015",
          "2016",
          "2017",
          "2018",
          "2019",
          "2020",
          "2021"
         ],
         "xaxis": "x",
         "y": [
          3000,
          3261,
          2550,
          426,
          1734,
          917,
          673,
          904,
          1380,
          1907,
          980,
          1386
         ],
         "yaxis": "y"
        },
        {
         "hovertemplate": "Exporters=Singapore<br>Year=%{x}<br>Quantity (tonnes)=%{y}<extra></extra>",
         "legendgroup": "Singapore",
         "line": {
          "color": "#ab63fa",
          "dash": "solid"
         },
         "marker": {
          "symbol": "circle"
         },
         "mode": "lines",
         "name": "Singapore",
         "showlegend": true,
         "type": "scattergl",
         "x": [
          "2010",
          "2011",
          "2012",
          "2013",
          "2014",
          "2015",
          "2016",
          "2017",
          "2018",
          "2019",
          "2020",
          "2021"
         ],
         "xaxis": "x",
         "y": [
          1805,
          2445,
          3776,
          5201,
          5746,
          5812,
          3970,
          1976,
          1484,
          1970,
          1175,
          1328
         ],
         "yaxis": "y"
        },
        {
         "hovertemplate": "Exporters=Malaysia<br>Year=%{x}<br>Quantity (tonnes)=%{y}<extra></extra>",
         "legendgroup": "Malaysia",
         "line": {
          "color": "#FFA15A",
          "dash": "solid"
         },
         "marker": {
          "symbol": "circle"
         },
         "mode": "lines",
         "name": "Malaysia",
         "showlegend": true,
         "type": "scattergl",
         "x": [
          "2010",
          "2011",
          "2012",
          "2013",
          "2014",
          "2015",
          "2016",
          "2017",
          "2018",
          "2019",
          "2020",
          "2021"
         ],
         "xaxis": "x",
         "y": [
          966,
          655,
          866,
          981,
          1825,
          1600,
          3823,
          3567,
          2682,
          940,
          1070,
          1316
         ],
         "yaxis": "y"
        },
        {
         "hovertemplate": "Exporters=Slovakia<br>Year=%{x}<br>Quantity (tonnes)=%{y}<extra></extra>",
         "legendgroup": "Slovakia",
         "line": {
          "color": "#19d3f3",
          "dash": "solid"
         },
         "marker": {
          "symbol": "circle"
         },
         "mode": "lines",
         "name": "Slovakia",
         "showlegend": true,
         "type": "scattergl",
         "x": [
          "2010",
          "2011",
          "2012",
          "2013",
          "2014",
          "2015",
          "2016",
          "2017",
          "2018",
          "2019",
          "2020",
          "2021"
         ],
         "xaxis": "x",
         "y": [
          1849,
          1664,
          1552,
          2035,
          2367,
          2779,
          1830,
          1152,
          1284,
          906,
          1079,
          1174
         ],
         "yaxis": "y"
        },
        {
         "hovertemplate": "Exporters=Luxembourg<br>Year=%{x}<br>Quantity (tonnes)=%{y}<extra></extra>",
         "legendgroup": "Luxembourg",
         "line": {
          "color": "#FF6692",
          "dash": "solid"
         },
         "marker": {
          "symbol": "circle"
         },
         "mode": "lines",
         "name": "Luxembourg",
         "showlegend": true,
         "type": "scattergl",
         "x": [
          "2010",
          "2011",
          "2012",
          "2013",
          "2014",
          "2015",
          "2016",
          "2017",
          "2018",
          "2019",
          "2020",
          "2021"
         ],
         "xaxis": "x",
         "y": [
          2838,
          2952,
          2698,
          2403,
          2563,
          1566,
          509,
          536,
          720,
          948,
          751,
          1165
         ],
         "yaxis": "y"
        },
        {
         "hovertemplate": "Exporters=Colombia<br>Year=%{x}<br>Quantity (tonnes)=%{y}<extra></extra>",
         "legendgroup": "Colombia",
         "line": {
          "color": "#B6E880",
          "dash": "solid"
         },
         "marker": {
          "symbol": "circle"
         },
         "mode": "lines",
         "name": "Colombia",
         "showlegend": true,
         "type": "scattergl",
         "x": [
          "2010",
          "2011",
          "2012",
          "2013",
          "2014",
          "2015",
          "2016",
          "2017",
          "2018",
          "2019",
          "2020",
          "2021"
         ],
         "xaxis": "x",
         "y": [
          175,
          113,
          0,
          50,
          213,
          93,
          0,
          498,
          868,
          259,
          1101,
          1078
         ],
         "yaxis": "y"
        },
        {
         "hovertemplate": "Exporters=Paraguay<br>Year=%{x}<br>Quantity (tonnes)=%{y}<extra></extra>",
         "legendgroup": "Paraguay",
         "line": {
          "color": "#FF97FF",
          "dash": "solid"
         },
         "marker": {
          "symbol": "circle"
         },
         "mode": "lines",
         "name": "Paraguay",
         "showlegend": true,
         "type": "scattergl",
         "x": [
          "2010",
          "2011",
          "2012",
          "2013",
          "2014",
          "2015",
          "2016",
          "2017",
          "2018",
          "2019",
          "2020",
          "2021"
         ],
         "xaxis": "x",
         "y": [
          67,
          34,
          418,
          527,
          449,
          384,
          193,
          422,
          504,
          486,
          881,
          1068
         ],
         "yaxis": "y"
        },
        {
         "hovertemplate": "Exporters=Honduras<br>Year=%{x}<br>Quantity (tonnes)=%{y}<extra></extra>",
         "legendgroup": "Honduras",
         "line": {
          "color": "#FECB52",
          "dash": "solid"
         },
         "marker": {
          "symbol": "circle"
         },
         "mode": "lines",
         "name": "Honduras",
         "showlegend": true,
         "type": "scattergl",
         "x": [
          "2010",
          "2011",
          "2012",
          "2013",
          "2014",
          "2015",
          "2016",
          "2017",
          "2018",
          "2019",
          "2020",
          "2021"
         ],
         "xaxis": "x",
         "y": [
          855,
          661,
          554,
          505,
          1423,
          792,
          1342,
          877,
          438,
          507,
          992,
          1000
         ],
         "yaxis": "y"
        },
        {
         "hovertemplate": "Exporters=Estonia<br>Year=%{x}<br>Quantity (tonnes)=%{y}<extra></extra>",
         "legendgroup": "Estonia",
         "line": {
          "color": "#636efa",
          "dash": "solid"
         },
         "marker": {
          "symbol": "circle"
         },
         "mode": "lines",
         "name": "Estonia",
         "showlegend": true,
         "type": "scattergl",
         "x": [
          "2010",
          "2011",
          "2012",
          "2013",
          "2014",
          "2015",
          "2016",
          "2017",
          "2018",
          "2019",
          "2020",
          "2021"
         ],
         "xaxis": "x",
         "y": [
          4315,
          4210,
          1479,
          2523,
          2307,
          1588,
          1545,
          1124,
          895,
          772,
          1276,
          869
         ],
         "yaxis": "y"
        },
        {
         "hovertemplate": "Exporters=Bahrain<br>Year=%{x}<br>Quantity (tonnes)=%{y}<extra></extra>",
         "legendgroup": "Bahrain",
         "line": {
          "color": "#EF553B",
          "dash": "solid"
         },
         "marker": {
          "symbol": "circle"
         },
         "mode": "lines",
         "name": "Bahrain",
         "showlegend": true,
         "type": "scattergl",
         "x": [
          "2010",
          "2011",
          "2012",
          "2013",
          "2014",
          "2015",
          "2016",
          "2017",
          "2018",
          "2019",
          "2020",
          "2021"
         ],
         "xaxis": "x",
         "y": [
          3,
          1,
          2,
          4,
          4,
          57,
          4,
          38,
          56,
          13,
          6,
          718
         ],
         "yaxis": "y"
        },
        {
         "hovertemplate": "Exporters=Croatia<br>Year=%{x}<br>Quantity (tonnes)=%{y}<extra></extra>",
         "legendgroup": "Croatia",
         "line": {
          "color": "#00cc96",
          "dash": "solid"
         },
         "marker": {
          "symbol": "circle"
         },
         "mode": "lines",
         "name": "Croatia",
         "showlegend": true,
         "type": "scattergl",
         "x": [
          "2010",
          "2011",
          "2012",
          "2013",
          "2014",
          "2015",
          "2016",
          "2017",
          "2018",
          "2019",
          "2020",
          "2021"
         ],
         "xaxis": "x",
         "y": [
          419,
          450,
          514,
          389,
          470,
          358,
          343,
          504,
          586,
          668,
          640,
          605
         ],
         "yaxis": "y"
        },
        {
         "hovertemplate": "Exporters=Brazil<br>Year=%{x}<br>Quantity (tonnes)=%{y}<extra></extra>",
         "legendgroup": "Brazil",
         "line": {
          "color": "#ab63fa",
          "dash": "solid"
         },
         "marker": {
          "symbol": "circle"
         },
         "mode": "lines",
         "name": "Brazil",
         "showlegend": true,
         "type": "scattergl",
         "x": [
          "2010",
          "2011",
          "2012",
          "2013",
          "2014",
          "2015",
          "2016",
          "2017",
          "2018",
          "2019",
          "2020",
          "2021"
         ],
         "xaxis": "x",
         "y": [
          4404,
          1125,
          614,
          371,
          4314,
          926,
          80,
          182,
          123,
          399,
          325,
          580
         ],
         "yaxis": "y"
        },
        {
         "hovertemplate": "Exporters=Bulgaria<br>Year=%{x}<br>Quantity (tonnes)=%{y}<extra></extra>",
         "legendgroup": "Bulgaria",
         "line": {
          "color": "#FFA15A",
          "dash": "solid"
         },
         "marker": {
          "symbol": "circle"
         },
         "mode": "lines",
         "name": "Bulgaria",
         "showlegend": true,
         "type": "scattergl",
         "x": [
          "2010",
          "2011",
          "2012",
          "2013",
          "2014",
          "2015",
          "2016",
          "2017",
          "2018",
          "2019",
          "2020",
          "2021"
         ],
         "xaxis": "x",
         "y": [
          869,
          713,
          642,
          465,
          529,
          516,
          605,
          549,
          487,
          588,
          446,
          508
         ],
         "yaxis": "y"
        },
        {
         "hovertemplate": "Exporters=Burkina Faso<br>Year=%{x}<br>Quantity (tonnes)=%{y}<extra></extra>",
         "legendgroup": "Burkina Faso",
         "line": {
          "color": "#19d3f3",
          "dash": "solid"
         },
         "marker": {
          "symbol": "circle"
         },
         "mode": "lines",
         "name": "Burkina Faso",
         "showlegend": true,
         "type": "scattergl",
         "x": [
          "2010",
          "2011",
          "2012",
          "2013",
          "2014",
          "2015",
          "2016",
          "2017",
          "2018",
          "2019",
          "2020",
          "2021"
         ],
         "xaxis": "x",
         "y": [
          0,
          0,
          0,
          0,
          0,
          0,
          0,
          0,
          0,
          0,
          0,
          493
         ],
         "yaxis": "y"
        },
        {
         "hovertemplate": "Exporters=Romania<br>Year=%{x}<br>Quantity (tonnes)=%{y}<extra></extra>",
         "legendgroup": "Romania",
         "line": {
          "color": "#FF6692",
          "dash": "solid"
         },
         "marker": {
          "symbol": "circle"
         },
         "mode": "lines",
         "name": "Romania",
         "showlegend": true,
         "type": "scattergl",
         "x": [
          "2010",
          "2011",
          "2012",
          "2013",
          "2014",
          "2015",
          "2016",
          "2017",
          "2018",
          "2019",
          "2020",
          "2021"
         ],
         "xaxis": "x",
         "y": [
          388,
          323,
          413,
          301,
          286,
          729,
          455,
          493,
          504,
          204,
          323,
          486
         ],
         "yaxis": "y"
        },
        {
         "hovertemplate": "Exporters=Latvia<br>Year=%{x}<br>Quantity (tonnes)=%{y}<extra></extra>",
         "legendgroup": "Latvia",
         "line": {
          "color": "#B6E880",
          "dash": "solid"
         },
         "marker": {
          "symbol": "circle"
         },
         "mode": "lines",
         "name": "Latvia",
         "showlegend": true,
         "type": "scattergl",
         "x": [
          "2010",
          "2011",
          "2012",
          "2013",
          "2014",
          "2015",
          "2016",
          "2017",
          "2018",
          "2019",
          "2020",
          "2021"
         ],
         "xaxis": "x",
         "y": [
          2957,
          2753,
          2052,
          4288,
          3919,
          2777,
          3629,
          2259,
          783,
          610,
          900,
          448
         ],
         "yaxis": "y"
        },
        {
         "hovertemplate": "Exporters=Thailand<br>Year=%{x}<br>Quantity (tonnes)=%{y}<extra></extra>",
         "legendgroup": "Thailand",
         "line": {
          "color": "#FF97FF",
          "dash": "solid"
         },
         "marker": {
          "symbol": "circle"
         },
         "mode": "lines",
         "name": "Thailand",
         "showlegend": true,
         "type": "scattergl",
         "x": [
          "2010",
          "2011",
          "2012",
          "2013",
          "2014",
          "2015",
          "2016",
          "2017",
          "2018",
          "2019",
          "2020",
          "2021"
         ],
         "xaxis": "x",
         "y": [
          61,
          66,
          33,
          18,
          22,
          233,
          227,
          437,
          667,
          480,
          335,
          404
         ],
         "yaxis": "y"
        },
        {
         "hovertemplate": "Exporters=Serbia<br>Year=%{x}<br>Quantity (tonnes)=%{y}<extra></extra>",
         "legendgroup": "Serbia",
         "line": {
          "color": "#FECB52",
          "dash": "solid"
         },
         "marker": {
          "symbol": "circle"
         },
         "mode": "lines",
         "name": "Serbia",
         "showlegend": true,
         "type": "scattergl",
         "x": [
          "2010",
          "2011",
          "2012",
          "2013",
          "2014",
          "2015",
          "2016",
          "2017",
          "2018",
          "2019",
          "2020",
          "2021"
         ],
         "xaxis": "x",
         "y": [
          108,
          49,
          173,
          167,
          149,
          197,
          184,
          205,
          185,
          204,
          223,
          300
         ],
         "yaxis": "y"
        },
        {
         "hovertemplate": "Exporters=Greece<br>Year=%{x}<br>Quantity (tonnes)=%{y}<extra></extra>",
         "legendgroup": "Greece",
         "line": {
          "color": "#636efa",
          "dash": "solid"
         },
         "marker": {
          "symbol": "circle"
         },
         "mode": "lines",
         "name": "Greece",
         "showlegend": true,
         "type": "scattergl",
         "x": [
          "2010",
          "2011",
          "2012",
          "2013",
          "2014",
          "2015",
          "2016",
          "2017",
          "2018",
          "2019",
          "2020",
          "2021"
         ],
         "xaxis": "x",
         "y": [
          22,
          35,
          52,
          165,
          236,
          256,
          209,
          163,
          297,
          253,
          326,
          294
         ],
         "yaxis": "y"
        },
        {
         "hovertemplate": "Exporters=Tunisia<br>Year=%{x}<br>Quantity (tonnes)=%{y}<extra></extra>",
         "legendgroup": "Tunisia",
         "line": {
          "color": "#EF553B",
          "dash": "solid"
         },
         "marker": {
          "symbol": "circle"
         },
         "mode": "lines",
         "name": "Tunisia",
         "showlegend": true,
         "type": "scattergl",
         "x": [
          "2010",
          "2011",
          "2012",
          "2013",
          "2014",
          "2015",
          "2016",
          "2017",
          "2018",
          "2019",
          "2020",
          "2021"
         ],
         "xaxis": "x",
         "y": [
          0,
          70,
          0,
          0,
          0,
          5,
          8,
          151,
          77,
          0,
          5,
          287
         ],
         "yaxis": "y"
        },
        {
         "hovertemplate": "Exporters=Hungary<br>Year=%{x}<br>Quantity (tonnes)=%{y}<extra></extra>",
         "legendgroup": "Hungary",
         "line": {
          "color": "#00cc96",
          "dash": "solid"
         },
         "marker": {
          "symbol": "circle"
         },
         "mode": "lines",
         "name": "Hungary",
         "showlegend": true,
         "type": "scattergl",
         "x": [
          "2010",
          "2011",
          "2012",
          "2013",
          "2014",
          "2015",
          "2016",
          "2017",
          "2018",
          "2019",
          "2020",
          "2021"
         ],
         "xaxis": "x",
         "y": [
          689,
          669,
          369,
          426,
          651,
          243,
          399,
          231,
          248,
          161,
          1019,
          279
         ],
         "yaxis": "y"
        },
        {
         "hovertemplate": "Exporters=Iceland<br>Year=%{x}<br>Quantity (tonnes)=%{y}<extra></extra>",
         "legendgroup": "Iceland",
         "line": {
          "color": "#ab63fa",
          "dash": "solid"
         },
         "marker": {
          "symbol": "circle"
         },
         "mode": "lines",
         "name": "Iceland",
         "showlegend": true,
         "type": "scattergl",
         "x": [
          "2010",
          "2011",
          "2012",
          "2013",
          "2014",
          "2015",
          "2016",
          "2017",
          "2018",
          "2019",
          "2020",
          "2021"
         ],
         "xaxis": "x",
         "y": [
          515,
          512,
          550,
          162,
          1,
          2,
          447,
          87,
          304,
          198,
          235,
          274
         ],
         "yaxis": "y"
        },
        {
         "hovertemplate": "Exporters=Azerbaijan<br>Year=%{x}<br>Quantity (tonnes)=%{y}<extra></extra>",
         "legendgroup": "Azerbaijan",
         "line": {
          "color": "#FFA15A",
          "dash": "solid"
         },
         "marker": {
          "symbol": "circle"
         },
         "mode": "lines",
         "name": "Azerbaijan",
         "showlegend": true,
         "type": "scattergl",
         "x": [
          "2010",
          "2011",
          "2012",
          "2013",
          "2014",
          "2015",
          "2016",
          "2017",
          "2018",
          "2019",
          "2020",
          "2021"
         ],
         "xaxis": "x",
         "y": [
          0,
          0,
          0,
          158,
          10,
          249,
          107,
          435,
          234,
          1573,
          388,
          256
         ],
         "yaxis": "y"
        },
        {
         "hovertemplate": "Exporters=Armenia<br>Year=%{x}<br>Quantity (tonnes)=%{y}<extra></extra>",
         "legendgroup": "Armenia",
         "line": {
          "color": "#19d3f3",
          "dash": "solid"
         },
         "marker": {
          "symbol": "circle"
         },
         "mode": "lines",
         "name": "Armenia",
         "showlegend": true,
         "type": "scattergl",
         "x": [
          "2010",
          "2011",
          "2012",
          "2013",
          "2014",
          "2015",
          "2016",
          "2017",
          "2018",
          "2019",
          "2020",
          "2021"
         ],
         "xaxis": "x",
         "y": [
          0,
          0,
          0,
          37,
          120,
          36,
          0,
          9,
          16,
          64,
          42,
          170
         ],
         "yaxis": "y"
        },
        {
         "hovertemplate": "Exporters=Kuwait<br>Year=%{x}<br>Quantity (tonnes)=%{y}<extra></extra>",
         "legendgroup": "Kuwait",
         "line": {
          "color": "#FF6692",
          "dash": "solid"
         },
         "marker": {
          "symbol": "circle"
         },
         "mode": "lines",
         "name": "Kuwait",
         "showlegend": true,
         "type": "scattergl",
         "x": [
          "2010",
          "2011",
          "2012",
          "2013",
          "2014",
          "2015",
          "2016",
          "2017",
          "2018",
          "2019",
          "2020",
          "2021"
         ],
         "xaxis": "x",
         "y": [
          216,
          126,
          100,
          348,
          222,
          277,
          236,
          158,
          219,
          13,
          120,
          169
         ],
         "yaxis": "y"
        },
        {
         "hovertemplate": "Exporters=Uganda<br>Year=%{x}<br>Quantity (tonnes)=%{y}<extra></extra>",
         "legendgroup": "Uganda",
         "line": {
          "color": "#B6E880",
          "dash": "solid"
         },
         "marker": {
          "symbol": "circle"
         },
         "mode": "lines",
         "name": "Uganda",
         "showlegend": true,
         "type": "scattergl",
         "x": [
          "2010",
          "2011",
          "2012",
          "2013",
          "2014",
          "2015",
          "2016",
          "2017",
          "2018",
          "2019",
          "2020",
          "2021"
         ],
         "xaxis": "x",
         "y": [
          125,
          59,
          142,
          130,
          81,
          46,
          67,
          226,
          81,
          325,
          206,
          164
         ],
         "yaxis": "y"
        },
        {
         "hovertemplate": "Exporters=Switzerland<br>Year=%{x}<br>Quantity (tonnes)=%{y}<extra></extra>",
         "legendgroup": "Switzerland",
         "line": {
          "color": "#FF97FF",
          "dash": "solid"
         },
         "marker": {
          "symbol": "circle"
         },
         "mode": "lines",
         "name": "Switzerland",
         "showlegend": true,
         "type": "scattergl",
         "x": [
          "2010",
          "2011",
          "2012",
          "2013",
          "2014",
          "2015",
          "2016",
          "2017",
          "2018",
          "2019",
          "2020",
          "2021"
         ],
         "xaxis": "x",
         "y": [
          4145,
          5512,
          7352,
          61,
          3126,
          1892,
          4666,
          1865,
          779,
          329,
          359,
          140
         ],
         "yaxis": "y"
        },
        {
         "hovertemplate": "Exporters=Bolivia, Plurinational State of<br>Year=%{x}<br>Quantity (tonnes)=%{y}<extra></extra>",
         "legendgroup": "Bolivia, Plurinational State of",
         "line": {
          "color": "#FECB52",
          "dash": "solid"
         },
         "marker": {
          "symbol": "circle"
         },
         "mode": "lines",
         "name": "Bolivia, Plurinational State of",
         "showlegend": true,
         "type": "scattergl",
         "x": [
          "2010",
          "2011",
          "2012",
          "2013",
          "2014",
          "2015",
          "2016",
          "2017",
          "2018",
          "2019",
          "2020",
          "2021"
         ],
         "xaxis": "x",
         "y": [
          1036,
          615,
          702,
          744,
          810,
          716,
          318,
          226,
          90,
          99,
          190,
          120
         ],
         "yaxis": "y"
        },
        {
         "hovertemplate": "Exporters=Slovenia<br>Year=%{x}<br>Quantity (tonnes)=%{y}<extra></extra>",
         "legendgroup": "Slovenia",
         "line": {
          "color": "#636efa",
          "dash": "solid"
         },
         "marker": {
          "symbol": "circle"
         },
         "mode": "lines",
         "name": "Slovenia",
         "showlegend": true,
         "type": "scattergl",
         "x": [
          "2010",
          "2011",
          "2012",
          "2013",
          "2014",
          "2015",
          "2016",
          "2017",
          "2018",
          "2019",
          "2020",
          "2021"
         ],
         "xaxis": "x",
         "y": [
          870,
          612,
          435,
          91,
          172,
          76,
          73,
          118,
          81,
          77,
          97,
          114
         ],
         "yaxis": "y"
        },
        {
         "hovertemplate": "Exporters=Indonesia<br>Year=%{x}<br>Quantity (tonnes)=%{y}<extra></extra>",
         "legendgroup": "Indonesia",
         "line": {
          "color": "#EF553B",
          "dash": "solid"
         },
         "marker": {
          "symbol": "circle"
         },
         "mode": "lines",
         "name": "Indonesia",
         "showlegend": true,
         "type": "scattergl",
         "x": [
          "2010",
          "2011",
          "2012",
          "2013",
          "2014",
          "2015",
          "2016",
          "2017",
          "2018",
          "2019",
          "2020",
          "2021"
         ],
         "xaxis": "x",
         "y": [
          251,
          343,
          83,
          260,
          57,
          158,
          145,
          120,
          67,
          41,
          114,
          98
         ],
         "yaxis": "y"
        },
        {
         "hovertemplate": "Exporters=Jordan<br>Year=%{x}<br>Quantity (tonnes)=%{y}<extra></extra>",
         "legendgroup": "Jordan",
         "line": {
          "color": "#00cc96",
          "dash": "solid"
         },
         "marker": {
          "symbol": "circle"
         },
         "mode": "lines",
         "name": "Jordan",
         "showlegend": true,
         "type": "scattergl",
         "x": [
          "2010",
          "2011",
          "2012",
          "2013",
          "2014",
          "2015",
          "2016",
          "2017",
          "2018",
          "2019",
          "2020",
          "2021"
         ],
         "xaxis": "x",
         "y": [
          0,
          0,
          30,
          17,
          4,
          50,
          3,
          40,
          26,
          46,
          75,
          90
         ],
         "yaxis": "y"
        },
        {
         "hovertemplate": "Exporters=Philippines<br>Year=%{x}<br>Quantity (tonnes)=%{y}<extra></extra>",
         "legendgroup": "Philippines",
         "line": {
          "color": "#ab63fa",
          "dash": "solid"
         },
         "marker": {
          "symbol": "circle"
         },
         "mode": "lines",
         "name": "Philippines",
         "showlegend": true,
         "type": "scattergl",
         "x": [
          "2010",
          "2011",
          "2012",
          "2013",
          "2014",
          "2015",
          "2016",
          "2017",
          "2018",
          "2019",
          "2020",
          "2021"
         ],
         "xaxis": "x",
         "y": [
          22,
          51,
          11,
          0,
          0,
          4,
          17,
          8,
          2,
          11,
          103,
          75
         ],
         "yaxis": "y"
        },
        {
         "hovertemplate": "Exporters=Canada<br>Year=%{x}<br>Quantity (tonnes)=%{y}<extra></extra>",
         "legendgroup": "Canada",
         "line": {
          "color": "#FFA15A",
          "dash": "solid"
         },
         "marker": {
          "symbol": "circle"
         },
         "mode": "lines",
         "name": "Canada",
         "showlegend": true,
         "type": "scattergl",
         "x": [
          "2010",
          "2011",
          "2012",
          "2013",
          "2014",
          "2015",
          "2016",
          "2017",
          "2018",
          "2019",
          "2020",
          "2021"
         ],
         "xaxis": "x",
         "y": [
          931,
          133,
          334,
          3477,
          158,
          40,
          141,
          143,
          602,
          87,
          50,
          74
         ],
         "yaxis": "y"
        },
        {
         "hovertemplate": "Exporters=Benin<br>Year=%{x}<br>Quantity (tonnes)=%{y}<extra></extra>",
         "legendgroup": "Benin",
         "line": {
          "color": "#19d3f3",
          "dash": "solid"
         },
         "marker": {
          "symbol": "circle"
         },
         "mode": "lines",
         "name": "Benin",
         "showlegend": true,
         "type": "scattergl",
         "x": [
          "2010",
          "2011",
          "2012",
          "2013",
          "2014",
          "2015",
          "2016",
          "2017",
          "2018",
          "2019",
          "2020",
          "2021"
         ],
         "xaxis": "x",
         "y": [
          0,
          0,
          1072,
          4180,
          7277,
          3194,
          998,
          2,
          44,
          1,
          32,
          63
         ],
         "yaxis": "y"
        },
        {
         "hovertemplate": "Exporters=Oman<br>Year=%{x}<br>Quantity (tonnes)=%{y}<extra></extra>",
         "legendgroup": "Oman",
         "line": {
          "color": "#FF6692",
          "dash": "solid"
         },
         "marker": {
          "symbol": "circle"
         },
         "mode": "lines",
         "name": "Oman",
         "showlegend": true,
         "type": "scattergl",
         "x": [
          "2010",
          "2011",
          "2012",
          "2013",
          "2014",
          "2015",
          "2016",
          "2017",
          "2018",
          "2019",
          "2020",
          "2021"
         ],
         "xaxis": "x",
         "y": [
          360,
          363,
          308,
          1184,
          2385,
          2185,
          333,
          126,
          8,
          37,
          362,
          63
         ],
         "yaxis": "y"
        },
        {
         "hovertemplate": "Exporters=Kenya<br>Year=%{x}<br>Quantity (tonnes)=%{y}<extra></extra>",
         "legendgroup": "Kenya",
         "line": {
          "color": "#B6E880",
          "dash": "solid"
         },
         "marker": {
          "symbol": "circle"
         },
         "mode": "lines",
         "name": "Kenya",
         "showlegend": true,
         "type": "scattergl",
         "x": [
          "2010",
          "2011",
          "2012",
          "2013",
          "2014",
          "2015",
          "2016",
          "2017",
          "2018",
          "2019",
          "2020",
          "2021"
         ],
         "xaxis": "x",
         "y": [
          210,
          292,
          152,
          82,
          117,
          56,
          62,
          15,
          10,
          3,
          10,
          60
         ],
         "yaxis": "y"
        },
        {
         "hovertemplate": "Exporters=Guyana<br>Year=%{x}<br>Quantity (tonnes)=%{y}<extra></extra>",
         "legendgroup": "Guyana",
         "line": {
          "color": "#FF97FF",
          "dash": "solid"
         },
         "marker": {
          "symbol": "circle"
         },
         "mode": "lines",
         "name": "Guyana",
         "showlegend": true,
         "type": "scattergl",
         "x": [
          "2010",
          "2011",
          "2012",
          "2013",
          "2014",
          "2015",
          "2016",
          "2017",
          "2018",
          "2019",
          "2020",
          "2021"
         ],
         "xaxis": "x",
         "y": [
          12,
          15,
          0,
          0,
          0,
          0,
          0,
          0,
          0,
          0,
          0,
          52
         ],
         "yaxis": "y"
        },
        {
         "hovertemplate": "Exporters=Angola<br>Year=%{x}<br>Quantity (tonnes)=%{y}<extra></extra>",
         "legendgroup": "Angola",
         "line": {
          "color": "#FECB52",
          "dash": "solid"
         },
         "marker": {
          "symbol": "circle"
         },
         "mode": "lines",
         "name": "Angola",
         "showlegend": true,
         "type": "scattergl",
         "x": [
          "2010",
          "2011",
          "2012",
          "2013",
          "2014",
          "2015",
          "2016",
          "2017",
          "2018",
          "2019",
          "2020",
          "2021"
         ],
         "xaxis": "x",
         "y": [
          0,
          0,
          0,
          0,
          0,
          56,
          6,
          1,
          4,
          137,
          21,
          50
         ],
         "yaxis": "y"
        },
        {
         "hovertemplate": "Exporters=Algeria<br>Year=%{x}<br>Quantity (tonnes)=%{y}<extra></extra>",
         "legendgroup": "Algeria",
         "line": {
          "color": "#636efa",
          "dash": "solid"
         },
         "marker": {
          "symbol": "circle"
         },
         "mode": "lines",
         "name": "Algeria",
         "showlegend": true,
         "type": "scattergl",
         "x": [
          "2010",
          "2011",
          "2012",
          "2013",
          "2014",
          "2015",
          "2016",
          "2017",
          "2019",
          "2021"
         ],
         "xaxis": "x",
         "y": [
          0,
          0,
          0,
          0,
          0,
          0,
          0,
          3,
          37,
          45
         ],
         "yaxis": "y"
        },
        {
         "hovertemplate": "Exporters=Zambia<br>Year=%{x}<br>Quantity (tonnes)=%{y}<extra></extra>",
         "legendgroup": "Zambia",
         "line": {
          "color": "#EF553B",
          "dash": "solid"
         },
         "marker": {
          "symbol": "circle"
         },
         "mode": "lines",
         "name": "Zambia",
         "showlegend": true,
         "type": "scattergl",
         "x": [
          "2010",
          "2011",
          "2012",
          "2013",
          "2014",
          "2015",
          "2016",
          "2017",
          "2018",
          "2019",
          "2020",
          "2021"
         ],
         "xaxis": "x",
         "y": [
          367,
          412,
          286,
          27,
          57,
          2,
          0,
          1,
          83,
          0,
          33,
          40
         ],
         "yaxis": "y"
        },
        {
         "hovertemplate": "Exporters=Syrian Arab Republic<br>Year=%{x}<br>Quantity (tonnes)=%{y}<extra></extra>",
         "legendgroup": "Syrian Arab Republic",
         "line": {
          "color": "#00cc96",
          "dash": "solid"
         },
         "marker": {
          "symbol": "circle"
         },
         "mode": "lines",
         "name": "Syrian Arab Republic",
         "showlegend": true,
         "type": "scattergl",
         "x": [
          "2010",
          "2011",
          "2012",
          "2013",
          "2014",
          "2015",
          "2016",
          "2017",
          "2018",
          "2019",
          "2020",
          "2021"
         ],
         "xaxis": "x",
         "y": [
          1,
          37,
          0,
          3,
          0,
          27,
          1,
          1,
          1,
          16,
          29,
          37
         ],
         "yaxis": "y"
        },
        {
         "hovertemplate": "Exporters=Panama<br>Year=%{x}<br>Quantity (tonnes)=%{y}<extra></extra>",
         "legendgroup": "Panama",
         "line": {
          "color": "#ab63fa",
          "dash": "solid"
         },
         "marker": {
          "symbol": "circle"
         },
         "mode": "lines",
         "name": "Panama",
         "showlegend": true,
         "type": "scattergl",
         "x": [
          "2010",
          "2011",
          "2012",
          "2013",
          "2014",
          "2015",
          "2016",
          "2017",
          "2018",
          "2019",
          "2020",
          "2021"
         ],
         "xaxis": "x",
         "y": [
          0,
          1,
          2,
          3,
          3,
          1,
          1,
          1,
          26,
          2,
          5,
          37
         ],
         "yaxis": "y"
        },
        {
         "hovertemplate": "Exporters=Bangladesh<br>Year=%{x}<br>Quantity (tonnes)=%{y}<extra></extra>",
         "legendgroup": "Bangladesh",
         "line": {
          "color": "#FFA15A",
          "dash": "solid"
         },
         "marker": {
          "symbol": "circle"
         },
         "mode": "lines",
         "name": "Bangladesh",
         "showlegend": true,
         "type": "scattergl",
         "x": [
          "2010",
          "2011",
          "2012",
          "2013",
          "2015",
          "2016",
          "2017",
          "2018",
          "2019",
          "2020",
          "2021"
         ],
         "xaxis": "x",
         "y": [
          3,
          0,
          2,
          4,
          0,
          3,
          4,
          26,
          0,
          48,
          35
         ],
         "yaxis": "y"
        },
        {
         "hovertemplate": "Exporters=Egypt<br>Year=%{x}<br>Quantity (tonnes)=%{y}<extra></extra>",
         "legendgroup": "Egypt",
         "line": {
          "color": "#19d3f3",
          "dash": "solid"
         },
         "marker": {
          "symbol": "circle"
         },
         "mode": "lines",
         "name": "Egypt",
         "showlegend": true,
         "type": "scattergl",
         "x": [
          "2010",
          "2011",
          "2012",
          "2013",
          "2014",
          "2015",
          "2016",
          "2017",
          "2018",
          "2019",
          "2020",
          "2021"
         ],
         "xaxis": "x",
         "y": [
          93,
          255,
          88,
          261,
          55,
          36,
          63,
          3,
          36,
          170,
          54,
          31
         ],
         "yaxis": "y"
        },
        {
         "hovertemplate": "Exporters=Brunei Darussalam<br>Year=%{x}<br>Quantity (tonnes)=%{y}<extra></extra>",
         "legendgroup": "Brunei Darussalam",
         "line": {
          "color": "#FF6692",
          "dash": "solid"
         },
         "marker": {
          "symbol": "circle"
         },
         "mode": "lines",
         "name": "Brunei Darussalam",
         "showlegend": true,
         "type": "scattergl",
         "x": [
          "2010",
          "2011",
          "2012",
          "2013",
          "2014",
          "2015",
          "2016",
          "2017",
          "2018",
          "2019",
          "2020",
          "2021"
         ],
         "xaxis": "x",
         "y": [
          2,
          0,
          0,
          2,
          1,
          16,
          32,
          0,
          30,
          13,
          1,
          30
         ],
         "yaxis": "y"
        },
        {
         "hovertemplate": "Exporters=Georgia<br>Year=%{x}<br>Quantity (tonnes)=%{y}<extra></extra>",
         "legendgroup": "Georgia",
         "line": {
          "color": "#B6E880",
          "dash": "solid"
         },
         "marker": {
          "symbol": "circle"
         },
         "mode": "lines",
         "name": "Georgia",
         "showlegend": true,
         "type": "scattergl",
         "x": [
          "2010",
          "2011",
          "2012",
          "2013",
          "2014",
          "2015",
          "2016",
          "2017",
          "2018",
          "2019",
          "2020",
          "2021"
         ],
         "xaxis": "x",
         "y": [
          306,
          99,
          142,
          215,
          407,
          95,
          113,
          112,
          109,
          153,
          96,
          30
         ],
         "yaxis": "y"
        },
        {
         "hovertemplate": "Exporters=Namibia<br>Year=%{x}<br>Quantity (tonnes)=%{y}<extra></extra>",
         "legendgroup": "Namibia",
         "line": {
          "color": "#FF97FF",
          "dash": "solid"
         },
         "marker": {
          "symbol": "circle"
         },
         "mode": "lines",
         "name": "Namibia",
         "showlegend": true,
         "type": "scattergl",
         "x": [
          "2010",
          "2011",
          "2012",
          "2013",
          "2014",
          "2015",
          "2016",
          "2017",
          "2018",
          "2019",
          "2020",
          "2021"
         ],
         "xaxis": "x",
         "y": [
          15,
          16,
          32,
          42,
          33,
          54,
          16,
          3,
          6,
          24,
          20,
          28
         ],
         "yaxis": "y"
        },
        {
         "hovertemplate": "Exporters=Samoa<br>Year=%{x}<br>Quantity (tonnes)=%{y}<extra></extra>",
         "legendgroup": "Samoa",
         "line": {
          "color": "#FECB52",
          "dash": "solid"
         },
         "marker": {
          "symbol": "circle"
         },
         "mode": "lines",
         "name": "Samoa",
         "showlegend": true,
         "type": "scattergl",
         "x": [
          "2010",
          "2011",
          "2012",
          "2013",
          "2014",
          "2015",
          "2016",
          "2017",
          "2018",
          "2019",
          "2020",
          "2021"
         ],
         "xaxis": "x",
         "y": [
          0,
          0,
          0,
          2,
          6,
          0,
          0,
          1,
          1,
          1,
          2,
          27
         ],
         "yaxis": "y"
        },
        {
         "hovertemplate": "Exporters=Dominican Republic<br>Year=%{x}<br>Quantity (tonnes)=%{y}<extra></extra>",
         "legendgroup": "Dominican Republic",
         "line": {
          "color": "#636efa",
          "dash": "solid"
         },
         "marker": {
          "symbol": "circle"
         },
         "mode": "lines",
         "name": "Dominican Republic",
         "showlegend": true,
         "type": "scattergl",
         "x": [
          "2010",
          "2011",
          "2012",
          "2013",
          "2014",
          "2015",
          "2016",
          "2017",
          "2018",
          "2019",
          "2020",
          "2021"
         ],
         "xaxis": "x",
         "y": [
          335,
          682,
          19,
          11,
          1,
          7,
          64,
          9,
          112,
          180,
          50,
          26
         ],
         "yaxis": "y"
        },
        {
         "hovertemplate": "Exporters=Morocco<br>Year=%{x}<br>Quantity (tonnes)=%{y}<extra></extra>",
         "legendgroup": "Morocco",
         "line": {
          "color": "#EF553B",
          "dash": "solid"
         },
         "marker": {
          "symbol": "circle"
         },
         "mode": "lines",
         "name": "Morocco",
         "showlegend": true,
         "type": "scattergl",
         "x": [
          "2010",
          "2011",
          "2012",
          "2013",
          "2014",
          "2015",
          "2016",
          "2017",
          "2018",
          "2019",
          "2020",
          "2021"
         ],
         "xaxis": "x",
         "y": [
          68,
          25,
          1,
          20,
          43,
          20,
          153,
          79,
          17,
          5,
          4,
          23
         ],
         "yaxis": "y"
        },
        {
         "hovertemplate": "Exporters=Pakistan<br>Year=%{x}<br>Quantity (tonnes)=%{y}<extra></extra>",
         "legendgroup": "Pakistan",
         "line": {
          "color": "#00cc96",
          "dash": "solid"
         },
         "marker": {
          "symbol": "circle"
         },
         "mode": "lines",
         "name": "Pakistan",
         "showlegend": true,
         "type": "scattergl",
         "x": [
          "2010",
          "2011",
          "2012",
          "2013",
          "2014",
          "2015",
          "2016",
          "2017",
          "2018",
          "2019",
          "2020",
          "2021"
         ],
         "xaxis": "x",
         "y": [
          125,
          463,
          127,
          29,
          10,
          8,
          11,
          12,
          23,
          23,
          24,
          22
         ],
         "yaxis": "y"
        },
        {
         "hovertemplate": "Exporters=Japan<br>Year=%{x}<br>Quantity (tonnes)=%{y}<extra></extra>",
         "legendgroup": "Japan",
         "line": {
          "color": "#ab63fa",
          "dash": "solid"
         },
         "marker": {
          "symbol": "circle"
         },
         "mode": "lines",
         "name": "Japan",
         "showlegend": true,
         "type": "scattergl",
         "x": [
          "2010",
          "2011",
          "2012",
          "2013",
          "2014",
          "2015",
          "2016",
          "2017",
          "2018",
          "2019",
          "2020",
          "2021"
         ],
         "xaxis": "x",
         "y": [
          1,
          1,
          1,
          1,
          5,
          2,
          2,
          4,
          5,
          6,
          8,
          19
         ],
         "yaxis": "y"
        },
        {
         "hovertemplate": "Exporters=El Salvador<br>Year=%{x}<br>Quantity (tonnes)=%{y}<extra></extra>",
         "legendgroup": "El Salvador",
         "line": {
          "color": "#FFA15A",
          "dash": "solid"
         },
         "marker": {
          "symbol": "circle"
         },
         "mode": "lines",
         "name": "El Salvador",
         "showlegend": true,
         "type": "scattergl",
         "x": [
          "2010",
          "2011",
          "2012",
          "2013",
          "2014",
          "2015",
          "2016",
          "2017",
          "2018",
          "2019",
          "2020",
          "2021"
         ],
         "xaxis": "x",
         "y": [
          2,
          18,
          20,
          45,
          4,
          7,
          8,
          9,
          15,
          20,
          22,
          19
         ],
         "yaxis": "y"
        },
        {
         "hovertemplate": "Exporters=Côte d'Ivoire<br>Year=%{x}<br>Quantity (tonnes)=%{y}<extra></extra>",
         "legendgroup": "Côte d'Ivoire",
         "line": {
          "color": "#19d3f3",
          "dash": "solid"
         },
         "marker": {
          "symbol": "circle"
         },
         "mode": "lines",
         "name": "Côte d'Ivoire",
         "showlegend": true,
         "type": "scattergl",
         "x": [
          "2010",
          "2011",
          "2012",
          "2013",
          "2014",
          "2015",
          "2016",
          "2017",
          "2018",
          "2019",
          "2020",
          "2021"
         ],
         "xaxis": "x",
         "y": [
          4,
          3,
          53,
          32,
          6,
          6,
          4,
          3,
          2,
          2,
          4,
          16
         ],
         "yaxis": "y"
        },
        {
         "hovertemplate": "Exporters=Fiji<br>Year=%{x}<br>Quantity (tonnes)=%{y}<extra></extra>",
         "legendgroup": "Fiji",
         "line": {
          "color": "#FF6692",
          "dash": "solid"
         },
         "marker": {
          "symbol": "circle"
         },
         "mode": "lines",
         "name": "Fiji",
         "showlegend": true,
         "type": "scattergl",
         "x": [
          "2010",
          "2011",
          "2012",
          "2013",
          "2014",
          "2015",
          "2016",
          "2017",
          "2018",
          "2019",
          "2020",
          "2021"
         ],
         "xaxis": "x",
         "y": [
          44,
          6,
          15,
          13,
          40,
          10,
          39,
          22,
          29,
          27,
          22,
          12
         ],
         "yaxis": "y"
        },
        {
         "hovertemplate": "Exporters=Ecuador<br>Year=%{x}<br>Quantity (tonnes)=%{y}<extra></extra>",
         "legendgroup": "Ecuador",
         "line": {
          "color": "#B6E880",
          "dash": "solid"
         },
         "marker": {
          "symbol": "circle"
         },
         "mode": "lines",
         "name": "Ecuador",
         "showlegend": true,
         "type": "scattergl",
         "x": [
          "2010",
          "2011",
          "2012",
          "2013",
          "2014",
          "2015",
          "2016",
          "2017",
          "2018",
          "2019",
          "2020",
          "2021"
         ],
         "xaxis": "x",
         "y": [
          0,
          0,
          0,
          0,
          0,
          15,
          0,
          0,
          0,
          0,
          0,
          11
         ],
         "yaxis": "y"
        },
        {
         "hovertemplate": "Exporters=Macao, China<br>Year=%{x}<br>Quantity (tonnes)=%{y}<extra></extra>",
         "legendgroup": "Macao, China",
         "line": {
          "color": "#FF97FF",
          "dash": "solid"
         },
         "marker": {
          "symbol": "circle"
         },
         "mode": "lines",
         "name": "Macao, China",
         "showlegend": true,
         "type": "scattergl",
         "x": [
          "2010",
          "2011",
          "2012",
          "2013",
          "2014",
          "2015",
          "2016",
          "2017",
          "2018",
          "2019",
          "2020",
          "2021"
         ],
         "xaxis": "x",
         "y": [
          0,
          0,
          0,
          0,
          0,
          0,
          0,
          10,
          2,
          0,
          0,
          11
         ],
         "yaxis": "y"
        },
        {
         "hovertemplate": "Exporters=Malta<br>Year=%{x}<br>Quantity (tonnes)=%{y}<extra></extra>",
         "legendgroup": "Malta",
         "line": {
          "color": "#FECB52",
          "dash": "solid"
         },
         "marker": {
          "symbol": "circle"
         },
         "mode": "lines",
         "name": "Malta",
         "showlegend": true,
         "type": "scattergl",
         "x": [
          "2010",
          "2011",
          "2012",
          "2013",
          "2014",
          "2015",
          "2016",
          "2017",
          "2018",
          "2019",
          "2020",
          "2021"
         ],
         "xaxis": "x",
         "y": [
          0,
          0,
          0,
          0,
          0,
          0,
          0,
          0,
          0,
          0,
          0,
          11
         ],
         "yaxis": "y"
        },
        {
         "hovertemplate": "Exporters=Rwanda<br>Year=%{x}<br>Quantity (tonnes)=%{y}<extra></extra>",
         "legendgroup": "Rwanda",
         "line": {
          "color": "#636efa",
          "dash": "solid"
         },
         "marker": {
          "symbol": "circle"
         },
         "mode": "lines",
         "name": "Rwanda",
         "showlegend": true,
         "type": "scattergl",
         "x": [
          "2010",
          "2011",
          "2012",
          "2013",
          "2014",
          "2015",
          "2016",
          "2017",
          "2018",
          "2019",
          "2020",
          "2021"
         ],
         "xaxis": "x",
         "y": [
          0,
          0,
          0,
          0,
          0,
          1,
          0,
          0,
          0,
          55,
          18,
          10
         ],
         "yaxis": "y"
        },
        {
         "hovertemplate": "Exporters=Macedonia, North<br>Year=%{x}<br>Quantity (tonnes)=%{y}<extra></extra>",
         "legendgroup": "Macedonia, North",
         "line": {
          "color": "#EF553B",
          "dash": "solid"
         },
         "marker": {
          "symbol": "circle"
         },
         "mode": "lines",
         "name": "Macedonia, North",
         "showlegend": true,
         "type": "scattergl",
         "x": [
          "2010",
          "2011",
          "2012",
          "2013",
          "2014",
          "2015",
          "2016",
          "2017",
          "2018",
          "2019",
          "2020",
          "2021"
         ],
         "xaxis": "x",
         "y": [
          182,
          101,
          35,
          2,
          1,
          44,
          268,
          193,
          44,
          50,
          7,
          10
         ],
         "yaxis": "y"
        },
        {
         "hovertemplate": "Exporters=Korea, Republic of<br>Year=%{x}<br>Quantity (tonnes)=%{y}<extra></extra>",
         "legendgroup": "Korea, Republic of",
         "line": {
          "color": "#00cc96",
          "dash": "solid"
         },
         "marker": {
          "symbol": "circle"
         },
         "mode": "lines",
         "name": "Korea, Republic of",
         "showlegend": true,
         "type": "scattergl",
         "x": [
          "2010",
          "2011",
          "2012",
          "2013",
          "2014",
          "2015",
          "2016",
          "2017",
          "2018",
          "2019",
          "2020",
          "2021"
         ],
         "xaxis": "x",
         "y": [
          0,
          1,
          1,
          6,
          44,
          4,
          5,
          15,
          47,
          60,
          96,
          6
         ],
         "yaxis": "y"
        },
        {
         "hovertemplate": "Exporters=Botswana<br>Year=%{x}<br>Quantity (tonnes)=%{y}<extra></extra>",
         "legendgroup": "Botswana",
         "line": {
          "color": "#ab63fa",
          "dash": "solid"
         },
         "marker": {
          "symbol": "circle"
         },
         "mode": "lines",
         "name": "Botswana",
         "showlegend": true,
         "type": "scattergl",
         "x": [
          "2010",
          "2011",
          "2012",
          "2013",
          "2014",
          "2015",
          "2016",
          "2017",
          "2018",
          "2019",
          "2020",
          "2021"
         ],
         "xaxis": "x",
         "y": [
          0,
          1,
          1,
          0,
          0,
          0,
          0,
          5,
          19,
          28,
          1,
          6
         ],
         "yaxis": "y"
        },
        {
         "hovertemplate": "Exporters=Senegal<br>Year=%{x}<br>Quantity (tonnes)=%{y}<extra></extra>",
         "legendgroup": "Senegal",
         "line": {
          "color": "#FFA15A",
          "dash": "solid"
         },
         "marker": {
          "symbol": "circle"
         },
         "mode": "lines",
         "name": "Senegal",
         "showlegend": true,
         "type": "scattergl",
         "x": [
          "2010",
          "2011",
          "2012",
          "2013",
          "2014",
          "2015",
          "2016",
          "2017",
          "2018",
          "2019",
          "2020",
          "2021"
         ],
         "xaxis": "x",
         "y": [
          13,
          6,
          1,
          66,
          71,
          54,
          74,
          283,
          36,
          78,
          20,
          4
         ],
         "yaxis": "y"
        },
        {
         "hovertemplate": "Exporters=Trinidad and Tobago<br>Year=%{x}<br>Quantity (tonnes)=%{y}<extra></extra>",
         "legendgroup": "Trinidad and Tobago",
         "line": {
          "color": "#19d3f3",
          "dash": "solid"
         },
         "marker": {
          "symbol": "circle"
         },
         "mode": "lines",
         "name": "Trinidad and Tobago",
         "showlegend": true,
         "type": "scattergl",
         "x": [
          "2010",
          "2011",
          "2012",
          "2013",
          "2014",
          "2015",
          "2016",
          "2017",
          "2018",
          "2019",
          "2020",
          "2021"
         ],
         "xaxis": "x",
         "y": [
          2,
          3,
          7,
          4,
          2,
          6,
          8,
          13,
          6,
          15,
          8,
          4
         ],
         "yaxis": "y"
        },
        {
         "hovertemplate": "Exporters=Zimbabwe<br>Year=%{x}<br>Quantity (tonnes)=%{y}<extra></extra>",
         "legendgroup": "Zimbabwe",
         "line": {
          "color": "#FF6692",
          "dash": "solid"
         },
         "marker": {
          "symbol": "circle"
         },
         "mode": "lines",
         "name": "Zimbabwe",
         "showlegend": true,
         "type": "scattergl",
         "x": [
          "2010",
          "2011",
          "2012",
          "2013",
          "2014",
          "2015",
          "2016",
          "2017",
          "2018",
          "2019",
          "2020",
          "2021"
         ],
         "xaxis": "x",
         "y": [
          0,
          0,
          0,
          0,
          2,
          0,
          5,
          3,
          0,
          0,
          0,
          3
         ],
         "yaxis": "y"
        },
        {
         "hovertemplate": "Exporters=Peru<br>Year=%{x}<br>Quantity (tonnes)=%{y}<extra></extra>",
         "legendgroup": "Peru",
         "line": {
          "color": "#B6E880",
          "dash": "solid"
         },
         "marker": {
          "symbol": "circle"
         },
         "mode": "lines",
         "name": "Peru",
         "showlegend": true,
         "type": "scattergl",
         "x": [
          "2010",
          "2011",
          "2012",
          "2013",
          "2014",
          "2015",
          "2016",
          "2017",
          "2018",
          "2019",
          "2020",
          "2021"
         ],
         "xaxis": "x",
         "y": [
          6,
          0,
          0,
          1,
          2,
          0,
          0,
          19,
          0,
          2,
          103,
          2
         ],
         "yaxis": "y"
        },
        {
         "hovertemplate": "Exporters=Nepal<br>Year=%{x}<br>Quantity (tonnes)=%{y}<extra></extra>",
         "legendgroup": "Nepal",
         "line": {
          "color": "#FF97FF",
          "dash": "solid"
         },
         "marker": {
          "symbol": "circle"
         },
         "mode": "lines",
         "name": "Nepal",
         "showlegend": true,
         "type": "scattergl",
         "x": [
          "2010",
          "2011",
          "2012",
          "2013",
          "2014",
          "2015",
          "2016",
          "2017",
          "2018",
          "2019",
          "2020",
          "2021"
         ],
         "xaxis": "x",
         "y": [
          2,
          13,
          0,
          1,
          9,
          2,
          23,
          14,
          10,
          9,
          12,
          2
         ],
         "yaxis": "y"
        },
        {
         "hovertemplate": "Exporters=Taipei, Chinese<br>Year=%{x}<br>Quantity (tonnes)=%{y}<extra></extra>",
         "legendgroup": "Taipei, Chinese",
         "line": {
          "color": "#FECB52",
          "dash": "solid"
         },
         "marker": {
          "symbol": "circle"
         },
         "mode": "lines",
         "name": "Taipei, Chinese",
         "showlegend": true,
         "type": "scattergl",
         "x": [
          "2010",
          "2011",
          "2012",
          "2013",
          "2014",
          "2015",
          "2016",
          "2017",
          "2018",
          "2019",
          "2020",
          "2021"
         ],
         "xaxis": "x",
         "y": [
          3,
          5,
          9,
          11,
          27,
          21,
          2,
          2,
          10,
          3,
          1,
          2
         ],
         "yaxis": "y"
        },
        {
         "hovertemplate": "Exporters=Ethiopia<br>Year=%{x}<br>Quantity (tonnes)=%{y}<extra></extra>",
         "legendgroup": "Ethiopia",
         "line": {
          "color": "#636efa",
          "dash": "solid"
         },
         "marker": {
          "symbol": "circle"
         },
         "mode": "lines",
         "name": "Ethiopia",
         "showlegend": true,
         "type": "scattergl",
         "x": [
          "2010",
          "2011",
          "2012",
          "2013",
          "2014",
          "2015",
          "2016",
          "2017",
          "2018",
          "2019",
          "2020",
          "2021"
         ],
         "xaxis": "x",
         "y": [
          11,
          16,
          21,
          12,
          10,
          10,
          16,
          17,
          6,
          6,
          5,
          2
         ],
         "yaxis": "y"
        },
        {
         "hovertemplate": "Exporters=Gabon<br>Year=%{x}<br>Quantity (tonnes)=%{y}<extra></extra>",
         "legendgroup": "Gabon",
         "line": {
          "color": "#EF553B",
          "dash": "solid"
         },
         "marker": {
          "symbol": "circle"
         },
         "mode": "lines",
         "name": "Gabon",
         "showlegend": true,
         "type": "scattergl",
         "x": [
          "2010",
          "2011",
          "2012",
          "2013",
          "2014",
          "2015",
          "2016",
          "2017",
          "2018",
          "2019",
          "2020",
          "2021"
         ],
         "xaxis": "x",
         "y": [
          0,
          0,
          0,
          5,
          4,
          3,
          2,
          2,
          0,
          0,
          0,
          2
         ],
         "yaxis": "y"
        },
        {
         "hovertemplate": "Exporters=Sri Lanka<br>Year=%{x}<br>Quantity (tonnes)=%{y}<extra></extra>",
         "legendgroup": "Sri Lanka",
         "line": {
          "color": "#00cc96",
          "dash": "solid"
         },
         "marker": {
          "symbol": "circle"
         },
         "mode": "lines",
         "name": "Sri Lanka",
         "showlegend": true,
         "type": "scattergl",
         "x": [
          "2010",
          "2011",
          "2012",
          "2013",
          "2014",
          "2015",
          "2016",
          "2017",
          "2019",
          "2020",
          "2021"
         ],
         "xaxis": "x",
         "y": [
          0,
          1,
          1,
          0,
          2,
          1,
          0,
          0,
          0,
          1,
          1
         ],
         "yaxis": "y"
        },
        {
         "hovertemplate": "Exporters=Congo<br>Year=%{x}<br>Quantity (tonnes)=%{y}<extra></extra>",
         "legendgroup": "Congo",
         "line": {
          "color": "#ab63fa",
          "dash": "solid"
         },
         "marker": {
          "symbol": "circle"
         },
         "mode": "lines",
         "name": "Congo",
         "showlegend": true,
         "type": "scattergl",
         "x": [
          "2010",
          "2011",
          "2012",
          "2013",
          "2014",
          "2015",
          "2016",
          "2017",
          "2018",
          "2019",
          "2020",
          "2021"
         ],
         "xaxis": "x",
         "y": [
          0,
          0,
          0,
          0,
          0,
          0,
          0,
          0,
          0,
          0,
          0,
          1
         ],
         "yaxis": "y"
        },
        {
         "hovertemplate": "Exporters=Mozambique<br>Year=%{x}<br>Quantity (tonnes)=%{y}<extra></extra>",
         "legendgroup": "Mozambique",
         "line": {
          "color": "#FFA15A",
          "dash": "solid"
         },
         "marker": {
          "symbol": "circle"
         },
         "mode": "lines",
         "name": "Mozambique",
         "showlegend": true,
         "type": "scattergl",
         "x": [
          "2010",
          "2011",
          "2012",
          "2013",
          "2014",
          "2015",
          "2016",
          "2017",
          "2018",
          "2019",
          "2020",
          "2021"
         ],
         "xaxis": "x",
         "y": [
          0,
          0,
          0,
          0,
          0,
          0,
          6,
          0,
          4,
          0,
          1,
          1
         ],
         "yaxis": "y"
        },
        {
         "hovertemplate": "Exporters=Mauritius<br>Year=%{x}<br>Quantity (tonnes)=%{y}<extra></extra>",
         "legendgroup": "Mauritius",
         "line": {
          "color": "#19d3f3",
          "dash": "solid"
         },
         "marker": {
          "symbol": "circle"
         },
         "mode": "lines",
         "name": "Mauritius",
         "showlegend": true,
         "type": "scattergl",
         "x": [
          "2010",
          "2011",
          "2012",
          "2013",
          "2014",
          "2015",
          "2016",
          "2017",
          "2018",
          "2019",
          "2020",
          "2021"
         ],
         "xaxis": "x",
         "y": [
          6,
          7,
          1,
          1,
          0,
          1,
          0,
          0,
          0,
          2,
          0,
          0
         ],
         "yaxis": "y"
        },
        {
         "hovertemplate": "Exporters=Mexico<br>Year=%{x}<br>Quantity (tonnes)=%{y}<extra></extra>",
         "legendgroup": "Mexico",
         "line": {
          "color": "#FF6692",
          "dash": "solid"
         },
         "marker": {
          "symbol": "circle"
         },
         "mode": "lines",
         "name": "Mexico",
         "showlegend": true,
         "type": "scattergl",
         "x": [
          "2010",
          "2011",
          "2012",
          "2013",
          "2014",
          "2015",
          "2016",
          "2017",
          "2018",
          "2019",
          "2020",
          "2021"
         ],
         "xaxis": "x",
         "y": [
          2,
          10,
          16,
          126,
          78,
          1299,
          2229,
          1248,
          1659,
          714,
          62,
          0
         ],
         "yaxis": "y"
        },
        {
         "hovertemplate": "Exporters=Mongolia<br>Year=%{x}<br>Quantity (tonnes)=%{y}<extra></extra>",
         "legendgroup": "Mongolia",
         "line": {
          "color": "#B6E880",
          "dash": "solid"
         },
         "marker": {
          "symbol": "circle"
         },
         "mode": "lines",
         "name": "Mongolia",
         "showlegend": true,
         "type": "scattergl",
         "x": [
          "2010",
          "2011",
          "2012",
          "2013",
          "2014",
          "2015",
          "2016",
          "2017",
          "2018",
          "2019",
          "2020",
          "2021"
         ],
         "xaxis": "x",
         "y": [
          0,
          0,
          0,
          0,
          0,
          0,
          0,
          0,
          0,
          0,
          0,
          0
         ],
         "yaxis": "y"
        },
        {
         "hovertemplate": "Exporters=Moldova, Republic of<br>Year=%{x}<br>Quantity (tonnes)=%{y}<extra></extra>",
         "legendgroup": "Moldova, Republic of",
         "line": {
          "color": "#FF97FF",
          "dash": "solid"
         },
         "marker": {
          "symbol": "circle"
         },
         "mode": "lines",
         "name": "Moldova, Republic of",
         "showlegend": true,
         "type": "scattergl",
         "x": [
          "2010",
          "2011",
          "2012",
          "2013",
          "2014",
          "2015",
          "2016",
          "2017",
          "2018",
          "2019",
          "2020",
          "2021"
         ],
         "xaxis": "x",
         "y": [
          293,
          251,
          25,
          475,
          401,
          747,
          1597,
          542,
          50,
          0,
          14,
          0
         ],
         "yaxis": "y"
        },
        {
         "hovertemplate": "Exporters=Montenegro<br>Year=%{x}<br>Quantity (tonnes)=%{y}<extra></extra>",
         "legendgroup": "Montenegro",
         "line": {
          "color": "#FECB52",
          "dash": "solid"
         },
         "marker": {
          "symbol": "circle"
         },
         "mode": "lines",
         "name": "Montenegro",
         "showlegend": true,
         "type": "scattergl",
         "x": [
          "2010",
          "2011",
          "2012",
          "2013",
          "2014",
          "2015",
          "2016",
          "2017",
          "2018",
          "2019",
          "2020",
          "2021"
         ],
         "xaxis": "x",
         "y": [
          0,
          0,
          0,
          0,
          0,
          0,
          0,
          0,
          0,
          0,
          0,
          0
         ],
         "yaxis": "y"
        },
        {
         "hovertemplate": "Exporters=Jamaica<br>Year=%{x}<br>Quantity (tonnes)=%{y}<extra></extra>",
         "legendgroup": "Jamaica",
         "line": {
          "color": "#636efa",
          "dash": "solid"
         },
         "marker": {
          "symbol": "circle"
         },
         "mode": "lines",
         "name": "Jamaica",
         "showlegend": true,
         "type": "scattergl",
         "x": [
          "2010",
          "2011",
          "2012",
          "2013",
          "2014",
          "2015",
          "2016",
          "2017",
          "2018",
          "2019",
          "2020",
          "2021"
         ],
         "xaxis": "x",
         "y": [
          0,
          1,
          2,
          1,
          5,
          0,
          0,
          0,
          2,
          1,
          0,
          0
         ],
         "yaxis": "y"
        },
        {
         "hovertemplate": "Exporters=Israel<br>Year=%{x}<br>Quantity (tonnes)=%{y}<extra></extra>",
         "legendgroup": "Israel",
         "line": {
          "color": "#EF553B",
          "dash": "solid"
         },
         "marker": {
          "symbol": "circle"
         },
         "mode": "lines",
         "name": "Israel",
         "showlegend": true,
         "type": "scattergl",
         "x": [
          "2010",
          "2011",
          "2012",
          "2013",
          "2014",
          "2015",
          "2016",
          "2017",
          "2018",
          "2019",
          "2020",
          "2021"
         ],
         "xaxis": "x",
         "y": [
          0,
          0,
          0,
          0,
          6,
          0,
          0,
          0,
          0,
          0,
          0,
          1
         ],
         "yaxis": "y"
        },
        {
         "hovertemplate": "Exporters=Madagascar<br>Year=%{x}<br>Quantity (tonnes)=%{y}<extra></extra>",
         "legendgroup": "Madagascar",
         "line": {
          "color": "#00cc96",
          "dash": "solid"
         },
         "marker": {
          "symbol": "circle"
         },
         "mode": "lines",
         "name": "Madagascar",
         "showlegend": true,
         "type": "scattergl",
         "x": [
          "2010",
          "2011",
          "2012",
          "2013",
          "2014",
          "2015",
          "2016",
          "2017",
          "2018",
          "2019",
          "2020",
          "2021"
         ],
         "xaxis": "x",
         "y": [
          3,
          2,
          1,
          2,
          2,
          2,
          2,
          82,
          0,
          0,
          0,
          0
         ],
         "yaxis": "y"
        },
        {
         "hovertemplate": "Exporters=Lebanon<br>Year=%{x}<br>Quantity (tonnes)=%{y}<extra></extra>",
         "legendgroup": "Lebanon",
         "line": {
          "color": "#ab63fa",
          "dash": "solid"
         },
         "marker": {
          "symbol": "circle"
         },
         "mode": "lines",
         "name": "Lebanon",
         "showlegend": true,
         "type": "scattergl",
         "x": [
          "2010",
          "2011",
          "2012",
          "2013",
          "2014",
          "2015",
          "2016",
          "2017",
          "2018",
          "2019",
          "2020",
          "2021"
         ],
         "xaxis": "x",
         "y": [
          45,
          22,
          12,
          34,
          58,
          113,
          14,
          25,
          7,
          6,
          36,
          0
         ],
         "yaxis": "y"
        },
        {
         "hovertemplate": "Exporters=Qatar<br>Year=%{x}<br>Quantity (tonnes)=%{y}<extra></extra>",
         "legendgroup": "Qatar",
         "line": {
          "color": "#FFA15A",
          "dash": "solid"
         },
         "marker": {
          "symbol": "circle"
         },
         "mode": "lines",
         "name": "Qatar",
         "showlegend": true,
         "type": "scattergl",
         "x": [
          "2010",
          "2011",
          "2012",
          "2013",
          "2014",
          "2015",
          "2017",
          "2018",
          "2019",
          "2020",
          "2021"
         ],
         "xaxis": "x",
         "y": [
          23,
          0,
          8,
          1,
          1,
          31,
          0,
          0,
          0,
          0,
          0
         ],
         "yaxis": "y"
        },
        {
         "hovertemplate": "Exporters=Norway<br>Year=%{x}<br>Quantity (tonnes)=%{y}<extra></extra>",
         "legendgroup": "Norway",
         "line": {
          "color": "#19d3f3",
          "dash": "solid"
         },
         "marker": {
          "symbol": "circle"
         },
         "mode": "lines",
         "name": "Norway",
         "showlegend": true,
         "type": "scattergl",
         "x": [
          "2010",
          "2011",
          "2012",
          "2013",
          "2014",
          "2015",
          "2016",
          "2017",
          "2018",
          "2019",
          "2020",
          "2021"
         ],
         "xaxis": "x",
         "y": [
          2221,
          457,
          1,
          1,
          0,
          534,
          1089,
          195,
          9,
          11,
          19,
          0
         ],
         "yaxis": "y"
        },
        {
         "hovertemplate": "Exporters=Aruba<br>Year=%{x}<br>Quantity (tonnes)=%{y}<extra></extra>",
         "legendgroup": "Aruba",
         "line": {
          "color": "#FF6692",
          "dash": "solid"
         },
         "marker": {
          "symbol": "circle"
         },
         "mode": "lines",
         "name": "Aruba",
         "showlegend": true,
         "type": "scattergl",
         "x": [
          "2010",
          "2011",
          "2012",
          "2013",
          "2014",
          "2015",
          "2016",
          "2017",
          "2018",
          "2019",
          "2020",
          "2021"
         ],
         "xaxis": "x",
         "y": [
          0,
          0,
          0,
          0,
          0,
          0,
          3,
          2,
          10,
          0,
          0,
          0
         ],
         "yaxis": "y"
        },
        {
         "hovertemplate": "Exporters=Nicaragua<br>Year=%{x}<br>Quantity (tonnes)=%{y}<extra></extra>",
         "legendgroup": "Nicaragua",
         "line": {
          "color": "#B6E880",
          "dash": "solid"
         },
         "marker": {
          "symbol": "circle"
         },
         "mode": "lines",
         "name": "Nicaragua",
         "showlegend": true,
         "type": "scattergl",
         "x": [
          "2010",
          "2011",
          "2012",
          "2013",
          "2014",
          "2015",
          "2016",
          "2017",
          "2018",
          "2019",
          "2020",
          "2021"
         ],
         "xaxis": "x",
         "y": [
          59,
          64,
          49,
          64,
          150,
          198,
          100,
          155,
          48,
          36,
          0,
          0
         ],
         "yaxis": "y"
        },
        {
         "hovertemplate": "Exporters=Nigeria<br>Year=%{x}<br>Quantity (tonnes)=%{y}<extra></extra>",
         "legendgroup": "Nigeria",
         "line": {
          "color": "#FF97FF",
          "dash": "solid"
         },
         "marker": {
          "symbol": "circle"
         },
         "mode": "lines",
         "name": "Nigeria",
         "showlegend": true,
         "type": "scattergl",
         "x": [
          "2010",
          "2011",
          "2012",
          "2013",
          "2014",
          "2015",
          "2016",
          "2017",
          "2018",
          "2019",
          "2020",
          "2021"
         ],
         "xaxis": "x",
         "y": [
          0,
          32,
          0,
          86,
          0,
          2,
          0,
          0,
          0,
          0,
          0,
          0
         ],
         "yaxis": "y"
        },
        {
         "hovertemplate": "Exporters=Viet Nam<br>Year=%{x}<br>Quantity (tonnes)=%{y}<extra></extra>",
         "legendgroup": "Viet Nam",
         "line": {
          "color": "#FECB52",
          "dash": "solid"
         },
         "marker": {
          "symbol": "circle"
         },
         "mode": "lines",
         "name": "Viet Nam",
         "showlegend": true,
         "type": "scattergl",
         "x": [
          "2010",
          "2011",
          "2012",
          "2013",
          "2014",
          "2015",
          "2016",
          "2017",
          "2018",
          "2019",
          "2020",
          "2021"
         ],
         "xaxis": "x",
         "y": [
          10,
          25,
          120,
          42,
          6,
          5,
          14,
          15,
          39,
          22,
          12,
          14
         ],
         "yaxis": "y"
        },
        {
         "hovertemplate": "Exporters=Cabo Verde<br>Year=%{x}<br>Quantity (tonnes)=%{y}<extra></extra>",
         "legendgroup": "Cabo Verde",
         "line": {
          "color": "#636efa",
          "dash": "solid"
         },
         "marker": {
          "symbol": "circle"
         },
         "mode": "lines",
         "name": "Cabo Verde",
         "showlegend": true,
         "type": "scattergl",
         "x": [
          "2010",
          "2011",
          "2012",
          "2013",
          "2014",
          "2015",
          "2016",
          "2017",
          "2018",
          "2019",
          "2020",
          "2021"
         ],
         "xaxis": "x",
         "y": [
          1,
          0,
          0,
          2,
          2,
          1,
          0,
          0,
          0,
          0,
          7,
          0
         ],
         "yaxis": "y"
        },
        {
         "hovertemplate": "Exporters=Cambodia<br>Year=%{x}<br>Quantity (tonnes)=%{y}<extra></extra>",
         "legendgroup": "Cambodia",
         "line": {
          "color": "#EF553B",
          "dash": "solid"
         },
         "marker": {
          "symbol": "circle"
         },
         "mode": "lines",
         "name": "Cambodia",
         "showlegend": true,
         "type": "scattergl",
         "x": [
          "2010",
          "2011",
          "2012",
          "2013",
          "2014",
          "2015",
          "2016",
          "2017",
          "2018",
          "2019",
          "2020",
          "2021"
         ],
         "xaxis": "x",
         "y": [
          0,
          0,
          0,
          0,
          0,
          0,
          0,
          3,
          0,
          0,
          0,
          0
         ],
         "yaxis": "y"
        },
        {
         "hovertemplate": "Exporters=Burundi<br>Year=%{x}<br>Quantity (tonnes)=%{y}<extra></extra>",
         "legendgroup": "Burundi",
         "line": {
          "color": "#00cc96",
          "dash": "solid"
         },
         "marker": {
          "symbol": "circle"
         },
         "mode": "lines",
         "name": "Burundi",
         "showlegend": true,
         "type": "scattergl",
         "x": [
          "2010",
          "2011",
          "2012",
          "2013",
          "2014",
          "2015",
          "2016",
          "2017",
          "2018",
          "2019",
          "2020",
          "2021"
         ],
         "xaxis": "x",
         "y": [
          0,
          0,
          0,
          0,
          0,
          3194,
          0,
          0,
          0,
          0,
          0,
          0
         ],
         "yaxis": "y"
        },
        {
         "hovertemplate": "Exporters=Bosnia and Herzegovina<br>Year=%{x}<br>Quantity (tonnes)=%{y}<extra></extra>",
         "legendgroup": "Bosnia and Herzegovina",
         "line": {
          "color": "#ab63fa",
          "dash": "solid"
         },
         "marker": {
          "symbol": "circle"
         },
         "mode": "lines",
         "name": "Bosnia and Herzegovina",
         "showlegend": true,
         "type": "scattergl",
         "x": [
          "2010",
          "2011",
          "2012",
          "2013",
          "2014",
          "2015",
          "2016",
          "2017",
          "2018",
          "2019",
          "2020",
          "2021"
         ],
         "xaxis": "x",
         "y": [
          213,
          117,
          82,
          139,
          0,
          0,
          375,
          64,
          0,
          22,
          1,
          0
         ],
         "yaxis": "y"
        },
        {
         "hovertemplate": "Exporters=Barbados<br>Year=%{x}<br>Quantity (tonnes)=%{y}<extra></extra>",
         "legendgroup": "Barbados",
         "line": {
          "color": "#FFA15A",
          "dash": "solid"
         },
         "marker": {
          "symbol": "circle"
         },
         "mode": "lines",
         "name": "Barbados",
         "showlegend": true,
         "type": "scattergl",
         "x": [
          "2010",
          "2011",
          "2012",
          "2013",
          "2014",
          "2015",
          "2016",
          "2017",
          "2018",
          "2019",
          "2020",
          "2021"
         ],
         "xaxis": "x",
         "y": [
          0,
          0,
          0,
          0,
          0,
          0,
          0,
          0,
          0,
          0,
          0,
          0
         ],
         "yaxis": "y"
        },
        {
         "hovertemplate": "Exporters=Antigua and Barbuda<br>Year=%{x}<br>Quantity (tonnes)=%{y}<extra></extra>",
         "legendgroup": "Antigua and Barbuda",
         "line": {
          "color": "#19d3f3",
          "dash": "solid"
         },
         "marker": {
          "symbol": "circle"
         },
         "mode": "lines",
         "name": "Antigua and Barbuda",
         "showlegend": true,
         "type": "scattergl",
         "x": [
          "2010",
          "2011",
          "2012",
          "2013",
          "2014",
          "2015",
          "2016",
          "2017",
          "2018",
          "2019",
          "2020",
          "2021"
         ],
         "xaxis": "x",
         "y": [
          0,
          0,
          0,
          0,
          0,
          0,
          0,
          0,
          0,
          0,
          0,
          0
         ],
         "yaxis": "y"
        },
        {
         "hovertemplate": "Exporters=Chile<br>Year=%{x}<br>Quantity (tonnes)=%{y}<extra></extra>",
         "legendgroup": "Chile",
         "line": {
          "color": "#FF6692",
          "dash": "solid"
         },
         "marker": {
          "symbol": "circle"
         },
         "mode": "lines",
         "name": "Chile",
         "showlegend": true,
         "type": "scattergl",
         "x": [
          "2010",
          "2011",
          "2012",
          "2013",
          "2014",
          "2015",
          "2016",
          "2017",
          "2018",
          "2019",
          "2020",
          "2021"
         ],
         "xaxis": "x",
         "y": [
          3067,
          3699,
          2890,
          2801,
          1318,
          1456,
          1246,
          1697,
          90,
          0,
          18,
          0
         ],
         "yaxis": "y"
        },
        {
         "hovertemplate": "Exporters=Cyprus<br>Year=%{x}<br>Quantity (tonnes)=%{y}<extra></extra>",
         "legendgroup": "Cyprus",
         "line": {
          "color": "#B6E880",
          "dash": "solid"
         },
         "marker": {
          "symbol": "circle"
         },
         "mode": "lines",
         "name": "Cyprus",
         "showlegend": true,
         "type": "scattergl",
         "x": [
          "2010",
          "2011",
          "2012",
          "2013",
          "2014",
          "2015",
          "2016",
          "2017",
          "2018",
          "2019",
          "2020",
          "2021"
         ],
         "xaxis": "x",
         "y": [
          0,
          0,
          0,
          4,
          0,
          0,
          5,
          1,
          5,
          5,
          0,
          0
         ],
         "yaxis": "y"
        },
        {
         "hovertemplate": "Exporters=Czech Republic<br>Year=%{x}<br>Quantity (tonnes)=%{y}<extra></extra>",
         "legendgroup": "Czech Republic",
         "line": {
          "color": "#FF97FF",
          "dash": "solid"
         },
         "marker": {
          "symbol": "circle"
         },
         "mode": "lines",
         "name": "Czech Republic",
         "showlegend": true,
         "type": "scattergl",
         "x": [
          "2010",
          "2011",
          "2012",
          "2013",
          "2014",
          "2015",
          "2016",
          "2017",
          "2018",
          "2019",
          "2020",
          "2021"
         ],
         "xaxis": "x",
         "y": [
          4707,
          5218,
          4146,
          3602,
          5089,
          3672,
          4419,
          3095,
          2572,
          3262,
          2287,
          2324
         ],
         "yaxis": "y"
        },
        {
         "hovertemplate": "Exporters=Finland<br>Year=%{x}<br>Quantity (tonnes)=%{y}<extra></extra>",
         "legendgroup": "Finland",
         "line": {
          "color": "#FECB52",
          "dash": "solid"
         },
         "marker": {
          "symbol": "circle"
         },
         "mode": "lines",
         "name": "Finland",
         "showlegend": true,
         "type": "scattergl",
         "x": [
          "2010",
          "2011",
          "2012",
          "2013",
          "2014",
          "2015",
          "2016",
          "2017",
          "2018",
          "2019",
          "2020",
          "2021"
         ],
         "xaxis": "x",
         "y": [
          26327,
          19896,
          14992,
          18229,
          22248,
          38432,
          37973,
          34123,
          30448,
          29714,
          41051,
          40820
         ],
         "yaxis": "y"
        },
        {
         "hovertemplate": "Exporters=Gambia<br>Year=%{x}<br>Quantity (tonnes)=%{y}<extra></extra>",
         "legendgroup": "Gambia",
         "line": {
          "color": "#636efa",
          "dash": "solid"
         },
         "marker": {
          "symbol": "circle"
         },
         "mode": "lines",
         "name": "Gambia",
         "showlegend": true,
         "type": "scattergl",
         "x": [
          "2010",
          "2011",
          "2012",
          "2013",
          "2014",
          "2015",
          "2016",
          "2017",
          "2018",
          "2019",
          "2020",
          "2021"
         ],
         "xaxis": "x",
         "y": [
          3,
          117,
          163,
          18,
          5,
          5,
          0,
          0,
          0,
          0,
          0,
          0
         ],
         "yaxis": "y"
        },
        {
         "hovertemplate": "Exporters=Guatemala<br>Year=%{x}<br>Quantity (tonnes)=%{y}<extra></extra>",
         "legendgroup": "Guatemala",
         "line": {
          "color": "#EF553B",
          "dash": "solid"
         },
         "marker": {
          "symbol": "circle"
         },
         "mode": "lines",
         "name": "Guatemala",
         "showlegend": true,
         "type": "scattergl",
         "x": [
          "2010",
          "2011",
          "2012",
          "2013",
          "2014",
          "2015",
          "2016",
          "2017",
          "2018",
          "2019",
          "2020",
          "2021"
         ],
         "xaxis": "x",
         "y": [
          29,
          20,
          3,
          12,
          1,
          25,
          1,
          2,
          2,
          0,
          0,
          0
         ],
         "yaxis": "y"
        },
        {
         "hovertemplate": "Exporters=Suriname<br>Year=%{x}<br>Quantity (tonnes)=%{y}<extra></extra>",
         "legendgroup": "Suriname",
         "line": {
          "color": "#00cc96",
          "dash": "solid"
         },
         "marker": {
          "symbol": "circle"
         },
         "mode": "lines",
         "name": "Suriname",
         "showlegend": true,
         "type": "scattergl",
         "x": [
          "2010",
          "2011",
          "2012",
          "2013",
          "2014",
          "2015",
          "2016",
          "2017",
          "2018",
          "2019",
          "2020",
          "2021"
         ],
         "xaxis": "x",
         "y": [
          3,
          4,
          4,
          4,
          8,
          0,
          0,
          0,
          0,
          0,
          0,
          0
         ],
         "yaxis": "y"
        },
        {
         "hovertemplate": "Exporters=Eswatini<br>Year=%{x}<br>Quantity (tonnes)=%{y}<extra></extra>",
         "legendgroup": "Eswatini",
         "line": {
          "color": "#ab63fa",
          "dash": "solid"
         },
         "marker": {
          "symbol": "circle"
         },
         "mode": "lines",
         "name": "Eswatini",
         "showlegend": true,
         "type": "scattergl",
         "x": [
          "2010",
          "2011",
          "2012",
          "2013",
          "2014",
          "2015",
          "2016",
          "2017",
          "2018",
          "2019",
          "2020",
          "2021"
         ],
         "xaxis": "x",
         "y": [
          2,
          0,
          10,
          0,
          0,
          0,
          0,
          0,
          0,
          0,
          0,
          0
         ],
         "yaxis": "y"
        },
        {
         "hovertemplate": "Exporters=Togo<br>Year=%{x}<br>Quantity (tonnes)=%{y}<extra></extra>",
         "legendgroup": "Togo",
         "line": {
          "color": "#FFA15A",
          "dash": "solid"
         },
         "marker": {
          "symbol": "circle"
         },
         "mode": "lines",
         "name": "Togo",
         "showlegend": true,
         "type": "scattergl",
         "x": [
          "2010",
          "2011",
          "2012",
          "2013",
          "2014",
          "2015",
          "2016",
          "2017",
          "2018",
          "2019",
          "2020",
          "2021"
         ],
         "xaxis": "x",
         "y": [
          0,
          0,
          0,
          0,
          0,
          1,
          8,
          0,
          0,
          45,
          0,
          0
         ],
         "yaxis": "y"
        },
        {
         "hovertemplate": "Exporters=United States Minor Outlying Islands<br>Year=%{x}<br>Quantity (tonnes)=%{y}<extra></extra>",
         "legendgroup": "United States Minor Outlying Islands",
         "line": {
          "color": "#19d3f3",
          "dash": "solid"
         },
         "marker": {
          "symbol": "circle"
         },
         "mode": "lines",
         "name": "United States Minor Outlying Islands",
         "showlegend": true,
         "type": "scattergl",
         "x": [
          "2010",
          "2011",
          "2012",
          "2013",
          "2021"
         ],
         "xaxis": "x",
         "y": [
          1,
          0,
          0,
          0,
          0
         ],
         "yaxis": "y"
        },
        {
         "hovertemplate": "Exporters=Tanzania, United Republic of<br>Year=%{x}<br>Quantity (tonnes)=%{y}<extra></extra>",
         "legendgroup": "Tanzania, United Republic of",
         "line": {
          "color": "#FF6692",
          "dash": "solid"
         },
         "marker": {
          "symbol": "circle"
         },
         "mode": "lines",
         "name": "Tanzania, United Republic of",
         "showlegend": true,
         "type": "scattergl",
         "x": [
          "2010",
          "2011",
          "2012",
          "2013",
          "2014",
          "2015",
          "2016",
          "2017",
          "2018",
          "2019",
          "2020",
          "2021"
         ],
         "xaxis": "x",
         "y": [
          1,
          1,
          0,
          0,
          5,
          0,
          0,
          0,
          0,
          0,
          0,
          0
         ],
         "yaxis": "y"
        },
        {
         "hovertemplate": "Exporters=Free Zones<br>Year=%{x}<br>Quantity (tonnes)=%{y}<extra></extra>",
         "legendgroup": "Free Zones",
         "line": {
          "color": "#B6E880",
          "dash": "solid"
         },
         "marker": {
          "symbol": "circle"
         },
         "mode": "lines",
         "name": "Free Zones",
         "showlegend": true,
         "type": "scattergl",
         "x": [
          "2010",
          "2011",
          "2012",
          "2013",
          "2014",
          "2015",
          "2016",
          "2017"
         ],
         "xaxis": "x",
         "y": [
          15,
          31,
          5,
          0,
          0,
          24,
          2,
          0
         ],
         "yaxis": "y"
        },
        {
         "hovertemplate": "Exporters=Yemen<br>Year=%{x}<br>Quantity (tonnes)=%{y}<extra></extra>",
         "legendgroup": "Yemen",
         "line": {
          "color": "#FF97FF",
          "dash": "solid"
         },
         "marker": {
          "symbol": "circle"
         },
         "mode": "lines",
         "name": "Yemen",
         "showlegend": true,
         "type": "scattergl",
         "x": [
          "2010",
          "2011",
          "2012",
          "2013",
          "2014",
          "2015",
          "2019",
          "2020"
         ],
         "xaxis": "x",
         "y": [
          304,
          1221,
          146,
          142,
          44,
          42,
          15,
          542
         ],
         "yaxis": "y"
        },
        {
         "hovertemplate": "Exporters=Venezuela, Bolivarian Republic of<br>Year=%{x}<br>Quantity (tonnes)=%{y}<extra></extra>",
         "legendgroup": "Venezuela, Bolivarian Republic of",
         "line": {
          "color": "#FECB52",
          "dash": "solid"
         },
         "marker": {
          "symbol": "circle"
         },
         "mode": "lines",
         "name": "Venezuela, Bolivarian Republic of",
         "showlegend": true,
         "type": "scattergl",
         "x": [
          "2010",
          "2011",
          "2012",
          "2013",
          "2014",
          "2015",
          "2017",
          "2018",
          "2019"
         ],
         "xaxis": "x",
         "y": [
          0,
          0,
          0,
          0,
          15,
          11,
          14,
          3,
          4
         ],
         "yaxis": "y"
        },
        {
         "hovertemplate": "Exporters=Turkmenistan<br>Year=%{x}<br>Quantity (tonnes)=%{y}<extra></extra>",
         "legendgroup": "Turkmenistan",
         "line": {
          "color": "#636efa",
          "dash": "solid"
         },
         "marker": {
          "symbol": "circle"
         },
         "mode": "lines",
         "name": "Turkmenistan",
         "showlegend": true,
         "type": "scattergl",
         "x": [
          "2010",
          "2016",
          "2017",
          "2019"
         ],
         "xaxis": "x",
         "y": [
          1,
          8,
          18,
          1
         ],
         "yaxis": "y"
        },
        {
         "hovertemplate": "Exporters=Guinea<br>Year=%{x}<br>Quantity (tonnes)=%{y}<extra></extra>",
         "legendgroup": "Guinea",
         "line": {
          "color": "#EF553B",
          "dash": "solid"
         },
         "marker": {
          "symbol": "circle"
         },
         "mode": "lines",
         "name": "Guinea",
         "showlegend": true,
         "type": "scattergl",
         "x": [
          "2010",
          "2011",
          "2012",
          "2013",
          "2014",
          "2015",
          "2016",
          "2020"
         ],
         "xaxis": "x",
         "y": [
          0,
          0,
          0,
          0,
          0,
          0,
          0,
          1
         ],
         "yaxis": "y"
        },
        {
         "hovertemplate": "Exporters=Gibraltar<br>Year=%{x}<br>Quantity (tonnes)=%{y}<extra></extra>",
         "legendgroup": "Gibraltar",
         "line": {
          "color": "#00cc96",
          "dash": "solid"
         },
         "marker": {
          "symbol": "circle"
         },
         "mode": "lines",
         "name": "Gibraltar",
         "showlegend": true,
         "type": "scattergl",
         "x": [
          "2010",
          "2011"
         ],
         "xaxis": "x",
         "y": [
          6,
          1
         ],
         "yaxis": "y"
        },
        {
         "hovertemplate": "Exporters=Palestine, State of<br>Year=%{x}<br>Quantity (tonnes)=%{y}<extra></extra>",
         "legendgroup": "Palestine, State of",
         "line": {
          "color": "#ab63fa",
          "dash": "solid"
         },
         "marker": {
          "symbol": "circle"
         },
         "mode": "lines",
         "name": "Palestine, State of",
         "showlegend": true,
         "type": "scattergl",
         "x": [
          "2010",
          "2011",
          "2012",
          "2013",
          "2014",
          "2015",
          "2016",
          "2017",
          "2018",
          "2019",
          "2020"
         ],
         "xaxis": "x",
         "y": [
          16,
          0,
          0,
          1,
          1,
          0,
          12,
          2,
          0,
          0,
          0
         ],
         "yaxis": "y"
        },
        {
         "hovertemplate": "Exporters=French Polynesia<br>Year=%{x}<br>Quantity (tonnes)=%{y}<extra></extra>",
         "legendgroup": "French Polynesia",
         "line": {
          "color": "#FFA15A",
          "dash": "solid"
         },
         "marker": {
          "symbol": "circle"
         },
         "mode": "lines",
         "name": "French Polynesia",
         "showlegend": true,
         "type": "scattergl",
         "x": [
          "2010",
          "2011",
          "2012",
          "2013",
          "2014",
          "2015",
          "2016",
          "2017",
          "2018",
          "2019",
          "2020"
         ],
         "xaxis": "x",
         "y": [
          1,
          0,
          0,
          0,
          0,
          0,
          0,
          0,
          0,
          0,
          0
         ],
         "yaxis": "y"
        },
        {
         "hovertemplate": "Exporters=Dominica<br>Year=%{x}<br>Quantity (tonnes)=%{y}<extra></extra>",
         "legendgroup": "Dominica",
         "line": {
          "color": "#19d3f3",
          "dash": "solid"
         },
         "marker": {
          "symbol": "circle"
         },
         "mode": "lines",
         "name": "Dominica",
         "showlegend": true,
         "type": "scattergl",
         "x": [
          "2010",
          "2011",
          "2012",
          "2013",
          "2014",
          "2015",
          "2020"
         ],
         "xaxis": "x",
         "y": [
          0,
          0,
          0,
          0,
          0,
          0,
          0
         ],
         "yaxis": "y"
        },
        {
         "hovertemplate": "Exporters=Afghanistan<br>Year=%{x}<br>Quantity (tonnes)=%{y}<extra></extra>",
         "legendgroup": "Afghanistan",
         "line": {
          "color": "#FF6692",
          "dash": "solid"
         },
         "marker": {
          "symbol": "circle"
         },
         "mode": "lines",
         "name": "Afghanistan",
         "showlegend": true,
         "type": "scattergl",
         "x": [
          "2010",
          "2011",
          "2012",
          "2013",
          "2014",
          "2015",
          "2016",
          "2017",
          "2018",
          "2019",
          "2020"
         ],
         "xaxis": "x",
         "y": [
          0,
          0,
          0,
          0,
          0,
          0,
          0,
          0,
          0,
          0,
          0
         ],
         "yaxis": "y"
        },
        {
         "hovertemplate": "Exporters=Albania<br>Year=%{x}<br>Quantity (tonnes)=%{y}<extra></extra>",
         "legendgroup": "Albania",
         "line": {
          "color": "#B6E880",
          "dash": "solid"
         },
         "marker": {
          "symbol": "circle"
         },
         "mode": "lines",
         "name": "Albania",
         "showlegend": true,
         "type": "scattergl",
         "x": [
          "2010",
          "2011",
          "2012",
          "2013",
          "2014",
          "2015",
          "2016",
          "2017",
          "2018",
          "2019",
          "2020"
         ],
         "xaxis": "x",
         "y": [
          0,
          1,
          0,
          0,
          0,
          0,
          0,
          0,
          0,
          0,
          0
         ],
         "yaxis": "y"
        },
        {
         "hovertemplate": "Exporters=Solomon Islands<br>Year=%{x}<br>Quantity (tonnes)=%{y}<extra></extra>",
         "legendgroup": "Solomon Islands",
         "line": {
          "color": "#FF97FF",
          "dash": "solid"
         },
         "marker": {
          "symbol": "circle"
         },
         "mode": "lines",
         "name": "Solomon Islands",
         "showlegend": true,
         "type": "scattergl",
         "x": [
          "2010",
          "2011",
          "2012",
          "2013",
          "2014",
          "2015",
          "2016",
          "2017",
          "2018"
         ],
         "xaxis": "x",
         "y": [
          0,
          0,
          0,
          0,
          0,
          0,
          0,
          0,
          0
         ],
         "yaxis": "y"
        },
        {
         "hovertemplate": "Exporters=Cameroon<br>Year=%{x}<br>Quantity (tonnes)=%{y}<extra></extra>",
         "legendgroup": "Cameroon",
         "line": {
          "color": "#FECB52",
          "dash": "solid"
         },
         "marker": {
          "symbol": "circle"
         },
         "mode": "lines",
         "name": "Cameroon",
         "showlegend": true,
         "type": "scattergl",
         "x": [
          "2010",
          "2011",
          "2012",
          "2013",
          "2014",
          "2015",
          "2016",
          "2017",
          "2018",
          "2019",
          "2020"
         ],
         "xaxis": "x",
         "y": [
          2,
          5,
          0,
          0,
          17,
          0,
          1,
          0,
          0,
          8,
          13
         ],
         "yaxis": "y"
        },
        {
         "hovertemplate": "Exporters=Somalia<br>Year=%{x}<br>Quantity (tonnes)=%{y}<extra></extra>",
         "legendgroup": "Somalia",
         "line": {
          "color": "#636efa",
          "dash": "solid"
         },
         "marker": {
          "symbol": "circle"
         },
         "mode": "lines",
         "name": "Somalia",
         "showlegend": true,
         "type": "scattergl",
         "x": [
          "2010"
         ],
         "xaxis": "x",
         "y": [
          7
         ],
         "yaxis": "y"
        },
        {
         "hovertemplate": "Exporters=Niue<br>Year=%{x}<br>Quantity (tonnes)=%{y}<extra></extra>",
         "legendgroup": "Niue",
         "line": {
          "color": "#EF553B",
          "dash": "solid"
         },
         "marker": {
          "symbol": "circle"
         },
         "mode": "lines",
         "name": "Niue",
         "showlegend": true,
         "type": "scattergl",
         "x": [
          "2010"
         ],
         "xaxis": "x",
         "y": [
          12
         ],
         "yaxis": "y"
        },
        {
         "hovertemplate": "Exporters=New Caledonia<br>Year=%{x}<br>Quantity (tonnes)=%{y}<extra></extra>",
         "legendgroup": "New Caledonia",
         "line": {
          "color": "#00cc96",
          "dash": "solid"
         },
         "marker": {
          "symbol": "circle"
         },
         "mode": "lines",
         "name": "New Caledonia",
         "showlegend": true,
         "type": "scattergl",
         "x": [
          "2010",
          "2011",
          "2012",
          "2013",
          "2014",
          "2015",
          "2017",
          "2018",
          "2019"
         ],
         "xaxis": "x",
         "y": [
          0,
          0,
          0,
          0,
          0,
          0,
          14,
          13,
          25
         ],
         "yaxis": "y"
        },
        {
         "hovertemplate": "Exporters=Vanuatu<br>Year=%{x}<br>Quantity (tonnes)=%{y}<extra></extra>",
         "legendgroup": "Vanuatu",
         "line": {
          "color": "#ab63fa",
          "dash": "solid"
         },
         "marker": {
          "symbol": "circle"
         },
         "mode": "lines",
         "name": "Vanuatu",
         "showlegend": true,
         "type": "scattergl",
         "x": [
          "2010",
          "2011",
          "2014"
         ],
         "xaxis": "x",
         "y": [
          0,
          0,
          0
         ],
         "yaxis": "y"
        },
        {
         "hovertemplate": "Exporters=Lesotho<br>Year=%{x}<br>Quantity (tonnes)=%{y}<extra></extra>",
         "legendgroup": "Lesotho",
         "line": {
          "color": "#FFA15A",
          "dash": "solid"
         },
         "marker": {
          "symbol": "circle"
         },
         "mode": "lines",
         "name": "Lesotho",
         "showlegend": true,
         "type": "scattergl",
         "x": [
          "2010",
          "2011",
          "2012",
          "2013",
          "2014",
          "2015",
          "2016",
          "2017",
          "2018",
          "2019",
          "2020"
         ],
         "xaxis": "x",
         "y": [
          0,
          0,
          0,
          0,
          0,
          0,
          0,
          0,
          0,
          0,
          0
         ],
         "yaxis": "y"
        },
        {
         "hovertemplate": "Exporters=Malawi<br>Year=%{x}<br>Quantity (tonnes)=%{y}<extra></extra>",
         "legendgroup": "Malawi",
         "line": {
          "color": "#19d3f3",
          "dash": "solid"
         },
         "marker": {
          "symbol": "circle"
         },
         "mode": "lines",
         "name": "Malawi",
         "showlegend": true,
         "type": "scattergl",
         "x": [
          "2010",
          "2011",
          "2012",
          "2013",
          "2014",
          "2015",
          "2016",
          "2017",
          "2018",
          "2019",
          "2020"
         ],
         "xaxis": "x",
         "y": [
          3,
          1,
          0,
          0,
          0,
          0,
          0,
          7,
          0,
          0,
          0
         ],
         "yaxis": "y"
        },
        {
         "hovertemplate": "Exporters=Libya, State of<br>Year=%{x}<br>Quantity (tonnes)=%{y}<extra></extra>",
         "legendgroup": "Libya, State of",
         "line": {
          "color": "#FF6692",
          "dash": "solid"
         },
         "marker": {
          "symbol": "circle"
         },
         "mode": "lines",
         "name": "Libya, State of",
         "showlegend": true,
         "type": "scattergl",
         "x": [
          "2010",
          "2015",
          "2016",
          "2017",
          "2018",
          "2019"
         ],
         "xaxis": "x",
         "y": [
          0,
          4,
          0,
          0,
          0,
          0
         ],
         "yaxis": "y"
        },
        {
         "hovertemplate": "Exporters=Mali<br>Year=%{x}<br>Quantity (tonnes)=%{y}<extra></extra>",
         "legendgroup": "Mali",
         "line": {
          "color": "#B6E880",
          "dash": "solid"
         },
         "marker": {
          "symbol": "circle"
         },
         "mode": "lines",
         "name": "Mali",
         "showlegend": true,
         "type": "scattergl",
         "x": [
          "2010",
          "2011",
          "2012",
          "2016",
          "2017",
          "2018",
          "2019"
         ],
         "xaxis": "x",
         "y": [
          0,
          0,
          0,
          0,
          5,
          3,
          7
         ],
         "yaxis": "y"
        },
        {
         "hovertemplate": "Exporters=Netherlands Antilles<br>Year=%{x}<br>Quantity (tonnes)=%{y}<extra></extra>",
         "legendgroup": "Netherlands Antilles",
         "line": {
          "color": "#FF97FF",
          "dash": "solid"
         },
         "marker": {
          "symbol": "circle"
         },
         "mode": "lines",
         "name": "Netherlands Antilles",
         "showlegend": true,
         "type": "scattergl",
         "x": [
          "2010"
         ],
         "xaxis": "x",
         "y": [
          0
         ],
         "yaxis": "y"
        },
        {
         "hovertemplate": "Exporters=Ship stores and bunkers<br>Year=%{x}<br>Quantity (tonnes)=%{y}<extra></extra>",
         "legendgroup": "Ship stores and bunkers",
         "line": {
          "color": "#FECB52",
          "dash": "solid"
         },
         "marker": {
          "symbol": "circle"
         },
         "mode": "lines",
         "name": "Ship stores and bunkers",
         "showlegend": true,
         "type": "scattergl",
         "x": [
          "2011"
         ],
         "xaxis": "x",
         "y": [
          0
         ],
         "yaxis": "y"
        },
        {
         "hovertemplate": "Exporters=Turks and Caicos Islands<br>Year=%{x}<br>Quantity (tonnes)=%{y}<extra></extra>",
         "legendgroup": "Turks and Caicos Islands",
         "line": {
          "color": "#636efa",
          "dash": "solid"
         },
         "marker": {
          "symbol": "circle"
         },
         "mode": "lines",
         "name": "Turks and Caicos Islands",
         "showlegend": true,
         "type": "scattergl",
         "x": [
          "2011",
          "2012",
          "2014"
         ],
         "xaxis": "x",
         "y": [
          0,
          0,
          22
         ],
         "yaxis": "y"
        },
        {
         "hovertemplate": "Exporters=British Virgin Islands<br>Year=%{x}<br>Quantity (tonnes)=%{y}<extra></extra>",
         "legendgroup": "British Virgin Islands",
         "line": {
          "color": "#EF553B",
          "dash": "solid"
         },
         "marker": {
          "symbol": "circle"
         },
         "mode": "lines",
         "name": "British Virgin Islands",
         "showlegend": true,
         "type": "scattergl",
         "x": [
          "2011"
         ],
         "xaxis": "x",
         "y": [
          6
         ],
         "yaxis": "y"
        },
        {
         "hovertemplate": "Exporters=United Arab Emirates<br>Year=%{x}<br>Quantity (tonnes)=%{y}<extra></extra>",
         "legendgroup": "United Arab Emirates",
         "line": {
          "color": "#00cc96",
          "dash": "solid"
         },
         "marker": {
          "symbol": "circle"
         },
         "mode": "lines",
         "name": "United Arab Emirates",
         "showlegend": true,
         "type": "scattergl",
         "x": [
          "2012",
          "2013",
          "2014",
          "2015",
          "2016",
          "2017",
          "2018",
          "2019",
          "2020",
          "2021"
         ],
         "xaxis": "x",
         "y": [
          5536,
          4617,
          5140,
          3768,
          1731,
          928,
          5118,
          14248,
          3610,
          2057
         ],
         "yaxis": "y"
        },
        {
         "hovertemplate": "Exporters=Sudan<br>Year=%{x}<br>Quantity (tonnes)=%{y}<extra></extra>",
         "legendgroup": "Sudan",
         "line": {
          "color": "#ab63fa",
          "dash": "solid"
         },
         "marker": {
          "symbol": "circle"
         },
         "mode": "lines",
         "name": "Sudan",
         "showlegend": true,
         "type": "scattergl",
         "x": [
          "2012",
          "2013",
          "2014",
          "2015",
          "2016",
          "2017",
          "2018",
          "2020",
          "2021"
         ],
         "xaxis": "x",
         "y": [
          0,
          0,
          0,
          0,
          0,
          0,
          0,
          0,
          2
         ],
         "yaxis": "y"
        },
        {
         "hovertemplate": "Exporters=Bermuda<br>Year=%{x}<br>Quantity (tonnes)=%{y}<extra></extra>",
         "legendgroup": "Bermuda",
         "line": {
          "color": "#FFA15A",
          "dash": "solid"
         },
         "marker": {
          "symbol": "circle"
         },
         "mode": "lines",
         "name": "Bermuda",
         "showlegend": true,
         "type": "scattergl",
         "x": [
          "2012",
          "2013",
          "2014",
          "2015",
          "2016",
          "2017",
          "2018",
          "2019",
          "2020",
          "2021"
         ],
         "xaxis": "x",
         "y": [
          12,
          0,
          0,
          0,
          0,
          0,
          0,
          1,
          0,
          0
         ],
         "yaxis": "y"
        },
        {
         "hovertemplate": "Exporters=Saint Lucia<br>Year=%{x}<br>Quantity (tonnes)=%{y}<extra></extra>",
         "legendgroup": "Saint Lucia",
         "line": {
          "color": "#19d3f3",
          "dash": "solid"
         },
         "marker": {
          "symbol": "circle"
         },
         "mode": "lines",
         "name": "Saint Lucia",
         "showlegend": true,
         "type": "scattergl",
         "x": [
          "2012",
          "2013",
          "2014",
          "2015",
          "2016",
          "2017",
          "2018",
          "2019",
          "2020"
         ],
         "xaxis": "x",
         "y": [
          0,
          0,
          0,
          0,
          0,
          0,
          0,
          0,
          0
         ],
         "yaxis": "y"
        },
        {
         "hovertemplate": "Exporters=Haiti<br>Year=%{x}<br>Quantity (tonnes)=%{y}<extra></extra>",
         "legendgroup": "Haiti",
         "line": {
          "color": "#FF6692",
          "dash": "solid"
         },
         "marker": {
          "symbol": "circle"
         },
         "mode": "lines",
         "name": "Haiti",
         "showlegend": true,
         "type": "scattergl",
         "x": [
          "2013",
          "2014",
          "2015",
          "2016",
          "2017",
          "2018",
          "2019",
          "2020",
          "2021"
         ],
         "xaxis": "x",
         "y": [
          9,
          6,
          2,
          17,
          41,
          1,
          30,
          1,
          1
         ],
         "yaxis": "y"
        },
        {
         "hovertemplate": "Exporters=Iraq<br>Year=%{x}<br>Quantity (tonnes)=%{y}<extra></extra>",
         "legendgroup": "Iraq",
         "line": {
          "color": "#B6E880",
          "dash": "solid"
         },
         "marker": {
          "symbol": "circle"
         },
         "mode": "lines",
         "name": "Iraq",
         "showlegend": true,
         "type": "scattergl",
         "x": [
          "2014",
          "2015",
          "2020"
         ],
         "xaxis": "x",
         "y": [
          0,
          6,
          10
         ],
         "yaxis": "y"
        },
        {
         "hovertemplate": "Exporters=Sierra Leone<br>Year=%{x}<br>Quantity (tonnes)=%{y}<extra></extra>",
         "legendgroup": "Sierra Leone",
         "line": {
          "color": "#FF97FF",
          "dash": "solid"
         },
         "marker": {
          "symbol": "circle"
         },
         "mode": "lines",
         "name": "Sierra Leone",
         "showlegend": true,
         "type": "scattergl",
         "x": [
          "2014",
          "2015",
          "2016",
          "2017",
          "2018",
          "2019"
         ],
         "xaxis": "x",
         "y": [
          0,
          0,
          0,
          12,
          0,
          21
         ],
         "yaxis": "y"
        },
        {
         "hovertemplate": "Exporters=Congo, Democratic Republic of the<br>Year=%{x}<br>Quantity (tonnes)=%{y}<extra></extra>",
         "legendgroup": "Congo, Democratic Republic of the",
         "line": {
          "color": "#FECB52",
          "dash": "solid"
         },
         "marker": {
          "symbol": "circle"
         },
         "mode": "lines",
         "name": "Congo, Democratic Republic of the",
         "showlegend": true,
         "type": "scattergl",
         "x": [
          "2015",
          "2016",
          "2017",
          "2018",
          "2019",
          "2020",
          "2021"
         ],
         "xaxis": "x",
         "y": [
          0,
          0,
          1,
          0,
          1,
          0,
          1
         ],
         "yaxis": "y"
        },
        {
         "hovertemplate": "Exporters=Djibouti<br>Year=%{x}<br>Quantity (tonnes)=%{y}<extra></extra>",
         "legendgroup": "Djibouti",
         "line": {
          "color": "#636efa",
          "dash": "solid"
         },
         "marker": {
          "symbol": "circle"
         },
         "mode": "lines",
         "name": "Djibouti",
         "showlegend": true,
         "type": "scattergl",
         "x": [
          "2015"
         ],
         "xaxis": "x",
         "y": [
          4
         ],
         "yaxis": "y"
        },
        {
         "hovertemplate": "Exporters=Uzbekistan<br>Year=%{x}<br>Quantity (tonnes)=%{y}<extra></extra>",
         "legendgroup": "Uzbekistan",
         "line": {
          "color": "#EF553B",
          "dash": "solid"
         },
         "marker": {
          "symbol": "circle"
         },
         "mode": "lines",
         "name": "Uzbekistan",
         "showlegend": true,
         "type": "scattergl",
         "x": [
          "2017",
          "2018",
          "2019",
          "2020",
          "2021"
         ],
         "xaxis": "x",
         "y": [
          20,
          7,
          45,
          37,
          145
         ],
         "yaxis": "y"
        },
        {
         "hovertemplate": "Exporters=Curaçao<br>Year=%{x}<br>Quantity (tonnes)=%{y}<extra></extra>",
         "legendgroup": "Curaçao",
         "line": {
          "color": "#00cc96",
          "dash": "solid"
         },
         "marker": {
          "symbol": "circle"
         },
         "mode": "lines",
         "name": "Curaçao",
         "showlegend": true,
         "type": "scattergl",
         "x": [
          "2017",
          "2018",
          "2019",
          "2020",
          "2021"
         ],
         "xaxis": "x",
         "y": [
          0,
          0,
          0,
          0,
          3
         ],
         "yaxis": "y"
        },
        {
         "hovertemplate": "Exporters=American Samoa<br>Year=%{x}<br>Quantity (tonnes)=%{y}<extra></extra>",
         "legendgroup": "American Samoa",
         "line": {
          "color": "#ab63fa",
          "dash": "solid"
         },
         "marker": {
          "symbol": "circle"
         },
         "mode": "lines",
         "name": "American Samoa",
         "showlegend": true,
         "type": "scattergl",
         "x": [
          "2018"
         ],
         "xaxis": "x",
         "y": [
          1
         ],
         "yaxis": "y"
        }
       ],
       "layout": {
        "legend": {
         "title": {
          "text": "Exporters"
         },
         "tracegroupgap": 0
        },
        "template": {
         "data": {
          "bar": [
           {
            "error_x": {
             "color": "#2a3f5f"
            },
            "error_y": {
             "color": "#2a3f5f"
            },
            "marker": {
             "line": {
              "color": "#E5ECF6",
              "width": 0.5
             },
             "pattern": {
              "fillmode": "overlay",
              "size": 10,
              "solidity": 0.2
             }
            },
            "type": "bar"
           }
          ],
          "barpolar": [
           {
            "marker": {
             "line": {
              "color": "#E5ECF6",
              "width": 0.5
             },
             "pattern": {
              "fillmode": "overlay",
              "size": 10,
              "solidity": 0.2
             }
            },
            "type": "barpolar"
           }
          ],
          "carpet": [
           {
            "aaxis": {
             "endlinecolor": "#2a3f5f",
             "gridcolor": "white",
             "linecolor": "white",
             "minorgridcolor": "white",
             "startlinecolor": "#2a3f5f"
            },
            "baxis": {
             "endlinecolor": "#2a3f5f",
             "gridcolor": "white",
             "linecolor": "white",
             "minorgridcolor": "white",
             "startlinecolor": "#2a3f5f"
            },
            "type": "carpet"
           }
          ],
          "choropleth": [
           {
            "colorbar": {
             "outlinewidth": 0,
             "ticks": ""
            },
            "type": "choropleth"
           }
          ],
          "contour": [
           {
            "colorbar": {
             "outlinewidth": 0,
             "ticks": ""
            },
            "colorscale": [
             [
              0,
              "#0d0887"
             ],
             [
              0.1111111111111111,
              "#46039f"
             ],
             [
              0.2222222222222222,
              "#7201a8"
             ],
             [
              0.3333333333333333,
              "#9c179e"
             ],
             [
              0.4444444444444444,
              "#bd3786"
             ],
             [
              0.5555555555555556,
              "#d8576b"
             ],
             [
              0.6666666666666666,
              "#ed7953"
             ],
             [
              0.7777777777777778,
              "#fb9f3a"
             ],
             [
              0.8888888888888888,
              "#fdca26"
             ],
             [
              1,
              "#f0f921"
             ]
            ],
            "type": "contour"
           }
          ],
          "contourcarpet": [
           {
            "colorbar": {
             "outlinewidth": 0,
             "ticks": ""
            },
            "type": "contourcarpet"
           }
          ],
          "heatmap": [
           {
            "colorbar": {
             "outlinewidth": 0,
             "ticks": ""
            },
            "colorscale": [
             [
              0,
              "#0d0887"
             ],
             [
              0.1111111111111111,
              "#46039f"
             ],
             [
              0.2222222222222222,
              "#7201a8"
             ],
             [
              0.3333333333333333,
              "#9c179e"
             ],
             [
              0.4444444444444444,
              "#bd3786"
             ],
             [
              0.5555555555555556,
              "#d8576b"
             ],
             [
              0.6666666666666666,
              "#ed7953"
             ],
             [
              0.7777777777777778,
              "#fb9f3a"
             ],
             [
              0.8888888888888888,
              "#fdca26"
             ],
             [
              1,
              "#f0f921"
             ]
            ],
            "type": "heatmap"
           }
          ],
          "heatmapgl": [
           {
            "colorbar": {
             "outlinewidth": 0,
             "ticks": ""
            },
            "colorscale": [
             [
              0,
              "#0d0887"
             ],
             [
              0.1111111111111111,
              "#46039f"
             ],
             [
              0.2222222222222222,
              "#7201a8"
             ],
             [
              0.3333333333333333,
              "#9c179e"
             ],
             [
              0.4444444444444444,
              "#bd3786"
             ],
             [
              0.5555555555555556,
              "#d8576b"
             ],
             [
              0.6666666666666666,
              "#ed7953"
             ],
             [
              0.7777777777777778,
              "#fb9f3a"
             ],
             [
              0.8888888888888888,
              "#fdca26"
             ],
             [
              1,
              "#f0f921"
             ]
            ],
            "type": "heatmapgl"
           }
          ],
          "histogram": [
           {
            "marker": {
             "pattern": {
              "fillmode": "overlay",
              "size": 10,
              "solidity": 0.2
             }
            },
            "type": "histogram"
           }
          ],
          "histogram2d": [
           {
            "colorbar": {
             "outlinewidth": 0,
             "ticks": ""
            },
            "colorscale": [
             [
              0,
              "#0d0887"
             ],
             [
              0.1111111111111111,
              "#46039f"
             ],
             [
              0.2222222222222222,
              "#7201a8"
             ],
             [
              0.3333333333333333,
              "#9c179e"
             ],
             [
              0.4444444444444444,
              "#bd3786"
             ],
             [
              0.5555555555555556,
              "#d8576b"
             ],
             [
              0.6666666666666666,
              "#ed7953"
             ],
             [
              0.7777777777777778,
              "#fb9f3a"
             ],
             [
              0.8888888888888888,
              "#fdca26"
             ],
             [
              1,
              "#f0f921"
             ]
            ],
            "type": "histogram2d"
           }
          ],
          "histogram2dcontour": [
           {
            "colorbar": {
             "outlinewidth": 0,
             "ticks": ""
            },
            "colorscale": [
             [
              0,
              "#0d0887"
             ],
             [
              0.1111111111111111,
              "#46039f"
             ],
             [
              0.2222222222222222,
              "#7201a8"
             ],
             [
              0.3333333333333333,
              "#9c179e"
             ],
             [
              0.4444444444444444,
              "#bd3786"
             ],
             [
              0.5555555555555556,
              "#d8576b"
             ],
             [
              0.6666666666666666,
              "#ed7953"
             ],
             [
              0.7777777777777778,
              "#fb9f3a"
             ],
             [
              0.8888888888888888,
              "#fdca26"
             ],
             [
              1,
              "#f0f921"
             ]
            ],
            "type": "histogram2dcontour"
           }
          ],
          "mesh3d": [
           {
            "colorbar": {
             "outlinewidth": 0,
             "ticks": ""
            },
            "type": "mesh3d"
           }
          ],
          "parcoords": [
           {
            "line": {
             "colorbar": {
              "outlinewidth": 0,
              "ticks": ""
             }
            },
            "type": "parcoords"
           }
          ],
          "pie": [
           {
            "automargin": true,
            "type": "pie"
           }
          ],
          "scatter": [
           {
            "marker": {
             "colorbar": {
              "outlinewidth": 0,
              "ticks": ""
             }
            },
            "type": "scatter"
           }
          ],
          "scatter3d": [
           {
            "line": {
             "colorbar": {
              "outlinewidth": 0,
              "ticks": ""
             }
            },
            "marker": {
             "colorbar": {
              "outlinewidth": 0,
              "ticks": ""
             }
            },
            "type": "scatter3d"
           }
          ],
          "scattercarpet": [
           {
            "marker": {
             "colorbar": {
              "outlinewidth": 0,
              "ticks": ""
             }
            },
            "type": "scattercarpet"
           }
          ],
          "scattergeo": [
           {
            "marker": {
             "colorbar": {
              "outlinewidth": 0,
              "ticks": ""
             }
            },
            "type": "scattergeo"
           }
          ],
          "scattergl": [
           {
            "marker": {
             "colorbar": {
              "outlinewidth": 0,
              "ticks": ""
             }
            },
            "type": "scattergl"
           }
          ],
          "scattermapbox": [
           {
            "marker": {
             "colorbar": {
              "outlinewidth": 0,
              "ticks": ""
             }
            },
            "type": "scattermapbox"
           }
          ],
          "scatterpolar": [
           {
            "marker": {
             "colorbar": {
              "outlinewidth": 0,
              "ticks": ""
             }
            },
            "type": "scatterpolar"
           }
          ],
          "scatterpolargl": [
           {
            "marker": {
             "colorbar": {
              "outlinewidth": 0,
              "ticks": ""
             }
            },
            "type": "scatterpolargl"
           }
          ],
          "scatterternary": [
           {
            "marker": {
             "colorbar": {
              "outlinewidth": 0,
              "ticks": ""
             }
            },
            "type": "scatterternary"
           }
          ],
          "surface": [
           {
            "colorbar": {
             "outlinewidth": 0,
             "ticks": ""
            },
            "colorscale": [
             [
              0,
              "#0d0887"
             ],
             [
              0.1111111111111111,
              "#46039f"
             ],
             [
              0.2222222222222222,
              "#7201a8"
             ],
             [
              0.3333333333333333,
              "#9c179e"
             ],
             [
              0.4444444444444444,
              "#bd3786"
             ],
             [
              0.5555555555555556,
              "#d8576b"
             ],
             [
              0.6666666666666666,
              "#ed7953"
             ],
             [
              0.7777777777777778,
              "#fb9f3a"
             ],
             [
              0.8888888888888888,
              "#fdca26"
             ],
             [
              1,
              "#f0f921"
             ]
            ],
            "type": "surface"
           }
          ],
          "table": [
           {
            "cells": {
             "fill": {
              "color": "#EBF0F8"
             },
             "line": {
              "color": "white"
             }
            },
            "header": {
             "fill": {
              "color": "#C8D4E3"
             },
             "line": {
              "color": "white"
             }
            },
            "type": "table"
           }
          ]
         },
         "layout": {
          "annotationdefaults": {
           "arrowcolor": "#2a3f5f",
           "arrowhead": 0,
           "arrowwidth": 1
          },
          "autotypenumbers": "strict",
          "coloraxis": {
           "colorbar": {
            "outlinewidth": 0,
            "ticks": ""
           }
          },
          "colorscale": {
           "diverging": [
            [
             0,
             "#8e0152"
            ],
            [
             0.1,
             "#c51b7d"
            ],
            [
             0.2,
             "#de77ae"
            ],
            [
             0.3,
             "#f1b6da"
            ],
            [
             0.4,
             "#fde0ef"
            ],
            [
             0.5,
             "#f7f7f7"
            ],
            [
             0.6,
             "#e6f5d0"
            ],
            [
             0.7,
             "#b8e186"
            ],
            [
             0.8,
             "#7fbc41"
            ],
            [
             0.9,
             "#4d9221"
            ],
            [
             1,
             "#276419"
            ]
           ],
           "sequential": [
            [
             0,
             "#0d0887"
            ],
            [
             0.1111111111111111,
             "#46039f"
            ],
            [
             0.2222222222222222,
             "#7201a8"
            ],
            [
             0.3333333333333333,
             "#9c179e"
            ],
            [
             0.4444444444444444,
             "#bd3786"
            ],
            [
             0.5555555555555556,
             "#d8576b"
            ],
            [
             0.6666666666666666,
             "#ed7953"
            ],
            [
             0.7777777777777778,
             "#fb9f3a"
            ],
            [
             0.8888888888888888,
             "#fdca26"
            ],
            [
             1,
             "#f0f921"
            ]
           ],
           "sequentialminus": [
            [
             0,
             "#0d0887"
            ],
            [
             0.1111111111111111,
             "#46039f"
            ],
            [
             0.2222222222222222,
             "#7201a8"
            ],
            [
             0.3333333333333333,
             "#9c179e"
            ],
            [
             0.4444444444444444,
             "#bd3786"
            ],
            [
             0.5555555555555556,
             "#d8576b"
            ],
            [
             0.6666666666666666,
             "#ed7953"
            ],
            [
             0.7777777777777778,
             "#fb9f3a"
            ],
            [
             0.8888888888888888,
             "#fdca26"
            ],
            [
             1,
             "#f0f921"
            ]
           ]
          },
          "colorway": [
           "#636efa",
           "#EF553B",
           "#00cc96",
           "#ab63fa",
           "#FFA15A",
           "#19d3f3",
           "#FF6692",
           "#B6E880",
           "#FF97FF",
           "#FECB52"
          ],
          "font": {
           "color": "#2a3f5f"
          },
          "geo": {
           "bgcolor": "white",
           "lakecolor": "white",
           "landcolor": "#E5ECF6",
           "showlakes": true,
           "showland": true,
           "subunitcolor": "white"
          },
          "hoverlabel": {
           "align": "left"
          },
          "hovermode": "closest",
          "mapbox": {
           "style": "light"
          },
          "paper_bgcolor": "white",
          "plot_bgcolor": "#E5ECF6",
          "polar": {
           "angularaxis": {
            "gridcolor": "white",
            "linecolor": "white",
            "ticks": ""
           },
           "bgcolor": "#E5ECF6",
           "radialaxis": {
            "gridcolor": "white",
            "linecolor": "white",
            "ticks": ""
           }
          },
          "scene": {
           "xaxis": {
            "backgroundcolor": "#E5ECF6",
            "gridcolor": "white",
            "gridwidth": 2,
            "linecolor": "white",
            "showbackground": true,
            "ticks": "",
            "zerolinecolor": "white"
           },
           "yaxis": {
            "backgroundcolor": "#E5ECF6",
            "gridcolor": "white",
            "gridwidth": 2,
            "linecolor": "white",
            "showbackground": true,
            "ticks": "",
            "zerolinecolor": "white"
           },
           "zaxis": {
            "backgroundcolor": "#E5ECF6",
            "gridcolor": "white",
            "gridwidth": 2,
            "linecolor": "white",
            "showbackground": true,
            "ticks": "",
            "zerolinecolor": "white"
           }
          },
          "shapedefaults": {
           "line": {
            "color": "#2a3f5f"
           }
          },
          "ternary": {
           "aaxis": {
            "gridcolor": "white",
            "linecolor": "white",
            "ticks": ""
           },
           "baxis": {
            "gridcolor": "white",
            "linecolor": "white",
            "ticks": ""
           },
           "bgcolor": "#E5ECF6",
           "caxis": {
            "gridcolor": "white",
            "linecolor": "white",
            "ticks": ""
           }
          },
          "title": {
           "x": 0.05
          },
          "xaxis": {
           "automargin": true,
           "gridcolor": "white",
           "linecolor": "white",
           "ticks": "",
           "title": {
            "standoff": 15
           },
           "zerolinecolor": "white",
           "zerolinewidth": 2
          },
          "yaxis": {
           "automargin": true,
           "gridcolor": "white",
           "linecolor": "white",
           "ticks": "",
           "title": {
            "standoff": 15
           },
           "zerolinecolor": "white",
           "zerolinewidth": 2
          }
         }
        },
        "title": {
         "text": "Butter Export Quantities - All Countries"
        },
        "xaxis": {
         "anchor": "y",
         "domain": [
          0,
          1
         ],
         "title": {
          "text": "Year"
         }
        },
        "yaxis": {
         "anchor": "x",
         "domain": [
          0,
          1
         ],
         "title": {
          "text": "Quantity (tonnes)"
         }
        }
       }
      },
      "text/html": [
       "<div>                            <div id=\"6ea60e6e-de7a-4db7-9613-123a0eabde1b\" class=\"plotly-graph-div\" style=\"height:525px; width:100%;\"></div>            <script type=\"text/javascript\">                require([\"plotly\"], function(Plotly) {                    window.PLOTLYENV=window.PLOTLYENV || {};                                    if (document.getElementById(\"6ea60e6e-de7a-4db7-9613-123a0eabde1b\")) {                    Plotly.newPlot(                        \"6ea60e6e-de7a-4db7-9613-123a0eabde1b\",                        [{\"hovertemplate\":\"Exporters=Netherlands<br>Year=%{x}<br>Quantity (tonnes)=%{y}<extra></extra>\",\"legendgroup\":\"Netherlands\",\"line\":{\"color\":\"#636efa\",\"dash\":\"solid\"},\"marker\":{\"symbol\":\"circle\"},\"mode\":\"lines\",\"name\":\"Netherlands\",\"showlegend\":true,\"x\":[\"2010\",\"2011\",\"2012\",\"2013\",\"2014\",\"2015\",\"2016\",\"2017\",\"2018\",\"2019\",\"2020\",\"2021\"],\"xaxis\":\"x\",\"y\":[138693.0,141021.0,172551.0,175908.0,181423.0,191954.0,228026.0,222106.0,218488.0,237042.0,251917.0,272105.0],\"yaxis\":\"y\",\"type\":\"scattergl\"},{\"hovertemplate\":\"Exporters=Ireland<br>Year=%{x}<br>Quantity (tonnes)=%{y}<extra></extra>\",\"legendgroup\":\"Ireland\",\"line\":{\"color\":\"#EF553B\",\"dash\":\"solid\"},\"marker\":{\"symbol\":\"circle\"},\"mode\":\"lines\",\"name\":\"Ireland\",\"showlegend\":true,\"x\":[\"2010\",\"2011\",\"2012\",\"2013\",\"2014\",\"2015\",\"2016\",\"2017\",\"2018\",\"2019\",\"2020\",\"2021\"],\"xaxis\":\"x\",\"y\":[130068.0,138898.0,140547.0,152629.0,141914.0,176444.0,185560.0,198444.0,218804.0,257186.0,289292.0,272013.0],\"yaxis\":\"y\",\"type\":\"scattergl\"},{\"hovertemplate\":\"Exporters=New Zealand<br>Year=%{x}<br>Quantity (tonnes)=%{y}<extra></extra>\",\"legendgroup\":\"New Zealand\",\"line\":{\"color\":\"#00cc96\",\"dash\":\"solid\"},\"marker\":{\"symbol\":\"circle\"},\"mode\":\"lines\",\"name\":\"New Zealand\",\"showlegend\":true,\"x\":[\"2010\",\"2011\",\"2012\",\"2013\",\"2014\",\"2015\",\"2016\",\"2017\",\"2018\",\"2019\",\"2020\",\"2021\"],\"xaxis\":\"x\",\"y\":[245393.0,254906.0,265711.0,259878.0,296759.0,291884.0,297476.0,269147.0,273223.0,280773.0,242003.0,241038.0],\"yaxis\":\"y\",\"type\":\"scattergl\"},{\"hovertemplate\":\"Exporters=Germany<br>Year=%{x}<br>Quantity (tonnes)=%{y}<extra></extra>\",\"legendgroup\":\"Germany\",\"line\":{\"color\":\"#ab63fa\",\"dash\":\"solid\"},\"marker\":{\"symbol\":\"circle\"},\"mode\":\"lines\",\"name\":\"Germany\",\"showlegend\":true,\"x\":[\"2010\",\"2011\",\"2012\",\"2013\",\"2014\",\"2015\",\"2016\",\"2017\",\"2018\",\"2019\",\"2020\",\"2021\"],\"xaxis\":\"x\",\"y\":[110900.0,89595.0,99833.0,122346.0,129422.0,135736.0,129008.0,125805.0,116785.0,135311.0,133137.0,129049.0],\"yaxis\":\"y\",\"type\":\"scattergl\"},{\"hovertemplate\":\"Exporters=Belgium<br>Year=%{x}<br>Quantity (tonnes)=%{y}<extra></extra>\",\"legendgroup\":\"Belgium\",\"line\":{\"color\":\"#FFA15A\",\"dash\":\"solid\"},\"marker\":{\"symbol\":\"circle\"},\"mode\":\"lines\",\"name\":\"Belgium\",\"showlegend\":true,\"x\":[\"2010\",\"2011\",\"2012\",\"2013\",\"2014\",\"2015\",\"2016\",\"2017\",\"2018\",\"2019\",\"2020\",\"2021\"],\"xaxis\":\"x\",\"y\":[74627.0,69003.0,77290.0,78941.0,92940.0,95357.0,113618.0,105189.0,117726.0,116988.0,116471.0,126608.0],\"yaxis\":\"y\",\"type\":\"scattergl\"},{\"hovertemplate\":\"Exporters=Belarus<br>Year=%{x}<br>Quantity (tonnes)=%{y}<extra></extra>\",\"legendgroup\":\"Belarus\",\"line\":{\"color\":\"#19d3f3\",\"dash\":\"solid\"},\"marker\":{\"symbol\":\"circle\"},\"mode\":\"lines\",\"name\":\"Belarus\",\"showlegend\":true,\"x\":[\"2010\",\"2011\",\"2012\",\"2013\",\"2014\",\"2015\",\"2016\",\"2017\",\"2018\",\"2019\",\"2020\",\"2021\"],\"xaxis\":\"x\",\"y\":[45282.0,45238.0,53926.0,49857.0,55270.0,69600.0,76581.0,72939.0,77619.0,67130.0,68264.0,77382.0],\"yaxis\":\"y\",\"type\":\"scattergl\"},{\"hovertemplate\":\"Exporters=France<br>Year=%{x}<br>Quantity (tonnes)=%{y}<extra></extra>\",\"legendgroup\":\"France\",\"line\":{\"color\":\"#FF6692\",\"dash\":\"solid\"},\"marker\":{\"symbol\":\"circle\"},\"mode\":\"lines\",\"name\":\"France\",\"showlegend\":true,\"x\":[\"2010\",\"2011\",\"2012\",\"2013\",\"2014\",\"2015\",\"2016\",\"2017\",\"2018\",\"2019\",\"2020\",\"2021\"],\"xaxis\":\"x\",\"y\":[53480.0,53208.0,59423.0,58947.0,69359.0,76003.0,72132.0,72307.0,69930.0,71509.0,72401.0,76153.0],\"yaxis\":\"y\",\"type\":\"scattergl\"},{\"hovertemplate\":\"Exporters=Denmark<br>Year=%{x}<br>Quantity (tonnes)=%{y}<extra></extra>\",\"legendgroup\":\"Denmark\",\"line\":{\"color\":\"#B6E880\",\"dash\":\"solid\"},\"marker\":{\"symbol\":\"circle\"},\"mode\":\"lines\",\"name\":\"Denmark\",\"showlegend\":true,\"x\":[\"2010\",\"2011\",\"2012\",\"2013\",\"2014\",\"2015\",\"2016\",\"2017\",\"2018\",\"2019\",\"2020\",\"2021\"],\"xaxis\":\"x\",\"y\":[55978.0,50350.0,44780.0,37385.0,33935.0,37861.0,38920.0,37246.0,52780.0,51515.0,49526.0,52838.0],\"yaxis\":\"y\",\"type\":\"scattergl\"},{\"hovertemplate\":\"Exporters=Poland<br>Year=%{x}<br>Quantity (tonnes)=%{y}<extra></extra>\",\"legendgroup\":\"Poland\",\"line\":{\"color\":\"#FF97FF\",\"dash\":\"solid\"},\"marker\":{\"symbol\":\"circle\"},\"mode\":\"lines\",\"name\":\"Poland\",\"showlegend\":true,\"x\":[\"2010\",\"2011\",\"2012\",\"2013\",\"2014\",\"2015\",\"2016\",\"2017\",\"2018\",\"2019\",\"2020\",\"2021\"],\"xaxis\":\"x\",\"y\":[24090.0,31931.0,29561.0,29930.0,32046.0,36978.0,40820.0,49809.0,61865.0,52985.0,55255.0,46851.0],\"yaxis\":\"y\",\"type\":\"scattergl\"},{\"hovertemplate\":\"Exporters=United States of America<br>Year=%{x}<br>Quantity (tonnes)=%{y}<extra></extra>\",\"legendgroup\":\"United States of America\",\"line\":{\"color\":\"#FECB52\",\"dash\":\"solid\"},\"marker\":{\"symbol\":\"circle\"},\"mode\":\"lines\",\"name\":\"United States of America\",\"showlegend\":true,\"x\":[\"2010\",\"2011\",\"2012\",\"2013\",\"2014\",\"2015\",\"2016\",\"2017\",\"2018\",\"2019\",\"2020\",\"2021\"],\"xaxis\":\"x\",\"y\":[45492.0,52457.0,43807.0,82468.0,59636.0,18331.0,17631.0,22845.0,27407.0,21457.0,21620.0,45028.0],\"yaxis\":\"y\",\"type\":\"scattergl\"},{\"hovertemplate\":\"Exporters=United Kingdom<br>Year=%{x}<br>Quantity (tonnes)=%{y}<extra></extra>\",\"legendgroup\":\"United Kingdom\",\"line\":{\"color\":\"#636efa\",\"dash\":\"solid\"},\"marker\":{\"symbol\":\"circle\"},\"mode\":\"lines\",\"name\":\"United Kingdom\",\"showlegend\":true,\"x\":[\"2010\",\"2011\",\"2012\",\"2013\",\"2014\",\"2015\",\"2016\",\"2017\",\"2018\",\"2019\",\"2020\",\"2021\"],\"xaxis\":\"x\",\"y\":[15312.0,15825.0,14859.0,18084.0,24629.0,26019.0,41841.0,33347.0,40269.0,40269.0,41051.0,36809.0],\"yaxis\":\"y\",\"type\":\"scattergl\"},{\"hovertemplate\":\"Exporters=Australia<br>Year=%{x}<br>Quantity (tonnes)=%{y}<extra></extra>\",\"legendgroup\":\"Australia\",\"line\":{\"color\":\"#EF553B\",\"dash\":\"solid\"},\"marker\":{\"symbol\":\"circle\"},\"mode\":\"lines\",\"name\":\"Australia\",\"showlegend\":true,\"x\":[\"2010\",\"2011\",\"2012\",\"2013\",\"2014\",\"2015\",\"2016\",\"2017\",\"2018\",\"2019\",\"2020\",\"2021\"],\"xaxis\":\"x\",\"y\":[37315.0,24354.0,41141.0,39536.0,35225.0,22940.0,20939.0,10637.0,10132.0,11510.0,11652.0,17449.0],\"yaxis\":\"y\",\"type\":\"scattergl\"},{\"hovertemplate\":\"Exporters=Argentina<br>Year=%{x}<br>Quantity (tonnes)=%{y}<extra></extra>\",\"legendgroup\":\"Argentina\",\"line\":{\"color\":\"#00cc96\",\"dash\":\"solid\"},\"marker\":{\"symbol\":\"circle\"},\"mode\":\"lines\",\"name\":\"Argentina\",\"showlegend\":true,\"x\":[\"2010\",\"2011\",\"2012\",\"2013\",\"2014\",\"2015\",\"2016\",\"2017\",\"2018\",\"2019\",\"2020\",\"2021\"],\"xaxis\":\"x\",\"y\":[10477.0,19345.0,17123.0,12997.0,9717.0,7590.0,4052.0,3029.0,5240.0,9217.0,14127.0,15893.0],\"yaxis\":\"y\",\"type\":\"scattergl\"},{\"hovertemplate\":\"Exporters=Portugal<br>Year=%{x}<br>Quantity (tonnes)=%{y}<extra></extra>\",\"legendgroup\":\"Portugal\",\"line\":{\"color\":\"#ab63fa\",\"dash\":\"solid\"},\"marker\":{\"symbol\":\"circle\"},\"mode\":\"lines\",\"name\":\"Portugal\",\"showlegend\":true,\"x\":[\"2010\",\"2011\",\"2012\",\"2013\",\"2014\",\"2015\",\"2016\",\"2017\",\"2018\",\"2019\",\"2020\",\"2021\"],\"xaxis\":\"x\",\"y\":[21595.0,13197.0,17940.0,13848.0,13282.0,18699.0,17597.0,15261.0,14541.0,13159.0,13090.0,15323.0],\"yaxis\":\"y\",\"type\":\"scattergl\"},{\"hovertemplate\":\"Exporters=Italy<br>Year=%{x}<br>Quantity (tonnes)=%{y}<extra></extra>\",\"legendgroup\":\"Italy\",\"line\":{\"color\":\"#FFA15A\",\"dash\":\"solid\"},\"marker\":{\"symbol\":\"circle\"},\"mode\":\"lines\",\"name\":\"Italy\",\"showlegend\":true,\"x\":[\"2010\",\"2011\",\"2012\",\"2013\",\"2014\",\"2015\",\"2016\",\"2017\",\"2018\",\"2019\",\"2020\",\"2021\"],\"xaxis\":\"x\",\"y\":[26784.0,8880.0,8307.0,7102.0,3095.0,7565.0,7132.0,6585.0,9394.0,10388.0,13226.0,14495.0],\"yaxis\":\"y\",\"type\":\"scattergl\"},{\"hovertemplate\":\"Exporters=Uruguay<br>Year=%{x}<br>Quantity (tonnes)=%{y}<extra></extra>\",\"legendgroup\":\"Uruguay\",\"line\":{\"color\":\"#19d3f3\",\"dash\":\"solid\"},\"marker\":{\"symbol\":\"circle\"},\"mode\":\"lines\",\"name\":\"Uruguay\",\"showlegend\":true,\"x\":[\"2010\",\"2011\",\"2012\",\"2013\",\"2014\",\"2015\",\"2016\",\"2017\",\"2018\",\"2019\",\"2020\",\"2021\"],\"xaxis\":\"x\",\"y\":[9877.0,15530.0,30679.0,23164.0,20767.0,20542.0,11845.0,9645.0,13491.0,13044.0,13474.0,11940.0],\"yaxis\":\"y\",\"type\":\"scattergl\"},{\"hovertemplate\":\"Exporters=Spain<br>Year=%{x}<br>Quantity (tonnes)=%{y}<extra></extra>\",\"legendgroup\":\"Spain\",\"line\":{\"color\":\"#FF6692\",\"dash\":\"solid\"},\"marker\":{\"symbol\":\"circle\"},\"mode\":\"lines\",\"name\":\"Spain\",\"showlegend\":true,\"x\":[\"2010\",\"2011\",\"2012\",\"2013\",\"2014\",\"2015\",\"2016\",\"2017\",\"2018\",\"2019\",\"2020\",\"2021\"],\"xaxis\":\"x\",\"y\":[30405.0,14650.0,14487.0,13262.0,12256.0,14200.0,13637.0,12340.0,10230.0,11741.0,7967.0,10741.0],\"yaxis\":\"y\",\"type\":\"scattergl\"},{\"hovertemplate\":\"Exporters=Ukraine<br>Year=%{x}<br>Quantity (tonnes)=%{y}<extra></extra>\",\"legendgroup\":\"Ukraine\",\"line\":{\"color\":\"#B6E880\",\"dash\":\"solid\"},\"marker\":{\"symbol\":\"circle\"},\"mode\":\"lines\",\"name\":\"Ukraine\",\"showlegend\":true,\"x\":[\"2010\",\"2011\",\"2012\",\"2013\",\"2014\",\"2015\",\"2016\",\"2017\",\"2018\",\"2019\",\"2020\",\"2021\"],\"xaxis\":\"x\",\"y\":[440.0,1162.0,469.0,3232.0,5277.0,9985.0,9021.0,26995.0,28556.0,16023.0,9370.0,9252.0],\"yaxis\":\"y\",\"type\":\"scattergl\"},{\"hovertemplate\":\"Exporters=India<br>Year=%{x}<br>Quantity (tonnes)=%{y}<extra></extra>\",\"legendgroup\":\"India\",\"line\":{\"color\":\"#FF97FF\",\"dash\":\"solid\"},\"marker\":{\"symbol\":\"circle\"},\"mode\":\"lines\",\"name\":\"India\",\"showlegend\":true,\"x\":[\"2010\",\"2011\",\"2012\",\"2013\",\"2014\",\"2015\",\"2016\",\"2017\",\"2018\",\"2019\",\"2020\",\"2021\"],\"xaxis\":\"x\",\"y\":[4386.0,3491.0,858.0,3368.0,2656.0,1778.0,1275.0,5704.0,15911.0,29878.0,5020.0,8052.0],\"yaxis\":\"y\",\"type\":\"scattergl\"},{\"hovertemplate\":\"Exporters=Lithuania<br>Year=%{x}<br>Quantity (tonnes)=%{y}<extra></extra>\",\"legendgroup\":\"Lithuania\",\"line\":{\"color\":\"#FECB52\",\"dash\":\"solid\"},\"marker\":{\"symbol\":\"circle\"},\"mode\":\"lines\",\"name\":\"Lithuania\",\"showlegend\":true,\"x\":[\"2010\",\"2011\",\"2012\",\"2013\",\"2014\",\"2015\",\"2016\",\"2017\",\"2018\",\"2019\",\"2020\",\"2021\"],\"xaxis\":\"x\",\"y\":[2850.0,3003.0,5522.0,5805.0,9861.0,6536.0,10647.0,5121.0,5262.0,4353.0,6417.0,5737.0],\"yaxis\":\"y\",\"type\":\"scattergl\"},{\"hovertemplate\":\"Exporters=Austria<br>Year=%{x}<br>Quantity (tonnes)=%{y}<extra></extra>\",\"legendgroup\":\"Austria\",\"line\":{\"color\":\"#636efa\",\"dash\":\"solid\"},\"marker\":{\"symbol\":\"circle\"},\"mode\":\"lines\",\"name\":\"Austria\",\"showlegend\":true,\"x\":[\"2010\",\"2011\",\"2012\",\"2013\",\"2014\",\"2015\",\"2016\",\"2017\",\"2018\",\"2019\",\"2020\",\"2021\"],\"xaxis\":\"x\",\"y\":[1451.0,1335.0,1784.0,1680.0,1904.0,3848.0,4389.0,3689.0,3545.0,4218.0,3812.0,4552.0],\"yaxis\":\"y\",\"type\":\"scattergl\"},{\"hovertemplate\":\"Exporters=Kyrgyzstan<br>Year=%{x}<br>Quantity (tonnes)=%{y}<extra></extra>\",\"legendgroup\":\"Kyrgyzstan\",\"line\":{\"color\":\"#EF553B\",\"dash\":\"solid\"},\"marker\":{\"symbol\":\"circle\"},\"mode\":\"lines\",\"name\":\"Kyrgyzstan\",\"showlegend\":true,\"x\":[\"2010\",\"2011\",\"2012\",\"2013\",\"2014\",\"2015\",\"2016\",\"2017\",\"2018\",\"2019\",\"2020\",\"2021\"],\"xaxis\":\"x\",\"y\":[1563.0,683.0,876.0,590.0,521.0,540.0,1999.0,2993.0,2456.0,3480.0,4980.0,4141.0],\"yaxis\":\"y\",\"type\":\"scattergl\"},{\"hovertemplate\":\"Exporters=Iran, Islamic Republic of<br>Year=%{x}<br>Quantity (tonnes)=%{y}<extra></extra>\",\"legendgroup\":\"Iran, Islamic Republic of\",\"line\":{\"color\":\"#00cc96\",\"dash\":\"solid\"},\"marker\":{\"symbol\":\"circle\"},\"mode\":\"lines\",\"name\":\"Iran, Islamic Republic of\",\"showlegend\":true,\"x\":[\"2010\",\"2011\",\"2012\",\"2013\",\"2014\",\"2015\",\"2016\",\"2017\",\"2018\",\"2019\",\"2020\",\"2021\"],\"xaxis\":\"x\",\"y\":[1340.0,1632.0,1113.0,0.0,437.0,521.0,682.0,880.0,1020.0,51.0,64.0,4068.0],\"yaxis\":\"y\",\"type\":\"scattergl\"},{\"hovertemplate\":\"Exporters=Kazakhstan<br>Year=%{x}<br>Quantity (tonnes)=%{y}<extra></extra>\",\"legendgroup\":\"Kazakhstan\",\"line\":{\"color\":\"#ab63fa\",\"dash\":\"solid\"},\"marker\":{\"symbol\":\"circle\"},\"mode\":\"lines\",\"name\":\"Kazakhstan\",\"showlegend\":true,\"x\":[\"2010\",\"2011\",\"2012\",\"2013\",\"2014\",\"2015\",\"2016\",\"2017\",\"2018\",\"2019\",\"2020\",\"2021\"],\"xaxis\":\"x\",\"y\":[12.0,12.0,28.0,191.0,63.0,3099.0,264.0,216.0,1577.0,2324.0,1395.0,4056.0],\"yaxis\":\"y\",\"type\":\"scattergl\"},{\"hovertemplate\":\"Exporters=T\\u00fcrkiye<br>Year=%{x}<br>Quantity (tonnes)=%{y}<extra></extra>\",\"legendgroup\":\"T\\u00fcrkiye\",\"line\":{\"color\":\"#FFA15A\",\"dash\":\"solid\"},\"marker\":{\"symbol\":\"circle\"},\"mode\":\"lines\",\"name\":\"T\\u00fcrkiye\",\"showlegend\":true,\"x\":[\"2010\",\"2011\",\"2012\",\"2013\",\"2014\",\"2015\",\"2016\",\"2017\",\"2018\",\"2019\",\"2020\",\"2021\"],\"xaxis\":\"x\",\"y\":[212.0,551.0,298.0,874.0,730.0,300.0,263.0,1046.0,451.0,4318.0,2198.0,3239.0],\"yaxis\":\"y\",\"type\":\"scattergl\"},{\"hovertemplate\":\"Exporters=Saudi Arabia<br>Year=%{x}<br>Quantity (tonnes)=%{y}<extra></extra>\",\"legendgroup\":\"Saudi Arabia\",\"line\":{\"color\":\"#19d3f3\",\"dash\":\"solid\"},\"marker\":{\"symbol\":\"circle\"},\"mode\":\"lines\",\"name\":\"Saudi Arabia\",\"showlegend\":true,\"x\":[\"2010\",\"2011\",\"2012\",\"2013\",\"2014\",\"2015\",\"2016\",\"2017\",\"2018\",\"2019\",\"2020\",\"2021\"],\"xaxis\":\"x\",\"y\":[2108.0,1809.0,2249.0,2509.0,1970.0,2311.0,2116.0,2556.0,2390.0,2310.0,3205.0,2964.0],\"yaxis\":\"y\",\"type\":\"scattergl\"},{\"hovertemplate\":\"Exporters=Russian Federation<br>Year=%{x}<br>Quantity (tonnes)=%{y}<extra></extra>\",\"legendgroup\":\"Russian Federation\",\"line\":{\"color\":\"#FF6692\",\"dash\":\"solid\"},\"marker\":{\"symbol\":\"circle\"},\"mode\":\"lines\",\"name\":\"Russian Federation\",\"showlegend\":true,\"x\":[\"2010\",\"2011\",\"2012\",\"2013\",\"2014\",\"2015\",\"2016\",\"2017\",\"2018\",\"2019\",\"2020\",\"2021\"],\"xaxis\":\"x\",\"y\":[1249.0,1183.0,3045.0,2069.0,4375.0,3138.0,3767.0,2817.0,2451.0,1608.0,3203.0,2690.0],\"yaxis\":\"y\",\"type\":\"scattergl\"},{\"hovertemplate\":\"Exporters=Sweden<br>Year=%{x}<br>Quantity (tonnes)=%{y}<extra></extra>\",\"legendgroup\":\"Sweden\",\"line\":{\"color\":\"#B6E880\",\"dash\":\"solid\"},\"marker\":{\"symbol\":\"circle\"},\"mode\":\"lines\",\"name\":\"Sweden\",\"showlegend\":true,\"x\":[\"2010\",\"2011\",\"2012\",\"2013\",\"2014\",\"2015\",\"2016\",\"2017\",\"2018\",\"2019\",\"2020\",\"2021\"],\"xaxis\":\"x\",\"y\":[4681.0,1421.0,1944.0,3270.0,1339.0,612.0,580.0,1146.0,2943.0,1586.0,2267.0,2518.0],\"yaxis\":\"y\",\"type\":\"scattergl\"},{\"hovertemplate\":\"Exporters=Ghana<br>Year=%{x}<br>Quantity (tonnes)=%{y}<extra></extra>\",\"legendgroup\":\"Ghana\",\"line\":{\"color\":\"#FF97FF\",\"dash\":\"solid\"},\"marker\":{\"symbol\":\"circle\"},\"mode\":\"lines\",\"name\":\"Ghana\",\"showlegend\":true,\"x\":[\"2010\",\"2011\",\"2012\",\"2013\",\"2014\",\"2015\",\"2016\",\"2017\",\"2018\",\"2019\",\"2020\",\"2021\"],\"xaxis\":\"x\",\"y\":[45.0,317.0,76.0,132.0,144.0,430.0,296.0,131.0,28.0,63.0,1924.0,1999.0],\"yaxis\":\"y\",\"type\":\"scattergl\"},{\"hovertemplate\":\"Exporters=South Africa<br>Year=%{x}<br>Quantity (tonnes)=%{y}<extra></extra>\",\"legendgroup\":\"South Africa\",\"line\":{\"color\":\"#FECB52\",\"dash\":\"solid\"},\"marker\":{\"symbol\":\"circle\"},\"mode\":\"lines\",\"name\":\"South Africa\",\"showlegend\":true,\"x\":[\"2010\",\"2011\",\"2012\",\"2013\",\"2014\",\"2015\",\"2016\",\"2017\",\"2018\",\"2019\",\"2020\",\"2021\"],\"xaxis\":\"x\",\"y\":[2788.0,2406.0,3120.0,1929.0,3708.0,2494.0,1953.0,1174.0,1814.0,1832.0,1777.0,1801.0],\"yaxis\":\"y\",\"type\":\"scattergl\"},{\"hovertemplate\":\"Exporters=Costa Rica<br>Year=%{x}<br>Quantity (tonnes)=%{y}<extra></extra>\",\"legendgroup\":\"Costa Rica\",\"line\":{\"color\":\"#636efa\",\"dash\":\"solid\"},\"marker\":{\"symbol\":\"circle\"},\"mode\":\"lines\",\"name\":\"Costa Rica\",\"showlegend\":true,\"x\":[\"2010\",\"2011\",\"2012\",\"2013\",\"2014\",\"2015\",\"2016\",\"2017\",\"2018\",\"2019\",\"2020\",\"2021\"],\"xaxis\":\"x\",\"y\":[1025.0,867.0,1050.0,1219.0,1312.0,1606.0,897.0,1217.0,1233.0,1181.0,1340.0,1744.0],\"yaxis\":\"y\",\"type\":\"scattergl\"},{\"hovertemplate\":\"Exporters=Hong Kong, China<br>Year=%{x}<br>Quantity (tonnes)=%{y}<extra></extra>\",\"legendgroup\":\"Hong Kong, China\",\"line\":{\"color\":\"#EF553B\",\"dash\":\"solid\"},\"marker\":{\"symbol\":\"circle\"},\"mode\":\"lines\",\"name\":\"Hong Kong, China\",\"showlegend\":true,\"x\":[\"2010\",\"2011\",\"2012\",\"2013\",\"2014\",\"2015\",\"2016\",\"2017\",\"2018\",\"2019\",\"2020\",\"2021\"],\"xaxis\":\"x\",\"y\":[895.0,952.0,753.0,947.0,828.0,977.0,1392.0,947.0,834.0,1016.0,724.0,1520.0],\"yaxis\":\"y\",\"type\":\"scattergl\"},{\"hovertemplate\":\"Exporters=China<br>Year=%{x}<br>Quantity (tonnes)=%{y}<extra></extra>\",\"legendgroup\":\"China\",\"line\":{\"color\":\"#00cc96\",\"dash\":\"solid\"},\"marker\":{\"symbol\":\"circle\"},\"mode\":\"lines\",\"name\":\"China\",\"showlegend\":true,\"x\":[\"2010\",\"2011\",\"2012\",\"2013\",\"2014\",\"2015\",\"2016\",\"2017\",\"2018\",\"2019\",\"2020\",\"2021\"],\"xaxis\":\"x\",\"y\":[3000.0,3261.0,2550.0,426.0,1734.0,917.0,673.0,904.0,1380.0,1907.0,980.0,1386.0],\"yaxis\":\"y\",\"type\":\"scattergl\"},{\"hovertemplate\":\"Exporters=Singapore<br>Year=%{x}<br>Quantity (tonnes)=%{y}<extra></extra>\",\"legendgroup\":\"Singapore\",\"line\":{\"color\":\"#ab63fa\",\"dash\":\"solid\"},\"marker\":{\"symbol\":\"circle\"},\"mode\":\"lines\",\"name\":\"Singapore\",\"showlegend\":true,\"x\":[\"2010\",\"2011\",\"2012\",\"2013\",\"2014\",\"2015\",\"2016\",\"2017\",\"2018\",\"2019\",\"2020\",\"2021\"],\"xaxis\":\"x\",\"y\":[1805.0,2445.0,3776.0,5201.0,5746.0,5812.0,3970.0,1976.0,1484.0,1970.0,1175.0,1328.0],\"yaxis\":\"y\",\"type\":\"scattergl\"},{\"hovertemplate\":\"Exporters=Malaysia<br>Year=%{x}<br>Quantity (tonnes)=%{y}<extra></extra>\",\"legendgroup\":\"Malaysia\",\"line\":{\"color\":\"#FFA15A\",\"dash\":\"solid\"},\"marker\":{\"symbol\":\"circle\"},\"mode\":\"lines\",\"name\":\"Malaysia\",\"showlegend\":true,\"x\":[\"2010\",\"2011\",\"2012\",\"2013\",\"2014\",\"2015\",\"2016\",\"2017\",\"2018\",\"2019\",\"2020\",\"2021\"],\"xaxis\":\"x\",\"y\":[966.0,655.0,866.0,981.0,1825.0,1600.0,3823.0,3567.0,2682.0,940.0,1070.0,1316.0],\"yaxis\":\"y\",\"type\":\"scattergl\"},{\"hovertemplate\":\"Exporters=Slovakia<br>Year=%{x}<br>Quantity (tonnes)=%{y}<extra></extra>\",\"legendgroup\":\"Slovakia\",\"line\":{\"color\":\"#19d3f3\",\"dash\":\"solid\"},\"marker\":{\"symbol\":\"circle\"},\"mode\":\"lines\",\"name\":\"Slovakia\",\"showlegend\":true,\"x\":[\"2010\",\"2011\",\"2012\",\"2013\",\"2014\",\"2015\",\"2016\",\"2017\",\"2018\",\"2019\",\"2020\",\"2021\"],\"xaxis\":\"x\",\"y\":[1849.0,1664.0,1552.0,2035.0,2367.0,2779.0,1830.0,1152.0,1284.0,906.0,1079.0,1174.0],\"yaxis\":\"y\",\"type\":\"scattergl\"},{\"hovertemplate\":\"Exporters=Luxembourg<br>Year=%{x}<br>Quantity (tonnes)=%{y}<extra></extra>\",\"legendgroup\":\"Luxembourg\",\"line\":{\"color\":\"#FF6692\",\"dash\":\"solid\"},\"marker\":{\"symbol\":\"circle\"},\"mode\":\"lines\",\"name\":\"Luxembourg\",\"showlegend\":true,\"x\":[\"2010\",\"2011\",\"2012\",\"2013\",\"2014\",\"2015\",\"2016\",\"2017\",\"2018\",\"2019\",\"2020\",\"2021\"],\"xaxis\":\"x\",\"y\":[2838.0,2952.0,2698.0,2403.0,2563.0,1566.0,509.0,536.0,720.0,948.0,751.0,1165.0],\"yaxis\":\"y\",\"type\":\"scattergl\"},{\"hovertemplate\":\"Exporters=Colombia<br>Year=%{x}<br>Quantity (tonnes)=%{y}<extra></extra>\",\"legendgroup\":\"Colombia\",\"line\":{\"color\":\"#B6E880\",\"dash\":\"solid\"},\"marker\":{\"symbol\":\"circle\"},\"mode\":\"lines\",\"name\":\"Colombia\",\"showlegend\":true,\"x\":[\"2010\",\"2011\",\"2012\",\"2013\",\"2014\",\"2015\",\"2016\",\"2017\",\"2018\",\"2019\",\"2020\",\"2021\"],\"xaxis\":\"x\",\"y\":[175.0,113.0,0.0,50.0,213.0,93.0,0.0,498.0,868.0,259.0,1101.0,1078.0],\"yaxis\":\"y\",\"type\":\"scattergl\"},{\"hovertemplate\":\"Exporters=Paraguay<br>Year=%{x}<br>Quantity (tonnes)=%{y}<extra></extra>\",\"legendgroup\":\"Paraguay\",\"line\":{\"color\":\"#FF97FF\",\"dash\":\"solid\"},\"marker\":{\"symbol\":\"circle\"},\"mode\":\"lines\",\"name\":\"Paraguay\",\"showlegend\":true,\"x\":[\"2010\",\"2011\",\"2012\",\"2013\",\"2014\",\"2015\",\"2016\",\"2017\",\"2018\",\"2019\",\"2020\",\"2021\"],\"xaxis\":\"x\",\"y\":[67.0,34.0,418.0,527.0,449.0,384.0,193.0,422.0,504.0,486.0,881.0,1068.0],\"yaxis\":\"y\",\"type\":\"scattergl\"},{\"hovertemplate\":\"Exporters=Honduras<br>Year=%{x}<br>Quantity (tonnes)=%{y}<extra></extra>\",\"legendgroup\":\"Honduras\",\"line\":{\"color\":\"#FECB52\",\"dash\":\"solid\"},\"marker\":{\"symbol\":\"circle\"},\"mode\":\"lines\",\"name\":\"Honduras\",\"showlegend\":true,\"x\":[\"2010\",\"2011\",\"2012\",\"2013\",\"2014\",\"2015\",\"2016\",\"2017\",\"2018\",\"2019\",\"2020\",\"2021\"],\"xaxis\":\"x\",\"y\":[855.0,661.0,554.0,505.0,1423.0,792.0,1342.0,877.0,438.0,507.0,992.0,1000.0],\"yaxis\":\"y\",\"type\":\"scattergl\"},{\"hovertemplate\":\"Exporters=Estonia<br>Year=%{x}<br>Quantity (tonnes)=%{y}<extra></extra>\",\"legendgroup\":\"Estonia\",\"line\":{\"color\":\"#636efa\",\"dash\":\"solid\"},\"marker\":{\"symbol\":\"circle\"},\"mode\":\"lines\",\"name\":\"Estonia\",\"showlegend\":true,\"x\":[\"2010\",\"2011\",\"2012\",\"2013\",\"2014\",\"2015\",\"2016\",\"2017\",\"2018\",\"2019\",\"2020\",\"2021\"],\"xaxis\":\"x\",\"y\":[4315.0,4210.0,1479.0,2523.0,2307.0,1588.0,1545.0,1124.0,895.0,772.0,1276.0,869.0],\"yaxis\":\"y\",\"type\":\"scattergl\"},{\"hovertemplate\":\"Exporters=Bahrain<br>Year=%{x}<br>Quantity (tonnes)=%{y}<extra></extra>\",\"legendgroup\":\"Bahrain\",\"line\":{\"color\":\"#EF553B\",\"dash\":\"solid\"},\"marker\":{\"symbol\":\"circle\"},\"mode\":\"lines\",\"name\":\"Bahrain\",\"showlegend\":true,\"x\":[\"2010\",\"2011\",\"2012\",\"2013\",\"2014\",\"2015\",\"2016\",\"2017\",\"2018\",\"2019\",\"2020\",\"2021\"],\"xaxis\":\"x\",\"y\":[3.0,1.0,2.0,4.0,4.0,57.0,4.0,38.0,56.0,13.0,6.0,718.0],\"yaxis\":\"y\",\"type\":\"scattergl\"},{\"hovertemplate\":\"Exporters=Croatia<br>Year=%{x}<br>Quantity (tonnes)=%{y}<extra></extra>\",\"legendgroup\":\"Croatia\",\"line\":{\"color\":\"#00cc96\",\"dash\":\"solid\"},\"marker\":{\"symbol\":\"circle\"},\"mode\":\"lines\",\"name\":\"Croatia\",\"showlegend\":true,\"x\":[\"2010\",\"2011\",\"2012\",\"2013\",\"2014\",\"2015\",\"2016\",\"2017\",\"2018\",\"2019\",\"2020\",\"2021\"],\"xaxis\":\"x\",\"y\":[419.0,450.0,514.0,389.0,470.0,358.0,343.0,504.0,586.0,668.0,640.0,605.0],\"yaxis\":\"y\",\"type\":\"scattergl\"},{\"hovertemplate\":\"Exporters=Brazil<br>Year=%{x}<br>Quantity (tonnes)=%{y}<extra></extra>\",\"legendgroup\":\"Brazil\",\"line\":{\"color\":\"#ab63fa\",\"dash\":\"solid\"},\"marker\":{\"symbol\":\"circle\"},\"mode\":\"lines\",\"name\":\"Brazil\",\"showlegend\":true,\"x\":[\"2010\",\"2011\",\"2012\",\"2013\",\"2014\",\"2015\",\"2016\",\"2017\",\"2018\",\"2019\",\"2020\",\"2021\"],\"xaxis\":\"x\",\"y\":[4404.0,1125.0,614.0,371.0,4314.0,926.0,80.0,182.0,123.0,399.0,325.0,580.0],\"yaxis\":\"y\",\"type\":\"scattergl\"},{\"hovertemplate\":\"Exporters=Bulgaria<br>Year=%{x}<br>Quantity (tonnes)=%{y}<extra></extra>\",\"legendgroup\":\"Bulgaria\",\"line\":{\"color\":\"#FFA15A\",\"dash\":\"solid\"},\"marker\":{\"symbol\":\"circle\"},\"mode\":\"lines\",\"name\":\"Bulgaria\",\"showlegend\":true,\"x\":[\"2010\",\"2011\",\"2012\",\"2013\",\"2014\",\"2015\",\"2016\",\"2017\",\"2018\",\"2019\",\"2020\",\"2021\"],\"xaxis\":\"x\",\"y\":[869.0,713.0,642.0,465.0,529.0,516.0,605.0,549.0,487.0,588.0,446.0,508.0],\"yaxis\":\"y\",\"type\":\"scattergl\"},{\"hovertemplate\":\"Exporters=Burkina Faso<br>Year=%{x}<br>Quantity (tonnes)=%{y}<extra></extra>\",\"legendgroup\":\"Burkina Faso\",\"line\":{\"color\":\"#19d3f3\",\"dash\":\"solid\"},\"marker\":{\"symbol\":\"circle\"},\"mode\":\"lines\",\"name\":\"Burkina Faso\",\"showlegend\":true,\"x\":[\"2010\",\"2011\",\"2012\",\"2013\",\"2014\",\"2015\",\"2016\",\"2017\",\"2018\",\"2019\",\"2020\",\"2021\"],\"xaxis\":\"x\",\"y\":[0.0,0.0,0.0,0.0,0.0,0.0,0.0,0.0,0.0,0.0,0.0,493.0],\"yaxis\":\"y\",\"type\":\"scattergl\"},{\"hovertemplate\":\"Exporters=Romania<br>Year=%{x}<br>Quantity (tonnes)=%{y}<extra></extra>\",\"legendgroup\":\"Romania\",\"line\":{\"color\":\"#FF6692\",\"dash\":\"solid\"},\"marker\":{\"symbol\":\"circle\"},\"mode\":\"lines\",\"name\":\"Romania\",\"showlegend\":true,\"x\":[\"2010\",\"2011\",\"2012\",\"2013\",\"2014\",\"2015\",\"2016\",\"2017\",\"2018\",\"2019\",\"2020\",\"2021\"],\"xaxis\":\"x\",\"y\":[388.0,323.0,413.0,301.0,286.0,729.0,455.0,493.0,504.0,204.0,323.0,486.0],\"yaxis\":\"y\",\"type\":\"scattergl\"},{\"hovertemplate\":\"Exporters=Latvia<br>Year=%{x}<br>Quantity (tonnes)=%{y}<extra></extra>\",\"legendgroup\":\"Latvia\",\"line\":{\"color\":\"#B6E880\",\"dash\":\"solid\"},\"marker\":{\"symbol\":\"circle\"},\"mode\":\"lines\",\"name\":\"Latvia\",\"showlegend\":true,\"x\":[\"2010\",\"2011\",\"2012\",\"2013\",\"2014\",\"2015\",\"2016\",\"2017\",\"2018\",\"2019\",\"2020\",\"2021\"],\"xaxis\":\"x\",\"y\":[2957.0,2753.0,2052.0,4288.0,3919.0,2777.0,3629.0,2259.0,783.0,610.0,900.0,448.0],\"yaxis\":\"y\",\"type\":\"scattergl\"},{\"hovertemplate\":\"Exporters=Thailand<br>Year=%{x}<br>Quantity (tonnes)=%{y}<extra></extra>\",\"legendgroup\":\"Thailand\",\"line\":{\"color\":\"#FF97FF\",\"dash\":\"solid\"},\"marker\":{\"symbol\":\"circle\"},\"mode\":\"lines\",\"name\":\"Thailand\",\"showlegend\":true,\"x\":[\"2010\",\"2011\",\"2012\",\"2013\",\"2014\",\"2015\",\"2016\",\"2017\",\"2018\",\"2019\",\"2020\",\"2021\"],\"xaxis\":\"x\",\"y\":[61.0,66.0,33.0,18.0,22.0,233.0,227.0,437.0,667.0,480.0,335.0,404.0],\"yaxis\":\"y\",\"type\":\"scattergl\"},{\"hovertemplate\":\"Exporters=Serbia<br>Year=%{x}<br>Quantity (tonnes)=%{y}<extra></extra>\",\"legendgroup\":\"Serbia\",\"line\":{\"color\":\"#FECB52\",\"dash\":\"solid\"},\"marker\":{\"symbol\":\"circle\"},\"mode\":\"lines\",\"name\":\"Serbia\",\"showlegend\":true,\"x\":[\"2010\",\"2011\",\"2012\",\"2013\",\"2014\",\"2015\",\"2016\",\"2017\",\"2018\",\"2019\",\"2020\",\"2021\"],\"xaxis\":\"x\",\"y\":[108.0,49.0,173.0,167.0,149.0,197.0,184.0,205.0,185.0,204.0,223.0,300.0],\"yaxis\":\"y\",\"type\":\"scattergl\"},{\"hovertemplate\":\"Exporters=Greece<br>Year=%{x}<br>Quantity (tonnes)=%{y}<extra></extra>\",\"legendgroup\":\"Greece\",\"line\":{\"color\":\"#636efa\",\"dash\":\"solid\"},\"marker\":{\"symbol\":\"circle\"},\"mode\":\"lines\",\"name\":\"Greece\",\"showlegend\":true,\"x\":[\"2010\",\"2011\",\"2012\",\"2013\",\"2014\",\"2015\",\"2016\",\"2017\",\"2018\",\"2019\",\"2020\",\"2021\"],\"xaxis\":\"x\",\"y\":[22.0,35.0,52.0,165.0,236.0,256.0,209.0,163.0,297.0,253.0,326.0,294.0],\"yaxis\":\"y\",\"type\":\"scattergl\"},{\"hovertemplate\":\"Exporters=Tunisia<br>Year=%{x}<br>Quantity (tonnes)=%{y}<extra></extra>\",\"legendgroup\":\"Tunisia\",\"line\":{\"color\":\"#EF553B\",\"dash\":\"solid\"},\"marker\":{\"symbol\":\"circle\"},\"mode\":\"lines\",\"name\":\"Tunisia\",\"showlegend\":true,\"x\":[\"2010\",\"2011\",\"2012\",\"2013\",\"2014\",\"2015\",\"2016\",\"2017\",\"2018\",\"2019\",\"2020\",\"2021\"],\"xaxis\":\"x\",\"y\":[0.0,70.0,0.0,0.0,0.0,5.0,8.0,151.0,77.0,0.0,5.0,287.0],\"yaxis\":\"y\",\"type\":\"scattergl\"},{\"hovertemplate\":\"Exporters=Hungary<br>Year=%{x}<br>Quantity (tonnes)=%{y}<extra></extra>\",\"legendgroup\":\"Hungary\",\"line\":{\"color\":\"#00cc96\",\"dash\":\"solid\"},\"marker\":{\"symbol\":\"circle\"},\"mode\":\"lines\",\"name\":\"Hungary\",\"showlegend\":true,\"x\":[\"2010\",\"2011\",\"2012\",\"2013\",\"2014\",\"2015\",\"2016\",\"2017\",\"2018\",\"2019\",\"2020\",\"2021\"],\"xaxis\":\"x\",\"y\":[689.0,669.0,369.0,426.0,651.0,243.0,399.0,231.0,248.0,161.0,1019.0,279.0],\"yaxis\":\"y\",\"type\":\"scattergl\"},{\"hovertemplate\":\"Exporters=Iceland<br>Year=%{x}<br>Quantity (tonnes)=%{y}<extra></extra>\",\"legendgroup\":\"Iceland\",\"line\":{\"color\":\"#ab63fa\",\"dash\":\"solid\"},\"marker\":{\"symbol\":\"circle\"},\"mode\":\"lines\",\"name\":\"Iceland\",\"showlegend\":true,\"x\":[\"2010\",\"2011\",\"2012\",\"2013\",\"2014\",\"2015\",\"2016\",\"2017\",\"2018\",\"2019\",\"2020\",\"2021\"],\"xaxis\":\"x\",\"y\":[515.0,512.0,550.0,162.0,1.0,2.0,447.0,87.0,304.0,198.0,235.0,274.0],\"yaxis\":\"y\",\"type\":\"scattergl\"},{\"hovertemplate\":\"Exporters=Azerbaijan<br>Year=%{x}<br>Quantity (tonnes)=%{y}<extra></extra>\",\"legendgroup\":\"Azerbaijan\",\"line\":{\"color\":\"#FFA15A\",\"dash\":\"solid\"},\"marker\":{\"symbol\":\"circle\"},\"mode\":\"lines\",\"name\":\"Azerbaijan\",\"showlegend\":true,\"x\":[\"2010\",\"2011\",\"2012\",\"2013\",\"2014\",\"2015\",\"2016\",\"2017\",\"2018\",\"2019\",\"2020\",\"2021\"],\"xaxis\":\"x\",\"y\":[0.0,0.0,0.0,158.0,10.0,249.0,107.0,435.0,234.0,1573.0,388.0,256.0],\"yaxis\":\"y\",\"type\":\"scattergl\"},{\"hovertemplate\":\"Exporters=Armenia<br>Year=%{x}<br>Quantity (tonnes)=%{y}<extra></extra>\",\"legendgroup\":\"Armenia\",\"line\":{\"color\":\"#19d3f3\",\"dash\":\"solid\"},\"marker\":{\"symbol\":\"circle\"},\"mode\":\"lines\",\"name\":\"Armenia\",\"showlegend\":true,\"x\":[\"2010\",\"2011\",\"2012\",\"2013\",\"2014\",\"2015\",\"2016\",\"2017\",\"2018\",\"2019\",\"2020\",\"2021\"],\"xaxis\":\"x\",\"y\":[0.0,0.0,0.0,37.0,120.0,36.0,0.0,9.0,16.0,64.0,42.0,170.0],\"yaxis\":\"y\",\"type\":\"scattergl\"},{\"hovertemplate\":\"Exporters=Kuwait<br>Year=%{x}<br>Quantity (tonnes)=%{y}<extra></extra>\",\"legendgroup\":\"Kuwait\",\"line\":{\"color\":\"#FF6692\",\"dash\":\"solid\"},\"marker\":{\"symbol\":\"circle\"},\"mode\":\"lines\",\"name\":\"Kuwait\",\"showlegend\":true,\"x\":[\"2010\",\"2011\",\"2012\",\"2013\",\"2014\",\"2015\",\"2016\",\"2017\",\"2018\",\"2019\",\"2020\",\"2021\"],\"xaxis\":\"x\",\"y\":[216.0,126.0,100.0,348.0,222.0,277.0,236.0,158.0,219.0,13.0,120.0,169.0],\"yaxis\":\"y\",\"type\":\"scattergl\"},{\"hovertemplate\":\"Exporters=Uganda<br>Year=%{x}<br>Quantity (tonnes)=%{y}<extra></extra>\",\"legendgroup\":\"Uganda\",\"line\":{\"color\":\"#B6E880\",\"dash\":\"solid\"},\"marker\":{\"symbol\":\"circle\"},\"mode\":\"lines\",\"name\":\"Uganda\",\"showlegend\":true,\"x\":[\"2010\",\"2011\",\"2012\",\"2013\",\"2014\",\"2015\",\"2016\",\"2017\",\"2018\",\"2019\",\"2020\",\"2021\"],\"xaxis\":\"x\",\"y\":[125.0,59.0,142.0,130.0,81.0,46.0,67.0,226.0,81.0,325.0,206.0,164.0],\"yaxis\":\"y\",\"type\":\"scattergl\"},{\"hovertemplate\":\"Exporters=Switzerland<br>Year=%{x}<br>Quantity (tonnes)=%{y}<extra></extra>\",\"legendgroup\":\"Switzerland\",\"line\":{\"color\":\"#FF97FF\",\"dash\":\"solid\"},\"marker\":{\"symbol\":\"circle\"},\"mode\":\"lines\",\"name\":\"Switzerland\",\"showlegend\":true,\"x\":[\"2010\",\"2011\",\"2012\",\"2013\",\"2014\",\"2015\",\"2016\",\"2017\",\"2018\",\"2019\",\"2020\",\"2021\"],\"xaxis\":\"x\",\"y\":[4145.0,5512.0,7352.0,61.0,3126.0,1892.0,4666.0,1865.0,779.0,329.0,359.0,140.0],\"yaxis\":\"y\",\"type\":\"scattergl\"},{\"hovertemplate\":\"Exporters=Bolivia, Plurinational State of<br>Year=%{x}<br>Quantity (tonnes)=%{y}<extra></extra>\",\"legendgroup\":\"Bolivia, Plurinational State of\",\"line\":{\"color\":\"#FECB52\",\"dash\":\"solid\"},\"marker\":{\"symbol\":\"circle\"},\"mode\":\"lines\",\"name\":\"Bolivia, Plurinational State of\",\"showlegend\":true,\"x\":[\"2010\",\"2011\",\"2012\",\"2013\",\"2014\",\"2015\",\"2016\",\"2017\",\"2018\",\"2019\",\"2020\",\"2021\"],\"xaxis\":\"x\",\"y\":[1036.0,615.0,702.0,744.0,810.0,716.0,318.0,226.0,90.0,99.0,190.0,120.0],\"yaxis\":\"y\",\"type\":\"scattergl\"},{\"hovertemplate\":\"Exporters=Slovenia<br>Year=%{x}<br>Quantity (tonnes)=%{y}<extra></extra>\",\"legendgroup\":\"Slovenia\",\"line\":{\"color\":\"#636efa\",\"dash\":\"solid\"},\"marker\":{\"symbol\":\"circle\"},\"mode\":\"lines\",\"name\":\"Slovenia\",\"showlegend\":true,\"x\":[\"2010\",\"2011\",\"2012\",\"2013\",\"2014\",\"2015\",\"2016\",\"2017\",\"2018\",\"2019\",\"2020\",\"2021\"],\"xaxis\":\"x\",\"y\":[870.0,612.0,435.0,91.0,172.0,76.0,73.0,118.0,81.0,77.0,97.0,114.0],\"yaxis\":\"y\",\"type\":\"scattergl\"},{\"hovertemplate\":\"Exporters=Indonesia<br>Year=%{x}<br>Quantity (tonnes)=%{y}<extra></extra>\",\"legendgroup\":\"Indonesia\",\"line\":{\"color\":\"#EF553B\",\"dash\":\"solid\"},\"marker\":{\"symbol\":\"circle\"},\"mode\":\"lines\",\"name\":\"Indonesia\",\"showlegend\":true,\"x\":[\"2010\",\"2011\",\"2012\",\"2013\",\"2014\",\"2015\",\"2016\",\"2017\",\"2018\",\"2019\",\"2020\",\"2021\"],\"xaxis\":\"x\",\"y\":[251.0,343.0,83.0,260.0,57.0,158.0,145.0,120.0,67.0,41.0,114.0,98.0],\"yaxis\":\"y\",\"type\":\"scattergl\"},{\"hovertemplate\":\"Exporters=Jordan<br>Year=%{x}<br>Quantity (tonnes)=%{y}<extra></extra>\",\"legendgroup\":\"Jordan\",\"line\":{\"color\":\"#00cc96\",\"dash\":\"solid\"},\"marker\":{\"symbol\":\"circle\"},\"mode\":\"lines\",\"name\":\"Jordan\",\"showlegend\":true,\"x\":[\"2010\",\"2011\",\"2012\",\"2013\",\"2014\",\"2015\",\"2016\",\"2017\",\"2018\",\"2019\",\"2020\",\"2021\"],\"xaxis\":\"x\",\"y\":[0.0,0.0,30.0,17.0,4.0,50.0,3.0,40.0,26.0,46.0,75.0,90.0],\"yaxis\":\"y\",\"type\":\"scattergl\"},{\"hovertemplate\":\"Exporters=Philippines<br>Year=%{x}<br>Quantity (tonnes)=%{y}<extra></extra>\",\"legendgroup\":\"Philippines\",\"line\":{\"color\":\"#ab63fa\",\"dash\":\"solid\"},\"marker\":{\"symbol\":\"circle\"},\"mode\":\"lines\",\"name\":\"Philippines\",\"showlegend\":true,\"x\":[\"2010\",\"2011\",\"2012\",\"2013\",\"2014\",\"2015\",\"2016\",\"2017\",\"2018\",\"2019\",\"2020\",\"2021\"],\"xaxis\":\"x\",\"y\":[22.0,51.0,11.0,0.0,0.0,4.0,17.0,8.0,2.0,11.0,103.0,75.0],\"yaxis\":\"y\",\"type\":\"scattergl\"},{\"hovertemplate\":\"Exporters=Canada<br>Year=%{x}<br>Quantity (tonnes)=%{y}<extra></extra>\",\"legendgroup\":\"Canada\",\"line\":{\"color\":\"#FFA15A\",\"dash\":\"solid\"},\"marker\":{\"symbol\":\"circle\"},\"mode\":\"lines\",\"name\":\"Canada\",\"showlegend\":true,\"x\":[\"2010\",\"2011\",\"2012\",\"2013\",\"2014\",\"2015\",\"2016\",\"2017\",\"2018\",\"2019\",\"2020\",\"2021\"],\"xaxis\":\"x\",\"y\":[931.0,133.0,334.0,3477.0,158.0,40.0,141.0,143.0,602.0,87.0,50.0,74.0],\"yaxis\":\"y\",\"type\":\"scattergl\"},{\"hovertemplate\":\"Exporters=Benin<br>Year=%{x}<br>Quantity (tonnes)=%{y}<extra></extra>\",\"legendgroup\":\"Benin\",\"line\":{\"color\":\"#19d3f3\",\"dash\":\"solid\"},\"marker\":{\"symbol\":\"circle\"},\"mode\":\"lines\",\"name\":\"Benin\",\"showlegend\":true,\"x\":[\"2010\",\"2011\",\"2012\",\"2013\",\"2014\",\"2015\",\"2016\",\"2017\",\"2018\",\"2019\",\"2020\",\"2021\"],\"xaxis\":\"x\",\"y\":[0.0,0.0,1072.0,4180.0,7277.0,3194.0,998.0,2.0,44.0,1.0,32.0,63.0],\"yaxis\":\"y\",\"type\":\"scattergl\"},{\"hovertemplate\":\"Exporters=Oman<br>Year=%{x}<br>Quantity (tonnes)=%{y}<extra></extra>\",\"legendgroup\":\"Oman\",\"line\":{\"color\":\"#FF6692\",\"dash\":\"solid\"},\"marker\":{\"symbol\":\"circle\"},\"mode\":\"lines\",\"name\":\"Oman\",\"showlegend\":true,\"x\":[\"2010\",\"2011\",\"2012\",\"2013\",\"2014\",\"2015\",\"2016\",\"2017\",\"2018\",\"2019\",\"2020\",\"2021\"],\"xaxis\":\"x\",\"y\":[360.0,363.0,308.0,1184.0,2385.0,2185.0,333.0,126.0,8.0,37.0,362.0,63.0],\"yaxis\":\"y\",\"type\":\"scattergl\"},{\"hovertemplate\":\"Exporters=Kenya<br>Year=%{x}<br>Quantity (tonnes)=%{y}<extra></extra>\",\"legendgroup\":\"Kenya\",\"line\":{\"color\":\"#B6E880\",\"dash\":\"solid\"},\"marker\":{\"symbol\":\"circle\"},\"mode\":\"lines\",\"name\":\"Kenya\",\"showlegend\":true,\"x\":[\"2010\",\"2011\",\"2012\",\"2013\",\"2014\",\"2015\",\"2016\",\"2017\",\"2018\",\"2019\",\"2020\",\"2021\"],\"xaxis\":\"x\",\"y\":[210.0,292.0,152.0,82.0,117.0,56.0,62.0,15.0,10.0,3.0,10.0,60.0],\"yaxis\":\"y\",\"type\":\"scattergl\"},{\"hovertemplate\":\"Exporters=Guyana<br>Year=%{x}<br>Quantity (tonnes)=%{y}<extra></extra>\",\"legendgroup\":\"Guyana\",\"line\":{\"color\":\"#FF97FF\",\"dash\":\"solid\"},\"marker\":{\"symbol\":\"circle\"},\"mode\":\"lines\",\"name\":\"Guyana\",\"showlegend\":true,\"x\":[\"2010\",\"2011\",\"2012\",\"2013\",\"2014\",\"2015\",\"2016\",\"2017\",\"2018\",\"2019\",\"2020\",\"2021\"],\"xaxis\":\"x\",\"y\":[12.0,15.0,0.0,0.0,0.0,0.0,0.0,0.0,0.0,0.0,0.0,52.0],\"yaxis\":\"y\",\"type\":\"scattergl\"},{\"hovertemplate\":\"Exporters=Angola<br>Year=%{x}<br>Quantity (tonnes)=%{y}<extra></extra>\",\"legendgroup\":\"Angola\",\"line\":{\"color\":\"#FECB52\",\"dash\":\"solid\"},\"marker\":{\"symbol\":\"circle\"},\"mode\":\"lines\",\"name\":\"Angola\",\"showlegend\":true,\"x\":[\"2010\",\"2011\",\"2012\",\"2013\",\"2014\",\"2015\",\"2016\",\"2017\",\"2018\",\"2019\",\"2020\",\"2021\"],\"xaxis\":\"x\",\"y\":[0.0,0.0,0.0,0.0,0.0,56.0,6.0,1.0,4.0,137.0,21.0,50.0],\"yaxis\":\"y\",\"type\":\"scattergl\"},{\"hovertemplate\":\"Exporters=Algeria<br>Year=%{x}<br>Quantity (tonnes)=%{y}<extra></extra>\",\"legendgroup\":\"Algeria\",\"line\":{\"color\":\"#636efa\",\"dash\":\"solid\"},\"marker\":{\"symbol\":\"circle\"},\"mode\":\"lines\",\"name\":\"Algeria\",\"showlegend\":true,\"x\":[\"2010\",\"2011\",\"2012\",\"2013\",\"2014\",\"2015\",\"2016\",\"2017\",\"2019\",\"2021\"],\"xaxis\":\"x\",\"y\":[0.0,0.0,0.0,0.0,0.0,0.0,0.0,3.0,37.0,45.0],\"yaxis\":\"y\",\"type\":\"scattergl\"},{\"hovertemplate\":\"Exporters=Zambia<br>Year=%{x}<br>Quantity (tonnes)=%{y}<extra></extra>\",\"legendgroup\":\"Zambia\",\"line\":{\"color\":\"#EF553B\",\"dash\":\"solid\"},\"marker\":{\"symbol\":\"circle\"},\"mode\":\"lines\",\"name\":\"Zambia\",\"showlegend\":true,\"x\":[\"2010\",\"2011\",\"2012\",\"2013\",\"2014\",\"2015\",\"2016\",\"2017\",\"2018\",\"2019\",\"2020\",\"2021\"],\"xaxis\":\"x\",\"y\":[367.0,412.0,286.0,27.0,57.0,2.0,0.0,1.0,83.0,0.0,33.0,40.0],\"yaxis\":\"y\",\"type\":\"scattergl\"},{\"hovertemplate\":\"Exporters=Syrian Arab Republic<br>Year=%{x}<br>Quantity (tonnes)=%{y}<extra></extra>\",\"legendgroup\":\"Syrian Arab Republic\",\"line\":{\"color\":\"#00cc96\",\"dash\":\"solid\"},\"marker\":{\"symbol\":\"circle\"},\"mode\":\"lines\",\"name\":\"Syrian Arab Republic\",\"showlegend\":true,\"x\":[\"2010\",\"2011\",\"2012\",\"2013\",\"2014\",\"2015\",\"2016\",\"2017\",\"2018\",\"2019\",\"2020\",\"2021\"],\"xaxis\":\"x\",\"y\":[1.0,37.0,0.0,3.0,0.0,27.0,1.0,1.0,1.0,16.0,29.0,37.0],\"yaxis\":\"y\",\"type\":\"scattergl\"},{\"hovertemplate\":\"Exporters=Panama<br>Year=%{x}<br>Quantity (tonnes)=%{y}<extra></extra>\",\"legendgroup\":\"Panama\",\"line\":{\"color\":\"#ab63fa\",\"dash\":\"solid\"},\"marker\":{\"symbol\":\"circle\"},\"mode\":\"lines\",\"name\":\"Panama\",\"showlegend\":true,\"x\":[\"2010\",\"2011\",\"2012\",\"2013\",\"2014\",\"2015\",\"2016\",\"2017\",\"2018\",\"2019\",\"2020\",\"2021\"],\"xaxis\":\"x\",\"y\":[0.0,1.0,2.0,3.0,3.0,1.0,1.0,1.0,26.0,2.0,5.0,37.0],\"yaxis\":\"y\",\"type\":\"scattergl\"},{\"hovertemplate\":\"Exporters=Bangladesh<br>Year=%{x}<br>Quantity (tonnes)=%{y}<extra></extra>\",\"legendgroup\":\"Bangladesh\",\"line\":{\"color\":\"#FFA15A\",\"dash\":\"solid\"},\"marker\":{\"symbol\":\"circle\"},\"mode\":\"lines\",\"name\":\"Bangladesh\",\"showlegend\":true,\"x\":[\"2010\",\"2011\",\"2012\",\"2013\",\"2015\",\"2016\",\"2017\",\"2018\",\"2019\",\"2020\",\"2021\"],\"xaxis\":\"x\",\"y\":[3.0,0.0,2.0,4.0,0.0,3.0,4.0,26.0,0.0,48.0,35.0],\"yaxis\":\"y\",\"type\":\"scattergl\"},{\"hovertemplate\":\"Exporters=Egypt<br>Year=%{x}<br>Quantity (tonnes)=%{y}<extra></extra>\",\"legendgroup\":\"Egypt\",\"line\":{\"color\":\"#19d3f3\",\"dash\":\"solid\"},\"marker\":{\"symbol\":\"circle\"},\"mode\":\"lines\",\"name\":\"Egypt\",\"showlegend\":true,\"x\":[\"2010\",\"2011\",\"2012\",\"2013\",\"2014\",\"2015\",\"2016\",\"2017\",\"2018\",\"2019\",\"2020\",\"2021\"],\"xaxis\":\"x\",\"y\":[93.0,255.0,88.0,261.0,55.0,36.0,63.0,3.0,36.0,170.0,54.0,31.0],\"yaxis\":\"y\",\"type\":\"scattergl\"},{\"hovertemplate\":\"Exporters=Brunei Darussalam<br>Year=%{x}<br>Quantity (tonnes)=%{y}<extra></extra>\",\"legendgroup\":\"Brunei Darussalam\",\"line\":{\"color\":\"#FF6692\",\"dash\":\"solid\"},\"marker\":{\"symbol\":\"circle\"},\"mode\":\"lines\",\"name\":\"Brunei Darussalam\",\"showlegend\":true,\"x\":[\"2010\",\"2011\",\"2012\",\"2013\",\"2014\",\"2015\",\"2016\",\"2017\",\"2018\",\"2019\",\"2020\",\"2021\"],\"xaxis\":\"x\",\"y\":[2.0,0.0,0.0,2.0,1.0,16.0,32.0,0.0,30.0,13.0,1.0,30.0],\"yaxis\":\"y\",\"type\":\"scattergl\"},{\"hovertemplate\":\"Exporters=Georgia<br>Year=%{x}<br>Quantity (tonnes)=%{y}<extra></extra>\",\"legendgroup\":\"Georgia\",\"line\":{\"color\":\"#B6E880\",\"dash\":\"solid\"},\"marker\":{\"symbol\":\"circle\"},\"mode\":\"lines\",\"name\":\"Georgia\",\"showlegend\":true,\"x\":[\"2010\",\"2011\",\"2012\",\"2013\",\"2014\",\"2015\",\"2016\",\"2017\",\"2018\",\"2019\",\"2020\",\"2021\"],\"xaxis\":\"x\",\"y\":[306.0,99.0,142.0,215.0,407.0,95.0,113.0,112.0,109.0,153.0,96.0,30.0],\"yaxis\":\"y\",\"type\":\"scattergl\"},{\"hovertemplate\":\"Exporters=Namibia<br>Year=%{x}<br>Quantity (tonnes)=%{y}<extra></extra>\",\"legendgroup\":\"Namibia\",\"line\":{\"color\":\"#FF97FF\",\"dash\":\"solid\"},\"marker\":{\"symbol\":\"circle\"},\"mode\":\"lines\",\"name\":\"Namibia\",\"showlegend\":true,\"x\":[\"2010\",\"2011\",\"2012\",\"2013\",\"2014\",\"2015\",\"2016\",\"2017\",\"2018\",\"2019\",\"2020\",\"2021\"],\"xaxis\":\"x\",\"y\":[15.0,16.0,32.0,42.0,33.0,54.0,16.0,3.0,6.0,24.0,20.0,28.0],\"yaxis\":\"y\",\"type\":\"scattergl\"},{\"hovertemplate\":\"Exporters=Samoa<br>Year=%{x}<br>Quantity (tonnes)=%{y}<extra></extra>\",\"legendgroup\":\"Samoa\",\"line\":{\"color\":\"#FECB52\",\"dash\":\"solid\"},\"marker\":{\"symbol\":\"circle\"},\"mode\":\"lines\",\"name\":\"Samoa\",\"showlegend\":true,\"x\":[\"2010\",\"2011\",\"2012\",\"2013\",\"2014\",\"2015\",\"2016\",\"2017\",\"2018\",\"2019\",\"2020\",\"2021\"],\"xaxis\":\"x\",\"y\":[0.0,0.0,0.0,2.0,6.0,0.0,0.0,1.0,1.0,1.0,2.0,27.0],\"yaxis\":\"y\",\"type\":\"scattergl\"},{\"hovertemplate\":\"Exporters=Dominican Republic<br>Year=%{x}<br>Quantity (tonnes)=%{y}<extra></extra>\",\"legendgroup\":\"Dominican Republic\",\"line\":{\"color\":\"#636efa\",\"dash\":\"solid\"},\"marker\":{\"symbol\":\"circle\"},\"mode\":\"lines\",\"name\":\"Dominican Republic\",\"showlegend\":true,\"x\":[\"2010\",\"2011\",\"2012\",\"2013\",\"2014\",\"2015\",\"2016\",\"2017\",\"2018\",\"2019\",\"2020\",\"2021\"],\"xaxis\":\"x\",\"y\":[335.0,682.0,19.0,11.0,1.0,7.0,64.0,9.0,112.0,180.0,50.0,26.0],\"yaxis\":\"y\",\"type\":\"scattergl\"},{\"hovertemplate\":\"Exporters=Morocco<br>Year=%{x}<br>Quantity (tonnes)=%{y}<extra></extra>\",\"legendgroup\":\"Morocco\",\"line\":{\"color\":\"#EF553B\",\"dash\":\"solid\"},\"marker\":{\"symbol\":\"circle\"},\"mode\":\"lines\",\"name\":\"Morocco\",\"showlegend\":true,\"x\":[\"2010\",\"2011\",\"2012\",\"2013\",\"2014\",\"2015\",\"2016\",\"2017\",\"2018\",\"2019\",\"2020\",\"2021\"],\"xaxis\":\"x\",\"y\":[68.0,25.0,1.0,20.0,43.0,20.0,153.0,79.0,17.0,5.0,4.0,23.0],\"yaxis\":\"y\",\"type\":\"scattergl\"},{\"hovertemplate\":\"Exporters=Pakistan<br>Year=%{x}<br>Quantity (tonnes)=%{y}<extra></extra>\",\"legendgroup\":\"Pakistan\",\"line\":{\"color\":\"#00cc96\",\"dash\":\"solid\"},\"marker\":{\"symbol\":\"circle\"},\"mode\":\"lines\",\"name\":\"Pakistan\",\"showlegend\":true,\"x\":[\"2010\",\"2011\",\"2012\",\"2013\",\"2014\",\"2015\",\"2016\",\"2017\",\"2018\",\"2019\",\"2020\",\"2021\"],\"xaxis\":\"x\",\"y\":[125.0,463.0,127.0,29.0,10.0,8.0,11.0,12.0,23.0,23.0,24.0,22.0],\"yaxis\":\"y\",\"type\":\"scattergl\"},{\"hovertemplate\":\"Exporters=Japan<br>Year=%{x}<br>Quantity (tonnes)=%{y}<extra></extra>\",\"legendgroup\":\"Japan\",\"line\":{\"color\":\"#ab63fa\",\"dash\":\"solid\"},\"marker\":{\"symbol\":\"circle\"},\"mode\":\"lines\",\"name\":\"Japan\",\"showlegend\":true,\"x\":[\"2010\",\"2011\",\"2012\",\"2013\",\"2014\",\"2015\",\"2016\",\"2017\",\"2018\",\"2019\",\"2020\",\"2021\"],\"xaxis\":\"x\",\"y\":[1.0,1.0,1.0,1.0,5.0,2.0,2.0,4.0,5.0,6.0,8.0,19.0],\"yaxis\":\"y\",\"type\":\"scattergl\"},{\"hovertemplate\":\"Exporters=El Salvador<br>Year=%{x}<br>Quantity (tonnes)=%{y}<extra></extra>\",\"legendgroup\":\"El Salvador\",\"line\":{\"color\":\"#FFA15A\",\"dash\":\"solid\"},\"marker\":{\"symbol\":\"circle\"},\"mode\":\"lines\",\"name\":\"El Salvador\",\"showlegend\":true,\"x\":[\"2010\",\"2011\",\"2012\",\"2013\",\"2014\",\"2015\",\"2016\",\"2017\",\"2018\",\"2019\",\"2020\",\"2021\"],\"xaxis\":\"x\",\"y\":[2.0,18.0,20.0,45.0,4.0,7.0,8.0,9.0,15.0,20.0,22.0,19.0],\"yaxis\":\"y\",\"type\":\"scattergl\"},{\"hovertemplate\":\"Exporters=C\\u00f4te d'Ivoire<br>Year=%{x}<br>Quantity (tonnes)=%{y}<extra></extra>\",\"legendgroup\":\"C\\u00f4te d'Ivoire\",\"line\":{\"color\":\"#19d3f3\",\"dash\":\"solid\"},\"marker\":{\"symbol\":\"circle\"},\"mode\":\"lines\",\"name\":\"C\\u00f4te d'Ivoire\",\"showlegend\":true,\"x\":[\"2010\",\"2011\",\"2012\",\"2013\",\"2014\",\"2015\",\"2016\",\"2017\",\"2018\",\"2019\",\"2020\",\"2021\"],\"xaxis\":\"x\",\"y\":[4.0,3.0,53.0,32.0,6.0,6.0,4.0,3.0,2.0,2.0,4.0,16.0],\"yaxis\":\"y\",\"type\":\"scattergl\"},{\"hovertemplate\":\"Exporters=Fiji<br>Year=%{x}<br>Quantity (tonnes)=%{y}<extra></extra>\",\"legendgroup\":\"Fiji\",\"line\":{\"color\":\"#FF6692\",\"dash\":\"solid\"},\"marker\":{\"symbol\":\"circle\"},\"mode\":\"lines\",\"name\":\"Fiji\",\"showlegend\":true,\"x\":[\"2010\",\"2011\",\"2012\",\"2013\",\"2014\",\"2015\",\"2016\",\"2017\",\"2018\",\"2019\",\"2020\",\"2021\"],\"xaxis\":\"x\",\"y\":[44.0,6.0,15.0,13.0,40.0,10.0,39.0,22.0,29.0,27.0,22.0,12.0],\"yaxis\":\"y\",\"type\":\"scattergl\"},{\"hovertemplate\":\"Exporters=Ecuador<br>Year=%{x}<br>Quantity (tonnes)=%{y}<extra></extra>\",\"legendgroup\":\"Ecuador\",\"line\":{\"color\":\"#B6E880\",\"dash\":\"solid\"},\"marker\":{\"symbol\":\"circle\"},\"mode\":\"lines\",\"name\":\"Ecuador\",\"showlegend\":true,\"x\":[\"2010\",\"2011\",\"2012\",\"2013\",\"2014\",\"2015\",\"2016\",\"2017\",\"2018\",\"2019\",\"2020\",\"2021\"],\"xaxis\":\"x\",\"y\":[0.0,0.0,0.0,0.0,0.0,15.0,0.0,0.0,0.0,0.0,0.0,11.0],\"yaxis\":\"y\",\"type\":\"scattergl\"},{\"hovertemplate\":\"Exporters=Macao, China<br>Year=%{x}<br>Quantity (tonnes)=%{y}<extra></extra>\",\"legendgroup\":\"Macao, China\",\"line\":{\"color\":\"#FF97FF\",\"dash\":\"solid\"},\"marker\":{\"symbol\":\"circle\"},\"mode\":\"lines\",\"name\":\"Macao, China\",\"showlegend\":true,\"x\":[\"2010\",\"2011\",\"2012\",\"2013\",\"2014\",\"2015\",\"2016\",\"2017\",\"2018\",\"2019\",\"2020\",\"2021\"],\"xaxis\":\"x\",\"y\":[0.0,0.0,0.0,0.0,0.0,0.0,0.0,10.0,2.0,0.0,0.0,11.0],\"yaxis\":\"y\",\"type\":\"scattergl\"},{\"hovertemplate\":\"Exporters=Malta<br>Year=%{x}<br>Quantity (tonnes)=%{y}<extra></extra>\",\"legendgroup\":\"Malta\",\"line\":{\"color\":\"#FECB52\",\"dash\":\"solid\"},\"marker\":{\"symbol\":\"circle\"},\"mode\":\"lines\",\"name\":\"Malta\",\"showlegend\":true,\"x\":[\"2010\",\"2011\",\"2012\",\"2013\",\"2014\",\"2015\",\"2016\",\"2017\",\"2018\",\"2019\",\"2020\",\"2021\"],\"xaxis\":\"x\",\"y\":[0.0,0.0,0.0,0.0,0.0,0.0,0.0,0.0,0.0,0.0,0.0,11.0],\"yaxis\":\"y\",\"type\":\"scattergl\"},{\"hovertemplate\":\"Exporters=Rwanda<br>Year=%{x}<br>Quantity (tonnes)=%{y}<extra></extra>\",\"legendgroup\":\"Rwanda\",\"line\":{\"color\":\"#636efa\",\"dash\":\"solid\"},\"marker\":{\"symbol\":\"circle\"},\"mode\":\"lines\",\"name\":\"Rwanda\",\"showlegend\":true,\"x\":[\"2010\",\"2011\",\"2012\",\"2013\",\"2014\",\"2015\",\"2016\",\"2017\",\"2018\",\"2019\",\"2020\",\"2021\"],\"xaxis\":\"x\",\"y\":[0.0,0.0,0.0,0.0,0.0,1.0,0.0,0.0,0.0,55.0,18.0,10.0],\"yaxis\":\"y\",\"type\":\"scattergl\"},{\"hovertemplate\":\"Exporters=Macedonia, North<br>Year=%{x}<br>Quantity (tonnes)=%{y}<extra></extra>\",\"legendgroup\":\"Macedonia, North\",\"line\":{\"color\":\"#EF553B\",\"dash\":\"solid\"},\"marker\":{\"symbol\":\"circle\"},\"mode\":\"lines\",\"name\":\"Macedonia, North\",\"showlegend\":true,\"x\":[\"2010\",\"2011\",\"2012\",\"2013\",\"2014\",\"2015\",\"2016\",\"2017\",\"2018\",\"2019\",\"2020\",\"2021\"],\"xaxis\":\"x\",\"y\":[182.0,101.0,35.0,2.0,1.0,44.0,268.0,193.0,44.0,50.0,7.0,10.0],\"yaxis\":\"y\",\"type\":\"scattergl\"},{\"hovertemplate\":\"Exporters=Korea, Republic of<br>Year=%{x}<br>Quantity (tonnes)=%{y}<extra></extra>\",\"legendgroup\":\"Korea, Republic of\",\"line\":{\"color\":\"#00cc96\",\"dash\":\"solid\"},\"marker\":{\"symbol\":\"circle\"},\"mode\":\"lines\",\"name\":\"Korea, Republic of\",\"showlegend\":true,\"x\":[\"2010\",\"2011\",\"2012\",\"2013\",\"2014\",\"2015\",\"2016\",\"2017\",\"2018\",\"2019\",\"2020\",\"2021\"],\"xaxis\":\"x\",\"y\":[0.0,1.0,1.0,6.0,44.0,4.0,5.0,15.0,47.0,60.0,96.0,6.0],\"yaxis\":\"y\",\"type\":\"scattergl\"},{\"hovertemplate\":\"Exporters=Botswana<br>Year=%{x}<br>Quantity (tonnes)=%{y}<extra></extra>\",\"legendgroup\":\"Botswana\",\"line\":{\"color\":\"#ab63fa\",\"dash\":\"solid\"},\"marker\":{\"symbol\":\"circle\"},\"mode\":\"lines\",\"name\":\"Botswana\",\"showlegend\":true,\"x\":[\"2010\",\"2011\",\"2012\",\"2013\",\"2014\",\"2015\",\"2016\",\"2017\",\"2018\",\"2019\",\"2020\",\"2021\"],\"xaxis\":\"x\",\"y\":[0.0,1.0,1.0,0.0,0.0,0.0,0.0,5.0,19.0,28.0,1.0,6.0],\"yaxis\":\"y\",\"type\":\"scattergl\"},{\"hovertemplate\":\"Exporters=Senegal<br>Year=%{x}<br>Quantity (tonnes)=%{y}<extra></extra>\",\"legendgroup\":\"Senegal\",\"line\":{\"color\":\"#FFA15A\",\"dash\":\"solid\"},\"marker\":{\"symbol\":\"circle\"},\"mode\":\"lines\",\"name\":\"Senegal\",\"showlegend\":true,\"x\":[\"2010\",\"2011\",\"2012\",\"2013\",\"2014\",\"2015\",\"2016\",\"2017\",\"2018\",\"2019\",\"2020\",\"2021\"],\"xaxis\":\"x\",\"y\":[13.0,6.0,1.0,66.0,71.0,54.0,74.0,283.0,36.0,78.0,20.0,4.0],\"yaxis\":\"y\",\"type\":\"scattergl\"},{\"hovertemplate\":\"Exporters=Trinidad and Tobago<br>Year=%{x}<br>Quantity (tonnes)=%{y}<extra></extra>\",\"legendgroup\":\"Trinidad and Tobago\",\"line\":{\"color\":\"#19d3f3\",\"dash\":\"solid\"},\"marker\":{\"symbol\":\"circle\"},\"mode\":\"lines\",\"name\":\"Trinidad and Tobago\",\"showlegend\":true,\"x\":[\"2010\",\"2011\",\"2012\",\"2013\",\"2014\",\"2015\",\"2016\",\"2017\",\"2018\",\"2019\",\"2020\",\"2021\"],\"xaxis\":\"x\",\"y\":[2.0,3.0,7.0,4.0,2.0,6.0,8.0,13.0,6.0,15.0,8.0,4.0],\"yaxis\":\"y\",\"type\":\"scattergl\"},{\"hovertemplate\":\"Exporters=Zimbabwe<br>Year=%{x}<br>Quantity (tonnes)=%{y}<extra></extra>\",\"legendgroup\":\"Zimbabwe\",\"line\":{\"color\":\"#FF6692\",\"dash\":\"solid\"},\"marker\":{\"symbol\":\"circle\"},\"mode\":\"lines\",\"name\":\"Zimbabwe\",\"showlegend\":true,\"x\":[\"2010\",\"2011\",\"2012\",\"2013\",\"2014\",\"2015\",\"2016\",\"2017\",\"2018\",\"2019\",\"2020\",\"2021\"],\"xaxis\":\"x\",\"y\":[0.0,0.0,0.0,0.0,2.0,0.0,5.0,3.0,0.0,0.0,0.0,3.0],\"yaxis\":\"y\",\"type\":\"scattergl\"},{\"hovertemplate\":\"Exporters=Peru<br>Year=%{x}<br>Quantity (tonnes)=%{y}<extra></extra>\",\"legendgroup\":\"Peru\",\"line\":{\"color\":\"#B6E880\",\"dash\":\"solid\"},\"marker\":{\"symbol\":\"circle\"},\"mode\":\"lines\",\"name\":\"Peru\",\"showlegend\":true,\"x\":[\"2010\",\"2011\",\"2012\",\"2013\",\"2014\",\"2015\",\"2016\",\"2017\",\"2018\",\"2019\",\"2020\",\"2021\"],\"xaxis\":\"x\",\"y\":[6.0,0.0,0.0,1.0,2.0,0.0,0.0,19.0,0.0,2.0,103.0,2.0],\"yaxis\":\"y\",\"type\":\"scattergl\"},{\"hovertemplate\":\"Exporters=Nepal<br>Year=%{x}<br>Quantity (tonnes)=%{y}<extra></extra>\",\"legendgroup\":\"Nepal\",\"line\":{\"color\":\"#FF97FF\",\"dash\":\"solid\"},\"marker\":{\"symbol\":\"circle\"},\"mode\":\"lines\",\"name\":\"Nepal\",\"showlegend\":true,\"x\":[\"2010\",\"2011\",\"2012\",\"2013\",\"2014\",\"2015\",\"2016\",\"2017\",\"2018\",\"2019\",\"2020\",\"2021\"],\"xaxis\":\"x\",\"y\":[2.0,13.0,0.0,1.0,9.0,2.0,23.0,14.0,10.0,9.0,12.0,2.0],\"yaxis\":\"y\",\"type\":\"scattergl\"},{\"hovertemplate\":\"Exporters=Taipei, Chinese<br>Year=%{x}<br>Quantity (tonnes)=%{y}<extra></extra>\",\"legendgroup\":\"Taipei, Chinese\",\"line\":{\"color\":\"#FECB52\",\"dash\":\"solid\"},\"marker\":{\"symbol\":\"circle\"},\"mode\":\"lines\",\"name\":\"Taipei, Chinese\",\"showlegend\":true,\"x\":[\"2010\",\"2011\",\"2012\",\"2013\",\"2014\",\"2015\",\"2016\",\"2017\",\"2018\",\"2019\",\"2020\",\"2021\"],\"xaxis\":\"x\",\"y\":[3.0,5.0,9.0,11.0,27.0,21.0,2.0,2.0,10.0,3.0,1.0,2.0],\"yaxis\":\"y\",\"type\":\"scattergl\"},{\"hovertemplate\":\"Exporters=Ethiopia<br>Year=%{x}<br>Quantity (tonnes)=%{y}<extra></extra>\",\"legendgroup\":\"Ethiopia\",\"line\":{\"color\":\"#636efa\",\"dash\":\"solid\"},\"marker\":{\"symbol\":\"circle\"},\"mode\":\"lines\",\"name\":\"Ethiopia\",\"showlegend\":true,\"x\":[\"2010\",\"2011\",\"2012\",\"2013\",\"2014\",\"2015\",\"2016\",\"2017\",\"2018\",\"2019\",\"2020\",\"2021\"],\"xaxis\":\"x\",\"y\":[11.0,16.0,21.0,12.0,10.0,10.0,16.0,17.0,6.0,6.0,5.0,2.0],\"yaxis\":\"y\",\"type\":\"scattergl\"},{\"hovertemplate\":\"Exporters=Gabon<br>Year=%{x}<br>Quantity (tonnes)=%{y}<extra></extra>\",\"legendgroup\":\"Gabon\",\"line\":{\"color\":\"#EF553B\",\"dash\":\"solid\"},\"marker\":{\"symbol\":\"circle\"},\"mode\":\"lines\",\"name\":\"Gabon\",\"showlegend\":true,\"x\":[\"2010\",\"2011\",\"2012\",\"2013\",\"2014\",\"2015\",\"2016\",\"2017\",\"2018\",\"2019\",\"2020\",\"2021\"],\"xaxis\":\"x\",\"y\":[0.0,0.0,0.0,5.0,4.0,3.0,2.0,2.0,0.0,0.0,0.0,2.0],\"yaxis\":\"y\",\"type\":\"scattergl\"},{\"hovertemplate\":\"Exporters=Sri Lanka<br>Year=%{x}<br>Quantity (tonnes)=%{y}<extra></extra>\",\"legendgroup\":\"Sri Lanka\",\"line\":{\"color\":\"#00cc96\",\"dash\":\"solid\"},\"marker\":{\"symbol\":\"circle\"},\"mode\":\"lines\",\"name\":\"Sri Lanka\",\"showlegend\":true,\"x\":[\"2010\",\"2011\",\"2012\",\"2013\",\"2014\",\"2015\",\"2016\",\"2017\",\"2019\",\"2020\",\"2021\"],\"xaxis\":\"x\",\"y\":[0.0,1.0,1.0,0.0,2.0,1.0,0.0,0.0,0.0,1.0,1.0],\"yaxis\":\"y\",\"type\":\"scattergl\"},{\"hovertemplate\":\"Exporters=Congo<br>Year=%{x}<br>Quantity (tonnes)=%{y}<extra></extra>\",\"legendgroup\":\"Congo\",\"line\":{\"color\":\"#ab63fa\",\"dash\":\"solid\"},\"marker\":{\"symbol\":\"circle\"},\"mode\":\"lines\",\"name\":\"Congo\",\"showlegend\":true,\"x\":[\"2010\",\"2011\",\"2012\",\"2013\",\"2014\",\"2015\",\"2016\",\"2017\",\"2018\",\"2019\",\"2020\",\"2021\"],\"xaxis\":\"x\",\"y\":[0.0,0.0,0.0,0.0,0.0,0.0,0.0,0.0,0.0,0.0,0.0,1.0],\"yaxis\":\"y\",\"type\":\"scattergl\"},{\"hovertemplate\":\"Exporters=Mozambique<br>Year=%{x}<br>Quantity (tonnes)=%{y}<extra></extra>\",\"legendgroup\":\"Mozambique\",\"line\":{\"color\":\"#FFA15A\",\"dash\":\"solid\"},\"marker\":{\"symbol\":\"circle\"},\"mode\":\"lines\",\"name\":\"Mozambique\",\"showlegend\":true,\"x\":[\"2010\",\"2011\",\"2012\",\"2013\",\"2014\",\"2015\",\"2016\",\"2017\",\"2018\",\"2019\",\"2020\",\"2021\"],\"xaxis\":\"x\",\"y\":[0.0,0.0,0.0,0.0,0.0,0.0,6.0,0.0,4.0,0.0,1.0,1.0],\"yaxis\":\"y\",\"type\":\"scattergl\"},{\"hovertemplate\":\"Exporters=Mauritius<br>Year=%{x}<br>Quantity (tonnes)=%{y}<extra></extra>\",\"legendgroup\":\"Mauritius\",\"line\":{\"color\":\"#19d3f3\",\"dash\":\"solid\"},\"marker\":{\"symbol\":\"circle\"},\"mode\":\"lines\",\"name\":\"Mauritius\",\"showlegend\":true,\"x\":[\"2010\",\"2011\",\"2012\",\"2013\",\"2014\",\"2015\",\"2016\",\"2017\",\"2018\",\"2019\",\"2020\",\"2021\"],\"xaxis\":\"x\",\"y\":[6.0,7.0,1.0,1.0,0.0,1.0,0.0,0.0,0.0,2.0,0.0,0.0],\"yaxis\":\"y\",\"type\":\"scattergl\"},{\"hovertemplate\":\"Exporters=Mexico<br>Year=%{x}<br>Quantity (tonnes)=%{y}<extra></extra>\",\"legendgroup\":\"Mexico\",\"line\":{\"color\":\"#FF6692\",\"dash\":\"solid\"},\"marker\":{\"symbol\":\"circle\"},\"mode\":\"lines\",\"name\":\"Mexico\",\"showlegend\":true,\"x\":[\"2010\",\"2011\",\"2012\",\"2013\",\"2014\",\"2015\",\"2016\",\"2017\",\"2018\",\"2019\",\"2020\",\"2021\"],\"xaxis\":\"x\",\"y\":[2.0,10.0,16.0,126.0,78.0,1299.0,2229.0,1248.0,1659.0,714.0,62.0,0.0],\"yaxis\":\"y\",\"type\":\"scattergl\"},{\"hovertemplate\":\"Exporters=Mongolia<br>Year=%{x}<br>Quantity (tonnes)=%{y}<extra></extra>\",\"legendgroup\":\"Mongolia\",\"line\":{\"color\":\"#B6E880\",\"dash\":\"solid\"},\"marker\":{\"symbol\":\"circle\"},\"mode\":\"lines\",\"name\":\"Mongolia\",\"showlegend\":true,\"x\":[\"2010\",\"2011\",\"2012\",\"2013\",\"2014\",\"2015\",\"2016\",\"2017\",\"2018\",\"2019\",\"2020\",\"2021\"],\"xaxis\":\"x\",\"y\":[0.0,0.0,0.0,0.0,0.0,0.0,0.0,0.0,0.0,0.0,0.0,0.0],\"yaxis\":\"y\",\"type\":\"scattergl\"},{\"hovertemplate\":\"Exporters=Moldova, Republic of<br>Year=%{x}<br>Quantity (tonnes)=%{y}<extra></extra>\",\"legendgroup\":\"Moldova, Republic of\",\"line\":{\"color\":\"#FF97FF\",\"dash\":\"solid\"},\"marker\":{\"symbol\":\"circle\"},\"mode\":\"lines\",\"name\":\"Moldova, Republic of\",\"showlegend\":true,\"x\":[\"2010\",\"2011\",\"2012\",\"2013\",\"2014\",\"2015\",\"2016\",\"2017\",\"2018\",\"2019\",\"2020\",\"2021\"],\"xaxis\":\"x\",\"y\":[293.0,251.0,25.0,475.0,401.0,747.0,1597.0,542.0,50.0,0.0,14.0,0.0],\"yaxis\":\"y\",\"type\":\"scattergl\"},{\"hovertemplate\":\"Exporters=Montenegro<br>Year=%{x}<br>Quantity (tonnes)=%{y}<extra></extra>\",\"legendgroup\":\"Montenegro\",\"line\":{\"color\":\"#FECB52\",\"dash\":\"solid\"},\"marker\":{\"symbol\":\"circle\"},\"mode\":\"lines\",\"name\":\"Montenegro\",\"showlegend\":true,\"x\":[\"2010\",\"2011\",\"2012\",\"2013\",\"2014\",\"2015\",\"2016\",\"2017\",\"2018\",\"2019\",\"2020\",\"2021\"],\"xaxis\":\"x\",\"y\":[0.0,0.0,0.0,0.0,0.0,0.0,0.0,0.0,0.0,0.0,0.0,0.0],\"yaxis\":\"y\",\"type\":\"scattergl\"},{\"hovertemplate\":\"Exporters=Jamaica<br>Year=%{x}<br>Quantity (tonnes)=%{y}<extra></extra>\",\"legendgroup\":\"Jamaica\",\"line\":{\"color\":\"#636efa\",\"dash\":\"solid\"},\"marker\":{\"symbol\":\"circle\"},\"mode\":\"lines\",\"name\":\"Jamaica\",\"showlegend\":true,\"x\":[\"2010\",\"2011\",\"2012\",\"2013\",\"2014\",\"2015\",\"2016\",\"2017\",\"2018\",\"2019\",\"2020\",\"2021\"],\"xaxis\":\"x\",\"y\":[0.0,1.0,2.0,1.0,5.0,0.0,0.0,0.0,2.0,1.0,0.0,0.0],\"yaxis\":\"y\",\"type\":\"scattergl\"},{\"hovertemplate\":\"Exporters=Israel<br>Year=%{x}<br>Quantity (tonnes)=%{y}<extra></extra>\",\"legendgroup\":\"Israel\",\"line\":{\"color\":\"#EF553B\",\"dash\":\"solid\"},\"marker\":{\"symbol\":\"circle\"},\"mode\":\"lines\",\"name\":\"Israel\",\"showlegend\":true,\"x\":[\"2010\",\"2011\",\"2012\",\"2013\",\"2014\",\"2015\",\"2016\",\"2017\",\"2018\",\"2019\",\"2020\",\"2021\"],\"xaxis\":\"x\",\"y\":[0.0,0.0,0.0,0.0,6.0,0.0,0.0,0.0,0.0,0.0,0.0,1.0],\"yaxis\":\"y\",\"type\":\"scattergl\"},{\"hovertemplate\":\"Exporters=Madagascar<br>Year=%{x}<br>Quantity (tonnes)=%{y}<extra></extra>\",\"legendgroup\":\"Madagascar\",\"line\":{\"color\":\"#00cc96\",\"dash\":\"solid\"},\"marker\":{\"symbol\":\"circle\"},\"mode\":\"lines\",\"name\":\"Madagascar\",\"showlegend\":true,\"x\":[\"2010\",\"2011\",\"2012\",\"2013\",\"2014\",\"2015\",\"2016\",\"2017\",\"2018\",\"2019\",\"2020\",\"2021\"],\"xaxis\":\"x\",\"y\":[3.0,2.0,1.0,2.0,2.0,2.0,2.0,82.0,0.0,0.0,0.0,0.0],\"yaxis\":\"y\",\"type\":\"scattergl\"},{\"hovertemplate\":\"Exporters=Lebanon<br>Year=%{x}<br>Quantity (tonnes)=%{y}<extra></extra>\",\"legendgroup\":\"Lebanon\",\"line\":{\"color\":\"#ab63fa\",\"dash\":\"solid\"},\"marker\":{\"symbol\":\"circle\"},\"mode\":\"lines\",\"name\":\"Lebanon\",\"showlegend\":true,\"x\":[\"2010\",\"2011\",\"2012\",\"2013\",\"2014\",\"2015\",\"2016\",\"2017\",\"2018\",\"2019\",\"2020\",\"2021\"],\"xaxis\":\"x\",\"y\":[45.0,22.0,12.0,34.0,58.0,113.0,14.0,25.0,7.0,6.0,36.0,0.0],\"yaxis\":\"y\",\"type\":\"scattergl\"},{\"hovertemplate\":\"Exporters=Qatar<br>Year=%{x}<br>Quantity (tonnes)=%{y}<extra></extra>\",\"legendgroup\":\"Qatar\",\"line\":{\"color\":\"#FFA15A\",\"dash\":\"solid\"},\"marker\":{\"symbol\":\"circle\"},\"mode\":\"lines\",\"name\":\"Qatar\",\"showlegend\":true,\"x\":[\"2010\",\"2011\",\"2012\",\"2013\",\"2014\",\"2015\",\"2017\",\"2018\",\"2019\",\"2020\",\"2021\"],\"xaxis\":\"x\",\"y\":[23.0,0.0,8.0,1.0,1.0,31.0,0.0,0.0,0.0,0.0,0.0],\"yaxis\":\"y\",\"type\":\"scattergl\"},{\"hovertemplate\":\"Exporters=Norway<br>Year=%{x}<br>Quantity (tonnes)=%{y}<extra></extra>\",\"legendgroup\":\"Norway\",\"line\":{\"color\":\"#19d3f3\",\"dash\":\"solid\"},\"marker\":{\"symbol\":\"circle\"},\"mode\":\"lines\",\"name\":\"Norway\",\"showlegend\":true,\"x\":[\"2010\",\"2011\",\"2012\",\"2013\",\"2014\",\"2015\",\"2016\",\"2017\",\"2018\",\"2019\",\"2020\",\"2021\"],\"xaxis\":\"x\",\"y\":[2221.0,457.0,1.0,1.0,0.0,534.0,1089.0,195.0,9.0,11.0,19.0,0.0],\"yaxis\":\"y\",\"type\":\"scattergl\"},{\"hovertemplate\":\"Exporters=Aruba<br>Year=%{x}<br>Quantity (tonnes)=%{y}<extra></extra>\",\"legendgroup\":\"Aruba\",\"line\":{\"color\":\"#FF6692\",\"dash\":\"solid\"},\"marker\":{\"symbol\":\"circle\"},\"mode\":\"lines\",\"name\":\"Aruba\",\"showlegend\":true,\"x\":[\"2010\",\"2011\",\"2012\",\"2013\",\"2014\",\"2015\",\"2016\",\"2017\",\"2018\",\"2019\",\"2020\",\"2021\"],\"xaxis\":\"x\",\"y\":[0.0,0.0,0.0,0.0,0.0,0.0,3.0,2.0,10.0,0.0,0.0,0.0],\"yaxis\":\"y\",\"type\":\"scattergl\"},{\"hovertemplate\":\"Exporters=Nicaragua<br>Year=%{x}<br>Quantity (tonnes)=%{y}<extra></extra>\",\"legendgroup\":\"Nicaragua\",\"line\":{\"color\":\"#B6E880\",\"dash\":\"solid\"},\"marker\":{\"symbol\":\"circle\"},\"mode\":\"lines\",\"name\":\"Nicaragua\",\"showlegend\":true,\"x\":[\"2010\",\"2011\",\"2012\",\"2013\",\"2014\",\"2015\",\"2016\",\"2017\",\"2018\",\"2019\",\"2020\",\"2021\"],\"xaxis\":\"x\",\"y\":[59.0,64.0,49.0,64.0,150.0,198.0,100.0,155.0,48.0,36.0,0.0,0.0],\"yaxis\":\"y\",\"type\":\"scattergl\"},{\"hovertemplate\":\"Exporters=Nigeria<br>Year=%{x}<br>Quantity (tonnes)=%{y}<extra></extra>\",\"legendgroup\":\"Nigeria\",\"line\":{\"color\":\"#FF97FF\",\"dash\":\"solid\"},\"marker\":{\"symbol\":\"circle\"},\"mode\":\"lines\",\"name\":\"Nigeria\",\"showlegend\":true,\"x\":[\"2010\",\"2011\",\"2012\",\"2013\",\"2014\",\"2015\",\"2016\",\"2017\",\"2018\",\"2019\",\"2020\",\"2021\"],\"xaxis\":\"x\",\"y\":[0.0,32.0,0.0,86.0,0.0,2.0,0.0,0.0,0.0,0.0,0.0,0.0],\"yaxis\":\"y\",\"type\":\"scattergl\"},{\"hovertemplate\":\"Exporters=Viet Nam<br>Year=%{x}<br>Quantity (tonnes)=%{y}<extra></extra>\",\"legendgroup\":\"Viet Nam\",\"line\":{\"color\":\"#FECB52\",\"dash\":\"solid\"},\"marker\":{\"symbol\":\"circle\"},\"mode\":\"lines\",\"name\":\"Viet Nam\",\"showlegend\":true,\"x\":[\"2010\",\"2011\",\"2012\",\"2013\",\"2014\",\"2015\",\"2016\",\"2017\",\"2018\",\"2019\",\"2020\",\"2021\"],\"xaxis\":\"x\",\"y\":[10.0,25.0,120.0,42.0,6.0,5.0,14.0,15.0,39.0,22.0,12.0,14.0],\"yaxis\":\"y\",\"type\":\"scattergl\"},{\"hovertemplate\":\"Exporters=Cabo Verde<br>Year=%{x}<br>Quantity (tonnes)=%{y}<extra></extra>\",\"legendgroup\":\"Cabo Verde\",\"line\":{\"color\":\"#636efa\",\"dash\":\"solid\"},\"marker\":{\"symbol\":\"circle\"},\"mode\":\"lines\",\"name\":\"Cabo Verde\",\"showlegend\":true,\"x\":[\"2010\",\"2011\",\"2012\",\"2013\",\"2014\",\"2015\",\"2016\",\"2017\",\"2018\",\"2019\",\"2020\",\"2021\"],\"xaxis\":\"x\",\"y\":[1.0,0.0,0.0,2.0,2.0,1.0,0.0,0.0,0.0,0.0,7.0,0.0],\"yaxis\":\"y\",\"type\":\"scattergl\"},{\"hovertemplate\":\"Exporters=Cambodia<br>Year=%{x}<br>Quantity (tonnes)=%{y}<extra></extra>\",\"legendgroup\":\"Cambodia\",\"line\":{\"color\":\"#EF553B\",\"dash\":\"solid\"},\"marker\":{\"symbol\":\"circle\"},\"mode\":\"lines\",\"name\":\"Cambodia\",\"showlegend\":true,\"x\":[\"2010\",\"2011\",\"2012\",\"2013\",\"2014\",\"2015\",\"2016\",\"2017\",\"2018\",\"2019\",\"2020\",\"2021\"],\"xaxis\":\"x\",\"y\":[0.0,0.0,0.0,0.0,0.0,0.0,0.0,3.0,0.0,0.0,0.0,0.0],\"yaxis\":\"y\",\"type\":\"scattergl\"},{\"hovertemplate\":\"Exporters=Burundi<br>Year=%{x}<br>Quantity (tonnes)=%{y}<extra></extra>\",\"legendgroup\":\"Burundi\",\"line\":{\"color\":\"#00cc96\",\"dash\":\"solid\"},\"marker\":{\"symbol\":\"circle\"},\"mode\":\"lines\",\"name\":\"Burundi\",\"showlegend\":true,\"x\":[\"2010\",\"2011\",\"2012\",\"2013\",\"2014\",\"2015\",\"2016\",\"2017\",\"2018\",\"2019\",\"2020\",\"2021\"],\"xaxis\":\"x\",\"y\":[0.0,0.0,0.0,0.0,0.0,3194.0,0.0,0.0,0.0,0.0,0.0,0.0],\"yaxis\":\"y\",\"type\":\"scattergl\"},{\"hovertemplate\":\"Exporters=Bosnia and Herzegovina<br>Year=%{x}<br>Quantity (tonnes)=%{y}<extra></extra>\",\"legendgroup\":\"Bosnia and Herzegovina\",\"line\":{\"color\":\"#ab63fa\",\"dash\":\"solid\"},\"marker\":{\"symbol\":\"circle\"},\"mode\":\"lines\",\"name\":\"Bosnia and Herzegovina\",\"showlegend\":true,\"x\":[\"2010\",\"2011\",\"2012\",\"2013\",\"2014\",\"2015\",\"2016\",\"2017\",\"2018\",\"2019\",\"2020\",\"2021\"],\"xaxis\":\"x\",\"y\":[213.0,117.0,82.0,139.0,0.0,0.0,375.0,64.0,0.0,22.0,1.0,0.0],\"yaxis\":\"y\",\"type\":\"scattergl\"},{\"hovertemplate\":\"Exporters=Barbados<br>Year=%{x}<br>Quantity (tonnes)=%{y}<extra></extra>\",\"legendgroup\":\"Barbados\",\"line\":{\"color\":\"#FFA15A\",\"dash\":\"solid\"},\"marker\":{\"symbol\":\"circle\"},\"mode\":\"lines\",\"name\":\"Barbados\",\"showlegend\":true,\"x\":[\"2010\",\"2011\",\"2012\",\"2013\",\"2014\",\"2015\",\"2016\",\"2017\",\"2018\",\"2019\",\"2020\",\"2021\"],\"xaxis\":\"x\",\"y\":[0.0,0.0,0.0,0.0,0.0,0.0,0.0,0.0,0.0,0.0,0.0,0.0],\"yaxis\":\"y\",\"type\":\"scattergl\"},{\"hovertemplate\":\"Exporters=Antigua and Barbuda<br>Year=%{x}<br>Quantity (tonnes)=%{y}<extra></extra>\",\"legendgroup\":\"Antigua and Barbuda\",\"line\":{\"color\":\"#19d3f3\",\"dash\":\"solid\"},\"marker\":{\"symbol\":\"circle\"},\"mode\":\"lines\",\"name\":\"Antigua and Barbuda\",\"showlegend\":true,\"x\":[\"2010\",\"2011\",\"2012\",\"2013\",\"2014\",\"2015\",\"2016\",\"2017\",\"2018\",\"2019\",\"2020\",\"2021\"],\"xaxis\":\"x\",\"y\":[0.0,0.0,0.0,0.0,0.0,0.0,0.0,0.0,0.0,0.0,0.0,0.0],\"yaxis\":\"y\",\"type\":\"scattergl\"},{\"hovertemplate\":\"Exporters=Chile<br>Year=%{x}<br>Quantity (tonnes)=%{y}<extra></extra>\",\"legendgroup\":\"Chile\",\"line\":{\"color\":\"#FF6692\",\"dash\":\"solid\"},\"marker\":{\"symbol\":\"circle\"},\"mode\":\"lines\",\"name\":\"Chile\",\"showlegend\":true,\"x\":[\"2010\",\"2011\",\"2012\",\"2013\",\"2014\",\"2015\",\"2016\",\"2017\",\"2018\",\"2019\",\"2020\",\"2021\"],\"xaxis\":\"x\",\"y\":[3067.0,3699.0,2890.0,2801.0,1318.0,1456.0,1246.0,1697.0,90.0,0.0,18.0,0.0],\"yaxis\":\"y\",\"type\":\"scattergl\"},{\"hovertemplate\":\"Exporters=Cyprus<br>Year=%{x}<br>Quantity (tonnes)=%{y}<extra></extra>\",\"legendgroup\":\"Cyprus\",\"line\":{\"color\":\"#B6E880\",\"dash\":\"solid\"},\"marker\":{\"symbol\":\"circle\"},\"mode\":\"lines\",\"name\":\"Cyprus\",\"showlegend\":true,\"x\":[\"2010\",\"2011\",\"2012\",\"2013\",\"2014\",\"2015\",\"2016\",\"2017\",\"2018\",\"2019\",\"2020\",\"2021\"],\"xaxis\":\"x\",\"y\":[0.0,0.0,0.0,4.0,0.0,0.0,5.0,1.0,5.0,5.0,0.0,0.0],\"yaxis\":\"y\",\"type\":\"scattergl\"},{\"hovertemplate\":\"Exporters=Czech Republic<br>Year=%{x}<br>Quantity (tonnes)=%{y}<extra></extra>\",\"legendgroup\":\"Czech Republic\",\"line\":{\"color\":\"#FF97FF\",\"dash\":\"solid\"},\"marker\":{\"symbol\":\"circle\"},\"mode\":\"lines\",\"name\":\"Czech Republic\",\"showlegend\":true,\"x\":[\"2010\",\"2011\",\"2012\",\"2013\",\"2014\",\"2015\",\"2016\",\"2017\",\"2018\",\"2019\",\"2020\",\"2021\"],\"xaxis\":\"x\",\"y\":[4707.0,5218.0,4146.0,3602.0,5089.0,3672.0,4419.0,3095.0,2572.0,3262.0,2287.0,2324.0],\"yaxis\":\"y\",\"type\":\"scattergl\"},{\"hovertemplate\":\"Exporters=Finland<br>Year=%{x}<br>Quantity (tonnes)=%{y}<extra></extra>\",\"legendgroup\":\"Finland\",\"line\":{\"color\":\"#FECB52\",\"dash\":\"solid\"},\"marker\":{\"symbol\":\"circle\"},\"mode\":\"lines\",\"name\":\"Finland\",\"showlegend\":true,\"x\":[\"2010\",\"2011\",\"2012\",\"2013\",\"2014\",\"2015\",\"2016\",\"2017\",\"2018\",\"2019\",\"2020\",\"2021\"],\"xaxis\":\"x\",\"y\":[26327.0,19896.0,14992.0,18229.0,22248.0,38432.0,37973.0,34123.0,30448.0,29714.0,41051.0,40820.0],\"yaxis\":\"y\",\"type\":\"scattergl\"},{\"hovertemplate\":\"Exporters=Gambia<br>Year=%{x}<br>Quantity (tonnes)=%{y}<extra></extra>\",\"legendgroup\":\"Gambia\",\"line\":{\"color\":\"#636efa\",\"dash\":\"solid\"},\"marker\":{\"symbol\":\"circle\"},\"mode\":\"lines\",\"name\":\"Gambia\",\"showlegend\":true,\"x\":[\"2010\",\"2011\",\"2012\",\"2013\",\"2014\",\"2015\",\"2016\",\"2017\",\"2018\",\"2019\",\"2020\",\"2021\"],\"xaxis\":\"x\",\"y\":[3.0,117.0,163.0,18.0,5.0,5.0,0.0,0.0,0.0,0.0,0.0,0.0],\"yaxis\":\"y\",\"type\":\"scattergl\"},{\"hovertemplate\":\"Exporters=Guatemala<br>Year=%{x}<br>Quantity (tonnes)=%{y}<extra></extra>\",\"legendgroup\":\"Guatemala\",\"line\":{\"color\":\"#EF553B\",\"dash\":\"solid\"},\"marker\":{\"symbol\":\"circle\"},\"mode\":\"lines\",\"name\":\"Guatemala\",\"showlegend\":true,\"x\":[\"2010\",\"2011\",\"2012\",\"2013\",\"2014\",\"2015\",\"2016\",\"2017\",\"2018\",\"2019\",\"2020\",\"2021\"],\"xaxis\":\"x\",\"y\":[29.0,20.0,3.0,12.0,1.0,25.0,1.0,2.0,2.0,0.0,0.0,0.0],\"yaxis\":\"y\",\"type\":\"scattergl\"},{\"hovertemplate\":\"Exporters=Suriname<br>Year=%{x}<br>Quantity (tonnes)=%{y}<extra></extra>\",\"legendgroup\":\"Suriname\",\"line\":{\"color\":\"#00cc96\",\"dash\":\"solid\"},\"marker\":{\"symbol\":\"circle\"},\"mode\":\"lines\",\"name\":\"Suriname\",\"showlegend\":true,\"x\":[\"2010\",\"2011\",\"2012\",\"2013\",\"2014\",\"2015\",\"2016\",\"2017\",\"2018\",\"2019\",\"2020\",\"2021\"],\"xaxis\":\"x\",\"y\":[3.0,4.0,4.0,4.0,8.0,0.0,0.0,0.0,0.0,0.0,0.0,0.0],\"yaxis\":\"y\",\"type\":\"scattergl\"},{\"hovertemplate\":\"Exporters=Eswatini<br>Year=%{x}<br>Quantity (tonnes)=%{y}<extra></extra>\",\"legendgroup\":\"Eswatini\",\"line\":{\"color\":\"#ab63fa\",\"dash\":\"solid\"},\"marker\":{\"symbol\":\"circle\"},\"mode\":\"lines\",\"name\":\"Eswatini\",\"showlegend\":true,\"x\":[\"2010\",\"2011\",\"2012\",\"2013\",\"2014\",\"2015\",\"2016\",\"2017\",\"2018\",\"2019\",\"2020\",\"2021\"],\"xaxis\":\"x\",\"y\":[2.0,0.0,10.0,0.0,0.0,0.0,0.0,0.0,0.0,0.0,0.0,0.0],\"yaxis\":\"y\",\"type\":\"scattergl\"},{\"hovertemplate\":\"Exporters=Togo<br>Year=%{x}<br>Quantity (tonnes)=%{y}<extra></extra>\",\"legendgroup\":\"Togo\",\"line\":{\"color\":\"#FFA15A\",\"dash\":\"solid\"},\"marker\":{\"symbol\":\"circle\"},\"mode\":\"lines\",\"name\":\"Togo\",\"showlegend\":true,\"x\":[\"2010\",\"2011\",\"2012\",\"2013\",\"2014\",\"2015\",\"2016\",\"2017\",\"2018\",\"2019\",\"2020\",\"2021\"],\"xaxis\":\"x\",\"y\":[0.0,0.0,0.0,0.0,0.0,1.0,8.0,0.0,0.0,45.0,0.0,0.0],\"yaxis\":\"y\",\"type\":\"scattergl\"},{\"hovertemplate\":\"Exporters=United States Minor Outlying Islands<br>Year=%{x}<br>Quantity (tonnes)=%{y}<extra></extra>\",\"legendgroup\":\"United States Minor Outlying Islands\",\"line\":{\"color\":\"#19d3f3\",\"dash\":\"solid\"},\"marker\":{\"symbol\":\"circle\"},\"mode\":\"lines\",\"name\":\"United States Minor Outlying Islands\",\"showlegend\":true,\"x\":[\"2010\",\"2011\",\"2012\",\"2013\",\"2021\"],\"xaxis\":\"x\",\"y\":[1.0,0.0,0.0,0.0,0.0],\"yaxis\":\"y\",\"type\":\"scattergl\"},{\"hovertemplate\":\"Exporters=Tanzania, United Republic of<br>Year=%{x}<br>Quantity (tonnes)=%{y}<extra></extra>\",\"legendgroup\":\"Tanzania, United Republic of\",\"line\":{\"color\":\"#FF6692\",\"dash\":\"solid\"},\"marker\":{\"symbol\":\"circle\"},\"mode\":\"lines\",\"name\":\"Tanzania, United Republic of\",\"showlegend\":true,\"x\":[\"2010\",\"2011\",\"2012\",\"2013\",\"2014\",\"2015\",\"2016\",\"2017\",\"2018\",\"2019\",\"2020\",\"2021\"],\"xaxis\":\"x\",\"y\":[1.0,1.0,0.0,0.0,5.0,0.0,0.0,0.0,0.0,0.0,0.0,0.0],\"yaxis\":\"y\",\"type\":\"scattergl\"},{\"hovertemplate\":\"Exporters=Free Zones<br>Year=%{x}<br>Quantity (tonnes)=%{y}<extra></extra>\",\"legendgroup\":\"Free Zones\",\"line\":{\"color\":\"#B6E880\",\"dash\":\"solid\"},\"marker\":{\"symbol\":\"circle\"},\"mode\":\"lines\",\"name\":\"Free Zones\",\"showlegend\":true,\"x\":[\"2010\",\"2011\",\"2012\",\"2013\",\"2014\",\"2015\",\"2016\",\"2017\"],\"xaxis\":\"x\",\"y\":[15.0,31.0,5.0,0.0,0.0,24.0,2.0,0.0],\"yaxis\":\"y\",\"type\":\"scattergl\"},{\"hovertemplate\":\"Exporters=Yemen<br>Year=%{x}<br>Quantity (tonnes)=%{y}<extra></extra>\",\"legendgroup\":\"Yemen\",\"line\":{\"color\":\"#FF97FF\",\"dash\":\"solid\"},\"marker\":{\"symbol\":\"circle\"},\"mode\":\"lines\",\"name\":\"Yemen\",\"showlegend\":true,\"x\":[\"2010\",\"2011\",\"2012\",\"2013\",\"2014\",\"2015\",\"2019\",\"2020\"],\"xaxis\":\"x\",\"y\":[304.0,1221.0,146.0,142.0,44.0,42.0,15.0,542.0],\"yaxis\":\"y\",\"type\":\"scattergl\"},{\"hovertemplate\":\"Exporters=Venezuela, Bolivarian Republic of<br>Year=%{x}<br>Quantity (tonnes)=%{y}<extra></extra>\",\"legendgroup\":\"Venezuela, Bolivarian Republic of\",\"line\":{\"color\":\"#FECB52\",\"dash\":\"solid\"},\"marker\":{\"symbol\":\"circle\"},\"mode\":\"lines\",\"name\":\"Venezuela, Bolivarian Republic of\",\"showlegend\":true,\"x\":[\"2010\",\"2011\",\"2012\",\"2013\",\"2014\",\"2015\",\"2017\",\"2018\",\"2019\"],\"xaxis\":\"x\",\"y\":[0.0,0.0,0.0,0.0,15.0,11.0,14.0,3.0,4.0],\"yaxis\":\"y\",\"type\":\"scattergl\"},{\"hovertemplate\":\"Exporters=Turkmenistan<br>Year=%{x}<br>Quantity (tonnes)=%{y}<extra></extra>\",\"legendgroup\":\"Turkmenistan\",\"line\":{\"color\":\"#636efa\",\"dash\":\"solid\"},\"marker\":{\"symbol\":\"circle\"},\"mode\":\"lines\",\"name\":\"Turkmenistan\",\"showlegend\":true,\"x\":[\"2010\",\"2016\",\"2017\",\"2019\"],\"xaxis\":\"x\",\"y\":[1.0,8.0,18.0,1.0],\"yaxis\":\"y\",\"type\":\"scattergl\"},{\"hovertemplate\":\"Exporters=Guinea<br>Year=%{x}<br>Quantity (tonnes)=%{y}<extra></extra>\",\"legendgroup\":\"Guinea\",\"line\":{\"color\":\"#EF553B\",\"dash\":\"solid\"},\"marker\":{\"symbol\":\"circle\"},\"mode\":\"lines\",\"name\":\"Guinea\",\"showlegend\":true,\"x\":[\"2010\",\"2011\",\"2012\",\"2013\",\"2014\",\"2015\",\"2016\",\"2020\"],\"xaxis\":\"x\",\"y\":[0.0,0.0,0.0,0.0,0.0,0.0,0.0,1.0],\"yaxis\":\"y\",\"type\":\"scattergl\"},{\"hovertemplate\":\"Exporters=Gibraltar<br>Year=%{x}<br>Quantity (tonnes)=%{y}<extra></extra>\",\"legendgroup\":\"Gibraltar\",\"line\":{\"color\":\"#00cc96\",\"dash\":\"solid\"},\"marker\":{\"symbol\":\"circle\"},\"mode\":\"lines\",\"name\":\"Gibraltar\",\"showlegend\":true,\"x\":[\"2010\",\"2011\"],\"xaxis\":\"x\",\"y\":[6.0,1.0],\"yaxis\":\"y\",\"type\":\"scattergl\"},{\"hovertemplate\":\"Exporters=Palestine, State of<br>Year=%{x}<br>Quantity (tonnes)=%{y}<extra></extra>\",\"legendgroup\":\"Palestine, State of\",\"line\":{\"color\":\"#ab63fa\",\"dash\":\"solid\"},\"marker\":{\"symbol\":\"circle\"},\"mode\":\"lines\",\"name\":\"Palestine, State of\",\"showlegend\":true,\"x\":[\"2010\",\"2011\",\"2012\",\"2013\",\"2014\",\"2015\",\"2016\",\"2017\",\"2018\",\"2019\",\"2020\"],\"xaxis\":\"x\",\"y\":[16.0,0.0,0.0,1.0,1.0,0.0,12.0,2.0,0.0,0.0,0.0],\"yaxis\":\"y\",\"type\":\"scattergl\"},{\"hovertemplate\":\"Exporters=French Polynesia<br>Year=%{x}<br>Quantity (tonnes)=%{y}<extra></extra>\",\"legendgroup\":\"French Polynesia\",\"line\":{\"color\":\"#FFA15A\",\"dash\":\"solid\"},\"marker\":{\"symbol\":\"circle\"},\"mode\":\"lines\",\"name\":\"French Polynesia\",\"showlegend\":true,\"x\":[\"2010\",\"2011\",\"2012\",\"2013\",\"2014\",\"2015\",\"2016\",\"2017\",\"2018\",\"2019\",\"2020\"],\"xaxis\":\"x\",\"y\":[1.0,0.0,0.0,0.0,0.0,0.0,0.0,0.0,0.0,0.0,0.0],\"yaxis\":\"y\",\"type\":\"scattergl\"},{\"hovertemplate\":\"Exporters=Dominica<br>Year=%{x}<br>Quantity (tonnes)=%{y}<extra></extra>\",\"legendgroup\":\"Dominica\",\"line\":{\"color\":\"#19d3f3\",\"dash\":\"solid\"},\"marker\":{\"symbol\":\"circle\"},\"mode\":\"lines\",\"name\":\"Dominica\",\"showlegend\":true,\"x\":[\"2010\",\"2011\",\"2012\",\"2013\",\"2014\",\"2015\",\"2020\"],\"xaxis\":\"x\",\"y\":[0.0,0.0,0.0,0.0,0.0,0.0,0.0],\"yaxis\":\"y\",\"type\":\"scattergl\"},{\"hovertemplate\":\"Exporters=Afghanistan<br>Year=%{x}<br>Quantity (tonnes)=%{y}<extra></extra>\",\"legendgroup\":\"Afghanistan\",\"line\":{\"color\":\"#FF6692\",\"dash\":\"solid\"},\"marker\":{\"symbol\":\"circle\"},\"mode\":\"lines\",\"name\":\"Afghanistan\",\"showlegend\":true,\"x\":[\"2010\",\"2011\",\"2012\",\"2013\",\"2014\",\"2015\",\"2016\",\"2017\",\"2018\",\"2019\",\"2020\"],\"xaxis\":\"x\",\"y\":[0.0,0.0,0.0,0.0,0.0,0.0,0.0,0.0,0.0,0.0,0.0],\"yaxis\":\"y\",\"type\":\"scattergl\"},{\"hovertemplate\":\"Exporters=Albania<br>Year=%{x}<br>Quantity (tonnes)=%{y}<extra></extra>\",\"legendgroup\":\"Albania\",\"line\":{\"color\":\"#B6E880\",\"dash\":\"solid\"},\"marker\":{\"symbol\":\"circle\"},\"mode\":\"lines\",\"name\":\"Albania\",\"showlegend\":true,\"x\":[\"2010\",\"2011\",\"2012\",\"2013\",\"2014\",\"2015\",\"2016\",\"2017\",\"2018\",\"2019\",\"2020\"],\"xaxis\":\"x\",\"y\":[0.0,1.0,0.0,0.0,0.0,0.0,0.0,0.0,0.0,0.0,0.0],\"yaxis\":\"y\",\"type\":\"scattergl\"},{\"hovertemplate\":\"Exporters=Solomon Islands<br>Year=%{x}<br>Quantity (tonnes)=%{y}<extra></extra>\",\"legendgroup\":\"Solomon Islands\",\"line\":{\"color\":\"#FF97FF\",\"dash\":\"solid\"},\"marker\":{\"symbol\":\"circle\"},\"mode\":\"lines\",\"name\":\"Solomon Islands\",\"showlegend\":true,\"x\":[\"2010\",\"2011\",\"2012\",\"2013\",\"2014\",\"2015\",\"2016\",\"2017\",\"2018\"],\"xaxis\":\"x\",\"y\":[0.0,0.0,0.0,0.0,0.0,0.0,0.0,0.0,0.0],\"yaxis\":\"y\",\"type\":\"scattergl\"},{\"hovertemplate\":\"Exporters=Cameroon<br>Year=%{x}<br>Quantity (tonnes)=%{y}<extra></extra>\",\"legendgroup\":\"Cameroon\",\"line\":{\"color\":\"#FECB52\",\"dash\":\"solid\"},\"marker\":{\"symbol\":\"circle\"},\"mode\":\"lines\",\"name\":\"Cameroon\",\"showlegend\":true,\"x\":[\"2010\",\"2011\",\"2012\",\"2013\",\"2014\",\"2015\",\"2016\",\"2017\",\"2018\",\"2019\",\"2020\"],\"xaxis\":\"x\",\"y\":[2.0,5.0,0.0,0.0,17.0,0.0,1.0,0.0,0.0,8.0,13.0],\"yaxis\":\"y\",\"type\":\"scattergl\"},{\"hovertemplate\":\"Exporters=Somalia<br>Year=%{x}<br>Quantity (tonnes)=%{y}<extra></extra>\",\"legendgroup\":\"Somalia\",\"line\":{\"color\":\"#636efa\",\"dash\":\"solid\"},\"marker\":{\"symbol\":\"circle\"},\"mode\":\"lines\",\"name\":\"Somalia\",\"showlegend\":true,\"x\":[\"2010\"],\"xaxis\":\"x\",\"y\":[7.0],\"yaxis\":\"y\",\"type\":\"scattergl\"},{\"hovertemplate\":\"Exporters=Niue<br>Year=%{x}<br>Quantity (tonnes)=%{y}<extra></extra>\",\"legendgroup\":\"Niue\",\"line\":{\"color\":\"#EF553B\",\"dash\":\"solid\"},\"marker\":{\"symbol\":\"circle\"},\"mode\":\"lines\",\"name\":\"Niue\",\"showlegend\":true,\"x\":[\"2010\"],\"xaxis\":\"x\",\"y\":[12.0],\"yaxis\":\"y\",\"type\":\"scattergl\"},{\"hovertemplate\":\"Exporters=New Caledonia<br>Year=%{x}<br>Quantity (tonnes)=%{y}<extra></extra>\",\"legendgroup\":\"New Caledonia\",\"line\":{\"color\":\"#00cc96\",\"dash\":\"solid\"},\"marker\":{\"symbol\":\"circle\"},\"mode\":\"lines\",\"name\":\"New Caledonia\",\"showlegend\":true,\"x\":[\"2010\",\"2011\",\"2012\",\"2013\",\"2014\",\"2015\",\"2017\",\"2018\",\"2019\"],\"xaxis\":\"x\",\"y\":[0.0,0.0,0.0,0.0,0.0,0.0,14.0,13.0,25.0],\"yaxis\":\"y\",\"type\":\"scattergl\"},{\"hovertemplate\":\"Exporters=Vanuatu<br>Year=%{x}<br>Quantity (tonnes)=%{y}<extra></extra>\",\"legendgroup\":\"Vanuatu\",\"line\":{\"color\":\"#ab63fa\",\"dash\":\"solid\"},\"marker\":{\"symbol\":\"circle\"},\"mode\":\"lines\",\"name\":\"Vanuatu\",\"showlegend\":true,\"x\":[\"2010\",\"2011\",\"2014\"],\"xaxis\":\"x\",\"y\":[0.0,0.0,0.0],\"yaxis\":\"y\",\"type\":\"scattergl\"},{\"hovertemplate\":\"Exporters=Lesotho<br>Year=%{x}<br>Quantity (tonnes)=%{y}<extra></extra>\",\"legendgroup\":\"Lesotho\",\"line\":{\"color\":\"#FFA15A\",\"dash\":\"solid\"},\"marker\":{\"symbol\":\"circle\"},\"mode\":\"lines\",\"name\":\"Lesotho\",\"showlegend\":true,\"x\":[\"2010\",\"2011\",\"2012\",\"2013\",\"2014\",\"2015\",\"2016\",\"2017\",\"2018\",\"2019\",\"2020\"],\"xaxis\":\"x\",\"y\":[0.0,0.0,0.0,0.0,0.0,0.0,0.0,0.0,0.0,0.0,0.0],\"yaxis\":\"y\",\"type\":\"scattergl\"},{\"hovertemplate\":\"Exporters=Malawi<br>Year=%{x}<br>Quantity (tonnes)=%{y}<extra></extra>\",\"legendgroup\":\"Malawi\",\"line\":{\"color\":\"#19d3f3\",\"dash\":\"solid\"},\"marker\":{\"symbol\":\"circle\"},\"mode\":\"lines\",\"name\":\"Malawi\",\"showlegend\":true,\"x\":[\"2010\",\"2011\",\"2012\",\"2013\",\"2014\",\"2015\",\"2016\",\"2017\",\"2018\",\"2019\",\"2020\"],\"xaxis\":\"x\",\"y\":[3.0,1.0,0.0,0.0,0.0,0.0,0.0,7.0,0.0,0.0,0.0],\"yaxis\":\"y\",\"type\":\"scattergl\"},{\"hovertemplate\":\"Exporters=Libya, State of<br>Year=%{x}<br>Quantity (tonnes)=%{y}<extra></extra>\",\"legendgroup\":\"Libya, State of\",\"line\":{\"color\":\"#FF6692\",\"dash\":\"solid\"},\"marker\":{\"symbol\":\"circle\"},\"mode\":\"lines\",\"name\":\"Libya, State of\",\"showlegend\":true,\"x\":[\"2010\",\"2015\",\"2016\",\"2017\",\"2018\",\"2019\"],\"xaxis\":\"x\",\"y\":[0.0,4.0,0.0,0.0,0.0,0.0],\"yaxis\":\"y\",\"type\":\"scattergl\"},{\"hovertemplate\":\"Exporters=Mali<br>Year=%{x}<br>Quantity (tonnes)=%{y}<extra></extra>\",\"legendgroup\":\"Mali\",\"line\":{\"color\":\"#B6E880\",\"dash\":\"solid\"},\"marker\":{\"symbol\":\"circle\"},\"mode\":\"lines\",\"name\":\"Mali\",\"showlegend\":true,\"x\":[\"2010\",\"2011\",\"2012\",\"2016\",\"2017\",\"2018\",\"2019\"],\"xaxis\":\"x\",\"y\":[0.0,0.0,0.0,0.0,5.0,3.0,7.0],\"yaxis\":\"y\",\"type\":\"scattergl\"},{\"hovertemplate\":\"Exporters=Netherlands Antilles<br>Year=%{x}<br>Quantity (tonnes)=%{y}<extra></extra>\",\"legendgroup\":\"Netherlands Antilles\",\"line\":{\"color\":\"#FF97FF\",\"dash\":\"solid\"},\"marker\":{\"symbol\":\"circle\"},\"mode\":\"lines\",\"name\":\"Netherlands Antilles\",\"showlegend\":true,\"x\":[\"2010\"],\"xaxis\":\"x\",\"y\":[0.0],\"yaxis\":\"y\",\"type\":\"scattergl\"},{\"hovertemplate\":\"Exporters=Ship stores and bunkers<br>Year=%{x}<br>Quantity (tonnes)=%{y}<extra></extra>\",\"legendgroup\":\"Ship stores and bunkers\",\"line\":{\"color\":\"#FECB52\",\"dash\":\"solid\"},\"marker\":{\"symbol\":\"circle\"},\"mode\":\"lines\",\"name\":\"Ship stores and bunkers\",\"showlegend\":true,\"x\":[\"2011\"],\"xaxis\":\"x\",\"y\":[0.0],\"yaxis\":\"y\",\"type\":\"scattergl\"},{\"hovertemplate\":\"Exporters=Turks and Caicos Islands<br>Year=%{x}<br>Quantity (tonnes)=%{y}<extra></extra>\",\"legendgroup\":\"Turks and Caicos Islands\",\"line\":{\"color\":\"#636efa\",\"dash\":\"solid\"},\"marker\":{\"symbol\":\"circle\"},\"mode\":\"lines\",\"name\":\"Turks and Caicos Islands\",\"showlegend\":true,\"x\":[\"2011\",\"2012\",\"2014\"],\"xaxis\":\"x\",\"y\":[0.0,0.0,22.0],\"yaxis\":\"y\",\"type\":\"scattergl\"},{\"hovertemplate\":\"Exporters=British Virgin Islands<br>Year=%{x}<br>Quantity (tonnes)=%{y}<extra></extra>\",\"legendgroup\":\"British Virgin Islands\",\"line\":{\"color\":\"#EF553B\",\"dash\":\"solid\"},\"marker\":{\"symbol\":\"circle\"},\"mode\":\"lines\",\"name\":\"British Virgin Islands\",\"showlegend\":true,\"x\":[\"2011\"],\"xaxis\":\"x\",\"y\":[6.0],\"yaxis\":\"y\",\"type\":\"scattergl\"},{\"hovertemplate\":\"Exporters=United Arab Emirates<br>Year=%{x}<br>Quantity (tonnes)=%{y}<extra></extra>\",\"legendgroup\":\"United Arab Emirates\",\"line\":{\"color\":\"#00cc96\",\"dash\":\"solid\"},\"marker\":{\"symbol\":\"circle\"},\"mode\":\"lines\",\"name\":\"United Arab Emirates\",\"showlegend\":true,\"x\":[\"2012\",\"2013\",\"2014\",\"2015\",\"2016\",\"2017\",\"2018\",\"2019\",\"2020\",\"2021\"],\"xaxis\":\"x\",\"y\":[5536.0,4617.0,5140.0,3768.0,1731.0,928.0,5118.0,14248.0,3610.0,2057.0],\"yaxis\":\"y\",\"type\":\"scattergl\"},{\"hovertemplate\":\"Exporters=Sudan<br>Year=%{x}<br>Quantity (tonnes)=%{y}<extra></extra>\",\"legendgroup\":\"Sudan\",\"line\":{\"color\":\"#ab63fa\",\"dash\":\"solid\"},\"marker\":{\"symbol\":\"circle\"},\"mode\":\"lines\",\"name\":\"Sudan\",\"showlegend\":true,\"x\":[\"2012\",\"2013\",\"2014\",\"2015\",\"2016\",\"2017\",\"2018\",\"2020\",\"2021\"],\"xaxis\":\"x\",\"y\":[0.0,0.0,0.0,0.0,0.0,0.0,0.0,0.0,2.0],\"yaxis\":\"y\",\"type\":\"scattergl\"},{\"hovertemplate\":\"Exporters=Bermuda<br>Year=%{x}<br>Quantity (tonnes)=%{y}<extra></extra>\",\"legendgroup\":\"Bermuda\",\"line\":{\"color\":\"#FFA15A\",\"dash\":\"solid\"},\"marker\":{\"symbol\":\"circle\"},\"mode\":\"lines\",\"name\":\"Bermuda\",\"showlegend\":true,\"x\":[\"2012\",\"2013\",\"2014\",\"2015\",\"2016\",\"2017\",\"2018\",\"2019\",\"2020\",\"2021\"],\"xaxis\":\"x\",\"y\":[12.0,0.0,0.0,0.0,0.0,0.0,0.0,1.0,0.0,0.0],\"yaxis\":\"y\",\"type\":\"scattergl\"},{\"hovertemplate\":\"Exporters=Saint Lucia<br>Year=%{x}<br>Quantity (tonnes)=%{y}<extra></extra>\",\"legendgroup\":\"Saint Lucia\",\"line\":{\"color\":\"#19d3f3\",\"dash\":\"solid\"},\"marker\":{\"symbol\":\"circle\"},\"mode\":\"lines\",\"name\":\"Saint Lucia\",\"showlegend\":true,\"x\":[\"2012\",\"2013\",\"2014\",\"2015\",\"2016\",\"2017\",\"2018\",\"2019\",\"2020\"],\"xaxis\":\"x\",\"y\":[0.0,0.0,0.0,0.0,0.0,0.0,0.0,0.0,0.0],\"yaxis\":\"y\",\"type\":\"scattergl\"},{\"hovertemplate\":\"Exporters=Haiti<br>Year=%{x}<br>Quantity (tonnes)=%{y}<extra></extra>\",\"legendgroup\":\"Haiti\",\"line\":{\"color\":\"#FF6692\",\"dash\":\"solid\"},\"marker\":{\"symbol\":\"circle\"},\"mode\":\"lines\",\"name\":\"Haiti\",\"showlegend\":true,\"x\":[\"2013\",\"2014\",\"2015\",\"2016\",\"2017\",\"2018\",\"2019\",\"2020\",\"2021\"],\"xaxis\":\"x\",\"y\":[9.0,6.0,2.0,17.0,41.0,1.0,30.0,1.0,1.0],\"yaxis\":\"y\",\"type\":\"scattergl\"},{\"hovertemplate\":\"Exporters=Iraq<br>Year=%{x}<br>Quantity (tonnes)=%{y}<extra></extra>\",\"legendgroup\":\"Iraq\",\"line\":{\"color\":\"#B6E880\",\"dash\":\"solid\"},\"marker\":{\"symbol\":\"circle\"},\"mode\":\"lines\",\"name\":\"Iraq\",\"showlegend\":true,\"x\":[\"2014\",\"2015\",\"2020\"],\"xaxis\":\"x\",\"y\":[0.0,6.0,10.0],\"yaxis\":\"y\",\"type\":\"scattergl\"},{\"hovertemplate\":\"Exporters=Sierra Leone<br>Year=%{x}<br>Quantity (tonnes)=%{y}<extra></extra>\",\"legendgroup\":\"Sierra Leone\",\"line\":{\"color\":\"#FF97FF\",\"dash\":\"solid\"},\"marker\":{\"symbol\":\"circle\"},\"mode\":\"lines\",\"name\":\"Sierra Leone\",\"showlegend\":true,\"x\":[\"2014\",\"2015\",\"2016\",\"2017\",\"2018\",\"2019\"],\"xaxis\":\"x\",\"y\":[0.0,0.0,0.0,12.0,0.0,21.0],\"yaxis\":\"y\",\"type\":\"scattergl\"},{\"hovertemplate\":\"Exporters=Congo, Democratic Republic of the<br>Year=%{x}<br>Quantity (tonnes)=%{y}<extra></extra>\",\"legendgroup\":\"Congo, Democratic Republic of the\",\"line\":{\"color\":\"#FECB52\",\"dash\":\"solid\"},\"marker\":{\"symbol\":\"circle\"},\"mode\":\"lines\",\"name\":\"Congo, Democratic Republic of the\",\"showlegend\":true,\"x\":[\"2015\",\"2016\",\"2017\",\"2018\",\"2019\",\"2020\",\"2021\"],\"xaxis\":\"x\",\"y\":[0.0,0.0,1.0,0.0,1.0,0.0,1.0],\"yaxis\":\"y\",\"type\":\"scattergl\"},{\"hovertemplate\":\"Exporters=Djibouti<br>Year=%{x}<br>Quantity (tonnes)=%{y}<extra></extra>\",\"legendgroup\":\"Djibouti\",\"line\":{\"color\":\"#636efa\",\"dash\":\"solid\"},\"marker\":{\"symbol\":\"circle\"},\"mode\":\"lines\",\"name\":\"Djibouti\",\"showlegend\":true,\"x\":[\"2015\"],\"xaxis\":\"x\",\"y\":[4.0],\"yaxis\":\"y\",\"type\":\"scattergl\"},{\"hovertemplate\":\"Exporters=Uzbekistan<br>Year=%{x}<br>Quantity (tonnes)=%{y}<extra></extra>\",\"legendgroup\":\"Uzbekistan\",\"line\":{\"color\":\"#EF553B\",\"dash\":\"solid\"},\"marker\":{\"symbol\":\"circle\"},\"mode\":\"lines\",\"name\":\"Uzbekistan\",\"showlegend\":true,\"x\":[\"2017\",\"2018\",\"2019\",\"2020\",\"2021\"],\"xaxis\":\"x\",\"y\":[20.0,7.0,45.0,37.0,145.0],\"yaxis\":\"y\",\"type\":\"scattergl\"},{\"hovertemplate\":\"Exporters=Cura\\u00e7ao<br>Year=%{x}<br>Quantity (tonnes)=%{y}<extra></extra>\",\"legendgroup\":\"Cura\\u00e7ao\",\"line\":{\"color\":\"#00cc96\",\"dash\":\"solid\"},\"marker\":{\"symbol\":\"circle\"},\"mode\":\"lines\",\"name\":\"Cura\\u00e7ao\",\"showlegend\":true,\"x\":[\"2017\",\"2018\",\"2019\",\"2020\",\"2021\"],\"xaxis\":\"x\",\"y\":[0.0,0.0,0.0,0.0,3.0],\"yaxis\":\"y\",\"type\":\"scattergl\"},{\"hovertemplate\":\"Exporters=American Samoa<br>Year=%{x}<br>Quantity (tonnes)=%{y}<extra></extra>\",\"legendgroup\":\"American Samoa\",\"line\":{\"color\":\"#ab63fa\",\"dash\":\"solid\"},\"marker\":{\"symbol\":\"circle\"},\"mode\":\"lines\",\"name\":\"American Samoa\",\"showlegend\":true,\"x\":[\"2018\"],\"xaxis\":\"x\",\"y\":[1.0],\"yaxis\":\"y\",\"type\":\"scattergl\"}],                        {\"template\":{\"data\":{\"bar\":[{\"error_x\":{\"color\":\"#2a3f5f\"},\"error_y\":{\"color\":\"#2a3f5f\"},\"marker\":{\"line\":{\"color\":\"#E5ECF6\",\"width\":0.5},\"pattern\":{\"fillmode\":\"overlay\",\"size\":10,\"solidity\":0.2}},\"type\":\"bar\"}],\"barpolar\":[{\"marker\":{\"line\":{\"color\":\"#E5ECF6\",\"width\":0.5},\"pattern\":{\"fillmode\":\"overlay\",\"size\":10,\"solidity\":0.2}},\"type\":\"barpolar\"}],\"carpet\":[{\"aaxis\":{\"endlinecolor\":\"#2a3f5f\",\"gridcolor\":\"white\",\"linecolor\":\"white\",\"minorgridcolor\":\"white\",\"startlinecolor\":\"#2a3f5f\"},\"baxis\":{\"endlinecolor\":\"#2a3f5f\",\"gridcolor\":\"white\",\"linecolor\":\"white\",\"minorgridcolor\":\"white\",\"startlinecolor\":\"#2a3f5f\"},\"type\":\"carpet\"}],\"choropleth\":[{\"colorbar\":{\"outlinewidth\":0,\"ticks\":\"\"},\"type\":\"choropleth\"}],\"contour\":[{\"colorbar\":{\"outlinewidth\":0,\"ticks\":\"\"},\"colorscale\":[[0.0,\"#0d0887\"],[0.1111111111111111,\"#46039f\"],[0.2222222222222222,\"#7201a8\"],[0.3333333333333333,\"#9c179e\"],[0.4444444444444444,\"#bd3786\"],[0.5555555555555556,\"#d8576b\"],[0.6666666666666666,\"#ed7953\"],[0.7777777777777778,\"#fb9f3a\"],[0.8888888888888888,\"#fdca26\"],[1.0,\"#f0f921\"]],\"type\":\"contour\"}],\"contourcarpet\":[{\"colorbar\":{\"outlinewidth\":0,\"ticks\":\"\"},\"type\":\"contourcarpet\"}],\"heatmap\":[{\"colorbar\":{\"outlinewidth\":0,\"ticks\":\"\"},\"colorscale\":[[0.0,\"#0d0887\"],[0.1111111111111111,\"#46039f\"],[0.2222222222222222,\"#7201a8\"],[0.3333333333333333,\"#9c179e\"],[0.4444444444444444,\"#bd3786\"],[0.5555555555555556,\"#d8576b\"],[0.6666666666666666,\"#ed7953\"],[0.7777777777777778,\"#fb9f3a\"],[0.8888888888888888,\"#fdca26\"],[1.0,\"#f0f921\"]],\"type\":\"heatmap\"}],\"heatmapgl\":[{\"colorbar\":{\"outlinewidth\":0,\"ticks\":\"\"},\"colorscale\":[[0.0,\"#0d0887\"],[0.1111111111111111,\"#46039f\"],[0.2222222222222222,\"#7201a8\"],[0.3333333333333333,\"#9c179e\"],[0.4444444444444444,\"#bd3786\"],[0.5555555555555556,\"#d8576b\"],[0.6666666666666666,\"#ed7953\"],[0.7777777777777778,\"#fb9f3a\"],[0.8888888888888888,\"#fdca26\"],[1.0,\"#f0f921\"]],\"type\":\"heatmapgl\"}],\"histogram\":[{\"marker\":{\"pattern\":{\"fillmode\":\"overlay\",\"size\":10,\"solidity\":0.2}},\"type\":\"histogram\"}],\"histogram2d\":[{\"colorbar\":{\"outlinewidth\":0,\"ticks\":\"\"},\"colorscale\":[[0.0,\"#0d0887\"],[0.1111111111111111,\"#46039f\"],[0.2222222222222222,\"#7201a8\"],[0.3333333333333333,\"#9c179e\"],[0.4444444444444444,\"#bd3786\"],[0.5555555555555556,\"#d8576b\"],[0.6666666666666666,\"#ed7953\"],[0.7777777777777778,\"#fb9f3a\"],[0.8888888888888888,\"#fdca26\"],[1.0,\"#f0f921\"]],\"type\":\"histogram2d\"}],\"histogram2dcontour\":[{\"colorbar\":{\"outlinewidth\":0,\"ticks\":\"\"},\"colorscale\":[[0.0,\"#0d0887\"],[0.1111111111111111,\"#46039f\"],[0.2222222222222222,\"#7201a8\"],[0.3333333333333333,\"#9c179e\"],[0.4444444444444444,\"#bd3786\"],[0.5555555555555556,\"#d8576b\"],[0.6666666666666666,\"#ed7953\"],[0.7777777777777778,\"#fb9f3a\"],[0.8888888888888888,\"#fdca26\"],[1.0,\"#f0f921\"]],\"type\":\"histogram2dcontour\"}],\"mesh3d\":[{\"colorbar\":{\"outlinewidth\":0,\"ticks\":\"\"},\"type\":\"mesh3d\"}],\"parcoords\":[{\"line\":{\"colorbar\":{\"outlinewidth\":0,\"ticks\":\"\"}},\"type\":\"parcoords\"}],\"pie\":[{\"automargin\":true,\"type\":\"pie\"}],\"scatter\":[{\"marker\":{\"colorbar\":{\"outlinewidth\":0,\"ticks\":\"\"}},\"type\":\"scatter\"}],\"scatter3d\":[{\"line\":{\"colorbar\":{\"outlinewidth\":0,\"ticks\":\"\"}},\"marker\":{\"colorbar\":{\"outlinewidth\":0,\"ticks\":\"\"}},\"type\":\"scatter3d\"}],\"scattercarpet\":[{\"marker\":{\"colorbar\":{\"outlinewidth\":0,\"ticks\":\"\"}},\"type\":\"scattercarpet\"}],\"scattergeo\":[{\"marker\":{\"colorbar\":{\"outlinewidth\":0,\"ticks\":\"\"}},\"type\":\"scattergeo\"}],\"scattergl\":[{\"marker\":{\"colorbar\":{\"outlinewidth\":0,\"ticks\":\"\"}},\"type\":\"scattergl\"}],\"scattermapbox\":[{\"marker\":{\"colorbar\":{\"outlinewidth\":0,\"ticks\":\"\"}},\"type\":\"scattermapbox\"}],\"scatterpolar\":[{\"marker\":{\"colorbar\":{\"outlinewidth\":0,\"ticks\":\"\"}},\"type\":\"scatterpolar\"}],\"scatterpolargl\":[{\"marker\":{\"colorbar\":{\"outlinewidth\":0,\"ticks\":\"\"}},\"type\":\"scatterpolargl\"}],\"scatterternary\":[{\"marker\":{\"colorbar\":{\"outlinewidth\":0,\"ticks\":\"\"}},\"type\":\"scatterternary\"}],\"surface\":[{\"colorbar\":{\"outlinewidth\":0,\"ticks\":\"\"},\"colorscale\":[[0.0,\"#0d0887\"],[0.1111111111111111,\"#46039f\"],[0.2222222222222222,\"#7201a8\"],[0.3333333333333333,\"#9c179e\"],[0.4444444444444444,\"#bd3786\"],[0.5555555555555556,\"#d8576b\"],[0.6666666666666666,\"#ed7953\"],[0.7777777777777778,\"#fb9f3a\"],[0.8888888888888888,\"#fdca26\"],[1.0,\"#f0f921\"]],\"type\":\"surface\"}],\"table\":[{\"cells\":{\"fill\":{\"color\":\"#EBF0F8\"},\"line\":{\"color\":\"white\"}},\"header\":{\"fill\":{\"color\":\"#C8D4E3\"},\"line\":{\"color\":\"white\"}},\"type\":\"table\"}]},\"layout\":{\"annotationdefaults\":{\"arrowcolor\":\"#2a3f5f\",\"arrowhead\":0,\"arrowwidth\":1},\"autotypenumbers\":\"strict\",\"coloraxis\":{\"colorbar\":{\"outlinewidth\":0,\"ticks\":\"\"}},\"colorscale\":{\"diverging\":[[0,\"#8e0152\"],[0.1,\"#c51b7d\"],[0.2,\"#de77ae\"],[0.3,\"#f1b6da\"],[0.4,\"#fde0ef\"],[0.5,\"#f7f7f7\"],[0.6,\"#e6f5d0\"],[0.7,\"#b8e186\"],[0.8,\"#7fbc41\"],[0.9,\"#4d9221\"],[1,\"#276419\"]],\"sequential\":[[0.0,\"#0d0887\"],[0.1111111111111111,\"#46039f\"],[0.2222222222222222,\"#7201a8\"],[0.3333333333333333,\"#9c179e\"],[0.4444444444444444,\"#bd3786\"],[0.5555555555555556,\"#d8576b\"],[0.6666666666666666,\"#ed7953\"],[0.7777777777777778,\"#fb9f3a\"],[0.8888888888888888,\"#fdca26\"],[1.0,\"#f0f921\"]],\"sequentialminus\":[[0.0,\"#0d0887\"],[0.1111111111111111,\"#46039f\"],[0.2222222222222222,\"#7201a8\"],[0.3333333333333333,\"#9c179e\"],[0.4444444444444444,\"#bd3786\"],[0.5555555555555556,\"#d8576b\"],[0.6666666666666666,\"#ed7953\"],[0.7777777777777778,\"#fb9f3a\"],[0.8888888888888888,\"#fdca26\"],[1.0,\"#f0f921\"]]},\"colorway\":[\"#636efa\",\"#EF553B\",\"#00cc96\",\"#ab63fa\",\"#FFA15A\",\"#19d3f3\",\"#FF6692\",\"#B6E880\",\"#FF97FF\",\"#FECB52\"],\"font\":{\"color\":\"#2a3f5f\"},\"geo\":{\"bgcolor\":\"white\",\"lakecolor\":\"white\",\"landcolor\":\"#E5ECF6\",\"showlakes\":true,\"showland\":true,\"subunitcolor\":\"white\"},\"hoverlabel\":{\"align\":\"left\"},\"hovermode\":\"closest\",\"mapbox\":{\"style\":\"light\"},\"paper_bgcolor\":\"white\",\"plot_bgcolor\":\"#E5ECF6\",\"polar\":{\"angularaxis\":{\"gridcolor\":\"white\",\"linecolor\":\"white\",\"ticks\":\"\"},\"bgcolor\":\"#E5ECF6\",\"radialaxis\":{\"gridcolor\":\"white\",\"linecolor\":\"white\",\"ticks\":\"\"}},\"scene\":{\"xaxis\":{\"backgroundcolor\":\"#E5ECF6\",\"gridcolor\":\"white\",\"gridwidth\":2,\"linecolor\":\"white\",\"showbackground\":true,\"ticks\":\"\",\"zerolinecolor\":\"white\"},\"yaxis\":{\"backgroundcolor\":\"#E5ECF6\",\"gridcolor\":\"white\",\"gridwidth\":2,\"linecolor\":\"white\",\"showbackground\":true,\"ticks\":\"\",\"zerolinecolor\":\"white\"},\"zaxis\":{\"backgroundcolor\":\"#E5ECF6\",\"gridcolor\":\"white\",\"gridwidth\":2,\"linecolor\":\"white\",\"showbackground\":true,\"ticks\":\"\",\"zerolinecolor\":\"white\"}},\"shapedefaults\":{\"line\":{\"color\":\"#2a3f5f\"}},\"ternary\":{\"aaxis\":{\"gridcolor\":\"white\",\"linecolor\":\"white\",\"ticks\":\"\"},\"baxis\":{\"gridcolor\":\"white\",\"linecolor\":\"white\",\"ticks\":\"\"},\"bgcolor\":\"#E5ECF6\",\"caxis\":{\"gridcolor\":\"white\",\"linecolor\":\"white\",\"ticks\":\"\"}},\"title\":{\"x\":0.05},\"xaxis\":{\"automargin\":true,\"gridcolor\":\"white\",\"linecolor\":\"white\",\"ticks\":\"\",\"title\":{\"standoff\":15},\"zerolinecolor\":\"white\",\"zerolinewidth\":2},\"yaxis\":{\"automargin\":true,\"gridcolor\":\"white\",\"linecolor\":\"white\",\"ticks\":\"\",\"title\":{\"standoff\":15},\"zerolinecolor\":\"white\",\"zerolinewidth\":2}}},\"xaxis\":{\"anchor\":\"y\",\"domain\":[0.0,1.0],\"title\":{\"text\":\"Year\"}},\"yaxis\":{\"anchor\":\"x\",\"domain\":[0.0,1.0],\"title\":{\"text\":\"Quantity (tonnes)\"}},\"legend\":{\"title\":{\"text\":\"Exporters\"},\"tracegroupgap\":0},\"title\":{\"text\":\"Butter Export Quantities - All Countries\"}},                        {\"responsive\": true}                    ).then(function(){\n",
       "                            \n",
       "var gd = document.getElementById('6ea60e6e-de7a-4db7-9613-123a0eabde1b');\n",
       "var x = new MutationObserver(function (mutations, observer) {{\n",
       "        var display = window.getComputedStyle(gd).display;\n",
       "        if (!display || display === 'none') {{\n",
       "            console.log([gd, 'removed!']);\n",
       "            Plotly.purge(gd);\n",
       "            observer.disconnect();\n",
       "        }}\n",
       "}});\n",
       "\n",
       "// Listen for the removal of the full notebook cells\n",
       "var notebookContainer = gd.closest('#notebook-container');\n",
       "if (notebookContainer) {{\n",
       "    x.observe(notebookContainer, {childList: true});\n",
       "}}\n",
       "\n",
       "// Listen for the clearing of the current output cell\n",
       "var outputEl = gd.closest('.output');\n",
       "if (outputEl) {{\n",
       "    x.observe(outputEl, {childList: true});\n",
       "}}\n",
       "\n",
       "                        })                };                });            </script>        </div>"
      ]
     },
     "metadata": {},
     "output_type": "display_data"
    }
   ],
   "source": [
    "# df_global.sort_values(by=['Year','Quantity (tonnes)'],ascending=[True,False],inplace=True)\n",
    "fig = px.line(df_global, \n",
    "              x=\"Year\", \n",
    "              y=\"Quantity (tonnes)\", \n",
    "              color='Exporters', \n",
    "              title='Butter Export Quantities - All Countries')\n",
    "fig.show()"
   ]
  },
  {
   "cell_type": "code",
   "execution_count": 283,
   "id": "c6b4b193",
   "metadata": {},
   "outputs": [
    {
     "data": {
      "application/vnd.plotly.v1+json": {
       "config": {
        "plotlyServerURL": "https://plot.ly"
       },
       "data": [
        {
         "hovertemplate": "Exporters=Netherlands<br>Year=%{x}<br>Value (k Euro)=%{y}<extra></extra>",
         "legendgroup": "Netherlands",
         "line": {
          "color": "#636efa",
          "dash": "solid"
         },
         "marker": {
          "symbol": "circle"
         },
         "mode": "lines",
         "name": "Netherlands",
         "showlegend": true,
         "type": "scattergl",
         "x": [
          "2010",
          "2011",
          "2012",
          "2013",
          "2014",
          "2015",
          "2016",
          "2017",
          "2018",
          "2019",
          "2020",
          "2021"
         ],
         "xaxis": "x",
         "y": [
          445281,
          550349,
          529077,
          650138,
          636885,
          604647,
          696832,
          998508,
          1034068,
          980831,
          893428,
          1061956
         ],
         "yaxis": "y"
        },
        {
         "hovertemplate": "Exporters=Ireland<br>Year=%{x}<br>Value (k Euro)=%{y}<extra></extra>",
         "legendgroup": "Ireland",
         "line": {
          "color": "#EF553B",
          "dash": "solid"
         },
         "marker": {
          "symbol": "circle"
         },
         "mode": "lines",
         "name": "Ireland",
         "showlegend": true,
         "type": "scattergl",
         "x": [
          "2010",
          "2011",
          "2012",
          "2013",
          "2014",
          "2015",
          "2016",
          "2017",
          "2018",
          "2019",
          "2020",
          "2021"
         ],
         "xaxis": "x",
         "y": [
          405769,
          518267,
          422993,
          541223,
          488388,
          543733,
          544280,
          891261,
          1089962,
          1086854,
          969339,
          1051065
         ],
         "yaxis": "y"
        },
        {
         "hovertemplate": "Exporters=New Zealand<br>Year=%{x}<br>Value (k Euro)=%{y}<extra></extra>",
         "legendgroup": "New Zealand",
         "line": {
          "color": "#00cc96",
          "dash": "solid"
         },
         "marker": {
          "symbol": "circle"
         },
         "mode": "lines",
         "name": "New Zealand",
         "showlegend": true,
         "type": "scattergl",
         "x": [
          "2010",
          "2011",
          "2012",
          "2013",
          "2014",
          "2015",
          "2016",
          "2017",
          "2018",
          "2019",
          "2020",
          "2021"
         ],
         "xaxis": "x",
         "y": [
          688911,
          1026562,
          715697,
          756614,
          888665,
          797983,
          833396,
          1197924,
          1212271,
          1132339,
          881204,
          988288
         ],
         "yaxis": "y"
        },
        {
         "hovertemplate": "Exporters=Germany<br>Year=%{x}<br>Value (k Euro)=%{y}<extra></extra>",
         "legendgroup": "Germany",
         "line": {
          "color": "#ab63fa",
          "dash": "solid"
         },
         "marker": {
          "symbol": "circle"
         },
         "mode": "lines",
         "name": "Germany",
         "showlegend": true,
         "type": "scattergl",
         "x": [
          "2010",
          "2011",
          "2012",
          "2013",
          "2014",
          "2015",
          "2016",
          "2017",
          "2018",
          "2019",
          "2020",
          "2021"
         ],
         "xaxis": "x",
         "y": [
          357912,
          353460,
          326588,
          450429,
          456993,
          429577,
          407033,
          595252,
          571646,
          560655,
          477357,
          532870
         ],
         "yaxis": "y"
        },
        {
         "hovertemplate": "Exporters=Belgium<br>Year=%{x}<br>Value (k Euro)=%{y}<extra></extra>",
         "legendgroup": "Belgium",
         "line": {
          "color": "#FFA15A",
          "dash": "solid"
         },
         "marker": {
          "symbol": "circle"
         },
         "mode": "lines",
         "name": "Belgium",
         "showlegend": true,
         "type": "scattergl",
         "x": [
          "2010",
          "2011",
          "2012",
          "2013",
          "2014",
          "2015",
          "2016",
          "2017",
          "2018",
          "2019",
          "2020",
          "2021"
         ],
         "xaxis": "x",
         "y": [
          261367,
          281324,
          253817,
          302640,
          343880,
          312119,
          369489,
          546947,
          622653,
          545688,
          433623,
          531059
         ],
         "yaxis": "y"
        },
        {
         "hovertemplate": "Exporters=Belarus<br>Year=%{x}<br>Value (k Euro)=%{y}<extra></extra>",
         "legendgroup": "Belarus",
         "line": {
          "color": "#19d3f3",
          "dash": "solid"
         },
         "marker": {
          "symbol": "circle"
         },
         "mode": "lines",
         "name": "Belarus",
         "showlegend": true,
         "type": "scattergl",
         "x": [
          "2010",
          "2011",
          "2012",
          "2013",
          "2014",
          "2015",
          "2016",
          "2017",
          "2018",
          "2019",
          "2020",
          "2021"
         ],
         "xaxis": "x",
         "y": [
          153673,
          154489,
          159973,
          204623,
          214738,
          200915,
          271517,
          350488,
          299279,
          336852,
          279688,
          339288
         ],
         "yaxis": "y"
        },
        {
         "hovertemplate": "Exporters=France<br>Year=%{x}<br>Value (k Euro)=%{y}<extra></extra>",
         "legendgroup": "France",
         "line": {
          "color": "#FF6692",
          "dash": "solid"
         },
         "marker": {
          "symbol": "circle"
         },
         "mode": "lines",
         "name": "France",
         "showlegend": true,
         "type": "scattergl",
         "x": [
          "2010",
          "2011",
          "2012",
          "2013",
          "2014",
          "2015",
          "2016",
          "2017",
          "2018",
          "2019",
          "2020",
          "2021"
         ],
         "xaxis": "x",
         "y": [
          191673,
          216233,
          224324,
          243748,
          289611,
          296932,
          293218,
          380686,
          402694,
          399160,
          375615,
          426291
         ],
         "yaxis": "y"
        },
        {
         "hovertemplate": "Exporters=Denmark<br>Year=%{x}<br>Value (k Euro)=%{y}<extra></extra>",
         "legendgroup": "Denmark",
         "line": {
          "color": "#B6E880",
          "dash": "solid"
         },
         "marker": {
          "symbol": "circle"
         },
         "mode": "lines",
         "name": "Denmark",
         "showlegend": true,
         "type": "scattergl",
         "x": [
          "2010",
          "2011",
          "2012",
          "2013",
          "2014",
          "2015",
          "2016",
          "2017",
          "2018",
          "2019",
          "2020",
          "2021"
         ],
         "xaxis": "x",
         "y": [
          222264,
          228128,
          221330,
          175348,
          164741,
          187838,
          196738,
          221829,
          300141,
          255036,
          230147,
          251004
         ],
         "yaxis": "y"
        },
        {
         "hovertemplate": "Exporters=Poland<br>Year=%{x}<br>Value (k Euro)=%{y}<extra></extra>",
         "legendgroup": "Poland",
         "line": {
          "color": "#FF97FF",
          "dash": "solid"
         },
         "marker": {
          "symbol": "circle"
         },
         "mode": "lines",
         "name": "Poland",
         "showlegend": true,
         "type": "scattergl",
         "x": [
          "2010",
          "2011",
          "2012",
          "2013",
          "2014",
          "2015",
          "2016",
          "2017",
          "2018",
          "2019",
          "2020",
          "2021"
         ],
         "xaxis": "x",
         "y": [
          77256,
          124868,
          86882,
          111985,
          111330,
          110358,
          120757,
          238587,
          299844,
          216034,
          187965,
          197980
         ],
         "yaxis": "y"
        },
        {
         "hovertemplate": "Exporters=United States of America<br>Year=%{x}<br>Value (k Euro)=%{y}<extra></extra>",
         "legendgroup": "United States of America",
         "line": {
          "color": "#FECB52",
          "dash": "solid"
         },
         "marker": {
          "symbol": "circle"
         },
         "mode": "lines",
         "name": "United States of America",
         "showlegend": true,
         "type": "scattergl",
         "x": [
          "2010",
          "2011",
          "2012",
          "2013",
          "2014",
          "2015",
          "2016",
          "2017",
          "2018",
          "2019",
          "2020",
          "2021"
         ],
         "xaxis": "x",
         "y": [
          120475,
          166481,
          124892,
          236595,
          178877,
          62402,
          68674,
          95994,
          117144,
          91470,
          75606,
          150390
         ],
         "yaxis": "y"
        },
        {
         "hovertemplate": "Exporters=United Kingdom<br>Year=%{x}<br>Value (k Euro)=%{y}<extra></extra>",
         "legendgroup": "United Kingdom",
         "line": {
          "color": "#636efa",
          "dash": "solid"
         },
         "marker": {
          "symbol": "circle"
         },
         "mode": "lines",
         "name": "United Kingdom",
         "showlegend": true,
         "type": "scattergl",
         "x": [
          "2010",
          "2011",
          "2012",
          "2013",
          "2014",
          "2015",
          "2016",
          "2017",
          "2018",
          "2019",
          "2020",
          "2021"
         ],
         "xaxis": "x",
         "y": [
          47711,
          60253,
          47044,
          65625,
          86748,
          82362,
          117525,
          149974,
          181360,
          183226,
          129173,
          138472
         ],
         "yaxis": "y"
        },
        {
         "hovertemplate": "Exporters=Australia<br>Year=%{x}<br>Value (k Euro)=%{y}<extra></extra>",
         "legendgroup": "Australia",
         "line": {
          "color": "#EF553B",
          "dash": "solid"
         },
         "marker": {
          "symbol": "circle"
         },
         "mode": "lines",
         "name": "Australia",
         "showlegend": true,
         "type": "scattergl",
         "x": [
          "2010",
          "2011",
          "2012",
          "2013",
          "2014",
          "2015",
          "2016",
          "2017",
          "2018",
          "2019",
          "2020",
          "2021"
         ],
         "xaxis": "x",
         "y": [
          107617,
          84984,
          117534,
          127378,
          118633,
          78596,
          67076,
          52429,
          52401,
          54954,
          47854,
          79181
         ],
         "yaxis": "y"
        },
        {
         "hovertemplate": "Exporters=Argentina<br>Year=%{x}<br>Value (k Euro)=%{y}<extra></extra>",
         "legendgroup": "Argentina",
         "line": {
          "color": "#00cc96",
          "dash": "solid"
         },
         "marker": {
          "symbol": "circle"
         },
         "mode": "lines",
         "name": "Argentina",
         "showlegend": true,
         "type": "scattergl",
         "x": [
          "2010",
          "2011",
          "2012",
          "2013",
          "2014",
          "2015",
          "2016",
          "2017",
          "2018",
          "2019",
          "2020",
          "2021"
         ],
         "xaxis": "x",
         "y": [
          30780,
          61432,
          46091,
          41080,
          34084,
          23316,
          13773,
          14790,
          20411,
          39099,
          45956,
          53612
         ],
         "yaxis": "y"
        },
        {
         "hovertemplate": "Exporters=Portugal<br>Year=%{x}<br>Value (k Euro)=%{y}<extra></extra>",
         "legendgroup": "Portugal",
         "line": {
          "color": "#ab63fa",
          "dash": "solid"
         },
         "marker": {
          "symbol": "circle"
         },
         "mode": "lines",
         "name": "Portugal",
         "showlegend": true,
         "type": "scattergl",
         "x": [
          "2010",
          "2011",
          "2012",
          "2013",
          "2014",
          "2015",
          "2016",
          "2017",
          "2018",
          "2019",
          "2020",
          "2021"
         ],
         "xaxis": "x",
         "y": [
          65290,
          47096,
          51734,
          51157,
          44996,
          56223,
          52755,
          72582,
          70589,
          51593,
          48126,
          63005
         ],
         "yaxis": "y"
        },
        {
         "hovertemplate": "Exporters=Italy<br>Year=%{x}<br>Value (k Euro)=%{y}<extra></extra>",
         "legendgroup": "Italy",
         "line": {
          "color": "#FFA15A",
          "dash": "solid"
         },
         "marker": {
          "symbol": "circle"
         },
         "mode": "lines",
         "name": "Italy",
         "showlegend": true,
         "type": "scattergl",
         "x": [
          "2010",
          "2011",
          "2012",
          "2013",
          "2014",
          "2015",
          "2016",
          "2017",
          "2018",
          "2019",
          "2020",
          "2021"
         ],
         "xaxis": "x",
         "y": [
          88900,
          33743,
          24362,
          26764,
          11884,
          28157,
          28734,
          34664,
          48878,
          51624,
          61985,
          69065
         ],
         "yaxis": "y"
        },
        {
         "hovertemplate": "Exporters=Uruguay<br>Year=%{x}<br>Value (k Euro)=%{y}<extra></extra>",
         "legendgroup": "Uruguay",
         "line": {
          "color": "#19d3f3",
          "dash": "solid"
         },
         "marker": {
          "symbol": "circle"
         },
         "mode": "lines",
         "name": "Uruguay",
         "showlegend": true,
         "type": "scattergl",
         "x": [
          "2010",
          "2011",
          "2012",
          "2013",
          "2014",
          "2015",
          "2016",
          "2017",
          "2018",
          "2019",
          "2020",
          "2021"
         ],
         "xaxis": "x",
         "y": [
          26847,
          50015,
          79009,
          75957,
          73825,
          55364,
          34817,
          44083,
          56851,
          55801,
          38459,
          41822
         ],
         "yaxis": "y"
        },
        {
         "hovertemplate": "Exporters=Spain<br>Year=%{x}<br>Value (k Euro)=%{y}<extra></extra>",
         "legendgroup": "Spain",
         "line": {
          "color": "#FF6692",
          "dash": "solid"
         },
         "marker": {
          "symbol": "circle"
         },
         "mode": "lines",
         "name": "Spain",
         "showlegend": true,
         "type": "scattergl",
         "x": [
          "2010",
          "2011",
          "2012",
          "2013",
          "2014",
          "2015",
          "2016",
          "2017",
          "2018",
          "2019",
          "2020",
          "2021"
         ],
         "xaxis": "x",
         "y": [
          100985,
          59103,
          43891,
          51186,
          42307,
          43691,
          42169,
          51276,
          43434,
          43552,
          27012,
          39971
         ],
         "yaxis": "y"
        },
        {
         "hovertemplate": "Exporters=Ukraine<br>Year=%{x}<br>Value (k Euro)=%{y}<extra></extra>",
         "legendgroup": "Ukraine",
         "line": {
          "color": "#B6E880",
          "dash": "solid"
         },
         "marker": {
          "symbol": "circle"
         },
         "mode": "lines",
         "name": "Ukraine",
         "showlegend": true,
         "type": "scattergl",
         "x": [
          "2010",
          "2011",
          "2012",
          "2013",
          "2014",
          "2015",
          "2016",
          "2017",
          "2018",
          "2019",
          "2020",
          "2021"
         ],
         "xaxis": "x",
         "y": [
          1450,
          3920,
          1510,
          14119,
          15242,
          23457,
          25107,
          102935,
          102446,
          60366,
          36275,
          37282
         ],
         "yaxis": "y"
        },
        {
         "hovertemplate": "Exporters=India<br>Year=%{x}<br>Value (k Euro)=%{y}<extra></extra>",
         "legendgroup": "India",
         "line": {
          "color": "#FF97FF",
          "dash": "solid"
         },
         "marker": {
          "symbol": "circle"
         },
         "mode": "lines",
         "name": "India",
         "showlegend": true,
         "type": "scattergl",
         "x": [
          "2010",
          "2011",
          "2012",
          "2013",
          "2014",
          "2015",
          "2016",
          "2017",
          "2018",
          "2019",
          "2020",
          "2021"
         ],
         "xaxis": "x",
         "y": [
          10805,
          10178,
          3294,
          9598,
          9429,
          7775,
          5992,
          24914,
          55061,
          96624,
          19943,
          30131
         ],
         "yaxis": "y"
        },
        {
         "hovertemplate": "Exporters=Lithuania<br>Year=%{x}<br>Value (k Euro)=%{y}<extra></extra>",
         "legendgroup": "Lithuania",
         "line": {
          "color": "#FECB52",
          "dash": "solid"
         },
         "marker": {
          "symbol": "circle"
         },
         "mode": "lines",
         "name": "Lithuania",
         "showlegend": true,
         "type": "scattergl",
         "x": [
          "2010",
          "2011",
          "2012",
          "2013",
          "2014",
          "2015",
          "2016",
          "2017",
          "2018",
          "2019",
          "2020",
          "2021"
         ],
         "xaxis": "x",
         "y": [
          9143,
          10578,
          16966,
          23708,
          36834,
          21936,
          34403,
          25167,
          26703,
          17459,
          24936,
          20519
         ],
         "yaxis": "y"
        },
        {
         "hovertemplate": "Exporters=Austria<br>Year=%{x}<br>Value (k Euro)=%{y}<extra></extra>",
         "legendgroup": "Austria",
         "line": {
          "color": "#636efa",
          "dash": "solid"
         },
         "marker": {
          "symbol": "circle"
         },
         "mode": "lines",
         "name": "Austria",
         "showlegend": true,
         "type": "scattergl",
         "x": [
          "2010",
          "2011",
          "2012",
          "2013",
          "2014",
          "2015",
          "2016",
          "2017",
          "2018",
          "2019",
          "2020",
          "2021"
         ],
         "xaxis": "x",
         "y": [
          5988,
          6145,
          7019,
          7111,
          8618,
          15340,
          17367,
          19860,
          20492,
          21269,
          17848,
          22708
         ],
         "yaxis": "y"
        },
        {
         "hovertemplate": "Exporters=Kyrgyzstan<br>Year=%{x}<br>Value (k Euro)=%{y}<extra></extra>",
         "legendgroup": "Kyrgyzstan",
         "line": {
          "color": "#EF553B",
          "dash": "solid"
         },
         "marker": {
          "symbol": "circle"
         },
         "mode": "lines",
         "name": "Kyrgyzstan",
         "showlegend": true,
         "type": "scattergl",
         "x": [
          "2010",
          "2011",
          "2012",
          "2013",
          "2014",
          "2015",
          "2016",
          "2017",
          "2018",
          "2019",
          "2020",
          "2021"
         ],
         "xaxis": "x",
         "y": [
          3909,
          2136,
          2742,
          2384,
          1855,
          1654,
          6902,
          10905,
          8012,
          14247,
          14865,
          13283
         ],
         "yaxis": "y"
        },
        {
         "hovertemplate": "Exporters=Iran, Islamic Republic of<br>Year=%{x}<br>Value (k Euro)=%{y}<extra></extra>",
         "legendgroup": "Iran, Islamic Republic of",
         "line": {
          "color": "#00cc96",
          "dash": "solid"
         },
         "marker": {
          "symbol": "circle"
         },
         "mode": "lines",
         "name": "Iran, Islamic Republic of",
         "showlegend": true,
         "type": "scattergl",
         "x": [
          "2010",
          "2011",
          "2012",
          "2013",
          "2014",
          "2015",
          "2016",
          "2017",
          "2018",
          "2019",
          "2020",
          "2021"
         ],
         "xaxis": "x",
         "y": [
          2725,
          5017,
          4675,
          0,
          1267,
          1711,
          2720,
          3872,
          4089,
          197,
          196,
          13597
         ],
         "yaxis": "y"
        },
        {
         "hovertemplate": "Exporters=Kazakhstan<br>Year=%{x}<br>Value (k Euro)=%{y}<extra></extra>",
         "legendgroup": "Kazakhstan",
         "line": {
          "color": "#ab63fa",
          "dash": "solid"
         },
         "marker": {
          "symbol": "circle"
         },
         "mode": "lines",
         "name": "Kazakhstan",
         "showlegend": true,
         "type": "scattergl",
         "x": [
          "2010",
          "2011",
          "2012",
          "2013",
          "2014",
          "2015",
          "2016",
          "2017",
          "2018",
          "2019",
          "2020",
          "2021"
         ],
         "xaxis": "x",
         "y": [
          47,
          19,
          125,
          777,
          217,
          17104,
          847,
          935,
          6816,
          10285,
          5083,
          15561
         ],
         "yaxis": "y"
        },
        {
         "hovertemplate": "Exporters=Türkiye<br>Year=%{x}<br>Value (k Euro)=%{y}<extra></extra>",
         "legendgroup": "Türkiye",
         "line": {
          "color": "#FFA15A",
          "dash": "solid"
         },
         "marker": {
          "symbol": "circle"
         },
         "mode": "lines",
         "name": "Türkiye",
         "showlegend": true,
         "type": "scattergl",
         "x": [
          "2010",
          "2011",
          "2012",
          "2013",
          "2014",
          "2015",
          "2016",
          "2017",
          "2018",
          "2019",
          "2020",
          "2021"
         ],
         "xaxis": "x",
         "y": [
          898,
          1716,
          1404,
          3246,
          2964,
          1769,
          1382,
          5099,
          2486,
          19732,
          8003,
          13624
         ],
         "yaxis": "y"
        },
        {
         "hovertemplate": "Exporters=Saudi Arabia<br>Year=%{x}<br>Value (k Euro)=%{y}<extra></extra>",
         "legendgroup": "Saudi Arabia",
         "line": {
          "color": "#19d3f3",
          "dash": "solid"
         },
         "marker": {
          "symbol": "circle"
         },
         "mode": "lines",
         "name": "Saudi Arabia",
         "showlegend": true,
         "type": "scattergl",
         "x": [
          "2010",
          "2011",
          "2012",
          "2013",
          "2014",
          "2015",
          "2016",
          "2017",
          "2018",
          "2019",
          "2020",
          "2021"
         ],
         "xaxis": "x",
         "y": [
          6138,
          4877,
          5305,
          6765,
          6709,
          9019,
          10076,
          12632,
          10952,
          12602,
          17231,
          25068
         ],
         "yaxis": "y"
        },
        {
         "hovertemplate": "Exporters=Russian Federation<br>Year=%{x}<br>Value (k Euro)=%{y}<extra></extra>",
         "legendgroup": "Russian Federation",
         "line": {
          "color": "#FF6692",
          "dash": "solid"
         },
         "marker": {
          "symbol": "circle"
         },
         "mode": "lines",
         "name": "Russian Federation",
         "showlegend": true,
         "type": "scattergl",
         "x": [
          "2010",
          "2011",
          "2012",
          "2013",
          "2014",
          "2015",
          "2016",
          "2017",
          "2018",
          "2019",
          "2020",
          "2021"
         ],
         "xaxis": "x",
         "y": [
          3362,
          3002,
          9336,
          6631,
          7989,
          7674,
          8416,
          7861,
          7076,
          5594,
          10936,
          10914
         ],
         "yaxis": "y"
        },
        {
         "hovertemplate": "Exporters=Sweden<br>Year=%{x}<br>Value (k Euro)=%{y}<extra></extra>",
         "legendgroup": "Sweden",
         "line": {
          "color": "#B6E880",
          "dash": "solid"
         },
         "marker": {
          "symbol": "circle"
         },
         "mode": "lines",
         "name": "Sweden",
         "showlegend": true,
         "type": "scattergl",
         "x": [
          "2010",
          "2011",
          "2012",
          "2013",
          "2014",
          "2015",
          "2016",
          "2017",
          "2018",
          "2019",
          "2020",
          "2021"
         ],
         "xaxis": "x",
         "y": [
          14929,
          5752,
          7053,
          11172,
          4805,
          2266,
          2361,
          5695,
          14342,
          6253,
          8018,
          10210
         ],
         "yaxis": "y"
        },
        {
         "hovertemplate": "Exporters=Ghana<br>Year=%{x}<br>Value (k Euro)=%{y}<extra></extra>",
         "legendgroup": "Ghana",
         "line": {
          "color": "#FF97FF",
          "dash": "solid"
         },
         "marker": {
          "symbol": "circle"
         },
         "mode": "lines",
         "name": "Ghana",
         "showlegend": true,
         "type": "scattergl",
         "x": [
          "2010",
          "2011",
          "2012",
          "2013",
          "2014",
          "2015",
          "2016",
          "2017",
          "2018",
          "2019",
          "2020",
          "2021"
         ],
         "xaxis": "x",
         "y": [
          25,
          294,
          48,
          131,
          97,
          278,
          208,
          65,
          24,
          58,
          718,
          1189
         ],
         "yaxis": "y"
        },
        {
         "hovertemplate": "Exporters=South Africa<br>Year=%{x}<br>Value (k Euro)=%{y}<extra></extra>",
         "legendgroup": "South Africa",
         "line": {
          "color": "#FECB52",
          "dash": "solid"
         },
         "marker": {
          "symbol": "circle"
         },
         "mode": "lines",
         "name": "South Africa",
         "showlegend": true,
         "type": "scattergl",
         "x": [
          "2010",
          "2011",
          "2012",
          "2013",
          "2014",
          "2015",
          "2016",
          "2017",
          "2018",
          "2019",
          "2020",
          "2021"
         ],
         "xaxis": "x",
         "y": [
          6773,
          4869,
          5130,
          5448,
          8242,
          6459,
          5804,
          4167,
          7153,
          6090,
          6547,
          6454
         ],
         "yaxis": "y"
        },
        {
         "hovertemplate": "Exporters=Costa Rica<br>Year=%{x}<br>Value (k Euro)=%{y}<extra></extra>",
         "legendgroup": "Costa Rica",
         "line": {
          "color": "#636efa",
          "dash": "solid"
         },
         "marker": {
          "symbol": "circle"
         },
         "mode": "lines",
         "name": "Costa Rica",
         "showlegend": true,
         "type": "scattergl",
         "x": [
          "2010",
          "2011",
          "2012",
          "2013",
          "2014",
          "2015",
          "2016",
          "2017",
          "2018",
          "2019",
          "2020",
          "2021"
         ],
         "xaxis": "x",
         "y": [
          2229,
          2150,
          3267,
          3628,
          4172,
          4925,
          3402,
          4921,
          5067,
          4983,
          6172,
          7131
         ],
         "yaxis": "y"
        },
        {
         "hovertemplate": "Exporters=Hong Kong, China<br>Year=%{x}<br>Value (k Euro)=%{y}<extra></extra>",
         "legendgroup": "Hong Kong, China",
         "line": {
          "color": "#EF553B",
          "dash": "solid"
         },
         "marker": {
          "symbol": "circle"
         },
         "mode": "lines",
         "name": "Hong Kong, China",
         "showlegend": true,
         "type": "scattergl",
         "x": [
          "2010",
          "2011",
          "2012",
          "2013",
          "2014",
          "2015",
          "2016",
          "2017",
          "2018",
          "2019",
          "2020",
          "2021"
         ],
         "xaxis": "x",
         "y": [
          3185,
          3651,
          3053,
          3084,
          3813,
          4778,
          5965,
          5482,
          5080,
          6195,
          3915,
          5377
         ],
         "yaxis": "y"
        },
        {
         "hovertemplate": "Exporters=China<br>Year=%{x}<br>Value (k Euro)=%{y}<extra></extra>",
         "legendgroup": "China",
         "line": {
          "color": "#00cc96",
          "dash": "solid"
         },
         "marker": {
          "symbol": "circle"
         },
         "mode": "lines",
         "name": "China",
         "showlegend": true,
         "type": "scattergl",
         "x": [
          "2010",
          "2011",
          "2012",
          "2013",
          "2014",
          "2015",
          "2016",
          "2017",
          "2018",
          "2019",
          "2020",
          "2021"
         ],
         "xaxis": "x",
         "y": [
          7188,
          8249,
          6165,
          940,
          3687,
          2203,
          2007,
          3421,
          4424,
          5989,
          3209,
          3930
         ],
         "yaxis": "y"
        },
        {
         "hovertemplate": "Exporters=Singapore<br>Year=%{x}<br>Value (k Euro)=%{y}<extra></extra>",
         "legendgroup": "Singapore",
         "line": {
          "color": "#ab63fa",
          "dash": "solid"
         },
         "marker": {
          "symbol": "circle"
         },
         "mode": "lines",
         "name": "Singapore",
         "showlegend": true,
         "type": "scattergl",
         "x": [
          "2010",
          "2011",
          "2012",
          "2013",
          "2014",
          "2015",
          "2016",
          "2017",
          "2018",
          "2019",
          "2020",
          "2021"
         ],
         "xaxis": "x",
         "y": [
          6506,
          9097,
          13293,
          15886,
          19077,
          18950,
          14370,
          8510,
          8578,
          10128,
          5467,
          6183
         ],
         "yaxis": "y"
        },
        {
         "hovertemplate": "Exporters=Malaysia<br>Year=%{x}<br>Value (k Euro)=%{y}<extra></extra>",
         "legendgroup": "Malaysia",
         "line": {
          "color": "#FFA15A",
          "dash": "solid"
         },
         "marker": {
          "symbol": "circle"
         },
         "mode": "lines",
         "name": "Malaysia",
         "showlegend": true,
         "type": "scattergl",
         "x": [
          "2010",
          "2011",
          "2012",
          "2013",
          "2014",
          "2015",
          "2016",
          "2017",
          "2018",
          "2019",
          "2020",
          "2021"
         ],
         "xaxis": "x",
         "y": [
          2823,
          1420,
          2201,
          1862,
          3709,
          4325,
          7657,
          9295,
          6751,
          4518,
          5024,
          6424
         ],
         "yaxis": "y"
        },
        {
         "hovertemplate": "Exporters=Slovakia<br>Year=%{x}<br>Value (k Euro)=%{y}<extra></extra>",
         "legendgroup": "Slovakia",
         "line": {
          "color": "#19d3f3",
          "dash": "solid"
         },
         "marker": {
          "symbol": "circle"
         },
         "mode": "lines",
         "name": "Slovakia",
         "showlegend": true,
         "type": "scattergl",
         "x": [
          "2010",
          "2011",
          "2012",
          "2013",
          "2014",
          "2015",
          "2016",
          "2017",
          "2018",
          "2019",
          "2020",
          "2021"
         ],
         "xaxis": "x",
         "y": [
          4354,
          5844,
          5508,
          7153,
          7993,
          9222,
          5979,
          5554,
          6407,
          4325,
          4534,
          5633
         ],
         "yaxis": "y"
        },
        {
         "hovertemplate": "Exporters=Luxembourg<br>Year=%{x}<br>Value (k Euro)=%{y}<extra></extra>",
         "legendgroup": "Luxembourg",
         "line": {
          "color": "#FF6692",
          "dash": "solid"
         },
         "marker": {
          "symbol": "circle"
         },
         "mode": "lines",
         "name": "Luxembourg",
         "showlegend": true,
         "type": "scattergl",
         "x": [
          "2010",
          "2011",
          "2012",
          "2013",
          "2014",
          "2015",
          "2016",
          "2017",
          "2018",
          "2019",
          "2020",
          "2021"
         ],
         "xaxis": "x",
         "y": [
          10885,
          11746,
          12337,
          13882,
          19293,
          11301,
          2505,
          3350,
          4878,
          6345,
          4865,
          9026
         ],
         "yaxis": "y"
        },
        {
         "hovertemplate": "Exporters=Colombia<br>Year=%{x}<br>Value (k Euro)=%{y}<extra></extra>",
         "legendgroup": "Colombia",
         "line": {
          "color": "#B6E880",
          "dash": "solid"
         },
         "marker": {
          "symbol": "circle"
         },
         "mode": "lines",
         "name": "Colombia",
         "showlegend": true,
         "type": "scattergl",
         "x": [
          "2010",
          "2011",
          "2012",
          "2013",
          "2014",
          "2015",
          "2016",
          "2017",
          "2018",
          "2019",
          "2020",
          "2021"
         ],
         "xaxis": "x",
         "y": [
          426,
          312,
          2,
          186,
          651,
          277,
          2,
          2077,
          3524,
          1029,
          3269,
          3509
         ],
         "yaxis": "y"
        },
        {
         "hovertemplate": "Exporters=Paraguay<br>Year=%{x}<br>Value (k Euro)=%{y}<extra></extra>",
         "legendgroup": "Paraguay",
         "line": {
          "color": "#FF97FF",
          "dash": "solid"
         },
         "marker": {
          "symbol": "circle"
         },
         "mode": "lines",
         "name": "Paraguay",
         "showlegend": true,
         "type": "scattergl",
         "x": [
          "2010",
          "2011",
          "2012",
          "2013",
          "2014",
          "2015",
          "2016",
          "2017",
          "2018",
          "2019",
          "2020",
          "2021"
         ],
         "xaxis": "x",
         "y": [
          119,
          42,
          968,
          1345,
          1244,
          865,
          402,
          1654,
          1667,
          1899,
          2563,
          3657
         ],
         "yaxis": "y"
        },
        {
         "hovertemplate": "Exporters=Honduras<br>Year=%{x}<br>Value (k Euro)=%{y}<extra></extra>",
         "legendgroup": "Honduras",
         "line": {
          "color": "#FECB52",
          "dash": "solid"
         },
         "marker": {
          "symbol": "circle"
         },
         "mode": "lines",
         "name": "Honduras",
         "showlegend": true,
         "type": "scattergl",
         "x": [
          "2010",
          "2011",
          "2012",
          "2013",
          "2014",
          "2015",
          "2016",
          "2017",
          "2018",
          "2019",
          "2020",
          "2021"
         ],
         "xaxis": "x",
         "y": [
          1669,
          1231,
          1116,
          987,
          3312,
          1930,
          3267,
          2067,
          895,
          1100,
          2489,
          2203
         ],
         "yaxis": "y"
        },
        {
         "hovertemplate": "Exporters=Estonia<br>Year=%{x}<br>Value (k Euro)=%{y}<extra></extra>",
         "legendgroup": "Estonia",
         "line": {
          "color": "#636efa",
          "dash": "solid"
         },
         "marker": {
          "symbol": "circle"
         },
         "mode": "lines",
         "name": "Estonia",
         "showlegend": true,
         "type": "scattergl",
         "x": [
          "2010",
          "2011",
          "2012",
          "2013",
          "2014",
          "2015",
          "2016",
          "2017",
          "2018",
          "2019",
          "2020",
          "2021"
         ],
         "xaxis": "x",
         "y": [
          12416,
          16057,
          5096,
          10006,
          7968,
          4752,
          4313,
          5298,
          4347,
          3196,
          4475,
          3648
         ],
         "yaxis": "y"
        },
        {
         "hovertemplate": "Exporters=Bahrain<br>Year=%{x}<br>Value (k Euro)=%{y}<extra></extra>",
         "legendgroup": "Bahrain",
         "line": {
          "color": "#EF553B",
          "dash": "solid"
         },
         "marker": {
          "symbol": "circle"
         },
         "mode": "lines",
         "name": "Bahrain",
         "showlegend": true,
         "type": "scattergl",
         "x": [
          "2010",
          "2011",
          "2012",
          "2013",
          "2014",
          "2015",
          "2016",
          "2017",
          "2018",
          "2019",
          "2020",
          "2021"
         ],
         "xaxis": "x",
         "y": [
          3,
          2,
          2,
          8,
          15,
          268,
          111,
          234,
          312,
          93,
          252,
          2246
         ],
         "yaxis": "y"
        },
        {
         "hovertemplate": "Exporters=Croatia<br>Year=%{x}<br>Value (k Euro)=%{y}<extra></extra>",
         "legendgroup": "Croatia",
         "line": {
          "color": "#00cc96",
          "dash": "solid"
         },
         "marker": {
          "symbol": "circle"
         },
         "mode": "lines",
         "name": "Croatia",
         "showlegend": true,
         "type": "scattergl",
         "x": [
          "2010",
          "2011",
          "2012",
          "2013",
          "2014",
          "2015",
          "2016",
          "2017",
          "2018",
          "2019",
          "2020",
          "2021"
         ],
         "xaxis": "x",
         "y": [
          1452,
          1869,
          2155,
          1552,
          1828,
          1468,
          1406,
          2369,
          3024,
          3812,
          3408,
          3383
         ],
         "yaxis": "y"
        },
        {
         "hovertemplate": "Exporters=Brazil<br>Year=%{x}<br>Value (k Euro)=%{y}<extra></extra>",
         "legendgroup": "Brazil",
         "line": {
          "color": "#ab63fa",
          "dash": "solid"
         },
         "marker": {
          "symbol": "circle"
         },
         "mode": "lines",
         "name": "Brazil",
         "showlegend": true,
         "type": "scattergl",
         "x": [
          "2010",
          "2011",
          "2012",
          "2013",
          "2014",
          "2015",
          "2016",
          "2017",
          "2018",
          "2019",
          "2020",
          "2021"
         ],
         "xaxis": "x",
         "y": [
          11809,
          2872,
          1362,
          931,
          11603,
          2229,
          276,
          909,
          584,
          1663,
          1253,
          2074
         ],
         "yaxis": "y"
        },
        {
         "hovertemplate": "Exporters=Bulgaria<br>Year=%{x}<br>Value (k Euro)=%{y}<extra></extra>",
         "legendgroup": "Bulgaria",
         "line": {
          "color": "#FFA15A",
          "dash": "solid"
         },
         "marker": {
          "symbol": "circle"
         },
         "mode": "lines",
         "name": "Bulgaria",
         "showlegend": true,
         "type": "scattergl",
         "x": [
          "2010",
          "2011",
          "2012",
          "2013",
          "2014",
          "2015",
          "2016",
          "2017",
          "2018",
          "2019",
          "2020",
          "2021"
         ],
         "xaxis": "x",
         "y": [
          2225,
          2121,
          1673,
          1478,
          1655,
          1509,
          1928,
          2330,
          2110,
          2272,
          1618,
          2100
         ],
         "yaxis": "y"
        },
        {
         "hovertemplate": "Exporters=Burkina Faso<br>Year=%{x}<br>Value (k Euro)=%{y}<extra></extra>",
         "legendgroup": "Burkina Faso",
         "line": {
          "color": "#19d3f3",
          "dash": "solid"
         },
         "marker": {
          "symbol": "circle"
         },
         "mode": "lines",
         "name": "Burkina Faso",
         "showlegend": true,
         "type": "scattergl",
         "x": [
          "2010",
          "2011",
          "2012",
          "2013",
          "2014",
          "2015",
          "2016",
          "2017",
          "2018",
          "2019",
          "2020",
          "2021"
         ],
         "xaxis": "x",
         "y": [
          0,
          0,
          0,
          0,
          0,
          0,
          3,
          0,
          0,
          0,
          0,
          2
         ],
         "yaxis": "y"
        },
        {
         "hovertemplate": "Exporters=Romania<br>Year=%{x}<br>Value (k Euro)=%{y}<extra></extra>",
         "legendgroup": "Romania",
         "line": {
          "color": "#FF6692",
          "dash": "solid"
         },
         "marker": {
          "symbol": "circle"
         },
         "mode": "lines",
         "name": "Romania",
         "showlegend": true,
         "type": "scattergl",
         "x": [
          "2010",
          "2011",
          "2012",
          "2013",
          "2014",
          "2015",
          "2016",
          "2017",
          "2018",
          "2019",
          "2020",
          "2021"
         ],
         "xaxis": "x",
         "y": [
          1060,
          1245,
          1077,
          997,
          659,
          847,
          1003,
          2163,
          2583,
          1040,
          1442,
          2329
         ],
         "yaxis": "y"
        },
        {
         "hovertemplate": "Exporters=Latvia<br>Year=%{x}<br>Value (k Euro)=%{y}<extra></extra>",
         "legendgroup": "Latvia",
         "line": {
          "color": "#B6E880",
          "dash": "solid"
         },
         "marker": {
          "symbol": "circle"
         },
         "mode": "lines",
         "name": "Latvia",
         "showlegend": true,
         "type": "scattergl",
         "x": [
          "2010",
          "2011",
          "2012",
          "2013",
          "2014",
          "2015",
          "2016",
          "2017",
          "2018",
          "2019",
          "2020",
          "2021"
         ],
         "xaxis": "x",
         "y": [
          9240,
          10919,
          7124,
          16533,
          14143,
          7963,
          9797,
          7117,
          4003,
          2662,
          3410,
          1908
         ],
         "yaxis": "y"
        },
        {
         "hovertemplate": "Exporters=Thailand<br>Year=%{x}<br>Value (k Euro)=%{y}<extra></extra>",
         "legendgroup": "Thailand",
         "line": {
          "color": "#FF97FF",
          "dash": "solid"
         },
         "marker": {
          "symbol": "circle"
         },
         "mode": "lines",
         "name": "Thailand",
         "showlegend": true,
         "type": "scattergl",
         "x": [
          "2010",
          "2011",
          "2012",
          "2013",
          "2014",
          "2015",
          "2016",
          "2017",
          "2018",
          "2019",
          "2020",
          "2021"
         ],
         "xaxis": "x",
         "y": [
          115,
          173,
          61,
          27,
          56,
          390,
          427,
          953,
          1397,
          1496,
          893,
          1035
         ],
         "yaxis": "y"
        },
        {
         "hovertemplate": "Exporters=Serbia<br>Year=%{x}<br>Value (k Euro)=%{y}<extra></extra>",
         "legendgroup": "Serbia",
         "line": {
          "color": "#FECB52",
          "dash": "solid"
         },
         "marker": {
          "symbol": "circle"
         },
         "mode": "lines",
         "name": "Serbia",
         "showlegend": true,
         "type": "scattergl",
         "x": [
          "2010",
          "2011",
          "2012",
          "2013",
          "2014",
          "2015",
          "2016",
          "2017",
          "2018",
          "2019",
          "2020",
          "2021"
         ],
         "xaxis": "x",
         "y": [
          494,
          243,
          772,
          760,
          682,
          865,
          842,
          874,
          950,
          1129,
          1036,
          1582
         ],
         "yaxis": "y"
        },
        {
         "hovertemplate": "Exporters=Greece<br>Year=%{x}<br>Value (k Euro)=%{y}<extra></extra>",
         "legendgroup": "Greece",
         "line": {
          "color": "#636efa",
          "dash": "solid"
         },
         "marker": {
          "symbol": "circle"
         },
         "mode": "lines",
         "name": "Greece",
         "showlegend": true,
         "type": "scattergl",
         "x": [
          "2010",
          "2011",
          "2012",
          "2013",
          "2014",
          "2015",
          "2016",
          "2017",
          "2018",
          "2019",
          "2020",
          "2021"
         ],
         "xaxis": "x",
         "y": [
          76,
          118,
          187,
          701,
          882,
          479,
          775,
          803,
          1290,
          1409,
          1855,
          1730
         ],
         "yaxis": "y"
        },
        {
         "hovertemplate": "Exporters=Tunisia<br>Year=%{x}<br>Value (k Euro)=%{y}<extra></extra>",
         "legendgroup": "Tunisia",
         "line": {
          "color": "#EF553B",
          "dash": "solid"
         },
         "marker": {
          "symbol": "circle"
         },
         "mode": "lines",
         "name": "Tunisia",
         "showlegend": true,
         "type": "scattergl",
         "x": [
          "2010",
          "2011",
          "2012",
          "2013",
          "2014",
          "2015",
          "2016",
          "2017",
          "2018",
          "2019",
          "2020",
          "2021"
         ],
         "xaxis": "x",
         "y": [
          0,
          156,
          0,
          0,
          0,
          9,
          17,
          294,
          102,
          0,
          24,
          921
         ],
         "yaxis": "y"
        },
        {
         "hovertemplate": "Exporters=Hungary<br>Year=%{x}<br>Value (k Euro)=%{y}<extra></extra>",
         "legendgroup": "Hungary",
         "line": {
          "color": "#00cc96",
          "dash": "solid"
         },
         "marker": {
          "symbol": "circle"
         },
         "mode": "lines",
         "name": "Hungary",
         "showlegend": true,
         "type": "scattergl",
         "x": [
          "2010",
          "2011",
          "2012",
          "2013",
          "2014",
          "2015",
          "2016",
          "2017",
          "2018",
          "2019",
          "2020",
          "2021"
         ],
         "xaxis": "x",
         "y": [
          2316,
          2636,
          1117,
          1537,
          1985,
          819,
          1254,
          1168,
          1279,
          996,
          4900,
          1478
         ],
         "yaxis": "y"
        },
        {
         "hovertemplate": "Exporters=Iceland<br>Year=%{x}<br>Value (k Euro)=%{y}<extra></extra>",
         "legendgroup": "Iceland",
         "line": {
          "color": "#ab63fa",
          "dash": "solid"
         },
         "marker": {
          "symbol": "circle"
         },
         "mode": "lines",
         "name": "Iceland",
         "showlegend": true,
         "type": "scattergl",
         "x": [
          "2010",
          "2011",
          "2012",
          "2013",
          "2014",
          "2015",
          "2016",
          "2017",
          "2018",
          "2019",
          "2020",
          "2021"
         ],
         "xaxis": "x",
         "y": [
          1550,
          1699,
          1693,
          523,
          4,
          15,
          1213,
          376,
          1157,
          697,
          720,
          919
         ],
         "yaxis": "y"
        },
        {
         "hovertemplate": "Exporters=Azerbaijan<br>Year=%{x}<br>Value (k Euro)=%{y}<extra></extra>",
         "legendgroup": "Azerbaijan",
         "line": {
          "color": "#FFA15A",
          "dash": "solid"
         },
         "marker": {
          "symbol": "circle"
         },
         "mode": "lines",
         "name": "Azerbaijan",
         "showlegend": true,
         "type": "scattergl",
         "x": [
          "2010",
          "2011",
          "2012",
          "2013",
          "2014",
          "2015",
          "2016",
          "2017",
          "2018",
          "2019",
          "2020",
          "2021"
         ],
         "xaxis": "x",
         "y": [
          0,
          0,
          0,
          286,
          11,
          455,
          409,
          1667,
          854,
          6895,
          1506,
          1089
         ],
         "yaxis": "y"
        },
        {
         "hovertemplate": "Exporters=Armenia<br>Year=%{x}<br>Value (k Euro)=%{y}<extra></extra>",
         "legendgroup": "Armenia",
         "line": {
          "color": "#19d3f3",
          "dash": "solid"
         },
         "marker": {
          "symbol": "circle"
         },
         "mode": "lines",
         "name": "Armenia",
         "showlegend": true,
         "type": "scattergl",
         "x": [
          "2010",
          "2011",
          "2012",
          "2013",
          "2014",
          "2015",
          "2016",
          "2017",
          "2018",
          "2019",
          "2020",
          "2021"
         ],
         "xaxis": "x",
         "y": [
          0,
          0,
          0,
          165,
          411,
          74,
          2,
          35,
          71,
          285,
          175,
          690
         ],
         "yaxis": "y"
        },
        {
         "hovertemplate": "Exporters=Kuwait<br>Year=%{x}<br>Value (k Euro)=%{y}<extra></extra>",
         "legendgroup": "Kuwait",
         "line": {
          "color": "#FF6692",
          "dash": "solid"
         },
         "marker": {
          "symbol": "circle"
         },
         "mode": "lines",
         "name": "Kuwait",
         "showlegend": true,
         "type": "scattergl",
         "x": [
          "2010",
          "2011",
          "2012",
          "2013",
          "2014",
          "2015",
          "2016",
          "2017",
          "2018",
          "2019",
          "2020",
          "2021"
         ],
         "xaxis": "x",
         "y": [
          532,
          345,
          404,
          1195,
          1038,
          1529,
          1274,
          932,
          1005,
          84,
          608,
          815
         ],
         "yaxis": "y"
        },
        {
         "hovertemplate": "Exporters=Uganda<br>Year=%{x}<br>Value (k Euro)=%{y}<extra></extra>",
         "legendgroup": "Uganda",
         "line": {
          "color": "#B6E880",
          "dash": "solid"
         },
         "marker": {
          "symbol": "circle"
         },
         "mode": "lines",
         "name": "Uganda",
         "showlegend": true,
         "type": "scattergl",
         "x": [
          "2010",
          "2011",
          "2012",
          "2013",
          "2014",
          "2015",
          "2016",
          "2017",
          "2018",
          "2019",
          "2020",
          "2021"
         ],
         "xaxis": "x",
         "y": [
          81,
          107,
          415,
          388,
          231,
          173,
          227,
          739,
          312,
          1050,
          686,
          460
         ],
         "yaxis": "y"
        },
        {
         "hovertemplate": "Exporters=Switzerland<br>Year=%{x}<br>Value (k Euro)=%{y}<extra></extra>",
         "legendgroup": "Switzerland",
         "line": {
          "color": "#FF97FF",
          "dash": "solid"
         },
         "marker": {
          "symbol": "circle"
         },
         "mode": "lines",
         "name": "Switzerland",
         "showlegend": true,
         "type": "scattergl",
         "x": [
          "2010",
          "2011",
          "2012",
          "2013",
          "2014",
          "2015",
          "2016",
          "2017",
          "2018",
          "2019",
          "2020",
          "2021"
         ],
         "xaxis": "x",
         "y": [
          11331,
          18026,
          18049,
          300,
          10036,
          5679,
          13380,
          8139,
          4864,
          2643,
          3839,
          1554
         ],
         "yaxis": "y"
        },
        {
         "hovertemplate": "Exporters=Bolivia, Plurinational State of<br>Year=%{x}<br>Value (k Euro)=%{y}<extra></extra>",
         "legendgroup": "Bolivia, Plurinational State of",
         "line": {
          "color": "#FECB52",
          "dash": "solid"
         },
         "marker": {
          "symbol": "circle"
         },
         "mode": "lines",
         "name": "Bolivia, Plurinational State of",
         "showlegend": true,
         "type": "scattergl",
         "x": [
          "2010",
          "2011",
          "2012",
          "2013",
          "2014",
          "2015",
          "2016",
          "2017",
          "2018",
          "2019",
          "2020",
          "2021"
         ],
         "xaxis": "x",
         "y": [
          2758,
          1992,
          2535,
          2654,
          2923,
          3217,
          1618,
          1276,
          572,
          665,
          868,
          609
         ],
         "yaxis": "y"
        },
        {
         "hovertemplate": "Exporters=Slovenia<br>Year=%{x}<br>Value (k Euro)=%{y}<extra></extra>",
         "legendgroup": "Slovenia",
         "line": {
          "color": "#636efa",
          "dash": "solid"
         },
         "marker": {
          "symbol": "circle"
         },
         "mode": "lines",
         "name": "Slovenia",
         "showlegend": true,
         "type": "scattergl",
         "x": [
          "2010",
          "2011",
          "2012",
          "2013",
          "2014",
          "2015",
          "2016",
          "2017",
          "2018",
          "2019",
          "2020",
          "2021"
         ],
         "xaxis": "x",
         "y": [
          2566,
          2146,
          1271,
          334,
          557,
          241,
          232,
          456,
          429,
          398,
          387,
          526
         ],
         "yaxis": "y"
        },
        {
         "hovertemplate": "Exporters=Indonesia<br>Year=%{x}<br>Value (k Euro)=%{y}<extra></extra>",
         "legendgroup": "Indonesia",
         "line": {
          "color": "#EF553B",
          "dash": "solid"
         },
         "marker": {
          "symbol": "circle"
         },
         "mode": "lines",
         "name": "Indonesia",
         "showlegend": true,
         "type": "scattergl",
         "x": [
          "2010",
          "2011",
          "2012",
          "2013",
          "2014",
          "2015",
          "2016",
          "2017",
          "2018",
          "2019",
          "2020",
          "2021"
         ],
         "xaxis": "x",
         "y": [
          439,
          977,
          167,
          270,
          93,
          272,
          283,
          256,
          205,
          188,
          138,
          433
         ],
         "yaxis": "y"
        },
        {
         "hovertemplate": "Exporters=Jordan<br>Year=%{x}<br>Value (k Euro)=%{y}<extra></extra>",
         "legendgroup": "Jordan",
         "line": {
          "color": "#00cc96",
          "dash": "solid"
         },
         "marker": {
          "symbol": "circle"
         },
         "mode": "lines",
         "name": "Jordan",
         "showlegend": true,
         "type": "scattergl",
         "x": [
          "2010",
          "2011",
          "2012",
          "2013",
          "2014",
          "2015",
          "2016",
          "2017",
          "2018",
          "2019",
          "2020",
          "2021"
         ],
         "xaxis": "x",
         "y": [
          0,
          0,
          133,
          64,
          20,
          117,
          16,
          96,
          93,
          71,
          300,
          34
         ],
         "yaxis": "y"
        },
        {
         "hovertemplate": "Exporters=Philippines<br>Year=%{x}<br>Value (k Euro)=%{y}<extra></extra>",
         "legendgroup": "Philippines",
         "line": {
          "color": "#ab63fa",
          "dash": "solid"
         },
         "marker": {
          "symbol": "circle"
         },
         "mode": "lines",
         "name": "Philippines",
         "showlegend": true,
         "type": "scattergl",
         "x": [
          "2010",
          "2011",
          "2012",
          "2013",
          "2014",
          "2015",
          "2016",
          "2017",
          "2018",
          "2019",
          "2020",
          "2021"
         ],
         "xaxis": "x",
         "y": [
          32,
          70,
          20,
          5,
          0,
          14,
          45,
          17,
          8,
          39,
          428,
          188
         ],
         "yaxis": "y"
        },
        {
         "hovertemplate": "Exporters=Canada<br>Year=%{x}<br>Value (k Euro)=%{y}<extra></extra>",
         "legendgroup": "Canada",
         "line": {
          "color": "#FFA15A",
          "dash": "solid"
         },
         "marker": {
          "symbol": "circle"
         },
         "mode": "lines",
         "name": "Canada",
         "showlegend": true,
         "type": "scattergl",
         "x": [
          "2010",
          "2011",
          "2012",
          "2013",
          "2014",
          "2015",
          "2016",
          "2017",
          "2018",
          "2019",
          "2020",
          "2021"
         ],
         "xaxis": "x",
         "y": [
          2185,
          503,
          1008,
          7626,
          469,
          153,
          408,
          356,
          1732,
          146,
          111,
          276
         ],
         "yaxis": "y"
        },
        {
         "hovertemplate": "Exporters=Benin<br>Year=%{x}<br>Value (k Euro)=%{y}<extra></extra>",
         "legendgroup": "Benin",
         "line": {
          "color": "#19d3f3",
          "dash": "solid"
         },
         "marker": {
          "symbol": "circle"
         },
         "mode": "lines",
         "name": "Benin",
         "showlegend": true,
         "type": "scattergl",
         "x": [
          "2010",
          "2011",
          "2012",
          "2013",
          "2014",
          "2015",
          "2016",
          "2017",
          "2018",
          "2019",
          "2020",
          "2021"
         ],
         "xaxis": "x",
         "y": [
          0,
          3,
          912,
          3866,
          6902,
          3381,
          1159,
          8,
          11,
          3,
          6,
          11
         ],
         "yaxis": "y"
        },
        {
         "hovertemplate": "Exporters=Oman<br>Year=%{x}<br>Value (k Euro)=%{y}<extra></extra>",
         "legendgroup": "Oman",
         "line": {
          "color": "#FF6692",
          "dash": "solid"
         },
         "marker": {
          "symbol": "circle"
         },
         "mode": "lines",
         "name": "Oman",
         "showlegend": true,
         "type": "scattergl",
         "x": [
          "2010",
          "2011",
          "2012",
          "2013",
          "2014",
          "2015",
          "2016",
          "2017",
          "2018",
          "2019",
          "2020",
          "2021"
         ],
         "xaxis": "x",
         "y": [
          474,
          527,
          523,
          1552,
          2753,
          3278,
          417,
          349,
          61,
          70,
          248,
          221
         ],
         "yaxis": "y"
        },
        {
         "hovertemplate": "Exporters=Kenya<br>Year=%{x}<br>Value (k Euro)=%{y}<extra></extra>",
         "legendgroup": "Kenya",
         "line": {
          "color": "#B6E880",
          "dash": "solid"
         },
         "marker": {
          "symbol": "circle"
         },
         "mode": "lines",
         "name": "Kenya",
         "showlegend": true,
         "type": "scattergl",
         "x": [
          "2010",
          "2011",
          "2012",
          "2013",
          "2014",
          "2015",
          "2016",
          "2017",
          "2018",
          "2019",
          "2020",
          "2021"
         ],
         "xaxis": "x",
         "y": [
          746,
          882,
          632,
          407,
          560,
          299,
          382,
          93,
          57,
          21,
          75,
          397
         ],
         "yaxis": "y"
        },
        {
         "hovertemplate": "Exporters=Guyana<br>Year=%{x}<br>Value (k Euro)=%{y}<extra></extra>",
         "legendgroup": "Guyana",
         "line": {
          "color": "#FF97FF",
          "dash": "solid"
         },
         "marker": {
          "symbol": "circle"
         },
         "mode": "lines",
         "name": "Guyana",
         "showlegend": true,
         "type": "scattergl",
         "x": [
          "2010",
          "2011",
          "2012",
          "2013",
          "2014",
          "2015",
          "2016",
          "2017",
          "2018",
          "2019",
          "2020",
          "2021"
         ],
         "xaxis": "x",
         "y": [
          1,
          1,
          1,
          0,
          0,
          0,
          0,
          0,
          0,
          0,
          0,
          141
         ],
         "yaxis": "y"
        },
        {
         "hovertemplate": "Exporters=Angola<br>Year=%{x}<br>Value (k Euro)=%{y}<extra></extra>",
         "legendgroup": "Angola",
         "line": {
          "color": "#FECB52",
          "dash": "solid"
         },
         "marker": {
          "symbol": "circle"
         },
         "mode": "lines",
         "name": "Angola",
         "showlegend": true,
         "type": "scattergl",
         "x": [
          "2010",
          "2011",
          "2012",
          "2013",
          "2014",
          "2015",
          "2016",
          "2017",
          "2018",
          "2019",
          "2020",
          "2021"
         ],
         "xaxis": "x",
         "y": [
          0,
          0,
          0,
          0,
          0,
          33,
          4,
          7,
          9,
          172,
          44,
          37
         ],
         "yaxis": "y"
        },
        {
         "hovertemplate": "Exporters=Algeria<br>Year=%{x}<br>Value (k Euro)=%{y}<extra></extra>",
         "legendgroup": "Algeria",
         "line": {
          "color": "#636efa",
          "dash": "solid"
         },
         "marker": {
          "symbol": "circle"
         },
         "mode": "lines",
         "name": "Algeria",
         "showlegend": true,
         "type": "scattergl",
         "x": [
          "2010",
          "2011",
          "2012",
          "2013",
          "2014",
          "2015",
          "2016",
          "2017",
          "2019",
          "2021"
         ],
         "xaxis": "x",
         "y": [
          0,
          0,
          0,
          0,
          0,
          0,
          0,
          7,
          31,
          61
         ],
         "yaxis": "y"
        },
        {
         "hovertemplate": "Exporters=Zambia<br>Year=%{x}<br>Value (k Euro)=%{y}<extra></extra>",
         "legendgroup": "Zambia",
         "line": {
          "color": "#EF553B",
          "dash": "solid"
         },
         "marker": {
          "symbol": "circle"
         },
         "mode": "lines",
         "name": "Zambia",
         "showlegend": true,
         "type": "scattergl",
         "x": [
          "2010",
          "2011",
          "2012",
          "2013",
          "2014",
          "2015",
          "2016",
          "2017",
          "2018",
          "2019",
          "2020",
          "2021"
         ],
         "xaxis": "x",
         "y": [
          704,
          833,
          776,
          167,
          132,
          3,
          5,
          4,
          140,
          0,
          20,
          47
         ],
         "yaxis": "y"
        },
        {
         "hovertemplate": "Exporters=Syrian Arab Republic<br>Year=%{x}<br>Value (k Euro)=%{y}<extra></extra>",
         "legendgroup": "Syrian Arab Republic",
         "line": {
          "color": "#00cc96",
          "dash": "solid"
         },
         "marker": {
          "symbol": "circle"
         },
         "mode": "lines",
         "name": "Syrian Arab Republic",
         "showlegend": true,
         "type": "scattergl",
         "x": [
          "2010",
          "2011",
          "2012",
          "2013",
          "2014",
          "2015",
          "2016",
          "2017",
          "2018",
          "2019",
          "2020",
          "2021"
         ],
         "xaxis": "x",
         "y": [
          2,
          189,
          1,
          9,
          3,
          86,
          2,
          4,
          5,
          46,
          80,
          113
         ],
         "yaxis": "y"
        },
        {
         "hovertemplate": "Exporters=Panama<br>Year=%{x}<br>Value (k Euro)=%{y}<extra></extra>",
         "legendgroup": "Panama",
         "line": {
          "color": "#ab63fa",
          "dash": "solid"
         },
         "marker": {
          "symbol": "circle"
         },
         "mode": "lines",
         "name": "Panama",
         "showlegend": true,
         "type": "scattergl",
         "x": [
          "2010",
          "2011",
          "2012",
          "2013",
          "2014",
          "2015",
          "2016",
          "2017",
          "2018",
          "2019",
          "2020",
          "2021"
         ],
         "xaxis": "x",
         "y": [
          3,
          7,
          18,
          23,
          19,
          5,
          9,
          11,
          64,
          23,
          25,
          86
         ],
         "yaxis": "y"
        },
        {
         "hovertemplate": "Exporters=Bangladesh<br>Year=%{x}<br>Value (k Euro)=%{y}<extra></extra>",
         "legendgroup": "Bangladesh",
         "line": {
          "color": "#FFA15A",
          "dash": "solid"
         },
         "marker": {
          "symbol": "circle"
         },
         "mode": "lines",
         "name": "Bangladesh",
         "showlegend": true,
         "type": "scattergl",
         "x": [
          "2010",
          "2011",
          "2012",
          "2013",
          "2015",
          "2016",
          "2017",
          "2018",
          "2019",
          "2020",
          "2021"
         ],
         "xaxis": "x",
         "y": [
          19,
          9,
          19,
          28,
          4,
          22,
          35,
          69,
          4,
          59,
          78
         ],
         "yaxis": "y"
        },
        {
         "hovertemplate": "Exporters=Egypt<br>Year=%{x}<br>Value (k Euro)=%{y}<extra></extra>",
         "legendgroup": "Egypt",
         "line": {
          "color": "#19d3f3",
          "dash": "solid"
         },
         "marker": {
          "symbol": "circle"
         },
         "mode": "lines",
         "name": "Egypt",
         "showlegend": true,
         "type": "scattergl",
         "x": [
          "2010",
          "2011",
          "2012",
          "2013",
          "2014",
          "2015",
          "2016",
          "2017",
          "2018",
          "2019",
          "2020",
          "2021"
         ],
         "xaxis": "x",
         "y": [
          188,
          734,
          356,
          442,
          44,
          35,
          95,
          4,
          124,
          356,
          226,
          139
         ],
         "yaxis": "y"
        },
        {
         "hovertemplate": "Exporters=Brunei Darussalam<br>Year=%{x}<br>Value (k Euro)=%{y}<extra></extra>",
         "legendgroup": "Brunei Darussalam",
         "line": {
          "color": "#FF6692",
          "dash": "solid"
         },
         "marker": {
          "symbol": "circle"
         },
         "mode": "lines",
         "name": "Brunei Darussalam",
         "showlegend": true,
         "type": "scattergl",
         "x": [
          "2010",
          "2011",
          "2012",
          "2013",
          "2014",
          "2015",
          "2016",
          "2017",
          "2018",
          "2019",
          "2020",
          "2021"
         ],
         "xaxis": "x",
         "y": [
          6,
          1,
          2,
          8,
          6,
          82,
          89,
          5,
          26,
          33,
          11,
          52
         ],
         "yaxis": "y"
        },
        {
         "hovertemplate": "Exporters=Georgia<br>Year=%{x}<br>Value (k Euro)=%{y}<extra></extra>",
         "legendgroup": "Georgia",
         "line": {
          "color": "#B6E880",
          "dash": "solid"
         },
         "marker": {
          "symbol": "circle"
         },
         "mode": "lines",
         "name": "Georgia",
         "showlegend": true,
         "type": "scattergl",
         "x": [
          "2010",
          "2011",
          "2012",
          "2013",
          "2014",
          "2015",
          "2016",
          "2017",
          "2018",
          "2019",
          "2020",
          "2021"
         ],
         "xaxis": "x",
         "y": [
          1010,
          350,
          460,
          708,
          1375,
          295,
          398,
          420,
          350,
          585,
          373,
          133
         ],
         "yaxis": "y"
        },
        {
         "hovertemplate": "Exporters=Namibia<br>Year=%{x}<br>Value (k Euro)=%{y}<extra></extra>",
         "legendgroup": "Namibia",
         "line": {
          "color": "#FF97FF",
          "dash": "solid"
         },
         "marker": {
          "symbol": "circle"
         },
         "mode": "lines",
         "name": "Namibia",
         "showlegend": true,
         "type": "scattergl",
         "x": [
          "2010",
          "2011",
          "2012",
          "2013",
          "2014",
          "2015",
          "2016",
          "2017",
          "2018",
          "2019",
          "2020",
          "2021"
         ],
         "xaxis": "x",
         "y": [
          300,
          212,
          86,
          48,
          65,
          69,
          31,
          12,
          18,
          108,
          71,
          27
         ],
         "yaxis": "y"
        },
        {
         "hovertemplate": "Exporters=Samoa<br>Year=%{x}<br>Value (k Euro)=%{y}<extra></extra>",
         "legendgroup": "Samoa",
         "line": {
          "color": "#FECB52",
          "dash": "solid"
         },
         "marker": {
          "symbol": "circle"
         },
         "mode": "lines",
         "name": "Samoa",
         "showlegend": true,
         "type": "scattergl",
         "x": [
          "2010",
          "2011",
          "2012",
          "2013",
          "2014",
          "2015",
          "2016",
          "2017",
          "2018",
          "2019",
          "2020",
          "2021"
         ],
         "xaxis": "x",
         "y": [
          0,
          0,
          0,
          13,
          22,
          0,
          0,
          4,
          9,
          11,
          70,
          5
         ],
         "yaxis": "y"
        },
        {
         "hovertemplate": "Exporters=Dominican Republic<br>Year=%{x}<br>Value (k Euro)=%{y}<extra></extra>",
         "legendgroup": "Dominican Republic",
         "line": {
          "color": "#636efa",
          "dash": "solid"
         },
         "marker": {
          "symbol": "circle"
         },
         "mode": "lines",
         "name": "Dominican Republic",
         "showlegend": true,
         "type": "scattergl",
         "x": [
          "2010",
          "2011",
          "2012",
          "2013",
          "2014",
          "2015",
          "2016",
          "2017",
          "2018",
          "2019",
          "2020",
          "2021"
         ],
         "xaxis": "x",
         "y": [
          631,
          1261,
          26,
          38,
          14,
          199,
          473,
          253,
          167,
          125,
          74,
          100
         ],
         "yaxis": "y"
        },
        {
         "hovertemplate": "Exporters=Morocco<br>Year=%{x}<br>Value (k Euro)=%{y}<extra></extra>",
         "legendgroup": "Morocco",
         "line": {
          "color": "#EF553B",
          "dash": "solid"
         },
         "marker": {
          "symbol": "circle"
         },
         "mode": "lines",
         "name": "Morocco",
         "showlegend": true,
         "type": "scattergl",
         "x": [
          "2010",
          "2011",
          "2012",
          "2013",
          "2014",
          "2015",
          "2016",
          "2017",
          "2018",
          "2019",
          "2020",
          "2021"
         ],
         "xaxis": "x",
         "y": [
          240,
          60,
          10,
          27,
          206,
          50,
          380,
          462,
          46,
          27,
          12,
          98
         ],
         "yaxis": "y"
        },
        {
         "hovertemplate": "Exporters=Pakistan<br>Year=%{x}<br>Value (k Euro)=%{y}<extra></extra>",
         "legendgroup": "Pakistan",
         "line": {
          "color": "#00cc96",
          "dash": "solid"
         },
         "marker": {
          "symbol": "circle"
         },
         "mode": "lines",
         "name": "Pakistan",
         "showlegend": true,
         "type": "scattergl",
         "x": [
          "2010",
          "2011",
          "2012",
          "2013",
          "2014",
          "2015",
          "2016",
          "2017",
          "2018",
          "2019",
          "2020",
          "2021"
         ],
         "xaxis": "x",
         "y": [
          347,
          1241,
          397,
          90,
          31,
          32,
          42,
          70,
          128,
          76,
          104,
          131
         ],
         "yaxis": "y"
        },
        {
         "hovertemplate": "Exporters=Japan<br>Year=%{x}<br>Value (k Euro)=%{y}<extra></extra>",
         "legendgroup": "Japan",
         "line": {
          "color": "#ab63fa",
          "dash": "solid"
         },
         "marker": {
          "symbol": "circle"
         },
         "mode": "lines",
         "name": "Japan",
         "showlegend": true,
         "type": "scattergl",
         "x": [
          "2010",
          "2011",
          "2012",
          "2013",
          "2014",
          "2015",
          "2016",
          "2017",
          "2018",
          "2019",
          "2020",
          "2021"
         ],
         "xaxis": "x",
         "y": [
          20,
          11,
          19,
          26,
          30,
          36,
          44,
          64,
          94,
          121,
          144,
          318
         ],
         "yaxis": "y"
        },
        {
         "hovertemplate": "Exporters=El Salvador<br>Year=%{x}<br>Value (k Euro)=%{y}<extra></extra>",
         "legendgroup": "El Salvador",
         "line": {
          "color": "#FFA15A",
          "dash": "solid"
         },
         "marker": {
          "symbol": "circle"
         },
         "mode": "lines",
         "name": "El Salvador",
         "showlegend": true,
         "type": "scattergl",
         "x": [
          "2010",
          "2011",
          "2012",
          "2013",
          "2014",
          "2015",
          "2016",
          "2017",
          "2018",
          "2019",
          "2020",
          "2021"
         ],
         "xaxis": "x",
         "y": [
          8,
          66,
          85,
          139,
          22,
          48,
          52,
          60,
          75,
          105,
          118,
          107
         ],
         "yaxis": "y"
        },
        {
         "hovertemplate": "Exporters=Côte d'Ivoire<br>Year=%{x}<br>Value (k Euro)=%{y}<extra></extra>",
         "legendgroup": "Côte d'Ivoire",
         "line": {
          "color": "#19d3f3",
          "dash": "solid"
         },
         "marker": {
          "symbol": "circle"
         },
         "mode": "lines",
         "name": "Côte d'Ivoire",
         "showlegend": true,
         "type": "scattergl",
         "x": [
          "2010",
          "2011",
          "2012",
          "2013",
          "2014",
          "2015",
          "2016",
          "2017",
          "2018",
          "2019",
          "2020",
          "2021"
         ],
         "xaxis": "x",
         "y": [
          8,
          8,
          20,
          36,
          28,
          32,
          15,
          6,
          13,
          9,
          13,
          6
         ],
         "yaxis": "y"
        },
        {
         "hovertemplate": "Exporters=Fiji<br>Year=%{x}<br>Value (k Euro)=%{y}<extra></extra>",
         "legendgroup": "Fiji",
         "line": {
          "color": "#FF6692",
          "dash": "solid"
         },
         "marker": {
          "symbol": "circle"
         },
         "mode": "lines",
         "name": "Fiji",
         "showlegend": true,
         "type": "scattergl",
         "x": [
          "2010",
          "2011",
          "2012",
          "2013",
          "2014",
          "2015",
          "2016",
          "2017",
          "2018",
          "2019",
          "2020",
          "2021"
         ],
         "xaxis": "x",
         "y": [
          57,
          70,
          98,
          67,
          230,
          70,
          199,
          145,
          196,
          121,
          120,
          69
         ],
         "yaxis": "y"
        },
        {
         "hovertemplate": "Exporters=Ecuador<br>Year=%{x}<br>Value (k Euro)=%{y}<extra></extra>",
         "legendgroup": "Ecuador",
         "line": {
          "color": "#B6E880",
          "dash": "solid"
         },
         "marker": {
          "symbol": "circle"
         },
         "mode": "lines",
         "name": "Ecuador",
         "showlegend": true,
         "type": "scattergl",
         "x": [
          "2010",
          "2011",
          "2012",
          "2013",
          "2014",
          "2015",
          "2016",
          "2017",
          "2018",
          "2019",
          "2020",
          "2021"
         ],
         "xaxis": "x",
         "y": [
          0,
          0,
          0,
          0,
          0,
          41,
          0,
          1,
          0,
          0,
          0,
          39
         ],
         "yaxis": "y"
        },
        {
         "hovertemplate": "Exporters=Macao, China<br>Year=%{x}<br>Value (k Euro)=%{y}<extra></extra>",
         "legendgroup": "Macao, China",
         "line": {
          "color": "#FF97FF",
          "dash": "solid"
         },
         "marker": {
          "symbol": "circle"
         },
         "mode": "lines",
         "name": "Macao, China",
         "showlegend": true,
         "type": "scattergl",
         "x": [
          "2010",
          "2011",
          "2012",
          "2013",
          "2014",
          "2015",
          "2016",
          "2017",
          "2018",
          "2019",
          "2020",
          "2021"
         ],
         "xaxis": "x",
         "y": [
          0,
          0,
          0,
          0,
          0,
          0,
          0,
          58,
          12,
          0,
          0,
          102
         ],
         "yaxis": "y"
        },
        {
         "hovertemplate": "Exporters=Malta<br>Year=%{x}<br>Value (k Euro)=%{y}<extra></extra>",
         "legendgroup": "Malta",
         "line": {
          "color": "#FECB52",
          "dash": "solid"
         },
         "marker": {
          "symbol": "circle"
         },
         "mode": "lines",
         "name": "Malta",
         "showlegend": true,
         "type": "scattergl",
         "x": [
          "2010",
          "2011",
          "2012",
          "2013",
          "2014",
          "2015",
          "2016",
          "2017",
          "2018",
          "2019",
          "2020",
          "2021"
         ],
         "xaxis": "x",
         "y": [
          0,
          0,
          0,
          0,
          0,
          0,
          0,
          1,
          0,
          1,
          0,
          69
         ],
         "yaxis": "y"
        },
        {
         "hovertemplate": "Exporters=Rwanda<br>Year=%{x}<br>Value (k Euro)=%{y}<extra></extra>",
         "legendgroup": "Rwanda",
         "line": {
          "color": "#636efa",
          "dash": "solid"
         },
         "marker": {
          "symbol": "circle"
         },
         "mode": "lines",
         "name": "Rwanda",
         "showlegend": true,
         "type": "scattergl",
         "x": [
          "2010",
          "2011",
          "2012",
          "2013",
          "2014",
          "2015",
          "2016",
          "2017",
          "2018",
          "2019",
          "2020",
          "2021"
         ],
         "xaxis": "x",
         "y": [
          0,
          0,
          0,
          0,
          0,
          2,
          0,
          1,
          0,
          44,
          37,
          25
         ],
         "yaxis": "y"
        },
        {
         "hovertemplate": "Exporters=Macedonia, North<br>Year=%{x}<br>Value (k Euro)=%{y}<extra></extra>",
         "legendgroup": "Macedonia, North",
         "line": {
          "color": "#EF553B",
          "dash": "solid"
         },
         "marker": {
          "symbol": "circle"
         },
         "mode": "lines",
         "name": "Macedonia, North",
         "showlegend": true,
         "type": "scattergl",
         "x": [
          "2010",
          "2011",
          "2012",
          "2013",
          "2014",
          "2015",
          "2016",
          "2017",
          "2018",
          "2019",
          "2020",
          "2021"
         ],
         "xaxis": "x",
         "y": [
          533,
          372,
          131,
          8,
          2,
          123,
          764,
          760,
          174,
          204,
          31,
          37
         ],
         "yaxis": "y"
        },
        {
         "hovertemplate": "Exporters=Korea, Republic of<br>Year=%{x}<br>Value (k Euro)=%{y}<extra></extra>",
         "legendgroup": "Korea, Republic of",
         "line": {
          "color": "#00cc96",
          "dash": "solid"
         },
         "marker": {
          "symbol": "circle"
         },
         "mode": "lines",
         "name": "Korea, Republic of",
         "showlegend": true,
         "type": "scattergl",
         "x": [
          "2010",
          "2011",
          "2012",
          "2013",
          "2014",
          "2015",
          "2016",
          "2017",
          "2018",
          "2019",
          "2020",
          "2021"
         ],
         "xaxis": "x",
         "y": [
          0,
          11,
          16,
          39,
          196,
          26,
          23,
          67,
          80,
          221,
          439,
          41
         ],
         "yaxis": "y"
        },
        {
         "hovertemplate": "Exporters=Botswana<br>Year=%{x}<br>Value (k Euro)=%{y}<extra></extra>",
         "legendgroup": "Botswana",
         "line": {
          "color": "#ab63fa",
          "dash": "solid"
         },
         "marker": {
          "symbol": "circle"
         },
         "mode": "lines",
         "name": "Botswana",
         "showlegend": true,
         "type": "scattergl",
         "x": [
          "2010",
          "2011",
          "2012",
          "2013",
          "2014",
          "2015",
          "2016",
          "2017",
          "2018",
          "2019",
          "2020",
          "2021"
         ],
         "xaxis": "x",
         "y": [
          1,
          1,
          1,
          1,
          1,
          1,
          1,
          10,
          48,
          115,
          4,
          16
         ],
         "yaxis": "y"
        },
        {
         "hovertemplate": "Exporters=Senegal<br>Year=%{x}<br>Value (k Euro)=%{y}<extra></extra>",
         "legendgroup": "Senegal",
         "line": {
          "color": "#FFA15A",
          "dash": "solid"
         },
         "marker": {
          "symbol": "circle"
         },
         "mode": "lines",
         "name": "Senegal",
         "showlegend": true,
         "type": "scattergl",
         "x": [
          "2010",
          "2011",
          "2012",
          "2013",
          "2014",
          "2015",
          "2016",
          "2017",
          "2018",
          "2019",
          "2020",
          "2021"
         ],
         "xaxis": "x",
         "y": [
          50,
          32,
          9,
          244,
          169,
          78,
          102,
          224,
          129,
          146,
          57,
          15
         ],
         "yaxis": "y"
        },
        {
         "hovertemplate": "Exporters=Trinidad and Tobago<br>Year=%{x}<br>Value (k Euro)=%{y}<extra></extra>",
         "legendgroup": "Trinidad and Tobago",
         "line": {
          "color": "#19d3f3",
          "dash": "solid"
         },
         "marker": {
          "symbol": "circle"
         },
         "mode": "lines",
         "name": "Trinidad and Tobago",
         "showlegend": true,
         "type": "scattergl",
         "x": [
          "2010",
          "2011",
          "2012",
          "2013",
          "2014",
          "2015",
          "2016",
          "2017",
          "2018",
          "2019",
          "2020",
          "2021"
         ],
         "xaxis": "x",
         "y": [
          10,
          10,
          19,
          13,
          5,
          37,
          42,
          46,
          26,
          102,
          35,
          23
         ],
         "yaxis": "y"
        },
        {
         "hovertemplate": "Exporters=Zimbabwe<br>Year=%{x}<br>Value (k Euro)=%{y}<extra></extra>",
         "legendgroup": "Zimbabwe",
         "line": {
          "color": "#FF6692",
          "dash": "solid"
         },
         "marker": {
          "symbol": "circle"
         },
         "mode": "lines",
         "name": "Zimbabwe",
         "showlegend": true,
         "type": "scattergl",
         "x": [
          "2010",
          "2011",
          "2012",
          "2013",
          "2014",
          "2015",
          "2016",
          "2017",
          "2018",
          "2019",
          "2020",
          "2021"
         ],
         "xaxis": "x",
         "y": [
          0,
          0,
          0,
          0,
          7,
          0,
          29,
          19,
          0,
          0,
          4,
          25
         ],
         "yaxis": "y"
        },
        {
         "hovertemplate": "Exporters=Peru<br>Year=%{x}<br>Value (k Euro)=%{y}<extra></extra>",
         "legendgroup": "Peru",
         "line": {
          "color": "#B6E880",
          "dash": "solid"
         },
         "marker": {
          "symbol": "circle"
         },
         "mode": "lines",
         "name": "Peru",
         "showlegend": true,
         "type": "scattergl",
         "x": [
          "2010",
          "2011",
          "2012",
          "2013",
          "2014",
          "2015",
          "2016",
          "2017",
          "2018",
          "2019",
          "2020",
          "2021"
         ],
         "xaxis": "x",
         "y": [
          11,
          0,
          0,
          1,
          13,
          0,
          0,
          87,
          2,
          4,
          229,
          7
         ],
         "yaxis": "y"
        },
        {
         "hovertemplate": "Exporters=Nepal<br>Year=%{x}<br>Value (k Euro)=%{y}<extra></extra>",
         "legendgroup": "Nepal",
         "line": {
          "color": "#FF97FF",
          "dash": "solid"
         },
         "marker": {
          "symbol": "circle"
         },
         "mode": "lines",
         "name": "Nepal",
         "showlegend": true,
         "type": "scattergl",
         "x": [
          "2010",
          "2011",
          "2012",
          "2013",
          "2014",
          "2015",
          "2016",
          "2017",
          "2018",
          "2019",
          "2020",
          "2021"
         ],
         "xaxis": "x",
         "y": [
          2,
          6,
          0,
          1,
          12,
          5,
          52,
          14,
          12,
          30,
          96,
          16
         ],
         "yaxis": "y"
        },
        {
         "hovertemplate": "Exporters=Taipei, Chinese<br>Year=%{x}<br>Value (k Euro)=%{y}<extra></extra>",
         "legendgroup": "Taipei, Chinese",
         "line": {
          "color": "#FECB52",
          "dash": "solid"
         },
         "marker": {
          "symbol": "circle"
         },
         "mode": "lines",
         "name": "Taipei, Chinese",
         "showlegend": true,
         "type": "scattergl",
         "x": [
          "2010",
          "2011",
          "2012",
          "2013",
          "2014",
          "2015",
          "2016",
          "2017",
          "2018",
          "2019",
          "2020",
          "2021"
         ],
         "xaxis": "x",
         "y": [
          46,
          43,
          58,
          50,
          97,
          114,
          33,
          25,
          85,
          41,
          11,
          23
         ],
         "yaxis": "y"
        },
        {
         "hovertemplate": "Exporters=Ethiopia<br>Year=%{x}<br>Value (k Euro)=%{y}<extra></extra>",
         "legendgroup": "Ethiopia",
         "line": {
          "color": "#636efa",
          "dash": "solid"
         },
         "marker": {
          "symbol": "circle"
         },
         "mode": "lines",
         "name": "Ethiopia",
         "showlegend": true,
         "type": "scattergl",
         "x": [
          "2010",
          "2011",
          "2012",
          "2013",
          "2014",
          "2015",
          "2016",
          "2017",
          "2018",
          "2019",
          "2020",
          "2021"
         ],
         "xaxis": "x",
         "y": [
          52,
          68,
          131,
          64,
          56,
          69,
          82,
          74,
          30,
          23,
          25,
          14
         ],
         "yaxis": "y"
        },
        {
         "hovertemplate": "Exporters=Gabon<br>Year=%{x}<br>Value (k Euro)=%{y}<extra></extra>",
         "legendgroup": "Gabon",
         "line": {
          "color": "#EF553B",
          "dash": "solid"
         },
         "marker": {
          "symbol": "circle"
         },
         "mode": "lines",
         "name": "Gabon",
         "showlegend": true,
         "type": "scattergl",
         "x": [
          "2010",
          "2011",
          "2012",
          "2013",
          "2014",
          "2015",
          "2016",
          "2017",
          "2018",
          "2019",
          "2020",
          "2021"
         ],
         "xaxis": "x",
         "y": [
          1,
          1,
          0,
          35,
          33,
          23,
          16,
          10,
          4,
          4,
          0,
          14
         ],
         "yaxis": "y"
        },
        {
         "hovertemplate": "Exporters=Sri Lanka<br>Year=%{x}<br>Value (k Euro)=%{y}<extra></extra>",
         "legendgroup": "Sri Lanka",
         "line": {
          "color": "#00cc96",
          "dash": "solid"
         },
         "marker": {
          "symbol": "circle"
         },
         "mode": "lines",
         "name": "Sri Lanka",
         "showlegend": true,
         "type": "scattergl",
         "x": [
          "2010",
          "2011",
          "2012",
          "2013",
          "2014",
          "2015",
          "2016",
          "2017",
          "2019",
          "2020",
          "2021"
         ],
         "xaxis": "x",
         "y": [
          2,
          3,
          2,
          0,
          7,
          2,
          2,
          4,
          4,
          4,
          4
         ],
         "yaxis": "y"
        },
        {
         "hovertemplate": "Exporters=Congo<br>Year=%{x}<br>Value (k Euro)=%{y}<extra></extra>",
         "legendgroup": "Congo",
         "line": {
          "color": "#ab63fa",
          "dash": "solid"
         },
         "marker": {
          "symbol": "circle"
         },
         "mode": "lines",
         "name": "Congo",
         "showlegend": true,
         "type": "scattergl",
         "x": [
          "2010",
          "2011",
          "2012",
          "2013",
          "2014",
          "2015",
          "2016",
          "2017",
          "2018",
          "2019",
          "2020",
          "2021"
         ],
         "xaxis": "x",
         "y": [
          0,
          0,
          0,
          0,
          0,
          0,
          0,
          0,
          0,
          0,
          0,
          2
         ],
         "yaxis": "y"
        },
        {
         "hovertemplate": "Exporters=Mozambique<br>Year=%{x}<br>Value (k Euro)=%{y}<extra></extra>",
         "legendgroup": "Mozambique",
         "line": {
          "color": "#FFA15A",
          "dash": "solid"
         },
         "marker": {
          "symbol": "circle"
         },
         "mode": "lines",
         "name": "Mozambique",
         "showlegend": true,
         "type": "scattergl",
         "x": [
          "2010",
          "2011",
          "2012",
          "2013",
          "2014",
          "2015",
          "2016",
          "2017",
          "2018",
          "2019",
          "2020",
          "2021"
         ],
         "xaxis": "x",
         "y": [
          0,
          0,
          0,
          1,
          0,
          0,
          3,
          2,
          2,
          2,
          11,
          4
         ],
         "yaxis": "y"
        },
        {
         "hovertemplate": "Exporters=Mauritius<br>Year=%{x}<br>Value (k Euro)=%{y}<extra></extra>",
         "legendgroup": "Mauritius",
         "line": {
          "color": "#19d3f3",
          "dash": "solid"
         },
         "marker": {
          "symbol": "circle"
         },
         "mode": "lines",
         "name": "Mauritius",
         "showlegend": true,
         "type": "scattergl",
         "x": [
          "2010",
          "2011",
          "2012",
          "2013",
          "2014",
          "2015",
          "2016",
          "2017",
          "2018",
          "2019",
          "2020",
          "2021"
         ],
         "xaxis": "x",
         "y": [
          13,
          34,
          5,
          9,
          2,
          5,
          1,
          0,
          0,
          14,
          0,
          1
         ],
         "yaxis": "y"
        },
        {
         "hovertemplate": "Exporters=Mexico<br>Year=%{x}<br>Value (k Euro)=%{y}<extra></extra>",
         "legendgroup": "Mexico",
         "line": {
          "color": "#FF6692",
          "dash": "solid"
         },
         "marker": {
          "symbol": "circle"
         },
         "mode": "lines",
         "name": "Mexico",
         "showlegend": true,
         "type": "scattergl",
         "x": [
          "2010",
          "2011",
          "2012",
          "2013",
          "2014",
          "2015",
          "2016",
          "2017",
          "2018",
          "2019",
          "2020",
          "2021"
         ],
         "xaxis": "x",
         "y": [
          7,
          24,
          33,
          529,
          308,
          4023,
          7703,
          4165,
          7297,
          3386,
          254,
          0
         ],
         "yaxis": "y"
        },
        {
         "hovertemplate": "Exporters=Mongolia<br>Year=%{x}<br>Value (k Euro)=%{y}<extra></extra>",
         "legendgroup": "Mongolia",
         "line": {
          "color": "#B6E880",
          "dash": "solid"
         },
         "marker": {
          "symbol": "circle"
         },
         "mode": "lines",
         "name": "Mongolia",
         "showlegend": true,
         "type": "scattergl",
         "x": [
          "2010",
          "2011",
          "2012",
          "2013",
          "2014",
          "2015",
          "2016",
          "2017",
          "2018",
          "2019",
          "2020",
          "2021"
         ],
         "xaxis": "x",
         "y": [
          0,
          0,
          0,
          0,
          0,
          0,
          1,
          1,
          4,
          0,
          0,
          0
         ],
         "yaxis": "y"
        },
        {
         "hovertemplate": "Exporters=Moldova, Republic of<br>Year=%{x}<br>Value (k Euro)=%{y}<extra></extra>",
         "legendgroup": "Moldova, Republic of",
         "line": {
          "color": "#FF97FF",
          "dash": "solid"
         },
         "marker": {
          "symbol": "circle"
         },
         "mode": "lines",
         "name": "Moldova, Republic of",
         "showlegend": true,
         "type": "scattergl",
         "x": [
          "2010",
          "2011",
          "2012",
          "2013",
          "2014",
          "2015",
          "2016",
          "2017",
          "2018",
          "2019",
          "2020",
          "2021"
         ],
         "xaxis": "x",
         "y": [
          846,
          852,
          96,
          1726,
          1235,
          1683,
          4238,
          1987,
          187,
          0,
          42,
          1
         ],
         "yaxis": "y"
        },
        {
         "hovertemplate": "Exporters=Montenegro<br>Year=%{x}<br>Value (k Euro)=%{y}<extra></extra>",
         "legendgroup": "Montenegro",
         "line": {
          "color": "#FECB52",
          "dash": "solid"
         },
         "marker": {
          "symbol": "circle"
         },
         "mode": "lines",
         "name": "Montenegro",
         "showlegend": true,
         "type": "scattergl",
         "x": [
          "2010",
          "2011",
          "2012",
          "2013",
          "2014",
          "2015",
          "2016",
          "2017",
          "2018",
          "2019",
          "2020",
          "2021"
         ],
         "xaxis": "x",
         "y": [
          0,
          0,
          1,
          1,
          0,
          0,
          0,
          0,
          0,
          1,
          0,
          0
         ],
         "yaxis": "y"
        },
        {
         "hovertemplate": "Exporters=Jamaica<br>Year=%{x}<br>Value (k Euro)=%{y}<extra></extra>",
         "legendgroup": "Jamaica",
         "line": {
          "color": "#636efa",
          "dash": "solid"
         },
         "marker": {
          "symbol": "circle"
         },
         "mode": "lines",
         "name": "Jamaica",
         "showlegend": true,
         "type": "scattergl",
         "x": [
          "2010",
          "2011",
          "2012",
          "2013",
          "2014",
          "2015",
          "2016",
          "2017",
          "2018",
          "2019",
          "2020",
          "2021"
         ],
         "xaxis": "x",
         "y": [
          0,
          6,
          1,
          2,
          33,
          0,
          1,
          0,
          14,
          3,
          1,
          1
         ],
         "yaxis": "y"
        },
        {
         "hovertemplate": "Exporters=Israel<br>Year=%{x}<br>Value (k Euro)=%{y}<extra></extra>",
         "legendgroup": "Israel",
         "line": {
          "color": "#EF553B",
          "dash": "solid"
         },
         "marker": {
          "symbol": "circle"
         },
         "mode": "lines",
         "name": "Israel",
         "showlegend": true,
         "type": "scattergl",
         "x": [
          "2010",
          "2011",
          "2012",
          "2013",
          "2014",
          "2015",
          "2016",
          "2017",
          "2018",
          "2019",
          "2020",
          "2021"
         ],
         "xaxis": "x",
         "y": [
          2,
          0,
          0,
          0,
          25,
          0,
          1,
          1,
          0,
          0,
          0,
          4
         ],
         "yaxis": "y"
        },
        {
         "hovertemplate": "Exporters=Madagascar<br>Year=%{x}<br>Value (k Euro)=%{y}<extra></extra>",
         "legendgroup": "Madagascar",
         "line": {
          "color": "#00cc96",
          "dash": "solid"
         },
         "marker": {
          "symbol": "circle"
         },
         "mode": "lines",
         "name": "Madagascar",
         "showlegend": true,
         "type": "scattergl",
         "x": [
          "2010",
          "2011",
          "2012",
          "2013",
          "2014",
          "2015",
          "2016",
          "2017",
          "2018",
          "2019",
          "2020",
          "2021"
         ],
         "xaxis": "x",
         "y": [
          14,
          15,
          10,
          11,
          11,
          13,
          14,
          81,
          0,
          0,
          0,
          0
         ],
         "yaxis": "y"
        },
        {
         "hovertemplate": "Exporters=Lebanon<br>Year=%{x}<br>Value (k Euro)=%{y}<extra></extra>",
         "legendgroup": "Lebanon",
         "line": {
          "color": "#ab63fa",
          "dash": "solid"
         },
         "marker": {
          "symbol": "circle"
         },
         "mode": "lines",
         "name": "Lebanon",
         "showlegend": true,
         "type": "scattergl",
         "x": [
          "2010",
          "2011",
          "2012",
          "2013",
          "2014",
          "2015",
          "2016",
          "2017",
          "2018",
          "2019",
          "2020",
          "2021"
         ],
         "xaxis": "x",
         "y": [
          88,
          91,
          39,
          124,
          159,
          389,
          71,
          86,
          34,
          41,
          130,
          5
         ],
         "yaxis": "y"
        },
        {
         "hovertemplate": "Exporters=Qatar<br>Year=%{x}<br>Value (k Euro)=%{y}<extra></extra>",
         "legendgroup": "Qatar",
         "line": {
          "color": "#FFA15A",
          "dash": "solid"
         },
         "marker": {
          "symbol": "circle"
         },
         "mode": "lines",
         "name": "Qatar",
         "showlegend": true,
         "type": "scattergl",
         "x": [
          "2010",
          "2011",
          "2012",
          "2013",
          "2014",
          "2015",
          "2017",
          "2018",
          "2019",
          "2020",
          "2021"
         ],
         "xaxis": "x",
         "y": [
          42,
          0,
          41,
          2,
          5,
          189,
          0,
          0,
          0,
          0,
          0
         ],
         "yaxis": "y"
        },
        {
         "hovertemplate": "Exporters=Norway<br>Year=%{x}<br>Value (k Euro)=%{y}<extra></extra>",
         "legendgroup": "Norway",
         "line": {
          "color": "#19d3f3",
          "dash": "solid"
         },
         "marker": {
          "symbol": "circle"
         },
         "mode": "lines",
         "name": "Norway",
         "showlegend": true,
         "type": "scattergl",
         "x": [
          "2010",
          "2011",
          "2012",
          "2013",
          "2014",
          "2015",
          "2016",
          "2017",
          "2018",
          "2019",
          "2020",
          "2021"
         ],
         "xaxis": "x",
         "y": [
          5307,
          1427,
          4,
          6,
          3,
          1307,
          2478,
          937,
          83,
          125,
          95,
          3
         ],
         "yaxis": "y"
        },
        {
         "hovertemplate": "Exporters=Aruba<br>Year=%{x}<br>Value (k Euro)=%{y}<extra></extra>",
         "legendgroup": "Aruba",
         "line": {
          "color": "#FF6692",
          "dash": "solid"
         },
         "marker": {
          "symbol": "circle"
         },
         "mode": "lines",
         "name": "Aruba",
         "showlegend": true,
         "type": "scattergl",
         "x": [
          "2010",
          "2011",
          "2012",
          "2013",
          "2014",
          "2015",
          "2016",
          "2017",
          "2018",
          "2019",
          "2020",
          "2021"
         ],
         "xaxis": "x",
         "y": [
          1,
          1,
          0,
          0,
          0,
          0,
          7,
          15,
          71,
          4,
          0,
          0
         ],
         "yaxis": "y"
        },
        {
         "hovertemplate": "Exporters=Nicaragua<br>Year=%{x}<br>Value (k Euro)=%{y}<extra></extra>",
         "legendgroup": "Nicaragua",
         "line": {
          "color": "#B6E880",
          "dash": "solid"
         },
         "marker": {
          "symbol": "circle"
         },
         "mode": "lines",
         "name": "Nicaragua",
         "showlegend": true,
         "type": "scattergl",
         "x": [
          "2010",
          "2011",
          "2012",
          "2013",
          "2014",
          "2015",
          "2016",
          "2017",
          "2018",
          "2019",
          "2020",
          "2021"
         ],
         "xaxis": "x",
         "y": [
          122,
          144,
          119,
          150,
          348,
          650,
          328,
          431,
          132,
          114,
          0,
          0
         ],
         "yaxis": "y"
        },
        {
         "hovertemplate": "Exporters=Nigeria<br>Year=%{x}<br>Value (k Euro)=%{y}<extra></extra>",
         "legendgroup": "Nigeria",
         "line": {
          "color": "#FF97FF",
          "dash": "solid"
         },
         "marker": {
          "symbol": "circle"
         },
         "mode": "lines",
         "name": "Nigeria",
         "showlegend": true,
         "type": "scattergl",
         "x": [
          "2010",
          "2011",
          "2012",
          "2013",
          "2014",
          "2015",
          "2016",
          "2017",
          "2018",
          "2019",
          "2020",
          "2021"
         ],
         "xaxis": "x",
         "y": [
          0,
          66,
          0,
          84,
          0,
          6,
          0,
          0,
          0,
          0,
          0,
          0
         ],
         "yaxis": "y"
        },
        {
         "hovertemplate": "Exporters=Viet Nam<br>Year=%{x}<br>Value (k Euro)=%{y}<extra></extra>",
         "legendgroup": "Viet Nam",
         "line": {
          "color": "#FECB52",
          "dash": "solid"
         },
         "marker": {
          "symbol": "circle"
         },
         "mode": "lines",
         "name": "Viet Nam",
         "showlegend": true,
         "type": "scattergl",
         "x": [
          "2010",
          "2011",
          "2012",
          "2013",
          "2014",
          "2015",
          "2016",
          "2017",
          "2018",
          "2019",
          "2020",
          "2021"
         ],
         "xaxis": "x",
         "y": [
          25,
          83,
          255,
          139,
          23,
          22,
          50,
          75,
          209,
          106,
          51,
          71
         ],
         "yaxis": "y"
        },
        {
         "hovertemplate": "Exporters=Cabo Verde<br>Year=%{x}<br>Value (k Euro)=%{y}<extra></extra>",
         "legendgroup": "Cabo Verde",
         "line": {
          "color": "#636efa",
          "dash": "solid"
         },
         "marker": {
          "symbol": "circle"
         },
         "mode": "lines",
         "name": "Cabo Verde",
         "showlegend": true,
         "type": "scattergl",
         "x": [
          "2010",
          "2011",
          "2012",
          "2013",
          "2014",
          "2015",
          "2016",
          "2017",
          "2018",
          "2019",
          "2020",
          "2021"
         ],
         "xaxis": "x",
         "y": [
          2,
          2,
          2,
          17,
          13,
          5,
          0,
          0,
          0,
          0,
          56,
          0
         ],
         "yaxis": "y"
        },
        {
         "hovertemplate": "Exporters=Cambodia<br>Year=%{x}<br>Value (k Euro)=%{y}<extra></extra>",
         "legendgroup": "Cambodia",
         "line": {
          "color": "#EF553B",
          "dash": "solid"
         },
         "marker": {
          "symbol": "circle"
         },
         "mode": "lines",
         "name": "Cambodia",
         "showlegend": true,
         "type": "scattergl",
         "x": [
          "2010",
          "2011",
          "2012",
          "2013",
          "2014",
          "2015",
          "2016",
          "2017",
          "2018",
          "2019",
          "2020",
          "2021"
         ],
         "xaxis": "x",
         "y": [
          0,
          0,
          0,
          0,
          0,
          0,
          0,
          11,
          0,
          0,
          0,
          0
         ],
         "yaxis": "y"
        },
        {
         "hovertemplate": "Exporters=Burundi<br>Year=%{x}<br>Value (k Euro)=%{y}<extra></extra>",
         "legendgroup": "Burundi",
         "line": {
          "color": "#00cc96",
          "dash": "solid"
         },
         "marker": {
          "symbol": "circle"
         },
         "mode": "lines",
         "name": "Burundi",
         "showlegend": true,
         "type": "scattergl",
         "x": [
          "2010",
          "2011",
          "2012",
          "2013",
          "2014",
          "2015",
          "2016",
          "2017",
          "2018",
          "2019",
          "2020",
          "2021"
         ],
         "xaxis": "x",
         "y": [
          0,
          0,
          0,
          0,
          0,
          1279,
          0,
          0,
          0,
          0,
          0,
          0
         ],
         "yaxis": "y"
        },
        {
         "hovertemplate": "Exporters=Bosnia and Herzegovina<br>Year=%{x}<br>Value (k Euro)=%{y}<extra></extra>",
         "legendgroup": "Bosnia and Herzegovina",
         "line": {
          "color": "#ab63fa",
          "dash": "solid"
         },
         "marker": {
          "symbol": "circle"
         },
         "mode": "lines",
         "name": "Bosnia and Herzegovina",
         "showlegend": true,
         "type": "scattergl",
         "x": [
          "2010",
          "2011",
          "2012",
          "2013",
          "2014",
          "2015",
          "2016",
          "2017",
          "2018",
          "2019",
          "2020",
          "2021"
         ],
         "xaxis": "x",
         "y": [
          697,
          461,
          292,
          529,
          0,
          0,
          1371,
          237,
          0,
          99,
          3,
          0
         ],
         "yaxis": "y"
        },
        {
         "hovertemplate": "Exporters=Barbados<br>Year=%{x}<br>Value (k Euro)=%{y}<extra></extra>",
         "legendgroup": "Barbados",
         "line": {
          "color": "#FFA15A",
          "dash": "solid"
         },
         "marker": {
          "symbol": "circle"
         },
         "mode": "lines",
         "name": "Barbados",
         "showlegend": true,
         "type": "scattergl",
         "x": [
          "2010",
          "2011",
          "2012",
          "2013",
          "2014",
          "2015",
          "2016",
          "2017",
          "2018",
          "2019",
          "2020",
          "2021"
         ],
         "xaxis": "x",
         "y": [
          2,
          0,
          0,
          0,
          0,
          0,
          0,
          0,
          0,
          1,
          0,
          0
         ],
         "yaxis": "y"
        },
        {
         "hovertemplate": "Exporters=Antigua and Barbuda<br>Year=%{x}<br>Value (k Euro)=%{y}<extra></extra>",
         "legendgroup": "Antigua and Barbuda",
         "line": {
          "color": "#19d3f3",
          "dash": "solid"
         },
         "marker": {
          "symbol": "circle"
         },
         "mode": "lines",
         "name": "Antigua and Barbuda",
         "showlegend": true,
         "type": "scattergl",
         "x": [
          "2010",
          "2011",
          "2012",
          "2013",
          "2014",
          "2015",
          "2016",
          "2017",
          "2018",
          "2019",
          "2020",
          "2021"
         ],
         "xaxis": "x",
         "y": [
          0,
          0,
          0,
          0,
          0,
          0,
          0,
          1,
          0,
          0,
          0,
          0
         ],
         "yaxis": "y"
        },
        {
         "hovertemplate": "Exporters=Chile<br>Year=%{x}<br>Value (k Euro)=%{y}<extra></extra>",
         "legendgroup": "Chile",
         "line": {
          "color": "#FF6692",
          "dash": "solid"
         },
         "marker": {
          "symbol": "circle"
         },
         "mode": "lines",
         "name": "Chile",
         "showlegend": true,
         "type": "scattergl",
         "x": [
          "2010",
          "2011",
          "2012",
          "2013",
          "2014",
          "2015",
          "2016",
          "2017",
          "2018",
          "2019",
          "2020",
          "2021"
         ],
         "xaxis": "x",
         "y": [
          8736,
          11577,
          7487,
          8296,
          4874,
          4900,
          3958,
          5920,
          366,
          1,
          73,
          0
         ],
         "yaxis": "y"
        },
        {
         "hovertemplate": "Exporters=Cyprus<br>Year=%{x}<br>Value (k Euro)=%{y}<extra></extra>",
         "legendgroup": "Cyprus",
         "line": {
          "color": "#B6E880",
          "dash": "solid"
         },
         "marker": {
          "symbol": "circle"
         },
         "mode": "lines",
         "name": "Cyprus",
         "showlegend": true,
         "type": "scattergl",
         "x": [
          "2010",
          "2011",
          "2012",
          "2013",
          "2014",
          "2015",
          "2016",
          "2017",
          "2018",
          "2019",
          "2020",
          "2021"
         ],
         "xaxis": "x",
         "y": [
          1,
          1,
          0,
          15,
          0,
          1,
          11,
          4,
          25,
          25,
          0,
          0
         ],
         "yaxis": "y"
        },
        {
         "hovertemplate": "Exporters=Czech Republic<br>Year=%{x}<br>Value (k Euro)=%{y}<extra></extra>",
         "legendgroup": "Czech Republic",
         "line": {
          "color": "#FF97FF",
          "dash": "solid"
         },
         "marker": {
          "symbol": "circle"
         },
         "mode": "lines",
         "name": "Czech Republic",
         "showlegend": true,
         "type": "scattergl",
         "x": [
          "2010",
          "2011",
          "2012",
          "2013",
          "2014",
          "2015",
          "2016",
          "2017",
          "2018",
          "2019",
          "2020",
          "2021"
         ],
         "xaxis": "x",
         "y": [
          14946,
          18421,
          12358,
          13205,
          13888,
          10759,
          12046,
          15029,
          12071,
          18215,
          7937,
          10391
         ],
         "yaxis": "y"
        },
        {
         "hovertemplate": "Exporters=Finland<br>Year=%{x}<br>Value (k Euro)=%{y}<extra></extra>",
         "legendgroup": "Finland",
         "line": {
          "color": "#FECB52",
          "dash": "solid"
         },
         "marker": {
          "symbol": "circle"
         },
         "mode": "lines",
         "name": "Finland",
         "showlegend": true,
         "type": "scattergl",
         "x": [
          "2010",
          "2011",
          "2012",
          "2013",
          "2014",
          "2015",
          "2016",
          "2017",
          "2018",
          "2019",
          "2020",
          "2021"
         ],
         "xaxis": "x",
         "y": [
          86400,
          80213,
          65864,
          78323,
          77585,
          114827,
          107470,
          135896,
          136729,
          142838,
          128984,
          122282
         ],
         "yaxis": "y"
        },
        {
         "hovertemplate": "Exporters=Gambia<br>Year=%{x}<br>Value (k Euro)=%{y}<extra></extra>",
         "legendgroup": "Gambia",
         "line": {
          "color": "#636efa",
          "dash": "solid"
         },
         "marker": {
          "symbol": "circle"
         },
         "mode": "lines",
         "name": "Gambia",
         "showlegend": true,
         "type": "scattergl",
         "x": [
          "2010",
          "2011",
          "2012",
          "2013",
          "2014",
          "2015",
          "2016",
          "2017",
          "2018",
          "2019",
          "2020",
          "2021"
         ],
         "xaxis": "x",
         "y": [
          2,
          289,
          390,
          41,
          11,
          13,
          0,
          0,
          0,
          0,
          0,
          0
         ],
         "yaxis": "y"
        },
        {
         "hovertemplate": "Exporters=Guatemala<br>Year=%{x}<br>Value (k Euro)=%{y}<extra></extra>",
         "legendgroup": "Guatemala",
         "line": {
          "color": "#EF553B",
          "dash": "solid"
         },
         "marker": {
          "symbol": "circle"
         },
         "mode": "lines",
         "name": "Guatemala",
         "showlegend": true,
         "type": "scattergl",
         "x": [
          "2010",
          "2011",
          "2012",
          "2013",
          "2014",
          "2015",
          "2016",
          "2017",
          "2018",
          "2019",
          "2020",
          "2021"
         ],
         "xaxis": "x",
         "y": [
          32,
          14,
          12,
          28,
          6,
          90,
          5,
          19,
          7,
          3,
          0,
          1
         ],
         "yaxis": "y"
        },
        {
         "hovertemplate": "Exporters=Suriname<br>Year=%{x}<br>Value (k Euro)=%{y}<extra></extra>",
         "legendgroup": "Suriname",
         "line": {
          "color": "#00cc96",
          "dash": "solid"
         },
         "marker": {
          "symbol": "circle"
         },
         "mode": "lines",
         "name": "Suriname",
         "showlegend": true,
         "type": "scattergl",
         "x": [
          "2010",
          "2011",
          "2012",
          "2013",
          "2014",
          "2015",
          "2016",
          "2017",
          "2018",
          "2019",
          "2020",
          "2021"
         ],
         "xaxis": "x",
         "y": [
          12,
          19,
          16,
          14,
          23,
          0,
          0,
          0,
          0,
          0,
          0,
          0
         ],
         "yaxis": "y"
        },
        {
         "hovertemplate": "Exporters=Eswatini<br>Year=%{x}<br>Value (k Euro)=%{y}<extra></extra>",
         "legendgroup": "Eswatini",
         "line": {
          "color": "#ab63fa",
          "dash": "solid"
         },
         "marker": {
          "symbol": "circle"
         },
         "mode": "lines",
         "name": "Eswatini",
         "showlegend": true,
         "type": "scattergl",
         "x": [
          "2010",
          "2011",
          "2012",
          "2013",
          "2014",
          "2015",
          "2016",
          "2017",
          "2018",
          "2019",
          "2020",
          "2021"
         ],
         "xaxis": "x",
         "y": [
          8,
          0,
          53,
          0,
          1,
          0,
          0,
          0,
          0,
          0,
          0,
          0
         ],
         "yaxis": "y"
        },
        {
         "hovertemplate": "Exporters=Togo<br>Year=%{x}<br>Value (k Euro)=%{y}<extra></extra>",
         "legendgroup": "Togo",
         "line": {
          "color": "#FFA15A",
          "dash": "solid"
         },
         "marker": {
          "symbol": "circle"
         },
         "mode": "lines",
         "name": "Togo",
         "showlegend": true,
         "type": "scattergl",
         "x": [
          "2010",
          "2011",
          "2012",
          "2013",
          "2014",
          "2015",
          "2016",
          "2017",
          "2018",
          "2019",
          "2020",
          "2021"
         ],
         "xaxis": "x",
         "y": [
          0,
          0,
          0,
          0,
          0,
          3,
          15,
          0,
          0,
          13,
          0,
          2
         ],
         "yaxis": "y"
        },
        {
         "hovertemplate": "Exporters=United States Minor Outlying Islands<br>Year=%{x}<br>Value (k Euro)=%{y}<extra></extra>",
         "legendgroup": "United States Minor Outlying Islands",
         "line": {
          "color": "#19d3f3",
          "dash": "solid"
         },
         "marker": {
          "symbol": "circle"
         },
         "mode": "lines",
         "name": "United States Minor Outlying Islands",
         "showlegend": true,
         "type": "scattergl",
         "x": [
          "2010",
          "2011",
          "2012",
          "2013",
          "2021"
         ],
         "xaxis": "x",
         "y": [
          2,
          3,
          2,
          2,
          1
         ],
         "yaxis": "y"
        },
        {
         "hovertemplate": "Exporters=Tanzania, United Republic of<br>Year=%{x}<br>Value (k Euro)=%{y}<extra></extra>",
         "legendgroup": "Tanzania, United Republic of",
         "line": {
          "color": "#FF6692",
          "dash": "solid"
         },
         "marker": {
          "symbol": "circle"
         },
         "mode": "lines",
         "name": "Tanzania, United Republic of",
         "showlegend": true,
         "type": "scattergl",
         "x": [
          "2010",
          "2011",
          "2012",
          "2013",
          "2014",
          "2015",
          "2016",
          "2017",
          "2018",
          "2019",
          "2020",
          "2021"
         ],
         "xaxis": "x",
         "y": [
          17,
          22,
          45,
          0,
          11,
          0,
          0,
          0,
          0,
          0,
          0,
          1
         ],
         "yaxis": "y"
        },
        {
         "hovertemplate": "Exporters=Free Zones<br>Year=%{x}<br>Value (k Euro)=%{y}<extra></extra>",
         "legendgroup": "Free Zones",
         "line": {
          "color": "#B6E880",
          "dash": "solid"
         },
         "marker": {
          "symbol": "circle"
         },
         "mode": "lines",
         "name": "Free Zones",
         "showlegend": true,
         "type": "scattergl",
         "x": [
          "2010",
          "2011",
          "2012",
          "2013",
          "2014",
          "2015",
          "2016",
          "2017"
         ],
         "xaxis": "x",
         "y": [
          74,
          186,
          30,
          1,
          2,
          113,
          5,
          1
         ],
         "yaxis": "y"
        },
        {
         "hovertemplate": "Exporters=Yemen<br>Year=%{x}<br>Value (k Euro)=%{y}<extra></extra>",
         "legendgroup": "Yemen",
         "line": {
          "color": "#FF97FF",
          "dash": "solid"
         },
         "marker": {
          "symbol": "circle"
         },
         "mode": "lines",
         "name": "Yemen",
         "showlegend": true,
         "type": "scattergl",
         "x": [
          "2010",
          "2011",
          "2012",
          "2013",
          "2014",
          "2015",
          "2019",
          "2020"
         ],
         "xaxis": "x",
         "y": [
          205,
          941,
          126,
          113,
          177,
          40,
          4,
          690
         ],
         "yaxis": "y"
        },
        {
         "hovertemplate": "Exporters=Venezuela, Bolivarian Republic of<br>Year=%{x}<br>Value (k Euro)=%{y}<extra></extra>",
         "legendgroup": "Venezuela, Bolivarian Republic of",
         "line": {
          "color": "#FECB52",
          "dash": "solid"
         },
         "marker": {
          "symbol": "circle"
         },
         "mode": "lines",
         "name": "Venezuela, Bolivarian Republic of",
         "showlegend": true,
         "type": "scattergl",
         "x": [
          "2010",
          "2011",
          "2012",
          "2013",
          "2014",
          "2015",
          "2017",
          "2018",
          "2019"
         ],
         "xaxis": "x",
         "y": [
          0,
          0,
          0,
          0,
          17,
          12,
          16,
          10,
          18
         ],
         "yaxis": "y"
        },
        {
         "hovertemplate": "Exporters=Turkmenistan<br>Year=%{x}<br>Value (k Euro)=%{y}<extra></extra>",
         "legendgroup": "Turkmenistan",
         "line": {
          "color": "#636efa",
          "dash": "solid"
         },
         "marker": {
          "symbol": "circle"
         },
         "mode": "lines",
         "name": "Turkmenistan",
         "showlegend": true,
         "type": "scattergl",
         "x": [
          "2010",
          "2016",
          "2017",
          "2019"
         ],
         "xaxis": "x",
         "y": [
          4,
          26,
          96,
          7
         ],
         "yaxis": "y"
        },
        {
         "hovertemplate": "Exporters=Guinea<br>Year=%{x}<br>Value (k Euro)=%{y}<extra></extra>",
         "legendgroup": "Guinea",
         "line": {
          "color": "#EF553B",
          "dash": "solid"
         },
         "marker": {
          "symbol": "circle"
         },
         "mode": "lines",
         "name": "Guinea",
         "showlegend": true,
         "type": "scattergl",
         "x": [
          "2010",
          "2011",
          "2012",
          "2013",
          "2014",
          "2015",
          "2016",
          "2020"
         ],
         "xaxis": "x",
         "y": [
          0,
          0,
          0,
          0,
          0,
          0,
          0,
          1
         ],
         "yaxis": "y"
        },
        {
         "hovertemplate": "Exporters=Gibraltar<br>Year=%{x}<br>Value (k Euro)=%{y}<extra></extra>",
         "legendgroup": "Gibraltar",
         "line": {
          "color": "#00cc96",
          "dash": "solid"
         },
         "marker": {
          "symbol": "circle"
         },
         "mode": "lines",
         "name": "Gibraltar",
         "showlegend": true,
         "type": "scattergl",
         "x": [
          "2010",
          "2011"
         ],
         "xaxis": "x",
         "y": [
          18,
          1
         ],
         "yaxis": "y"
        },
        {
         "hovertemplate": "Exporters=Palestine, State of<br>Year=%{x}<br>Value (k Euro)=%{y}<extra></extra>",
         "legendgroup": "Palestine, State of",
         "line": {
          "color": "#ab63fa",
          "dash": "solid"
         },
         "marker": {
          "symbol": "circle"
         },
         "mode": "lines",
         "name": "Palestine, State of",
         "showlegend": true,
         "type": "scattergl",
         "x": [
          "2010",
          "2011",
          "2012",
          "2013",
          "2014",
          "2015",
          "2016",
          "2017",
          "2018",
          "2019",
          "2020"
         ],
         "xaxis": "x",
         "y": [
          41,
          1,
          0,
          2,
          5,
          0,
          1,
          10,
          0,
          0,
          0
         ],
         "yaxis": "y"
        },
        {
         "hovertemplate": "Exporters=French Polynesia<br>Year=%{x}<br>Value (k Euro)=%{y}<extra></extra>",
         "legendgroup": "French Polynesia",
         "line": {
          "color": "#FFA15A",
          "dash": "solid"
         },
         "marker": {
          "symbol": "circle"
         },
         "mode": "lines",
         "name": "French Polynesia",
         "showlegend": true,
         "type": "scattergl",
         "x": [
          "2010",
          "2011",
          "2012",
          "2013",
          "2014",
          "2015",
          "2016",
          "2017",
          "2018",
          "2019",
          "2020"
         ],
         "xaxis": "x",
         "y": [
          1,
          0,
          0,
          0,
          0,
          0,
          0,
          0,
          0,
          0,
          0
         ],
         "yaxis": "y"
        },
        {
         "hovertemplate": "Exporters=Dominica<br>Year=%{x}<br>Value (k Euro)=%{y}<extra></extra>",
         "legendgroup": "Dominica",
         "line": {
          "color": "#19d3f3",
          "dash": "solid"
         },
         "marker": {
          "symbol": "circle"
         },
         "mode": "lines",
         "name": "Dominica",
         "showlegend": true,
         "type": "scattergl",
         "x": [
          "2010",
          "2011",
          "2012",
          "2013",
          "2014",
          "2015",
          "2020"
         ],
         "xaxis": "x",
         "y": [
          0,
          0,
          0,
          0,
          1,
          6,
          1
         ],
         "yaxis": "y"
        },
        {
         "hovertemplate": "Exporters=Afghanistan<br>Year=%{x}<br>Value (k Euro)=%{y}<extra></extra>",
         "legendgroup": "Afghanistan",
         "line": {
          "color": "#FF6692",
          "dash": "solid"
         },
         "marker": {
          "symbol": "circle"
         },
         "mode": "lines",
         "name": "Afghanistan",
         "showlegend": true,
         "type": "scattergl",
         "x": [
          "2010",
          "2011",
          "2012",
          "2013",
          "2014",
          "2015",
          "2016",
          "2017",
          "2018",
          "2019",
          "2020"
         ],
         "xaxis": "x",
         "y": [
          0,
          0,
          0,
          0,
          0,
          0,
          0,
          0,
          0,
          0,
          1
         ],
         "yaxis": "y"
        },
        {
         "hovertemplate": "Exporters=Albania<br>Year=%{x}<br>Value (k Euro)=%{y}<extra></extra>",
         "legendgroup": "Albania",
         "line": {
          "color": "#B6E880",
          "dash": "solid"
         },
         "marker": {
          "symbol": "circle"
         },
         "mode": "lines",
         "name": "Albania",
         "showlegend": true,
         "type": "scattergl",
         "x": [
          "2010",
          "2011",
          "2012",
          "2013",
          "2014",
          "2015",
          "2016",
          "2017",
          "2018",
          "2019",
          "2020"
         ],
         "xaxis": "x",
         "y": [
          2,
          2,
          0,
          0,
          0,
          0,
          0,
          0,
          0,
          0,
          0
         ],
         "yaxis": "y"
        },
        {
         "hovertemplate": "Exporters=Solomon Islands<br>Year=%{x}<br>Value (k Euro)=%{y}<extra></extra>",
         "legendgroup": "Solomon Islands",
         "line": {
          "color": "#FF97FF",
          "dash": "solid"
         },
         "marker": {
          "symbol": "circle"
         },
         "mode": "lines",
         "name": "Solomon Islands",
         "showlegend": true,
         "type": "scattergl",
         "x": [
          "2010",
          "2011",
          "2012",
          "2013",
          "2014",
          "2015",
          "2016",
          "2017",
          "2018"
         ],
         "xaxis": "x",
         "y": [
          0,
          0,
          0,
          0,
          0,
          0,
          0,
          1,
          0
         ],
         "yaxis": "y"
        },
        {
         "hovertemplate": "Exporters=Cameroon<br>Year=%{x}<br>Value (k Euro)=%{y}<extra></extra>",
         "legendgroup": "Cameroon",
         "line": {
          "color": "#FECB52",
          "dash": "solid"
         },
         "marker": {
          "symbol": "circle"
         },
         "mode": "lines",
         "name": "Cameroon",
         "showlegend": true,
         "type": "scattergl",
         "x": [
          "2010",
          "2011",
          "2012",
          "2013",
          "2014",
          "2015",
          "2016",
          "2017",
          "2018",
          "2019",
          "2020"
         ],
         "xaxis": "x",
         "y": [
          13,
          7,
          0,
          0,
          20,
          0,
          1,
          0,
          0,
          18,
          52
         ],
         "yaxis": "y"
        },
        {
         "hovertemplate": "Exporters=Somalia<br>Year=%{x}<br>Value (k Euro)=%{y}<extra></extra>",
         "legendgroup": "Somalia",
         "line": {
          "color": "#636efa",
          "dash": "solid"
         },
         "marker": {
          "symbol": "circle"
         },
         "mode": "lines",
         "name": "Somalia",
         "showlegend": true,
         "type": "scattergl",
         "x": [
          "2010"
         ],
         "xaxis": "x",
         "y": [
          8
         ],
         "yaxis": "y"
        },
        {
         "hovertemplate": "Exporters=Niue<br>Year=%{x}<br>Value (k Euro)=%{y}<extra></extra>",
         "legendgroup": "Niue",
         "line": {
          "color": "#EF553B",
          "dash": "solid"
         },
         "marker": {
          "symbol": "circle"
         },
         "mode": "lines",
         "name": "Niue",
         "showlegend": true,
         "type": "scattergl",
         "x": [
          "2010"
         ],
         "xaxis": "x",
         "y": [
          24
         ],
         "yaxis": "y"
        },
        {
         "hovertemplate": "Exporters=New Caledonia<br>Year=%{x}<br>Value (k Euro)=%{y}<extra></extra>",
         "legendgroup": "New Caledonia",
         "line": {
          "color": "#00cc96",
          "dash": "solid"
         },
         "marker": {
          "symbol": "circle"
         },
         "mode": "lines",
         "name": "New Caledonia",
         "showlegend": true,
         "type": "scattergl",
         "x": [
          "2010",
          "2011",
          "2012",
          "2013",
          "2014",
          "2015",
          "2017",
          "2018",
          "2019"
         ],
         "xaxis": "x",
         "y": [
          2,
          1,
          1,
          1,
          1,
          0,
          18,
          11,
          94
         ],
         "yaxis": "y"
        },
        {
         "hovertemplate": "Exporters=Vanuatu<br>Year=%{x}<br>Value (k Euro)=%{y}<extra></extra>",
         "legendgroup": "Vanuatu",
         "line": {
          "color": "#ab63fa",
          "dash": "solid"
         },
         "marker": {
          "symbol": "circle"
         },
         "mode": "lines",
         "name": "Vanuatu",
         "showlegend": true,
         "type": "scattergl",
         "x": [
          "2010",
          "2011",
          "2014"
         ],
         "xaxis": "x",
         "y": [
          0,
          0,
          1
         ],
         "yaxis": "y"
        },
        {
         "hovertemplate": "Exporters=Lesotho<br>Year=%{x}<br>Value (k Euro)=%{y}<extra></extra>",
         "legendgroup": "Lesotho",
         "line": {
          "color": "#FFA15A",
          "dash": "solid"
         },
         "marker": {
          "symbol": "circle"
         },
         "mode": "lines",
         "name": "Lesotho",
         "showlegend": true,
         "type": "scattergl",
         "x": [
          "2010",
          "2011",
          "2012",
          "2013",
          "2014",
          "2015",
          "2016",
          "2017",
          "2018",
          "2019",
          "2020"
         ],
         "xaxis": "x",
         "y": [
          0,
          0,
          0,
          0,
          7,
          0,
          0,
          0,
          0,
          0,
          0
         ],
         "yaxis": "y"
        },
        {
         "hovertemplate": "Exporters=Malawi<br>Year=%{x}<br>Value (k Euro)=%{y}<extra></extra>",
         "legendgroup": "Malawi",
         "line": {
          "color": "#19d3f3",
          "dash": "solid"
         },
         "marker": {
          "symbol": "circle"
         },
         "mode": "lines",
         "name": "Malawi",
         "showlegend": true,
         "type": "scattergl",
         "x": [
          "2010",
          "2011",
          "2012",
          "2013",
          "2014",
          "2015",
          "2016",
          "2017",
          "2018",
          "2019",
          "2020"
         ],
         "xaxis": "x",
         "y": [
          53,
          2,
          0,
          0,
          0,
          0,
          0,
          12,
          0,
          0,
          0
         ],
         "yaxis": "y"
        },
        {
         "hovertemplate": "Exporters=Libya, State of<br>Year=%{x}<br>Value (k Euro)=%{y}<extra></extra>",
         "legendgroup": "Libya, State of",
         "line": {
          "color": "#FF6692",
          "dash": "solid"
         },
         "marker": {
          "symbol": "circle"
         },
         "mode": "lines",
         "name": "Libya, State of",
         "showlegend": true,
         "type": "scattergl",
         "x": [
          "2010",
          "2015",
          "2016",
          "2017",
          "2018",
          "2019"
         ],
         "xaxis": "x",
         "y": [
          0,
          31,
          0,
          0,
          0,
          0
         ],
         "yaxis": "y"
        },
        {
         "hovertemplate": "Exporters=Mali<br>Year=%{x}<br>Value (k Euro)=%{y}<extra></extra>",
         "legendgroup": "Mali",
         "line": {
          "color": "#B6E880",
          "dash": "solid"
         },
         "marker": {
          "symbol": "circle"
         },
         "mode": "lines",
         "name": "Mali",
         "showlegend": true,
         "type": "scattergl",
         "x": [
          "2010",
          "2011",
          "2012",
          "2016",
          "2017",
          "2018",
          "2019"
         ],
         "xaxis": "x",
         "y": [
          0,
          0,
          3,
          0,
          11,
          40,
          44
         ],
         "yaxis": "y"
        },
        {
         "hovertemplate": "Exporters=Netherlands Antilles<br>Year=%{x}<br>Value (k Euro)=%{y}<extra></extra>",
         "legendgroup": "Netherlands Antilles",
         "line": {
          "color": "#FF97FF",
          "dash": "solid"
         },
         "marker": {
          "symbol": "circle"
         },
         "mode": "lines",
         "name": "Netherlands Antilles",
         "showlegend": true,
         "type": "scattergl",
         "x": [
          "2010"
         ],
         "xaxis": "x",
         "y": [
          2
         ],
         "yaxis": "y"
        },
        {
         "hovertemplate": "Exporters=Ship stores and bunkers<br>Year=%{x}<br>Value (k Euro)=%{y}<extra></extra>",
         "legendgroup": "Ship stores and bunkers",
         "line": {
          "color": "#FECB52",
          "dash": "solid"
         },
         "marker": {
          "symbol": "circle"
         },
         "mode": "lines",
         "name": "Ship stores and bunkers",
         "showlegend": true,
         "type": "scattergl",
         "x": [
          "2011"
         ],
         "xaxis": "x",
         "y": [
          2
         ],
         "yaxis": "y"
        },
        {
         "hovertemplate": "Exporters=Turks and Caicos Islands<br>Year=%{x}<br>Value (k Euro)=%{y}<extra></extra>",
         "legendgroup": "Turks and Caicos Islands",
         "line": {
          "color": "#636efa",
          "dash": "solid"
         },
         "marker": {
          "symbol": "circle"
         },
         "mode": "lines",
         "name": "Turks and Caicos Islands",
         "showlegend": true,
         "type": "scattergl",
         "x": [
          "2011",
          "2012",
          "2014"
         ],
         "xaxis": "x",
         "y": [
          0,
          0,
          11
         ],
         "yaxis": "y"
        },
        {
         "hovertemplate": "Exporters=British Virgin Islands<br>Year=%{x}<br>Value (k Euro)=%{y}<extra></extra>",
         "legendgroup": "British Virgin Islands",
         "line": {
          "color": "#EF553B",
          "dash": "solid"
         },
         "marker": {
          "symbol": "circle"
         },
         "mode": "lines",
         "name": "British Virgin Islands",
         "showlegend": true,
         "type": "scattergl",
         "x": [
          "2011"
         ],
         "xaxis": "x",
         "y": [
          19
         ],
         "yaxis": "y"
        },
        {
         "hovertemplate": "Exporters=United Arab Emirates<br>Year=%{x}<br>Value (k Euro)=%{y}<extra></extra>",
         "legendgroup": "United Arab Emirates",
         "line": {
          "color": "#00cc96",
          "dash": "solid"
         },
         "marker": {
          "symbol": "circle"
         },
         "mode": "lines",
         "name": "United Arab Emirates",
         "showlegend": true,
         "type": "scattergl",
         "x": [
          "2012",
          "2013",
          "2014",
          "2015",
          "2016",
          "2017",
          "2018",
          "2019",
          "2020",
          "2021"
         ],
         "xaxis": "x",
         "y": [
          14062,
          15600,
          19703,
          13139,
          5043,
          3517,
          17060,
          56714,
          8915,
          6610
         ],
         "yaxis": "y"
        },
        {
         "hovertemplate": "Exporters=Sudan<br>Year=%{x}<br>Value (k Euro)=%{y}<extra></extra>",
         "legendgroup": "Sudan",
         "line": {
          "color": "#ab63fa",
          "dash": "solid"
         },
         "marker": {
          "symbol": "circle"
         },
         "mode": "lines",
         "name": "Sudan",
         "showlegend": true,
         "type": "scattergl",
         "x": [
          "2012",
          "2013",
          "2014",
          "2015",
          "2016",
          "2017",
          "2018",
          "2020",
          "2021"
         ],
         "xaxis": "x",
         "y": [
          0,
          0,
          0,
          0,
          0,
          0,
          0,
          1,
          1
         ],
         "yaxis": "y"
        },
        {
         "hovertemplate": "Exporters=Bermuda<br>Year=%{x}<br>Value (k Euro)=%{y}<extra></extra>",
         "legendgroup": "Bermuda",
         "line": {
          "color": "#FFA15A",
          "dash": "solid"
         },
         "marker": {
          "symbol": "circle"
         },
         "mode": "lines",
         "name": "Bermuda",
         "showlegend": true,
         "type": "scattergl",
         "x": [
          "2012",
          "2013",
          "2014",
          "2015",
          "2016",
          "2017",
          "2018",
          "2019",
          "2020",
          "2021"
         ],
         "xaxis": "x",
         "y": [
          1,
          2,
          2,
          3,
          4,
          4,
          4,
          5,
          2,
          1
         ],
         "yaxis": "y"
        },
        {
         "hovertemplate": "Exporters=Saint Lucia<br>Year=%{x}<br>Value (k Euro)=%{y}<extra></extra>",
         "legendgroup": "Saint Lucia",
         "line": {
          "color": "#19d3f3",
          "dash": "solid"
         },
         "marker": {
          "symbol": "circle"
         },
         "mode": "lines",
         "name": "Saint Lucia",
         "showlegend": true,
         "type": "scattergl",
         "x": [
          "2012",
          "2013",
          "2014",
          "2015",
          "2016",
          "2017",
          "2018",
          "2019",
          "2020"
         ],
         "xaxis": "x",
         "y": [
          0,
          0,
          0,
          0,
          0,
          0,
          0,
          0,
          1
         ],
         "yaxis": "y"
        },
        {
         "hovertemplate": "Exporters=Haiti<br>Year=%{x}<br>Value (k Euro)=%{y}<extra></extra>",
         "legendgroup": "Haiti",
         "line": {
          "color": "#FF6692",
          "dash": "solid"
         },
         "marker": {
          "symbol": "circle"
         },
         "mode": "lines",
         "name": "Haiti",
         "showlegend": true,
         "type": "scattergl",
         "x": [
          "2013",
          "2014",
          "2015",
          "2016",
          "2017",
          "2018",
          "2019",
          "2020",
          "2021"
         ],
         "xaxis": "x",
         "y": [
          1,
          11,
          159,
          1147,
          65,
          3,
          38,
          2,
          4
         ],
         "yaxis": "y"
        },
        {
         "hovertemplate": "Exporters=Iraq<br>Year=%{x}<br>Value (k Euro)=%{y}<extra></extra>",
         "legendgroup": "Iraq",
         "line": {
          "color": "#B6E880",
          "dash": "solid"
         },
         "marker": {
          "symbol": "circle"
         },
         "mode": "lines",
         "name": "Iraq",
         "showlegend": true,
         "type": "scattergl",
         "x": [
          "2014",
          "2015",
          "2020"
         ],
         "xaxis": "x",
         "y": [
          0,
          14,
          51
         ],
         "yaxis": "y"
        },
        {
         "hovertemplate": "Exporters=Sierra Leone<br>Year=%{x}<br>Value (k Euro)=%{y}<extra></extra>",
         "legendgroup": "Sierra Leone",
         "line": {
          "color": "#FF97FF",
          "dash": "solid"
         },
         "marker": {
          "symbol": "circle"
         },
         "mode": "lines",
         "name": "Sierra Leone",
         "showlegend": true,
         "type": "scattergl",
         "x": [
          "2014",
          "2015",
          "2016",
          "2017",
          "2018",
          "2019"
         ],
         "xaxis": "x",
         "y": [
          0,
          0,
          0,
          1,
          0,
          16
         ],
         "yaxis": "y"
        },
        {
         "hovertemplate": "Exporters=Congo, Democratic Republic of the<br>Year=%{x}<br>Value (k Euro)=%{y}<extra></extra>",
         "legendgroup": "Congo, Democratic Republic of the",
         "line": {
          "color": "#FECB52",
          "dash": "solid"
         },
         "marker": {
          "symbol": "circle"
         },
         "mode": "lines",
         "name": "Congo, Democratic Republic of the",
         "showlegend": true,
         "type": "scattergl",
         "x": [
          "2015",
          "2016",
          "2017",
          "2018",
          "2019",
          "2020",
          "2021"
         ],
         "xaxis": "x",
         "y": [
          0,
          0,
          4,
          3,
          4,
          3,
          2
         ],
         "yaxis": "y"
        },
        {
         "hovertemplate": "Exporters=Djibouti<br>Year=%{x}<br>Value (k Euro)=%{y}<extra></extra>",
         "legendgroup": "Djibouti",
         "line": {
          "color": "#636efa",
          "dash": "solid"
         },
         "marker": {
          "symbol": "circle"
         },
         "mode": "lines",
         "name": "Djibouti",
         "showlegend": true,
         "type": "scattergl",
         "x": [
          "2015"
         ],
         "xaxis": "x",
         "y": [
          13
         ],
         "yaxis": "y"
        },
        {
         "hovertemplate": "Exporters=Uzbekistan<br>Year=%{x}<br>Value (k Euro)=%{y}<extra></extra>",
         "legendgroup": "Uzbekistan",
         "line": {
          "color": "#EF553B",
          "dash": "solid"
         },
         "marker": {
          "symbol": "circle"
         },
         "mode": "lines",
         "name": "Uzbekistan",
         "showlegend": true,
         "type": "scattergl",
         "x": [
          "2017",
          "2018",
          "2019",
          "2020",
          "2021"
         ],
         "xaxis": "x",
         "y": [
          65,
          36,
          199,
          128,
          531
         ],
         "yaxis": "y"
        },
        {
         "hovertemplate": "Exporters=Curaçao<br>Year=%{x}<br>Value (k Euro)=%{y}<extra></extra>",
         "legendgroup": "Curaçao",
         "line": {
          "color": "#00cc96",
          "dash": "solid"
         },
         "marker": {
          "symbol": "circle"
         },
         "mode": "lines",
         "name": "Curaçao",
         "showlegend": true,
         "type": "scattergl",
         "x": [
          "2017",
          "2018",
          "2019",
          "2020",
          "2021"
         ],
         "xaxis": "x",
         "y": [
          0,
          0,
          0,
          0,
          10
         ],
         "yaxis": "y"
        },
        {
         "hovertemplate": "Exporters=American Samoa<br>Year=%{x}<br>Value (k Euro)=%{y}<extra></extra>",
         "legendgroup": "American Samoa",
         "line": {
          "color": "#ab63fa",
          "dash": "solid"
         },
         "marker": {
          "symbol": "circle"
         },
         "mode": "lines",
         "name": "American Samoa",
         "showlegend": true,
         "type": "scattergl",
         "x": [
          "2018"
         ],
         "xaxis": "x",
         "y": [
          1
         ],
         "yaxis": "y"
        }
       ],
       "layout": {
        "legend": {
         "title": {
          "text": "Exporters"
         },
         "tracegroupgap": 0
        },
        "template": {
         "data": {
          "bar": [
           {
            "error_x": {
             "color": "#2a3f5f"
            },
            "error_y": {
             "color": "#2a3f5f"
            },
            "marker": {
             "line": {
              "color": "#E5ECF6",
              "width": 0.5
             },
             "pattern": {
              "fillmode": "overlay",
              "size": 10,
              "solidity": 0.2
             }
            },
            "type": "bar"
           }
          ],
          "barpolar": [
           {
            "marker": {
             "line": {
              "color": "#E5ECF6",
              "width": 0.5
             },
             "pattern": {
              "fillmode": "overlay",
              "size": 10,
              "solidity": 0.2
             }
            },
            "type": "barpolar"
           }
          ],
          "carpet": [
           {
            "aaxis": {
             "endlinecolor": "#2a3f5f",
             "gridcolor": "white",
             "linecolor": "white",
             "minorgridcolor": "white",
             "startlinecolor": "#2a3f5f"
            },
            "baxis": {
             "endlinecolor": "#2a3f5f",
             "gridcolor": "white",
             "linecolor": "white",
             "minorgridcolor": "white",
             "startlinecolor": "#2a3f5f"
            },
            "type": "carpet"
           }
          ],
          "choropleth": [
           {
            "colorbar": {
             "outlinewidth": 0,
             "ticks": ""
            },
            "type": "choropleth"
           }
          ],
          "contour": [
           {
            "colorbar": {
             "outlinewidth": 0,
             "ticks": ""
            },
            "colorscale": [
             [
              0,
              "#0d0887"
             ],
             [
              0.1111111111111111,
              "#46039f"
             ],
             [
              0.2222222222222222,
              "#7201a8"
             ],
             [
              0.3333333333333333,
              "#9c179e"
             ],
             [
              0.4444444444444444,
              "#bd3786"
             ],
             [
              0.5555555555555556,
              "#d8576b"
             ],
             [
              0.6666666666666666,
              "#ed7953"
             ],
             [
              0.7777777777777778,
              "#fb9f3a"
             ],
             [
              0.8888888888888888,
              "#fdca26"
             ],
             [
              1,
              "#f0f921"
             ]
            ],
            "type": "contour"
           }
          ],
          "contourcarpet": [
           {
            "colorbar": {
             "outlinewidth": 0,
             "ticks": ""
            },
            "type": "contourcarpet"
           }
          ],
          "heatmap": [
           {
            "colorbar": {
             "outlinewidth": 0,
             "ticks": ""
            },
            "colorscale": [
             [
              0,
              "#0d0887"
             ],
             [
              0.1111111111111111,
              "#46039f"
             ],
             [
              0.2222222222222222,
              "#7201a8"
             ],
             [
              0.3333333333333333,
              "#9c179e"
             ],
             [
              0.4444444444444444,
              "#bd3786"
             ],
             [
              0.5555555555555556,
              "#d8576b"
             ],
             [
              0.6666666666666666,
              "#ed7953"
             ],
             [
              0.7777777777777778,
              "#fb9f3a"
             ],
             [
              0.8888888888888888,
              "#fdca26"
             ],
             [
              1,
              "#f0f921"
             ]
            ],
            "type": "heatmap"
           }
          ],
          "heatmapgl": [
           {
            "colorbar": {
             "outlinewidth": 0,
             "ticks": ""
            },
            "colorscale": [
             [
              0,
              "#0d0887"
             ],
             [
              0.1111111111111111,
              "#46039f"
             ],
             [
              0.2222222222222222,
              "#7201a8"
             ],
             [
              0.3333333333333333,
              "#9c179e"
             ],
             [
              0.4444444444444444,
              "#bd3786"
             ],
             [
              0.5555555555555556,
              "#d8576b"
             ],
             [
              0.6666666666666666,
              "#ed7953"
             ],
             [
              0.7777777777777778,
              "#fb9f3a"
             ],
             [
              0.8888888888888888,
              "#fdca26"
             ],
             [
              1,
              "#f0f921"
             ]
            ],
            "type": "heatmapgl"
           }
          ],
          "histogram": [
           {
            "marker": {
             "pattern": {
              "fillmode": "overlay",
              "size": 10,
              "solidity": 0.2
             }
            },
            "type": "histogram"
           }
          ],
          "histogram2d": [
           {
            "colorbar": {
             "outlinewidth": 0,
             "ticks": ""
            },
            "colorscale": [
             [
              0,
              "#0d0887"
             ],
             [
              0.1111111111111111,
              "#46039f"
             ],
             [
              0.2222222222222222,
              "#7201a8"
             ],
             [
              0.3333333333333333,
              "#9c179e"
             ],
             [
              0.4444444444444444,
              "#bd3786"
             ],
             [
              0.5555555555555556,
              "#d8576b"
             ],
             [
              0.6666666666666666,
              "#ed7953"
             ],
             [
              0.7777777777777778,
              "#fb9f3a"
             ],
             [
              0.8888888888888888,
              "#fdca26"
             ],
             [
              1,
              "#f0f921"
             ]
            ],
            "type": "histogram2d"
           }
          ],
          "histogram2dcontour": [
           {
            "colorbar": {
             "outlinewidth": 0,
             "ticks": ""
            },
            "colorscale": [
             [
              0,
              "#0d0887"
             ],
             [
              0.1111111111111111,
              "#46039f"
             ],
             [
              0.2222222222222222,
              "#7201a8"
             ],
             [
              0.3333333333333333,
              "#9c179e"
             ],
             [
              0.4444444444444444,
              "#bd3786"
             ],
             [
              0.5555555555555556,
              "#d8576b"
             ],
             [
              0.6666666666666666,
              "#ed7953"
             ],
             [
              0.7777777777777778,
              "#fb9f3a"
             ],
             [
              0.8888888888888888,
              "#fdca26"
             ],
             [
              1,
              "#f0f921"
             ]
            ],
            "type": "histogram2dcontour"
           }
          ],
          "mesh3d": [
           {
            "colorbar": {
             "outlinewidth": 0,
             "ticks": ""
            },
            "type": "mesh3d"
           }
          ],
          "parcoords": [
           {
            "line": {
             "colorbar": {
              "outlinewidth": 0,
              "ticks": ""
             }
            },
            "type": "parcoords"
           }
          ],
          "pie": [
           {
            "automargin": true,
            "type": "pie"
           }
          ],
          "scatter": [
           {
            "marker": {
             "colorbar": {
              "outlinewidth": 0,
              "ticks": ""
             }
            },
            "type": "scatter"
           }
          ],
          "scatter3d": [
           {
            "line": {
             "colorbar": {
              "outlinewidth": 0,
              "ticks": ""
             }
            },
            "marker": {
             "colorbar": {
              "outlinewidth": 0,
              "ticks": ""
             }
            },
            "type": "scatter3d"
           }
          ],
          "scattercarpet": [
           {
            "marker": {
             "colorbar": {
              "outlinewidth": 0,
              "ticks": ""
             }
            },
            "type": "scattercarpet"
           }
          ],
          "scattergeo": [
           {
            "marker": {
             "colorbar": {
              "outlinewidth": 0,
              "ticks": ""
             }
            },
            "type": "scattergeo"
           }
          ],
          "scattergl": [
           {
            "marker": {
             "colorbar": {
              "outlinewidth": 0,
              "ticks": ""
             }
            },
            "type": "scattergl"
           }
          ],
          "scattermapbox": [
           {
            "marker": {
             "colorbar": {
              "outlinewidth": 0,
              "ticks": ""
             }
            },
            "type": "scattermapbox"
           }
          ],
          "scatterpolar": [
           {
            "marker": {
             "colorbar": {
              "outlinewidth": 0,
              "ticks": ""
             }
            },
            "type": "scatterpolar"
           }
          ],
          "scatterpolargl": [
           {
            "marker": {
             "colorbar": {
              "outlinewidth": 0,
              "ticks": ""
             }
            },
            "type": "scatterpolargl"
           }
          ],
          "scatterternary": [
           {
            "marker": {
             "colorbar": {
              "outlinewidth": 0,
              "ticks": ""
             }
            },
            "type": "scatterternary"
           }
          ],
          "surface": [
           {
            "colorbar": {
             "outlinewidth": 0,
             "ticks": ""
            },
            "colorscale": [
             [
              0,
              "#0d0887"
             ],
             [
              0.1111111111111111,
              "#46039f"
             ],
             [
              0.2222222222222222,
              "#7201a8"
             ],
             [
              0.3333333333333333,
              "#9c179e"
             ],
             [
              0.4444444444444444,
              "#bd3786"
             ],
             [
              0.5555555555555556,
              "#d8576b"
             ],
             [
              0.6666666666666666,
              "#ed7953"
             ],
             [
              0.7777777777777778,
              "#fb9f3a"
             ],
             [
              0.8888888888888888,
              "#fdca26"
             ],
             [
              1,
              "#f0f921"
             ]
            ],
            "type": "surface"
           }
          ],
          "table": [
           {
            "cells": {
             "fill": {
              "color": "#EBF0F8"
             },
             "line": {
              "color": "white"
             }
            },
            "header": {
             "fill": {
              "color": "#C8D4E3"
             },
             "line": {
              "color": "white"
             }
            },
            "type": "table"
           }
          ]
         },
         "layout": {
          "annotationdefaults": {
           "arrowcolor": "#2a3f5f",
           "arrowhead": 0,
           "arrowwidth": 1
          },
          "autotypenumbers": "strict",
          "coloraxis": {
           "colorbar": {
            "outlinewidth": 0,
            "ticks": ""
           }
          },
          "colorscale": {
           "diverging": [
            [
             0,
             "#8e0152"
            ],
            [
             0.1,
             "#c51b7d"
            ],
            [
             0.2,
             "#de77ae"
            ],
            [
             0.3,
             "#f1b6da"
            ],
            [
             0.4,
             "#fde0ef"
            ],
            [
             0.5,
             "#f7f7f7"
            ],
            [
             0.6,
             "#e6f5d0"
            ],
            [
             0.7,
             "#b8e186"
            ],
            [
             0.8,
             "#7fbc41"
            ],
            [
             0.9,
             "#4d9221"
            ],
            [
             1,
             "#276419"
            ]
           ],
           "sequential": [
            [
             0,
             "#0d0887"
            ],
            [
             0.1111111111111111,
             "#46039f"
            ],
            [
             0.2222222222222222,
             "#7201a8"
            ],
            [
             0.3333333333333333,
             "#9c179e"
            ],
            [
             0.4444444444444444,
             "#bd3786"
            ],
            [
             0.5555555555555556,
             "#d8576b"
            ],
            [
             0.6666666666666666,
             "#ed7953"
            ],
            [
             0.7777777777777778,
             "#fb9f3a"
            ],
            [
             0.8888888888888888,
             "#fdca26"
            ],
            [
             1,
             "#f0f921"
            ]
           ],
           "sequentialminus": [
            [
             0,
             "#0d0887"
            ],
            [
             0.1111111111111111,
             "#46039f"
            ],
            [
             0.2222222222222222,
             "#7201a8"
            ],
            [
             0.3333333333333333,
             "#9c179e"
            ],
            [
             0.4444444444444444,
             "#bd3786"
            ],
            [
             0.5555555555555556,
             "#d8576b"
            ],
            [
             0.6666666666666666,
             "#ed7953"
            ],
            [
             0.7777777777777778,
             "#fb9f3a"
            ],
            [
             0.8888888888888888,
             "#fdca26"
            ],
            [
             1,
             "#f0f921"
            ]
           ]
          },
          "colorway": [
           "#636efa",
           "#EF553B",
           "#00cc96",
           "#ab63fa",
           "#FFA15A",
           "#19d3f3",
           "#FF6692",
           "#B6E880",
           "#FF97FF",
           "#FECB52"
          ],
          "font": {
           "color": "#2a3f5f"
          },
          "geo": {
           "bgcolor": "white",
           "lakecolor": "white",
           "landcolor": "#E5ECF6",
           "showlakes": true,
           "showland": true,
           "subunitcolor": "white"
          },
          "hoverlabel": {
           "align": "left"
          },
          "hovermode": "closest",
          "mapbox": {
           "style": "light"
          },
          "paper_bgcolor": "white",
          "plot_bgcolor": "#E5ECF6",
          "polar": {
           "angularaxis": {
            "gridcolor": "white",
            "linecolor": "white",
            "ticks": ""
           },
           "bgcolor": "#E5ECF6",
           "radialaxis": {
            "gridcolor": "white",
            "linecolor": "white",
            "ticks": ""
           }
          },
          "scene": {
           "xaxis": {
            "backgroundcolor": "#E5ECF6",
            "gridcolor": "white",
            "gridwidth": 2,
            "linecolor": "white",
            "showbackground": true,
            "ticks": "",
            "zerolinecolor": "white"
           },
           "yaxis": {
            "backgroundcolor": "#E5ECF6",
            "gridcolor": "white",
            "gridwidth": 2,
            "linecolor": "white",
            "showbackground": true,
            "ticks": "",
            "zerolinecolor": "white"
           },
           "zaxis": {
            "backgroundcolor": "#E5ECF6",
            "gridcolor": "white",
            "gridwidth": 2,
            "linecolor": "white",
            "showbackground": true,
            "ticks": "",
            "zerolinecolor": "white"
           }
          },
          "shapedefaults": {
           "line": {
            "color": "#2a3f5f"
           }
          },
          "ternary": {
           "aaxis": {
            "gridcolor": "white",
            "linecolor": "white",
            "ticks": ""
           },
           "baxis": {
            "gridcolor": "white",
            "linecolor": "white",
            "ticks": ""
           },
           "bgcolor": "#E5ECF6",
           "caxis": {
            "gridcolor": "white",
            "linecolor": "white",
            "ticks": ""
           }
          },
          "title": {
           "x": 0.05
          },
          "xaxis": {
           "automargin": true,
           "gridcolor": "white",
           "linecolor": "white",
           "ticks": "",
           "title": {
            "standoff": 15
           },
           "zerolinecolor": "white",
           "zerolinewidth": 2
          },
          "yaxis": {
           "automargin": true,
           "gridcolor": "white",
           "linecolor": "white",
           "ticks": "",
           "title": {
            "standoff": 15
           },
           "zerolinecolor": "white",
           "zerolinewidth": 2
          }
         }
        },
        "title": {
         "text": "Butter Export Values - All Countries"
        },
        "xaxis": {
         "anchor": "y",
         "domain": [
          0,
          1
         ],
         "title": {
          "text": "Year"
         }
        },
        "yaxis": {
         "anchor": "x",
         "domain": [
          0,
          1
         ],
         "title": {
          "text": "Value (k Euro)"
         }
        }
       }
      },
      "text/html": [
       "<div>                            <div id=\"705fae3f-17c5-4edf-a580-9a4a640be766\" class=\"plotly-graph-div\" style=\"height:525px; width:100%;\"></div>            <script type=\"text/javascript\">                require([\"plotly\"], function(Plotly) {                    window.PLOTLYENV=window.PLOTLYENV || {};                                    if (document.getElementById(\"705fae3f-17c5-4edf-a580-9a4a640be766\")) {                    Plotly.newPlot(                        \"705fae3f-17c5-4edf-a580-9a4a640be766\",                        [{\"hovertemplate\":\"Exporters=Netherlands<br>Year=%{x}<br>Value (k Euro)=%{y}<extra></extra>\",\"legendgroup\":\"Netherlands\",\"line\":{\"color\":\"#636efa\",\"dash\":\"solid\"},\"marker\":{\"symbol\":\"circle\"},\"mode\":\"lines\",\"name\":\"Netherlands\",\"showlegend\":true,\"x\":[\"2010\",\"2011\",\"2012\",\"2013\",\"2014\",\"2015\",\"2016\",\"2017\",\"2018\",\"2019\",\"2020\",\"2021\"],\"xaxis\":\"x\",\"y\":[445281.0,550349.0,529077.0,650138.0,636885.0,604647.0,696832.0,998508.0,1034068.0,980831.0,893428.0,1061956.0],\"yaxis\":\"y\",\"type\":\"scattergl\"},{\"hovertemplate\":\"Exporters=Ireland<br>Year=%{x}<br>Value (k Euro)=%{y}<extra></extra>\",\"legendgroup\":\"Ireland\",\"line\":{\"color\":\"#EF553B\",\"dash\":\"solid\"},\"marker\":{\"symbol\":\"circle\"},\"mode\":\"lines\",\"name\":\"Ireland\",\"showlegend\":true,\"x\":[\"2010\",\"2011\",\"2012\",\"2013\",\"2014\",\"2015\",\"2016\",\"2017\",\"2018\",\"2019\",\"2020\",\"2021\"],\"xaxis\":\"x\",\"y\":[405769.0,518267.0,422993.0,541223.0,488388.0,543733.0,544280.0,891261.0,1089962.0,1086854.0,969339.0,1051065.0],\"yaxis\":\"y\",\"type\":\"scattergl\"},{\"hovertemplate\":\"Exporters=New Zealand<br>Year=%{x}<br>Value (k Euro)=%{y}<extra></extra>\",\"legendgroup\":\"New Zealand\",\"line\":{\"color\":\"#00cc96\",\"dash\":\"solid\"},\"marker\":{\"symbol\":\"circle\"},\"mode\":\"lines\",\"name\":\"New Zealand\",\"showlegend\":true,\"x\":[\"2010\",\"2011\",\"2012\",\"2013\",\"2014\",\"2015\",\"2016\",\"2017\",\"2018\",\"2019\",\"2020\",\"2021\"],\"xaxis\":\"x\",\"y\":[688911.0,1026562.0,715697.0,756614.0,888665.0,797983.0,833396.0,1197924.0,1212271.0,1132339.0,881204.0,988288.0],\"yaxis\":\"y\",\"type\":\"scattergl\"},{\"hovertemplate\":\"Exporters=Germany<br>Year=%{x}<br>Value (k Euro)=%{y}<extra></extra>\",\"legendgroup\":\"Germany\",\"line\":{\"color\":\"#ab63fa\",\"dash\":\"solid\"},\"marker\":{\"symbol\":\"circle\"},\"mode\":\"lines\",\"name\":\"Germany\",\"showlegend\":true,\"x\":[\"2010\",\"2011\",\"2012\",\"2013\",\"2014\",\"2015\",\"2016\",\"2017\",\"2018\",\"2019\",\"2020\",\"2021\"],\"xaxis\":\"x\",\"y\":[357912.0,353460.0,326588.0,450429.0,456993.0,429577.0,407033.0,595252.0,571646.0,560655.0,477357.0,532870.0],\"yaxis\":\"y\",\"type\":\"scattergl\"},{\"hovertemplate\":\"Exporters=Belgium<br>Year=%{x}<br>Value (k Euro)=%{y}<extra></extra>\",\"legendgroup\":\"Belgium\",\"line\":{\"color\":\"#FFA15A\",\"dash\":\"solid\"},\"marker\":{\"symbol\":\"circle\"},\"mode\":\"lines\",\"name\":\"Belgium\",\"showlegend\":true,\"x\":[\"2010\",\"2011\",\"2012\",\"2013\",\"2014\",\"2015\",\"2016\",\"2017\",\"2018\",\"2019\",\"2020\",\"2021\"],\"xaxis\":\"x\",\"y\":[261367.0,281324.0,253817.0,302640.0,343880.0,312119.0,369489.0,546947.0,622653.0,545688.0,433623.0,531059.0],\"yaxis\":\"y\",\"type\":\"scattergl\"},{\"hovertemplate\":\"Exporters=Belarus<br>Year=%{x}<br>Value (k Euro)=%{y}<extra></extra>\",\"legendgroup\":\"Belarus\",\"line\":{\"color\":\"#19d3f3\",\"dash\":\"solid\"},\"marker\":{\"symbol\":\"circle\"},\"mode\":\"lines\",\"name\":\"Belarus\",\"showlegend\":true,\"x\":[\"2010\",\"2011\",\"2012\",\"2013\",\"2014\",\"2015\",\"2016\",\"2017\",\"2018\",\"2019\",\"2020\",\"2021\"],\"xaxis\":\"x\",\"y\":[153673.0,154489.0,159973.0,204623.0,214738.0,200915.0,271517.0,350488.0,299279.0,336852.0,279688.0,339288.0],\"yaxis\":\"y\",\"type\":\"scattergl\"},{\"hovertemplate\":\"Exporters=France<br>Year=%{x}<br>Value (k Euro)=%{y}<extra></extra>\",\"legendgroup\":\"France\",\"line\":{\"color\":\"#FF6692\",\"dash\":\"solid\"},\"marker\":{\"symbol\":\"circle\"},\"mode\":\"lines\",\"name\":\"France\",\"showlegend\":true,\"x\":[\"2010\",\"2011\",\"2012\",\"2013\",\"2014\",\"2015\",\"2016\",\"2017\",\"2018\",\"2019\",\"2020\",\"2021\"],\"xaxis\":\"x\",\"y\":[191673.0,216233.0,224324.0,243748.0,289611.0,296932.0,293218.0,380686.0,402694.0,399160.0,375615.0,426291.0],\"yaxis\":\"y\",\"type\":\"scattergl\"},{\"hovertemplate\":\"Exporters=Denmark<br>Year=%{x}<br>Value (k Euro)=%{y}<extra></extra>\",\"legendgroup\":\"Denmark\",\"line\":{\"color\":\"#B6E880\",\"dash\":\"solid\"},\"marker\":{\"symbol\":\"circle\"},\"mode\":\"lines\",\"name\":\"Denmark\",\"showlegend\":true,\"x\":[\"2010\",\"2011\",\"2012\",\"2013\",\"2014\",\"2015\",\"2016\",\"2017\",\"2018\",\"2019\",\"2020\",\"2021\"],\"xaxis\":\"x\",\"y\":[222264.0,228128.0,221330.0,175348.0,164741.0,187838.0,196738.0,221829.0,300141.0,255036.0,230147.0,251004.0],\"yaxis\":\"y\",\"type\":\"scattergl\"},{\"hovertemplate\":\"Exporters=Poland<br>Year=%{x}<br>Value (k Euro)=%{y}<extra></extra>\",\"legendgroup\":\"Poland\",\"line\":{\"color\":\"#FF97FF\",\"dash\":\"solid\"},\"marker\":{\"symbol\":\"circle\"},\"mode\":\"lines\",\"name\":\"Poland\",\"showlegend\":true,\"x\":[\"2010\",\"2011\",\"2012\",\"2013\",\"2014\",\"2015\",\"2016\",\"2017\",\"2018\",\"2019\",\"2020\",\"2021\"],\"xaxis\":\"x\",\"y\":[77256.0,124868.0,86882.0,111985.0,111330.0,110358.0,120757.0,238587.0,299844.0,216034.0,187965.0,197980.0],\"yaxis\":\"y\",\"type\":\"scattergl\"},{\"hovertemplate\":\"Exporters=United States of America<br>Year=%{x}<br>Value (k Euro)=%{y}<extra></extra>\",\"legendgroup\":\"United States of America\",\"line\":{\"color\":\"#FECB52\",\"dash\":\"solid\"},\"marker\":{\"symbol\":\"circle\"},\"mode\":\"lines\",\"name\":\"United States of America\",\"showlegend\":true,\"x\":[\"2010\",\"2011\",\"2012\",\"2013\",\"2014\",\"2015\",\"2016\",\"2017\",\"2018\",\"2019\",\"2020\",\"2021\"],\"xaxis\":\"x\",\"y\":[120475.0,166481.0,124892.0,236595.0,178877.0,62402.0,68674.0,95994.0,117144.0,91470.0,75606.0,150390.0],\"yaxis\":\"y\",\"type\":\"scattergl\"},{\"hovertemplate\":\"Exporters=United Kingdom<br>Year=%{x}<br>Value (k Euro)=%{y}<extra></extra>\",\"legendgroup\":\"United Kingdom\",\"line\":{\"color\":\"#636efa\",\"dash\":\"solid\"},\"marker\":{\"symbol\":\"circle\"},\"mode\":\"lines\",\"name\":\"United Kingdom\",\"showlegend\":true,\"x\":[\"2010\",\"2011\",\"2012\",\"2013\",\"2014\",\"2015\",\"2016\",\"2017\",\"2018\",\"2019\",\"2020\",\"2021\"],\"xaxis\":\"x\",\"y\":[47711.0,60253.0,47044.0,65625.0,86748.0,82362.0,117525.0,149974.0,181360.0,183226.0,129173.0,138472.0],\"yaxis\":\"y\",\"type\":\"scattergl\"},{\"hovertemplate\":\"Exporters=Australia<br>Year=%{x}<br>Value (k Euro)=%{y}<extra></extra>\",\"legendgroup\":\"Australia\",\"line\":{\"color\":\"#EF553B\",\"dash\":\"solid\"},\"marker\":{\"symbol\":\"circle\"},\"mode\":\"lines\",\"name\":\"Australia\",\"showlegend\":true,\"x\":[\"2010\",\"2011\",\"2012\",\"2013\",\"2014\",\"2015\",\"2016\",\"2017\",\"2018\",\"2019\",\"2020\",\"2021\"],\"xaxis\":\"x\",\"y\":[107617.0,84984.0,117534.0,127378.0,118633.0,78596.0,67076.0,52429.0,52401.0,54954.0,47854.0,79181.0],\"yaxis\":\"y\",\"type\":\"scattergl\"},{\"hovertemplate\":\"Exporters=Argentina<br>Year=%{x}<br>Value (k Euro)=%{y}<extra></extra>\",\"legendgroup\":\"Argentina\",\"line\":{\"color\":\"#00cc96\",\"dash\":\"solid\"},\"marker\":{\"symbol\":\"circle\"},\"mode\":\"lines\",\"name\":\"Argentina\",\"showlegend\":true,\"x\":[\"2010\",\"2011\",\"2012\",\"2013\",\"2014\",\"2015\",\"2016\",\"2017\",\"2018\",\"2019\",\"2020\",\"2021\"],\"xaxis\":\"x\",\"y\":[30780.0,61432.0,46091.0,41080.0,34084.0,23316.0,13773.0,14790.0,20411.0,39099.0,45956.0,53612.0],\"yaxis\":\"y\",\"type\":\"scattergl\"},{\"hovertemplate\":\"Exporters=Portugal<br>Year=%{x}<br>Value (k Euro)=%{y}<extra></extra>\",\"legendgroup\":\"Portugal\",\"line\":{\"color\":\"#ab63fa\",\"dash\":\"solid\"},\"marker\":{\"symbol\":\"circle\"},\"mode\":\"lines\",\"name\":\"Portugal\",\"showlegend\":true,\"x\":[\"2010\",\"2011\",\"2012\",\"2013\",\"2014\",\"2015\",\"2016\",\"2017\",\"2018\",\"2019\",\"2020\",\"2021\"],\"xaxis\":\"x\",\"y\":[65290.0,47096.0,51734.0,51157.0,44996.0,56223.0,52755.0,72582.0,70589.0,51593.0,48126.0,63005.0],\"yaxis\":\"y\",\"type\":\"scattergl\"},{\"hovertemplate\":\"Exporters=Italy<br>Year=%{x}<br>Value (k Euro)=%{y}<extra></extra>\",\"legendgroup\":\"Italy\",\"line\":{\"color\":\"#FFA15A\",\"dash\":\"solid\"},\"marker\":{\"symbol\":\"circle\"},\"mode\":\"lines\",\"name\":\"Italy\",\"showlegend\":true,\"x\":[\"2010\",\"2011\",\"2012\",\"2013\",\"2014\",\"2015\",\"2016\",\"2017\",\"2018\",\"2019\",\"2020\",\"2021\"],\"xaxis\":\"x\",\"y\":[88900.0,33743.0,24362.0,26764.0,11884.0,28157.0,28734.0,34664.0,48878.0,51624.0,61985.0,69065.0],\"yaxis\":\"y\",\"type\":\"scattergl\"},{\"hovertemplate\":\"Exporters=Uruguay<br>Year=%{x}<br>Value (k Euro)=%{y}<extra></extra>\",\"legendgroup\":\"Uruguay\",\"line\":{\"color\":\"#19d3f3\",\"dash\":\"solid\"},\"marker\":{\"symbol\":\"circle\"},\"mode\":\"lines\",\"name\":\"Uruguay\",\"showlegend\":true,\"x\":[\"2010\",\"2011\",\"2012\",\"2013\",\"2014\",\"2015\",\"2016\",\"2017\",\"2018\",\"2019\",\"2020\",\"2021\"],\"xaxis\":\"x\",\"y\":[26847.0,50015.0,79009.0,75957.0,73825.0,55364.0,34817.0,44083.0,56851.0,55801.0,38459.0,41822.0],\"yaxis\":\"y\",\"type\":\"scattergl\"},{\"hovertemplate\":\"Exporters=Spain<br>Year=%{x}<br>Value (k Euro)=%{y}<extra></extra>\",\"legendgroup\":\"Spain\",\"line\":{\"color\":\"#FF6692\",\"dash\":\"solid\"},\"marker\":{\"symbol\":\"circle\"},\"mode\":\"lines\",\"name\":\"Spain\",\"showlegend\":true,\"x\":[\"2010\",\"2011\",\"2012\",\"2013\",\"2014\",\"2015\",\"2016\",\"2017\",\"2018\",\"2019\",\"2020\",\"2021\"],\"xaxis\":\"x\",\"y\":[100985.0,59103.0,43891.0,51186.0,42307.0,43691.0,42169.0,51276.0,43434.0,43552.0,27012.0,39971.0],\"yaxis\":\"y\",\"type\":\"scattergl\"},{\"hovertemplate\":\"Exporters=Ukraine<br>Year=%{x}<br>Value (k Euro)=%{y}<extra></extra>\",\"legendgroup\":\"Ukraine\",\"line\":{\"color\":\"#B6E880\",\"dash\":\"solid\"},\"marker\":{\"symbol\":\"circle\"},\"mode\":\"lines\",\"name\":\"Ukraine\",\"showlegend\":true,\"x\":[\"2010\",\"2011\",\"2012\",\"2013\",\"2014\",\"2015\",\"2016\",\"2017\",\"2018\",\"2019\",\"2020\",\"2021\"],\"xaxis\":\"x\",\"y\":[1450.0,3920.0,1510.0,14119.0,15242.0,23457.0,25107.0,102935.0,102446.0,60366.0,36275.0,37282.0],\"yaxis\":\"y\",\"type\":\"scattergl\"},{\"hovertemplate\":\"Exporters=India<br>Year=%{x}<br>Value (k Euro)=%{y}<extra></extra>\",\"legendgroup\":\"India\",\"line\":{\"color\":\"#FF97FF\",\"dash\":\"solid\"},\"marker\":{\"symbol\":\"circle\"},\"mode\":\"lines\",\"name\":\"India\",\"showlegend\":true,\"x\":[\"2010\",\"2011\",\"2012\",\"2013\",\"2014\",\"2015\",\"2016\",\"2017\",\"2018\",\"2019\",\"2020\",\"2021\"],\"xaxis\":\"x\",\"y\":[10805.0,10178.0,3294.0,9598.0,9429.0,7775.0,5992.0,24914.0,55061.0,96624.0,19943.0,30131.0],\"yaxis\":\"y\",\"type\":\"scattergl\"},{\"hovertemplate\":\"Exporters=Lithuania<br>Year=%{x}<br>Value (k Euro)=%{y}<extra></extra>\",\"legendgroup\":\"Lithuania\",\"line\":{\"color\":\"#FECB52\",\"dash\":\"solid\"},\"marker\":{\"symbol\":\"circle\"},\"mode\":\"lines\",\"name\":\"Lithuania\",\"showlegend\":true,\"x\":[\"2010\",\"2011\",\"2012\",\"2013\",\"2014\",\"2015\",\"2016\",\"2017\",\"2018\",\"2019\",\"2020\",\"2021\"],\"xaxis\":\"x\",\"y\":[9143.0,10578.0,16966.0,23708.0,36834.0,21936.0,34403.0,25167.0,26703.0,17459.0,24936.0,20519.0],\"yaxis\":\"y\",\"type\":\"scattergl\"},{\"hovertemplate\":\"Exporters=Austria<br>Year=%{x}<br>Value (k Euro)=%{y}<extra></extra>\",\"legendgroup\":\"Austria\",\"line\":{\"color\":\"#636efa\",\"dash\":\"solid\"},\"marker\":{\"symbol\":\"circle\"},\"mode\":\"lines\",\"name\":\"Austria\",\"showlegend\":true,\"x\":[\"2010\",\"2011\",\"2012\",\"2013\",\"2014\",\"2015\",\"2016\",\"2017\",\"2018\",\"2019\",\"2020\",\"2021\"],\"xaxis\":\"x\",\"y\":[5988.0,6145.0,7019.0,7111.0,8618.0,15340.0,17367.0,19860.0,20492.0,21269.0,17848.0,22708.0],\"yaxis\":\"y\",\"type\":\"scattergl\"},{\"hovertemplate\":\"Exporters=Kyrgyzstan<br>Year=%{x}<br>Value (k Euro)=%{y}<extra></extra>\",\"legendgroup\":\"Kyrgyzstan\",\"line\":{\"color\":\"#EF553B\",\"dash\":\"solid\"},\"marker\":{\"symbol\":\"circle\"},\"mode\":\"lines\",\"name\":\"Kyrgyzstan\",\"showlegend\":true,\"x\":[\"2010\",\"2011\",\"2012\",\"2013\",\"2014\",\"2015\",\"2016\",\"2017\",\"2018\",\"2019\",\"2020\",\"2021\"],\"xaxis\":\"x\",\"y\":[3909.0,2136.0,2742.0,2384.0,1855.0,1654.0,6902.0,10905.0,8012.0,14247.0,14865.0,13283.0],\"yaxis\":\"y\",\"type\":\"scattergl\"},{\"hovertemplate\":\"Exporters=Iran, Islamic Republic of<br>Year=%{x}<br>Value (k Euro)=%{y}<extra></extra>\",\"legendgroup\":\"Iran, Islamic Republic of\",\"line\":{\"color\":\"#00cc96\",\"dash\":\"solid\"},\"marker\":{\"symbol\":\"circle\"},\"mode\":\"lines\",\"name\":\"Iran, Islamic Republic of\",\"showlegend\":true,\"x\":[\"2010\",\"2011\",\"2012\",\"2013\",\"2014\",\"2015\",\"2016\",\"2017\",\"2018\",\"2019\",\"2020\",\"2021\"],\"xaxis\":\"x\",\"y\":[2725.0,5017.0,4675.0,0.0,1267.0,1711.0,2720.0,3872.0,4089.0,197.0,196.0,13597.0],\"yaxis\":\"y\",\"type\":\"scattergl\"},{\"hovertemplate\":\"Exporters=Kazakhstan<br>Year=%{x}<br>Value (k Euro)=%{y}<extra></extra>\",\"legendgroup\":\"Kazakhstan\",\"line\":{\"color\":\"#ab63fa\",\"dash\":\"solid\"},\"marker\":{\"symbol\":\"circle\"},\"mode\":\"lines\",\"name\":\"Kazakhstan\",\"showlegend\":true,\"x\":[\"2010\",\"2011\",\"2012\",\"2013\",\"2014\",\"2015\",\"2016\",\"2017\",\"2018\",\"2019\",\"2020\",\"2021\"],\"xaxis\":\"x\",\"y\":[47.0,19.0,125.0,777.0,217.0,17104.0,847.0,935.0,6816.0,10285.0,5083.0,15561.0],\"yaxis\":\"y\",\"type\":\"scattergl\"},{\"hovertemplate\":\"Exporters=T\\u00fcrkiye<br>Year=%{x}<br>Value (k Euro)=%{y}<extra></extra>\",\"legendgroup\":\"T\\u00fcrkiye\",\"line\":{\"color\":\"#FFA15A\",\"dash\":\"solid\"},\"marker\":{\"symbol\":\"circle\"},\"mode\":\"lines\",\"name\":\"T\\u00fcrkiye\",\"showlegend\":true,\"x\":[\"2010\",\"2011\",\"2012\",\"2013\",\"2014\",\"2015\",\"2016\",\"2017\",\"2018\",\"2019\",\"2020\",\"2021\"],\"xaxis\":\"x\",\"y\":[898.0,1716.0,1404.0,3246.0,2964.0,1769.0,1382.0,5099.0,2486.0,19732.0,8003.0,13624.0],\"yaxis\":\"y\",\"type\":\"scattergl\"},{\"hovertemplate\":\"Exporters=Saudi Arabia<br>Year=%{x}<br>Value (k Euro)=%{y}<extra></extra>\",\"legendgroup\":\"Saudi Arabia\",\"line\":{\"color\":\"#19d3f3\",\"dash\":\"solid\"},\"marker\":{\"symbol\":\"circle\"},\"mode\":\"lines\",\"name\":\"Saudi Arabia\",\"showlegend\":true,\"x\":[\"2010\",\"2011\",\"2012\",\"2013\",\"2014\",\"2015\",\"2016\",\"2017\",\"2018\",\"2019\",\"2020\",\"2021\"],\"xaxis\":\"x\",\"y\":[6138.0,4877.0,5305.0,6765.0,6709.0,9019.0,10076.0,12632.0,10952.0,12602.0,17231.0,25068.0],\"yaxis\":\"y\",\"type\":\"scattergl\"},{\"hovertemplate\":\"Exporters=Russian Federation<br>Year=%{x}<br>Value (k Euro)=%{y}<extra></extra>\",\"legendgroup\":\"Russian Federation\",\"line\":{\"color\":\"#FF6692\",\"dash\":\"solid\"},\"marker\":{\"symbol\":\"circle\"},\"mode\":\"lines\",\"name\":\"Russian Federation\",\"showlegend\":true,\"x\":[\"2010\",\"2011\",\"2012\",\"2013\",\"2014\",\"2015\",\"2016\",\"2017\",\"2018\",\"2019\",\"2020\",\"2021\"],\"xaxis\":\"x\",\"y\":[3362.0,3002.0,9336.0,6631.0,7989.0,7674.0,8416.0,7861.0,7076.0,5594.0,10936.0,10914.0],\"yaxis\":\"y\",\"type\":\"scattergl\"},{\"hovertemplate\":\"Exporters=Sweden<br>Year=%{x}<br>Value (k Euro)=%{y}<extra></extra>\",\"legendgroup\":\"Sweden\",\"line\":{\"color\":\"#B6E880\",\"dash\":\"solid\"},\"marker\":{\"symbol\":\"circle\"},\"mode\":\"lines\",\"name\":\"Sweden\",\"showlegend\":true,\"x\":[\"2010\",\"2011\",\"2012\",\"2013\",\"2014\",\"2015\",\"2016\",\"2017\",\"2018\",\"2019\",\"2020\",\"2021\"],\"xaxis\":\"x\",\"y\":[14929.0,5752.0,7053.0,11172.0,4805.0,2266.0,2361.0,5695.0,14342.0,6253.0,8018.0,10210.0],\"yaxis\":\"y\",\"type\":\"scattergl\"},{\"hovertemplate\":\"Exporters=Ghana<br>Year=%{x}<br>Value (k Euro)=%{y}<extra></extra>\",\"legendgroup\":\"Ghana\",\"line\":{\"color\":\"#FF97FF\",\"dash\":\"solid\"},\"marker\":{\"symbol\":\"circle\"},\"mode\":\"lines\",\"name\":\"Ghana\",\"showlegend\":true,\"x\":[\"2010\",\"2011\",\"2012\",\"2013\",\"2014\",\"2015\",\"2016\",\"2017\",\"2018\",\"2019\",\"2020\",\"2021\"],\"xaxis\":\"x\",\"y\":[25.0,294.0,48.0,131.0,97.0,278.0,208.0,65.0,24.0,58.0,718.0,1189.0],\"yaxis\":\"y\",\"type\":\"scattergl\"},{\"hovertemplate\":\"Exporters=South Africa<br>Year=%{x}<br>Value (k Euro)=%{y}<extra></extra>\",\"legendgroup\":\"South Africa\",\"line\":{\"color\":\"#FECB52\",\"dash\":\"solid\"},\"marker\":{\"symbol\":\"circle\"},\"mode\":\"lines\",\"name\":\"South Africa\",\"showlegend\":true,\"x\":[\"2010\",\"2011\",\"2012\",\"2013\",\"2014\",\"2015\",\"2016\",\"2017\",\"2018\",\"2019\",\"2020\",\"2021\"],\"xaxis\":\"x\",\"y\":[6773.0,4869.0,5130.0,5448.0,8242.0,6459.0,5804.0,4167.0,7153.0,6090.0,6547.0,6454.0],\"yaxis\":\"y\",\"type\":\"scattergl\"},{\"hovertemplate\":\"Exporters=Costa Rica<br>Year=%{x}<br>Value (k Euro)=%{y}<extra></extra>\",\"legendgroup\":\"Costa Rica\",\"line\":{\"color\":\"#636efa\",\"dash\":\"solid\"},\"marker\":{\"symbol\":\"circle\"},\"mode\":\"lines\",\"name\":\"Costa Rica\",\"showlegend\":true,\"x\":[\"2010\",\"2011\",\"2012\",\"2013\",\"2014\",\"2015\",\"2016\",\"2017\",\"2018\",\"2019\",\"2020\",\"2021\"],\"xaxis\":\"x\",\"y\":[2229.0,2150.0,3267.0,3628.0,4172.0,4925.0,3402.0,4921.0,5067.0,4983.0,6172.0,7131.0],\"yaxis\":\"y\",\"type\":\"scattergl\"},{\"hovertemplate\":\"Exporters=Hong Kong, China<br>Year=%{x}<br>Value (k Euro)=%{y}<extra></extra>\",\"legendgroup\":\"Hong Kong, China\",\"line\":{\"color\":\"#EF553B\",\"dash\":\"solid\"},\"marker\":{\"symbol\":\"circle\"},\"mode\":\"lines\",\"name\":\"Hong Kong, China\",\"showlegend\":true,\"x\":[\"2010\",\"2011\",\"2012\",\"2013\",\"2014\",\"2015\",\"2016\",\"2017\",\"2018\",\"2019\",\"2020\",\"2021\"],\"xaxis\":\"x\",\"y\":[3185.0,3651.0,3053.0,3084.0,3813.0,4778.0,5965.0,5482.0,5080.0,6195.0,3915.0,5377.0],\"yaxis\":\"y\",\"type\":\"scattergl\"},{\"hovertemplate\":\"Exporters=China<br>Year=%{x}<br>Value (k Euro)=%{y}<extra></extra>\",\"legendgroup\":\"China\",\"line\":{\"color\":\"#00cc96\",\"dash\":\"solid\"},\"marker\":{\"symbol\":\"circle\"},\"mode\":\"lines\",\"name\":\"China\",\"showlegend\":true,\"x\":[\"2010\",\"2011\",\"2012\",\"2013\",\"2014\",\"2015\",\"2016\",\"2017\",\"2018\",\"2019\",\"2020\",\"2021\"],\"xaxis\":\"x\",\"y\":[7188.0,8249.0,6165.0,940.0,3687.0,2203.0,2007.0,3421.0,4424.0,5989.0,3209.0,3930.0],\"yaxis\":\"y\",\"type\":\"scattergl\"},{\"hovertemplate\":\"Exporters=Singapore<br>Year=%{x}<br>Value (k Euro)=%{y}<extra></extra>\",\"legendgroup\":\"Singapore\",\"line\":{\"color\":\"#ab63fa\",\"dash\":\"solid\"},\"marker\":{\"symbol\":\"circle\"},\"mode\":\"lines\",\"name\":\"Singapore\",\"showlegend\":true,\"x\":[\"2010\",\"2011\",\"2012\",\"2013\",\"2014\",\"2015\",\"2016\",\"2017\",\"2018\",\"2019\",\"2020\",\"2021\"],\"xaxis\":\"x\",\"y\":[6506.0,9097.0,13293.0,15886.0,19077.0,18950.0,14370.0,8510.0,8578.0,10128.0,5467.0,6183.0],\"yaxis\":\"y\",\"type\":\"scattergl\"},{\"hovertemplate\":\"Exporters=Malaysia<br>Year=%{x}<br>Value (k Euro)=%{y}<extra></extra>\",\"legendgroup\":\"Malaysia\",\"line\":{\"color\":\"#FFA15A\",\"dash\":\"solid\"},\"marker\":{\"symbol\":\"circle\"},\"mode\":\"lines\",\"name\":\"Malaysia\",\"showlegend\":true,\"x\":[\"2010\",\"2011\",\"2012\",\"2013\",\"2014\",\"2015\",\"2016\",\"2017\",\"2018\",\"2019\",\"2020\",\"2021\"],\"xaxis\":\"x\",\"y\":[2823.0,1420.0,2201.0,1862.0,3709.0,4325.0,7657.0,9295.0,6751.0,4518.0,5024.0,6424.0],\"yaxis\":\"y\",\"type\":\"scattergl\"},{\"hovertemplate\":\"Exporters=Slovakia<br>Year=%{x}<br>Value (k Euro)=%{y}<extra></extra>\",\"legendgroup\":\"Slovakia\",\"line\":{\"color\":\"#19d3f3\",\"dash\":\"solid\"},\"marker\":{\"symbol\":\"circle\"},\"mode\":\"lines\",\"name\":\"Slovakia\",\"showlegend\":true,\"x\":[\"2010\",\"2011\",\"2012\",\"2013\",\"2014\",\"2015\",\"2016\",\"2017\",\"2018\",\"2019\",\"2020\",\"2021\"],\"xaxis\":\"x\",\"y\":[4354.0,5844.0,5508.0,7153.0,7993.0,9222.0,5979.0,5554.0,6407.0,4325.0,4534.0,5633.0],\"yaxis\":\"y\",\"type\":\"scattergl\"},{\"hovertemplate\":\"Exporters=Luxembourg<br>Year=%{x}<br>Value (k Euro)=%{y}<extra></extra>\",\"legendgroup\":\"Luxembourg\",\"line\":{\"color\":\"#FF6692\",\"dash\":\"solid\"},\"marker\":{\"symbol\":\"circle\"},\"mode\":\"lines\",\"name\":\"Luxembourg\",\"showlegend\":true,\"x\":[\"2010\",\"2011\",\"2012\",\"2013\",\"2014\",\"2015\",\"2016\",\"2017\",\"2018\",\"2019\",\"2020\",\"2021\"],\"xaxis\":\"x\",\"y\":[10885.0,11746.0,12337.0,13882.0,19293.0,11301.0,2505.0,3350.0,4878.0,6345.0,4865.0,9026.0],\"yaxis\":\"y\",\"type\":\"scattergl\"},{\"hovertemplate\":\"Exporters=Colombia<br>Year=%{x}<br>Value (k Euro)=%{y}<extra></extra>\",\"legendgroup\":\"Colombia\",\"line\":{\"color\":\"#B6E880\",\"dash\":\"solid\"},\"marker\":{\"symbol\":\"circle\"},\"mode\":\"lines\",\"name\":\"Colombia\",\"showlegend\":true,\"x\":[\"2010\",\"2011\",\"2012\",\"2013\",\"2014\",\"2015\",\"2016\",\"2017\",\"2018\",\"2019\",\"2020\",\"2021\"],\"xaxis\":\"x\",\"y\":[426.0,312.0,2.0,186.0,651.0,277.0,2.0,2077.0,3524.0,1029.0,3269.0,3509.0],\"yaxis\":\"y\",\"type\":\"scattergl\"},{\"hovertemplate\":\"Exporters=Paraguay<br>Year=%{x}<br>Value (k Euro)=%{y}<extra></extra>\",\"legendgroup\":\"Paraguay\",\"line\":{\"color\":\"#FF97FF\",\"dash\":\"solid\"},\"marker\":{\"symbol\":\"circle\"},\"mode\":\"lines\",\"name\":\"Paraguay\",\"showlegend\":true,\"x\":[\"2010\",\"2011\",\"2012\",\"2013\",\"2014\",\"2015\",\"2016\",\"2017\",\"2018\",\"2019\",\"2020\",\"2021\"],\"xaxis\":\"x\",\"y\":[119.0,42.0,968.0,1345.0,1244.0,865.0,402.0,1654.0,1667.0,1899.0,2563.0,3657.0],\"yaxis\":\"y\",\"type\":\"scattergl\"},{\"hovertemplate\":\"Exporters=Honduras<br>Year=%{x}<br>Value (k Euro)=%{y}<extra></extra>\",\"legendgroup\":\"Honduras\",\"line\":{\"color\":\"#FECB52\",\"dash\":\"solid\"},\"marker\":{\"symbol\":\"circle\"},\"mode\":\"lines\",\"name\":\"Honduras\",\"showlegend\":true,\"x\":[\"2010\",\"2011\",\"2012\",\"2013\",\"2014\",\"2015\",\"2016\",\"2017\",\"2018\",\"2019\",\"2020\",\"2021\"],\"xaxis\":\"x\",\"y\":[1669.0,1231.0,1116.0,987.0,3312.0,1930.0,3267.0,2067.0,895.0,1100.0,2489.0,2203.0],\"yaxis\":\"y\",\"type\":\"scattergl\"},{\"hovertemplate\":\"Exporters=Estonia<br>Year=%{x}<br>Value (k Euro)=%{y}<extra></extra>\",\"legendgroup\":\"Estonia\",\"line\":{\"color\":\"#636efa\",\"dash\":\"solid\"},\"marker\":{\"symbol\":\"circle\"},\"mode\":\"lines\",\"name\":\"Estonia\",\"showlegend\":true,\"x\":[\"2010\",\"2011\",\"2012\",\"2013\",\"2014\",\"2015\",\"2016\",\"2017\",\"2018\",\"2019\",\"2020\",\"2021\"],\"xaxis\":\"x\",\"y\":[12416.0,16057.0,5096.0,10006.0,7968.0,4752.0,4313.0,5298.0,4347.0,3196.0,4475.0,3648.0],\"yaxis\":\"y\",\"type\":\"scattergl\"},{\"hovertemplate\":\"Exporters=Bahrain<br>Year=%{x}<br>Value (k Euro)=%{y}<extra></extra>\",\"legendgroup\":\"Bahrain\",\"line\":{\"color\":\"#EF553B\",\"dash\":\"solid\"},\"marker\":{\"symbol\":\"circle\"},\"mode\":\"lines\",\"name\":\"Bahrain\",\"showlegend\":true,\"x\":[\"2010\",\"2011\",\"2012\",\"2013\",\"2014\",\"2015\",\"2016\",\"2017\",\"2018\",\"2019\",\"2020\",\"2021\"],\"xaxis\":\"x\",\"y\":[3.0,2.0,2.0,8.0,15.0,268.0,111.0,234.0,312.0,93.0,252.0,2246.0],\"yaxis\":\"y\",\"type\":\"scattergl\"},{\"hovertemplate\":\"Exporters=Croatia<br>Year=%{x}<br>Value (k Euro)=%{y}<extra></extra>\",\"legendgroup\":\"Croatia\",\"line\":{\"color\":\"#00cc96\",\"dash\":\"solid\"},\"marker\":{\"symbol\":\"circle\"},\"mode\":\"lines\",\"name\":\"Croatia\",\"showlegend\":true,\"x\":[\"2010\",\"2011\",\"2012\",\"2013\",\"2014\",\"2015\",\"2016\",\"2017\",\"2018\",\"2019\",\"2020\",\"2021\"],\"xaxis\":\"x\",\"y\":[1452.0,1869.0,2155.0,1552.0,1828.0,1468.0,1406.0,2369.0,3024.0,3812.0,3408.0,3383.0],\"yaxis\":\"y\",\"type\":\"scattergl\"},{\"hovertemplate\":\"Exporters=Brazil<br>Year=%{x}<br>Value (k Euro)=%{y}<extra></extra>\",\"legendgroup\":\"Brazil\",\"line\":{\"color\":\"#ab63fa\",\"dash\":\"solid\"},\"marker\":{\"symbol\":\"circle\"},\"mode\":\"lines\",\"name\":\"Brazil\",\"showlegend\":true,\"x\":[\"2010\",\"2011\",\"2012\",\"2013\",\"2014\",\"2015\",\"2016\",\"2017\",\"2018\",\"2019\",\"2020\",\"2021\"],\"xaxis\":\"x\",\"y\":[11809.0,2872.0,1362.0,931.0,11603.0,2229.0,276.0,909.0,584.0,1663.0,1253.0,2074.0],\"yaxis\":\"y\",\"type\":\"scattergl\"},{\"hovertemplate\":\"Exporters=Bulgaria<br>Year=%{x}<br>Value (k Euro)=%{y}<extra></extra>\",\"legendgroup\":\"Bulgaria\",\"line\":{\"color\":\"#FFA15A\",\"dash\":\"solid\"},\"marker\":{\"symbol\":\"circle\"},\"mode\":\"lines\",\"name\":\"Bulgaria\",\"showlegend\":true,\"x\":[\"2010\",\"2011\",\"2012\",\"2013\",\"2014\",\"2015\",\"2016\",\"2017\",\"2018\",\"2019\",\"2020\",\"2021\"],\"xaxis\":\"x\",\"y\":[2225.0,2121.0,1673.0,1478.0,1655.0,1509.0,1928.0,2330.0,2110.0,2272.0,1618.0,2100.0],\"yaxis\":\"y\",\"type\":\"scattergl\"},{\"hovertemplate\":\"Exporters=Burkina Faso<br>Year=%{x}<br>Value (k Euro)=%{y}<extra></extra>\",\"legendgroup\":\"Burkina Faso\",\"line\":{\"color\":\"#19d3f3\",\"dash\":\"solid\"},\"marker\":{\"symbol\":\"circle\"},\"mode\":\"lines\",\"name\":\"Burkina Faso\",\"showlegend\":true,\"x\":[\"2010\",\"2011\",\"2012\",\"2013\",\"2014\",\"2015\",\"2016\",\"2017\",\"2018\",\"2019\",\"2020\",\"2021\"],\"xaxis\":\"x\",\"y\":[0.0,0.0,0.0,0.0,0.0,0.0,3.0,0.0,0.0,0.0,0.0,2.0],\"yaxis\":\"y\",\"type\":\"scattergl\"},{\"hovertemplate\":\"Exporters=Romania<br>Year=%{x}<br>Value (k Euro)=%{y}<extra></extra>\",\"legendgroup\":\"Romania\",\"line\":{\"color\":\"#FF6692\",\"dash\":\"solid\"},\"marker\":{\"symbol\":\"circle\"},\"mode\":\"lines\",\"name\":\"Romania\",\"showlegend\":true,\"x\":[\"2010\",\"2011\",\"2012\",\"2013\",\"2014\",\"2015\",\"2016\",\"2017\",\"2018\",\"2019\",\"2020\",\"2021\"],\"xaxis\":\"x\",\"y\":[1060.0,1245.0,1077.0,997.0,659.0,847.0,1003.0,2163.0,2583.0,1040.0,1442.0,2329.0],\"yaxis\":\"y\",\"type\":\"scattergl\"},{\"hovertemplate\":\"Exporters=Latvia<br>Year=%{x}<br>Value (k Euro)=%{y}<extra></extra>\",\"legendgroup\":\"Latvia\",\"line\":{\"color\":\"#B6E880\",\"dash\":\"solid\"},\"marker\":{\"symbol\":\"circle\"},\"mode\":\"lines\",\"name\":\"Latvia\",\"showlegend\":true,\"x\":[\"2010\",\"2011\",\"2012\",\"2013\",\"2014\",\"2015\",\"2016\",\"2017\",\"2018\",\"2019\",\"2020\",\"2021\"],\"xaxis\":\"x\",\"y\":[9240.0,10919.0,7124.0,16533.0,14143.0,7963.0,9797.0,7117.0,4003.0,2662.0,3410.0,1908.0],\"yaxis\":\"y\",\"type\":\"scattergl\"},{\"hovertemplate\":\"Exporters=Thailand<br>Year=%{x}<br>Value (k Euro)=%{y}<extra></extra>\",\"legendgroup\":\"Thailand\",\"line\":{\"color\":\"#FF97FF\",\"dash\":\"solid\"},\"marker\":{\"symbol\":\"circle\"},\"mode\":\"lines\",\"name\":\"Thailand\",\"showlegend\":true,\"x\":[\"2010\",\"2011\",\"2012\",\"2013\",\"2014\",\"2015\",\"2016\",\"2017\",\"2018\",\"2019\",\"2020\",\"2021\"],\"xaxis\":\"x\",\"y\":[115.0,173.0,61.0,27.0,56.0,390.0,427.0,953.0,1397.0,1496.0,893.0,1035.0],\"yaxis\":\"y\",\"type\":\"scattergl\"},{\"hovertemplate\":\"Exporters=Serbia<br>Year=%{x}<br>Value (k Euro)=%{y}<extra></extra>\",\"legendgroup\":\"Serbia\",\"line\":{\"color\":\"#FECB52\",\"dash\":\"solid\"},\"marker\":{\"symbol\":\"circle\"},\"mode\":\"lines\",\"name\":\"Serbia\",\"showlegend\":true,\"x\":[\"2010\",\"2011\",\"2012\",\"2013\",\"2014\",\"2015\",\"2016\",\"2017\",\"2018\",\"2019\",\"2020\",\"2021\"],\"xaxis\":\"x\",\"y\":[494.0,243.0,772.0,760.0,682.0,865.0,842.0,874.0,950.0,1129.0,1036.0,1582.0],\"yaxis\":\"y\",\"type\":\"scattergl\"},{\"hovertemplate\":\"Exporters=Greece<br>Year=%{x}<br>Value (k Euro)=%{y}<extra></extra>\",\"legendgroup\":\"Greece\",\"line\":{\"color\":\"#636efa\",\"dash\":\"solid\"},\"marker\":{\"symbol\":\"circle\"},\"mode\":\"lines\",\"name\":\"Greece\",\"showlegend\":true,\"x\":[\"2010\",\"2011\",\"2012\",\"2013\",\"2014\",\"2015\",\"2016\",\"2017\",\"2018\",\"2019\",\"2020\",\"2021\"],\"xaxis\":\"x\",\"y\":[76.0,118.0,187.0,701.0,882.0,479.0,775.0,803.0,1290.0,1409.0,1855.0,1730.0],\"yaxis\":\"y\",\"type\":\"scattergl\"},{\"hovertemplate\":\"Exporters=Tunisia<br>Year=%{x}<br>Value (k Euro)=%{y}<extra></extra>\",\"legendgroup\":\"Tunisia\",\"line\":{\"color\":\"#EF553B\",\"dash\":\"solid\"},\"marker\":{\"symbol\":\"circle\"},\"mode\":\"lines\",\"name\":\"Tunisia\",\"showlegend\":true,\"x\":[\"2010\",\"2011\",\"2012\",\"2013\",\"2014\",\"2015\",\"2016\",\"2017\",\"2018\",\"2019\",\"2020\",\"2021\"],\"xaxis\":\"x\",\"y\":[0.0,156.0,0.0,0.0,0.0,9.0,17.0,294.0,102.0,0.0,24.0,921.0],\"yaxis\":\"y\",\"type\":\"scattergl\"},{\"hovertemplate\":\"Exporters=Hungary<br>Year=%{x}<br>Value (k Euro)=%{y}<extra></extra>\",\"legendgroup\":\"Hungary\",\"line\":{\"color\":\"#00cc96\",\"dash\":\"solid\"},\"marker\":{\"symbol\":\"circle\"},\"mode\":\"lines\",\"name\":\"Hungary\",\"showlegend\":true,\"x\":[\"2010\",\"2011\",\"2012\",\"2013\",\"2014\",\"2015\",\"2016\",\"2017\",\"2018\",\"2019\",\"2020\",\"2021\"],\"xaxis\":\"x\",\"y\":[2316.0,2636.0,1117.0,1537.0,1985.0,819.0,1254.0,1168.0,1279.0,996.0,4900.0,1478.0],\"yaxis\":\"y\",\"type\":\"scattergl\"},{\"hovertemplate\":\"Exporters=Iceland<br>Year=%{x}<br>Value (k Euro)=%{y}<extra></extra>\",\"legendgroup\":\"Iceland\",\"line\":{\"color\":\"#ab63fa\",\"dash\":\"solid\"},\"marker\":{\"symbol\":\"circle\"},\"mode\":\"lines\",\"name\":\"Iceland\",\"showlegend\":true,\"x\":[\"2010\",\"2011\",\"2012\",\"2013\",\"2014\",\"2015\",\"2016\",\"2017\",\"2018\",\"2019\",\"2020\",\"2021\"],\"xaxis\":\"x\",\"y\":[1550.0,1699.0,1693.0,523.0,4.0,15.0,1213.0,376.0,1157.0,697.0,720.0,919.0],\"yaxis\":\"y\",\"type\":\"scattergl\"},{\"hovertemplate\":\"Exporters=Azerbaijan<br>Year=%{x}<br>Value (k Euro)=%{y}<extra></extra>\",\"legendgroup\":\"Azerbaijan\",\"line\":{\"color\":\"#FFA15A\",\"dash\":\"solid\"},\"marker\":{\"symbol\":\"circle\"},\"mode\":\"lines\",\"name\":\"Azerbaijan\",\"showlegend\":true,\"x\":[\"2010\",\"2011\",\"2012\",\"2013\",\"2014\",\"2015\",\"2016\",\"2017\",\"2018\",\"2019\",\"2020\",\"2021\"],\"xaxis\":\"x\",\"y\":[0.0,0.0,0.0,286.0,11.0,455.0,409.0,1667.0,854.0,6895.0,1506.0,1089.0],\"yaxis\":\"y\",\"type\":\"scattergl\"},{\"hovertemplate\":\"Exporters=Armenia<br>Year=%{x}<br>Value (k Euro)=%{y}<extra></extra>\",\"legendgroup\":\"Armenia\",\"line\":{\"color\":\"#19d3f3\",\"dash\":\"solid\"},\"marker\":{\"symbol\":\"circle\"},\"mode\":\"lines\",\"name\":\"Armenia\",\"showlegend\":true,\"x\":[\"2010\",\"2011\",\"2012\",\"2013\",\"2014\",\"2015\",\"2016\",\"2017\",\"2018\",\"2019\",\"2020\",\"2021\"],\"xaxis\":\"x\",\"y\":[0.0,0.0,0.0,165.0,411.0,74.0,2.0,35.0,71.0,285.0,175.0,690.0],\"yaxis\":\"y\",\"type\":\"scattergl\"},{\"hovertemplate\":\"Exporters=Kuwait<br>Year=%{x}<br>Value (k Euro)=%{y}<extra></extra>\",\"legendgroup\":\"Kuwait\",\"line\":{\"color\":\"#FF6692\",\"dash\":\"solid\"},\"marker\":{\"symbol\":\"circle\"},\"mode\":\"lines\",\"name\":\"Kuwait\",\"showlegend\":true,\"x\":[\"2010\",\"2011\",\"2012\",\"2013\",\"2014\",\"2015\",\"2016\",\"2017\",\"2018\",\"2019\",\"2020\",\"2021\"],\"xaxis\":\"x\",\"y\":[532.0,345.0,404.0,1195.0,1038.0,1529.0,1274.0,932.0,1005.0,84.0,608.0,815.0],\"yaxis\":\"y\",\"type\":\"scattergl\"},{\"hovertemplate\":\"Exporters=Uganda<br>Year=%{x}<br>Value (k Euro)=%{y}<extra></extra>\",\"legendgroup\":\"Uganda\",\"line\":{\"color\":\"#B6E880\",\"dash\":\"solid\"},\"marker\":{\"symbol\":\"circle\"},\"mode\":\"lines\",\"name\":\"Uganda\",\"showlegend\":true,\"x\":[\"2010\",\"2011\",\"2012\",\"2013\",\"2014\",\"2015\",\"2016\",\"2017\",\"2018\",\"2019\",\"2020\",\"2021\"],\"xaxis\":\"x\",\"y\":[81.0,107.0,415.0,388.0,231.0,173.0,227.0,739.0,312.0,1050.0,686.0,460.0],\"yaxis\":\"y\",\"type\":\"scattergl\"},{\"hovertemplate\":\"Exporters=Switzerland<br>Year=%{x}<br>Value (k Euro)=%{y}<extra></extra>\",\"legendgroup\":\"Switzerland\",\"line\":{\"color\":\"#FF97FF\",\"dash\":\"solid\"},\"marker\":{\"symbol\":\"circle\"},\"mode\":\"lines\",\"name\":\"Switzerland\",\"showlegend\":true,\"x\":[\"2010\",\"2011\",\"2012\",\"2013\",\"2014\",\"2015\",\"2016\",\"2017\",\"2018\",\"2019\",\"2020\",\"2021\"],\"xaxis\":\"x\",\"y\":[11331.0,18026.0,18049.0,300.0,10036.0,5679.0,13380.0,8139.0,4864.0,2643.0,3839.0,1554.0],\"yaxis\":\"y\",\"type\":\"scattergl\"},{\"hovertemplate\":\"Exporters=Bolivia, Plurinational State of<br>Year=%{x}<br>Value (k Euro)=%{y}<extra></extra>\",\"legendgroup\":\"Bolivia, Plurinational State of\",\"line\":{\"color\":\"#FECB52\",\"dash\":\"solid\"},\"marker\":{\"symbol\":\"circle\"},\"mode\":\"lines\",\"name\":\"Bolivia, Plurinational State of\",\"showlegend\":true,\"x\":[\"2010\",\"2011\",\"2012\",\"2013\",\"2014\",\"2015\",\"2016\",\"2017\",\"2018\",\"2019\",\"2020\",\"2021\"],\"xaxis\":\"x\",\"y\":[2758.0,1992.0,2535.0,2654.0,2923.0,3217.0,1618.0,1276.0,572.0,665.0,868.0,609.0],\"yaxis\":\"y\",\"type\":\"scattergl\"},{\"hovertemplate\":\"Exporters=Slovenia<br>Year=%{x}<br>Value (k Euro)=%{y}<extra></extra>\",\"legendgroup\":\"Slovenia\",\"line\":{\"color\":\"#636efa\",\"dash\":\"solid\"},\"marker\":{\"symbol\":\"circle\"},\"mode\":\"lines\",\"name\":\"Slovenia\",\"showlegend\":true,\"x\":[\"2010\",\"2011\",\"2012\",\"2013\",\"2014\",\"2015\",\"2016\",\"2017\",\"2018\",\"2019\",\"2020\",\"2021\"],\"xaxis\":\"x\",\"y\":[2566.0,2146.0,1271.0,334.0,557.0,241.0,232.0,456.0,429.0,398.0,387.0,526.0],\"yaxis\":\"y\",\"type\":\"scattergl\"},{\"hovertemplate\":\"Exporters=Indonesia<br>Year=%{x}<br>Value (k Euro)=%{y}<extra></extra>\",\"legendgroup\":\"Indonesia\",\"line\":{\"color\":\"#EF553B\",\"dash\":\"solid\"},\"marker\":{\"symbol\":\"circle\"},\"mode\":\"lines\",\"name\":\"Indonesia\",\"showlegend\":true,\"x\":[\"2010\",\"2011\",\"2012\",\"2013\",\"2014\",\"2015\",\"2016\",\"2017\",\"2018\",\"2019\",\"2020\",\"2021\"],\"xaxis\":\"x\",\"y\":[439.0,977.0,167.0,270.0,93.0,272.0,283.0,256.0,205.0,188.0,138.0,433.0],\"yaxis\":\"y\",\"type\":\"scattergl\"},{\"hovertemplate\":\"Exporters=Jordan<br>Year=%{x}<br>Value (k Euro)=%{y}<extra></extra>\",\"legendgroup\":\"Jordan\",\"line\":{\"color\":\"#00cc96\",\"dash\":\"solid\"},\"marker\":{\"symbol\":\"circle\"},\"mode\":\"lines\",\"name\":\"Jordan\",\"showlegend\":true,\"x\":[\"2010\",\"2011\",\"2012\",\"2013\",\"2014\",\"2015\",\"2016\",\"2017\",\"2018\",\"2019\",\"2020\",\"2021\"],\"xaxis\":\"x\",\"y\":[0.0,0.0,133.0,64.0,20.0,117.0,16.0,96.0,93.0,71.0,300.0,34.0],\"yaxis\":\"y\",\"type\":\"scattergl\"},{\"hovertemplate\":\"Exporters=Philippines<br>Year=%{x}<br>Value (k Euro)=%{y}<extra></extra>\",\"legendgroup\":\"Philippines\",\"line\":{\"color\":\"#ab63fa\",\"dash\":\"solid\"},\"marker\":{\"symbol\":\"circle\"},\"mode\":\"lines\",\"name\":\"Philippines\",\"showlegend\":true,\"x\":[\"2010\",\"2011\",\"2012\",\"2013\",\"2014\",\"2015\",\"2016\",\"2017\",\"2018\",\"2019\",\"2020\",\"2021\"],\"xaxis\":\"x\",\"y\":[32.0,70.0,20.0,5.0,0.0,14.0,45.0,17.0,8.0,39.0,428.0,188.0],\"yaxis\":\"y\",\"type\":\"scattergl\"},{\"hovertemplate\":\"Exporters=Canada<br>Year=%{x}<br>Value (k Euro)=%{y}<extra></extra>\",\"legendgroup\":\"Canada\",\"line\":{\"color\":\"#FFA15A\",\"dash\":\"solid\"},\"marker\":{\"symbol\":\"circle\"},\"mode\":\"lines\",\"name\":\"Canada\",\"showlegend\":true,\"x\":[\"2010\",\"2011\",\"2012\",\"2013\",\"2014\",\"2015\",\"2016\",\"2017\",\"2018\",\"2019\",\"2020\",\"2021\"],\"xaxis\":\"x\",\"y\":[2185.0,503.0,1008.0,7626.0,469.0,153.0,408.0,356.0,1732.0,146.0,111.0,276.0],\"yaxis\":\"y\",\"type\":\"scattergl\"},{\"hovertemplate\":\"Exporters=Benin<br>Year=%{x}<br>Value (k Euro)=%{y}<extra></extra>\",\"legendgroup\":\"Benin\",\"line\":{\"color\":\"#19d3f3\",\"dash\":\"solid\"},\"marker\":{\"symbol\":\"circle\"},\"mode\":\"lines\",\"name\":\"Benin\",\"showlegend\":true,\"x\":[\"2010\",\"2011\",\"2012\",\"2013\",\"2014\",\"2015\",\"2016\",\"2017\",\"2018\",\"2019\",\"2020\",\"2021\"],\"xaxis\":\"x\",\"y\":[0.0,3.0,912.0,3866.0,6902.0,3381.0,1159.0,8.0,11.0,3.0,6.0,11.0],\"yaxis\":\"y\",\"type\":\"scattergl\"},{\"hovertemplate\":\"Exporters=Oman<br>Year=%{x}<br>Value (k Euro)=%{y}<extra></extra>\",\"legendgroup\":\"Oman\",\"line\":{\"color\":\"#FF6692\",\"dash\":\"solid\"},\"marker\":{\"symbol\":\"circle\"},\"mode\":\"lines\",\"name\":\"Oman\",\"showlegend\":true,\"x\":[\"2010\",\"2011\",\"2012\",\"2013\",\"2014\",\"2015\",\"2016\",\"2017\",\"2018\",\"2019\",\"2020\",\"2021\"],\"xaxis\":\"x\",\"y\":[474.0,527.0,523.0,1552.0,2753.0,3278.0,417.0,349.0,61.0,70.0,248.0,221.0],\"yaxis\":\"y\",\"type\":\"scattergl\"},{\"hovertemplate\":\"Exporters=Kenya<br>Year=%{x}<br>Value (k Euro)=%{y}<extra></extra>\",\"legendgroup\":\"Kenya\",\"line\":{\"color\":\"#B6E880\",\"dash\":\"solid\"},\"marker\":{\"symbol\":\"circle\"},\"mode\":\"lines\",\"name\":\"Kenya\",\"showlegend\":true,\"x\":[\"2010\",\"2011\",\"2012\",\"2013\",\"2014\",\"2015\",\"2016\",\"2017\",\"2018\",\"2019\",\"2020\",\"2021\"],\"xaxis\":\"x\",\"y\":[746.0,882.0,632.0,407.0,560.0,299.0,382.0,93.0,57.0,21.0,75.0,397.0],\"yaxis\":\"y\",\"type\":\"scattergl\"},{\"hovertemplate\":\"Exporters=Guyana<br>Year=%{x}<br>Value (k Euro)=%{y}<extra></extra>\",\"legendgroup\":\"Guyana\",\"line\":{\"color\":\"#FF97FF\",\"dash\":\"solid\"},\"marker\":{\"symbol\":\"circle\"},\"mode\":\"lines\",\"name\":\"Guyana\",\"showlegend\":true,\"x\":[\"2010\",\"2011\",\"2012\",\"2013\",\"2014\",\"2015\",\"2016\",\"2017\",\"2018\",\"2019\",\"2020\",\"2021\"],\"xaxis\":\"x\",\"y\":[1.0,1.0,1.0,0.0,0.0,0.0,0.0,0.0,0.0,0.0,0.0,141.0],\"yaxis\":\"y\",\"type\":\"scattergl\"},{\"hovertemplate\":\"Exporters=Angola<br>Year=%{x}<br>Value (k Euro)=%{y}<extra></extra>\",\"legendgroup\":\"Angola\",\"line\":{\"color\":\"#FECB52\",\"dash\":\"solid\"},\"marker\":{\"symbol\":\"circle\"},\"mode\":\"lines\",\"name\":\"Angola\",\"showlegend\":true,\"x\":[\"2010\",\"2011\",\"2012\",\"2013\",\"2014\",\"2015\",\"2016\",\"2017\",\"2018\",\"2019\",\"2020\",\"2021\"],\"xaxis\":\"x\",\"y\":[0.0,0.0,0.0,0.0,0.0,33.0,4.0,7.0,9.0,172.0,44.0,37.0],\"yaxis\":\"y\",\"type\":\"scattergl\"},{\"hovertemplate\":\"Exporters=Algeria<br>Year=%{x}<br>Value (k Euro)=%{y}<extra></extra>\",\"legendgroup\":\"Algeria\",\"line\":{\"color\":\"#636efa\",\"dash\":\"solid\"},\"marker\":{\"symbol\":\"circle\"},\"mode\":\"lines\",\"name\":\"Algeria\",\"showlegend\":true,\"x\":[\"2010\",\"2011\",\"2012\",\"2013\",\"2014\",\"2015\",\"2016\",\"2017\",\"2019\",\"2021\"],\"xaxis\":\"x\",\"y\":[0.0,0.0,0.0,0.0,0.0,0.0,0.0,7.0,31.0,61.0],\"yaxis\":\"y\",\"type\":\"scattergl\"},{\"hovertemplate\":\"Exporters=Zambia<br>Year=%{x}<br>Value (k Euro)=%{y}<extra></extra>\",\"legendgroup\":\"Zambia\",\"line\":{\"color\":\"#EF553B\",\"dash\":\"solid\"},\"marker\":{\"symbol\":\"circle\"},\"mode\":\"lines\",\"name\":\"Zambia\",\"showlegend\":true,\"x\":[\"2010\",\"2011\",\"2012\",\"2013\",\"2014\",\"2015\",\"2016\",\"2017\",\"2018\",\"2019\",\"2020\",\"2021\"],\"xaxis\":\"x\",\"y\":[704.0,833.0,776.0,167.0,132.0,3.0,5.0,4.0,140.0,0.0,20.0,47.0],\"yaxis\":\"y\",\"type\":\"scattergl\"},{\"hovertemplate\":\"Exporters=Syrian Arab Republic<br>Year=%{x}<br>Value (k Euro)=%{y}<extra></extra>\",\"legendgroup\":\"Syrian Arab Republic\",\"line\":{\"color\":\"#00cc96\",\"dash\":\"solid\"},\"marker\":{\"symbol\":\"circle\"},\"mode\":\"lines\",\"name\":\"Syrian Arab Republic\",\"showlegend\":true,\"x\":[\"2010\",\"2011\",\"2012\",\"2013\",\"2014\",\"2015\",\"2016\",\"2017\",\"2018\",\"2019\",\"2020\",\"2021\"],\"xaxis\":\"x\",\"y\":[2.0,189.0,1.0,9.0,3.0,86.0,2.0,4.0,5.0,46.0,80.0,113.0],\"yaxis\":\"y\",\"type\":\"scattergl\"},{\"hovertemplate\":\"Exporters=Panama<br>Year=%{x}<br>Value (k Euro)=%{y}<extra></extra>\",\"legendgroup\":\"Panama\",\"line\":{\"color\":\"#ab63fa\",\"dash\":\"solid\"},\"marker\":{\"symbol\":\"circle\"},\"mode\":\"lines\",\"name\":\"Panama\",\"showlegend\":true,\"x\":[\"2010\",\"2011\",\"2012\",\"2013\",\"2014\",\"2015\",\"2016\",\"2017\",\"2018\",\"2019\",\"2020\",\"2021\"],\"xaxis\":\"x\",\"y\":[3.0,7.0,18.0,23.0,19.0,5.0,9.0,11.0,64.0,23.0,25.0,86.0],\"yaxis\":\"y\",\"type\":\"scattergl\"},{\"hovertemplate\":\"Exporters=Bangladesh<br>Year=%{x}<br>Value (k Euro)=%{y}<extra></extra>\",\"legendgroup\":\"Bangladesh\",\"line\":{\"color\":\"#FFA15A\",\"dash\":\"solid\"},\"marker\":{\"symbol\":\"circle\"},\"mode\":\"lines\",\"name\":\"Bangladesh\",\"showlegend\":true,\"x\":[\"2010\",\"2011\",\"2012\",\"2013\",\"2015\",\"2016\",\"2017\",\"2018\",\"2019\",\"2020\",\"2021\"],\"xaxis\":\"x\",\"y\":[19.0,9.0,19.0,28.0,4.0,22.0,35.0,69.0,4.0,59.0,78.0],\"yaxis\":\"y\",\"type\":\"scattergl\"},{\"hovertemplate\":\"Exporters=Egypt<br>Year=%{x}<br>Value (k Euro)=%{y}<extra></extra>\",\"legendgroup\":\"Egypt\",\"line\":{\"color\":\"#19d3f3\",\"dash\":\"solid\"},\"marker\":{\"symbol\":\"circle\"},\"mode\":\"lines\",\"name\":\"Egypt\",\"showlegend\":true,\"x\":[\"2010\",\"2011\",\"2012\",\"2013\",\"2014\",\"2015\",\"2016\",\"2017\",\"2018\",\"2019\",\"2020\",\"2021\"],\"xaxis\":\"x\",\"y\":[188.0,734.0,356.0,442.0,44.0,35.0,95.0,4.0,124.0,356.0,226.0,139.0],\"yaxis\":\"y\",\"type\":\"scattergl\"},{\"hovertemplate\":\"Exporters=Brunei Darussalam<br>Year=%{x}<br>Value (k Euro)=%{y}<extra></extra>\",\"legendgroup\":\"Brunei Darussalam\",\"line\":{\"color\":\"#FF6692\",\"dash\":\"solid\"},\"marker\":{\"symbol\":\"circle\"},\"mode\":\"lines\",\"name\":\"Brunei Darussalam\",\"showlegend\":true,\"x\":[\"2010\",\"2011\",\"2012\",\"2013\",\"2014\",\"2015\",\"2016\",\"2017\",\"2018\",\"2019\",\"2020\",\"2021\"],\"xaxis\":\"x\",\"y\":[6.0,1.0,2.0,8.0,6.0,82.0,89.0,5.0,26.0,33.0,11.0,52.0],\"yaxis\":\"y\",\"type\":\"scattergl\"},{\"hovertemplate\":\"Exporters=Georgia<br>Year=%{x}<br>Value (k Euro)=%{y}<extra></extra>\",\"legendgroup\":\"Georgia\",\"line\":{\"color\":\"#B6E880\",\"dash\":\"solid\"},\"marker\":{\"symbol\":\"circle\"},\"mode\":\"lines\",\"name\":\"Georgia\",\"showlegend\":true,\"x\":[\"2010\",\"2011\",\"2012\",\"2013\",\"2014\",\"2015\",\"2016\",\"2017\",\"2018\",\"2019\",\"2020\",\"2021\"],\"xaxis\":\"x\",\"y\":[1010.0,350.0,460.0,708.0,1375.0,295.0,398.0,420.0,350.0,585.0,373.0,133.0],\"yaxis\":\"y\",\"type\":\"scattergl\"},{\"hovertemplate\":\"Exporters=Namibia<br>Year=%{x}<br>Value (k Euro)=%{y}<extra></extra>\",\"legendgroup\":\"Namibia\",\"line\":{\"color\":\"#FF97FF\",\"dash\":\"solid\"},\"marker\":{\"symbol\":\"circle\"},\"mode\":\"lines\",\"name\":\"Namibia\",\"showlegend\":true,\"x\":[\"2010\",\"2011\",\"2012\",\"2013\",\"2014\",\"2015\",\"2016\",\"2017\",\"2018\",\"2019\",\"2020\",\"2021\"],\"xaxis\":\"x\",\"y\":[300.0,212.0,86.0,48.0,65.0,69.0,31.0,12.0,18.0,108.0,71.0,27.0],\"yaxis\":\"y\",\"type\":\"scattergl\"},{\"hovertemplate\":\"Exporters=Samoa<br>Year=%{x}<br>Value (k Euro)=%{y}<extra></extra>\",\"legendgroup\":\"Samoa\",\"line\":{\"color\":\"#FECB52\",\"dash\":\"solid\"},\"marker\":{\"symbol\":\"circle\"},\"mode\":\"lines\",\"name\":\"Samoa\",\"showlegend\":true,\"x\":[\"2010\",\"2011\",\"2012\",\"2013\",\"2014\",\"2015\",\"2016\",\"2017\",\"2018\",\"2019\",\"2020\",\"2021\"],\"xaxis\":\"x\",\"y\":[0.0,0.0,0.0,13.0,22.0,0.0,0.0,4.0,9.0,11.0,70.0,5.0],\"yaxis\":\"y\",\"type\":\"scattergl\"},{\"hovertemplate\":\"Exporters=Dominican Republic<br>Year=%{x}<br>Value (k Euro)=%{y}<extra></extra>\",\"legendgroup\":\"Dominican Republic\",\"line\":{\"color\":\"#636efa\",\"dash\":\"solid\"},\"marker\":{\"symbol\":\"circle\"},\"mode\":\"lines\",\"name\":\"Dominican Republic\",\"showlegend\":true,\"x\":[\"2010\",\"2011\",\"2012\",\"2013\",\"2014\",\"2015\",\"2016\",\"2017\",\"2018\",\"2019\",\"2020\",\"2021\"],\"xaxis\":\"x\",\"y\":[631.0,1261.0,26.0,38.0,14.0,199.0,473.0,253.0,167.0,125.0,74.0,100.0],\"yaxis\":\"y\",\"type\":\"scattergl\"},{\"hovertemplate\":\"Exporters=Morocco<br>Year=%{x}<br>Value (k Euro)=%{y}<extra></extra>\",\"legendgroup\":\"Morocco\",\"line\":{\"color\":\"#EF553B\",\"dash\":\"solid\"},\"marker\":{\"symbol\":\"circle\"},\"mode\":\"lines\",\"name\":\"Morocco\",\"showlegend\":true,\"x\":[\"2010\",\"2011\",\"2012\",\"2013\",\"2014\",\"2015\",\"2016\",\"2017\",\"2018\",\"2019\",\"2020\",\"2021\"],\"xaxis\":\"x\",\"y\":[240.0,60.0,10.0,27.0,206.0,50.0,380.0,462.0,46.0,27.0,12.0,98.0],\"yaxis\":\"y\",\"type\":\"scattergl\"},{\"hovertemplate\":\"Exporters=Pakistan<br>Year=%{x}<br>Value (k Euro)=%{y}<extra></extra>\",\"legendgroup\":\"Pakistan\",\"line\":{\"color\":\"#00cc96\",\"dash\":\"solid\"},\"marker\":{\"symbol\":\"circle\"},\"mode\":\"lines\",\"name\":\"Pakistan\",\"showlegend\":true,\"x\":[\"2010\",\"2011\",\"2012\",\"2013\",\"2014\",\"2015\",\"2016\",\"2017\",\"2018\",\"2019\",\"2020\",\"2021\"],\"xaxis\":\"x\",\"y\":[347.0,1241.0,397.0,90.0,31.0,32.0,42.0,70.0,128.0,76.0,104.0,131.0],\"yaxis\":\"y\",\"type\":\"scattergl\"},{\"hovertemplate\":\"Exporters=Japan<br>Year=%{x}<br>Value (k Euro)=%{y}<extra></extra>\",\"legendgroup\":\"Japan\",\"line\":{\"color\":\"#ab63fa\",\"dash\":\"solid\"},\"marker\":{\"symbol\":\"circle\"},\"mode\":\"lines\",\"name\":\"Japan\",\"showlegend\":true,\"x\":[\"2010\",\"2011\",\"2012\",\"2013\",\"2014\",\"2015\",\"2016\",\"2017\",\"2018\",\"2019\",\"2020\",\"2021\"],\"xaxis\":\"x\",\"y\":[20.0,11.0,19.0,26.0,30.0,36.0,44.0,64.0,94.0,121.0,144.0,318.0],\"yaxis\":\"y\",\"type\":\"scattergl\"},{\"hovertemplate\":\"Exporters=El Salvador<br>Year=%{x}<br>Value (k Euro)=%{y}<extra></extra>\",\"legendgroup\":\"El Salvador\",\"line\":{\"color\":\"#FFA15A\",\"dash\":\"solid\"},\"marker\":{\"symbol\":\"circle\"},\"mode\":\"lines\",\"name\":\"El Salvador\",\"showlegend\":true,\"x\":[\"2010\",\"2011\",\"2012\",\"2013\",\"2014\",\"2015\",\"2016\",\"2017\",\"2018\",\"2019\",\"2020\",\"2021\"],\"xaxis\":\"x\",\"y\":[8.0,66.0,85.0,139.0,22.0,48.0,52.0,60.0,75.0,105.0,118.0,107.0],\"yaxis\":\"y\",\"type\":\"scattergl\"},{\"hovertemplate\":\"Exporters=C\\u00f4te d'Ivoire<br>Year=%{x}<br>Value (k Euro)=%{y}<extra></extra>\",\"legendgroup\":\"C\\u00f4te d'Ivoire\",\"line\":{\"color\":\"#19d3f3\",\"dash\":\"solid\"},\"marker\":{\"symbol\":\"circle\"},\"mode\":\"lines\",\"name\":\"C\\u00f4te d'Ivoire\",\"showlegend\":true,\"x\":[\"2010\",\"2011\",\"2012\",\"2013\",\"2014\",\"2015\",\"2016\",\"2017\",\"2018\",\"2019\",\"2020\",\"2021\"],\"xaxis\":\"x\",\"y\":[8.0,8.0,20.0,36.0,28.0,32.0,15.0,6.0,13.0,9.0,13.0,6.0],\"yaxis\":\"y\",\"type\":\"scattergl\"},{\"hovertemplate\":\"Exporters=Fiji<br>Year=%{x}<br>Value (k Euro)=%{y}<extra></extra>\",\"legendgroup\":\"Fiji\",\"line\":{\"color\":\"#FF6692\",\"dash\":\"solid\"},\"marker\":{\"symbol\":\"circle\"},\"mode\":\"lines\",\"name\":\"Fiji\",\"showlegend\":true,\"x\":[\"2010\",\"2011\",\"2012\",\"2013\",\"2014\",\"2015\",\"2016\",\"2017\",\"2018\",\"2019\",\"2020\",\"2021\"],\"xaxis\":\"x\",\"y\":[57.0,70.0,98.0,67.0,230.0,70.0,199.0,145.0,196.0,121.0,120.0,69.0],\"yaxis\":\"y\",\"type\":\"scattergl\"},{\"hovertemplate\":\"Exporters=Ecuador<br>Year=%{x}<br>Value (k Euro)=%{y}<extra></extra>\",\"legendgroup\":\"Ecuador\",\"line\":{\"color\":\"#B6E880\",\"dash\":\"solid\"},\"marker\":{\"symbol\":\"circle\"},\"mode\":\"lines\",\"name\":\"Ecuador\",\"showlegend\":true,\"x\":[\"2010\",\"2011\",\"2012\",\"2013\",\"2014\",\"2015\",\"2016\",\"2017\",\"2018\",\"2019\",\"2020\",\"2021\"],\"xaxis\":\"x\",\"y\":[0.0,0.0,0.0,0.0,0.0,41.0,0.0,1.0,0.0,0.0,0.0,39.0],\"yaxis\":\"y\",\"type\":\"scattergl\"},{\"hovertemplate\":\"Exporters=Macao, China<br>Year=%{x}<br>Value (k Euro)=%{y}<extra></extra>\",\"legendgroup\":\"Macao, China\",\"line\":{\"color\":\"#FF97FF\",\"dash\":\"solid\"},\"marker\":{\"symbol\":\"circle\"},\"mode\":\"lines\",\"name\":\"Macao, China\",\"showlegend\":true,\"x\":[\"2010\",\"2011\",\"2012\",\"2013\",\"2014\",\"2015\",\"2016\",\"2017\",\"2018\",\"2019\",\"2020\",\"2021\"],\"xaxis\":\"x\",\"y\":[0.0,0.0,0.0,0.0,0.0,0.0,0.0,58.0,12.0,0.0,0.0,102.0],\"yaxis\":\"y\",\"type\":\"scattergl\"},{\"hovertemplate\":\"Exporters=Malta<br>Year=%{x}<br>Value (k Euro)=%{y}<extra></extra>\",\"legendgroup\":\"Malta\",\"line\":{\"color\":\"#FECB52\",\"dash\":\"solid\"},\"marker\":{\"symbol\":\"circle\"},\"mode\":\"lines\",\"name\":\"Malta\",\"showlegend\":true,\"x\":[\"2010\",\"2011\",\"2012\",\"2013\",\"2014\",\"2015\",\"2016\",\"2017\",\"2018\",\"2019\",\"2020\",\"2021\"],\"xaxis\":\"x\",\"y\":[0.0,0.0,0.0,0.0,0.0,0.0,0.0,1.0,0.0,1.0,0.0,69.0],\"yaxis\":\"y\",\"type\":\"scattergl\"},{\"hovertemplate\":\"Exporters=Rwanda<br>Year=%{x}<br>Value (k Euro)=%{y}<extra></extra>\",\"legendgroup\":\"Rwanda\",\"line\":{\"color\":\"#636efa\",\"dash\":\"solid\"},\"marker\":{\"symbol\":\"circle\"},\"mode\":\"lines\",\"name\":\"Rwanda\",\"showlegend\":true,\"x\":[\"2010\",\"2011\",\"2012\",\"2013\",\"2014\",\"2015\",\"2016\",\"2017\",\"2018\",\"2019\",\"2020\",\"2021\"],\"xaxis\":\"x\",\"y\":[0.0,0.0,0.0,0.0,0.0,2.0,0.0,1.0,0.0,44.0,37.0,25.0],\"yaxis\":\"y\",\"type\":\"scattergl\"},{\"hovertemplate\":\"Exporters=Macedonia, North<br>Year=%{x}<br>Value (k Euro)=%{y}<extra></extra>\",\"legendgroup\":\"Macedonia, North\",\"line\":{\"color\":\"#EF553B\",\"dash\":\"solid\"},\"marker\":{\"symbol\":\"circle\"},\"mode\":\"lines\",\"name\":\"Macedonia, North\",\"showlegend\":true,\"x\":[\"2010\",\"2011\",\"2012\",\"2013\",\"2014\",\"2015\",\"2016\",\"2017\",\"2018\",\"2019\",\"2020\",\"2021\"],\"xaxis\":\"x\",\"y\":[533.0,372.0,131.0,8.0,2.0,123.0,764.0,760.0,174.0,204.0,31.0,37.0],\"yaxis\":\"y\",\"type\":\"scattergl\"},{\"hovertemplate\":\"Exporters=Korea, Republic of<br>Year=%{x}<br>Value (k Euro)=%{y}<extra></extra>\",\"legendgroup\":\"Korea, Republic of\",\"line\":{\"color\":\"#00cc96\",\"dash\":\"solid\"},\"marker\":{\"symbol\":\"circle\"},\"mode\":\"lines\",\"name\":\"Korea, Republic of\",\"showlegend\":true,\"x\":[\"2010\",\"2011\",\"2012\",\"2013\",\"2014\",\"2015\",\"2016\",\"2017\",\"2018\",\"2019\",\"2020\",\"2021\"],\"xaxis\":\"x\",\"y\":[0.0,11.0,16.0,39.0,196.0,26.0,23.0,67.0,80.0,221.0,439.0,41.0],\"yaxis\":\"y\",\"type\":\"scattergl\"},{\"hovertemplate\":\"Exporters=Botswana<br>Year=%{x}<br>Value (k Euro)=%{y}<extra></extra>\",\"legendgroup\":\"Botswana\",\"line\":{\"color\":\"#ab63fa\",\"dash\":\"solid\"},\"marker\":{\"symbol\":\"circle\"},\"mode\":\"lines\",\"name\":\"Botswana\",\"showlegend\":true,\"x\":[\"2010\",\"2011\",\"2012\",\"2013\",\"2014\",\"2015\",\"2016\",\"2017\",\"2018\",\"2019\",\"2020\",\"2021\"],\"xaxis\":\"x\",\"y\":[1.0,1.0,1.0,1.0,1.0,1.0,1.0,10.0,48.0,115.0,4.0,16.0],\"yaxis\":\"y\",\"type\":\"scattergl\"},{\"hovertemplate\":\"Exporters=Senegal<br>Year=%{x}<br>Value (k Euro)=%{y}<extra></extra>\",\"legendgroup\":\"Senegal\",\"line\":{\"color\":\"#FFA15A\",\"dash\":\"solid\"},\"marker\":{\"symbol\":\"circle\"},\"mode\":\"lines\",\"name\":\"Senegal\",\"showlegend\":true,\"x\":[\"2010\",\"2011\",\"2012\",\"2013\",\"2014\",\"2015\",\"2016\",\"2017\",\"2018\",\"2019\",\"2020\",\"2021\"],\"xaxis\":\"x\",\"y\":[50.0,32.0,9.0,244.0,169.0,78.0,102.0,224.0,129.0,146.0,57.0,15.0],\"yaxis\":\"y\",\"type\":\"scattergl\"},{\"hovertemplate\":\"Exporters=Trinidad and Tobago<br>Year=%{x}<br>Value (k Euro)=%{y}<extra></extra>\",\"legendgroup\":\"Trinidad and Tobago\",\"line\":{\"color\":\"#19d3f3\",\"dash\":\"solid\"},\"marker\":{\"symbol\":\"circle\"},\"mode\":\"lines\",\"name\":\"Trinidad and Tobago\",\"showlegend\":true,\"x\":[\"2010\",\"2011\",\"2012\",\"2013\",\"2014\",\"2015\",\"2016\",\"2017\",\"2018\",\"2019\",\"2020\",\"2021\"],\"xaxis\":\"x\",\"y\":[10.0,10.0,19.0,13.0,5.0,37.0,42.0,46.0,26.0,102.0,35.0,23.0],\"yaxis\":\"y\",\"type\":\"scattergl\"},{\"hovertemplate\":\"Exporters=Zimbabwe<br>Year=%{x}<br>Value (k Euro)=%{y}<extra></extra>\",\"legendgroup\":\"Zimbabwe\",\"line\":{\"color\":\"#FF6692\",\"dash\":\"solid\"},\"marker\":{\"symbol\":\"circle\"},\"mode\":\"lines\",\"name\":\"Zimbabwe\",\"showlegend\":true,\"x\":[\"2010\",\"2011\",\"2012\",\"2013\",\"2014\",\"2015\",\"2016\",\"2017\",\"2018\",\"2019\",\"2020\",\"2021\"],\"xaxis\":\"x\",\"y\":[0.0,0.0,0.0,0.0,7.0,0.0,29.0,19.0,0.0,0.0,4.0,25.0],\"yaxis\":\"y\",\"type\":\"scattergl\"},{\"hovertemplate\":\"Exporters=Peru<br>Year=%{x}<br>Value (k Euro)=%{y}<extra></extra>\",\"legendgroup\":\"Peru\",\"line\":{\"color\":\"#B6E880\",\"dash\":\"solid\"},\"marker\":{\"symbol\":\"circle\"},\"mode\":\"lines\",\"name\":\"Peru\",\"showlegend\":true,\"x\":[\"2010\",\"2011\",\"2012\",\"2013\",\"2014\",\"2015\",\"2016\",\"2017\",\"2018\",\"2019\",\"2020\",\"2021\"],\"xaxis\":\"x\",\"y\":[11.0,0.0,0.0,1.0,13.0,0.0,0.0,87.0,2.0,4.0,229.0,7.0],\"yaxis\":\"y\",\"type\":\"scattergl\"},{\"hovertemplate\":\"Exporters=Nepal<br>Year=%{x}<br>Value (k Euro)=%{y}<extra></extra>\",\"legendgroup\":\"Nepal\",\"line\":{\"color\":\"#FF97FF\",\"dash\":\"solid\"},\"marker\":{\"symbol\":\"circle\"},\"mode\":\"lines\",\"name\":\"Nepal\",\"showlegend\":true,\"x\":[\"2010\",\"2011\",\"2012\",\"2013\",\"2014\",\"2015\",\"2016\",\"2017\",\"2018\",\"2019\",\"2020\",\"2021\"],\"xaxis\":\"x\",\"y\":[2.0,6.0,0.0,1.0,12.0,5.0,52.0,14.0,12.0,30.0,96.0,16.0],\"yaxis\":\"y\",\"type\":\"scattergl\"},{\"hovertemplate\":\"Exporters=Taipei, Chinese<br>Year=%{x}<br>Value (k Euro)=%{y}<extra></extra>\",\"legendgroup\":\"Taipei, Chinese\",\"line\":{\"color\":\"#FECB52\",\"dash\":\"solid\"},\"marker\":{\"symbol\":\"circle\"},\"mode\":\"lines\",\"name\":\"Taipei, Chinese\",\"showlegend\":true,\"x\":[\"2010\",\"2011\",\"2012\",\"2013\",\"2014\",\"2015\",\"2016\",\"2017\",\"2018\",\"2019\",\"2020\",\"2021\"],\"xaxis\":\"x\",\"y\":[46.0,43.0,58.0,50.0,97.0,114.0,33.0,25.0,85.0,41.0,11.0,23.0],\"yaxis\":\"y\",\"type\":\"scattergl\"},{\"hovertemplate\":\"Exporters=Ethiopia<br>Year=%{x}<br>Value (k Euro)=%{y}<extra></extra>\",\"legendgroup\":\"Ethiopia\",\"line\":{\"color\":\"#636efa\",\"dash\":\"solid\"},\"marker\":{\"symbol\":\"circle\"},\"mode\":\"lines\",\"name\":\"Ethiopia\",\"showlegend\":true,\"x\":[\"2010\",\"2011\",\"2012\",\"2013\",\"2014\",\"2015\",\"2016\",\"2017\",\"2018\",\"2019\",\"2020\",\"2021\"],\"xaxis\":\"x\",\"y\":[52.0,68.0,131.0,64.0,56.0,69.0,82.0,74.0,30.0,23.0,25.0,14.0],\"yaxis\":\"y\",\"type\":\"scattergl\"},{\"hovertemplate\":\"Exporters=Gabon<br>Year=%{x}<br>Value (k Euro)=%{y}<extra></extra>\",\"legendgroup\":\"Gabon\",\"line\":{\"color\":\"#EF553B\",\"dash\":\"solid\"},\"marker\":{\"symbol\":\"circle\"},\"mode\":\"lines\",\"name\":\"Gabon\",\"showlegend\":true,\"x\":[\"2010\",\"2011\",\"2012\",\"2013\",\"2014\",\"2015\",\"2016\",\"2017\",\"2018\",\"2019\",\"2020\",\"2021\"],\"xaxis\":\"x\",\"y\":[1.0,1.0,0.0,35.0,33.0,23.0,16.0,10.0,4.0,4.0,0.0,14.0],\"yaxis\":\"y\",\"type\":\"scattergl\"},{\"hovertemplate\":\"Exporters=Sri Lanka<br>Year=%{x}<br>Value (k Euro)=%{y}<extra></extra>\",\"legendgroup\":\"Sri Lanka\",\"line\":{\"color\":\"#00cc96\",\"dash\":\"solid\"},\"marker\":{\"symbol\":\"circle\"},\"mode\":\"lines\",\"name\":\"Sri Lanka\",\"showlegend\":true,\"x\":[\"2010\",\"2011\",\"2012\",\"2013\",\"2014\",\"2015\",\"2016\",\"2017\",\"2019\",\"2020\",\"2021\"],\"xaxis\":\"x\",\"y\":[2.0,3.0,2.0,0.0,7.0,2.0,2.0,4.0,4.0,4.0,4.0],\"yaxis\":\"y\",\"type\":\"scattergl\"},{\"hovertemplate\":\"Exporters=Congo<br>Year=%{x}<br>Value (k Euro)=%{y}<extra></extra>\",\"legendgroup\":\"Congo\",\"line\":{\"color\":\"#ab63fa\",\"dash\":\"solid\"},\"marker\":{\"symbol\":\"circle\"},\"mode\":\"lines\",\"name\":\"Congo\",\"showlegend\":true,\"x\":[\"2010\",\"2011\",\"2012\",\"2013\",\"2014\",\"2015\",\"2016\",\"2017\",\"2018\",\"2019\",\"2020\",\"2021\"],\"xaxis\":\"x\",\"y\":[0.0,0.0,0.0,0.0,0.0,0.0,0.0,0.0,0.0,0.0,0.0,2.0],\"yaxis\":\"y\",\"type\":\"scattergl\"},{\"hovertemplate\":\"Exporters=Mozambique<br>Year=%{x}<br>Value (k Euro)=%{y}<extra></extra>\",\"legendgroup\":\"Mozambique\",\"line\":{\"color\":\"#FFA15A\",\"dash\":\"solid\"},\"marker\":{\"symbol\":\"circle\"},\"mode\":\"lines\",\"name\":\"Mozambique\",\"showlegend\":true,\"x\":[\"2010\",\"2011\",\"2012\",\"2013\",\"2014\",\"2015\",\"2016\",\"2017\",\"2018\",\"2019\",\"2020\",\"2021\"],\"xaxis\":\"x\",\"y\":[0.0,0.0,0.0,1.0,0.0,0.0,3.0,2.0,2.0,2.0,11.0,4.0],\"yaxis\":\"y\",\"type\":\"scattergl\"},{\"hovertemplate\":\"Exporters=Mauritius<br>Year=%{x}<br>Value (k Euro)=%{y}<extra></extra>\",\"legendgroup\":\"Mauritius\",\"line\":{\"color\":\"#19d3f3\",\"dash\":\"solid\"},\"marker\":{\"symbol\":\"circle\"},\"mode\":\"lines\",\"name\":\"Mauritius\",\"showlegend\":true,\"x\":[\"2010\",\"2011\",\"2012\",\"2013\",\"2014\",\"2015\",\"2016\",\"2017\",\"2018\",\"2019\",\"2020\",\"2021\"],\"xaxis\":\"x\",\"y\":[13.0,34.0,5.0,9.0,2.0,5.0,1.0,0.0,0.0,14.0,0.0,1.0],\"yaxis\":\"y\",\"type\":\"scattergl\"},{\"hovertemplate\":\"Exporters=Mexico<br>Year=%{x}<br>Value (k Euro)=%{y}<extra></extra>\",\"legendgroup\":\"Mexico\",\"line\":{\"color\":\"#FF6692\",\"dash\":\"solid\"},\"marker\":{\"symbol\":\"circle\"},\"mode\":\"lines\",\"name\":\"Mexico\",\"showlegend\":true,\"x\":[\"2010\",\"2011\",\"2012\",\"2013\",\"2014\",\"2015\",\"2016\",\"2017\",\"2018\",\"2019\",\"2020\",\"2021\"],\"xaxis\":\"x\",\"y\":[7.0,24.0,33.0,529.0,308.0,4023.0,7703.0,4165.0,7297.0,3386.0,254.0,0.0],\"yaxis\":\"y\",\"type\":\"scattergl\"},{\"hovertemplate\":\"Exporters=Mongolia<br>Year=%{x}<br>Value (k Euro)=%{y}<extra></extra>\",\"legendgroup\":\"Mongolia\",\"line\":{\"color\":\"#B6E880\",\"dash\":\"solid\"},\"marker\":{\"symbol\":\"circle\"},\"mode\":\"lines\",\"name\":\"Mongolia\",\"showlegend\":true,\"x\":[\"2010\",\"2011\",\"2012\",\"2013\",\"2014\",\"2015\",\"2016\",\"2017\",\"2018\",\"2019\",\"2020\",\"2021\"],\"xaxis\":\"x\",\"y\":[0.0,0.0,0.0,0.0,0.0,0.0,1.0,1.0,4.0,0.0,0.0,0.0],\"yaxis\":\"y\",\"type\":\"scattergl\"},{\"hovertemplate\":\"Exporters=Moldova, Republic of<br>Year=%{x}<br>Value (k Euro)=%{y}<extra></extra>\",\"legendgroup\":\"Moldova, Republic of\",\"line\":{\"color\":\"#FF97FF\",\"dash\":\"solid\"},\"marker\":{\"symbol\":\"circle\"},\"mode\":\"lines\",\"name\":\"Moldova, Republic of\",\"showlegend\":true,\"x\":[\"2010\",\"2011\",\"2012\",\"2013\",\"2014\",\"2015\",\"2016\",\"2017\",\"2018\",\"2019\",\"2020\",\"2021\"],\"xaxis\":\"x\",\"y\":[846.0,852.0,96.0,1726.0,1235.0,1683.0,4238.0,1987.0,187.0,0.0,42.0,1.0],\"yaxis\":\"y\",\"type\":\"scattergl\"},{\"hovertemplate\":\"Exporters=Montenegro<br>Year=%{x}<br>Value (k Euro)=%{y}<extra></extra>\",\"legendgroup\":\"Montenegro\",\"line\":{\"color\":\"#FECB52\",\"dash\":\"solid\"},\"marker\":{\"symbol\":\"circle\"},\"mode\":\"lines\",\"name\":\"Montenegro\",\"showlegend\":true,\"x\":[\"2010\",\"2011\",\"2012\",\"2013\",\"2014\",\"2015\",\"2016\",\"2017\",\"2018\",\"2019\",\"2020\",\"2021\"],\"xaxis\":\"x\",\"y\":[0.0,0.0,1.0,1.0,0.0,0.0,0.0,0.0,0.0,1.0,0.0,0.0],\"yaxis\":\"y\",\"type\":\"scattergl\"},{\"hovertemplate\":\"Exporters=Jamaica<br>Year=%{x}<br>Value (k Euro)=%{y}<extra></extra>\",\"legendgroup\":\"Jamaica\",\"line\":{\"color\":\"#636efa\",\"dash\":\"solid\"},\"marker\":{\"symbol\":\"circle\"},\"mode\":\"lines\",\"name\":\"Jamaica\",\"showlegend\":true,\"x\":[\"2010\",\"2011\",\"2012\",\"2013\",\"2014\",\"2015\",\"2016\",\"2017\",\"2018\",\"2019\",\"2020\",\"2021\"],\"xaxis\":\"x\",\"y\":[0.0,6.0,1.0,2.0,33.0,0.0,1.0,0.0,14.0,3.0,1.0,1.0],\"yaxis\":\"y\",\"type\":\"scattergl\"},{\"hovertemplate\":\"Exporters=Israel<br>Year=%{x}<br>Value (k Euro)=%{y}<extra></extra>\",\"legendgroup\":\"Israel\",\"line\":{\"color\":\"#EF553B\",\"dash\":\"solid\"},\"marker\":{\"symbol\":\"circle\"},\"mode\":\"lines\",\"name\":\"Israel\",\"showlegend\":true,\"x\":[\"2010\",\"2011\",\"2012\",\"2013\",\"2014\",\"2015\",\"2016\",\"2017\",\"2018\",\"2019\",\"2020\",\"2021\"],\"xaxis\":\"x\",\"y\":[2.0,0.0,0.0,0.0,25.0,0.0,1.0,1.0,0.0,0.0,0.0,4.0],\"yaxis\":\"y\",\"type\":\"scattergl\"},{\"hovertemplate\":\"Exporters=Madagascar<br>Year=%{x}<br>Value (k Euro)=%{y}<extra></extra>\",\"legendgroup\":\"Madagascar\",\"line\":{\"color\":\"#00cc96\",\"dash\":\"solid\"},\"marker\":{\"symbol\":\"circle\"},\"mode\":\"lines\",\"name\":\"Madagascar\",\"showlegend\":true,\"x\":[\"2010\",\"2011\",\"2012\",\"2013\",\"2014\",\"2015\",\"2016\",\"2017\",\"2018\",\"2019\",\"2020\",\"2021\"],\"xaxis\":\"x\",\"y\":[14.0,15.0,10.0,11.0,11.0,13.0,14.0,81.0,0.0,0.0,0.0,0.0],\"yaxis\":\"y\",\"type\":\"scattergl\"},{\"hovertemplate\":\"Exporters=Lebanon<br>Year=%{x}<br>Value (k Euro)=%{y}<extra></extra>\",\"legendgroup\":\"Lebanon\",\"line\":{\"color\":\"#ab63fa\",\"dash\":\"solid\"},\"marker\":{\"symbol\":\"circle\"},\"mode\":\"lines\",\"name\":\"Lebanon\",\"showlegend\":true,\"x\":[\"2010\",\"2011\",\"2012\",\"2013\",\"2014\",\"2015\",\"2016\",\"2017\",\"2018\",\"2019\",\"2020\",\"2021\"],\"xaxis\":\"x\",\"y\":[88.0,91.0,39.0,124.0,159.0,389.0,71.0,86.0,34.0,41.0,130.0,5.0],\"yaxis\":\"y\",\"type\":\"scattergl\"},{\"hovertemplate\":\"Exporters=Qatar<br>Year=%{x}<br>Value (k Euro)=%{y}<extra></extra>\",\"legendgroup\":\"Qatar\",\"line\":{\"color\":\"#FFA15A\",\"dash\":\"solid\"},\"marker\":{\"symbol\":\"circle\"},\"mode\":\"lines\",\"name\":\"Qatar\",\"showlegend\":true,\"x\":[\"2010\",\"2011\",\"2012\",\"2013\",\"2014\",\"2015\",\"2017\",\"2018\",\"2019\",\"2020\",\"2021\"],\"xaxis\":\"x\",\"y\":[42.0,0.0,41.0,2.0,5.0,189.0,0.0,0.0,0.0,0.0,0.0],\"yaxis\":\"y\",\"type\":\"scattergl\"},{\"hovertemplate\":\"Exporters=Norway<br>Year=%{x}<br>Value (k Euro)=%{y}<extra></extra>\",\"legendgroup\":\"Norway\",\"line\":{\"color\":\"#19d3f3\",\"dash\":\"solid\"},\"marker\":{\"symbol\":\"circle\"},\"mode\":\"lines\",\"name\":\"Norway\",\"showlegend\":true,\"x\":[\"2010\",\"2011\",\"2012\",\"2013\",\"2014\",\"2015\",\"2016\",\"2017\",\"2018\",\"2019\",\"2020\",\"2021\"],\"xaxis\":\"x\",\"y\":[5307.0,1427.0,4.0,6.0,3.0,1307.0,2478.0,937.0,83.0,125.0,95.0,3.0],\"yaxis\":\"y\",\"type\":\"scattergl\"},{\"hovertemplate\":\"Exporters=Aruba<br>Year=%{x}<br>Value (k Euro)=%{y}<extra></extra>\",\"legendgroup\":\"Aruba\",\"line\":{\"color\":\"#FF6692\",\"dash\":\"solid\"},\"marker\":{\"symbol\":\"circle\"},\"mode\":\"lines\",\"name\":\"Aruba\",\"showlegend\":true,\"x\":[\"2010\",\"2011\",\"2012\",\"2013\",\"2014\",\"2015\",\"2016\",\"2017\",\"2018\",\"2019\",\"2020\",\"2021\"],\"xaxis\":\"x\",\"y\":[1.0,1.0,0.0,0.0,0.0,0.0,7.0,15.0,71.0,4.0,0.0,0.0],\"yaxis\":\"y\",\"type\":\"scattergl\"},{\"hovertemplate\":\"Exporters=Nicaragua<br>Year=%{x}<br>Value (k Euro)=%{y}<extra></extra>\",\"legendgroup\":\"Nicaragua\",\"line\":{\"color\":\"#B6E880\",\"dash\":\"solid\"},\"marker\":{\"symbol\":\"circle\"},\"mode\":\"lines\",\"name\":\"Nicaragua\",\"showlegend\":true,\"x\":[\"2010\",\"2011\",\"2012\",\"2013\",\"2014\",\"2015\",\"2016\",\"2017\",\"2018\",\"2019\",\"2020\",\"2021\"],\"xaxis\":\"x\",\"y\":[122.0,144.0,119.0,150.0,348.0,650.0,328.0,431.0,132.0,114.0,0.0,0.0],\"yaxis\":\"y\",\"type\":\"scattergl\"},{\"hovertemplate\":\"Exporters=Nigeria<br>Year=%{x}<br>Value (k Euro)=%{y}<extra></extra>\",\"legendgroup\":\"Nigeria\",\"line\":{\"color\":\"#FF97FF\",\"dash\":\"solid\"},\"marker\":{\"symbol\":\"circle\"},\"mode\":\"lines\",\"name\":\"Nigeria\",\"showlegend\":true,\"x\":[\"2010\",\"2011\",\"2012\",\"2013\",\"2014\",\"2015\",\"2016\",\"2017\",\"2018\",\"2019\",\"2020\",\"2021\"],\"xaxis\":\"x\",\"y\":[0.0,66.0,0.0,84.0,0.0,6.0,0.0,0.0,0.0,0.0,0.0,0.0],\"yaxis\":\"y\",\"type\":\"scattergl\"},{\"hovertemplate\":\"Exporters=Viet Nam<br>Year=%{x}<br>Value (k Euro)=%{y}<extra></extra>\",\"legendgroup\":\"Viet Nam\",\"line\":{\"color\":\"#FECB52\",\"dash\":\"solid\"},\"marker\":{\"symbol\":\"circle\"},\"mode\":\"lines\",\"name\":\"Viet Nam\",\"showlegend\":true,\"x\":[\"2010\",\"2011\",\"2012\",\"2013\",\"2014\",\"2015\",\"2016\",\"2017\",\"2018\",\"2019\",\"2020\",\"2021\"],\"xaxis\":\"x\",\"y\":[25.0,83.0,255.0,139.0,23.0,22.0,50.0,75.0,209.0,106.0,51.0,71.0],\"yaxis\":\"y\",\"type\":\"scattergl\"},{\"hovertemplate\":\"Exporters=Cabo Verde<br>Year=%{x}<br>Value (k Euro)=%{y}<extra></extra>\",\"legendgroup\":\"Cabo Verde\",\"line\":{\"color\":\"#636efa\",\"dash\":\"solid\"},\"marker\":{\"symbol\":\"circle\"},\"mode\":\"lines\",\"name\":\"Cabo Verde\",\"showlegend\":true,\"x\":[\"2010\",\"2011\",\"2012\",\"2013\",\"2014\",\"2015\",\"2016\",\"2017\",\"2018\",\"2019\",\"2020\",\"2021\"],\"xaxis\":\"x\",\"y\":[2.0,2.0,2.0,17.0,13.0,5.0,0.0,0.0,0.0,0.0,56.0,0.0],\"yaxis\":\"y\",\"type\":\"scattergl\"},{\"hovertemplate\":\"Exporters=Cambodia<br>Year=%{x}<br>Value (k Euro)=%{y}<extra></extra>\",\"legendgroup\":\"Cambodia\",\"line\":{\"color\":\"#EF553B\",\"dash\":\"solid\"},\"marker\":{\"symbol\":\"circle\"},\"mode\":\"lines\",\"name\":\"Cambodia\",\"showlegend\":true,\"x\":[\"2010\",\"2011\",\"2012\",\"2013\",\"2014\",\"2015\",\"2016\",\"2017\",\"2018\",\"2019\",\"2020\",\"2021\"],\"xaxis\":\"x\",\"y\":[0.0,0.0,0.0,0.0,0.0,0.0,0.0,11.0,0.0,0.0,0.0,0.0],\"yaxis\":\"y\",\"type\":\"scattergl\"},{\"hovertemplate\":\"Exporters=Burundi<br>Year=%{x}<br>Value (k Euro)=%{y}<extra></extra>\",\"legendgroup\":\"Burundi\",\"line\":{\"color\":\"#00cc96\",\"dash\":\"solid\"},\"marker\":{\"symbol\":\"circle\"},\"mode\":\"lines\",\"name\":\"Burundi\",\"showlegend\":true,\"x\":[\"2010\",\"2011\",\"2012\",\"2013\",\"2014\",\"2015\",\"2016\",\"2017\",\"2018\",\"2019\",\"2020\",\"2021\"],\"xaxis\":\"x\",\"y\":[0.0,0.0,0.0,0.0,0.0,1279.0,0.0,0.0,0.0,0.0,0.0,0.0],\"yaxis\":\"y\",\"type\":\"scattergl\"},{\"hovertemplate\":\"Exporters=Bosnia and Herzegovina<br>Year=%{x}<br>Value (k Euro)=%{y}<extra></extra>\",\"legendgroup\":\"Bosnia and Herzegovina\",\"line\":{\"color\":\"#ab63fa\",\"dash\":\"solid\"},\"marker\":{\"symbol\":\"circle\"},\"mode\":\"lines\",\"name\":\"Bosnia and Herzegovina\",\"showlegend\":true,\"x\":[\"2010\",\"2011\",\"2012\",\"2013\",\"2014\",\"2015\",\"2016\",\"2017\",\"2018\",\"2019\",\"2020\",\"2021\"],\"xaxis\":\"x\",\"y\":[697.0,461.0,292.0,529.0,0.0,0.0,1371.0,237.0,0.0,99.0,3.0,0.0],\"yaxis\":\"y\",\"type\":\"scattergl\"},{\"hovertemplate\":\"Exporters=Barbados<br>Year=%{x}<br>Value (k Euro)=%{y}<extra></extra>\",\"legendgroup\":\"Barbados\",\"line\":{\"color\":\"#FFA15A\",\"dash\":\"solid\"},\"marker\":{\"symbol\":\"circle\"},\"mode\":\"lines\",\"name\":\"Barbados\",\"showlegend\":true,\"x\":[\"2010\",\"2011\",\"2012\",\"2013\",\"2014\",\"2015\",\"2016\",\"2017\",\"2018\",\"2019\",\"2020\",\"2021\"],\"xaxis\":\"x\",\"y\":[2.0,0.0,0.0,0.0,0.0,0.0,0.0,0.0,0.0,1.0,0.0,0.0],\"yaxis\":\"y\",\"type\":\"scattergl\"},{\"hovertemplate\":\"Exporters=Antigua and Barbuda<br>Year=%{x}<br>Value (k Euro)=%{y}<extra></extra>\",\"legendgroup\":\"Antigua and Barbuda\",\"line\":{\"color\":\"#19d3f3\",\"dash\":\"solid\"},\"marker\":{\"symbol\":\"circle\"},\"mode\":\"lines\",\"name\":\"Antigua and Barbuda\",\"showlegend\":true,\"x\":[\"2010\",\"2011\",\"2012\",\"2013\",\"2014\",\"2015\",\"2016\",\"2017\",\"2018\",\"2019\",\"2020\",\"2021\"],\"xaxis\":\"x\",\"y\":[0.0,0.0,0.0,0.0,0.0,0.0,0.0,1.0,0.0,0.0,0.0,0.0],\"yaxis\":\"y\",\"type\":\"scattergl\"},{\"hovertemplate\":\"Exporters=Chile<br>Year=%{x}<br>Value (k Euro)=%{y}<extra></extra>\",\"legendgroup\":\"Chile\",\"line\":{\"color\":\"#FF6692\",\"dash\":\"solid\"},\"marker\":{\"symbol\":\"circle\"},\"mode\":\"lines\",\"name\":\"Chile\",\"showlegend\":true,\"x\":[\"2010\",\"2011\",\"2012\",\"2013\",\"2014\",\"2015\",\"2016\",\"2017\",\"2018\",\"2019\",\"2020\",\"2021\"],\"xaxis\":\"x\",\"y\":[8736.0,11577.0,7487.0,8296.0,4874.0,4900.0,3958.0,5920.0,366.0,1.0,73.0,0.0],\"yaxis\":\"y\",\"type\":\"scattergl\"},{\"hovertemplate\":\"Exporters=Cyprus<br>Year=%{x}<br>Value (k Euro)=%{y}<extra></extra>\",\"legendgroup\":\"Cyprus\",\"line\":{\"color\":\"#B6E880\",\"dash\":\"solid\"},\"marker\":{\"symbol\":\"circle\"},\"mode\":\"lines\",\"name\":\"Cyprus\",\"showlegend\":true,\"x\":[\"2010\",\"2011\",\"2012\",\"2013\",\"2014\",\"2015\",\"2016\",\"2017\",\"2018\",\"2019\",\"2020\",\"2021\"],\"xaxis\":\"x\",\"y\":[1.0,1.0,0.0,15.0,0.0,1.0,11.0,4.0,25.0,25.0,0.0,0.0],\"yaxis\":\"y\",\"type\":\"scattergl\"},{\"hovertemplate\":\"Exporters=Czech Republic<br>Year=%{x}<br>Value (k Euro)=%{y}<extra></extra>\",\"legendgroup\":\"Czech Republic\",\"line\":{\"color\":\"#FF97FF\",\"dash\":\"solid\"},\"marker\":{\"symbol\":\"circle\"},\"mode\":\"lines\",\"name\":\"Czech Republic\",\"showlegend\":true,\"x\":[\"2010\",\"2011\",\"2012\",\"2013\",\"2014\",\"2015\",\"2016\",\"2017\",\"2018\",\"2019\",\"2020\",\"2021\"],\"xaxis\":\"x\",\"y\":[14946.0,18421.0,12358.0,13205.0,13888.0,10759.0,12046.0,15029.0,12071.0,18215.0,7937.0,10391.0],\"yaxis\":\"y\",\"type\":\"scattergl\"},{\"hovertemplate\":\"Exporters=Finland<br>Year=%{x}<br>Value (k Euro)=%{y}<extra></extra>\",\"legendgroup\":\"Finland\",\"line\":{\"color\":\"#FECB52\",\"dash\":\"solid\"},\"marker\":{\"symbol\":\"circle\"},\"mode\":\"lines\",\"name\":\"Finland\",\"showlegend\":true,\"x\":[\"2010\",\"2011\",\"2012\",\"2013\",\"2014\",\"2015\",\"2016\",\"2017\",\"2018\",\"2019\",\"2020\",\"2021\"],\"xaxis\":\"x\",\"y\":[86400.0,80213.0,65864.0,78323.0,77585.0,114827.0,107470.0,135896.0,136729.0,142838.0,128984.0,122282.0],\"yaxis\":\"y\",\"type\":\"scattergl\"},{\"hovertemplate\":\"Exporters=Gambia<br>Year=%{x}<br>Value (k Euro)=%{y}<extra></extra>\",\"legendgroup\":\"Gambia\",\"line\":{\"color\":\"#636efa\",\"dash\":\"solid\"},\"marker\":{\"symbol\":\"circle\"},\"mode\":\"lines\",\"name\":\"Gambia\",\"showlegend\":true,\"x\":[\"2010\",\"2011\",\"2012\",\"2013\",\"2014\",\"2015\",\"2016\",\"2017\",\"2018\",\"2019\",\"2020\",\"2021\"],\"xaxis\":\"x\",\"y\":[2.0,289.0,390.0,41.0,11.0,13.0,0.0,0.0,0.0,0.0,0.0,0.0],\"yaxis\":\"y\",\"type\":\"scattergl\"},{\"hovertemplate\":\"Exporters=Guatemala<br>Year=%{x}<br>Value (k Euro)=%{y}<extra></extra>\",\"legendgroup\":\"Guatemala\",\"line\":{\"color\":\"#EF553B\",\"dash\":\"solid\"},\"marker\":{\"symbol\":\"circle\"},\"mode\":\"lines\",\"name\":\"Guatemala\",\"showlegend\":true,\"x\":[\"2010\",\"2011\",\"2012\",\"2013\",\"2014\",\"2015\",\"2016\",\"2017\",\"2018\",\"2019\",\"2020\",\"2021\"],\"xaxis\":\"x\",\"y\":[32.0,14.0,12.0,28.0,6.0,90.0,5.0,19.0,7.0,3.0,0.0,1.0],\"yaxis\":\"y\",\"type\":\"scattergl\"},{\"hovertemplate\":\"Exporters=Suriname<br>Year=%{x}<br>Value (k Euro)=%{y}<extra></extra>\",\"legendgroup\":\"Suriname\",\"line\":{\"color\":\"#00cc96\",\"dash\":\"solid\"},\"marker\":{\"symbol\":\"circle\"},\"mode\":\"lines\",\"name\":\"Suriname\",\"showlegend\":true,\"x\":[\"2010\",\"2011\",\"2012\",\"2013\",\"2014\",\"2015\",\"2016\",\"2017\",\"2018\",\"2019\",\"2020\",\"2021\"],\"xaxis\":\"x\",\"y\":[12.0,19.0,16.0,14.0,23.0,0.0,0.0,0.0,0.0,0.0,0.0,0.0],\"yaxis\":\"y\",\"type\":\"scattergl\"},{\"hovertemplate\":\"Exporters=Eswatini<br>Year=%{x}<br>Value (k Euro)=%{y}<extra></extra>\",\"legendgroup\":\"Eswatini\",\"line\":{\"color\":\"#ab63fa\",\"dash\":\"solid\"},\"marker\":{\"symbol\":\"circle\"},\"mode\":\"lines\",\"name\":\"Eswatini\",\"showlegend\":true,\"x\":[\"2010\",\"2011\",\"2012\",\"2013\",\"2014\",\"2015\",\"2016\",\"2017\",\"2018\",\"2019\",\"2020\",\"2021\"],\"xaxis\":\"x\",\"y\":[8.0,0.0,53.0,0.0,1.0,0.0,0.0,0.0,0.0,0.0,0.0,0.0],\"yaxis\":\"y\",\"type\":\"scattergl\"},{\"hovertemplate\":\"Exporters=Togo<br>Year=%{x}<br>Value (k Euro)=%{y}<extra></extra>\",\"legendgroup\":\"Togo\",\"line\":{\"color\":\"#FFA15A\",\"dash\":\"solid\"},\"marker\":{\"symbol\":\"circle\"},\"mode\":\"lines\",\"name\":\"Togo\",\"showlegend\":true,\"x\":[\"2010\",\"2011\",\"2012\",\"2013\",\"2014\",\"2015\",\"2016\",\"2017\",\"2018\",\"2019\",\"2020\",\"2021\"],\"xaxis\":\"x\",\"y\":[0.0,0.0,0.0,0.0,0.0,3.0,15.0,0.0,0.0,13.0,0.0,2.0],\"yaxis\":\"y\",\"type\":\"scattergl\"},{\"hovertemplate\":\"Exporters=United States Minor Outlying Islands<br>Year=%{x}<br>Value (k Euro)=%{y}<extra></extra>\",\"legendgroup\":\"United States Minor Outlying Islands\",\"line\":{\"color\":\"#19d3f3\",\"dash\":\"solid\"},\"marker\":{\"symbol\":\"circle\"},\"mode\":\"lines\",\"name\":\"United States Minor Outlying Islands\",\"showlegend\":true,\"x\":[\"2010\",\"2011\",\"2012\",\"2013\",\"2021\"],\"xaxis\":\"x\",\"y\":[2.0,3.0,2.0,2.0,1.0],\"yaxis\":\"y\",\"type\":\"scattergl\"},{\"hovertemplate\":\"Exporters=Tanzania, United Republic of<br>Year=%{x}<br>Value (k Euro)=%{y}<extra></extra>\",\"legendgroup\":\"Tanzania, United Republic of\",\"line\":{\"color\":\"#FF6692\",\"dash\":\"solid\"},\"marker\":{\"symbol\":\"circle\"},\"mode\":\"lines\",\"name\":\"Tanzania, United Republic of\",\"showlegend\":true,\"x\":[\"2010\",\"2011\",\"2012\",\"2013\",\"2014\",\"2015\",\"2016\",\"2017\",\"2018\",\"2019\",\"2020\",\"2021\"],\"xaxis\":\"x\",\"y\":[17.0,22.0,45.0,0.0,11.0,0.0,0.0,0.0,0.0,0.0,0.0,1.0],\"yaxis\":\"y\",\"type\":\"scattergl\"},{\"hovertemplate\":\"Exporters=Free Zones<br>Year=%{x}<br>Value (k Euro)=%{y}<extra></extra>\",\"legendgroup\":\"Free Zones\",\"line\":{\"color\":\"#B6E880\",\"dash\":\"solid\"},\"marker\":{\"symbol\":\"circle\"},\"mode\":\"lines\",\"name\":\"Free Zones\",\"showlegend\":true,\"x\":[\"2010\",\"2011\",\"2012\",\"2013\",\"2014\",\"2015\",\"2016\",\"2017\"],\"xaxis\":\"x\",\"y\":[74.0,186.0,30.0,1.0,2.0,113.0,5.0,1.0],\"yaxis\":\"y\",\"type\":\"scattergl\"},{\"hovertemplate\":\"Exporters=Yemen<br>Year=%{x}<br>Value (k Euro)=%{y}<extra></extra>\",\"legendgroup\":\"Yemen\",\"line\":{\"color\":\"#FF97FF\",\"dash\":\"solid\"},\"marker\":{\"symbol\":\"circle\"},\"mode\":\"lines\",\"name\":\"Yemen\",\"showlegend\":true,\"x\":[\"2010\",\"2011\",\"2012\",\"2013\",\"2014\",\"2015\",\"2019\",\"2020\"],\"xaxis\":\"x\",\"y\":[205.0,941.0,126.0,113.0,177.0,40.0,4.0,690.0],\"yaxis\":\"y\",\"type\":\"scattergl\"},{\"hovertemplate\":\"Exporters=Venezuela, Bolivarian Republic of<br>Year=%{x}<br>Value (k Euro)=%{y}<extra></extra>\",\"legendgroup\":\"Venezuela, Bolivarian Republic of\",\"line\":{\"color\":\"#FECB52\",\"dash\":\"solid\"},\"marker\":{\"symbol\":\"circle\"},\"mode\":\"lines\",\"name\":\"Venezuela, Bolivarian Republic of\",\"showlegend\":true,\"x\":[\"2010\",\"2011\",\"2012\",\"2013\",\"2014\",\"2015\",\"2017\",\"2018\",\"2019\"],\"xaxis\":\"x\",\"y\":[0.0,0.0,0.0,0.0,17.0,12.0,16.0,10.0,18.0],\"yaxis\":\"y\",\"type\":\"scattergl\"},{\"hovertemplate\":\"Exporters=Turkmenistan<br>Year=%{x}<br>Value (k Euro)=%{y}<extra></extra>\",\"legendgroup\":\"Turkmenistan\",\"line\":{\"color\":\"#636efa\",\"dash\":\"solid\"},\"marker\":{\"symbol\":\"circle\"},\"mode\":\"lines\",\"name\":\"Turkmenistan\",\"showlegend\":true,\"x\":[\"2010\",\"2016\",\"2017\",\"2019\"],\"xaxis\":\"x\",\"y\":[4.0,26.0,96.0,7.0],\"yaxis\":\"y\",\"type\":\"scattergl\"},{\"hovertemplate\":\"Exporters=Guinea<br>Year=%{x}<br>Value (k Euro)=%{y}<extra></extra>\",\"legendgroup\":\"Guinea\",\"line\":{\"color\":\"#EF553B\",\"dash\":\"solid\"},\"marker\":{\"symbol\":\"circle\"},\"mode\":\"lines\",\"name\":\"Guinea\",\"showlegend\":true,\"x\":[\"2010\",\"2011\",\"2012\",\"2013\",\"2014\",\"2015\",\"2016\",\"2020\"],\"xaxis\":\"x\",\"y\":[0.0,0.0,0.0,0.0,0.0,0.0,0.0,1.0],\"yaxis\":\"y\",\"type\":\"scattergl\"},{\"hovertemplate\":\"Exporters=Gibraltar<br>Year=%{x}<br>Value (k Euro)=%{y}<extra></extra>\",\"legendgroup\":\"Gibraltar\",\"line\":{\"color\":\"#00cc96\",\"dash\":\"solid\"},\"marker\":{\"symbol\":\"circle\"},\"mode\":\"lines\",\"name\":\"Gibraltar\",\"showlegend\":true,\"x\":[\"2010\",\"2011\"],\"xaxis\":\"x\",\"y\":[18.0,1.0],\"yaxis\":\"y\",\"type\":\"scattergl\"},{\"hovertemplate\":\"Exporters=Palestine, State of<br>Year=%{x}<br>Value (k Euro)=%{y}<extra></extra>\",\"legendgroup\":\"Palestine, State of\",\"line\":{\"color\":\"#ab63fa\",\"dash\":\"solid\"},\"marker\":{\"symbol\":\"circle\"},\"mode\":\"lines\",\"name\":\"Palestine, State of\",\"showlegend\":true,\"x\":[\"2010\",\"2011\",\"2012\",\"2013\",\"2014\",\"2015\",\"2016\",\"2017\",\"2018\",\"2019\",\"2020\"],\"xaxis\":\"x\",\"y\":[41.0,1.0,0.0,2.0,5.0,0.0,1.0,10.0,0.0,0.0,0.0],\"yaxis\":\"y\",\"type\":\"scattergl\"},{\"hovertemplate\":\"Exporters=French Polynesia<br>Year=%{x}<br>Value (k Euro)=%{y}<extra></extra>\",\"legendgroup\":\"French Polynesia\",\"line\":{\"color\":\"#FFA15A\",\"dash\":\"solid\"},\"marker\":{\"symbol\":\"circle\"},\"mode\":\"lines\",\"name\":\"French Polynesia\",\"showlegend\":true,\"x\":[\"2010\",\"2011\",\"2012\",\"2013\",\"2014\",\"2015\",\"2016\",\"2017\",\"2018\",\"2019\",\"2020\"],\"xaxis\":\"x\",\"y\":[1.0,0.0,0.0,0.0,0.0,0.0,0.0,0.0,0.0,0.0,0.0],\"yaxis\":\"y\",\"type\":\"scattergl\"},{\"hovertemplate\":\"Exporters=Dominica<br>Year=%{x}<br>Value (k Euro)=%{y}<extra></extra>\",\"legendgroup\":\"Dominica\",\"line\":{\"color\":\"#19d3f3\",\"dash\":\"solid\"},\"marker\":{\"symbol\":\"circle\"},\"mode\":\"lines\",\"name\":\"Dominica\",\"showlegend\":true,\"x\":[\"2010\",\"2011\",\"2012\",\"2013\",\"2014\",\"2015\",\"2020\"],\"xaxis\":\"x\",\"y\":[0.0,0.0,0.0,0.0,1.0,6.0,1.0],\"yaxis\":\"y\",\"type\":\"scattergl\"},{\"hovertemplate\":\"Exporters=Afghanistan<br>Year=%{x}<br>Value (k Euro)=%{y}<extra></extra>\",\"legendgroup\":\"Afghanistan\",\"line\":{\"color\":\"#FF6692\",\"dash\":\"solid\"},\"marker\":{\"symbol\":\"circle\"},\"mode\":\"lines\",\"name\":\"Afghanistan\",\"showlegend\":true,\"x\":[\"2010\",\"2011\",\"2012\",\"2013\",\"2014\",\"2015\",\"2016\",\"2017\",\"2018\",\"2019\",\"2020\"],\"xaxis\":\"x\",\"y\":[0.0,0.0,0.0,0.0,0.0,0.0,0.0,0.0,0.0,0.0,1.0],\"yaxis\":\"y\",\"type\":\"scattergl\"},{\"hovertemplate\":\"Exporters=Albania<br>Year=%{x}<br>Value (k Euro)=%{y}<extra></extra>\",\"legendgroup\":\"Albania\",\"line\":{\"color\":\"#B6E880\",\"dash\":\"solid\"},\"marker\":{\"symbol\":\"circle\"},\"mode\":\"lines\",\"name\":\"Albania\",\"showlegend\":true,\"x\":[\"2010\",\"2011\",\"2012\",\"2013\",\"2014\",\"2015\",\"2016\",\"2017\",\"2018\",\"2019\",\"2020\"],\"xaxis\":\"x\",\"y\":[2.0,2.0,0.0,0.0,0.0,0.0,0.0,0.0,0.0,0.0,0.0],\"yaxis\":\"y\",\"type\":\"scattergl\"},{\"hovertemplate\":\"Exporters=Solomon Islands<br>Year=%{x}<br>Value (k Euro)=%{y}<extra></extra>\",\"legendgroup\":\"Solomon Islands\",\"line\":{\"color\":\"#FF97FF\",\"dash\":\"solid\"},\"marker\":{\"symbol\":\"circle\"},\"mode\":\"lines\",\"name\":\"Solomon Islands\",\"showlegend\":true,\"x\":[\"2010\",\"2011\",\"2012\",\"2013\",\"2014\",\"2015\",\"2016\",\"2017\",\"2018\"],\"xaxis\":\"x\",\"y\":[0.0,0.0,0.0,0.0,0.0,0.0,0.0,1.0,0.0],\"yaxis\":\"y\",\"type\":\"scattergl\"},{\"hovertemplate\":\"Exporters=Cameroon<br>Year=%{x}<br>Value (k Euro)=%{y}<extra></extra>\",\"legendgroup\":\"Cameroon\",\"line\":{\"color\":\"#FECB52\",\"dash\":\"solid\"},\"marker\":{\"symbol\":\"circle\"},\"mode\":\"lines\",\"name\":\"Cameroon\",\"showlegend\":true,\"x\":[\"2010\",\"2011\",\"2012\",\"2013\",\"2014\",\"2015\",\"2016\",\"2017\",\"2018\",\"2019\",\"2020\"],\"xaxis\":\"x\",\"y\":[13.0,7.0,0.0,0.0,20.0,0.0,1.0,0.0,0.0,18.0,52.0],\"yaxis\":\"y\",\"type\":\"scattergl\"},{\"hovertemplate\":\"Exporters=Somalia<br>Year=%{x}<br>Value (k Euro)=%{y}<extra></extra>\",\"legendgroup\":\"Somalia\",\"line\":{\"color\":\"#636efa\",\"dash\":\"solid\"},\"marker\":{\"symbol\":\"circle\"},\"mode\":\"lines\",\"name\":\"Somalia\",\"showlegend\":true,\"x\":[\"2010\"],\"xaxis\":\"x\",\"y\":[8.0],\"yaxis\":\"y\",\"type\":\"scattergl\"},{\"hovertemplate\":\"Exporters=Niue<br>Year=%{x}<br>Value (k Euro)=%{y}<extra></extra>\",\"legendgroup\":\"Niue\",\"line\":{\"color\":\"#EF553B\",\"dash\":\"solid\"},\"marker\":{\"symbol\":\"circle\"},\"mode\":\"lines\",\"name\":\"Niue\",\"showlegend\":true,\"x\":[\"2010\"],\"xaxis\":\"x\",\"y\":[24.0],\"yaxis\":\"y\",\"type\":\"scattergl\"},{\"hovertemplate\":\"Exporters=New Caledonia<br>Year=%{x}<br>Value (k Euro)=%{y}<extra></extra>\",\"legendgroup\":\"New Caledonia\",\"line\":{\"color\":\"#00cc96\",\"dash\":\"solid\"},\"marker\":{\"symbol\":\"circle\"},\"mode\":\"lines\",\"name\":\"New Caledonia\",\"showlegend\":true,\"x\":[\"2010\",\"2011\",\"2012\",\"2013\",\"2014\",\"2015\",\"2017\",\"2018\",\"2019\"],\"xaxis\":\"x\",\"y\":[2.0,1.0,1.0,1.0,1.0,0.0,18.0,11.0,94.0],\"yaxis\":\"y\",\"type\":\"scattergl\"},{\"hovertemplate\":\"Exporters=Vanuatu<br>Year=%{x}<br>Value (k Euro)=%{y}<extra></extra>\",\"legendgroup\":\"Vanuatu\",\"line\":{\"color\":\"#ab63fa\",\"dash\":\"solid\"},\"marker\":{\"symbol\":\"circle\"},\"mode\":\"lines\",\"name\":\"Vanuatu\",\"showlegend\":true,\"x\":[\"2010\",\"2011\",\"2014\"],\"xaxis\":\"x\",\"y\":[0.0,0.0,1.0],\"yaxis\":\"y\",\"type\":\"scattergl\"},{\"hovertemplate\":\"Exporters=Lesotho<br>Year=%{x}<br>Value (k Euro)=%{y}<extra></extra>\",\"legendgroup\":\"Lesotho\",\"line\":{\"color\":\"#FFA15A\",\"dash\":\"solid\"},\"marker\":{\"symbol\":\"circle\"},\"mode\":\"lines\",\"name\":\"Lesotho\",\"showlegend\":true,\"x\":[\"2010\",\"2011\",\"2012\",\"2013\",\"2014\",\"2015\",\"2016\",\"2017\",\"2018\",\"2019\",\"2020\"],\"xaxis\":\"x\",\"y\":[0.0,0.0,0.0,0.0,7.0,0.0,0.0,0.0,0.0,0.0,0.0],\"yaxis\":\"y\",\"type\":\"scattergl\"},{\"hovertemplate\":\"Exporters=Malawi<br>Year=%{x}<br>Value (k Euro)=%{y}<extra></extra>\",\"legendgroup\":\"Malawi\",\"line\":{\"color\":\"#19d3f3\",\"dash\":\"solid\"},\"marker\":{\"symbol\":\"circle\"},\"mode\":\"lines\",\"name\":\"Malawi\",\"showlegend\":true,\"x\":[\"2010\",\"2011\",\"2012\",\"2013\",\"2014\",\"2015\",\"2016\",\"2017\",\"2018\",\"2019\",\"2020\"],\"xaxis\":\"x\",\"y\":[53.0,2.0,0.0,0.0,0.0,0.0,0.0,12.0,0.0,0.0,0.0],\"yaxis\":\"y\",\"type\":\"scattergl\"},{\"hovertemplate\":\"Exporters=Libya, State of<br>Year=%{x}<br>Value (k Euro)=%{y}<extra></extra>\",\"legendgroup\":\"Libya, State of\",\"line\":{\"color\":\"#FF6692\",\"dash\":\"solid\"},\"marker\":{\"symbol\":\"circle\"},\"mode\":\"lines\",\"name\":\"Libya, State of\",\"showlegend\":true,\"x\":[\"2010\",\"2015\",\"2016\",\"2017\",\"2018\",\"2019\"],\"xaxis\":\"x\",\"y\":[0.0,31.0,0.0,0.0,0.0,0.0],\"yaxis\":\"y\",\"type\":\"scattergl\"},{\"hovertemplate\":\"Exporters=Mali<br>Year=%{x}<br>Value (k Euro)=%{y}<extra></extra>\",\"legendgroup\":\"Mali\",\"line\":{\"color\":\"#B6E880\",\"dash\":\"solid\"},\"marker\":{\"symbol\":\"circle\"},\"mode\":\"lines\",\"name\":\"Mali\",\"showlegend\":true,\"x\":[\"2010\",\"2011\",\"2012\",\"2016\",\"2017\",\"2018\",\"2019\"],\"xaxis\":\"x\",\"y\":[0.0,0.0,3.0,0.0,11.0,40.0,44.0],\"yaxis\":\"y\",\"type\":\"scattergl\"},{\"hovertemplate\":\"Exporters=Netherlands Antilles<br>Year=%{x}<br>Value (k Euro)=%{y}<extra></extra>\",\"legendgroup\":\"Netherlands Antilles\",\"line\":{\"color\":\"#FF97FF\",\"dash\":\"solid\"},\"marker\":{\"symbol\":\"circle\"},\"mode\":\"lines\",\"name\":\"Netherlands Antilles\",\"showlegend\":true,\"x\":[\"2010\"],\"xaxis\":\"x\",\"y\":[2.0],\"yaxis\":\"y\",\"type\":\"scattergl\"},{\"hovertemplate\":\"Exporters=Ship stores and bunkers<br>Year=%{x}<br>Value (k Euro)=%{y}<extra></extra>\",\"legendgroup\":\"Ship stores and bunkers\",\"line\":{\"color\":\"#FECB52\",\"dash\":\"solid\"},\"marker\":{\"symbol\":\"circle\"},\"mode\":\"lines\",\"name\":\"Ship stores and bunkers\",\"showlegend\":true,\"x\":[\"2011\"],\"xaxis\":\"x\",\"y\":[2.0],\"yaxis\":\"y\",\"type\":\"scattergl\"},{\"hovertemplate\":\"Exporters=Turks and Caicos Islands<br>Year=%{x}<br>Value (k Euro)=%{y}<extra></extra>\",\"legendgroup\":\"Turks and Caicos Islands\",\"line\":{\"color\":\"#636efa\",\"dash\":\"solid\"},\"marker\":{\"symbol\":\"circle\"},\"mode\":\"lines\",\"name\":\"Turks and Caicos Islands\",\"showlegend\":true,\"x\":[\"2011\",\"2012\",\"2014\"],\"xaxis\":\"x\",\"y\":[0.0,0.0,11.0],\"yaxis\":\"y\",\"type\":\"scattergl\"},{\"hovertemplate\":\"Exporters=British Virgin Islands<br>Year=%{x}<br>Value (k Euro)=%{y}<extra></extra>\",\"legendgroup\":\"British Virgin Islands\",\"line\":{\"color\":\"#EF553B\",\"dash\":\"solid\"},\"marker\":{\"symbol\":\"circle\"},\"mode\":\"lines\",\"name\":\"British Virgin Islands\",\"showlegend\":true,\"x\":[\"2011\"],\"xaxis\":\"x\",\"y\":[19.0],\"yaxis\":\"y\",\"type\":\"scattergl\"},{\"hovertemplate\":\"Exporters=United Arab Emirates<br>Year=%{x}<br>Value (k Euro)=%{y}<extra></extra>\",\"legendgroup\":\"United Arab Emirates\",\"line\":{\"color\":\"#00cc96\",\"dash\":\"solid\"},\"marker\":{\"symbol\":\"circle\"},\"mode\":\"lines\",\"name\":\"United Arab Emirates\",\"showlegend\":true,\"x\":[\"2012\",\"2013\",\"2014\",\"2015\",\"2016\",\"2017\",\"2018\",\"2019\",\"2020\",\"2021\"],\"xaxis\":\"x\",\"y\":[14062.0,15600.0,19703.0,13139.0,5043.0,3517.0,17060.0,56714.0,8915.0,6610.0],\"yaxis\":\"y\",\"type\":\"scattergl\"},{\"hovertemplate\":\"Exporters=Sudan<br>Year=%{x}<br>Value (k Euro)=%{y}<extra></extra>\",\"legendgroup\":\"Sudan\",\"line\":{\"color\":\"#ab63fa\",\"dash\":\"solid\"},\"marker\":{\"symbol\":\"circle\"},\"mode\":\"lines\",\"name\":\"Sudan\",\"showlegend\":true,\"x\":[\"2012\",\"2013\",\"2014\",\"2015\",\"2016\",\"2017\",\"2018\",\"2020\",\"2021\"],\"xaxis\":\"x\",\"y\":[0.0,0.0,0.0,0.0,0.0,0.0,0.0,1.0,1.0],\"yaxis\":\"y\",\"type\":\"scattergl\"},{\"hovertemplate\":\"Exporters=Bermuda<br>Year=%{x}<br>Value (k Euro)=%{y}<extra></extra>\",\"legendgroup\":\"Bermuda\",\"line\":{\"color\":\"#FFA15A\",\"dash\":\"solid\"},\"marker\":{\"symbol\":\"circle\"},\"mode\":\"lines\",\"name\":\"Bermuda\",\"showlegend\":true,\"x\":[\"2012\",\"2013\",\"2014\",\"2015\",\"2016\",\"2017\",\"2018\",\"2019\",\"2020\",\"2021\"],\"xaxis\":\"x\",\"y\":[1.0,2.0,2.0,3.0,4.0,4.0,4.0,5.0,2.0,1.0],\"yaxis\":\"y\",\"type\":\"scattergl\"},{\"hovertemplate\":\"Exporters=Saint Lucia<br>Year=%{x}<br>Value (k Euro)=%{y}<extra></extra>\",\"legendgroup\":\"Saint Lucia\",\"line\":{\"color\":\"#19d3f3\",\"dash\":\"solid\"},\"marker\":{\"symbol\":\"circle\"},\"mode\":\"lines\",\"name\":\"Saint Lucia\",\"showlegend\":true,\"x\":[\"2012\",\"2013\",\"2014\",\"2015\",\"2016\",\"2017\",\"2018\",\"2019\",\"2020\"],\"xaxis\":\"x\",\"y\":[0.0,0.0,0.0,0.0,0.0,0.0,0.0,0.0,1.0],\"yaxis\":\"y\",\"type\":\"scattergl\"},{\"hovertemplate\":\"Exporters=Haiti<br>Year=%{x}<br>Value (k Euro)=%{y}<extra></extra>\",\"legendgroup\":\"Haiti\",\"line\":{\"color\":\"#FF6692\",\"dash\":\"solid\"},\"marker\":{\"symbol\":\"circle\"},\"mode\":\"lines\",\"name\":\"Haiti\",\"showlegend\":true,\"x\":[\"2013\",\"2014\",\"2015\",\"2016\",\"2017\",\"2018\",\"2019\",\"2020\",\"2021\"],\"xaxis\":\"x\",\"y\":[1.0,11.0,159.0,1147.0,65.0,3.0,38.0,2.0,4.0],\"yaxis\":\"y\",\"type\":\"scattergl\"},{\"hovertemplate\":\"Exporters=Iraq<br>Year=%{x}<br>Value (k Euro)=%{y}<extra></extra>\",\"legendgroup\":\"Iraq\",\"line\":{\"color\":\"#B6E880\",\"dash\":\"solid\"},\"marker\":{\"symbol\":\"circle\"},\"mode\":\"lines\",\"name\":\"Iraq\",\"showlegend\":true,\"x\":[\"2014\",\"2015\",\"2020\"],\"xaxis\":\"x\",\"y\":[0.0,14.0,51.0],\"yaxis\":\"y\",\"type\":\"scattergl\"},{\"hovertemplate\":\"Exporters=Sierra Leone<br>Year=%{x}<br>Value (k Euro)=%{y}<extra></extra>\",\"legendgroup\":\"Sierra Leone\",\"line\":{\"color\":\"#FF97FF\",\"dash\":\"solid\"},\"marker\":{\"symbol\":\"circle\"},\"mode\":\"lines\",\"name\":\"Sierra Leone\",\"showlegend\":true,\"x\":[\"2014\",\"2015\",\"2016\",\"2017\",\"2018\",\"2019\"],\"xaxis\":\"x\",\"y\":[0.0,0.0,0.0,1.0,0.0,16.0],\"yaxis\":\"y\",\"type\":\"scattergl\"},{\"hovertemplate\":\"Exporters=Congo, Democratic Republic of the<br>Year=%{x}<br>Value (k Euro)=%{y}<extra></extra>\",\"legendgroup\":\"Congo, Democratic Republic of the\",\"line\":{\"color\":\"#FECB52\",\"dash\":\"solid\"},\"marker\":{\"symbol\":\"circle\"},\"mode\":\"lines\",\"name\":\"Congo, Democratic Republic of the\",\"showlegend\":true,\"x\":[\"2015\",\"2016\",\"2017\",\"2018\",\"2019\",\"2020\",\"2021\"],\"xaxis\":\"x\",\"y\":[0.0,0.0,4.0,3.0,4.0,3.0,2.0],\"yaxis\":\"y\",\"type\":\"scattergl\"},{\"hovertemplate\":\"Exporters=Djibouti<br>Year=%{x}<br>Value (k Euro)=%{y}<extra></extra>\",\"legendgroup\":\"Djibouti\",\"line\":{\"color\":\"#636efa\",\"dash\":\"solid\"},\"marker\":{\"symbol\":\"circle\"},\"mode\":\"lines\",\"name\":\"Djibouti\",\"showlegend\":true,\"x\":[\"2015\"],\"xaxis\":\"x\",\"y\":[13.0],\"yaxis\":\"y\",\"type\":\"scattergl\"},{\"hovertemplate\":\"Exporters=Uzbekistan<br>Year=%{x}<br>Value (k Euro)=%{y}<extra></extra>\",\"legendgroup\":\"Uzbekistan\",\"line\":{\"color\":\"#EF553B\",\"dash\":\"solid\"},\"marker\":{\"symbol\":\"circle\"},\"mode\":\"lines\",\"name\":\"Uzbekistan\",\"showlegend\":true,\"x\":[\"2017\",\"2018\",\"2019\",\"2020\",\"2021\"],\"xaxis\":\"x\",\"y\":[65.0,36.0,199.0,128.0,531.0],\"yaxis\":\"y\",\"type\":\"scattergl\"},{\"hovertemplate\":\"Exporters=Cura\\u00e7ao<br>Year=%{x}<br>Value (k Euro)=%{y}<extra></extra>\",\"legendgroup\":\"Cura\\u00e7ao\",\"line\":{\"color\":\"#00cc96\",\"dash\":\"solid\"},\"marker\":{\"symbol\":\"circle\"},\"mode\":\"lines\",\"name\":\"Cura\\u00e7ao\",\"showlegend\":true,\"x\":[\"2017\",\"2018\",\"2019\",\"2020\",\"2021\"],\"xaxis\":\"x\",\"y\":[0.0,0.0,0.0,0.0,10.0],\"yaxis\":\"y\",\"type\":\"scattergl\"},{\"hovertemplate\":\"Exporters=American Samoa<br>Year=%{x}<br>Value (k Euro)=%{y}<extra></extra>\",\"legendgroup\":\"American Samoa\",\"line\":{\"color\":\"#ab63fa\",\"dash\":\"solid\"},\"marker\":{\"symbol\":\"circle\"},\"mode\":\"lines\",\"name\":\"American Samoa\",\"showlegend\":true,\"x\":[\"2018\"],\"xaxis\":\"x\",\"y\":[1.0],\"yaxis\":\"y\",\"type\":\"scattergl\"}],                        {\"template\":{\"data\":{\"bar\":[{\"error_x\":{\"color\":\"#2a3f5f\"},\"error_y\":{\"color\":\"#2a3f5f\"},\"marker\":{\"line\":{\"color\":\"#E5ECF6\",\"width\":0.5},\"pattern\":{\"fillmode\":\"overlay\",\"size\":10,\"solidity\":0.2}},\"type\":\"bar\"}],\"barpolar\":[{\"marker\":{\"line\":{\"color\":\"#E5ECF6\",\"width\":0.5},\"pattern\":{\"fillmode\":\"overlay\",\"size\":10,\"solidity\":0.2}},\"type\":\"barpolar\"}],\"carpet\":[{\"aaxis\":{\"endlinecolor\":\"#2a3f5f\",\"gridcolor\":\"white\",\"linecolor\":\"white\",\"minorgridcolor\":\"white\",\"startlinecolor\":\"#2a3f5f\"},\"baxis\":{\"endlinecolor\":\"#2a3f5f\",\"gridcolor\":\"white\",\"linecolor\":\"white\",\"minorgridcolor\":\"white\",\"startlinecolor\":\"#2a3f5f\"},\"type\":\"carpet\"}],\"choropleth\":[{\"colorbar\":{\"outlinewidth\":0,\"ticks\":\"\"},\"type\":\"choropleth\"}],\"contour\":[{\"colorbar\":{\"outlinewidth\":0,\"ticks\":\"\"},\"colorscale\":[[0.0,\"#0d0887\"],[0.1111111111111111,\"#46039f\"],[0.2222222222222222,\"#7201a8\"],[0.3333333333333333,\"#9c179e\"],[0.4444444444444444,\"#bd3786\"],[0.5555555555555556,\"#d8576b\"],[0.6666666666666666,\"#ed7953\"],[0.7777777777777778,\"#fb9f3a\"],[0.8888888888888888,\"#fdca26\"],[1.0,\"#f0f921\"]],\"type\":\"contour\"}],\"contourcarpet\":[{\"colorbar\":{\"outlinewidth\":0,\"ticks\":\"\"},\"type\":\"contourcarpet\"}],\"heatmap\":[{\"colorbar\":{\"outlinewidth\":0,\"ticks\":\"\"},\"colorscale\":[[0.0,\"#0d0887\"],[0.1111111111111111,\"#46039f\"],[0.2222222222222222,\"#7201a8\"],[0.3333333333333333,\"#9c179e\"],[0.4444444444444444,\"#bd3786\"],[0.5555555555555556,\"#d8576b\"],[0.6666666666666666,\"#ed7953\"],[0.7777777777777778,\"#fb9f3a\"],[0.8888888888888888,\"#fdca26\"],[1.0,\"#f0f921\"]],\"type\":\"heatmap\"}],\"heatmapgl\":[{\"colorbar\":{\"outlinewidth\":0,\"ticks\":\"\"},\"colorscale\":[[0.0,\"#0d0887\"],[0.1111111111111111,\"#46039f\"],[0.2222222222222222,\"#7201a8\"],[0.3333333333333333,\"#9c179e\"],[0.4444444444444444,\"#bd3786\"],[0.5555555555555556,\"#d8576b\"],[0.6666666666666666,\"#ed7953\"],[0.7777777777777778,\"#fb9f3a\"],[0.8888888888888888,\"#fdca26\"],[1.0,\"#f0f921\"]],\"type\":\"heatmapgl\"}],\"histogram\":[{\"marker\":{\"pattern\":{\"fillmode\":\"overlay\",\"size\":10,\"solidity\":0.2}},\"type\":\"histogram\"}],\"histogram2d\":[{\"colorbar\":{\"outlinewidth\":0,\"ticks\":\"\"},\"colorscale\":[[0.0,\"#0d0887\"],[0.1111111111111111,\"#46039f\"],[0.2222222222222222,\"#7201a8\"],[0.3333333333333333,\"#9c179e\"],[0.4444444444444444,\"#bd3786\"],[0.5555555555555556,\"#d8576b\"],[0.6666666666666666,\"#ed7953\"],[0.7777777777777778,\"#fb9f3a\"],[0.8888888888888888,\"#fdca26\"],[1.0,\"#f0f921\"]],\"type\":\"histogram2d\"}],\"histogram2dcontour\":[{\"colorbar\":{\"outlinewidth\":0,\"ticks\":\"\"},\"colorscale\":[[0.0,\"#0d0887\"],[0.1111111111111111,\"#46039f\"],[0.2222222222222222,\"#7201a8\"],[0.3333333333333333,\"#9c179e\"],[0.4444444444444444,\"#bd3786\"],[0.5555555555555556,\"#d8576b\"],[0.6666666666666666,\"#ed7953\"],[0.7777777777777778,\"#fb9f3a\"],[0.8888888888888888,\"#fdca26\"],[1.0,\"#f0f921\"]],\"type\":\"histogram2dcontour\"}],\"mesh3d\":[{\"colorbar\":{\"outlinewidth\":0,\"ticks\":\"\"},\"type\":\"mesh3d\"}],\"parcoords\":[{\"line\":{\"colorbar\":{\"outlinewidth\":0,\"ticks\":\"\"}},\"type\":\"parcoords\"}],\"pie\":[{\"automargin\":true,\"type\":\"pie\"}],\"scatter\":[{\"marker\":{\"colorbar\":{\"outlinewidth\":0,\"ticks\":\"\"}},\"type\":\"scatter\"}],\"scatter3d\":[{\"line\":{\"colorbar\":{\"outlinewidth\":0,\"ticks\":\"\"}},\"marker\":{\"colorbar\":{\"outlinewidth\":0,\"ticks\":\"\"}},\"type\":\"scatter3d\"}],\"scattercarpet\":[{\"marker\":{\"colorbar\":{\"outlinewidth\":0,\"ticks\":\"\"}},\"type\":\"scattercarpet\"}],\"scattergeo\":[{\"marker\":{\"colorbar\":{\"outlinewidth\":0,\"ticks\":\"\"}},\"type\":\"scattergeo\"}],\"scattergl\":[{\"marker\":{\"colorbar\":{\"outlinewidth\":0,\"ticks\":\"\"}},\"type\":\"scattergl\"}],\"scattermapbox\":[{\"marker\":{\"colorbar\":{\"outlinewidth\":0,\"ticks\":\"\"}},\"type\":\"scattermapbox\"}],\"scatterpolar\":[{\"marker\":{\"colorbar\":{\"outlinewidth\":0,\"ticks\":\"\"}},\"type\":\"scatterpolar\"}],\"scatterpolargl\":[{\"marker\":{\"colorbar\":{\"outlinewidth\":0,\"ticks\":\"\"}},\"type\":\"scatterpolargl\"}],\"scatterternary\":[{\"marker\":{\"colorbar\":{\"outlinewidth\":0,\"ticks\":\"\"}},\"type\":\"scatterternary\"}],\"surface\":[{\"colorbar\":{\"outlinewidth\":0,\"ticks\":\"\"},\"colorscale\":[[0.0,\"#0d0887\"],[0.1111111111111111,\"#46039f\"],[0.2222222222222222,\"#7201a8\"],[0.3333333333333333,\"#9c179e\"],[0.4444444444444444,\"#bd3786\"],[0.5555555555555556,\"#d8576b\"],[0.6666666666666666,\"#ed7953\"],[0.7777777777777778,\"#fb9f3a\"],[0.8888888888888888,\"#fdca26\"],[1.0,\"#f0f921\"]],\"type\":\"surface\"}],\"table\":[{\"cells\":{\"fill\":{\"color\":\"#EBF0F8\"},\"line\":{\"color\":\"white\"}},\"header\":{\"fill\":{\"color\":\"#C8D4E3\"},\"line\":{\"color\":\"white\"}},\"type\":\"table\"}]},\"layout\":{\"annotationdefaults\":{\"arrowcolor\":\"#2a3f5f\",\"arrowhead\":0,\"arrowwidth\":1},\"autotypenumbers\":\"strict\",\"coloraxis\":{\"colorbar\":{\"outlinewidth\":0,\"ticks\":\"\"}},\"colorscale\":{\"diverging\":[[0,\"#8e0152\"],[0.1,\"#c51b7d\"],[0.2,\"#de77ae\"],[0.3,\"#f1b6da\"],[0.4,\"#fde0ef\"],[0.5,\"#f7f7f7\"],[0.6,\"#e6f5d0\"],[0.7,\"#b8e186\"],[0.8,\"#7fbc41\"],[0.9,\"#4d9221\"],[1,\"#276419\"]],\"sequential\":[[0.0,\"#0d0887\"],[0.1111111111111111,\"#46039f\"],[0.2222222222222222,\"#7201a8\"],[0.3333333333333333,\"#9c179e\"],[0.4444444444444444,\"#bd3786\"],[0.5555555555555556,\"#d8576b\"],[0.6666666666666666,\"#ed7953\"],[0.7777777777777778,\"#fb9f3a\"],[0.8888888888888888,\"#fdca26\"],[1.0,\"#f0f921\"]],\"sequentialminus\":[[0.0,\"#0d0887\"],[0.1111111111111111,\"#46039f\"],[0.2222222222222222,\"#7201a8\"],[0.3333333333333333,\"#9c179e\"],[0.4444444444444444,\"#bd3786\"],[0.5555555555555556,\"#d8576b\"],[0.6666666666666666,\"#ed7953\"],[0.7777777777777778,\"#fb9f3a\"],[0.8888888888888888,\"#fdca26\"],[1.0,\"#f0f921\"]]},\"colorway\":[\"#636efa\",\"#EF553B\",\"#00cc96\",\"#ab63fa\",\"#FFA15A\",\"#19d3f3\",\"#FF6692\",\"#B6E880\",\"#FF97FF\",\"#FECB52\"],\"font\":{\"color\":\"#2a3f5f\"},\"geo\":{\"bgcolor\":\"white\",\"lakecolor\":\"white\",\"landcolor\":\"#E5ECF6\",\"showlakes\":true,\"showland\":true,\"subunitcolor\":\"white\"},\"hoverlabel\":{\"align\":\"left\"},\"hovermode\":\"closest\",\"mapbox\":{\"style\":\"light\"},\"paper_bgcolor\":\"white\",\"plot_bgcolor\":\"#E5ECF6\",\"polar\":{\"angularaxis\":{\"gridcolor\":\"white\",\"linecolor\":\"white\",\"ticks\":\"\"},\"bgcolor\":\"#E5ECF6\",\"radialaxis\":{\"gridcolor\":\"white\",\"linecolor\":\"white\",\"ticks\":\"\"}},\"scene\":{\"xaxis\":{\"backgroundcolor\":\"#E5ECF6\",\"gridcolor\":\"white\",\"gridwidth\":2,\"linecolor\":\"white\",\"showbackground\":true,\"ticks\":\"\",\"zerolinecolor\":\"white\"},\"yaxis\":{\"backgroundcolor\":\"#E5ECF6\",\"gridcolor\":\"white\",\"gridwidth\":2,\"linecolor\":\"white\",\"showbackground\":true,\"ticks\":\"\",\"zerolinecolor\":\"white\"},\"zaxis\":{\"backgroundcolor\":\"#E5ECF6\",\"gridcolor\":\"white\",\"gridwidth\":2,\"linecolor\":\"white\",\"showbackground\":true,\"ticks\":\"\",\"zerolinecolor\":\"white\"}},\"shapedefaults\":{\"line\":{\"color\":\"#2a3f5f\"}},\"ternary\":{\"aaxis\":{\"gridcolor\":\"white\",\"linecolor\":\"white\",\"ticks\":\"\"},\"baxis\":{\"gridcolor\":\"white\",\"linecolor\":\"white\",\"ticks\":\"\"},\"bgcolor\":\"#E5ECF6\",\"caxis\":{\"gridcolor\":\"white\",\"linecolor\":\"white\",\"ticks\":\"\"}},\"title\":{\"x\":0.05},\"xaxis\":{\"automargin\":true,\"gridcolor\":\"white\",\"linecolor\":\"white\",\"ticks\":\"\",\"title\":{\"standoff\":15},\"zerolinecolor\":\"white\",\"zerolinewidth\":2},\"yaxis\":{\"automargin\":true,\"gridcolor\":\"white\",\"linecolor\":\"white\",\"ticks\":\"\",\"title\":{\"standoff\":15},\"zerolinecolor\":\"white\",\"zerolinewidth\":2}}},\"xaxis\":{\"anchor\":\"y\",\"domain\":[0.0,1.0],\"title\":{\"text\":\"Year\"}},\"yaxis\":{\"anchor\":\"x\",\"domain\":[0.0,1.0],\"title\":{\"text\":\"Value (k Euro)\"}},\"legend\":{\"title\":{\"text\":\"Exporters\"},\"tracegroupgap\":0},\"title\":{\"text\":\"Butter Export Values - All Countries\"}},                        {\"responsive\": true}                    ).then(function(){\n",
       "                            \n",
       "var gd = document.getElementById('705fae3f-17c5-4edf-a580-9a4a640be766');\n",
       "var x = new MutationObserver(function (mutations, observer) {{\n",
       "        var display = window.getComputedStyle(gd).display;\n",
       "        if (!display || display === 'none') {{\n",
       "            console.log([gd, 'removed!']);\n",
       "            Plotly.purge(gd);\n",
       "            observer.disconnect();\n",
       "        }}\n",
       "}});\n",
       "\n",
       "// Listen for the removal of the full notebook cells\n",
       "var notebookContainer = gd.closest('#notebook-container');\n",
       "if (notebookContainer) {{\n",
       "    x.observe(notebookContainer, {childList: true});\n",
       "}}\n",
       "\n",
       "// Listen for the clearing of the current output cell\n",
       "var outputEl = gd.closest('.output');\n",
       "if (outputEl) {{\n",
       "    x.observe(outputEl, {childList: true});\n",
       "}}\n",
       "\n",
       "                        })                };                });            </script>        </div>"
      ]
     },
     "metadata": {},
     "output_type": "display_data"
    }
   ],
   "source": [
    "# df_global.sort_values(by=['Year','Value (k Euro)'],ascending=False,inplace=True)\n",
    "fig = px.line(df_global, \n",
    "              x='Year', \n",
    "              y='Value (k Euro)', \n",
    "              color='Exporters', \n",
    "              title='Butter Export Values - All Countries')\n",
    "fig.show()"
   ]
  },
  {
   "cell_type": "markdown",
   "id": "b1ae7ed2",
   "metadata": {},
   "source": [
    "## 1.1 EU Data"
   ]
  },
  {
   "cell_type": "code",
   "execution_count": 20,
   "id": "2402fd64",
   "metadata": {},
   "outputs": [
    {
     "data": {
      "text/html": [
       "<div>\n",
       "<style scoped>\n",
       "    .dataframe tbody tr th:only-of-type {\n",
       "        vertical-align: middle;\n",
       "    }\n",
       "\n",
       "    .dataframe tbody tr th {\n",
       "        vertical-align: top;\n",
       "    }\n",
       "\n",
       "    .dataframe thead th {\n",
       "        text-align: right;\n",
       "    }\n",
       "</style>\n",
       "<table border=\"1\" class=\"dataframe\">\n",
       "  <thead>\n",
       "    <tr style=\"text-align: right;\">\n",
       "      <th></th>\n",
       "      <th>Flow</th>\n",
       "      <th>Marketing Year</th>\n",
       "      <th>Month</th>\n",
       "      <th>Month Order in MY</th>\n",
       "      <th>Month Date</th>\n",
       "      <th>Member State</th>\n",
       "      <th>Partner</th>\n",
       "      <th>Product Group</th>\n",
       "      <th>Product Code (CN)</th>\n",
       "      <th>Quantity in tonnes</th>\n",
       "      <th>Value in thousand euro</th>\n",
       "    </tr>\n",
       "  </thead>\n",
       "  <tbody>\n",
       "    <tr>\n",
       "      <th>0</th>\n",
       "      <td>EXPORT</td>\n",
       "      <td>2022</td>\n",
       "      <td>Oct</td>\n",
       "      <td>10</td>\n",
       "      <td>01/10/2022</td>\n",
       "      <td>Austria</td>\n",
       "      <td>Albania</td>\n",
       "      <td>Cheese</td>\n",
       "      <td>4063039</td>\n",
       "      <td>17.677</td>\n",
       "      <td>86.192</td>\n",
       "    </tr>\n",
       "    <tr>\n",
       "      <th>1</th>\n",
       "      <td>EXPORT</td>\n",
       "      <td>2022</td>\n",
       "      <td>Oct</td>\n",
       "      <td>10</td>\n",
       "      <td>01/10/2022</td>\n",
       "      <td>Austria</td>\n",
       "      <td>Angola</td>\n",
       "      <td>Cheese</td>\n",
       "      <td>4061050</td>\n",
       "      <td>0.472</td>\n",
       "      <td>2.189</td>\n",
       "    </tr>\n",
       "    <tr>\n",
       "      <th>2</th>\n",
       "      <td>EXPORT</td>\n",
       "      <td>2022</td>\n",
       "      <td>Oct</td>\n",
       "      <td>10</td>\n",
       "      <td>01/10/2022</td>\n",
       "      <td>Austria</td>\n",
       "      <td>Angola</td>\n",
       "      <td>Cheese</td>\n",
       "      <td>4063031</td>\n",
       "      <td>9.862</td>\n",
       "      <td>41.178</td>\n",
       "    </tr>\n",
       "    <tr>\n",
       "      <th>3</th>\n",
       "      <td>EXPORT</td>\n",
       "      <td>2022</td>\n",
       "      <td>Oct</td>\n",
       "      <td>10</td>\n",
       "      <td>01/10/2022</td>\n",
       "      <td>Austria</td>\n",
       "      <td>Angola</td>\n",
       "      <td>Cheese</td>\n",
       "      <td>4063039</td>\n",
       "      <td>3.177</td>\n",
       "      <td>14.467</td>\n",
       "    </tr>\n",
       "    <tr>\n",
       "      <th>4</th>\n",
       "      <td>EXPORT</td>\n",
       "      <td>2022</td>\n",
       "      <td>Oct</td>\n",
       "      <td>10</td>\n",
       "      <td>01/10/2022</td>\n",
       "      <td>Austria</td>\n",
       "      <td>Antigua and Barbuda</td>\n",
       "      <td>Cheese</td>\n",
       "      <td>4063031</td>\n",
       "      <td>1.800</td>\n",
       "      <td>9.212</td>\n",
       "    </tr>\n",
       "  </tbody>\n",
       "</table>\n",
       "</div>"
      ],
      "text/plain": [
       "     Flow  Marketing Year Month  Month Order in MY  Month Date Member State  \\\n",
       "0  EXPORT            2022   Oct                 10  01/10/2022      Austria   \n",
       "1  EXPORT            2022   Oct                 10  01/10/2022      Austria   \n",
       "2  EXPORT            2022   Oct                 10  01/10/2022      Austria   \n",
       "3  EXPORT            2022   Oct                 10  01/10/2022      Austria   \n",
       "4  EXPORT            2022   Oct                 10  01/10/2022      Austria   \n",
       "\n",
       "               Partner Product Group  Product Code (CN)  Quantity in tonnes  \\\n",
       "0              Albania        Cheese            4063039              17.677   \n",
       "1               Angola        Cheese            4061050               0.472   \n",
       "2               Angola        Cheese            4063031               9.862   \n",
       "3               Angola        Cheese            4063039               3.177   \n",
       "4  Antigua and Barbuda        Cheese            4063031               1.800   \n",
       "\n",
       "   Value in thousand euro  \n",
       "0                  86.192  \n",
       "1                   2.189  \n",
       "2                  41.178  \n",
       "3                  14.467  \n",
       "4                   9.212  "
      ]
     },
     "execution_count": 20,
     "metadata": {},
     "output_type": "execute_result"
    }
   ],
   "source": [
    "df_eu = pd.read_csv('Data/EU_MILK_trade_data_en.csv')\n",
    "df_eu.head()"
   ]
  },
  {
   "cell_type": "code",
   "execution_count": null,
   "id": "f13a447b",
   "metadata": {},
   "outputs": [],
   "source": []
  },
  {
   "cell_type": "code",
   "execution_count": null,
   "id": "0b6e665a",
   "metadata": {},
   "outputs": [],
   "source": []
  },
  {
   "cell_type": "code",
   "execution_count": 21,
   "id": "397d951d",
   "metadata": {},
   "outputs": [
    {
     "data": {
      "text/html": [
       "<div>\n",
       "<style scoped>\n",
       "    .dataframe tbody tr th:only-of-type {\n",
       "        vertical-align: middle;\n",
       "    }\n",
       "\n",
       "    .dataframe tbody tr th {\n",
       "        vertical-align: top;\n",
       "    }\n",
       "\n",
       "    .dataframe thead th {\n",
       "        text-align: right;\n",
       "    }\n",
       "</style>\n",
       "<table border=\"1\" class=\"dataframe\">\n",
       "  <thead>\n",
       "    <tr style=\"text-align: right;\">\n",
       "      <th></th>\n",
       "      <th>Flow</th>\n",
       "      <th>Marketing Year</th>\n",
       "      <th>Month</th>\n",
       "      <th>Month Order in MY</th>\n",
       "      <th>Month Date</th>\n",
       "      <th>Member State</th>\n",
       "      <th>Partner</th>\n",
       "      <th>Product Group</th>\n",
       "      <th>Product Code (CN)</th>\n",
       "      <th>Quantity in tonnes</th>\n",
       "      <th>Value in thousand euro</th>\n",
       "    </tr>\n",
       "  </thead>\n",
       "  <tbody>\n",
       "    <tr>\n",
       "      <th>5501</th>\n",
       "      <td>EXPORT</td>\n",
       "      <td>2022</td>\n",
       "      <td>Oct</td>\n",
       "      <td>10</td>\n",
       "      <td>01/10/2022</td>\n",
       "      <td>Ireland</td>\n",
       "      <td>Australia</td>\n",
       "      <td>Butter</td>\n",
       "      <td>4051011</td>\n",
       "      <td>20.060</td>\n",
       "      <td>142.579</td>\n",
       "    </tr>\n",
       "    <tr>\n",
       "      <th>5503</th>\n",
       "      <td>EXPORT</td>\n",
       "      <td>2022</td>\n",
       "      <td>Oct</td>\n",
       "      <td>10</td>\n",
       "      <td>01/10/2022</td>\n",
       "      <td>Ireland</td>\n",
       "      <td>Bahrain</td>\n",
       "      <td>Butteroil</td>\n",
       "      <td>4051090</td>\n",
       "      <td>0.054</td>\n",
       "      <td>0.176</td>\n",
       "    </tr>\n",
       "    <tr>\n",
       "      <th>5521</th>\n",
       "      <td>EXPORT</td>\n",
       "      <td>2022</td>\n",
       "      <td>Oct</td>\n",
       "      <td>10</td>\n",
       "      <td>01/10/2022</td>\n",
       "      <td>Ireland</td>\n",
       "      <td>Cayman islands</td>\n",
       "      <td>Butter</td>\n",
       "      <td>4051011</td>\n",
       "      <td>9.355</td>\n",
       "      <td>86.842</td>\n",
       "    </tr>\n",
       "    <tr>\n",
       "      <th>5523</th>\n",
       "      <td>EXPORT</td>\n",
       "      <td>2022</td>\n",
       "      <td>Oct</td>\n",
       "      <td>10</td>\n",
       "      <td>01/10/2022</td>\n",
       "      <td>Ireland</td>\n",
       "      <td>China</td>\n",
       "      <td>Butter</td>\n",
       "      <td>4051011</td>\n",
       "      <td>23.280</td>\n",
       "      <td>141.778</td>\n",
       "    </tr>\n",
       "    <tr>\n",
       "      <th>5549</th>\n",
       "      <td>EXPORT</td>\n",
       "      <td>2022</td>\n",
       "      <td>Oct</td>\n",
       "      <td>10</td>\n",
       "      <td>01/10/2022</td>\n",
       "      <td>Ireland</td>\n",
       "      <td>Gibraltar</td>\n",
       "      <td>Butter</td>\n",
       "      <td>4051011</td>\n",
       "      <td>0.960</td>\n",
       "      <td>8.074</td>\n",
       "    </tr>\n",
       "    <tr>\n",
       "      <th>...</th>\n",
       "      <td>...</td>\n",
       "      <td>...</td>\n",
       "      <td>...</td>\n",
       "      <td>...</td>\n",
       "      <td>...</td>\n",
       "      <td>...</td>\n",
       "      <td>...</td>\n",
       "      <td>...</td>\n",
       "      <td>...</td>\n",
       "      <td>...</td>\n",
       "      <td>...</td>\n",
       "    </tr>\n",
       "    <tr>\n",
       "      <th>1463273</th>\n",
       "      <td>EXPORT</td>\n",
       "      <td>2010</td>\n",
       "      <td>Jan</td>\n",
       "      <td>1</td>\n",
       "      <td>01/01/2010</td>\n",
       "      <td>Ireland</td>\n",
       "      <td>Gibraltar</td>\n",
       "      <td>Butter</td>\n",
       "      <td>4051011</td>\n",
       "      <td>5.294</td>\n",
       "      <td>17.755</td>\n",
       "    </tr>\n",
       "    <tr>\n",
       "      <th>1463297</th>\n",
       "      <td>EXPORT</td>\n",
       "      <td>2010</td>\n",
       "      <td>Jan</td>\n",
       "      <td>1</td>\n",
       "      <td>01/01/2010</td>\n",
       "      <td>Ireland</td>\n",
       "      <td>Oman</td>\n",
       "      <td>Butter</td>\n",
       "      <td>4051011</td>\n",
       "      <td>9.759</td>\n",
       "      <td>33.768</td>\n",
       "    </tr>\n",
       "    <tr>\n",
       "      <th>1463302</th>\n",
       "      <td>EXPORT</td>\n",
       "      <td>2010</td>\n",
       "      <td>Jan</td>\n",
       "      <td>1</td>\n",
       "      <td>01/01/2010</td>\n",
       "      <td>Ireland</td>\n",
       "      <td>South Africa</td>\n",
       "      <td>Butter</td>\n",
       "      <td>4051011</td>\n",
       "      <td>40.936</td>\n",
       "      <td>147.687</td>\n",
       "    </tr>\n",
       "    <tr>\n",
       "      <th>1463311</th>\n",
       "      <td>EXPORT</td>\n",
       "      <td>2010</td>\n",
       "      <td>Jan</td>\n",
       "      <td>1</td>\n",
       "      <td>01/01/2010</td>\n",
       "      <td>Ireland</td>\n",
       "      <td>Trinidad and Tobago</td>\n",
       "      <td>Butter</td>\n",
       "      <td>4051011</td>\n",
       "      <td>17.335</td>\n",
       "      <td>62.713</td>\n",
       "    </tr>\n",
       "    <tr>\n",
       "      <th>1463328</th>\n",
       "      <td>EXPORT</td>\n",
       "      <td>2010</td>\n",
       "      <td>Jan</td>\n",
       "      <td>1</td>\n",
       "      <td>01/01/2010</td>\n",
       "      <td>Ireland</td>\n",
       "      <td>Venezuela</td>\n",
       "      <td>Butter</td>\n",
       "      <td>4051011</td>\n",
       "      <td>13.709</td>\n",
       "      <td>53.258</td>\n",
       "    </tr>\n",
       "  </tbody>\n",
       "</table>\n",
       "<p>3151 rows × 11 columns</p>\n",
       "</div>"
      ],
      "text/plain": [
       "           Flow  Marketing Year Month  Month Order in MY  Month Date  \\\n",
       "5501     EXPORT            2022   Oct                 10  01/10/2022   \n",
       "5503     EXPORT            2022   Oct                 10  01/10/2022   \n",
       "5521     EXPORT            2022   Oct                 10  01/10/2022   \n",
       "5523     EXPORT            2022   Oct                 10  01/10/2022   \n",
       "5549     EXPORT            2022   Oct                 10  01/10/2022   \n",
       "...         ...             ...   ...                ...         ...   \n",
       "1463273  EXPORT            2010   Jan                  1  01/01/2010   \n",
       "1463297  EXPORT            2010   Jan                  1  01/01/2010   \n",
       "1463302  EXPORT            2010   Jan                  1  01/01/2010   \n",
       "1463311  EXPORT            2010   Jan                  1  01/01/2010   \n",
       "1463328  EXPORT            2010   Jan                  1  01/01/2010   \n",
       "\n",
       "        Member State              Partner Product Group  Product Code (CN)  \\\n",
       "5501         Ireland            Australia        Butter            4051011   \n",
       "5503         Ireland              Bahrain     Butteroil            4051090   \n",
       "5521         Ireland       Cayman islands        Butter            4051011   \n",
       "5523         Ireland                China        Butter            4051011   \n",
       "5549         Ireland            Gibraltar        Butter            4051011   \n",
       "...              ...                  ...           ...                ...   \n",
       "1463273      Ireland            Gibraltar        Butter            4051011   \n",
       "1463297      Ireland                 Oman        Butter            4051011   \n",
       "1463302      Ireland         South Africa        Butter            4051011   \n",
       "1463311      Ireland  Trinidad and Tobago        Butter            4051011   \n",
       "1463328      Ireland            Venezuela        Butter            4051011   \n",
       "\n",
       "         Quantity in tonnes  Value in thousand euro  \n",
       "5501                 20.060                 142.579  \n",
       "5503                  0.054                   0.176  \n",
       "5521                  9.355                  86.842  \n",
       "5523                 23.280                 141.778  \n",
       "5549                  0.960                   8.074  \n",
       "...                     ...                     ...  \n",
       "1463273               5.294                  17.755  \n",
       "1463297               9.759                  33.768  \n",
       "1463302              40.936                 147.687  \n",
       "1463311              17.335                  62.713  \n",
       "1463328              13.709                  53.258  \n",
       "\n",
       "[3151 rows x 11 columns]"
      ]
     },
     "execution_count": 21,
     "metadata": {},
     "output_type": "execute_result"
    }
   ],
   "source": [
    "df = df_eu[(df_eu['Member State']=='Ireland') & \n",
    "           (df_eu['Product Code (CN)'].astype('string').str[:5]=='40510') & \n",
    "           (df_eu['Flow']=='EXPORT')]\n",
    "df"
   ]
  },
  {
   "cell_type": "code",
   "execution_count": null,
   "id": "d4f763c2",
   "metadata": {},
   "outputs": [],
   "source": []
  },
  {
   "cell_type": "code",
   "execution_count": null,
   "id": "1a25bc3c",
   "metadata": {},
   "outputs": [],
   "source": []
  },
  {
   "cell_type": "code",
   "execution_count": null,
   "id": "6b05993d",
   "metadata": {},
   "outputs": [],
   "source": []
  },
  {
   "cell_type": "code",
   "execution_count": null,
   "id": "afd5acb7",
   "metadata": {},
   "outputs": [],
   "source": []
  },
  {
   "cell_type": "code",
   "execution_count": null,
   "id": "b8d97bf5",
   "metadata": {},
   "outputs": [],
   "source": []
  },
  {
   "cell_type": "code",
   "execution_count": null,
   "id": "786c9879",
   "metadata": {},
   "outputs": [],
   "source": []
  },
  {
   "cell_type": "code",
   "execution_count": 22,
   "id": "39111e91",
   "metadata": {},
   "outputs": [
    {
     "data": {
      "text/html": [
       "<div>\n",
       "<style scoped>\n",
       "    .dataframe tbody tr th:only-of-type {\n",
       "        vertical-align: middle;\n",
       "    }\n",
       "\n",
       "    .dataframe tbody tr th {\n",
       "        vertical-align: top;\n",
       "    }\n",
       "\n",
       "    .dataframe thead th {\n",
       "        text-align: right;\n",
       "    }\n",
       "</style>\n",
       "<table border=\"1\" class=\"dataframe\">\n",
       "  <thead>\n",
       "    <tr style=\"text-align: right;\">\n",
       "      <th></th>\n",
       "      <th>Flow</th>\n",
       "      <th>Partner</th>\n",
       "      <th>Month Date</th>\n",
       "      <th>Month</th>\n",
       "      <th>Marketing Year</th>\n",
       "      <th>Month Order in MY</th>\n",
       "      <th>Product Code (CN)</th>\n",
       "      <th>Quantity in tonnes</th>\n",
       "      <th>Value in thousand euro</th>\n",
       "    </tr>\n",
       "  </thead>\n",
       "  <tbody>\n",
       "    <tr>\n",
       "      <th>0</th>\n",
       "      <td>EXPORT</td>\n",
       "      <td>Algeria</td>\n",
       "      <td>01/01/2011</td>\n",
       "      <td>Jan</td>\n",
       "      <td>2011</td>\n",
       "      <td>1</td>\n",
       "      <td>4051019</td>\n",
       "      <td>208.000</td>\n",
       "      <td>707.200</td>\n",
       "    </tr>\n",
       "    <tr>\n",
       "      <th>1</th>\n",
       "      <td>EXPORT</td>\n",
       "      <td>Algeria</td>\n",
       "      <td>01/01/2015</td>\n",
       "      <td>Jan</td>\n",
       "      <td>2015</td>\n",
       "      <td>1</td>\n",
       "      <td>4051019</td>\n",
       "      <td>50.000</td>\n",
       "      <td>151.500</td>\n",
       "    </tr>\n",
       "    <tr>\n",
       "      <th>2</th>\n",
       "      <td>EXPORT</td>\n",
       "      <td>Algeria</td>\n",
       "      <td>01/01/2019</td>\n",
       "      <td>Jan</td>\n",
       "      <td>2019</td>\n",
       "      <td>1</td>\n",
       "      <td>4051019</td>\n",
       "      <td>100.000</td>\n",
       "      <td>415.000</td>\n",
       "    </tr>\n",
       "    <tr>\n",
       "      <th>3</th>\n",
       "      <td>EXPORT</td>\n",
       "      <td>Algeria</td>\n",
       "      <td>01/01/2020</td>\n",
       "      <td>Jan</td>\n",
       "      <td>2020</td>\n",
       "      <td>1</td>\n",
       "      <td>4051019</td>\n",
       "      <td>49.750</td>\n",
       "      <td>178.603</td>\n",
       "    </tr>\n",
       "    <tr>\n",
       "      <th>4</th>\n",
       "      <td>EXPORT</td>\n",
       "      <td>Algeria</td>\n",
       "      <td>01/02/2017</td>\n",
       "      <td>Feb</td>\n",
       "      <td>2017</td>\n",
       "      <td>2</td>\n",
       "      <td>4051019</td>\n",
       "      <td>25.000</td>\n",
       "      <td>104.500</td>\n",
       "    </tr>\n",
       "    <tr>\n",
       "      <th>...</th>\n",
       "      <td>...</td>\n",
       "      <td>...</td>\n",
       "      <td>...</td>\n",
       "      <td>...</td>\n",
       "      <td>...</td>\n",
       "      <td>...</td>\n",
       "      <td>...</td>\n",
       "      <td>...</td>\n",
       "      <td>...</td>\n",
       "    </tr>\n",
       "    <tr>\n",
       "      <th>2603</th>\n",
       "      <td>EXPORT</td>\n",
       "      <td>Zambia</td>\n",
       "      <td>01/07/2012</td>\n",
       "      <td>Jul</td>\n",
       "      <td>2012</td>\n",
       "      <td>7</td>\n",
       "      <td>4051011</td>\n",
       "      <td>7.200</td>\n",
       "      <td>36.310</td>\n",
       "    </tr>\n",
       "    <tr>\n",
       "      <th>2604</th>\n",
       "      <td>EXPORT</td>\n",
       "      <td>Zambia</td>\n",
       "      <td>01/12/2011</td>\n",
       "      <td>Dec</td>\n",
       "      <td>2011</td>\n",
       "      <td>12</td>\n",
       "      <td>4051011</td>\n",
       "      <td>9.169</td>\n",
       "      <td>43.118</td>\n",
       "    </tr>\n",
       "    <tr>\n",
       "      <th>2605</th>\n",
       "      <td>EXPORT</td>\n",
       "      <td>Zimbabwe</td>\n",
       "      <td>01/04/2016</td>\n",
       "      <td>Apr</td>\n",
       "      <td>2016</td>\n",
       "      <td>4</td>\n",
       "      <td>4051011</td>\n",
       "      <td>5.000</td>\n",
       "      <td>18.513</td>\n",
       "    </tr>\n",
       "    <tr>\n",
       "      <th>2606</th>\n",
       "      <td>EXPORT</td>\n",
       "      <td>Zimbabwe</td>\n",
       "      <td>01/09/2013</td>\n",
       "      <td>Sep</td>\n",
       "      <td>2013</td>\n",
       "      <td>9</td>\n",
       "      <td>4051011</td>\n",
       "      <td>8.490</td>\n",
       "      <td>47.467</td>\n",
       "    </tr>\n",
       "    <tr>\n",
       "      <th>2607</th>\n",
       "      <td>EXPORT</td>\n",
       "      <td>Zimbabwe</td>\n",
       "      <td>01/10/2012</td>\n",
       "      <td>Oct</td>\n",
       "      <td>2012</td>\n",
       "      <td>10</td>\n",
       "      <td>4051011</td>\n",
       "      <td>3.122</td>\n",
       "      <td>15.627</td>\n",
       "    </tr>\n",
       "  </tbody>\n",
       "</table>\n",
       "<p>2608 rows × 9 columns</p>\n",
       "</div>"
      ],
      "text/plain": [
       "        Flow   Partner  Month Date Month  Marketing Year  Month Order in MY  \\\n",
       "0     EXPORT   Algeria  01/01/2011   Jan            2011                  1   \n",
       "1     EXPORT   Algeria  01/01/2015   Jan            2015                  1   \n",
       "2     EXPORT   Algeria  01/01/2019   Jan            2019                  1   \n",
       "3     EXPORT   Algeria  01/01/2020   Jan            2020                  1   \n",
       "4     EXPORT   Algeria  01/02/2017   Feb            2017                  2   \n",
       "...      ...       ...         ...   ...             ...                ...   \n",
       "2603  EXPORT    Zambia  01/07/2012   Jul            2012                  7   \n",
       "2604  EXPORT    Zambia  01/12/2011   Dec            2011                 12   \n",
       "2605  EXPORT  Zimbabwe  01/04/2016   Apr            2016                  4   \n",
       "2606  EXPORT  Zimbabwe  01/09/2013   Sep            2013                  9   \n",
       "2607  EXPORT  Zimbabwe  01/10/2012   Oct            2012                 10   \n",
       "\n",
       "      Product Code (CN)  Quantity in tonnes  Value in thousand euro  \n",
       "0               4051019             208.000                 707.200  \n",
       "1               4051019              50.000                 151.500  \n",
       "2               4051019             100.000                 415.000  \n",
       "3               4051019              49.750                 178.603  \n",
       "4               4051019              25.000                 104.500  \n",
       "...                 ...                 ...                     ...  \n",
       "2603            4051011               7.200                  36.310  \n",
       "2604            4051011               9.169                  43.118  \n",
       "2605            4051011               5.000                  18.513  \n",
       "2606            4051011               8.490                  47.467  \n",
       "2607            4051011               3.122                  15.627  \n",
       "\n",
       "[2608 rows x 9 columns]"
      ]
     },
     "execution_count": 22,
     "metadata": {},
     "output_type": "execute_result"
    }
   ],
   "source": [
    "df = df.groupby(['Flow','Partner','Month Date','Month','Marketing Year']).sum().reset_index()\n",
    "df"
   ]
  },
  {
   "cell_type": "code",
   "execution_count": 23,
   "id": "133bcf0a",
   "metadata": {},
   "outputs": [],
   "source": [
    "df = df.groupby(['Marketing Year']).sum().reset_index()"
   ]
  },
  {
   "cell_type": "code",
   "execution_count": 24,
   "id": "45520be9",
   "metadata": {},
   "outputs": [
    {
     "data": {
      "text/html": [
       "<div>\n",
       "<style scoped>\n",
       "    .dataframe tbody tr th:only-of-type {\n",
       "        vertical-align: middle;\n",
       "    }\n",
       "\n",
       "    .dataframe tbody tr th {\n",
       "        vertical-align: top;\n",
       "    }\n",
       "\n",
       "    .dataframe thead th {\n",
       "        text-align: right;\n",
       "    }\n",
       "</style>\n",
       "<table border=\"1\" class=\"dataframe\">\n",
       "  <thead>\n",
       "    <tr style=\"text-align: right;\">\n",
       "      <th></th>\n",
       "      <th>Marketing Year</th>\n",
       "      <th>Month Order in MY</th>\n",
       "      <th>Product Code (CN)</th>\n",
       "      <th>Quantity in tonnes</th>\n",
       "      <th>Value in thousand euro</th>\n",
       "    </tr>\n",
       "  </thead>\n",
       "  <tbody>\n",
       "    <tr>\n",
       "      <th>0</th>\n",
       "      <td>2010</td>\n",
       "      <td>996</td>\n",
       "      <td>603601152</td>\n",
       "      <td>7956.961</td>\n",
       "      <td>28006.582</td>\n",
       "    </tr>\n",
       "    <tr>\n",
       "      <th>1</th>\n",
       "      <td>2011</td>\n",
       "      <td>740</td>\n",
       "      <td>510427720</td>\n",
       "      <td>5687.297</td>\n",
       "      <td>24287.729</td>\n",
       "    </tr>\n",
       "    <tr>\n",
       "      <th>2</th>\n",
       "      <td>2012</td>\n",
       "      <td>949</td>\n",
       "      <td>571192893</td>\n",
       "      <td>6908.598</td>\n",
       "      <td>26919.962</td>\n",
       "    </tr>\n",
       "    <tr>\n",
       "      <th>3</th>\n",
       "      <td>2013</td>\n",
       "      <td>946</td>\n",
       "      <td>579295037</td>\n",
       "      <td>5595.613</td>\n",
       "      <td>24317.852</td>\n",
       "    </tr>\n",
       "    <tr>\n",
       "      <th>4</th>\n",
       "      <td>2014</td>\n",
       "      <td>1251</td>\n",
       "      <td>753489276</td>\n",
       "      <td>9427.842</td>\n",
       "      <td>38586.376</td>\n",
       "    </tr>\n",
       "    <tr>\n",
       "      <th>5</th>\n",
       "      <td>2015</td>\n",
       "      <td>1704</td>\n",
       "      <td>1016806060</td>\n",
       "      <td>22176.664</td>\n",
       "      <td>79432.879</td>\n",
       "    </tr>\n",
       "    <tr>\n",
       "      <th>6</th>\n",
       "      <td>2016</td>\n",
       "      <td>1831</td>\n",
       "      <td>1178846307</td>\n",
       "      <td>33485.652</td>\n",
       "      <td>110904.084</td>\n",
       "    </tr>\n",
       "    <tr>\n",
       "      <th>7</th>\n",
       "      <td>2017</td>\n",
       "      <td>1740</td>\n",
       "      <td>1118080728</td>\n",
       "      <td>31536.196</td>\n",
       "      <td>144567.345</td>\n",
       "    </tr>\n",
       "    <tr>\n",
       "      <th>8</th>\n",
       "      <td>2018</td>\n",
       "      <td>1301</td>\n",
       "      <td>895274164</td>\n",
       "      <td>31161.031</td>\n",
       "      <td>195874.678</td>\n",
       "    </tr>\n",
       "    <tr>\n",
       "      <th>9</th>\n",
       "      <td>2019</td>\n",
       "      <td>2285</td>\n",
       "      <td>1324682720</td>\n",
       "      <td>50952.124</td>\n",
       "      <td>283954.787</td>\n",
       "    </tr>\n",
       "    <tr>\n",
       "      <th>10</th>\n",
       "      <td>2020</td>\n",
       "      <td>2545</td>\n",
       "      <td>1596102733</td>\n",
       "      <td>94754.618</td>\n",
       "      <td>420785.895</td>\n",
       "    </tr>\n",
       "    <tr>\n",
       "      <th>11</th>\n",
       "      <td>2021</td>\n",
       "      <td>2508</td>\n",
       "      <td>1539387879</td>\n",
       "      <td>78437.190</td>\n",
       "      <td>396279.148</td>\n",
       "    </tr>\n",
       "    <tr>\n",
       "      <th>12</th>\n",
       "      <td>2022</td>\n",
       "      <td>1453</td>\n",
       "      <td>1077571768</td>\n",
       "      <td>68871.577</td>\n",
       "      <td>499476.726</td>\n",
       "    </tr>\n",
       "  </tbody>\n",
       "</table>\n",
       "</div>"
      ],
      "text/plain": [
       "    Marketing Year  Month Order in MY  Product Code (CN)  Quantity in tonnes  \\\n",
       "0             2010                996          603601152            7956.961   \n",
       "1             2011                740          510427720            5687.297   \n",
       "2             2012                949          571192893            6908.598   \n",
       "3             2013                946          579295037            5595.613   \n",
       "4             2014               1251          753489276            9427.842   \n",
       "5             2015               1704         1016806060           22176.664   \n",
       "6             2016               1831         1178846307           33485.652   \n",
       "7             2017               1740         1118080728           31536.196   \n",
       "8             2018               1301          895274164           31161.031   \n",
       "9             2019               2285         1324682720           50952.124   \n",
       "10            2020               2545         1596102733           94754.618   \n",
       "11            2021               2508         1539387879           78437.190   \n",
       "12            2022               1453         1077571768           68871.577   \n",
       "\n",
       "    Value in thousand euro  \n",
       "0                28006.582  \n",
       "1                24287.729  \n",
       "2                26919.962  \n",
       "3                24317.852  \n",
       "4                38586.376  \n",
       "5                79432.879  \n",
       "6               110904.084  \n",
       "7               144567.345  \n",
       "8               195874.678  \n",
       "9               283954.787  \n",
       "10              420785.895  \n",
       "11              396279.148  \n",
       "12              499476.726  "
      ]
     },
     "execution_count": 24,
     "metadata": {},
     "output_type": "execute_result"
    }
   ],
   "source": [
    "df"
   ]
  },
  {
   "cell_type": "code",
   "execution_count": 25,
   "id": "2523000e",
   "metadata": {},
   "outputs": [
    {
     "ename": "SyntaxError",
     "evalue": "invalid syntax (1580646419.py, line 1)",
     "output_type": "error",
     "traceback": [
      "\u001b[0;36m  Input \u001b[0;32mIn [25]\u001b[0;36m\u001b[0m\n\u001b[0;31m    df[(df['Year'] = pd.DatetimeIndex(df_nz['Month Date']).year\u001b[0m\n\u001b[0m                   ^\u001b[0m\n\u001b[0;31mSyntaxError\u001b[0m\u001b[0;31m:\u001b[0m invalid syntax\n"
     ]
    }
   ],
   "source": [
    "df[(df['Year'] = pd.DatetimeIndex(df_nz['Month Date']).year"
   ]
  },
  {
   "cell_type": "code",
   "execution_count": null,
   "id": "41c679c6",
   "metadata": {},
   "outputs": [],
   "source": []
  },
  {
   "cell_type": "code",
   "execution_count": null,
   "id": "ae846f49",
   "metadata": {},
   "outputs": [],
   "source": []
  },
  {
   "cell_type": "code",
   "execution_count": null,
   "id": "45ca5d11",
   "metadata": {},
   "outputs": [],
   "source": []
  },
  {
   "cell_type": "code",
   "execution_count": 324,
   "id": "c8c90f1a",
   "metadata": {},
   "outputs": [],
   "source": [
    "df_eu = df_eu[(df_eu['Product Code (CN)'].astype('string').str[:5]=='40510') & (df_eu['Flow']=='EXPORT')]"
   ]
  },
  {
   "cell_type": "code",
   "execution_count": 325,
   "id": "f8d619e2",
   "metadata": {},
   "outputs": [
    {
     "data": {
      "text/plain": [
       "Flow                      0\n",
       "Marketing Year            0\n",
       "Month                     0\n",
       "Month Order in MY         0\n",
       "Month Date                0\n",
       "Member State              0\n",
       "Partner                   0\n",
       "Product Group             0\n",
       "Product Code (CN)         0\n",
       "Quantity in tonnes        0\n",
       "Value in thousand euro    0\n",
       "dtype: int64"
      ]
     },
     "execution_count": 325,
     "metadata": {},
     "output_type": "execute_result"
    }
   ],
   "source": [
    "df_eu.isna().sum()"
   ]
  },
  {
   "cell_type": "code",
   "execution_count": 326,
   "id": "af27db10",
   "metadata": {},
   "outputs": [
    {
     "data": {
      "text/plain": [
       "array(['Butter', 'Butteroil'], dtype=object)"
      ]
     },
     "execution_count": 326,
     "metadata": {},
     "output_type": "execute_result"
    }
   ],
   "source": [
    "df_eu['Product Group'].unique()"
   ]
  },
  {
   "cell_type": "code",
   "execution_count": 327,
   "id": "7c14dada",
   "metadata": {},
   "outputs": [],
   "source": [
    "# Use lambda function to convert the Month Date values to datetime\n",
    "df_eu['Month Date'] = df_eu['Month Date'].map(lambda x: datetime.strptime(x, '%d/%m/%Y'))\n"
   ]
  },
  {
   "cell_type": "code",
   "execution_count": 328,
   "id": "f1362b80",
   "metadata": {},
   "outputs": [
    {
     "data": {
      "text/html": [
       "<div>\n",
       "<style scoped>\n",
       "    .dataframe tbody tr th:only-of-type {\n",
       "        vertical-align: middle;\n",
       "    }\n",
       "\n",
       "    .dataframe tbody tr th {\n",
       "        vertical-align: top;\n",
       "    }\n",
       "\n",
       "    .dataframe thead th {\n",
       "        text-align: right;\n",
       "    }\n",
       "</style>\n",
       "<table border=\"1\" class=\"dataframe\">\n",
       "  <thead>\n",
       "    <tr style=\"text-align: right;\">\n",
       "      <th></th>\n",
       "      <th>Flow</th>\n",
       "      <th>Marketing Year</th>\n",
       "      <th>Month</th>\n",
       "      <th>Month Order in MY</th>\n",
       "      <th>Month Date</th>\n",
       "      <th>Member State</th>\n",
       "      <th>Partner</th>\n",
       "      <th>Product Group</th>\n",
       "      <th>Product Code (CN)</th>\n",
       "      <th>Quantity in tonnes</th>\n",
       "      <th>Value in thousand euro</th>\n",
       "    </tr>\n",
       "  </thead>\n",
       "  <tbody>\n",
       "    <tr>\n",
       "      <th>35</th>\n",
       "      <td>EXPORT</td>\n",
       "      <td>2022</td>\n",
       "      <td>Oct</td>\n",
       "      <td>10</td>\n",
       "      <td>2022-10-01</td>\n",
       "      <td>Austria</td>\n",
       "      <td>Holy See (Vatican City State)</td>\n",
       "      <td>Butter</td>\n",
       "      <td>4051011</td>\n",
       "      <td>1.800</td>\n",
       "      <td>14.275</td>\n",
       "    </tr>\n",
       "    <tr>\n",
       "      <th>89</th>\n",
       "      <td>EXPORT</td>\n",
       "      <td>2022</td>\n",
       "      <td>Oct</td>\n",
       "      <td>10</td>\n",
       "      <td>2022-10-01</td>\n",
       "      <td>Austria</td>\n",
       "      <td>Switzerland</td>\n",
       "      <td>Butter</td>\n",
       "      <td>4051011</td>\n",
       "      <td>0.010</td>\n",
       "      <td>0.084</td>\n",
       "    </tr>\n",
       "    <tr>\n",
       "      <th>90</th>\n",
       "      <td>EXPORT</td>\n",
       "      <td>2022</td>\n",
       "      <td>Oct</td>\n",
       "      <td>10</td>\n",
       "      <td>2022-10-01</td>\n",
       "      <td>Austria</td>\n",
       "      <td>Switzerland</td>\n",
       "      <td>Butteroil</td>\n",
       "      <td>4051090</td>\n",
       "      <td>0.000</td>\n",
       "      <td>0.007</td>\n",
       "    </tr>\n",
       "    <tr>\n",
       "      <th>130</th>\n",
       "      <td>EXPORT</td>\n",
       "      <td>2022</td>\n",
       "      <td>Oct</td>\n",
       "      <td>10</td>\n",
       "      <td>2022-10-01</td>\n",
       "      <td>Austria</td>\n",
       "      <td>United Arab Emirates</td>\n",
       "      <td>Butter</td>\n",
       "      <td>4051011</td>\n",
       "      <td>0.376</td>\n",
       "      <td>1.564</td>\n",
       "    </tr>\n",
       "    <tr>\n",
       "      <th>10165</th>\n",
       "      <td>EXPORT</td>\n",
       "      <td>2022</td>\n",
       "      <td>Sep</td>\n",
       "      <td>9</td>\n",
       "      <td>2022-09-01</td>\n",
       "      <td>Austria</td>\n",
       "      <td>Holy See (Vatican City State)</td>\n",
       "      <td>Butter</td>\n",
       "      <td>4051011</td>\n",
       "      <td>1.200</td>\n",
       "      <td>9.535</td>\n",
       "    </tr>\n",
       "    <tr>\n",
       "      <th>...</th>\n",
       "      <td>...</td>\n",
       "      <td>...</td>\n",
       "      <td>...</td>\n",
       "      <td>...</td>\n",
       "      <td>...</td>\n",
       "      <td>...</td>\n",
       "      <td>...</td>\n",
       "      <td>...</td>\n",
       "      <td>...</td>\n",
       "      <td>...</td>\n",
       "      <td>...</td>\n",
       "    </tr>\n",
       "    <tr>\n",
       "      <th>1459527</th>\n",
       "      <td>EXPORT</td>\n",
       "      <td>2010</td>\n",
       "      <td>Jan</td>\n",
       "      <td>1</td>\n",
       "      <td>2010-01-01</td>\n",
       "      <td>Austria</td>\n",
       "      <td>Russia</td>\n",
       "      <td>Butter</td>\n",
       "      <td>4051011</td>\n",
       "      <td>1.272</td>\n",
       "      <td>6.639</td>\n",
       "    </tr>\n",
       "    <tr>\n",
       "      <th>1459553</th>\n",
       "      <td>EXPORT</td>\n",
       "      <td>2010</td>\n",
       "      <td>Jan</td>\n",
       "      <td>1</td>\n",
       "      <td>2010-01-01</td>\n",
       "      <td>Austria</td>\n",
       "      <td>Switzerland</td>\n",
       "      <td>Butter</td>\n",
       "      <td>4051019</td>\n",
       "      <td>0.479</td>\n",
       "      <td>1.242</td>\n",
       "    </tr>\n",
       "    <tr>\n",
       "      <th>1459554</th>\n",
       "      <td>EXPORT</td>\n",
       "      <td>2010</td>\n",
       "      <td>Jan</td>\n",
       "      <td>1</td>\n",
       "      <td>2010-01-01</td>\n",
       "      <td>Austria</td>\n",
       "      <td>Switzerland</td>\n",
       "      <td>Butteroil</td>\n",
       "      <td>4051090</td>\n",
       "      <td>0.128</td>\n",
       "      <td>0.465</td>\n",
       "    </tr>\n",
       "    <tr>\n",
       "      <th>1459605</th>\n",
       "      <td>EXPORT</td>\n",
       "      <td>2010</td>\n",
       "      <td>Jan</td>\n",
       "      <td>1</td>\n",
       "      <td>2010-01-01</td>\n",
       "      <td>Austria</td>\n",
       "      <td>Turkey</td>\n",
       "      <td>Butteroil</td>\n",
       "      <td>4051090</td>\n",
       "      <td>0.009</td>\n",
       "      <td>0.050</td>\n",
       "    </tr>\n",
       "    <tr>\n",
       "      <th>1459614</th>\n",
       "      <td>EXPORT</td>\n",
       "      <td>2010</td>\n",
       "      <td>Jan</td>\n",
       "      <td>1</td>\n",
       "      <td>2010-01-01</td>\n",
       "      <td>Austria</td>\n",
       "      <td>United Arab Emirates</td>\n",
       "      <td>Butteroil</td>\n",
       "      <td>4051090</td>\n",
       "      <td>0.181</td>\n",
       "      <td>0.228</td>\n",
       "    </tr>\n",
       "  </tbody>\n",
       "</table>\n",
       "<p>582 rows × 11 columns</p>\n",
       "</div>"
      ],
      "text/plain": [
       "           Flow  Marketing Year Month  Month Order in MY Month Date  \\\n",
       "35       EXPORT            2022   Oct                 10 2022-10-01   \n",
       "89       EXPORT            2022   Oct                 10 2022-10-01   \n",
       "90       EXPORT            2022   Oct                 10 2022-10-01   \n",
       "130      EXPORT            2022   Oct                 10 2022-10-01   \n",
       "10165    EXPORT            2022   Sep                  9 2022-09-01   \n",
       "...         ...             ...   ...                ...        ...   \n",
       "1459527  EXPORT            2010   Jan                  1 2010-01-01   \n",
       "1459553  EXPORT            2010   Jan                  1 2010-01-01   \n",
       "1459554  EXPORT            2010   Jan                  1 2010-01-01   \n",
       "1459605  EXPORT            2010   Jan                  1 2010-01-01   \n",
       "1459614  EXPORT            2010   Jan                  1 2010-01-01   \n",
       "\n",
       "        Member State                        Partner Product Group  \\\n",
       "35           Austria  Holy See (Vatican City State)        Butter   \n",
       "89           Austria                    Switzerland        Butter   \n",
       "90           Austria                    Switzerland     Butteroil   \n",
       "130          Austria           United Arab Emirates        Butter   \n",
       "10165        Austria  Holy See (Vatican City State)        Butter   \n",
       "...              ...                            ...           ...   \n",
       "1459527      Austria                         Russia        Butter   \n",
       "1459553      Austria                    Switzerland        Butter   \n",
       "1459554      Austria                    Switzerland     Butteroil   \n",
       "1459605      Austria                         Turkey     Butteroil   \n",
       "1459614      Austria           United Arab Emirates     Butteroil   \n",
       "\n",
       "         Product Code (CN)  Quantity in tonnes  Value in thousand euro  \n",
       "35                 4051011               1.800                  14.275  \n",
       "89                 4051011               0.010                   0.084  \n",
       "90                 4051090               0.000                   0.007  \n",
       "130                4051011               0.376                   1.564  \n",
       "10165              4051011               1.200                   9.535  \n",
       "...                    ...                 ...                     ...  \n",
       "1459527            4051011               1.272                   6.639  \n",
       "1459553            4051019               0.479                   1.242  \n",
       "1459554            4051090               0.128                   0.465  \n",
       "1459605            4051090               0.009                   0.050  \n",
       "1459614            4051090               0.181                   0.228  \n",
       "\n",
       "[582 rows x 11 columns]"
      ]
     },
     "execution_count": 328,
     "metadata": {},
     "output_type": "execute_result"
    }
   ],
   "source": [
    "df_eu[(df_eu['Member State']=='Austria')]"
   ]
  },
  {
   "cell_type": "code",
   "execution_count": 329,
   "id": "94f4ff7d",
   "metadata": {},
   "outputs": [],
   "source": [
    "df_eu.rename(columns = {'Marketing Year':'Year', \n",
    "                        'Member State':'Country',\n",
    "                        'Product Code (CN)':'Product',\n",
    "                        'Quantity in tonnes':'Quantity (tonnes)',\n",
    "                        'Value in thousand euro':'Value (k Euro)'\n",
    "                       }, inplace = True)"
   ]
  },
  {
   "cell_type": "code",
   "execution_count": 330,
   "id": "24212d44",
   "metadata": {},
   "outputs": [],
   "source": [
    "df_eu.drop(['Month Order in MY','Product Group'], axis=1,inplace=True)"
   ]
  },
  {
   "cell_type": "code",
   "execution_count": null,
   "id": "69ed38b6",
   "metadata": {},
   "outputs": [],
   "source": []
  },
  {
   "cell_type": "markdown",
   "id": "3eef632c",
   "metadata": {},
   "source": [
    "## 1.1 Ireland Data"
   ]
  },
  {
   "cell_type": "code",
   "execution_count": null,
   "id": "8e49269a",
   "metadata": {},
   "outputs": [],
   "source": [
    "ie_files = [\n",
    "    {\n",
    "        'filename':'Data/IE/ie_exports_quantities_01.txt',\n",
    "        'filenames':['Data/IE/ie_exports_quantities_01.txt',\n",
    "                    'Data/IE/ie_exports_quantities_02.txt',\n",
    "                    'Data/IE/ie_exports_quantities_03.txt',\n",
    "                    'Data/IE/ie_exports_quantities_04.txt',\n",
    "                    'Data/IE/ie_exports_quantities_05.txt',\n",
    "                    'Data/IE/ie_exports_quantities_06.txt',\n",
    "                    'Data/IE/ie_exports_quantities_07.txt',\n",
    "                    'Data/IE/ie_exports_quantities_08.txt',\n",
    "                    'Data/IE/ie_exports_quantities_09.txt'],\n",
    "        'partner_column':'Importers',\n",
    "        'column_name':'Quantity in tonnes',\n",
    "        'flow':'EXPORT',\n",
    "        'left_date_text':'',\n",
    "        'right_date_text':'%Y-M%m-Exported quantity, Kilograms',\n",
    "        'date_format':'%Y-M%m'\n",
    "    },\n",
    "    {\n",
    "        'filename':'Data/IE/ie_exports_values_01.txt',\n",
    "        'filenames':['Data/IE/ie_exports_values_01.txt',\n",
    "                    'Data/IE/ie_exports_values_02.txt',\n",
    "                    'Data/IE/ie_exports_values_03.txt',\n",
    "                    'Data/IE/ie_exports_values_04.txt',\n",
    "                    'Data/IE/ie_exports_values_05.txt',\n",
    "                    'Data/IE/ie_exports_values_06.txt',\n",
    "                    'Data/IE/ie_exports_values_07.txt',\n",
    "                    'Data/IE/ie_exports_values_08.txt',\n",
    "                    'Data/IE/ie_exports_values_09.txt'],\n",
    "        'partner_column':'Importers',\n",
    "        'column_name':'Value in thousand euro',\n",
    "        'flow':'EXPORT',\n",
    "        'left_date_text':'Exported value in ',\n",
    "        'right_date_text':'',\n",
    "        'date_format':'%Y-M%m'\n",
    "    }\n",
    "]"
   ]
  },
  {
   "cell_type": "code",
   "execution_count": null,
   "id": "5ff54a7c",
   "metadata": {},
   "outputs": [],
   "source": []
  },
  {
   "cell_type": "code",
   "execution_count": null,
   "id": "c34a1ebd",
   "metadata": {},
   "outputs": [],
   "source": []
  },
  {
   "cell_type": "code",
   "execution_count": null,
   "id": "e5c84e02",
   "metadata": {},
   "outputs": [],
   "source": []
  },
  {
   "cell_type": "code",
   "execution_count": null,
   "id": "c5a1be29",
   "metadata": {},
   "outputs": [],
   "source": []
  },
  {
   "cell_type": "markdown",
   "id": "98e8cc02",
   "metadata": {},
   "source": [
    "## 1.2 NewZealand Data"
   ]
  },
  {
   "cell_type": "code",
   "execution_count": 331,
   "id": "4d590c89",
   "metadata": {},
   "outputs": [],
   "source": [
    "nz_files = [\n",
    "    {\n",
    "        'filename':'Data/NZ/nz_exports_quantities_01.txt',\n",
    "        'filenames':['Data/NZ/nz_exports_quantities_01.txt',\n",
    "                    'Data/NZ/nz_exports_quantities_02.txt',\n",
    "                    'Data/NZ/nz_exports_quantities_03.txt',\n",
    "                    'Data/NZ/nz_exports_quantities_04.txt',\n",
    "                    'Data/NZ/nz_exports_quantities_05.txt',\n",
    "                    'Data/NZ/nz_exports_quantities_06.txt',\n",
    "                    'Data/NZ/nz_exports_quantities_07.txt',\n",
    "                    'Data/NZ/nz_exports_quantities_08.txt'],\n",
    "        'partner_column':'Importers',\n",
    "        'column_name':'Quantity in tonnes',\n",
    "        'flow':'EXPORT',\n",
    "        'left_date_text':'',\n",
    "        'right_date_text':'%Y-M%m-Exported quantity, Kilograms',\n",
    "        'date_format':'%Y-M%m'\n",
    "    },\n",
    "    {\n",
    "        'filename':'Data/NZ/nz_exports_values_01.txt',\n",
    "        'filenames':['Data/NZ/nz_exports_values_01.txt',\n",
    "                    'Data/NZ/nz_exports_values_02.txt',\n",
    "                    'Data/NZ/nz_exports_values_03.txt',\n",
    "                    'Data/NZ/nz_exports_values_04.txt',\n",
    "                    'Data/NZ/nz_exports_values_05.txt',\n",
    "                    'Data/NZ/nz_exports_values_06.txt',\n",
    "                    'Data/NZ/nz_exports_values_07.txt',\n",
    "                    'Data/NZ/nz_exports_values_08.txt'],\n",
    "        'partner_column':'Importers',\n",
    "        'column_name':'Value in thousand euro',\n",
    "        'flow':'EXPORT',\n",
    "        'left_date_text':'Exported value in ',\n",
    "        'right_date_text':'',\n",
    "        'date_format':'%Y-M%m'\n",
    "    },\n",
    "    {\n",
    "        'filename':'Data/NZ/nz_imports_quantities_01.txt',\n",
    "        'filenames':['Data/NZ/nz_imports_quantities_01.txt',\n",
    "                    'Data/NZ/nz_imports_quantities_02.txt',\n",
    "                    'Data/NZ/nz_imports_quantities_03.txt',\n",
    "                    'Data/NZ/nz_imports_quantities_04.txt',\n",
    "                    'Data/NZ/nz_imports_quantities_05.txt',\n",
    "                    'Data/NZ/nz_imports_quantities_06.txt',\n",
    "                    'Data/NZ/nz_imports_quantities_07.txt',\n",
    "                    'Data/NZ/nz_imports_quantities_08.txt'],\n",
    "        'partner_column':'Exporters',\n",
    "        'column_name':'Quantity in tonnes',\n",
    "        'flow':'IMPORT',\n",
    "        'left_date_text':'',\n",
    "        'right_date_text':'-Imported quantity, Kilograms',\n",
    "        'date_format':'%Y-M%m'\n",
    "    },\n",
    "    {\n",
    "        'filename':'Data/NZ/nz_imports_values_01.txt',\n",
    "        'filenames':['Data/NZ/nz_imports_values_01.txt',\n",
    "                    'Data/NZ/nz_imports_values_02.txt',\n",
    "                    'Data/NZ/nz_imports_values_03.txt',\n",
    "                    'Data/NZ/nz_imports_values_04.txt',\n",
    "                    'Data/NZ/nz_imports_values_05.txt',\n",
    "                    'Data/NZ/nz_imports_values_06.txt',\n",
    "                    'Data/NZ/nz_imports_values_07.txt',\n",
    "                    'Data/NZ/nz_imports_values_08.txt'],\n",
    "        'partner_column':'Exporters',\n",
    "        'column_name':'Value in thousand euro',\n",
    "        'flow':'IMPORT',\n",
    "        'left_date_text':'Imported value in ',\n",
    "        'right_date_text':'',\n",
    "        'date_format':'%Y-M%m'\n",
    "    }\n",
    "]"
   ]
  },
  {
   "cell_type": "code",
   "execution_count": 332,
   "id": "25ea954d",
   "metadata": {},
   "outputs": [
    {
     "data": {
      "text/html": [
       "<div>\n",
       "<style scoped>\n",
       "    .dataframe tbody tr th:only-of-type {\n",
       "        vertical-align: middle;\n",
       "    }\n",
       "\n",
       "    .dataframe tbody tr th {\n",
       "        vertical-align: top;\n",
       "    }\n",
       "\n",
       "    .dataframe thead th {\n",
       "        text-align: right;\n",
       "    }\n",
       "</style>\n",
       "<table border=\"1\" class=\"dataframe\">\n",
       "  <thead>\n",
       "    <tr style=\"text-align: right;\">\n",
       "      <th></th>\n",
       "      <th>Partner</th>\n",
       "      <th>Month Date</th>\n",
       "      <th>Value in thousand euro</th>\n",
       "      <th>Flow</th>\n",
       "      <th>Quantity in tonnes</th>\n",
       "    </tr>\n",
       "  </thead>\n",
       "  <tbody>\n",
       "    <tr>\n",
       "      <th>0</th>\n",
       "      <td>Denmark</td>\n",
       "      <td>2010-01-01</td>\n",
       "      <td>8271.0</td>\n",
       "      <td>EXPORT</td>\n",
       "      <td>4332245.0</td>\n",
       "    </tr>\n",
       "    <tr>\n",
       "      <th>1</th>\n",
       "      <td>Russian Federation</td>\n",
       "      <td>2010-01-01</td>\n",
       "      <td>5504.0</td>\n",
       "      <td>EXPORT</td>\n",
       "      <td>2008407.0</td>\n",
       "    </tr>\n",
       "    <tr>\n",
       "      <th>2</th>\n",
       "      <td>Morocco</td>\n",
       "      <td>2010-01-01</td>\n",
       "      <td>4296.0</td>\n",
       "      <td>EXPORT</td>\n",
       "      <td>2334257.0</td>\n",
       "    </tr>\n",
       "    <tr>\n",
       "      <th>3</th>\n",
       "      <td>China</td>\n",
       "      <td>2010-01-01</td>\n",
       "      <td>3211.0</td>\n",
       "      <td>EXPORT</td>\n",
       "      <td>1578730.0</td>\n",
       "    </tr>\n",
       "    <tr>\n",
       "      <th>4</th>\n",
       "      <td>Australia</td>\n",
       "      <td>2010-01-01</td>\n",
       "      <td>4608.0</td>\n",
       "      <td>EXPORT</td>\n",
       "      <td>2219114.0</td>\n",
       "    </tr>\n",
       "    <tr>\n",
       "      <th>...</th>\n",
       "      <td>...</td>\n",
       "      <td>...</td>\n",
       "      <td>...</td>\n",
       "      <td>...</td>\n",
       "      <td>...</td>\n",
       "    </tr>\n",
       "    <tr>\n",
       "      <th>16978</th>\n",
       "      <td>Fiji</td>\n",
       "      <td>2022-09-01</td>\n",
       "      <td>0.0</td>\n",
       "      <td>IMPORT</td>\n",
       "      <td>0.0</td>\n",
       "    </tr>\n",
       "    <tr>\n",
       "      <th>16979</th>\n",
       "      <td>France</td>\n",
       "      <td>2022-09-01</td>\n",
       "      <td>0.0</td>\n",
       "      <td>IMPORT</td>\n",
       "      <td>0.0</td>\n",
       "    </tr>\n",
       "    <tr>\n",
       "      <th>16980</th>\n",
       "      <td>New Zealand</td>\n",
       "      <td>2022-09-01</td>\n",
       "      <td>544.0</td>\n",
       "      <td>IMPORT</td>\n",
       "      <td>98542.0</td>\n",
       "    </tr>\n",
       "    <tr>\n",
       "      <th>16981</th>\n",
       "      <td>India</td>\n",
       "      <td>2022-09-01</td>\n",
       "      <td>4.0</td>\n",
       "      <td>IMPORT</td>\n",
       "      <td>750.0</td>\n",
       "    </tr>\n",
       "    <tr>\n",
       "      <th>16982</th>\n",
       "      <td>United States of America</td>\n",
       "      <td>2022-09-01</td>\n",
       "      <td>0.0</td>\n",
       "      <td>IMPORT</td>\n",
       "      <td>0.0</td>\n",
       "    </tr>\n",
       "  </tbody>\n",
       "</table>\n",
       "<p>16983 rows × 5 columns</p>\n",
       "</div>"
      ],
      "text/plain": [
       "                        Partner Month Date  Value in thousand euro    Flow  \\\n",
       "0                       Denmark 2010-01-01                  8271.0  EXPORT   \n",
       "1            Russian Federation 2010-01-01                  5504.0  EXPORT   \n",
       "2                       Morocco 2010-01-01                  4296.0  EXPORT   \n",
       "3                         China 2010-01-01                  3211.0  EXPORT   \n",
       "4                     Australia 2010-01-01                  4608.0  EXPORT   \n",
       "...                         ...        ...                     ...     ...   \n",
       "16978                      Fiji 2022-09-01                     0.0  IMPORT   \n",
       "16979                    France 2022-09-01                     0.0  IMPORT   \n",
       "16980               New Zealand 2022-09-01                   544.0  IMPORT   \n",
       "16981                     India 2022-09-01                     4.0  IMPORT   \n",
       "16982  United States of America 2022-09-01                     0.0  IMPORT   \n",
       "\n",
       "       Quantity in tonnes  \n",
       "0               4332245.0  \n",
       "1               2008407.0  \n",
       "2               2334257.0  \n",
       "3               1578730.0  \n",
       "4               2219114.0  \n",
       "...                   ...  \n",
       "16978                 0.0  \n",
       "16979                 0.0  \n",
       "16980             98542.0  \n",
       "16981               750.0  \n",
       "16982                 0.0  \n",
       "\n",
       "[16983 rows x 5 columns]"
      ]
     },
     "execution_count": 332,
     "metadata": {},
     "output_type": "execute_result"
    }
   ],
   "source": [
    "first_quantity_data = True\n",
    "first_value_data = True\n",
    "\n",
    "partner_column_name = 'Partner'\n",
    "\n",
    "for index in range(len(nz_files)):\n",
    "    #df = pd.read_csv(nz_files[index]['filename'], sep='\\t', lineterminator='\\r')\n",
    "    first_part = True\n",
    "    for i in range(len(nz_files[index]['filenames'])):\n",
    "        df_part = pd.read_csv(nz_files[index]['filenames'][i], sep='\\t', lineterminator='\\r')\n",
    "        key = nz_files[index]['partner_column']\n",
    "        \n",
    "        # Rename the 'Importers' / 'Exporters' column to 'Partner', in line with the EU data \n",
    "        df_part.rename(columns = {key:'Partner'}, inplace = True)\n",
    "        #df_part.columns.values[key] = 'Partner'\n",
    "        \n",
    "        if first_part:\n",
    "            df_parts = df_part\n",
    "            first_part = False\n",
    "        else:\n",
    "            df_parts = df_parts.merge(df_part, on='Partner',how='left', suffixes=('', '_DROP')).filter(regex='^(?!.*_DROP)')\n",
    "            df_parts.drop(df_parts.filter(regex='^Unnamed').columns,axis=1,inplace=True)\n",
    "            df_parts = df_parts[(df_parts['Partner'] != '\\n')]\n",
    "                   \n",
    "    df = df_parts\n",
    "    \n",
    "    # Use lambda function to strip unwanted characters from beginning (lstrip) \n",
    "    # and end (rstrip) of the Importers values\n",
    "    df['Partner'] = df['Partner'].map(lambda x: x.lstrip('\\n\"').rstrip('\"'))\n",
    "    \n",
    "    # Remove the sum row 'World', the last row (blank) and the the last column (blank)\n",
    "    df = df[(df['Partner'] != 'World')]\n",
    "    \n",
    "    # Reshape the data, creating a row for each monthly observation\n",
    "    df = df.melt(id_vars=['Partner'], var_name='Month Date', value_name=nz_files[index]['column_name'])\n",
    "    \n",
    "    # Add a 'Flow' column to indicate IMPORT or EXPORT\n",
    "    df['Flow'] = nz_files[index]['flow']\n",
    "    \n",
    "    \n",
    "    # Use lambda function to strip unwanted text and convert Month Date values to datetime\n",
    "    df['Month Date'] = df['Month Date'].map(lambda x: x.lstrip(nz_files[index]['left_date_text']).rstrip(nz_files[index]['right_date_text']))\n",
    "    df['Month Date'] = df['Month Date'].map(lambda x: datetime.strptime(x, nz_files[index]['date_format']))\n",
    "    \n",
    "    if nz_files[index]['column_name'] == 'Value in thousand euro':\n",
    "        if first_value_data:\n",
    "            df_values = df\n",
    "            first_value_data = False\n",
    "        else:\n",
    "            df_values = pd.concat([df_values,df],ignore_index=True)\n",
    "    else:\n",
    "        if first_quantity_data:\n",
    "            df_quantities = df\n",
    "            first_quantity_data = False\n",
    "        else:\n",
    "            df_quantities = pd.concat([df_quantities,df],ignore_index=True)\n",
    "    \n",
    "    \n",
    "df_nz = pd.merge(df_values,\n",
    "                 df_quantities[['Month Date','Partner','Flow','Quantity in tonnes']],\n",
    "                 on=['Month Date','Partner','Flow'], \n",
    "                 how='left')\n",
    "df_nz"
   ]
  },
  {
   "cell_type": "code",
   "execution_count": 333,
   "id": "45770d54",
   "metadata": {},
   "outputs": [],
   "source": [
    "df_nz['Year'] = pd.DatetimeIndex(df_nz['Month Date']).year\n",
    "df_nz['Month'] = pd.DatetimeIndex(df_nz['Month Date']).month\n",
    "df_nz['Month'] = df_nz['Month'].apply(lambda x: calendar.month_abbr[x])"
   ]
  },
  {
   "cell_type": "code",
   "execution_count": 334,
   "id": "ebf6a502",
   "metadata": {},
   "outputs": [],
   "source": [
    "df_nz.rename(columns = {\n",
    "                        'Quantity in tonnes':'Quantity (tonnes)',\n",
    "                        'Value in thousand euro':'Value (k Euro)'\n",
    "                       }, inplace = True)\n",
    "df_nz['Quantity (tonnes)'] = df_nz['Quantity (tonnes)'] / 1000"
   ]
  },
  {
   "cell_type": "code",
   "execution_count": 335,
   "id": "5ef5974b",
   "metadata": {},
   "outputs": [],
   "source": [
    "df_nz['Country'] = 'New Zealand'"
   ]
  },
  {
   "cell_type": "code",
   "execution_count": 336,
   "id": "cb3d2331",
   "metadata": {},
   "outputs": [
    {
     "data": {
      "text/html": [
       "<div>\n",
       "<style scoped>\n",
       "    .dataframe tbody tr th:only-of-type {\n",
       "        vertical-align: middle;\n",
       "    }\n",
       "\n",
       "    .dataframe tbody tr th {\n",
       "        vertical-align: top;\n",
       "    }\n",
       "\n",
       "    .dataframe thead th {\n",
       "        text-align: right;\n",
       "    }\n",
       "</style>\n",
       "<table border=\"1\" class=\"dataframe\">\n",
       "  <thead>\n",
       "    <tr style=\"text-align: right;\">\n",
       "      <th></th>\n",
       "      <th>Partner</th>\n",
       "      <th>Month Date</th>\n",
       "      <th>Value (k Euro)</th>\n",
       "      <th>Flow</th>\n",
       "      <th>Quantity (tonnes)</th>\n",
       "      <th>Year</th>\n",
       "      <th>Month</th>\n",
       "      <th>Country</th>\n",
       "    </tr>\n",
       "  </thead>\n",
       "  <tbody>\n",
       "    <tr>\n",
       "      <th>0</th>\n",
       "      <td>Denmark</td>\n",
       "      <td>2010-01-01</td>\n",
       "      <td>8271.0</td>\n",
       "      <td>EXPORT</td>\n",
       "      <td>4332.245</td>\n",
       "      <td>2010</td>\n",
       "      <td>Jan</td>\n",
       "      <td>New Zealand</td>\n",
       "    </tr>\n",
       "    <tr>\n",
       "      <th>1</th>\n",
       "      <td>Russian Federation</td>\n",
       "      <td>2010-01-01</td>\n",
       "      <td>5504.0</td>\n",
       "      <td>EXPORT</td>\n",
       "      <td>2008.407</td>\n",
       "      <td>2010</td>\n",
       "      <td>Jan</td>\n",
       "      <td>New Zealand</td>\n",
       "    </tr>\n",
       "    <tr>\n",
       "      <th>2</th>\n",
       "      <td>Morocco</td>\n",
       "      <td>2010-01-01</td>\n",
       "      <td>4296.0</td>\n",
       "      <td>EXPORT</td>\n",
       "      <td>2334.257</td>\n",
       "      <td>2010</td>\n",
       "      <td>Jan</td>\n",
       "      <td>New Zealand</td>\n",
       "    </tr>\n",
       "    <tr>\n",
       "      <th>3</th>\n",
       "      <td>China</td>\n",
       "      <td>2010-01-01</td>\n",
       "      <td>3211.0</td>\n",
       "      <td>EXPORT</td>\n",
       "      <td>1578.730</td>\n",
       "      <td>2010</td>\n",
       "      <td>Jan</td>\n",
       "      <td>New Zealand</td>\n",
       "    </tr>\n",
       "    <tr>\n",
       "      <th>4</th>\n",
       "      <td>Australia</td>\n",
       "      <td>2010-01-01</td>\n",
       "      <td>4608.0</td>\n",
       "      <td>EXPORT</td>\n",
       "      <td>2219.114</td>\n",
       "      <td>2010</td>\n",
       "      <td>Jan</td>\n",
       "      <td>New Zealand</td>\n",
       "    </tr>\n",
       "    <tr>\n",
       "      <th>...</th>\n",
       "      <td>...</td>\n",
       "      <td>...</td>\n",
       "      <td>...</td>\n",
       "      <td>...</td>\n",
       "      <td>...</td>\n",
       "      <td>...</td>\n",
       "      <td>...</td>\n",
       "      <td>...</td>\n",
       "    </tr>\n",
       "    <tr>\n",
       "      <th>16978</th>\n",
       "      <td>Fiji</td>\n",
       "      <td>2022-09-01</td>\n",
       "      <td>0.0</td>\n",
       "      <td>IMPORT</td>\n",
       "      <td>0.000</td>\n",
       "      <td>2022</td>\n",
       "      <td>Sep</td>\n",
       "      <td>New Zealand</td>\n",
       "    </tr>\n",
       "    <tr>\n",
       "      <th>16979</th>\n",
       "      <td>France</td>\n",
       "      <td>2022-09-01</td>\n",
       "      <td>0.0</td>\n",
       "      <td>IMPORT</td>\n",
       "      <td>0.000</td>\n",
       "      <td>2022</td>\n",
       "      <td>Sep</td>\n",
       "      <td>New Zealand</td>\n",
       "    </tr>\n",
       "    <tr>\n",
       "      <th>16980</th>\n",
       "      <td>New Zealand</td>\n",
       "      <td>2022-09-01</td>\n",
       "      <td>544.0</td>\n",
       "      <td>IMPORT</td>\n",
       "      <td>98.542</td>\n",
       "      <td>2022</td>\n",
       "      <td>Sep</td>\n",
       "      <td>New Zealand</td>\n",
       "    </tr>\n",
       "    <tr>\n",
       "      <th>16981</th>\n",
       "      <td>India</td>\n",
       "      <td>2022-09-01</td>\n",
       "      <td>4.0</td>\n",
       "      <td>IMPORT</td>\n",
       "      <td>0.750</td>\n",
       "      <td>2022</td>\n",
       "      <td>Sep</td>\n",
       "      <td>New Zealand</td>\n",
       "    </tr>\n",
       "    <tr>\n",
       "      <th>16982</th>\n",
       "      <td>United States of America</td>\n",
       "      <td>2022-09-01</td>\n",
       "      <td>0.0</td>\n",
       "      <td>IMPORT</td>\n",
       "      <td>0.000</td>\n",
       "      <td>2022</td>\n",
       "      <td>Sep</td>\n",
       "      <td>New Zealand</td>\n",
       "    </tr>\n",
       "  </tbody>\n",
       "</table>\n",
       "<p>16983 rows × 8 columns</p>\n",
       "</div>"
      ],
      "text/plain": [
       "                        Partner Month Date  Value (k Euro)    Flow  \\\n",
       "0                       Denmark 2010-01-01          8271.0  EXPORT   \n",
       "1            Russian Federation 2010-01-01          5504.0  EXPORT   \n",
       "2                       Morocco 2010-01-01          4296.0  EXPORT   \n",
       "3                         China 2010-01-01          3211.0  EXPORT   \n",
       "4                     Australia 2010-01-01          4608.0  EXPORT   \n",
       "...                         ...        ...             ...     ...   \n",
       "16978                      Fiji 2022-09-01             0.0  IMPORT   \n",
       "16979                    France 2022-09-01             0.0  IMPORT   \n",
       "16980               New Zealand 2022-09-01           544.0  IMPORT   \n",
       "16981                     India 2022-09-01             4.0  IMPORT   \n",
       "16982  United States of America 2022-09-01             0.0  IMPORT   \n",
       "\n",
       "       Quantity (tonnes)  Year Month      Country  \n",
       "0               4332.245  2010   Jan  New Zealand  \n",
       "1               2008.407  2010   Jan  New Zealand  \n",
       "2               2334.257  2010   Jan  New Zealand  \n",
       "3               1578.730  2010   Jan  New Zealand  \n",
       "4               2219.114  2010   Jan  New Zealand  \n",
       "...                  ...   ...   ...          ...  \n",
       "16978              0.000  2022   Sep  New Zealand  \n",
       "16979              0.000  2022   Sep  New Zealand  \n",
       "16980             98.542  2022   Sep  New Zealand  \n",
       "16981              0.750  2022   Sep  New Zealand  \n",
       "16982              0.000  2022   Sep  New Zealand  \n",
       "\n",
       "[16983 rows x 8 columns]"
      ]
     },
     "execution_count": 336,
     "metadata": {},
     "output_type": "execute_result"
    }
   ],
   "source": [
    "df_nz"
   ]
  },
  {
   "cell_type": "markdown",
   "id": "71311f2b",
   "metadata": {},
   "source": [
    "## 1.3 Combine Data\n"
   ]
  },
  {
   "cell_type": "code",
   "execution_count": 337,
   "id": "5ce92dcd",
   "metadata": {},
   "outputs": [],
   "source": [
    "df_eu.drop(columns='Product',axis=1,inplace=True)\n",
    "\n",
    "df_eu = df_eu.groupby(['Country','Flow','Partner','Month Date','Month','Year']).sum().reset_index()"
   ]
  },
  {
   "cell_type": "code",
   "execution_count": 338,
   "id": "b433ae92",
   "metadata": {},
   "outputs": [
    {
     "data": {
      "text/html": [
       "<div>\n",
       "<style scoped>\n",
       "    .dataframe tbody tr th:only-of-type {\n",
       "        vertical-align: middle;\n",
       "    }\n",
       "\n",
       "    .dataframe tbody tr th {\n",
       "        vertical-align: top;\n",
       "    }\n",
       "\n",
       "    .dataframe thead th {\n",
       "        text-align: right;\n",
       "    }\n",
       "</style>\n",
       "<table border=\"1\" class=\"dataframe\">\n",
       "  <thead>\n",
       "    <tr style=\"text-align: right;\">\n",
       "      <th></th>\n",
       "      <th>Country</th>\n",
       "      <th>Flow</th>\n",
       "      <th>Partner</th>\n",
       "      <th>Month Date</th>\n",
       "      <th>Month</th>\n",
       "      <th>Year</th>\n",
       "      <th>Quantity (tonnes)</th>\n",
       "      <th>Value (k Euro)</th>\n",
       "    </tr>\n",
       "  </thead>\n",
       "  <tbody>\n",
       "    <tr>\n",
       "      <th>0</th>\n",
       "      <td>Austria</td>\n",
       "      <td>EXPORT</td>\n",
       "      <td>Azerbaijan</td>\n",
       "      <td>2016-08-01</td>\n",
       "      <td>Aug</td>\n",
       "      <td>2016</td>\n",
       "      <td>7.376</td>\n",
       "      <td>27.301</td>\n",
       "    </tr>\n",
       "    <tr>\n",
       "      <th>1</th>\n",
       "      <td>Austria</td>\n",
       "      <td>EXPORT</td>\n",
       "      <td>Bahrain</td>\n",
       "      <td>2011-01-01</td>\n",
       "      <td>Jan</td>\n",
       "      <td>2011</td>\n",
       "      <td>0.043</td>\n",
       "      <td>0.100</td>\n",
       "    </tr>\n",
       "    <tr>\n",
       "      <th>2</th>\n",
       "      <td>Austria</td>\n",
       "      <td>EXPORT</td>\n",
       "      <td>Bosnia and Herzegovina</td>\n",
       "      <td>2021-09-01</td>\n",
       "      <td>Sep</td>\n",
       "      <td>2021</td>\n",
       "      <td>0.001</td>\n",
       "      <td>0.003</td>\n",
       "    </tr>\n",
       "  </tbody>\n",
       "</table>\n",
       "</div>"
      ],
      "text/plain": [
       "   Country    Flow                 Partner Month Date Month  Year  \\\n",
       "0  Austria  EXPORT              Azerbaijan 2016-08-01   Aug  2016   \n",
       "1  Austria  EXPORT                 Bahrain 2011-01-01   Jan  2011   \n",
       "2  Austria  EXPORT  Bosnia and Herzegovina 2021-09-01   Sep  2021   \n",
       "\n",
       "   Quantity (tonnes)  Value (k Euro)  \n",
       "0              7.376          27.301  \n",
       "1              0.043           0.100  \n",
       "2              0.001           0.003  "
      ]
     },
     "execution_count": 338,
     "metadata": {},
     "output_type": "execute_result"
    }
   ],
   "source": [
    "df_eu.head(3)"
   ]
  },
  {
   "cell_type": "code",
   "execution_count": null,
   "id": "0e0478ad",
   "metadata": {},
   "outputs": [],
   "source": []
  },
  {
   "cell_type": "code",
   "execution_count": 339,
   "id": "3e24b690",
   "metadata": {},
   "outputs": [],
   "source": [
    "df_nz = df_nz[['Country','Flow','Partner','Month Date','Month','Year','Quantity (tonnes)','Value (k Euro)']]"
   ]
  },
  {
   "cell_type": "code",
   "execution_count": 340,
   "id": "badad1d2",
   "metadata": {},
   "outputs": [
    {
     "data": {
      "text/html": [
       "<div>\n",
       "<style scoped>\n",
       "    .dataframe tbody tr th:only-of-type {\n",
       "        vertical-align: middle;\n",
       "    }\n",
       "\n",
       "    .dataframe tbody tr th {\n",
       "        vertical-align: top;\n",
       "    }\n",
       "\n",
       "    .dataframe thead th {\n",
       "        text-align: right;\n",
       "    }\n",
       "</style>\n",
       "<table border=\"1\" class=\"dataframe\">\n",
       "  <thead>\n",
       "    <tr style=\"text-align: right;\">\n",
       "      <th></th>\n",
       "      <th>Country</th>\n",
       "      <th>Flow</th>\n",
       "      <th>Partner</th>\n",
       "      <th>Month Date</th>\n",
       "      <th>Month</th>\n",
       "      <th>Year</th>\n",
       "      <th>Quantity (tonnes)</th>\n",
       "      <th>Value (k Euro)</th>\n",
       "    </tr>\n",
       "  </thead>\n",
       "  <tbody>\n",
       "    <tr>\n",
       "      <th>0</th>\n",
       "      <td>New Zealand</td>\n",
       "      <td>EXPORT</td>\n",
       "      <td>Denmark</td>\n",
       "      <td>2010-01-01</td>\n",
       "      <td>Jan</td>\n",
       "      <td>2010</td>\n",
       "      <td>4332.245</td>\n",
       "      <td>8271.0</td>\n",
       "    </tr>\n",
       "    <tr>\n",
       "      <th>1</th>\n",
       "      <td>New Zealand</td>\n",
       "      <td>EXPORT</td>\n",
       "      <td>Russian Federation</td>\n",
       "      <td>2010-01-01</td>\n",
       "      <td>Jan</td>\n",
       "      <td>2010</td>\n",
       "      <td>2008.407</td>\n",
       "      <td>5504.0</td>\n",
       "    </tr>\n",
       "    <tr>\n",
       "      <th>2</th>\n",
       "      <td>New Zealand</td>\n",
       "      <td>EXPORT</td>\n",
       "      <td>Morocco</td>\n",
       "      <td>2010-01-01</td>\n",
       "      <td>Jan</td>\n",
       "      <td>2010</td>\n",
       "      <td>2334.257</td>\n",
       "      <td>4296.0</td>\n",
       "    </tr>\n",
       "  </tbody>\n",
       "</table>\n",
       "</div>"
      ],
      "text/plain": [
       "       Country    Flow             Partner Month Date Month  Year  \\\n",
       "0  New Zealand  EXPORT             Denmark 2010-01-01   Jan  2010   \n",
       "1  New Zealand  EXPORT  Russian Federation 2010-01-01   Jan  2010   \n",
       "2  New Zealand  EXPORT             Morocco 2010-01-01   Jan  2010   \n",
       "\n",
       "   Quantity (tonnes)  Value (k Euro)  \n",
       "0           4332.245          8271.0  \n",
       "1           2008.407          5504.0  \n",
       "2           2334.257          4296.0  "
      ]
     },
     "execution_count": 340,
     "metadata": {},
     "output_type": "execute_result"
    }
   ],
   "source": [
    "df_nz.head(3)"
   ]
  },
  {
   "cell_type": "code",
   "execution_count": 341,
   "id": "b2d84da8",
   "metadata": {},
   "outputs": [],
   "source": [
    "pd.set_option('display.max_rows', 20)           "
   ]
  },
  {
   "cell_type": "code",
   "execution_count": 342,
   "id": "fa5593df",
   "metadata": {},
   "outputs": [],
   "source": [
    "df_eu_nz = pd.concat([df_eu,df_nz],ignore_index=True)"
   ]
  },
  {
   "cell_type": "code",
   "execution_count": 343,
   "id": "620b0f86",
   "metadata": {},
   "outputs": [
    {
     "data": {
      "text/html": [
       "<div>\n",
       "<style scoped>\n",
       "    .dataframe tbody tr th:only-of-type {\n",
       "        vertical-align: middle;\n",
       "    }\n",
       "\n",
       "    .dataframe tbody tr th {\n",
       "        vertical-align: top;\n",
       "    }\n",
       "\n",
       "    .dataframe thead th {\n",
       "        text-align: right;\n",
       "    }\n",
       "</style>\n",
       "<table border=\"1\" class=\"dataframe\">\n",
       "  <thead>\n",
       "    <tr style=\"text-align: right;\">\n",
       "      <th></th>\n",
       "      <th>Country</th>\n",
       "      <th>Flow</th>\n",
       "      <th>Partner</th>\n",
       "      <th>Month Date</th>\n",
       "      <th>Month</th>\n",
       "      <th>Year</th>\n",
       "      <th>Quantity (tonnes)</th>\n",
       "      <th>Value (k Euro)</th>\n",
       "    </tr>\n",
       "  </thead>\n",
       "  <tbody>\n",
       "    <tr>\n",
       "      <th>0</th>\n",
       "      <td>Austria</td>\n",
       "      <td>EXPORT</td>\n",
       "      <td>Azerbaijan</td>\n",
       "      <td>2016-08-01</td>\n",
       "      <td>Aug</td>\n",
       "      <td>2016</td>\n",
       "      <td>7.376</td>\n",
       "      <td>27.301</td>\n",
       "    </tr>\n",
       "    <tr>\n",
       "      <th>1</th>\n",
       "      <td>Austria</td>\n",
       "      <td>EXPORT</td>\n",
       "      <td>Bahrain</td>\n",
       "      <td>2011-01-01</td>\n",
       "      <td>Jan</td>\n",
       "      <td>2011</td>\n",
       "      <td>0.043</td>\n",
       "      <td>0.100</td>\n",
       "    </tr>\n",
       "    <tr>\n",
       "      <th>2</th>\n",
       "      <td>Austria</td>\n",
       "      <td>EXPORT</td>\n",
       "      <td>Bosnia and Herzegovina</td>\n",
       "      <td>2021-09-01</td>\n",
       "      <td>Sep</td>\n",
       "      <td>2021</td>\n",
       "      <td>0.001</td>\n",
       "      <td>0.003</td>\n",
       "    </tr>\n",
       "    <tr>\n",
       "      <th>3</th>\n",
       "      <td>Austria</td>\n",
       "      <td>EXPORT</td>\n",
       "      <td>Canada</td>\n",
       "      <td>2020-11-01</td>\n",
       "      <td>Nov</td>\n",
       "      <td>2020</td>\n",
       "      <td>0.000</td>\n",
       "      <td>0.017</td>\n",
       "    </tr>\n",
       "    <tr>\n",
       "      <th>4</th>\n",
       "      <td>Austria</td>\n",
       "      <td>EXPORT</td>\n",
       "      <td>China</td>\n",
       "      <td>2013-11-01</td>\n",
       "      <td>Nov</td>\n",
       "      <td>2013</td>\n",
       "      <td>2.000</td>\n",
       "      <td>13.900</td>\n",
       "    </tr>\n",
       "    <tr>\n",
       "      <th>...</th>\n",
       "      <td>...</td>\n",
       "      <td>...</td>\n",
       "      <td>...</td>\n",
       "      <td>...</td>\n",
       "      <td>...</td>\n",
       "      <td>...</td>\n",
       "      <td>...</td>\n",
       "      <td>...</td>\n",
       "    </tr>\n",
       "    <tr>\n",
       "      <th>69078</th>\n",
       "      <td>New Zealand</td>\n",
       "      <td>IMPORT</td>\n",
       "      <td>Fiji</td>\n",
       "      <td>2022-09-01</td>\n",
       "      <td>Sep</td>\n",
       "      <td>2022</td>\n",
       "      <td>0.000</td>\n",
       "      <td>0.000</td>\n",
       "    </tr>\n",
       "    <tr>\n",
       "      <th>69079</th>\n",
       "      <td>New Zealand</td>\n",
       "      <td>IMPORT</td>\n",
       "      <td>France</td>\n",
       "      <td>2022-09-01</td>\n",
       "      <td>Sep</td>\n",
       "      <td>2022</td>\n",
       "      <td>0.000</td>\n",
       "      <td>0.000</td>\n",
       "    </tr>\n",
       "    <tr>\n",
       "      <th>69080</th>\n",
       "      <td>New Zealand</td>\n",
       "      <td>IMPORT</td>\n",
       "      <td>New Zealand</td>\n",
       "      <td>2022-09-01</td>\n",
       "      <td>Sep</td>\n",
       "      <td>2022</td>\n",
       "      <td>98.542</td>\n",
       "      <td>544.000</td>\n",
       "    </tr>\n",
       "    <tr>\n",
       "      <th>69081</th>\n",
       "      <td>New Zealand</td>\n",
       "      <td>IMPORT</td>\n",
       "      <td>India</td>\n",
       "      <td>2022-09-01</td>\n",
       "      <td>Sep</td>\n",
       "      <td>2022</td>\n",
       "      <td>0.750</td>\n",
       "      <td>4.000</td>\n",
       "    </tr>\n",
       "    <tr>\n",
       "      <th>69082</th>\n",
       "      <td>New Zealand</td>\n",
       "      <td>IMPORT</td>\n",
       "      <td>United States of America</td>\n",
       "      <td>2022-09-01</td>\n",
       "      <td>Sep</td>\n",
       "      <td>2022</td>\n",
       "      <td>0.000</td>\n",
       "      <td>0.000</td>\n",
       "    </tr>\n",
       "  </tbody>\n",
       "</table>\n",
       "<p>69083 rows × 8 columns</p>\n",
       "</div>"
      ],
      "text/plain": [
       "           Country    Flow                   Partner Month Date Month  Year  \\\n",
       "0          Austria  EXPORT                Azerbaijan 2016-08-01   Aug  2016   \n",
       "1          Austria  EXPORT                   Bahrain 2011-01-01   Jan  2011   \n",
       "2          Austria  EXPORT    Bosnia and Herzegovina 2021-09-01   Sep  2021   \n",
       "3          Austria  EXPORT                    Canada 2020-11-01   Nov  2020   \n",
       "4          Austria  EXPORT                     China 2013-11-01   Nov  2013   \n",
       "...            ...     ...                       ...        ...   ...   ...   \n",
       "69078  New Zealand  IMPORT                      Fiji 2022-09-01   Sep  2022   \n",
       "69079  New Zealand  IMPORT                    France 2022-09-01   Sep  2022   \n",
       "69080  New Zealand  IMPORT               New Zealand 2022-09-01   Sep  2022   \n",
       "69081  New Zealand  IMPORT                     India 2022-09-01   Sep  2022   \n",
       "69082  New Zealand  IMPORT  United States of America 2022-09-01   Sep  2022   \n",
       "\n",
       "       Quantity (tonnes)  Value (k Euro)  \n",
       "0                  7.376          27.301  \n",
       "1                  0.043           0.100  \n",
       "2                  0.001           0.003  \n",
       "3                  0.000           0.017  \n",
       "4                  2.000          13.900  \n",
       "...                  ...             ...  \n",
       "69078              0.000           0.000  \n",
       "69079              0.000           0.000  \n",
       "69080             98.542         544.000  \n",
       "69081              0.750           4.000  \n",
       "69082              0.000           0.000  \n",
       "\n",
       "[69083 rows x 8 columns]"
      ]
     },
     "execution_count": 343,
     "metadata": {},
     "output_type": "execute_result"
    }
   ],
   "source": [
    "df_eu_nz"
   ]
  },
  {
   "cell_type": "code",
   "execution_count": null,
   "id": "b80623ec",
   "metadata": {},
   "outputs": [],
   "source": []
  },
  {
   "cell_type": "code",
   "execution_count": null,
   "id": "3e69e214",
   "metadata": {},
   "outputs": [],
   "source": []
  },
  {
   "cell_type": "code",
   "execution_count": null,
   "id": "46656579",
   "metadata": {},
   "outputs": [],
   "source": []
  },
  {
   "cell_type": "code",
   "execution_count": 344,
   "id": "edd22af1",
   "metadata": {},
   "outputs": [
    {
     "data": {
      "text/html": [
       "<div>\n",
       "<style scoped>\n",
       "    .dataframe tbody tr th:only-of-type {\n",
       "        vertical-align: middle;\n",
       "    }\n",
       "\n",
       "    .dataframe tbody tr th {\n",
       "        vertical-align: top;\n",
       "    }\n",
       "\n",
       "    .dataframe thead th {\n",
       "        text-align: right;\n",
       "    }\n",
       "</style>\n",
       "<table border=\"1\" class=\"dataframe\">\n",
       "  <thead>\n",
       "    <tr style=\"text-align: right;\">\n",
       "      <th></th>\n",
       "      <th>Country</th>\n",
       "      <th>Flow</th>\n",
       "      <th>Partner</th>\n",
       "      <th>Month Date</th>\n",
       "      <th>Month</th>\n",
       "      <th>Year</th>\n",
       "      <th>Quantity (tonnes)</th>\n",
       "      <th>Value (k Euro)</th>\n",
       "    </tr>\n",
       "  </thead>\n",
       "  <tbody>\n",
       "    <tr>\n",
       "      <th>68012</th>\n",
       "      <td>New Zealand</td>\n",
       "      <td>IMPORT</td>\n",
       "      <td>Australia</td>\n",
       "      <td>2010-01-01</td>\n",
       "      <td>Jan</td>\n",
       "      <td>2010</td>\n",
       "      <td>12.596</td>\n",
       "      <td>53.0</td>\n",
       "    </tr>\n",
       "    <tr>\n",
       "      <th>68013</th>\n",
       "      <td>New Zealand</td>\n",
       "      <td>IMPORT</td>\n",
       "      <td>Denmark</td>\n",
       "      <td>2010-01-01</td>\n",
       "      <td>Jan</td>\n",
       "      <td>2010</td>\n",
       "      <td>7.024</td>\n",
       "      <td>32.0</td>\n",
       "    </tr>\n",
       "    <tr>\n",
       "      <th>68014</th>\n",
       "      <td>New Zealand</td>\n",
       "      <td>IMPORT</td>\n",
       "      <td>Fiji</td>\n",
       "      <td>2010-01-01</td>\n",
       "      <td>Jan</td>\n",
       "      <td>2010</td>\n",
       "      <td>0.000</td>\n",
       "      <td>0.0</td>\n",
       "    </tr>\n",
       "    <tr>\n",
       "      <th>68015</th>\n",
       "      <td>New Zealand</td>\n",
       "      <td>IMPORT</td>\n",
       "      <td>France</td>\n",
       "      <td>2010-01-01</td>\n",
       "      <td>Jan</td>\n",
       "      <td>2010</td>\n",
       "      <td>0.046</td>\n",
       "      <td>0.0</td>\n",
       "    </tr>\n",
       "    <tr>\n",
       "      <th>68016</th>\n",
       "      <td>New Zealand</td>\n",
       "      <td>IMPORT</td>\n",
       "      <td>New Zealand</td>\n",
       "      <td>2010-01-01</td>\n",
       "      <td>Jan</td>\n",
       "      <td>2010</td>\n",
       "      <td>0.000</td>\n",
       "      <td>0.0</td>\n",
       "    </tr>\n",
       "    <tr>\n",
       "      <th>...</th>\n",
       "      <td>...</td>\n",
       "      <td>...</td>\n",
       "      <td>...</td>\n",
       "      <td>...</td>\n",
       "      <td>...</td>\n",
       "      <td>...</td>\n",
       "      <td>...</td>\n",
       "      <td>...</td>\n",
       "    </tr>\n",
       "    <tr>\n",
       "      <th>69078</th>\n",
       "      <td>New Zealand</td>\n",
       "      <td>IMPORT</td>\n",
       "      <td>Fiji</td>\n",
       "      <td>2022-09-01</td>\n",
       "      <td>Sep</td>\n",
       "      <td>2022</td>\n",
       "      <td>0.000</td>\n",
       "      <td>0.0</td>\n",
       "    </tr>\n",
       "    <tr>\n",
       "      <th>69079</th>\n",
       "      <td>New Zealand</td>\n",
       "      <td>IMPORT</td>\n",
       "      <td>France</td>\n",
       "      <td>2022-09-01</td>\n",
       "      <td>Sep</td>\n",
       "      <td>2022</td>\n",
       "      <td>0.000</td>\n",
       "      <td>0.0</td>\n",
       "    </tr>\n",
       "    <tr>\n",
       "      <th>69080</th>\n",
       "      <td>New Zealand</td>\n",
       "      <td>IMPORT</td>\n",
       "      <td>New Zealand</td>\n",
       "      <td>2022-09-01</td>\n",
       "      <td>Sep</td>\n",
       "      <td>2022</td>\n",
       "      <td>98.542</td>\n",
       "      <td>544.0</td>\n",
       "    </tr>\n",
       "    <tr>\n",
       "      <th>69081</th>\n",
       "      <td>New Zealand</td>\n",
       "      <td>IMPORT</td>\n",
       "      <td>India</td>\n",
       "      <td>2022-09-01</td>\n",
       "      <td>Sep</td>\n",
       "      <td>2022</td>\n",
       "      <td>0.750</td>\n",
       "      <td>4.0</td>\n",
       "    </tr>\n",
       "    <tr>\n",
       "      <th>69082</th>\n",
       "      <td>New Zealand</td>\n",
       "      <td>IMPORT</td>\n",
       "      <td>United States of America</td>\n",
       "      <td>2022-09-01</td>\n",
       "      <td>Sep</td>\n",
       "      <td>2022</td>\n",
       "      <td>0.000</td>\n",
       "      <td>0.0</td>\n",
       "    </tr>\n",
       "  </tbody>\n",
       "</table>\n",
       "<p>1071 rows × 8 columns</p>\n",
       "</div>"
      ],
      "text/plain": [
       "           Country    Flow                   Partner Month Date Month  Year  \\\n",
       "68012  New Zealand  IMPORT                 Australia 2010-01-01   Jan  2010   \n",
       "68013  New Zealand  IMPORT                   Denmark 2010-01-01   Jan  2010   \n",
       "68014  New Zealand  IMPORT                      Fiji 2010-01-01   Jan  2010   \n",
       "68015  New Zealand  IMPORT                    France 2010-01-01   Jan  2010   \n",
       "68016  New Zealand  IMPORT               New Zealand 2010-01-01   Jan  2010   \n",
       "...            ...     ...                       ...        ...   ...   ...   \n",
       "69078  New Zealand  IMPORT                      Fiji 2022-09-01   Sep  2022   \n",
       "69079  New Zealand  IMPORT                    France 2022-09-01   Sep  2022   \n",
       "69080  New Zealand  IMPORT               New Zealand 2022-09-01   Sep  2022   \n",
       "69081  New Zealand  IMPORT                     India 2022-09-01   Sep  2022   \n",
       "69082  New Zealand  IMPORT  United States of America 2022-09-01   Sep  2022   \n",
       "\n",
       "       Quantity (tonnes)  Value (k Euro)  \n",
       "68012             12.596            53.0  \n",
       "68013              7.024            32.0  \n",
       "68014              0.000             0.0  \n",
       "68015              0.046             0.0  \n",
       "68016              0.000             0.0  \n",
       "...                  ...             ...  \n",
       "69078              0.000             0.0  \n",
       "69079              0.000             0.0  \n",
       "69080             98.542           544.0  \n",
       "69081              0.750             4.0  \n",
       "69082              0.000             0.0  \n",
       "\n",
       "[1071 rows x 8 columns]"
      ]
     },
     "execution_count": 344,
     "metadata": {},
     "output_type": "execute_result"
    }
   ],
   "source": [
    "df_eu_nz[(df_eu_nz['Flow']=='IMPORT')]"
   ]
  },
  {
   "cell_type": "code",
   "execution_count": 345,
   "id": "fd164c44",
   "metadata": {},
   "outputs": [
    {
     "data": {
      "text/html": [
       "<div>\n",
       "<style scoped>\n",
       "    .dataframe tbody tr th:only-of-type {\n",
       "        vertical-align: middle;\n",
       "    }\n",
       "\n",
       "    .dataframe tbody tr th {\n",
       "        vertical-align: top;\n",
       "    }\n",
       "\n",
       "    .dataframe thead th {\n",
       "        text-align: right;\n",
       "    }\n",
       "</style>\n",
       "<table border=\"1\" class=\"dataframe\">\n",
       "  <thead>\n",
       "    <tr style=\"text-align: right;\">\n",
       "      <th></th>\n",
       "      <th>Country</th>\n",
       "      <th>Flow</th>\n",
       "      <th>Partner</th>\n",
       "      <th>Month Date</th>\n",
       "      <th>Month</th>\n",
       "      <th>Year</th>\n",
       "      <th>Quantity (tonnes)</th>\n",
       "      <th>Value (k Euro)</th>\n",
       "    </tr>\n",
       "  </thead>\n",
       "  <tbody>\n",
       "    <tr>\n",
       "      <th>15912</th>\n",
       "      <td>New Zealand</td>\n",
       "      <td>IMPORT</td>\n",
       "      <td>Australia</td>\n",
       "      <td>2010-01-01</td>\n",
       "      <td>Jan</td>\n",
       "      <td>2010</td>\n",
       "      <td>12.596</td>\n",
       "      <td>53.0</td>\n",
       "    </tr>\n",
       "    <tr>\n",
       "      <th>15913</th>\n",
       "      <td>New Zealand</td>\n",
       "      <td>IMPORT</td>\n",
       "      <td>Denmark</td>\n",
       "      <td>2010-01-01</td>\n",
       "      <td>Jan</td>\n",
       "      <td>2010</td>\n",
       "      <td>7.024</td>\n",
       "      <td>32.0</td>\n",
       "    </tr>\n",
       "    <tr>\n",
       "      <th>15914</th>\n",
       "      <td>New Zealand</td>\n",
       "      <td>IMPORT</td>\n",
       "      <td>Fiji</td>\n",
       "      <td>2010-01-01</td>\n",
       "      <td>Jan</td>\n",
       "      <td>2010</td>\n",
       "      <td>0.000</td>\n",
       "      <td>0.0</td>\n",
       "    </tr>\n",
       "    <tr>\n",
       "      <th>15915</th>\n",
       "      <td>New Zealand</td>\n",
       "      <td>IMPORT</td>\n",
       "      <td>France</td>\n",
       "      <td>2010-01-01</td>\n",
       "      <td>Jan</td>\n",
       "      <td>2010</td>\n",
       "      <td>0.046</td>\n",
       "      <td>0.0</td>\n",
       "    </tr>\n",
       "    <tr>\n",
       "      <th>15916</th>\n",
       "      <td>New Zealand</td>\n",
       "      <td>IMPORT</td>\n",
       "      <td>New Zealand</td>\n",
       "      <td>2010-01-01</td>\n",
       "      <td>Jan</td>\n",
       "      <td>2010</td>\n",
       "      <td>0.000</td>\n",
       "      <td>0.0</td>\n",
       "    </tr>\n",
       "    <tr>\n",
       "      <th>...</th>\n",
       "      <td>...</td>\n",
       "      <td>...</td>\n",
       "      <td>...</td>\n",
       "      <td>...</td>\n",
       "      <td>...</td>\n",
       "      <td>...</td>\n",
       "      <td>...</td>\n",
       "      <td>...</td>\n",
       "    </tr>\n",
       "    <tr>\n",
       "      <th>16978</th>\n",
       "      <td>New Zealand</td>\n",
       "      <td>IMPORT</td>\n",
       "      <td>Fiji</td>\n",
       "      <td>2022-09-01</td>\n",
       "      <td>Sep</td>\n",
       "      <td>2022</td>\n",
       "      <td>0.000</td>\n",
       "      <td>0.0</td>\n",
       "    </tr>\n",
       "    <tr>\n",
       "      <th>16979</th>\n",
       "      <td>New Zealand</td>\n",
       "      <td>IMPORT</td>\n",
       "      <td>France</td>\n",
       "      <td>2022-09-01</td>\n",
       "      <td>Sep</td>\n",
       "      <td>2022</td>\n",
       "      <td>0.000</td>\n",
       "      <td>0.0</td>\n",
       "    </tr>\n",
       "    <tr>\n",
       "      <th>16980</th>\n",
       "      <td>New Zealand</td>\n",
       "      <td>IMPORT</td>\n",
       "      <td>New Zealand</td>\n",
       "      <td>2022-09-01</td>\n",
       "      <td>Sep</td>\n",
       "      <td>2022</td>\n",
       "      <td>98.542</td>\n",
       "      <td>544.0</td>\n",
       "    </tr>\n",
       "    <tr>\n",
       "      <th>16981</th>\n",
       "      <td>New Zealand</td>\n",
       "      <td>IMPORT</td>\n",
       "      <td>India</td>\n",
       "      <td>2022-09-01</td>\n",
       "      <td>Sep</td>\n",
       "      <td>2022</td>\n",
       "      <td>0.750</td>\n",
       "      <td>4.0</td>\n",
       "    </tr>\n",
       "    <tr>\n",
       "      <th>16982</th>\n",
       "      <td>New Zealand</td>\n",
       "      <td>IMPORT</td>\n",
       "      <td>United States of America</td>\n",
       "      <td>2022-09-01</td>\n",
       "      <td>Sep</td>\n",
       "      <td>2022</td>\n",
       "      <td>0.000</td>\n",
       "      <td>0.0</td>\n",
       "    </tr>\n",
       "  </tbody>\n",
       "</table>\n",
       "<p>1071 rows × 8 columns</p>\n",
       "</div>"
      ],
      "text/plain": [
       "           Country    Flow                   Partner Month Date Month  Year  \\\n",
       "15912  New Zealand  IMPORT                 Australia 2010-01-01   Jan  2010   \n",
       "15913  New Zealand  IMPORT                   Denmark 2010-01-01   Jan  2010   \n",
       "15914  New Zealand  IMPORT                      Fiji 2010-01-01   Jan  2010   \n",
       "15915  New Zealand  IMPORT                    France 2010-01-01   Jan  2010   \n",
       "15916  New Zealand  IMPORT               New Zealand 2010-01-01   Jan  2010   \n",
       "...            ...     ...                       ...        ...   ...   ...   \n",
       "16978  New Zealand  IMPORT                      Fiji 2022-09-01   Sep  2022   \n",
       "16979  New Zealand  IMPORT                    France 2022-09-01   Sep  2022   \n",
       "16980  New Zealand  IMPORT               New Zealand 2022-09-01   Sep  2022   \n",
       "16981  New Zealand  IMPORT                     India 2022-09-01   Sep  2022   \n",
       "16982  New Zealand  IMPORT  United States of America 2022-09-01   Sep  2022   \n",
       "\n",
       "       Quantity (tonnes)  Value (k Euro)  \n",
       "15912             12.596            53.0  \n",
       "15913              7.024            32.0  \n",
       "15914              0.000             0.0  \n",
       "15915              0.046             0.0  \n",
       "15916              0.000             0.0  \n",
       "...                  ...             ...  \n",
       "16978              0.000             0.0  \n",
       "16979              0.000             0.0  \n",
       "16980             98.542           544.0  \n",
       "16981              0.750             4.0  \n",
       "16982              0.000             0.0  \n",
       "\n",
       "[1071 rows x 8 columns]"
      ]
     },
     "execution_count": 345,
     "metadata": {},
     "output_type": "execute_result"
    }
   ],
   "source": [
    "df_nz[(df_nz['Flow']=='IMPORT')]"
   ]
  },
  {
   "cell_type": "code",
   "execution_count": null,
   "id": "097feed4",
   "metadata": {},
   "outputs": [],
   "source": []
  },
  {
   "cell_type": "code",
   "execution_count": null,
   "id": "fc19367b",
   "metadata": {},
   "outputs": [],
   "source": []
  },
  {
   "cell_type": "code",
   "execution_count": null,
   "id": "17bea865",
   "metadata": {},
   "outputs": [],
   "source": []
  },
  {
   "cell_type": "code",
   "execution_count": null,
   "id": "0975466b",
   "metadata": {},
   "outputs": [],
   "source": []
  },
  {
   "cell_type": "code",
   "execution_count": null,
   "id": "c2c72385",
   "metadata": {},
   "outputs": [],
   "source": []
  },
  {
   "cell_type": "code",
   "execution_count": null,
   "id": "7291ddcb",
   "metadata": {},
   "outputs": [],
   "source": []
  },
  {
   "cell_type": "markdown",
   "id": "1a41f8b6",
   "metadata": {},
   "source": [
    "## 2.1 Plot"
   ]
  },
  {
   "cell_type": "code",
   "execution_count": 346,
   "id": "35e87410",
   "metadata": {},
   "outputs": [],
   "source": [
    "df_plot = df_eu_nz.copy() # Use deep copy to preserve the contents of df_eu "
   ]
  },
  {
   "cell_type": "code",
   "execution_count": 347,
   "id": "43613871",
   "metadata": {},
   "outputs": [],
   "source": [
    "df_plot = df_plot[(df_plot['Flow']=='EXPORT')]"
   ]
  },
  {
   "cell_type": "code",
   "execution_count": 348,
   "id": "991a35d3",
   "metadata": {},
   "outputs": [],
   "source": [
    "df_plot.drop(\n",
    "    ['Flow','Year','Month','Partner'],\n",
    "    axis=1,\n",
    "    inplace=True)\n"
   ]
  },
  {
   "cell_type": "code",
   "execution_count": 349,
   "id": "3bc1b2d1",
   "metadata": {},
   "outputs": [
    {
     "data": {
      "text/html": [
       "<div>\n",
       "<style scoped>\n",
       "    .dataframe tbody tr th:only-of-type {\n",
       "        vertical-align: middle;\n",
       "    }\n",
       "\n",
       "    .dataframe tbody tr th {\n",
       "        vertical-align: top;\n",
       "    }\n",
       "\n",
       "    .dataframe thead th {\n",
       "        text-align: right;\n",
       "    }\n",
       "</style>\n",
       "<table border=\"1\" class=\"dataframe\">\n",
       "  <thead>\n",
       "    <tr style=\"text-align: right;\">\n",
       "      <th></th>\n",
       "      <th>Country</th>\n",
       "      <th>Month Date</th>\n",
       "      <th>Quantity (tonnes)</th>\n",
       "      <th>Value (k Euro)</th>\n",
       "    </tr>\n",
       "  </thead>\n",
       "  <tbody>\n",
       "    <tr>\n",
       "      <th>0</th>\n",
       "      <td>Austria</td>\n",
       "      <td>2016-08-01</td>\n",
       "      <td>7.376</td>\n",
       "      <td>27.301</td>\n",
       "    </tr>\n",
       "    <tr>\n",
       "      <th>1</th>\n",
       "      <td>Austria</td>\n",
       "      <td>2011-01-01</td>\n",
       "      <td>0.043</td>\n",
       "      <td>0.100</td>\n",
       "    </tr>\n",
       "    <tr>\n",
       "      <th>2</th>\n",
       "      <td>Austria</td>\n",
       "      <td>2021-09-01</td>\n",
       "      <td>0.001</td>\n",
       "      <td>0.003</td>\n",
       "    </tr>\n",
       "    <tr>\n",
       "      <th>3</th>\n",
       "      <td>Austria</td>\n",
       "      <td>2020-11-01</td>\n",
       "      <td>0.000</td>\n",
       "      <td>0.017</td>\n",
       "    </tr>\n",
       "    <tr>\n",
       "      <th>4</th>\n",
       "      <td>Austria</td>\n",
       "      <td>2013-11-01</td>\n",
       "      <td>2.000</td>\n",
       "      <td>13.900</td>\n",
       "    </tr>\n",
       "    <tr>\n",
       "      <th>...</th>\n",
       "      <td>...</td>\n",
       "      <td>...</td>\n",
       "      <td>...</td>\n",
       "      <td>...</td>\n",
       "    </tr>\n",
       "    <tr>\n",
       "      <th>68007</th>\n",
       "      <td>New Zealand</td>\n",
       "      <td>2022-09-01</td>\n",
       "      <td>7.586</td>\n",
       "      <td>61.000</td>\n",
       "    </tr>\n",
       "    <tr>\n",
       "      <th>68008</th>\n",
       "      <td>New Zealand</td>\n",
       "      <td>2022-09-01</td>\n",
       "      <td>NaN</td>\n",
       "      <td>NaN</td>\n",
       "    </tr>\n",
       "    <tr>\n",
       "      <th>68009</th>\n",
       "      <td>New Zealand</td>\n",
       "      <td>2022-09-01</td>\n",
       "      <td>NaN</td>\n",
       "      <td>NaN</td>\n",
       "    </tr>\n",
       "    <tr>\n",
       "      <th>68010</th>\n",
       "      <td>New Zealand</td>\n",
       "      <td>2022-09-01</td>\n",
       "      <td>0.000</td>\n",
       "      <td>0.000</td>\n",
       "    </tr>\n",
       "    <tr>\n",
       "      <th>68011</th>\n",
       "      <td>New Zealand</td>\n",
       "      <td>2022-09-01</td>\n",
       "      <td>15.777</td>\n",
       "      <td>119.000</td>\n",
       "    </tr>\n",
       "  </tbody>\n",
       "</table>\n",
       "<p>68012 rows × 4 columns</p>\n",
       "</div>"
      ],
      "text/plain": [
       "           Country Month Date  Quantity (tonnes)  Value (k Euro)\n",
       "0          Austria 2016-08-01              7.376          27.301\n",
       "1          Austria 2011-01-01              0.043           0.100\n",
       "2          Austria 2021-09-01              0.001           0.003\n",
       "3          Austria 2020-11-01              0.000           0.017\n",
       "4          Austria 2013-11-01              2.000          13.900\n",
       "...            ...        ...                ...             ...\n",
       "68007  New Zealand 2022-09-01              7.586          61.000\n",
       "68008  New Zealand 2022-09-01                NaN             NaN\n",
       "68009  New Zealand 2022-09-01                NaN             NaN\n",
       "68010  New Zealand 2022-09-01              0.000           0.000\n",
       "68011  New Zealand 2022-09-01             15.777         119.000\n",
       "\n",
       "[68012 rows x 4 columns]"
      ]
     },
     "execution_count": 349,
     "metadata": {},
     "output_type": "execute_result"
    }
   ],
   "source": [
    "df_plot"
   ]
  },
  {
   "cell_type": "code",
   "execution_count": 350,
   "id": "37a7596e",
   "metadata": {},
   "outputs": [],
   "source": [
    "df_plot = df_plot.groupby(['Country','Month Date']).sum().reset_index()"
   ]
  },
  {
   "cell_type": "code",
   "execution_count": 351,
   "id": "adaeb820",
   "metadata": {},
   "outputs": [
    {
     "data": {
      "text/html": [
       "<div>\n",
       "<style scoped>\n",
       "    .dataframe tbody tr th:only-of-type {\n",
       "        vertical-align: middle;\n",
       "    }\n",
       "\n",
       "    .dataframe tbody tr th {\n",
       "        vertical-align: top;\n",
       "    }\n",
       "\n",
       "    .dataframe thead th {\n",
       "        text-align: right;\n",
       "    }\n",
       "</style>\n",
       "<table border=\"1\" class=\"dataframe\">\n",
       "  <thead>\n",
       "    <tr style=\"text-align: right;\">\n",
       "      <th></th>\n",
       "      <th>Country</th>\n",
       "      <th>Month Date</th>\n",
       "      <th>Quantity (tonnes)</th>\n",
       "      <th>Value (k Euro)</th>\n",
       "    </tr>\n",
       "  </thead>\n",
       "  <tbody>\n",
       "    <tr>\n",
       "      <th>0</th>\n",
       "      <td>Austria</td>\n",
       "      <td>2010-01-01</td>\n",
       "      <td>7.529</td>\n",
       "      <td>33.448</td>\n",
       "    </tr>\n",
       "    <tr>\n",
       "      <th>1</th>\n",
       "      <td>Austria</td>\n",
       "      <td>2010-02-01</td>\n",
       "      <td>12.382</td>\n",
       "      <td>56.602</td>\n",
       "    </tr>\n",
       "    <tr>\n",
       "      <th>2</th>\n",
       "      <td>Austria</td>\n",
       "      <td>2010-03-01</td>\n",
       "      <td>7.520</td>\n",
       "      <td>34.685</td>\n",
       "    </tr>\n",
       "    <tr>\n",
       "      <th>3</th>\n",
       "      <td>Austria</td>\n",
       "      <td>2010-04-01</td>\n",
       "      <td>6.950</td>\n",
       "      <td>28.078</td>\n",
       "    </tr>\n",
       "    <tr>\n",
       "      <th>4</th>\n",
       "      <td>Austria</td>\n",
       "      <td>2010-05-01</td>\n",
       "      <td>0.698</td>\n",
       "      <td>3.211</td>\n",
       "    </tr>\n",
       "    <tr>\n",
       "      <th>...</th>\n",
       "      <td>...</td>\n",
       "      <td>...</td>\n",
       "      <td>...</td>\n",
       "      <td>...</td>\n",
       "    </tr>\n",
       "    <tr>\n",
       "      <th>3734</th>\n",
       "      <td>United Kingdom</td>\n",
       "      <td>2019-09-01</td>\n",
       "      <td>730.051</td>\n",
       "      <td>2947.043</td>\n",
       "    </tr>\n",
       "    <tr>\n",
       "      <th>3735</th>\n",
       "      <td>United Kingdom</td>\n",
       "      <td>2019-10-01</td>\n",
       "      <td>1212.479</td>\n",
       "      <td>4995.317</td>\n",
       "    </tr>\n",
       "    <tr>\n",
       "      <th>3736</th>\n",
       "      <td>United Kingdom</td>\n",
       "      <td>2019-11-01</td>\n",
       "      <td>1252.873</td>\n",
       "      <td>5139.480</td>\n",
       "    </tr>\n",
       "    <tr>\n",
       "      <th>3737</th>\n",
       "      <td>United Kingdom</td>\n",
       "      <td>2019-12-01</td>\n",
       "      <td>620.075</td>\n",
       "      <td>2575.875</td>\n",
       "    </tr>\n",
       "    <tr>\n",
       "      <th>3738</th>\n",
       "      <td>United Kingdom</td>\n",
       "      <td>2020-01-01</td>\n",
       "      <td>851.889</td>\n",
       "      <td>3298.135</td>\n",
       "    </tr>\n",
       "  </tbody>\n",
       "</table>\n",
       "<p>3739 rows × 4 columns</p>\n",
       "</div>"
      ],
      "text/plain": [
       "             Country Month Date  Quantity (tonnes)  Value (k Euro)\n",
       "0            Austria 2010-01-01              7.529          33.448\n",
       "1            Austria 2010-02-01             12.382          56.602\n",
       "2            Austria 2010-03-01              7.520          34.685\n",
       "3            Austria 2010-04-01              6.950          28.078\n",
       "4            Austria 2010-05-01              0.698           3.211\n",
       "...              ...        ...                ...             ...\n",
       "3734  United Kingdom 2019-09-01            730.051        2947.043\n",
       "3735  United Kingdom 2019-10-01           1212.479        4995.317\n",
       "3736  United Kingdom 2019-11-01           1252.873        5139.480\n",
       "3737  United Kingdom 2019-12-01            620.075        2575.875\n",
       "3738  United Kingdom 2020-01-01            851.889        3298.135\n",
       "\n",
       "[3739 rows x 4 columns]"
      ]
     },
     "execution_count": 351,
     "metadata": {},
     "output_type": "execute_result"
    }
   ],
   "source": [
    "df_plot"
   ]
  },
  {
   "cell_type": "code",
   "execution_count": null,
   "id": "22aec7d4",
   "metadata": {},
   "outputs": [],
   "source": []
  },
  {
   "cell_type": "code",
   "execution_count": 352,
   "id": "a35de99b",
   "metadata": {},
   "outputs": [],
   "source": [
    "# df_nz"
   ]
  },
  {
   "cell_type": "code",
   "execution_count": 353,
   "id": "4119490a",
   "metadata": {},
   "outputs": [],
   "source": [
    "# df_nz['Member State'] = 'New Zealand'\n",
    "# df_nz['Value in thousand euro'] = 0"
   ]
  },
  {
   "cell_type": "code",
   "execution_count": 354,
   "id": "a2632fdb",
   "metadata": {
    "scrolled": true
   },
   "outputs": [],
   "source": [
    "# df_nz"
   ]
  },
  {
   "cell_type": "markdown",
   "id": "ef9461bb",
   "metadata": {},
   "source": [
    "### Concatenate both sets together"
   ]
  },
  {
   "cell_type": "code",
   "execution_count": 355,
   "id": "d7fedc82",
   "metadata": {},
   "outputs": [],
   "source": [
    "# df_plot = pd.concat([df_plot,df_nz],ignore_index=True)"
   ]
  },
  {
   "cell_type": "code",
   "execution_count": 356,
   "id": "3aa67c14",
   "metadata": {},
   "outputs": [],
   "source": [
    "df_plot = df_plot.groupby([pd.Grouper(key='Month Date',freq='1Y'),'Country']).sum().reset_index()"
   ]
  },
  {
   "cell_type": "code",
   "execution_count": 357,
   "id": "60f22bcf",
   "metadata": {},
   "outputs": [
    {
     "data": {
      "text/html": [
       "<div>\n",
       "<style scoped>\n",
       "    .dataframe tbody tr th:only-of-type {\n",
       "        vertical-align: middle;\n",
       "    }\n",
       "\n",
       "    .dataframe tbody tr th {\n",
       "        vertical-align: top;\n",
       "    }\n",
       "\n",
       "    .dataframe thead th {\n",
       "        text-align: right;\n",
       "    }\n",
       "</style>\n",
       "<table border=\"1\" class=\"dataframe\">\n",
       "  <thead>\n",
       "    <tr style=\"text-align: right;\">\n",
       "      <th></th>\n",
       "      <th>Month Date</th>\n",
       "      <th>Country</th>\n",
       "      <th>Quantity (tonnes)</th>\n",
       "      <th>Value (k Euro)</th>\n",
       "    </tr>\n",
       "  </thead>\n",
       "  <tbody>\n",
       "    <tr>\n",
       "      <th>0</th>\n",
       "      <td>2010-12-31</td>\n",
       "      <td>Austria</td>\n",
       "      <td>78.552</td>\n",
       "      <td>356.651</td>\n",
       "    </tr>\n",
       "    <tr>\n",
       "      <th>1</th>\n",
       "      <td>2010-12-31</td>\n",
       "      <td>Belgium</td>\n",
       "      <td>9822.300</td>\n",
       "      <td>34837.812</td>\n",
       "    </tr>\n",
       "    <tr>\n",
       "      <th>2</th>\n",
       "      <td>2010-12-31</td>\n",
       "      <td>Bulgaria</td>\n",
       "      <td>80.475</td>\n",
       "      <td>219.644</td>\n",
       "    </tr>\n",
       "    <tr>\n",
       "      <th>3</th>\n",
       "      <td>2010-12-31</td>\n",
       "      <td>Czechia</td>\n",
       "      <td>869.249</td>\n",
       "      <td>3054.372</td>\n",
       "    </tr>\n",
       "    <tr>\n",
       "      <th>4</th>\n",
       "      <td>2010-12-31</td>\n",
       "      <td>Denmark</td>\n",
       "      <td>9798.743</td>\n",
       "      <td>44552.686</td>\n",
       "    </tr>\n",
       "    <tr>\n",
       "      <th>...</th>\n",
       "      <td>...</td>\n",
       "      <td>...</td>\n",
       "      <td>...</td>\n",
       "      <td>...</td>\n",
       "    </tr>\n",
       "    <tr>\n",
       "      <th>345</th>\n",
       "      <td>2022-12-31</td>\n",
       "      <td>Romania</td>\n",
       "      <td>176.248</td>\n",
       "      <td>1182.574</td>\n",
       "    </tr>\n",
       "    <tr>\n",
       "      <th>346</th>\n",
       "      <td>2022-12-31</td>\n",
       "      <td>Slovakia</td>\n",
       "      <td>53.646</td>\n",
       "      <td>393.132</td>\n",
       "    </tr>\n",
       "    <tr>\n",
       "      <th>347</th>\n",
       "      <td>2022-12-31</td>\n",
       "      <td>Slovenia</td>\n",
       "      <td>89.055</td>\n",
       "      <td>585.854</td>\n",
       "    </tr>\n",
       "    <tr>\n",
       "      <th>348</th>\n",
       "      <td>2022-12-31</td>\n",
       "      <td>Spain</td>\n",
       "      <td>1094.802</td>\n",
       "      <td>8036.446</td>\n",
       "    </tr>\n",
       "    <tr>\n",
       "      <th>349</th>\n",
       "      <td>2022-12-31</td>\n",
       "      <td>Sweden</td>\n",
       "      <td>31.526</td>\n",
       "      <td>195.899</td>\n",
       "    </tr>\n",
       "  </tbody>\n",
       "</table>\n",
       "<p>350 rows × 4 columns</p>\n",
       "</div>"
      ],
      "text/plain": [
       "    Month Date   Country  Quantity (tonnes)  Value (k Euro)\n",
       "0   2010-12-31   Austria             78.552         356.651\n",
       "1   2010-12-31   Belgium           9822.300       34837.812\n",
       "2   2010-12-31  Bulgaria             80.475         219.644\n",
       "3   2010-12-31   Czechia            869.249        3054.372\n",
       "4   2010-12-31   Denmark           9798.743       44552.686\n",
       "..         ...       ...                ...             ...\n",
       "345 2022-12-31   Romania            176.248        1182.574\n",
       "346 2022-12-31  Slovakia             53.646         393.132\n",
       "347 2022-12-31  Slovenia             89.055         585.854\n",
       "348 2022-12-31     Spain           1094.802        8036.446\n",
       "349 2022-12-31    Sweden             31.526         195.899\n",
       "\n",
       "[350 rows x 4 columns]"
      ]
     },
     "execution_count": 357,
     "metadata": {},
     "output_type": "execute_result"
    }
   ],
   "source": [
    "df_plot"
   ]
  },
  {
   "cell_type": "code",
   "execution_count": 358,
   "id": "fe08fa7d",
   "metadata": {},
   "outputs": [],
   "source": [
    "df_plot.sort_values(by=['Month Date','Value (k Euro)'],ascending=False,inplace=True)"
   ]
  },
  {
   "cell_type": "code",
   "execution_count": 359,
   "id": "e37e8d27",
   "metadata": {},
   "outputs": [
    {
     "data": {
      "text/html": [
       "<div>\n",
       "<style scoped>\n",
       "    .dataframe tbody tr th:only-of-type {\n",
       "        vertical-align: middle;\n",
       "    }\n",
       "\n",
       "    .dataframe tbody tr th {\n",
       "        vertical-align: top;\n",
       "    }\n",
       "\n",
       "    .dataframe thead th {\n",
       "        text-align: right;\n",
       "    }\n",
       "</style>\n",
       "<table border=\"1\" class=\"dataframe\">\n",
       "  <thead>\n",
       "    <tr style=\"text-align: right;\">\n",
       "      <th></th>\n",
       "      <th>Month Date</th>\n",
       "      <th>Country</th>\n",
       "      <th>Quantity (tonnes)</th>\n",
       "      <th>Value (k Euro)</th>\n",
       "    </tr>\n",
       "  </thead>\n",
       "  <tbody>\n",
       "    <tr>\n",
       "      <th>342</th>\n",
       "      <td>2022-12-31</td>\n",
       "      <td>New Zealand</td>\n",
       "      <td>178756.266</td>\n",
       "      <td>1014677.000</td>\n",
       "    </tr>\n",
       "    <tr>\n",
       "      <th>335</th>\n",
       "      <td>2022-12-31</td>\n",
       "      <td>Ireland</td>\n",
       "      <td>68871.577</td>\n",
       "      <td>499476.726</td>\n",
       "    </tr>\n",
       "    <tr>\n",
       "      <th>331</th>\n",
       "      <td>2022-12-31</td>\n",
       "      <td>France</td>\n",
       "      <td>40360.689</td>\n",
       "      <td>298713.263</td>\n",
       "    </tr>\n",
       "    <tr>\n",
       "      <th>328</th>\n",
       "      <td>2022-12-31</td>\n",
       "      <td>Denmark</td>\n",
       "      <td>24279.438</td>\n",
       "      <td>154833.218</td>\n",
       "    </tr>\n",
       "    <tr>\n",
       "      <th>341</th>\n",
       "      <td>2022-12-31</td>\n",
       "      <td>Netherlands</td>\n",
       "      <td>17732.504</td>\n",
       "      <td>121849.368</td>\n",
       "    </tr>\n",
       "    <tr>\n",
       "      <th>...</th>\n",
       "      <td>...</td>\n",
       "      <td>...</td>\n",
       "      <td>...</td>\n",
       "      <td>...</td>\n",
       "    </tr>\n",
       "    <tr>\n",
       "      <th>2</th>\n",
       "      <td>2010-12-31</td>\n",
       "      <td>Bulgaria</td>\n",
       "      <td>80.475</td>\n",
       "      <td>219.644</td>\n",
       "    </tr>\n",
       "    <tr>\n",
       "      <th>10</th>\n",
       "      <td>2010-12-31</td>\n",
       "      <td>Hungary</td>\n",
       "      <td>21.858</td>\n",
       "      <td>93.619</td>\n",
       "    </tr>\n",
       "    <tr>\n",
       "      <th>9</th>\n",
       "      <td>2010-12-31</td>\n",
       "      <td>Greece</td>\n",
       "      <td>0.929</td>\n",
       "      <td>9.473</td>\n",
       "    </tr>\n",
       "    <tr>\n",
       "      <th>15</th>\n",
       "      <td>2010-12-31</td>\n",
       "      <td>Luxembourg</td>\n",
       "      <td>0.840</td>\n",
       "      <td>2.536</td>\n",
       "    </tr>\n",
       "    <tr>\n",
       "      <th>20</th>\n",
       "      <td>2010-12-31</td>\n",
       "      <td>Romania</td>\n",
       "      <td>0.851</td>\n",
       "      <td>1.170</td>\n",
       "    </tr>\n",
       "  </tbody>\n",
       "</table>\n",
       "<p>350 rows × 4 columns</p>\n",
       "</div>"
      ],
      "text/plain": [
       "    Month Date      Country  Quantity (tonnes)  Value (k Euro)\n",
       "342 2022-12-31  New Zealand         178756.266     1014677.000\n",
       "335 2022-12-31      Ireland          68871.577      499476.726\n",
       "331 2022-12-31       France          40360.689      298713.263\n",
       "328 2022-12-31      Denmark          24279.438      154833.218\n",
       "341 2022-12-31  Netherlands          17732.504      121849.368\n",
       "..         ...          ...                ...             ...\n",
       "2   2010-12-31     Bulgaria             80.475         219.644\n",
       "10  2010-12-31      Hungary             21.858          93.619\n",
       "9   2010-12-31       Greece              0.929           9.473\n",
       "15  2010-12-31   Luxembourg              0.840           2.536\n",
       "20  2010-12-31      Romania              0.851           1.170\n",
       "\n",
       "[350 rows x 4 columns]"
      ]
     },
     "execution_count": 359,
     "metadata": {},
     "output_type": "execute_result"
    }
   ],
   "source": [
    "df_plot"
   ]
  },
  {
   "cell_type": "code",
   "execution_count": 362,
   "id": "79b41d6f",
   "metadata": {},
   "outputs": [
    {
     "data": {
      "application/vnd.plotly.v1+json": {
       "config": {
        "plotlyServerURL": "https://plot.ly"
       },
       "data": [
        {
         "hovertemplate": "Country=New Zealand<br>Month Date=%{x}<br>Quantity (tonnes)=%{y}<extra></extra>",
         "legendgroup": "New Zealand",
         "line": {
          "color": "#636efa",
          "dash": "solid"
         },
         "marker": {
          "symbol": "circle"
         },
         "mode": "lines",
         "name": "New Zealand",
         "orientation": "v",
         "showlegend": true,
         "type": "scatter",
         "x": [
          "2022-12-31T00:00:00",
          "2021-12-31T00:00:00",
          "2020-12-31T00:00:00",
          "2019-12-31T00:00:00",
          "2018-12-31T00:00:00",
          "2017-12-31T00:00:00",
          "2016-12-31T00:00:00",
          "2015-12-31T00:00:00",
          "2014-12-31T00:00:00",
          "2013-12-31T00:00:00",
          "2012-12-31T00:00:00",
          "2011-12-31T00:00:00",
          "2010-12-31T00:00:00"
         ],
         "xaxis": "x",
         "y": [
          178756.266,
          240404.956,
          240794.813,
          279653.213,
          271654.58999999997,
          268044.413,
          295051.393,
          290121.483,
          304191.417,
          280329.754,
          292005.288,
          263704.136,
          254038.819
         ],
         "yaxis": "y"
        },
        {
         "hovertemplate": "Country=Ireland<br>Month Date=%{x}<br>Quantity (tonnes)=%{y}<extra></extra>",
         "legendgroup": "Ireland",
         "line": {
          "color": "#EF553B",
          "dash": "solid"
         },
         "marker": {
          "symbol": "circle"
         },
         "mode": "lines",
         "name": "Ireland",
         "orientation": "v",
         "showlegend": true,
         "type": "scatter",
         "x": [
          "2022-12-31T00:00:00",
          "2021-12-31T00:00:00",
          "2020-12-31T00:00:00",
          "2019-12-31T00:00:00",
          "2018-12-31T00:00:00",
          "2017-12-31T00:00:00",
          "2016-12-31T00:00:00",
          "2015-12-31T00:00:00",
          "2014-12-31T00:00:00",
          "2013-12-31T00:00:00",
          "2012-12-31T00:00:00",
          "2011-12-31T00:00:00",
          "2010-12-31T00:00:00"
         ],
         "xaxis": "x",
         "y": [
          68871.577,
          78437.19,
          94754.618,
          50952.123999999996,
          31161.031,
          31536.196,
          33485.652,
          22176.664,
          9427.842,
          5595.613,
          6908.598,
          5687.2970000000005,
          7956.961
         ],
         "yaxis": "y"
        },
        {
         "hovertemplate": "Country=France<br>Month Date=%{x}<br>Quantity (tonnes)=%{y}<extra></extra>",
         "legendgroup": "France",
         "line": {
          "color": "#00cc96",
          "dash": "solid"
         },
         "marker": {
          "symbol": "circle"
         },
         "mode": "lines",
         "name": "France",
         "orientation": "v",
         "showlegend": true,
         "type": "scatter",
         "x": [
          "2022-12-31T00:00:00",
          "2021-12-31T00:00:00",
          "2020-12-31T00:00:00",
          "2019-12-31T00:00:00",
          "2018-12-31T00:00:00",
          "2017-12-31T00:00:00",
          "2016-12-31T00:00:00",
          "2015-12-31T00:00:00",
          "2014-12-31T00:00:00",
          "2013-12-31T00:00:00",
          "2012-12-31T00:00:00",
          "2011-12-31T00:00:00",
          "2010-12-31T00:00:00"
         ],
         "xaxis": "x",
         "y": [
          40360.689,
          44124.561,
          41001.032999999996,
          34039.787,
          32053.762000000002,
          34478.499,
          32056.272,
          28746.262,
          29319.378,
          28512.54,
          24551.135000000002,
          20831.005,
          19381.727
         ],
         "yaxis": "y"
        },
        {
         "hovertemplate": "Country=Denmark<br>Month Date=%{x}<br>Quantity (tonnes)=%{y}<extra></extra>",
         "legendgroup": "Denmark",
         "line": {
          "color": "#ab63fa",
          "dash": "solid"
         },
         "marker": {
          "symbol": "circle"
         },
         "mode": "lines",
         "name": "Denmark",
         "orientation": "v",
         "showlegend": true,
         "type": "scatter",
         "x": [
          "2022-12-31T00:00:00",
          "2021-12-31T00:00:00",
          "2020-12-31T00:00:00",
          "2019-12-31T00:00:00",
          "2018-12-31T00:00:00",
          "2017-12-31T00:00:00",
          "2016-12-31T00:00:00",
          "2015-12-31T00:00:00",
          "2014-12-31T00:00:00",
          "2013-12-31T00:00:00",
          "2012-12-31T00:00:00",
          "2011-12-31T00:00:00",
          "2010-12-31T00:00:00"
         ],
         "xaxis": "x",
         "y": [
          24279.438000000002,
          28972.654,
          28774.798,
          21314.227,
          21972.824,
          16218.445,
          17280.709,
          17048.083,
          12812.253,
          13742.305,
          12766.835,
          12310.374,
          9798.743
         ],
         "yaxis": "y"
        },
        {
         "hovertemplate": "Country=Netherlands<br>Month Date=%{x}<br>Quantity (tonnes)=%{y}<extra></extra>",
         "legendgroup": "Netherlands",
         "line": {
          "color": "#FFA15A",
          "dash": "solid"
         },
         "marker": {
          "symbol": "circle"
         },
         "mode": "lines",
         "name": "Netherlands",
         "orientation": "v",
         "showlegend": true,
         "type": "scatter",
         "x": [
          "2022-12-31T00:00:00",
          "2021-12-31T00:00:00",
          "2020-12-31T00:00:00",
          "2019-12-31T00:00:00",
          "2018-12-31T00:00:00",
          "2017-12-31T00:00:00",
          "2016-12-31T00:00:00",
          "2015-12-31T00:00:00",
          "2014-12-31T00:00:00",
          "2013-12-31T00:00:00",
          "2012-12-31T00:00:00",
          "2011-12-31T00:00:00",
          "2010-12-31T00:00:00"
         ],
         "xaxis": "x",
         "y": [
          17732.504,
          27280.127,
          31558.174,
          24524.452,
          15089.714,
          15072.662,
          20520.044,
          22055.034,
          18226.712,
          12493.413,
          17324.564,
          16757.252,
          29811.153
         ],
         "yaxis": "y"
        },
        {
         "hovertemplate": "Country=Belgium<br>Month Date=%{x}<br>Quantity (tonnes)=%{y}<extra></extra>",
         "legendgroup": "Belgium",
         "line": {
          "color": "#19d3f3",
          "dash": "solid"
         },
         "marker": {
          "symbol": "circle"
         },
         "mode": "lines",
         "name": "Belgium",
         "orientation": "v",
         "showlegend": true,
         "type": "scatter",
         "x": [
          "2022-12-31T00:00:00",
          "2021-12-31T00:00:00",
          "2020-12-31T00:00:00",
          "2019-12-31T00:00:00",
          "2018-12-31T00:00:00",
          "2017-12-31T00:00:00",
          "2016-12-31T00:00:00",
          "2015-12-31T00:00:00",
          "2014-12-31T00:00:00",
          "2013-12-31T00:00:00",
          "2012-12-31T00:00:00",
          "2011-12-31T00:00:00",
          "2010-12-31T00:00:00"
         ],
         "xaxis": "x",
         "y": [
          10359.498,
          12442.042,
          17640.65,
          12854.992999999999,
          6548.768,
          9294.559,
          11189.112,
          10703.714,
          7552.771,
          5056.8,
          4347.5,
          4468.7,
          9822.3
         ],
         "yaxis": "y"
        },
        {
         "hovertemplate": "Country=Germany<br>Month Date=%{x}<br>Quantity (tonnes)=%{y}<extra></extra>",
         "legendgroup": "Germany",
         "line": {
          "color": "#FF6692",
          "dash": "solid"
         },
         "marker": {
          "symbol": "circle"
         },
         "mode": "lines",
         "name": "Germany",
         "orientation": "v",
         "showlegend": true,
         "type": "scatter",
         "x": [
          "2022-12-31T00:00:00",
          "2021-12-31T00:00:00",
          "2020-12-31T00:00:00",
          "2019-12-31T00:00:00",
          "2018-12-31T00:00:00",
          "2017-12-31T00:00:00",
          "2016-12-31T00:00:00",
          "2015-12-31T00:00:00",
          "2014-12-31T00:00:00",
          "2013-12-31T00:00:00",
          "2012-12-31T00:00:00",
          "2011-12-31T00:00:00",
          "2010-12-31T00:00:00"
         ],
         "xaxis": "x",
         "y": [
          8607.433,
          13785.73,
          14077.339,
          16518.459,
          9885.749,
          12356.174,
          14679.600999999999,
          10759.835,
          9970.458,
          9174.766,
          10103.909,
          11686.411,
          21820.779
         ],
         "yaxis": "y"
        },
        {
         "hovertemplate": "Country=Poland<br>Month Date=%{x}<br>Quantity (tonnes)=%{y}<extra></extra>",
         "legendgroup": "Poland",
         "line": {
          "color": "#B6E880",
          "dash": "solid"
         },
         "marker": {
          "symbol": "circle"
         },
         "mode": "lines",
         "name": "Poland",
         "orientation": "v",
         "showlegend": true,
         "type": "scatter",
         "x": [
          "2022-12-31T00:00:00",
          "2021-12-31T00:00:00",
          "2020-12-31T00:00:00",
          "2019-12-31T00:00:00",
          "2018-12-31T00:00:00",
          "2017-12-31T00:00:00",
          "2016-12-31T00:00:00",
          "2015-12-31T00:00:00",
          "2014-12-31T00:00:00",
          "2013-12-31T00:00:00",
          "2012-12-31T00:00:00",
          "2011-12-31T00:00:00",
          "2010-12-31T00:00:00"
         ],
         "xaxis": "x",
         "y": [
          4008.1910000000003,
          7141.615,
          13092.585,
          6503.8640000000005,
          1897.532,
          3241.49,
          4796.143,
          2443.288,
          2363.377,
          1856.8120000000001,
          2787.932,
          2590.9030000000002,
          2247.777
         ],
         "yaxis": "y"
        },
        {
         "hovertemplate": "Country=Finland<br>Month Date=%{x}<br>Quantity (tonnes)=%{y}<extra></extra>",
         "legendgroup": "Finland",
         "line": {
          "color": "#FF97FF",
          "dash": "solid"
         },
         "marker": {
          "symbol": "circle"
         },
         "mode": "lines",
         "name": "Finland",
         "orientation": "v",
         "showlegend": true,
         "type": "scatter",
         "x": [
          "2022-12-31T00:00:00",
          "2021-12-31T00:00:00",
          "2020-12-31T00:00:00",
          "2019-12-31T00:00:00",
          "2018-12-31T00:00:00",
          "2017-12-31T00:00:00",
          "2016-12-31T00:00:00",
          "2015-12-31T00:00:00",
          "2014-12-31T00:00:00",
          "2013-12-31T00:00:00",
          "2012-12-31T00:00:00",
          "2011-12-31T00:00:00",
          "2010-12-31T00:00:00"
         ],
         "xaxis": "x",
         "y": [
          3537.679,
          4440.236,
          5342.595,
          4417.749,
          3273.8940000000002,
          3842.729,
          6456.096,
          7150.24,
          10330.795,
          11944.626,
          11672.578,
          11001.91,
          13104.569
         ],
         "yaxis": "y"
        },
        {
         "hovertemplate": "Country=Lithuania<br>Month Date=%{x}<br>Quantity (tonnes)=%{y}<extra></extra>",
         "legendgroup": "Lithuania",
         "line": {
          "color": "#FECB52",
          "dash": "solid"
         },
         "marker": {
          "symbol": "circle"
         },
         "mode": "lines",
         "name": "Lithuania",
         "orientation": "v",
         "showlegend": true,
         "type": "scatter",
         "x": [
          "2022-12-31T00:00:00",
          "2021-12-31T00:00:00",
          "2020-12-31T00:00:00",
          "2019-12-31T00:00:00",
          "2018-12-31T00:00:00",
          "2017-12-31T00:00:00",
          "2016-12-31T00:00:00",
          "2015-12-31T00:00:00",
          "2014-12-31T00:00:00",
          "2013-12-31T00:00:00",
          "2012-12-31T00:00:00",
          "2011-12-31T00:00:00",
          "2010-12-31T00:00:00"
         ],
         "xaxis": "x",
         "y": [
          2416.381,
          1070.7939999999999,
          4746.866,
          1808.2420000000002,
          504.892,
          720.009,
          8673.325,
          4921.52,
          6229.097,
          1875.074,
          643.367,
          215.441,
          551.756
         ],
         "yaxis": "y"
        },
        {
         "hovertemplate": "Country=Portugal<br>Month Date=%{x}<br>Quantity (tonnes)=%{y}<extra></extra>",
         "legendgroup": "Portugal",
         "line": {
          "color": "#636efa",
          "dash": "solid"
         },
         "marker": {
          "symbol": "circle"
         },
         "mode": "lines",
         "name": "Portugal",
         "orientation": "v",
         "showlegend": true,
         "type": "scatter",
         "x": [
          "2022-12-31T00:00:00",
          "2021-12-31T00:00:00",
          "2020-12-31T00:00:00",
          "2019-12-31T00:00:00",
          "2018-12-31T00:00:00",
          "2017-12-31T00:00:00",
          "2016-12-31T00:00:00",
          "2015-12-31T00:00:00",
          "2014-12-31T00:00:00",
          "2013-12-31T00:00:00",
          "2012-12-31T00:00:00",
          "2011-12-31T00:00:00",
          "2010-12-31T00:00:00"
         ],
         "xaxis": "x",
         "y": [
          2436.774,
          4625.198,
          6667.984,
          2175.762,
          2517.701,
          3134.703,
          4111.786,
          3210.304,
          2353.088,
          1678.4479999999999,
          1444.585,
          863.35,
          1028.127
         ],
         "yaxis": "y"
        },
        {
         "hovertemplate": "Country=Italy<br>Month Date=%{x}<br>Quantity (tonnes)=%{y}<extra></extra>",
         "legendgroup": "Italy",
         "line": {
          "color": "#EF553B",
          "dash": "solid"
         },
         "marker": {
          "symbol": "circle"
         },
         "mode": "lines",
         "name": "Italy",
         "orientation": "v",
         "showlegend": true,
         "type": "scatter",
         "x": [
          "2022-12-31T00:00:00",
          "2021-12-31T00:00:00",
          "2020-12-31T00:00:00",
          "2019-12-31T00:00:00",
          "2018-12-31T00:00:00",
          "2017-12-31T00:00:00",
          "2016-12-31T00:00:00",
          "2015-12-31T00:00:00",
          "2014-12-31T00:00:00",
          "2013-12-31T00:00:00",
          "2012-12-31T00:00:00",
          "2011-12-31T00:00:00",
          "2010-12-31T00:00:00"
         ],
         "xaxis": "x",
         "y": [
          1251.835,
          2048.93,
          2040.306,
          1267.782,
          378.059,
          457.05899999999997,
          603.322,
          481.448,
          287.878,
          236.551,
          167.653,
          214.056,
          215.442
         ],
         "yaxis": "y"
        },
        {
         "hovertemplate": "Country=Spain<br>Month Date=%{x}<br>Quantity (tonnes)=%{y}<extra></extra>",
         "legendgroup": "Spain",
         "line": {
          "color": "#00cc96",
          "dash": "solid"
         },
         "marker": {
          "symbol": "circle"
         },
         "mode": "lines",
         "name": "Spain",
         "orientation": "v",
         "showlegend": true,
         "type": "scatter",
         "x": [
          "2022-12-31T00:00:00",
          "2021-12-31T00:00:00",
          "2020-12-31T00:00:00",
          "2019-12-31T00:00:00",
          "2018-12-31T00:00:00",
          "2017-12-31T00:00:00",
          "2016-12-31T00:00:00",
          "2015-12-31T00:00:00",
          "2014-12-31T00:00:00",
          "2013-12-31T00:00:00",
          "2012-12-31T00:00:00",
          "2011-12-31T00:00:00",
          "2010-12-31T00:00:00"
         ],
         "xaxis": "x",
         "y": [
          1094.802,
          1692.318,
          1789.933,
          919.926,
          810.217,
          805.473,
          936.5250000000001,
          786.605,
          487.214,
          718.086,
          874.851,
          396.158,
          341.375
         ],
         "yaxis": "y"
        },
        {
         "hovertemplate": "Country=Croatia<br>Month Date=%{x}<br>Quantity (tonnes)=%{y}<extra></extra>",
         "legendgroup": "Croatia",
         "line": {
          "color": "#ab63fa",
          "dash": "solid"
         },
         "marker": {
          "symbol": "circle"
         },
         "mode": "lines",
         "name": "Croatia",
         "orientation": "v",
         "showlegend": true,
         "type": "scatter",
         "x": [
          "2022-12-31T00:00:00",
          "2021-12-31T00:00:00",
          "2020-12-31T00:00:00",
          "2019-12-31T00:00:00",
          "2018-12-31T00:00:00",
          "2017-12-31T00:00:00",
          "2016-12-31T00:00:00",
          "2015-12-31T00:00:00",
          "2014-12-31T00:00:00",
          "2013-12-31T00:00:00"
         ],
         "xaxis": "x",
         "y": [
          354.109,
          412.447,
          426.671,
          461.32099999999997,
          456.83299999999997,
          494.83,
          337.735,
          344.858,
          486.788,
          205.793
         ],
         "yaxis": "y"
        },
        {
         "hovertemplate": "Country=Romania<br>Month Date=%{x}<br>Quantity (tonnes)=%{y}<extra></extra>",
         "legendgroup": "Romania",
         "line": {
          "color": "#FFA15A",
          "dash": "solid"
         },
         "marker": {
          "symbol": "circle"
         },
         "mode": "lines",
         "name": "Romania",
         "orientation": "v",
         "showlegend": true,
         "type": "scatter",
         "x": [
          "2022-12-31T00:00:00",
          "2021-12-31T00:00:00",
          "2020-12-31T00:00:00",
          "2019-12-31T00:00:00",
          "2018-12-31T00:00:00",
          "2017-12-31T00:00:00",
          "2016-12-31T00:00:00",
          "2015-12-31T00:00:00",
          "2014-12-31T00:00:00",
          "2012-12-31T00:00:00",
          "2010-12-31T00:00:00"
         ],
         "xaxis": "x",
         "y": [
          176.248,
          333.062,
          268.487,
          124.43,
          62.011,
          327.497,
          134.149,
          15.403,
          9.185,
          0,
          0.851
         ],
         "yaxis": "y"
        },
        {
         "hovertemplate": "Country=Slovenia<br>Month Date=%{x}<br>Quantity (tonnes)=%{y}<extra></extra>",
         "legendgroup": "Slovenia",
         "line": {
          "color": "#19d3f3",
          "dash": "solid"
         },
         "marker": {
          "symbol": "circle"
         },
         "mode": "lines",
         "name": "Slovenia",
         "orientation": "v",
         "showlegend": true,
         "type": "scatter",
         "x": [
          "2022-12-31T00:00:00",
          "2021-12-31T00:00:00",
          "2020-12-31T00:00:00",
          "2019-12-31T00:00:00",
          "2018-12-31T00:00:00",
          "2017-12-31T00:00:00",
          "2016-12-31T00:00:00",
          "2015-12-31T00:00:00",
          "2014-12-31T00:00:00",
          "2013-12-31T00:00:00",
          "2012-12-31T00:00:00",
          "2011-12-31T00:00:00",
          "2010-12-31T00:00:00"
         ],
         "xaxis": "x",
         "y": [
          89.05499999999999,
          71.545,
          44.578,
          60.312999999999995,
          59.131,
          73.102,
          58.664,
          50.943000000000005,
          114.265,
          76.158,
          296.991,
          118.191,
          196.581
         ],
         "yaxis": "y"
        },
        {
         "hovertemplate": "Country=Estonia<br>Month Date=%{x}<br>Quantity (tonnes)=%{y}<extra></extra>",
         "legendgroup": "Estonia",
         "line": {
          "color": "#FF6692",
          "dash": "solid"
         },
         "marker": {
          "symbol": "circle"
         },
         "mode": "lines",
         "name": "Estonia",
         "orientation": "v",
         "showlegend": true,
         "type": "scatter",
         "x": [
          "2022-12-31T00:00:00",
          "2021-12-31T00:00:00",
          "2020-12-31T00:00:00",
          "2019-12-31T00:00:00",
          "2018-12-31T00:00:00",
          "2017-12-31T00:00:00",
          "2016-12-31T00:00:00",
          "2015-12-31T00:00:00",
          "2014-12-31T00:00:00",
          "2013-12-31T00:00:00",
          "2012-12-31T00:00:00",
          "2011-12-31T00:00:00",
          "2010-12-31T00:00:00"
         ],
         "xaxis": "x",
         "y": [
          88.192,
          148.544,
          165.23,
          80.57600000000001,
          31.796,
          168.94,
          157.518,
          492.04999999999995,
          161.23499999999999,
          34.862,
          117.4,
          194.346,
          1700.147
         ],
         "yaxis": "y"
        },
        {
         "hovertemplate": "Country=Slovakia<br>Month Date=%{x}<br>Quantity (tonnes)=%{y}<extra></extra>",
         "legendgroup": "Slovakia",
         "line": {
          "color": "#B6E880",
          "dash": "solid"
         },
         "marker": {
          "symbol": "circle"
         },
         "mode": "lines",
         "name": "Slovakia",
         "orientation": "v",
         "showlegend": true,
         "type": "scatter",
         "x": [
          "2022-12-31T00:00:00",
          "2021-12-31T00:00:00",
          "2020-12-31T00:00:00",
          "2019-12-31T00:00:00",
          "2018-12-31T00:00:00",
          "2017-12-31T00:00:00",
          "2016-12-31T00:00:00",
          "2015-12-31T00:00:00",
          "2014-12-31T00:00:00",
          "2013-12-31T00:00:00",
          "2012-12-31T00:00:00",
          "2011-12-31T00:00:00"
         ],
         "xaxis": "x",
         "y": [
          53.646,
          105.263,
          42.704,
          31.262,
          14.808,
          0.03,
          16.939999999999998,
          20.262,
          10.09,
          1.049,
          1.321,
          64.5
         ],
         "yaxis": "y"
        },
        {
         "hovertemplate": "Country=Czechia<br>Month Date=%{x}<br>Quantity (tonnes)=%{y}<extra></extra>",
         "legendgroup": "Czechia",
         "line": {
          "color": "#FF97FF",
          "dash": "solid"
         },
         "marker": {
          "symbol": "circle"
         },
         "mode": "lines",
         "name": "Czechia",
         "orientation": "v",
         "showlegend": true,
         "type": "scatter",
         "x": [
          "2022-12-31T00:00:00",
          "2021-12-31T00:00:00",
          "2020-12-31T00:00:00",
          "2019-12-31T00:00:00",
          "2018-12-31T00:00:00",
          "2017-12-31T00:00:00",
          "2016-12-31T00:00:00",
          "2015-12-31T00:00:00",
          "2014-12-31T00:00:00",
          "2013-12-31T00:00:00",
          "2012-12-31T00:00:00",
          "2011-12-31T00:00:00",
          "2010-12-31T00:00:00"
         ],
         "xaxis": "x",
         "y": [
          42.617000000000004,
          62.92100000000001,
          52.61600000000001,
          41.616,
          43.40600000000001,
          62.879000000000005,
          127.112,
          135.353,
          406.092,
          618.7370000000001,
          729.885,
          1073.395,
          869.249
         ],
         "yaxis": "y"
        },
        {
         "hovertemplate": "Country=Bulgaria<br>Month Date=%{x}<br>Quantity (tonnes)=%{y}<extra></extra>",
         "legendgroup": "Bulgaria",
         "line": {
          "color": "#FECB52",
          "dash": "solid"
         },
         "marker": {
          "symbol": "circle"
         },
         "mode": "lines",
         "name": "Bulgaria",
         "orientation": "v",
         "showlegend": true,
         "type": "scatter",
         "x": [
          "2022-12-31T00:00:00",
          "2021-12-31T00:00:00",
          "2020-12-31T00:00:00",
          "2019-12-31T00:00:00",
          "2018-12-31T00:00:00",
          "2017-12-31T00:00:00",
          "2016-12-31T00:00:00",
          "2015-12-31T00:00:00",
          "2014-12-31T00:00:00",
          "2013-12-31T00:00:00",
          "2012-12-31T00:00:00",
          "2011-12-31T00:00:00",
          "2010-12-31T00:00:00"
         ],
         "xaxis": "x",
         "y": [
          30.628999999999998,
          23.439999999999998,
          9.745,
          4.064,
          0.38,
          0.33,
          1.75,
          20,
          30.543000000000003,
          0.06,
          62.300000000000004,
          20.975,
          80.475
         ],
         "yaxis": "y"
        },
        {
         "hovertemplate": "Country=Hungary<br>Month Date=%{x}<br>Quantity (tonnes)=%{y}<extra></extra>",
         "legendgroup": "Hungary",
         "line": {
          "color": "#636efa",
          "dash": "solid"
         },
         "marker": {
          "symbol": "circle"
         },
         "mode": "lines",
         "name": "Hungary",
         "orientation": "v",
         "showlegend": true,
         "type": "scatter",
         "x": [
          "2022-12-31T00:00:00",
          "2021-12-31T00:00:00",
          "2020-12-31T00:00:00",
          "2019-12-31T00:00:00",
          "2018-12-31T00:00:00",
          "2017-12-31T00:00:00",
          "2016-12-31T00:00:00",
          "2015-12-31T00:00:00",
          "2014-12-31T00:00:00",
          "2013-12-31T00:00:00",
          "2012-12-31T00:00:00",
          "2011-12-31T00:00:00",
          "2010-12-31T00:00:00"
         ],
         "xaxis": "x",
         "y": [
          28.397000000000002,
          99.314,
          802.777,
          14.509,
          33.125,
          25.768,
          100.25999999999999,
          166.255,
          114.02600000000001,
          284.77299999999997,
          56.931,
          0.213,
          21.858
         ],
         "yaxis": "y"
        },
        {
         "hovertemplate": "Country=Sweden<br>Month Date=%{x}<br>Quantity (tonnes)=%{y}<extra></extra>",
         "legendgroup": "Sweden",
         "line": {
          "color": "#EF553B",
          "dash": "solid"
         },
         "marker": {
          "symbol": "circle"
         },
         "mode": "lines",
         "name": "Sweden",
         "orientation": "v",
         "showlegend": true,
         "type": "scatter",
         "x": [
          "2022-12-31T00:00:00",
          "2021-12-31T00:00:00",
          "2020-12-31T00:00:00",
          "2019-12-31T00:00:00",
          "2018-12-31T00:00:00",
          "2017-12-31T00:00:00",
          "2016-12-31T00:00:00",
          "2015-12-31T00:00:00",
          "2014-12-31T00:00:00",
          "2013-12-31T00:00:00",
          "2012-12-31T00:00:00",
          "2011-12-31T00:00:00",
          "2010-12-31T00:00:00"
         ],
         "xaxis": "x",
         "y": [
          31.526,
          20.941000000000003,
          3.3680000000000003,
          3.7600000000000002,
          5.545,
          4.529,
          3.842,
          1.2309999999999999,
          99.47000000000001,
          21.615000000000002,
          606.245,
          229.625,
          586.735
         ],
         "yaxis": "y"
        },
        {
         "hovertemplate": "Country=Greece<br>Month Date=%{x}<br>Quantity (tonnes)=%{y}<extra></extra>",
         "legendgroup": "Greece",
         "line": {
          "color": "#00cc96",
          "dash": "solid"
         },
         "marker": {
          "symbol": "circle"
         },
         "mode": "lines",
         "name": "Greece",
         "orientation": "v",
         "showlegend": true,
         "type": "scatter",
         "x": [
          "2022-12-31T00:00:00",
          "2021-12-31T00:00:00",
          "2020-12-31T00:00:00",
          "2019-12-31T00:00:00",
          "2018-12-31T00:00:00",
          "2017-12-31T00:00:00",
          "2016-12-31T00:00:00",
          "2015-12-31T00:00:00",
          "2014-12-31T00:00:00",
          "2013-12-31T00:00:00",
          "2012-12-31T00:00:00",
          "2011-12-31T00:00:00",
          "2010-12-31T00:00:00"
         ],
         "xaxis": "x",
         "y": [
          18.409000000000002,
          30.483,
          17.634999999999998,
          11.087,
          32.408,
          13.478,
          12.857,
          4.904,
          59.495000000000005,
          51.206,
          4.954,
          1.078,
          0.929
         ],
         "yaxis": "y"
        },
        {
         "hovertemplate": "Country=Austria<br>Month Date=%{x}<br>Quantity (tonnes)=%{y}<extra></extra>",
         "legendgroup": "Austria",
         "line": {
          "color": "#ab63fa",
          "dash": "solid"
         },
         "marker": {
          "symbol": "circle"
         },
         "mode": "lines",
         "name": "Austria",
         "orientation": "v",
         "showlegend": true,
         "type": "scatter",
         "x": [
          "2022-12-31T00:00:00",
          "2021-12-31T00:00:00",
          "2020-12-31T00:00:00",
          "2019-12-31T00:00:00",
          "2018-12-31T00:00:00",
          "2017-12-31T00:00:00",
          "2016-12-31T00:00:00",
          "2015-12-31T00:00:00",
          "2014-12-31T00:00:00",
          "2013-12-31T00:00:00",
          "2012-12-31T00:00:00",
          "2011-12-31T00:00:00",
          "2010-12-31T00:00:00"
         ],
         "xaxis": "x",
         "y": [
          14.911000000000001,
          37.037,
          24.471,
          44.528999999999996,
          42.75,
          61.727,
          63.098,
          156.486,
          51.564,
          82.287,
          58.464,
          126.45200000000001,
          78.552
         ],
         "yaxis": "y"
        },
        {
         "hovertemplate": "Country=Latvia<br>Month Date=%{x}<br>Quantity (tonnes)=%{y}<extra></extra>",
         "legendgroup": "Latvia",
         "line": {
          "color": "#FFA15A",
          "dash": "solid"
         },
         "marker": {
          "symbol": "circle"
         },
         "mode": "lines",
         "name": "Latvia",
         "orientation": "v",
         "showlegend": true,
         "type": "scatter",
         "x": [
          "2022-12-31T00:00:00",
          "2021-12-31T00:00:00",
          "2020-12-31T00:00:00",
          "2019-12-31T00:00:00",
          "2018-12-31T00:00:00",
          "2017-12-31T00:00:00",
          "2016-12-31T00:00:00",
          "2015-12-31T00:00:00",
          "2014-12-31T00:00:00",
          "2013-12-31T00:00:00",
          "2012-12-31T00:00:00",
          "2011-12-31T00:00:00",
          "2010-12-31T00:00:00"
         ],
         "xaxis": "x",
         "y": [
          8.134,
          35.152,
          178.708,
          188.83499999999998,
          3.558,
          145.045,
          239.276,
          90.506,
          2338.961,
          1825.528,
          478.933,
          94.128,
          247.32
         ],
         "yaxis": "y"
        },
        {
         "hovertemplate": "Country=Luxembourg<br>Month Date=%{x}<br>Quantity (tonnes)=%{y}<extra></extra>",
         "legendgroup": "Luxembourg",
         "line": {
          "color": "#19d3f3",
          "dash": "solid"
         },
         "marker": {
          "symbol": "circle"
         },
         "mode": "lines",
         "name": "Luxembourg",
         "orientation": "v",
         "showlegend": true,
         "type": "scatter",
         "x": [
          "2022-12-31T00:00:00",
          "2021-12-31T00:00:00",
          "2020-12-31T00:00:00",
          "2019-12-31T00:00:00",
          "2018-12-31T00:00:00",
          "2017-12-31T00:00:00",
          "2016-12-31T00:00:00",
          "2015-12-31T00:00:00",
          "2014-12-31T00:00:00",
          "2013-12-31T00:00:00",
          "2012-12-31T00:00:00",
          "2011-12-31T00:00:00",
          "2010-12-31T00:00:00"
         ],
         "xaxis": "x",
         "y": [
          2.391,
          2.115,
          2.1670000000000003,
          4.827,
          1.4649999999999999,
          2.928,
          3.817,
          5.116,
          0.777,
          1.134,
          2.4290000000000003,
          5.513,
          0.84
         ],
         "yaxis": "y"
        },
        {
         "hovertemplate": "Country=Malta<br>Month Date=%{x}<br>Quantity (tonnes)=%{y}<extra></extra>",
         "legendgroup": "Malta",
         "line": {
          "color": "#FF6692",
          "dash": "solid"
         },
         "marker": {
          "symbol": "circle"
         },
         "mode": "lines",
         "name": "Malta",
         "orientation": "v",
         "showlegend": true,
         "type": "scatter",
         "x": [
          "2022-12-31T00:00:00",
          "2021-12-31T00:00:00",
          "2019-12-31T00:00:00",
          "2017-12-31T00:00:00"
         ],
         "xaxis": "x",
         "y": [
          0.207,
          11.370000000000001,
          0.159,
          0.34299999999999997
         ],
         "yaxis": "y"
        },
        {
         "hovertemplate": "Country=United Kingdom<br>Month Date=%{x}<br>Quantity (tonnes)=%{y}<extra></extra>",
         "legendgroup": "United Kingdom",
         "line": {
          "color": "#B6E880",
          "dash": "solid"
         },
         "marker": {
          "symbol": "circle"
         },
         "mode": "lines",
         "name": "United Kingdom",
         "orientation": "v",
         "showlegend": true,
         "type": "scatter",
         "x": [
          "2020-12-31T00:00:00",
          "2019-12-31T00:00:00",
          "2018-12-31T00:00:00",
          "2017-12-31T00:00:00",
          "2016-12-31T00:00:00",
          "2015-12-31T00:00:00",
          "2014-12-31T00:00:00",
          "2013-12-31T00:00:00",
          "2012-12-31T00:00:00",
          "2011-12-31T00:00:00",
          "2010-12-31T00:00:00"
         ],
         "xaxis": "x",
         "y": [
          851.889,
          6103.8240000000005,
          2688.1910000000003,
          6368.284,
          7898.475,
          4056.1809999999996,
          2331.545,
          1303.103,
          2393.984,
          1679.417,
          2560.928
         ],
         "yaxis": "y"
        },
        {
         "hovertemplate": "Country=Cyprus<br>Month Date=%{x}<br>Quantity (tonnes)=%{y}<extra></extra>",
         "legendgroup": "Cyprus",
         "line": {
          "color": "#FF97FF",
          "dash": "solid"
         },
         "marker": {
          "symbol": "circle"
         },
         "mode": "lines",
         "name": "Cyprus",
         "orientation": "v",
         "showlegend": true,
         "type": "scatter",
         "x": [
          "2016-12-31T00:00:00",
          "2015-12-31T00:00:00",
          "2013-12-31T00:00:00"
         ],
         "xaxis": "x",
         "y": [
          0.251,
          0.101,
          3.2
         ],
         "yaxis": "y"
        }
       ],
       "layout": {
        "legend": {
         "title": {
          "text": "Country"
         },
         "tracegroupgap": 0
        },
        "template": {
         "data": {
          "bar": [
           {
            "error_x": {
             "color": "#2a3f5f"
            },
            "error_y": {
             "color": "#2a3f5f"
            },
            "marker": {
             "line": {
              "color": "#E5ECF6",
              "width": 0.5
             },
             "pattern": {
              "fillmode": "overlay",
              "size": 10,
              "solidity": 0.2
             }
            },
            "type": "bar"
           }
          ],
          "barpolar": [
           {
            "marker": {
             "line": {
              "color": "#E5ECF6",
              "width": 0.5
             },
             "pattern": {
              "fillmode": "overlay",
              "size": 10,
              "solidity": 0.2
             }
            },
            "type": "barpolar"
           }
          ],
          "carpet": [
           {
            "aaxis": {
             "endlinecolor": "#2a3f5f",
             "gridcolor": "white",
             "linecolor": "white",
             "minorgridcolor": "white",
             "startlinecolor": "#2a3f5f"
            },
            "baxis": {
             "endlinecolor": "#2a3f5f",
             "gridcolor": "white",
             "linecolor": "white",
             "minorgridcolor": "white",
             "startlinecolor": "#2a3f5f"
            },
            "type": "carpet"
           }
          ],
          "choropleth": [
           {
            "colorbar": {
             "outlinewidth": 0,
             "ticks": ""
            },
            "type": "choropleth"
           }
          ],
          "contour": [
           {
            "colorbar": {
             "outlinewidth": 0,
             "ticks": ""
            },
            "colorscale": [
             [
              0,
              "#0d0887"
             ],
             [
              0.1111111111111111,
              "#46039f"
             ],
             [
              0.2222222222222222,
              "#7201a8"
             ],
             [
              0.3333333333333333,
              "#9c179e"
             ],
             [
              0.4444444444444444,
              "#bd3786"
             ],
             [
              0.5555555555555556,
              "#d8576b"
             ],
             [
              0.6666666666666666,
              "#ed7953"
             ],
             [
              0.7777777777777778,
              "#fb9f3a"
             ],
             [
              0.8888888888888888,
              "#fdca26"
             ],
             [
              1,
              "#f0f921"
             ]
            ],
            "type": "contour"
           }
          ],
          "contourcarpet": [
           {
            "colorbar": {
             "outlinewidth": 0,
             "ticks": ""
            },
            "type": "contourcarpet"
           }
          ],
          "heatmap": [
           {
            "colorbar": {
             "outlinewidth": 0,
             "ticks": ""
            },
            "colorscale": [
             [
              0,
              "#0d0887"
             ],
             [
              0.1111111111111111,
              "#46039f"
             ],
             [
              0.2222222222222222,
              "#7201a8"
             ],
             [
              0.3333333333333333,
              "#9c179e"
             ],
             [
              0.4444444444444444,
              "#bd3786"
             ],
             [
              0.5555555555555556,
              "#d8576b"
             ],
             [
              0.6666666666666666,
              "#ed7953"
             ],
             [
              0.7777777777777778,
              "#fb9f3a"
             ],
             [
              0.8888888888888888,
              "#fdca26"
             ],
             [
              1,
              "#f0f921"
             ]
            ],
            "type": "heatmap"
           }
          ],
          "heatmapgl": [
           {
            "colorbar": {
             "outlinewidth": 0,
             "ticks": ""
            },
            "colorscale": [
             [
              0,
              "#0d0887"
             ],
             [
              0.1111111111111111,
              "#46039f"
             ],
             [
              0.2222222222222222,
              "#7201a8"
             ],
             [
              0.3333333333333333,
              "#9c179e"
             ],
             [
              0.4444444444444444,
              "#bd3786"
             ],
             [
              0.5555555555555556,
              "#d8576b"
             ],
             [
              0.6666666666666666,
              "#ed7953"
             ],
             [
              0.7777777777777778,
              "#fb9f3a"
             ],
             [
              0.8888888888888888,
              "#fdca26"
             ],
             [
              1,
              "#f0f921"
             ]
            ],
            "type": "heatmapgl"
           }
          ],
          "histogram": [
           {
            "marker": {
             "pattern": {
              "fillmode": "overlay",
              "size": 10,
              "solidity": 0.2
             }
            },
            "type": "histogram"
           }
          ],
          "histogram2d": [
           {
            "colorbar": {
             "outlinewidth": 0,
             "ticks": ""
            },
            "colorscale": [
             [
              0,
              "#0d0887"
             ],
             [
              0.1111111111111111,
              "#46039f"
             ],
             [
              0.2222222222222222,
              "#7201a8"
             ],
             [
              0.3333333333333333,
              "#9c179e"
             ],
             [
              0.4444444444444444,
              "#bd3786"
             ],
             [
              0.5555555555555556,
              "#d8576b"
             ],
             [
              0.6666666666666666,
              "#ed7953"
             ],
             [
              0.7777777777777778,
              "#fb9f3a"
             ],
             [
              0.8888888888888888,
              "#fdca26"
             ],
             [
              1,
              "#f0f921"
             ]
            ],
            "type": "histogram2d"
           }
          ],
          "histogram2dcontour": [
           {
            "colorbar": {
             "outlinewidth": 0,
             "ticks": ""
            },
            "colorscale": [
             [
              0,
              "#0d0887"
             ],
             [
              0.1111111111111111,
              "#46039f"
             ],
             [
              0.2222222222222222,
              "#7201a8"
             ],
             [
              0.3333333333333333,
              "#9c179e"
             ],
             [
              0.4444444444444444,
              "#bd3786"
             ],
             [
              0.5555555555555556,
              "#d8576b"
             ],
             [
              0.6666666666666666,
              "#ed7953"
             ],
             [
              0.7777777777777778,
              "#fb9f3a"
             ],
             [
              0.8888888888888888,
              "#fdca26"
             ],
             [
              1,
              "#f0f921"
             ]
            ],
            "type": "histogram2dcontour"
           }
          ],
          "mesh3d": [
           {
            "colorbar": {
             "outlinewidth": 0,
             "ticks": ""
            },
            "type": "mesh3d"
           }
          ],
          "parcoords": [
           {
            "line": {
             "colorbar": {
              "outlinewidth": 0,
              "ticks": ""
             }
            },
            "type": "parcoords"
           }
          ],
          "pie": [
           {
            "automargin": true,
            "type": "pie"
           }
          ],
          "scatter": [
           {
            "marker": {
             "colorbar": {
              "outlinewidth": 0,
              "ticks": ""
             }
            },
            "type": "scatter"
           }
          ],
          "scatter3d": [
           {
            "line": {
             "colorbar": {
              "outlinewidth": 0,
              "ticks": ""
             }
            },
            "marker": {
             "colorbar": {
              "outlinewidth": 0,
              "ticks": ""
             }
            },
            "type": "scatter3d"
           }
          ],
          "scattercarpet": [
           {
            "marker": {
             "colorbar": {
              "outlinewidth": 0,
              "ticks": ""
             }
            },
            "type": "scattercarpet"
           }
          ],
          "scattergeo": [
           {
            "marker": {
             "colorbar": {
              "outlinewidth": 0,
              "ticks": ""
             }
            },
            "type": "scattergeo"
           }
          ],
          "scattergl": [
           {
            "marker": {
             "colorbar": {
              "outlinewidth": 0,
              "ticks": ""
             }
            },
            "type": "scattergl"
           }
          ],
          "scattermapbox": [
           {
            "marker": {
             "colorbar": {
              "outlinewidth": 0,
              "ticks": ""
             }
            },
            "type": "scattermapbox"
           }
          ],
          "scatterpolar": [
           {
            "marker": {
             "colorbar": {
              "outlinewidth": 0,
              "ticks": ""
             }
            },
            "type": "scatterpolar"
           }
          ],
          "scatterpolargl": [
           {
            "marker": {
             "colorbar": {
              "outlinewidth": 0,
              "ticks": ""
             }
            },
            "type": "scatterpolargl"
           }
          ],
          "scatterternary": [
           {
            "marker": {
             "colorbar": {
              "outlinewidth": 0,
              "ticks": ""
             }
            },
            "type": "scatterternary"
           }
          ],
          "surface": [
           {
            "colorbar": {
             "outlinewidth": 0,
             "ticks": ""
            },
            "colorscale": [
             [
              0,
              "#0d0887"
             ],
             [
              0.1111111111111111,
              "#46039f"
             ],
             [
              0.2222222222222222,
              "#7201a8"
             ],
             [
              0.3333333333333333,
              "#9c179e"
             ],
             [
              0.4444444444444444,
              "#bd3786"
             ],
             [
              0.5555555555555556,
              "#d8576b"
             ],
             [
              0.6666666666666666,
              "#ed7953"
             ],
             [
              0.7777777777777778,
              "#fb9f3a"
             ],
             [
              0.8888888888888888,
              "#fdca26"
             ],
             [
              1,
              "#f0f921"
             ]
            ],
            "type": "surface"
           }
          ],
          "table": [
           {
            "cells": {
             "fill": {
              "color": "#EBF0F8"
             },
             "line": {
              "color": "white"
             }
            },
            "header": {
             "fill": {
              "color": "#C8D4E3"
             },
             "line": {
              "color": "white"
             }
            },
            "type": "table"
           }
          ]
         },
         "layout": {
          "annotationdefaults": {
           "arrowcolor": "#2a3f5f",
           "arrowhead": 0,
           "arrowwidth": 1
          },
          "autotypenumbers": "strict",
          "coloraxis": {
           "colorbar": {
            "outlinewidth": 0,
            "ticks": ""
           }
          },
          "colorscale": {
           "diverging": [
            [
             0,
             "#8e0152"
            ],
            [
             0.1,
             "#c51b7d"
            ],
            [
             0.2,
             "#de77ae"
            ],
            [
             0.3,
             "#f1b6da"
            ],
            [
             0.4,
             "#fde0ef"
            ],
            [
             0.5,
             "#f7f7f7"
            ],
            [
             0.6,
             "#e6f5d0"
            ],
            [
             0.7,
             "#b8e186"
            ],
            [
             0.8,
             "#7fbc41"
            ],
            [
             0.9,
             "#4d9221"
            ],
            [
             1,
             "#276419"
            ]
           ],
           "sequential": [
            [
             0,
             "#0d0887"
            ],
            [
             0.1111111111111111,
             "#46039f"
            ],
            [
             0.2222222222222222,
             "#7201a8"
            ],
            [
             0.3333333333333333,
             "#9c179e"
            ],
            [
             0.4444444444444444,
             "#bd3786"
            ],
            [
             0.5555555555555556,
             "#d8576b"
            ],
            [
             0.6666666666666666,
             "#ed7953"
            ],
            [
             0.7777777777777778,
             "#fb9f3a"
            ],
            [
             0.8888888888888888,
             "#fdca26"
            ],
            [
             1,
             "#f0f921"
            ]
           ],
           "sequentialminus": [
            [
             0,
             "#0d0887"
            ],
            [
             0.1111111111111111,
             "#46039f"
            ],
            [
             0.2222222222222222,
             "#7201a8"
            ],
            [
             0.3333333333333333,
             "#9c179e"
            ],
            [
             0.4444444444444444,
             "#bd3786"
            ],
            [
             0.5555555555555556,
             "#d8576b"
            ],
            [
             0.6666666666666666,
             "#ed7953"
            ],
            [
             0.7777777777777778,
             "#fb9f3a"
            ],
            [
             0.8888888888888888,
             "#fdca26"
            ],
            [
             1,
             "#f0f921"
            ]
           ]
          },
          "colorway": [
           "#636efa",
           "#EF553B",
           "#00cc96",
           "#ab63fa",
           "#FFA15A",
           "#19d3f3",
           "#FF6692",
           "#B6E880",
           "#FF97FF",
           "#FECB52"
          ],
          "font": {
           "color": "#2a3f5f"
          },
          "geo": {
           "bgcolor": "white",
           "lakecolor": "white",
           "landcolor": "#E5ECF6",
           "showlakes": true,
           "showland": true,
           "subunitcolor": "white"
          },
          "hoverlabel": {
           "align": "left"
          },
          "hovermode": "closest",
          "mapbox": {
           "style": "light"
          },
          "paper_bgcolor": "white",
          "plot_bgcolor": "#E5ECF6",
          "polar": {
           "angularaxis": {
            "gridcolor": "white",
            "linecolor": "white",
            "ticks": ""
           },
           "bgcolor": "#E5ECF6",
           "radialaxis": {
            "gridcolor": "white",
            "linecolor": "white",
            "ticks": ""
           }
          },
          "scene": {
           "xaxis": {
            "backgroundcolor": "#E5ECF6",
            "gridcolor": "white",
            "gridwidth": 2,
            "linecolor": "white",
            "showbackground": true,
            "ticks": "",
            "zerolinecolor": "white"
           },
           "yaxis": {
            "backgroundcolor": "#E5ECF6",
            "gridcolor": "white",
            "gridwidth": 2,
            "linecolor": "white",
            "showbackground": true,
            "ticks": "",
            "zerolinecolor": "white"
           },
           "zaxis": {
            "backgroundcolor": "#E5ECF6",
            "gridcolor": "white",
            "gridwidth": 2,
            "linecolor": "white",
            "showbackground": true,
            "ticks": "",
            "zerolinecolor": "white"
           }
          },
          "shapedefaults": {
           "line": {
            "color": "#2a3f5f"
           }
          },
          "ternary": {
           "aaxis": {
            "gridcolor": "white",
            "linecolor": "white",
            "ticks": ""
           },
           "baxis": {
            "gridcolor": "white",
            "linecolor": "white",
            "ticks": ""
           },
           "bgcolor": "#E5ECF6",
           "caxis": {
            "gridcolor": "white",
            "linecolor": "white",
            "ticks": ""
           }
          },
          "title": {
           "x": 0.05
          },
          "xaxis": {
           "automargin": true,
           "gridcolor": "white",
           "linecolor": "white",
           "ticks": "",
           "title": {
            "standoff": 15
           },
           "zerolinecolor": "white",
           "zerolinewidth": 2
          },
          "yaxis": {
           "automargin": true,
           "gridcolor": "white",
           "linecolor": "white",
           "ticks": "",
           "title": {
            "standoff": 15
           },
           "zerolinecolor": "white",
           "zerolinewidth": 2
          }
         }
        },
        "title": {
         "text": "Butter Exports"
        },
        "xaxis": {
         "anchor": "y",
         "domain": [
          0,
          1
         ],
         "title": {
          "text": "Month Date"
         }
        },
        "yaxis": {
         "anchor": "x",
         "domain": [
          0,
          1
         ],
         "title": {
          "text": "Quantity (tonnes)"
         }
        }
       }
      },
      "text/html": [
       "<div>                            <div id=\"2ccc16a9-9589-4145-a851-75360c68b92d\" class=\"plotly-graph-div\" style=\"height:525px; width:100%;\"></div>            <script type=\"text/javascript\">                require([\"plotly\"], function(Plotly) {                    window.PLOTLYENV=window.PLOTLYENV || {};                                    if (document.getElementById(\"2ccc16a9-9589-4145-a851-75360c68b92d\")) {                    Plotly.newPlot(                        \"2ccc16a9-9589-4145-a851-75360c68b92d\",                        [{\"hovertemplate\":\"Country=New Zealand<br>Month Date=%{x}<br>Quantity (tonnes)=%{y}<extra></extra>\",\"legendgroup\":\"New Zealand\",\"line\":{\"color\":\"#636efa\",\"dash\":\"solid\"},\"marker\":{\"symbol\":\"circle\"},\"mode\":\"lines\",\"name\":\"New Zealand\",\"orientation\":\"v\",\"showlegend\":true,\"x\":[\"2022-12-31T00:00:00\",\"2021-12-31T00:00:00\",\"2020-12-31T00:00:00\",\"2019-12-31T00:00:00\",\"2018-12-31T00:00:00\",\"2017-12-31T00:00:00\",\"2016-12-31T00:00:00\",\"2015-12-31T00:00:00\",\"2014-12-31T00:00:00\",\"2013-12-31T00:00:00\",\"2012-12-31T00:00:00\",\"2011-12-31T00:00:00\",\"2010-12-31T00:00:00\"],\"xaxis\":\"x\",\"y\":[178756.266,240404.956,240794.813,279653.213,271654.58999999997,268044.413,295051.393,290121.483,304191.417,280329.754,292005.288,263704.136,254038.819],\"yaxis\":\"y\",\"type\":\"scatter\"},{\"hovertemplate\":\"Country=Ireland<br>Month Date=%{x}<br>Quantity (tonnes)=%{y}<extra></extra>\",\"legendgroup\":\"Ireland\",\"line\":{\"color\":\"#EF553B\",\"dash\":\"solid\"},\"marker\":{\"symbol\":\"circle\"},\"mode\":\"lines\",\"name\":\"Ireland\",\"orientation\":\"v\",\"showlegend\":true,\"x\":[\"2022-12-31T00:00:00\",\"2021-12-31T00:00:00\",\"2020-12-31T00:00:00\",\"2019-12-31T00:00:00\",\"2018-12-31T00:00:00\",\"2017-12-31T00:00:00\",\"2016-12-31T00:00:00\",\"2015-12-31T00:00:00\",\"2014-12-31T00:00:00\",\"2013-12-31T00:00:00\",\"2012-12-31T00:00:00\",\"2011-12-31T00:00:00\",\"2010-12-31T00:00:00\"],\"xaxis\":\"x\",\"y\":[68871.577,78437.19,94754.618,50952.123999999996,31161.031,31536.196,33485.652,22176.664,9427.842,5595.613,6908.598,5687.2970000000005,7956.961],\"yaxis\":\"y\",\"type\":\"scatter\"},{\"hovertemplate\":\"Country=France<br>Month Date=%{x}<br>Quantity (tonnes)=%{y}<extra></extra>\",\"legendgroup\":\"France\",\"line\":{\"color\":\"#00cc96\",\"dash\":\"solid\"},\"marker\":{\"symbol\":\"circle\"},\"mode\":\"lines\",\"name\":\"France\",\"orientation\":\"v\",\"showlegend\":true,\"x\":[\"2022-12-31T00:00:00\",\"2021-12-31T00:00:00\",\"2020-12-31T00:00:00\",\"2019-12-31T00:00:00\",\"2018-12-31T00:00:00\",\"2017-12-31T00:00:00\",\"2016-12-31T00:00:00\",\"2015-12-31T00:00:00\",\"2014-12-31T00:00:00\",\"2013-12-31T00:00:00\",\"2012-12-31T00:00:00\",\"2011-12-31T00:00:00\",\"2010-12-31T00:00:00\"],\"xaxis\":\"x\",\"y\":[40360.689,44124.561,41001.032999999996,34039.787,32053.762000000002,34478.499,32056.272,28746.262,29319.378,28512.54,24551.135000000002,20831.005,19381.727],\"yaxis\":\"y\",\"type\":\"scatter\"},{\"hovertemplate\":\"Country=Denmark<br>Month Date=%{x}<br>Quantity (tonnes)=%{y}<extra></extra>\",\"legendgroup\":\"Denmark\",\"line\":{\"color\":\"#ab63fa\",\"dash\":\"solid\"},\"marker\":{\"symbol\":\"circle\"},\"mode\":\"lines\",\"name\":\"Denmark\",\"orientation\":\"v\",\"showlegend\":true,\"x\":[\"2022-12-31T00:00:00\",\"2021-12-31T00:00:00\",\"2020-12-31T00:00:00\",\"2019-12-31T00:00:00\",\"2018-12-31T00:00:00\",\"2017-12-31T00:00:00\",\"2016-12-31T00:00:00\",\"2015-12-31T00:00:00\",\"2014-12-31T00:00:00\",\"2013-12-31T00:00:00\",\"2012-12-31T00:00:00\",\"2011-12-31T00:00:00\",\"2010-12-31T00:00:00\"],\"xaxis\":\"x\",\"y\":[24279.438000000002,28972.654,28774.798,21314.227,21972.824,16218.445,17280.709,17048.083,12812.253,13742.305,12766.835,12310.374,9798.743],\"yaxis\":\"y\",\"type\":\"scatter\"},{\"hovertemplate\":\"Country=Netherlands<br>Month Date=%{x}<br>Quantity (tonnes)=%{y}<extra></extra>\",\"legendgroup\":\"Netherlands\",\"line\":{\"color\":\"#FFA15A\",\"dash\":\"solid\"},\"marker\":{\"symbol\":\"circle\"},\"mode\":\"lines\",\"name\":\"Netherlands\",\"orientation\":\"v\",\"showlegend\":true,\"x\":[\"2022-12-31T00:00:00\",\"2021-12-31T00:00:00\",\"2020-12-31T00:00:00\",\"2019-12-31T00:00:00\",\"2018-12-31T00:00:00\",\"2017-12-31T00:00:00\",\"2016-12-31T00:00:00\",\"2015-12-31T00:00:00\",\"2014-12-31T00:00:00\",\"2013-12-31T00:00:00\",\"2012-12-31T00:00:00\",\"2011-12-31T00:00:00\",\"2010-12-31T00:00:00\"],\"xaxis\":\"x\",\"y\":[17732.504,27280.127,31558.174,24524.452,15089.714,15072.662,20520.044,22055.034,18226.712,12493.413,17324.564,16757.252,29811.153],\"yaxis\":\"y\",\"type\":\"scatter\"},{\"hovertemplate\":\"Country=Belgium<br>Month Date=%{x}<br>Quantity (tonnes)=%{y}<extra></extra>\",\"legendgroup\":\"Belgium\",\"line\":{\"color\":\"#19d3f3\",\"dash\":\"solid\"},\"marker\":{\"symbol\":\"circle\"},\"mode\":\"lines\",\"name\":\"Belgium\",\"orientation\":\"v\",\"showlegend\":true,\"x\":[\"2022-12-31T00:00:00\",\"2021-12-31T00:00:00\",\"2020-12-31T00:00:00\",\"2019-12-31T00:00:00\",\"2018-12-31T00:00:00\",\"2017-12-31T00:00:00\",\"2016-12-31T00:00:00\",\"2015-12-31T00:00:00\",\"2014-12-31T00:00:00\",\"2013-12-31T00:00:00\",\"2012-12-31T00:00:00\",\"2011-12-31T00:00:00\",\"2010-12-31T00:00:00\"],\"xaxis\":\"x\",\"y\":[10359.498,12442.042,17640.65,12854.992999999999,6548.768,9294.559,11189.112,10703.714,7552.771,5056.8,4347.5,4468.7,9822.3],\"yaxis\":\"y\",\"type\":\"scatter\"},{\"hovertemplate\":\"Country=Germany<br>Month Date=%{x}<br>Quantity (tonnes)=%{y}<extra></extra>\",\"legendgroup\":\"Germany\",\"line\":{\"color\":\"#FF6692\",\"dash\":\"solid\"},\"marker\":{\"symbol\":\"circle\"},\"mode\":\"lines\",\"name\":\"Germany\",\"orientation\":\"v\",\"showlegend\":true,\"x\":[\"2022-12-31T00:00:00\",\"2021-12-31T00:00:00\",\"2020-12-31T00:00:00\",\"2019-12-31T00:00:00\",\"2018-12-31T00:00:00\",\"2017-12-31T00:00:00\",\"2016-12-31T00:00:00\",\"2015-12-31T00:00:00\",\"2014-12-31T00:00:00\",\"2013-12-31T00:00:00\",\"2012-12-31T00:00:00\",\"2011-12-31T00:00:00\",\"2010-12-31T00:00:00\"],\"xaxis\":\"x\",\"y\":[8607.433,13785.73,14077.339,16518.459,9885.749,12356.174,14679.600999999999,10759.835,9970.458,9174.766,10103.909,11686.411,21820.779],\"yaxis\":\"y\",\"type\":\"scatter\"},{\"hovertemplate\":\"Country=Poland<br>Month Date=%{x}<br>Quantity (tonnes)=%{y}<extra></extra>\",\"legendgroup\":\"Poland\",\"line\":{\"color\":\"#B6E880\",\"dash\":\"solid\"},\"marker\":{\"symbol\":\"circle\"},\"mode\":\"lines\",\"name\":\"Poland\",\"orientation\":\"v\",\"showlegend\":true,\"x\":[\"2022-12-31T00:00:00\",\"2021-12-31T00:00:00\",\"2020-12-31T00:00:00\",\"2019-12-31T00:00:00\",\"2018-12-31T00:00:00\",\"2017-12-31T00:00:00\",\"2016-12-31T00:00:00\",\"2015-12-31T00:00:00\",\"2014-12-31T00:00:00\",\"2013-12-31T00:00:00\",\"2012-12-31T00:00:00\",\"2011-12-31T00:00:00\",\"2010-12-31T00:00:00\"],\"xaxis\":\"x\",\"y\":[4008.1910000000003,7141.615,13092.585,6503.8640000000005,1897.532,3241.49,4796.143,2443.288,2363.377,1856.8120000000001,2787.932,2590.9030000000002,2247.777],\"yaxis\":\"y\",\"type\":\"scatter\"},{\"hovertemplate\":\"Country=Finland<br>Month Date=%{x}<br>Quantity (tonnes)=%{y}<extra></extra>\",\"legendgroup\":\"Finland\",\"line\":{\"color\":\"#FF97FF\",\"dash\":\"solid\"},\"marker\":{\"symbol\":\"circle\"},\"mode\":\"lines\",\"name\":\"Finland\",\"orientation\":\"v\",\"showlegend\":true,\"x\":[\"2022-12-31T00:00:00\",\"2021-12-31T00:00:00\",\"2020-12-31T00:00:00\",\"2019-12-31T00:00:00\",\"2018-12-31T00:00:00\",\"2017-12-31T00:00:00\",\"2016-12-31T00:00:00\",\"2015-12-31T00:00:00\",\"2014-12-31T00:00:00\",\"2013-12-31T00:00:00\",\"2012-12-31T00:00:00\",\"2011-12-31T00:00:00\",\"2010-12-31T00:00:00\"],\"xaxis\":\"x\",\"y\":[3537.679,4440.236,5342.595,4417.749,3273.8940000000002,3842.729,6456.096,7150.24,10330.795,11944.626,11672.578,11001.91,13104.569],\"yaxis\":\"y\",\"type\":\"scatter\"},{\"hovertemplate\":\"Country=Lithuania<br>Month Date=%{x}<br>Quantity (tonnes)=%{y}<extra></extra>\",\"legendgroup\":\"Lithuania\",\"line\":{\"color\":\"#FECB52\",\"dash\":\"solid\"},\"marker\":{\"symbol\":\"circle\"},\"mode\":\"lines\",\"name\":\"Lithuania\",\"orientation\":\"v\",\"showlegend\":true,\"x\":[\"2022-12-31T00:00:00\",\"2021-12-31T00:00:00\",\"2020-12-31T00:00:00\",\"2019-12-31T00:00:00\",\"2018-12-31T00:00:00\",\"2017-12-31T00:00:00\",\"2016-12-31T00:00:00\",\"2015-12-31T00:00:00\",\"2014-12-31T00:00:00\",\"2013-12-31T00:00:00\",\"2012-12-31T00:00:00\",\"2011-12-31T00:00:00\",\"2010-12-31T00:00:00\"],\"xaxis\":\"x\",\"y\":[2416.381,1070.7939999999999,4746.866,1808.2420000000002,504.892,720.009,8673.325,4921.52,6229.097,1875.074,643.367,215.441,551.756],\"yaxis\":\"y\",\"type\":\"scatter\"},{\"hovertemplate\":\"Country=Portugal<br>Month Date=%{x}<br>Quantity (tonnes)=%{y}<extra></extra>\",\"legendgroup\":\"Portugal\",\"line\":{\"color\":\"#636efa\",\"dash\":\"solid\"},\"marker\":{\"symbol\":\"circle\"},\"mode\":\"lines\",\"name\":\"Portugal\",\"orientation\":\"v\",\"showlegend\":true,\"x\":[\"2022-12-31T00:00:00\",\"2021-12-31T00:00:00\",\"2020-12-31T00:00:00\",\"2019-12-31T00:00:00\",\"2018-12-31T00:00:00\",\"2017-12-31T00:00:00\",\"2016-12-31T00:00:00\",\"2015-12-31T00:00:00\",\"2014-12-31T00:00:00\",\"2013-12-31T00:00:00\",\"2012-12-31T00:00:00\",\"2011-12-31T00:00:00\",\"2010-12-31T00:00:00\"],\"xaxis\":\"x\",\"y\":[2436.774,4625.198,6667.984,2175.762,2517.701,3134.703,4111.786,3210.304,2353.088,1678.4479999999999,1444.585,863.35,1028.127],\"yaxis\":\"y\",\"type\":\"scatter\"},{\"hovertemplate\":\"Country=Italy<br>Month Date=%{x}<br>Quantity (tonnes)=%{y}<extra></extra>\",\"legendgroup\":\"Italy\",\"line\":{\"color\":\"#EF553B\",\"dash\":\"solid\"},\"marker\":{\"symbol\":\"circle\"},\"mode\":\"lines\",\"name\":\"Italy\",\"orientation\":\"v\",\"showlegend\":true,\"x\":[\"2022-12-31T00:00:00\",\"2021-12-31T00:00:00\",\"2020-12-31T00:00:00\",\"2019-12-31T00:00:00\",\"2018-12-31T00:00:00\",\"2017-12-31T00:00:00\",\"2016-12-31T00:00:00\",\"2015-12-31T00:00:00\",\"2014-12-31T00:00:00\",\"2013-12-31T00:00:00\",\"2012-12-31T00:00:00\",\"2011-12-31T00:00:00\",\"2010-12-31T00:00:00\"],\"xaxis\":\"x\",\"y\":[1251.835,2048.93,2040.306,1267.782,378.059,457.05899999999997,603.322,481.448,287.878,236.551,167.653,214.056,215.442],\"yaxis\":\"y\",\"type\":\"scatter\"},{\"hovertemplate\":\"Country=Spain<br>Month Date=%{x}<br>Quantity (tonnes)=%{y}<extra></extra>\",\"legendgroup\":\"Spain\",\"line\":{\"color\":\"#00cc96\",\"dash\":\"solid\"},\"marker\":{\"symbol\":\"circle\"},\"mode\":\"lines\",\"name\":\"Spain\",\"orientation\":\"v\",\"showlegend\":true,\"x\":[\"2022-12-31T00:00:00\",\"2021-12-31T00:00:00\",\"2020-12-31T00:00:00\",\"2019-12-31T00:00:00\",\"2018-12-31T00:00:00\",\"2017-12-31T00:00:00\",\"2016-12-31T00:00:00\",\"2015-12-31T00:00:00\",\"2014-12-31T00:00:00\",\"2013-12-31T00:00:00\",\"2012-12-31T00:00:00\",\"2011-12-31T00:00:00\",\"2010-12-31T00:00:00\"],\"xaxis\":\"x\",\"y\":[1094.802,1692.318,1789.933,919.926,810.217,805.473,936.5250000000001,786.605,487.214,718.086,874.851,396.158,341.375],\"yaxis\":\"y\",\"type\":\"scatter\"},{\"hovertemplate\":\"Country=Croatia<br>Month Date=%{x}<br>Quantity (tonnes)=%{y}<extra></extra>\",\"legendgroup\":\"Croatia\",\"line\":{\"color\":\"#ab63fa\",\"dash\":\"solid\"},\"marker\":{\"symbol\":\"circle\"},\"mode\":\"lines\",\"name\":\"Croatia\",\"orientation\":\"v\",\"showlegend\":true,\"x\":[\"2022-12-31T00:00:00\",\"2021-12-31T00:00:00\",\"2020-12-31T00:00:00\",\"2019-12-31T00:00:00\",\"2018-12-31T00:00:00\",\"2017-12-31T00:00:00\",\"2016-12-31T00:00:00\",\"2015-12-31T00:00:00\",\"2014-12-31T00:00:00\",\"2013-12-31T00:00:00\"],\"xaxis\":\"x\",\"y\":[354.109,412.447,426.671,461.32099999999997,456.83299999999997,494.83,337.735,344.858,486.788,205.793],\"yaxis\":\"y\",\"type\":\"scatter\"},{\"hovertemplate\":\"Country=Romania<br>Month Date=%{x}<br>Quantity (tonnes)=%{y}<extra></extra>\",\"legendgroup\":\"Romania\",\"line\":{\"color\":\"#FFA15A\",\"dash\":\"solid\"},\"marker\":{\"symbol\":\"circle\"},\"mode\":\"lines\",\"name\":\"Romania\",\"orientation\":\"v\",\"showlegend\":true,\"x\":[\"2022-12-31T00:00:00\",\"2021-12-31T00:00:00\",\"2020-12-31T00:00:00\",\"2019-12-31T00:00:00\",\"2018-12-31T00:00:00\",\"2017-12-31T00:00:00\",\"2016-12-31T00:00:00\",\"2015-12-31T00:00:00\",\"2014-12-31T00:00:00\",\"2012-12-31T00:00:00\",\"2010-12-31T00:00:00\"],\"xaxis\":\"x\",\"y\":[176.248,333.062,268.487,124.43,62.011,327.497,134.149,15.403,9.185,0.0,0.851],\"yaxis\":\"y\",\"type\":\"scatter\"},{\"hovertemplate\":\"Country=Slovenia<br>Month Date=%{x}<br>Quantity (tonnes)=%{y}<extra></extra>\",\"legendgroup\":\"Slovenia\",\"line\":{\"color\":\"#19d3f3\",\"dash\":\"solid\"},\"marker\":{\"symbol\":\"circle\"},\"mode\":\"lines\",\"name\":\"Slovenia\",\"orientation\":\"v\",\"showlegend\":true,\"x\":[\"2022-12-31T00:00:00\",\"2021-12-31T00:00:00\",\"2020-12-31T00:00:00\",\"2019-12-31T00:00:00\",\"2018-12-31T00:00:00\",\"2017-12-31T00:00:00\",\"2016-12-31T00:00:00\",\"2015-12-31T00:00:00\",\"2014-12-31T00:00:00\",\"2013-12-31T00:00:00\",\"2012-12-31T00:00:00\",\"2011-12-31T00:00:00\",\"2010-12-31T00:00:00\"],\"xaxis\":\"x\",\"y\":[89.05499999999999,71.545,44.578,60.312999999999995,59.131,73.102,58.664,50.943000000000005,114.265,76.158,296.991,118.191,196.581],\"yaxis\":\"y\",\"type\":\"scatter\"},{\"hovertemplate\":\"Country=Estonia<br>Month Date=%{x}<br>Quantity (tonnes)=%{y}<extra></extra>\",\"legendgroup\":\"Estonia\",\"line\":{\"color\":\"#FF6692\",\"dash\":\"solid\"},\"marker\":{\"symbol\":\"circle\"},\"mode\":\"lines\",\"name\":\"Estonia\",\"orientation\":\"v\",\"showlegend\":true,\"x\":[\"2022-12-31T00:00:00\",\"2021-12-31T00:00:00\",\"2020-12-31T00:00:00\",\"2019-12-31T00:00:00\",\"2018-12-31T00:00:00\",\"2017-12-31T00:00:00\",\"2016-12-31T00:00:00\",\"2015-12-31T00:00:00\",\"2014-12-31T00:00:00\",\"2013-12-31T00:00:00\",\"2012-12-31T00:00:00\",\"2011-12-31T00:00:00\",\"2010-12-31T00:00:00\"],\"xaxis\":\"x\",\"y\":[88.192,148.544,165.23,80.57600000000001,31.796,168.94,157.518,492.04999999999995,161.23499999999999,34.862,117.4,194.346,1700.147],\"yaxis\":\"y\",\"type\":\"scatter\"},{\"hovertemplate\":\"Country=Slovakia<br>Month Date=%{x}<br>Quantity (tonnes)=%{y}<extra></extra>\",\"legendgroup\":\"Slovakia\",\"line\":{\"color\":\"#B6E880\",\"dash\":\"solid\"},\"marker\":{\"symbol\":\"circle\"},\"mode\":\"lines\",\"name\":\"Slovakia\",\"orientation\":\"v\",\"showlegend\":true,\"x\":[\"2022-12-31T00:00:00\",\"2021-12-31T00:00:00\",\"2020-12-31T00:00:00\",\"2019-12-31T00:00:00\",\"2018-12-31T00:00:00\",\"2017-12-31T00:00:00\",\"2016-12-31T00:00:00\",\"2015-12-31T00:00:00\",\"2014-12-31T00:00:00\",\"2013-12-31T00:00:00\",\"2012-12-31T00:00:00\",\"2011-12-31T00:00:00\"],\"xaxis\":\"x\",\"y\":[53.646,105.263,42.704,31.262,14.808,0.03,16.939999999999998,20.262,10.09,1.049,1.321,64.5],\"yaxis\":\"y\",\"type\":\"scatter\"},{\"hovertemplate\":\"Country=Czechia<br>Month Date=%{x}<br>Quantity (tonnes)=%{y}<extra></extra>\",\"legendgroup\":\"Czechia\",\"line\":{\"color\":\"#FF97FF\",\"dash\":\"solid\"},\"marker\":{\"symbol\":\"circle\"},\"mode\":\"lines\",\"name\":\"Czechia\",\"orientation\":\"v\",\"showlegend\":true,\"x\":[\"2022-12-31T00:00:00\",\"2021-12-31T00:00:00\",\"2020-12-31T00:00:00\",\"2019-12-31T00:00:00\",\"2018-12-31T00:00:00\",\"2017-12-31T00:00:00\",\"2016-12-31T00:00:00\",\"2015-12-31T00:00:00\",\"2014-12-31T00:00:00\",\"2013-12-31T00:00:00\",\"2012-12-31T00:00:00\",\"2011-12-31T00:00:00\",\"2010-12-31T00:00:00\"],\"xaxis\":\"x\",\"y\":[42.617000000000004,62.92100000000001,52.61600000000001,41.616,43.40600000000001,62.879000000000005,127.112,135.353,406.092,618.7370000000001,729.885,1073.395,869.249],\"yaxis\":\"y\",\"type\":\"scatter\"},{\"hovertemplate\":\"Country=Bulgaria<br>Month Date=%{x}<br>Quantity (tonnes)=%{y}<extra></extra>\",\"legendgroup\":\"Bulgaria\",\"line\":{\"color\":\"#FECB52\",\"dash\":\"solid\"},\"marker\":{\"symbol\":\"circle\"},\"mode\":\"lines\",\"name\":\"Bulgaria\",\"orientation\":\"v\",\"showlegend\":true,\"x\":[\"2022-12-31T00:00:00\",\"2021-12-31T00:00:00\",\"2020-12-31T00:00:00\",\"2019-12-31T00:00:00\",\"2018-12-31T00:00:00\",\"2017-12-31T00:00:00\",\"2016-12-31T00:00:00\",\"2015-12-31T00:00:00\",\"2014-12-31T00:00:00\",\"2013-12-31T00:00:00\",\"2012-12-31T00:00:00\",\"2011-12-31T00:00:00\",\"2010-12-31T00:00:00\"],\"xaxis\":\"x\",\"y\":[30.628999999999998,23.439999999999998,9.745,4.064,0.38,0.33,1.75,20.0,30.543000000000003,0.06,62.300000000000004,20.975,80.475],\"yaxis\":\"y\",\"type\":\"scatter\"},{\"hovertemplate\":\"Country=Hungary<br>Month Date=%{x}<br>Quantity (tonnes)=%{y}<extra></extra>\",\"legendgroup\":\"Hungary\",\"line\":{\"color\":\"#636efa\",\"dash\":\"solid\"},\"marker\":{\"symbol\":\"circle\"},\"mode\":\"lines\",\"name\":\"Hungary\",\"orientation\":\"v\",\"showlegend\":true,\"x\":[\"2022-12-31T00:00:00\",\"2021-12-31T00:00:00\",\"2020-12-31T00:00:00\",\"2019-12-31T00:00:00\",\"2018-12-31T00:00:00\",\"2017-12-31T00:00:00\",\"2016-12-31T00:00:00\",\"2015-12-31T00:00:00\",\"2014-12-31T00:00:00\",\"2013-12-31T00:00:00\",\"2012-12-31T00:00:00\",\"2011-12-31T00:00:00\",\"2010-12-31T00:00:00\"],\"xaxis\":\"x\",\"y\":[28.397000000000002,99.314,802.777,14.509,33.125,25.768,100.25999999999999,166.255,114.02600000000001,284.77299999999997,56.931,0.213,21.858],\"yaxis\":\"y\",\"type\":\"scatter\"},{\"hovertemplate\":\"Country=Sweden<br>Month Date=%{x}<br>Quantity (tonnes)=%{y}<extra></extra>\",\"legendgroup\":\"Sweden\",\"line\":{\"color\":\"#EF553B\",\"dash\":\"solid\"},\"marker\":{\"symbol\":\"circle\"},\"mode\":\"lines\",\"name\":\"Sweden\",\"orientation\":\"v\",\"showlegend\":true,\"x\":[\"2022-12-31T00:00:00\",\"2021-12-31T00:00:00\",\"2020-12-31T00:00:00\",\"2019-12-31T00:00:00\",\"2018-12-31T00:00:00\",\"2017-12-31T00:00:00\",\"2016-12-31T00:00:00\",\"2015-12-31T00:00:00\",\"2014-12-31T00:00:00\",\"2013-12-31T00:00:00\",\"2012-12-31T00:00:00\",\"2011-12-31T00:00:00\",\"2010-12-31T00:00:00\"],\"xaxis\":\"x\",\"y\":[31.526,20.941000000000003,3.3680000000000003,3.7600000000000002,5.545,4.529,3.842,1.2309999999999999,99.47000000000001,21.615000000000002,606.245,229.625,586.735],\"yaxis\":\"y\",\"type\":\"scatter\"},{\"hovertemplate\":\"Country=Greece<br>Month Date=%{x}<br>Quantity (tonnes)=%{y}<extra></extra>\",\"legendgroup\":\"Greece\",\"line\":{\"color\":\"#00cc96\",\"dash\":\"solid\"},\"marker\":{\"symbol\":\"circle\"},\"mode\":\"lines\",\"name\":\"Greece\",\"orientation\":\"v\",\"showlegend\":true,\"x\":[\"2022-12-31T00:00:00\",\"2021-12-31T00:00:00\",\"2020-12-31T00:00:00\",\"2019-12-31T00:00:00\",\"2018-12-31T00:00:00\",\"2017-12-31T00:00:00\",\"2016-12-31T00:00:00\",\"2015-12-31T00:00:00\",\"2014-12-31T00:00:00\",\"2013-12-31T00:00:00\",\"2012-12-31T00:00:00\",\"2011-12-31T00:00:00\",\"2010-12-31T00:00:00\"],\"xaxis\":\"x\",\"y\":[18.409000000000002,30.483,17.634999999999998,11.087,32.408,13.478,12.857,4.904,59.495000000000005,51.206,4.954,1.078,0.929],\"yaxis\":\"y\",\"type\":\"scatter\"},{\"hovertemplate\":\"Country=Austria<br>Month Date=%{x}<br>Quantity (tonnes)=%{y}<extra></extra>\",\"legendgroup\":\"Austria\",\"line\":{\"color\":\"#ab63fa\",\"dash\":\"solid\"},\"marker\":{\"symbol\":\"circle\"},\"mode\":\"lines\",\"name\":\"Austria\",\"orientation\":\"v\",\"showlegend\":true,\"x\":[\"2022-12-31T00:00:00\",\"2021-12-31T00:00:00\",\"2020-12-31T00:00:00\",\"2019-12-31T00:00:00\",\"2018-12-31T00:00:00\",\"2017-12-31T00:00:00\",\"2016-12-31T00:00:00\",\"2015-12-31T00:00:00\",\"2014-12-31T00:00:00\",\"2013-12-31T00:00:00\",\"2012-12-31T00:00:00\",\"2011-12-31T00:00:00\",\"2010-12-31T00:00:00\"],\"xaxis\":\"x\",\"y\":[14.911000000000001,37.037,24.471,44.528999999999996,42.75,61.727,63.098,156.486,51.564,82.287,58.464,126.45200000000001,78.552],\"yaxis\":\"y\",\"type\":\"scatter\"},{\"hovertemplate\":\"Country=Latvia<br>Month Date=%{x}<br>Quantity (tonnes)=%{y}<extra></extra>\",\"legendgroup\":\"Latvia\",\"line\":{\"color\":\"#FFA15A\",\"dash\":\"solid\"},\"marker\":{\"symbol\":\"circle\"},\"mode\":\"lines\",\"name\":\"Latvia\",\"orientation\":\"v\",\"showlegend\":true,\"x\":[\"2022-12-31T00:00:00\",\"2021-12-31T00:00:00\",\"2020-12-31T00:00:00\",\"2019-12-31T00:00:00\",\"2018-12-31T00:00:00\",\"2017-12-31T00:00:00\",\"2016-12-31T00:00:00\",\"2015-12-31T00:00:00\",\"2014-12-31T00:00:00\",\"2013-12-31T00:00:00\",\"2012-12-31T00:00:00\",\"2011-12-31T00:00:00\",\"2010-12-31T00:00:00\"],\"xaxis\":\"x\",\"y\":[8.134,35.152,178.708,188.83499999999998,3.558,145.045,239.276,90.506,2338.961,1825.528,478.933,94.128,247.32],\"yaxis\":\"y\",\"type\":\"scatter\"},{\"hovertemplate\":\"Country=Luxembourg<br>Month Date=%{x}<br>Quantity (tonnes)=%{y}<extra></extra>\",\"legendgroup\":\"Luxembourg\",\"line\":{\"color\":\"#19d3f3\",\"dash\":\"solid\"},\"marker\":{\"symbol\":\"circle\"},\"mode\":\"lines\",\"name\":\"Luxembourg\",\"orientation\":\"v\",\"showlegend\":true,\"x\":[\"2022-12-31T00:00:00\",\"2021-12-31T00:00:00\",\"2020-12-31T00:00:00\",\"2019-12-31T00:00:00\",\"2018-12-31T00:00:00\",\"2017-12-31T00:00:00\",\"2016-12-31T00:00:00\",\"2015-12-31T00:00:00\",\"2014-12-31T00:00:00\",\"2013-12-31T00:00:00\",\"2012-12-31T00:00:00\",\"2011-12-31T00:00:00\",\"2010-12-31T00:00:00\"],\"xaxis\":\"x\",\"y\":[2.391,2.115,2.1670000000000003,4.827,1.4649999999999999,2.928,3.817,5.116,0.777,1.134,2.4290000000000003,5.513,0.84],\"yaxis\":\"y\",\"type\":\"scatter\"},{\"hovertemplate\":\"Country=Malta<br>Month Date=%{x}<br>Quantity (tonnes)=%{y}<extra></extra>\",\"legendgroup\":\"Malta\",\"line\":{\"color\":\"#FF6692\",\"dash\":\"solid\"},\"marker\":{\"symbol\":\"circle\"},\"mode\":\"lines\",\"name\":\"Malta\",\"orientation\":\"v\",\"showlegend\":true,\"x\":[\"2022-12-31T00:00:00\",\"2021-12-31T00:00:00\",\"2019-12-31T00:00:00\",\"2017-12-31T00:00:00\"],\"xaxis\":\"x\",\"y\":[0.207,11.370000000000001,0.159,0.34299999999999997],\"yaxis\":\"y\",\"type\":\"scatter\"},{\"hovertemplate\":\"Country=United Kingdom<br>Month Date=%{x}<br>Quantity (tonnes)=%{y}<extra></extra>\",\"legendgroup\":\"United Kingdom\",\"line\":{\"color\":\"#B6E880\",\"dash\":\"solid\"},\"marker\":{\"symbol\":\"circle\"},\"mode\":\"lines\",\"name\":\"United Kingdom\",\"orientation\":\"v\",\"showlegend\":true,\"x\":[\"2020-12-31T00:00:00\",\"2019-12-31T00:00:00\",\"2018-12-31T00:00:00\",\"2017-12-31T00:00:00\",\"2016-12-31T00:00:00\",\"2015-12-31T00:00:00\",\"2014-12-31T00:00:00\",\"2013-12-31T00:00:00\",\"2012-12-31T00:00:00\",\"2011-12-31T00:00:00\",\"2010-12-31T00:00:00\"],\"xaxis\":\"x\",\"y\":[851.889,6103.8240000000005,2688.1910000000003,6368.284,7898.475,4056.1809999999996,2331.545,1303.103,2393.984,1679.417,2560.928],\"yaxis\":\"y\",\"type\":\"scatter\"},{\"hovertemplate\":\"Country=Cyprus<br>Month Date=%{x}<br>Quantity (tonnes)=%{y}<extra></extra>\",\"legendgroup\":\"Cyprus\",\"line\":{\"color\":\"#FF97FF\",\"dash\":\"solid\"},\"marker\":{\"symbol\":\"circle\"},\"mode\":\"lines\",\"name\":\"Cyprus\",\"orientation\":\"v\",\"showlegend\":true,\"x\":[\"2016-12-31T00:00:00\",\"2015-12-31T00:00:00\",\"2013-12-31T00:00:00\"],\"xaxis\":\"x\",\"y\":[0.251,0.101,3.2],\"yaxis\":\"y\",\"type\":\"scatter\"}],                        {\"template\":{\"data\":{\"bar\":[{\"error_x\":{\"color\":\"#2a3f5f\"},\"error_y\":{\"color\":\"#2a3f5f\"},\"marker\":{\"line\":{\"color\":\"#E5ECF6\",\"width\":0.5},\"pattern\":{\"fillmode\":\"overlay\",\"size\":10,\"solidity\":0.2}},\"type\":\"bar\"}],\"barpolar\":[{\"marker\":{\"line\":{\"color\":\"#E5ECF6\",\"width\":0.5},\"pattern\":{\"fillmode\":\"overlay\",\"size\":10,\"solidity\":0.2}},\"type\":\"barpolar\"}],\"carpet\":[{\"aaxis\":{\"endlinecolor\":\"#2a3f5f\",\"gridcolor\":\"white\",\"linecolor\":\"white\",\"minorgridcolor\":\"white\",\"startlinecolor\":\"#2a3f5f\"},\"baxis\":{\"endlinecolor\":\"#2a3f5f\",\"gridcolor\":\"white\",\"linecolor\":\"white\",\"minorgridcolor\":\"white\",\"startlinecolor\":\"#2a3f5f\"},\"type\":\"carpet\"}],\"choropleth\":[{\"colorbar\":{\"outlinewidth\":0,\"ticks\":\"\"},\"type\":\"choropleth\"}],\"contour\":[{\"colorbar\":{\"outlinewidth\":0,\"ticks\":\"\"},\"colorscale\":[[0.0,\"#0d0887\"],[0.1111111111111111,\"#46039f\"],[0.2222222222222222,\"#7201a8\"],[0.3333333333333333,\"#9c179e\"],[0.4444444444444444,\"#bd3786\"],[0.5555555555555556,\"#d8576b\"],[0.6666666666666666,\"#ed7953\"],[0.7777777777777778,\"#fb9f3a\"],[0.8888888888888888,\"#fdca26\"],[1.0,\"#f0f921\"]],\"type\":\"contour\"}],\"contourcarpet\":[{\"colorbar\":{\"outlinewidth\":0,\"ticks\":\"\"},\"type\":\"contourcarpet\"}],\"heatmap\":[{\"colorbar\":{\"outlinewidth\":0,\"ticks\":\"\"},\"colorscale\":[[0.0,\"#0d0887\"],[0.1111111111111111,\"#46039f\"],[0.2222222222222222,\"#7201a8\"],[0.3333333333333333,\"#9c179e\"],[0.4444444444444444,\"#bd3786\"],[0.5555555555555556,\"#d8576b\"],[0.6666666666666666,\"#ed7953\"],[0.7777777777777778,\"#fb9f3a\"],[0.8888888888888888,\"#fdca26\"],[1.0,\"#f0f921\"]],\"type\":\"heatmap\"}],\"heatmapgl\":[{\"colorbar\":{\"outlinewidth\":0,\"ticks\":\"\"},\"colorscale\":[[0.0,\"#0d0887\"],[0.1111111111111111,\"#46039f\"],[0.2222222222222222,\"#7201a8\"],[0.3333333333333333,\"#9c179e\"],[0.4444444444444444,\"#bd3786\"],[0.5555555555555556,\"#d8576b\"],[0.6666666666666666,\"#ed7953\"],[0.7777777777777778,\"#fb9f3a\"],[0.8888888888888888,\"#fdca26\"],[1.0,\"#f0f921\"]],\"type\":\"heatmapgl\"}],\"histogram\":[{\"marker\":{\"pattern\":{\"fillmode\":\"overlay\",\"size\":10,\"solidity\":0.2}},\"type\":\"histogram\"}],\"histogram2d\":[{\"colorbar\":{\"outlinewidth\":0,\"ticks\":\"\"},\"colorscale\":[[0.0,\"#0d0887\"],[0.1111111111111111,\"#46039f\"],[0.2222222222222222,\"#7201a8\"],[0.3333333333333333,\"#9c179e\"],[0.4444444444444444,\"#bd3786\"],[0.5555555555555556,\"#d8576b\"],[0.6666666666666666,\"#ed7953\"],[0.7777777777777778,\"#fb9f3a\"],[0.8888888888888888,\"#fdca26\"],[1.0,\"#f0f921\"]],\"type\":\"histogram2d\"}],\"histogram2dcontour\":[{\"colorbar\":{\"outlinewidth\":0,\"ticks\":\"\"},\"colorscale\":[[0.0,\"#0d0887\"],[0.1111111111111111,\"#46039f\"],[0.2222222222222222,\"#7201a8\"],[0.3333333333333333,\"#9c179e\"],[0.4444444444444444,\"#bd3786\"],[0.5555555555555556,\"#d8576b\"],[0.6666666666666666,\"#ed7953\"],[0.7777777777777778,\"#fb9f3a\"],[0.8888888888888888,\"#fdca26\"],[1.0,\"#f0f921\"]],\"type\":\"histogram2dcontour\"}],\"mesh3d\":[{\"colorbar\":{\"outlinewidth\":0,\"ticks\":\"\"},\"type\":\"mesh3d\"}],\"parcoords\":[{\"line\":{\"colorbar\":{\"outlinewidth\":0,\"ticks\":\"\"}},\"type\":\"parcoords\"}],\"pie\":[{\"automargin\":true,\"type\":\"pie\"}],\"scatter\":[{\"marker\":{\"colorbar\":{\"outlinewidth\":0,\"ticks\":\"\"}},\"type\":\"scatter\"}],\"scatter3d\":[{\"line\":{\"colorbar\":{\"outlinewidth\":0,\"ticks\":\"\"}},\"marker\":{\"colorbar\":{\"outlinewidth\":0,\"ticks\":\"\"}},\"type\":\"scatter3d\"}],\"scattercarpet\":[{\"marker\":{\"colorbar\":{\"outlinewidth\":0,\"ticks\":\"\"}},\"type\":\"scattercarpet\"}],\"scattergeo\":[{\"marker\":{\"colorbar\":{\"outlinewidth\":0,\"ticks\":\"\"}},\"type\":\"scattergeo\"}],\"scattergl\":[{\"marker\":{\"colorbar\":{\"outlinewidth\":0,\"ticks\":\"\"}},\"type\":\"scattergl\"}],\"scattermapbox\":[{\"marker\":{\"colorbar\":{\"outlinewidth\":0,\"ticks\":\"\"}},\"type\":\"scattermapbox\"}],\"scatterpolar\":[{\"marker\":{\"colorbar\":{\"outlinewidth\":0,\"ticks\":\"\"}},\"type\":\"scatterpolar\"}],\"scatterpolargl\":[{\"marker\":{\"colorbar\":{\"outlinewidth\":0,\"ticks\":\"\"}},\"type\":\"scatterpolargl\"}],\"scatterternary\":[{\"marker\":{\"colorbar\":{\"outlinewidth\":0,\"ticks\":\"\"}},\"type\":\"scatterternary\"}],\"surface\":[{\"colorbar\":{\"outlinewidth\":0,\"ticks\":\"\"},\"colorscale\":[[0.0,\"#0d0887\"],[0.1111111111111111,\"#46039f\"],[0.2222222222222222,\"#7201a8\"],[0.3333333333333333,\"#9c179e\"],[0.4444444444444444,\"#bd3786\"],[0.5555555555555556,\"#d8576b\"],[0.6666666666666666,\"#ed7953\"],[0.7777777777777778,\"#fb9f3a\"],[0.8888888888888888,\"#fdca26\"],[1.0,\"#f0f921\"]],\"type\":\"surface\"}],\"table\":[{\"cells\":{\"fill\":{\"color\":\"#EBF0F8\"},\"line\":{\"color\":\"white\"}},\"header\":{\"fill\":{\"color\":\"#C8D4E3\"},\"line\":{\"color\":\"white\"}},\"type\":\"table\"}]},\"layout\":{\"annotationdefaults\":{\"arrowcolor\":\"#2a3f5f\",\"arrowhead\":0,\"arrowwidth\":1},\"autotypenumbers\":\"strict\",\"coloraxis\":{\"colorbar\":{\"outlinewidth\":0,\"ticks\":\"\"}},\"colorscale\":{\"diverging\":[[0,\"#8e0152\"],[0.1,\"#c51b7d\"],[0.2,\"#de77ae\"],[0.3,\"#f1b6da\"],[0.4,\"#fde0ef\"],[0.5,\"#f7f7f7\"],[0.6,\"#e6f5d0\"],[0.7,\"#b8e186\"],[0.8,\"#7fbc41\"],[0.9,\"#4d9221\"],[1,\"#276419\"]],\"sequential\":[[0.0,\"#0d0887\"],[0.1111111111111111,\"#46039f\"],[0.2222222222222222,\"#7201a8\"],[0.3333333333333333,\"#9c179e\"],[0.4444444444444444,\"#bd3786\"],[0.5555555555555556,\"#d8576b\"],[0.6666666666666666,\"#ed7953\"],[0.7777777777777778,\"#fb9f3a\"],[0.8888888888888888,\"#fdca26\"],[1.0,\"#f0f921\"]],\"sequentialminus\":[[0.0,\"#0d0887\"],[0.1111111111111111,\"#46039f\"],[0.2222222222222222,\"#7201a8\"],[0.3333333333333333,\"#9c179e\"],[0.4444444444444444,\"#bd3786\"],[0.5555555555555556,\"#d8576b\"],[0.6666666666666666,\"#ed7953\"],[0.7777777777777778,\"#fb9f3a\"],[0.8888888888888888,\"#fdca26\"],[1.0,\"#f0f921\"]]},\"colorway\":[\"#636efa\",\"#EF553B\",\"#00cc96\",\"#ab63fa\",\"#FFA15A\",\"#19d3f3\",\"#FF6692\",\"#B6E880\",\"#FF97FF\",\"#FECB52\"],\"font\":{\"color\":\"#2a3f5f\"},\"geo\":{\"bgcolor\":\"white\",\"lakecolor\":\"white\",\"landcolor\":\"#E5ECF6\",\"showlakes\":true,\"showland\":true,\"subunitcolor\":\"white\"},\"hoverlabel\":{\"align\":\"left\"},\"hovermode\":\"closest\",\"mapbox\":{\"style\":\"light\"},\"paper_bgcolor\":\"white\",\"plot_bgcolor\":\"#E5ECF6\",\"polar\":{\"angularaxis\":{\"gridcolor\":\"white\",\"linecolor\":\"white\",\"ticks\":\"\"},\"bgcolor\":\"#E5ECF6\",\"radialaxis\":{\"gridcolor\":\"white\",\"linecolor\":\"white\",\"ticks\":\"\"}},\"scene\":{\"xaxis\":{\"backgroundcolor\":\"#E5ECF6\",\"gridcolor\":\"white\",\"gridwidth\":2,\"linecolor\":\"white\",\"showbackground\":true,\"ticks\":\"\",\"zerolinecolor\":\"white\"},\"yaxis\":{\"backgroundcolor\":\"#E5ECF6\",\"gridcolor\":\"white\",\"gridwidth\":2,\"linecolor\":\"white\",\"showbackground\":true,\"ticks\":\"\",\"zerolinecolor\":\"white\"},\"zaxis\":{\"backgroundcolor\":\"#E5ECF6\",\"gridcolor\":\"white\",\"gridwidth\":2,\"linecolor\":\"white\",\"showbackground\":true,\"ticks\":\"\",\"zerolinecolor\":\"white\"}},\"shapedefaults\":{\"line\":{\"color\":\"#2a3f5f\"}},\"ternary\":{\"aaxis\":{\"gridcolor\":\"white\",\"linecolor\":\"white\",\"ticks\":\"\"},\"baxis\":{\"gridcolor\":\"white\",\"linecolor\":\"white\",\"ticks\":\"\"},\"bgcolor\":\"#E5ECF6\",\"caxis\":{\"gridcolor\":\"white\",\"linecolor\":\"white\",\"ticks\":\"\"}},\"title\":{\"x\":0.05},\"xaxis\":{\"automargin\":true,\"gridcolor\":\"white\",\"linecolor\":\"white\",\"ticks\":\"\",\"title\":{\"standoff\":15},\"zerolinecolor\":\"white\",\"zerolinewidth\":2},\"yaxis\":{\"automargin\":true,\"gridcolor\":\"white\",\"linecolor\":\"white\",\"ticks\":\"\",\"title\":{\"standoff\":15},\"zerolinecolor\":\"white\",\"zerolinewidth\":2}}},\"xaxis\":{\"anchor\":\"y\",\"domain\":[0.0,1.0],\"title\":{\"text\":\"Month Date\"}},\"yaxis\":{\"anchor\":\"x\",\"domain\":[0.0,1.0],\"title\":{\"text\":\"Quantity (tonnes)\"}},\"legend\":{\"title\":{\"text\":\"Country\"},\"tracegroupgap\":0},\"title\":{\"text\":\"Butter Exports\"}},                        {\"responsive\": true}                    ).then(function(){\n",
       "                            \n",
       "var gd = document.getElementById('2ccc16a9-9589-4145-a851-75360c68b92d');\n",
       "var x = new MutationObserver(function (mutations, observer) {{\n",
       "        var display = window.getComputedStyle(gd).display;\n",
       "        if (!display || display === 'none') {{\n",
       "            console.log([gd, 'removed!']);\n",
       "            Plotly.purge(gd);\n",
       "            observer.disconnect();\n",
       "        }}\n",
       "}});\n",
       "\n",
       "// Listen for the removal of the full notebook cells\n",
       "var notebookContainer = gd.closest('#notebook-container');\n",
       "if (notebookContainer) {{\n",
       "    x.observe(notebookContainer, {childList: true});\n",
       "}}\n",
       "\n",
       "// Listen for the clearing of the current output cell\n",
       "var outputEl = gd.closest('.output');\n",
       "if (outputEl) {{\n",
       "    x.observe(outputEl, {childList: true});\n",
       "}}\n",
       "\n",
       "                        })                };                });            </script>        </div>"
      ]
     },
     "metadata": {},
     "output_type": "display_data"
    }
   ],
   "source": [
    "fig = px.line(df_plot, x=\"Month Date\", y=\"Quantity (tonnes)\", color='Country', title='Butter Exports')\n",
    "fig.show()"
   ]
  },
  {
   "cell_type": "code",
   "execution_count": 361,
   "id": "d1a25782",
   "metadata": {},
   "outputs": [
    {
     "data": {
      "application/vnd.plotly.v1+json": {
       "config": {
        "plotlyServerURL": "https://plot.ly"
       },
       "data": [
        {
         "hovertemplate": "Country=New Zealand<br>Month Date=%{x}<br>Value (k Euro)=%{y}<extra></extra>",
         "legendgroup": "New Zealand",
         "line": {
          "color": "#636efa",
          "dash": "solid"
         },
         "marker": {
          "symbol": "circle"
         },
         "mode": "lines",
         "name": "New Zealand",
         "orientation": "v",
         "showlegend": true,
         "type": "scatter",
         "x": [
          "2022-12-31T00:00:00",
          "2021-12-31T00:00:00",
          "2020-12-31T00:00:00",
          "2019-12-31T00:00:00",
          "2018-12-31T00:00:00",
          "2017-12-31T00:00:00",
          "2016-12-31T00:00:00",
          "2015-12-31T00:00:00",
          "2014-12-31T00:00:00",
          "2013-12-31T00:00:00",
          "2012-12-31T00:00:00",
          "2011-12-31T00:00:00",
          "2010-12-31T00:00:00"
         ],
         "xaxis": "x",
         "y": [
          1014677,
          986155,
          879919,
          1129225,
          1206128,
          1185094,
          828354,
          798252,
          877985,
          786149,
          756961,
          808375,
          688759
         ],
         "yaxis": "y"
        },
        {
         "hovertemplate": "Country=Ireland<br>Month Date=%{x}<br>Value (k Euro)=%{y}<extra></extra>",
         "legendgroup": "Ireland",
         "line": {
          "color": "#EF553B",
          "dash": "solid"
         },
         "marker": {
          "symbol": "circle"
         },
         "mode": "lines",
         "name": "Ireland",
         "orientation": "v",
         "showlegend": true,
         "type": "scatter",
         "x": [
          "2022-12-31T00:00:00",
          "2021-12-31T00:00:00",
          "2020-12-31T00:00:00",
          "2019-12-31T00:00:00",
          "2018-12-31T00:00:00",
          "2017-12-31T00:00:00",
          "2016-12-31T00:00:00",
          "2015-12-31T00:00:00",
          "2014-12-31T00:00:00",
          "2013-12-31T00:00:00",
          "2012-12-31T00:00:00",
          "2011-12-31T00:00:00",
          "2010-12-31T00:00:00"
         ],
         "xaxis": "x",
         "y": [
          499476.726,
          396279.148,
          420785.895,
          283954.787,
          195874.678,
          144567.345,
          110904.084,
          79432.879,
          38586.376000000004,
          24317.852,
          26919.962,
          24287.729,
          28006.582000000002
         ],
         "yaxis": "y"
        },
        {
         "hovertemplate": "Country=France<br>Month Date=%{x}<br>Value (k Euro)=%{y}<extra></extra>",
         "legendgroup": "France",
         "line": {
          "color": "#00cc96",
          "dash": "solid"
         },
         "marker": {
          "symbol": "circle"
         },
         "mode": "lines",
         "name": "France",
         "orientation": "v",
         "showlegend": true,
         "type": "scatter",
         "x": [
          "2022-12-31T00:00:00",
          "2021-12-31T00:00:00",
          "2020-12-31T00:00:00",
          "2019-12-31T00:00:00",
          "2018-12-31T00:00:00",
          "2017-12-31T00:00:00",
          "2016-12-31T00:00:00",
          "2015-12-31T00:00:00",
          "2014-12-31T00:00:00",
          "2013-12-31T00:00:00",
          "2012-12-31T00:00:00",
          "2011-12-31T00:00:00",
          "2010-12-31T00:00:00"
         ],
         "xaxis": "x",
         "y": [
          298713.263,
          267508.009,
          239149.666,
          209453.58,
          199586.581,
          188838.462,
          143301.51,
          128942.142,
          130417.656,
          119326.247,
          98042.612,
          85680.715,
          71429.24799999999
         ],
         "yaxis": "y"
        },
        {
         "hovertemplate": "Country=Denmark<br>Month Date=%{x}<br>Value (k Euro)=%{y}<extra></extra>",
         "legendgroup": "Denmark",
         "line": {
          "color": "#ab63fa",
          "dash": "solid"
         },
         "marker": {
          "symbol": "circle"
         },
         "mode": "lines",
         "name": "Denmark",
         "orientation": "v",
         "showlegend": true,
         "type": "scatter",
         "x": [
          "2022-12-31T00:00:00",
          "2021-12-31T00:00:00",
          "2020-12-31T00:00:00",
          "2019-12-31T00:00:00",
          "2018-12-31T00:00:00",
          "2017-12-31T00:00:00",
          "2016-12-31T00:00:00",
          "2015-12-31T00:00:00",
          "2014-12-31T00:00:00",
          "2013-12-31T00:00:00",
          "2012-12-31T00:00:00",
          "2011-12-31T00:00:00",
          "2010-12-31T00:00:00"
         ],
         "xaxis": "x",
         "y": [
          154833.218,
          150124.234,
          150185.119,
          127018.32,
          131779.218,
          96799.435,
          92796.932,
          92731.859,
          69188.152,
          70271.632,
          67650.748,
          58762.541,
          44552.686
         ],
         "yaxis": "y"
        },
        {
         "hovertemplate": "Country=Netherlands<br>Month Date=%{x}<br>Value (k Euro)=%{y}<extra></extra>",
         "legendgroup": "Netherlands",
         "line": {
          "color": "#FFA15A",
          "dash": "solid"
         },
         "marker": {
          "symbol": "circle"
         },
         "mode": "lines",
         "name": "Netherlands",
         "orientation": "v",
         "showlegend": true,
         "type": "scatter",
         "x": [
          "2022-12-31T00:00:00",
          "2021-12-31T00:00:00",
          "2020-12-31T00:00:00",
          "2019-12-31T00:00:00",
          "2018-12-31T00:00:00",
          "2017-12-31T00:00:00",
          "2016-12-31T00:00:00",
          "2015-12-31T00:00:00",
          "2014-12-31T00:00:00",
          "2013-12-31T00:00:00",
          "2012-12-31T00:00:00",
          "2011-12-31T00:00:00",
          "2010-12-31T00:00:00"
         ],
         "xaxis": "x",
         "y": [
          121849.368,
          138876.34,
          128503.863,
          111346.631,
          81003.682,
          80169.41,
          73779.136,
          81675.537,
          72263.538,
          54921.108,
          58430.233,
          69661.092,
          97731.441
         ],
         "yaxis": "y"
        },
        {
         "hovertemplate": "Country=Belgium<br>Month Date=%{x}<br>Value (k Euro)=%{y}<extra></extra>",
         "legendgroup": "Belgium",
         "line": {
          "color": "#19d3f3",
          "dash": "solid"
         },
         "marker": {
          "symbol": "circle"
         },
         "mode": "lines",
         "name": "Belgium",
         "orientation": "v",
         "showlegend": true,
         "type": "scatter",
         "x": [
          "2022-12-31T00:00:00",
          "2021-12-31T00:00:00",
          "2020-12-31T00:00:00",
          "2019-12-31T00:00:00",
          "2018-12-31T00:00:00",
          "2017-12-31T00:00:00",
          "2016-12-31T00:00:00",
          "2015-12-31T00:00:00",
          "2014-12-31T00:00:00",
          "2013-12-31T00:00:00",
          "2012-12-31T00:00:00",
          "2011-12-31T00:00:00",
          "2010-12-31T00:00:00"
         ],
         "xaxis": "x",
         "y": [
          71956.462,
          55655.169,
          72503.901,
          60909.287000000004,
          37359.366,
          47171.967000000004,
          37605.745,
          37558.886,
          30002.336,
          20312.635,
          15092.835000000001,
          19065.709,
          34837.812
         ],
         "yaxis": "y"
        },
        {
         "hovertemplate": "Country=Germany<br>Month Date=%{x}<br>Value (k Euro)=%{y}<extra></extra>",
         "legendgroup": "Germany",
         "line": {
          "color": "#FF6692",
          "dash": "solid"
         },
         "marker": {
          "symbol": "circle"
         },
         "mode": "lines",
         "name": "Germany",
         "orientation": "v",
         "showlegend": true,
         "type": "scatter",
         "x": [
          "2022-12-31T00:00:00",
          "2021-12-31T00:00:00",
          "2020-12-31T00:00:00",
          "2019-12-31T00:00:00",
          "2018-12-31T00:00:00",
          "2017-12-31T00:00:00",
          "2016-12-31T00:00:00",
          "2015-12-31T00:00:00",
          "2014-12-31T00:00:00",
          "2013-12-31T00:00:00",
          "2012-12-31T00:00:00",
          "2011-12-31T00:00:00",
          "2010-12-31T00:00:00"
         ],
         "xaxis": "x",
         "y": [
          57218.03,
          58713.573000000004,
          52822.591,
          70435.412,
          47720.093,
          52931.257,
          45075.382,
          35620.835,
          38760.223,
          36968.873999999996,
          33970.244,
          47169.359,
          76226.13
         ],
         "yaxis": "y"
        },
        {
         "hovertemplate": "Country=Poland<br>Month Date=%{x}<br>Value (k Euro)=%{y}<extra></extra>",
         "legendgroup": "Poland",
         "line": {
          "color": "#B6E880",
          "dash": "solid"
         },
         "marker": {
          "symbol": "circle"
         },
         "mode": "lines",
         "name": "Poland",
         "orientation": "v",
         "showlegend": true,
         "type": "scatter",
         "x": [
          "2022-12-31T00:00:00",
          "2021-12-31T00:00:00",
          "2020-12-31T00:00:00",
          "2019-12-31T00:00:00",
          "2018-12-31T00:00:00",
          "2017-12-31T00:00:00",
          "2016-12-31T00:00:00",
          "2015-12-31T00:00:00",
          "2014-12-31T00:00:00",
          "2013-12-31T00:00:00",
          "2012-12-31T00:00:00",
          "2011-12-31T00:00:00",
          "2010-12-31T00:00:00"
         ],
         "xaxis": "x",
         "y": [
          24699.518,
          28810.431,
          45559.504,
          26002.326,
          8989.942000000001,
          15153.769,
          13714.483,
          7761.027,
          8628.157,
          7346.549,
          7992.017,
          9606.584,
          7923.357
         ],
         "yaxis": "y"
        },
        {
         "hovertemplate": "Country=Finland<br>Month Date=%{x}<br>Value (k Euro)=%{y}<extra></extra>",
         "legendgroup": "Finland",
         "line": {
          "color": "#FF97FF",
          "dash": "solid"
         },
         "marker": {
          "symbol": "circle"
         },
         "mode": "lines",
         "name": "Finland",
         "orientation": "v",
         "showlegend": true,
         "type": "scatter",
         "x": [
          "2022-12-31T00:00:00",
          "2021-12-31T00:00:00",
          "2020-12-31T00:00:00",
          "2019-12-31T00:00:00",
          "2018-12-31T00:00:00",
          "2017-12-31T00:00:00",
          "2016-12-31T00:00:00",
          "2015-12-31T00:00:00",
          "2014-12-31T00:00:00",
          "2013-12-31T00:00:00",
          "2012-12-31T00:00:00",
          "2011-12-31T00:00:00",
          "2010-12-31T00:00:00"
         ],
         "xaxis": "x",
         "y": [
          18534.605,
          18450.548,
          21784.114,
          19467.314,
          14339.261,
          15302.380000000001,
          19517.225,
          21878.374,
          40581.797000000006,
          53425.814,
          53438.012,
          48835.287,
          49157.131
         ],
         "yaxis": "y"
        },
        {
         "hovertemplate": "Country=Lithuania<br>Month Date=%{x}<br>Value (k Euro)=%{y}<extra></extra>",
         "legendgroup": "Lithuania",
         "line": {
          "color": "#FECB52",
          "dash": "solid"
         },
         "marker": {
          "symbol": "circle"
         },
         "mode": "lines",
         "name": "Lithuania",
         "orientation": "v",
         "showlegend": true,
         "type": "scatter",
         "x": [
          "2022-12-31T00:00:00",
          "2021-12-31T00:00:00",
          "2020-12-31T00:00:00",
          "2019-12-31T00:00:00",
          "2018-12-31T00:00:00",
          "2017-12-31T00:00:00",
          "2016-12-31T00:00:00",
          "2015-12-31T00:00:00",
          "2014-12-31T00:00:00",
          "2013-12-31T00:00:00",
          "2012-12-31T00:00:00",
          "2011-12-31T00:00:00",
          "2010-12-31T00:00:00"
         ],
         "xaxis": "x",
         "y": [
          15951.28,
          4498.613,
          18761.676,
          6189.078,
          2265.062,
          2796.3469999999998,
          27230.154,
          16435.645,
          22692.423,
          7985.87,
          2285.832,
          865.001,
          1716.717
         ],
         "yaxis": "y"
        },
        {
         "hovertemplate": "Country=Portugal<br>Month Date=%{x}<br>Value (k Euro)=%{y}<extra></extra>",
         "legendgroup": "Portugal",
         "line": {
          "color": "#636efa",
          "dash": "solid"
         },
         "marker": {
          "symbol": "circle"
         },
         "mode": "lines",
         "name": "Portugal",
         "orientation": "v",
         "showlegend": true,
         "type": "scatter",
         "x": [
          "2022-12-31T00:00:00",
          "2021-12-31T00:00:00",
          "2020-12-31T00:00:00",
          "2019-12-31T00:00:00",
          "2018-12-31T00:00:00",
          "2017-12-31T00:00:00",
          "2016-12-31T00:00:00",
          "2015-12-31T00:00:00",
          "2014-12-31T00:00:00",
          "2013-12-31T00:00:00",
          "2012-12-31T00:00:00",
          "2011-12-31T00:00:00",
          "2010-12-31T00:00:00"
         ],
         "xaxis": "x",
         "y": [
          15555.956,
          19762.993000000002,
          25205.634000000002,
          9388.67,
          12709.755000000001,
          15195.796,
          14069.933,
          10875.687,
          9019.662,
          7527.093,
          5945.64,
          4282.392,
          4158.041
         ],
         "yaxis": "y"
        },
        {
         "hovertemplate": "Country=Italy<br>Month Date=%{x}<br>Value (k Euro)=%{y}<extra></extra>",
         "legendgroup": "Italy",
         "line": {
          "color": "#EF553B",
          "dash": "solid"
         },
         "marker": {
          "symbol": "circle"
         },
         "mode": "lines",
         "name": "Italy",
         "orientation": "v",
         "showlegend": true,
         "type": "scatter",
         "x": [
          "2022-12-31T00:00:00",
          "2021-12-31T00:00:00",
          "2020-12-31T00:00:00",
          "2019-12-31T00:00:00",
          "2018-12-31T00:00:00",
          "2017-12-31T00:00:00",
          "2016-12-31T00:00:00",
          "2015-12-31T00:00:00",
          "2014-12-31T00:00:00",
          "2013-12-31T00:00:00",
          "2012-12-31T00:00:00",
          "2011-12-31T00:00:00",
          "2010-12-31T00:00:00"
         ],
         "xaxis": "x",
         "y": [
          9269.485,
          10189.95,
          8527.85,
          6039.814,
          2199.8109999999997,
          2500.796,
          2328.489,
          2038.887,
          1481.51,
          1287.826,
          809.391,
          910.438,
          802.4159999999999
         ],
         "yaxis": "y"
        },
        {
         "hovertemplate": "Country=Spain<br>Month Date=%{x}<br>Value (k Euro)=%{y}<extra></extra>",
         "legendgroup": "Spain",
         "line": {
          "color": "#00cc96",
          "dash": "solid"
         },
         "marker": {
          "symbol": "circle"
         },
         "mode": "lines",
         "name": "Spain",
         "orientation": "v",
         "showlegend": true,
         "type": "scatter",
         "x": [
          "2022-12-31T00:00:00",
          "2021-12-31T00:00:00",
          "2020-12-31T00:00:00",
          "2019-12-31T00:00:00",
          "2018-12-31T00:00:00",
          "2017-12-31T00:00:00",
          "2016-12-31T00:00:00",
          "2015-12-31T00:00:00",
          "2014-12-31T00:00:00",
          "2013-12-31T00:00:00",
          "2012-12-31T00:00:00",
          "2011-12-31T00:00:00",
          "2010-12-31T00:00:00"
         ],
         "xaxis": "x",
         "y": [
          8036.446000000001,
          8030.604,
          7396.383,
          4487.844,
          3587.6530000000002,
          3912.264,
          3474.068,
          3036.194,
          2135.492,
          3080.56,
          3016.815,
          1670.401,
          1287.984
         ],
         "yaxis": "y"
        },
        {
         "hovertemplate": "Country=Croatia<br>Month Date=%{x}<br>Value (k Euro)=%{y}<extra></extra>",
         "legendgroup": "Croatia",
         "line": {
          "color": "#ab63fa",
          "dash": "solid"
         },
         "marker": {
          "symbol": "circle"
         },
         "mode": "lines",
         "name": "Croatia",
         "orientation": "v",
         "showlegend": true,
         "type": "scatter",
         "x": [
          "2022-12-31T00:00:00",
          "2021-12-31T00:00:00",
          "2020-12-31T00:00:00",
          "2019-12-31T00:00:00",
          "2018-12-31T00:00:00",
          "2017-12-31T00:00:00",
          "2016-12-31T00:00:00",
          "2015-12-31T00:00:00",
          "2014-12-31T00:00:00",
          "2013-12-31T00:00:00"
         ],
         "xaxis": "x",
         "y": [
          2278.0550000000003,
          2172.966,
          2229.339,
          2527.626,
          2309.913,
          2102.501,
          1370.829,
          1414.353,
          1870.151,
          824.653
         ],
         "yaxis": "y"
        },
        {
         "hovertemplate": "Country=Romania<br>Month Date=%{x}<br>Value (k Euro)=%{y}<extra></extra>",
         "legendgroup": "Romania",
         "line": {
          "color": "#FFA15A",
          "dash": "solid"
         },
         "marker": {
          "symbol": "circle"
         },
         "mode": "lines",
         "name": "Romania",
         "orientation": "v",
         "showlegend": true,
         "type": "scatter",
         "x": [
          "2022-12-31T00:00:00",
          "2021-12-31T00:00:00",
          "2020-12-31T00:00:00",
          "2019-12-31T00:00:00",
          "2018-12-31T00:00:00",
          "2017-12-31T00:00:00",
          "2016-12-31T00:00:00",
          "2015-12-31T00:00:00",
          "2014-12-31T00:00:00",
          "2012-12-31T00:00:00",
          "2010-12-31T00:00:00"
         ],
         "xaxis": "x",
         "y": [
          1182.574,
          1621.001,
          1199.969,
          610.396,
          297.08,
          1412.943,
          474.483,
          47.081,
          29.434,
          0.012,
          1.17
         ],
         "yaxis": "y"
        },
        {
         "hovertemplate": "Country=Slovenia<br>Month Date=%{x}<br>Value (k Euro)=%{y}<extra></extra>",
         "legendgroup": "Slovenia",
         "line": {
          "color": "#19d3f3",
          "dash": "solid"
         },
         "marker": {
          "symbol": "circle"
         },
         "mode": "lines",
         "name": "Slovenia",
         "orientation": "v",
         "showlegend": true,
         "type": "scatter",
         "x": [
          "2022-12-31T00:00:00",
          "2021-12-31T00:00:00",
          "2020-12-31T00:00:00",
          "2019-12-31T00:00:00",
          "2018-12-31T00:00:00",
          "2017-12-31T00:00:00",
          "2016-12-31T00:00:00",
          "2015-12-31T00:00:00",
          "2014-12-31T00:00:00",
          "2013-12-31T00:00:00",
          "2012-12-31T00:00:00",
          "2011-12-31T00:00:00",
          "2010-12-31T00:00:00"
         ],
         "xaxis": "x",
         "y": [
          585.854,
          338.906,
          194.12300000000002,
          298.55,
          298.459,
          320.36400000000003,
          185.793,
          180.264,
          403.646,
          276.054,
          956.734,
          442.32,
          553.932
         ],
         "yaxis": "y"
        },
        {
         "hovertemplate": "Country=Estonia<br>Month Date=%{x}<br>Value (k Euro)=%{y}<extra></extra>",
         "legendgroup": "Estonia",
         "line": {
          "color": "#FF6692",
          "dash": "solid"
         },
         "marker": {
          "symbol": "circle"
         },
         "mode": "lines",
         "name": "Estonia",
         "orientation": "v",
         "showlegend": true,
         "type": "scatter",
         "x": [
          "2022-12-31T00:00:00",
          "2021-12-31T00:00:00",
          "2020-12-31T00:00:00",
          "2019-12-31T00:00:00",
          "2018-12-31T00:00:00",
          "2017-12-31T00:00:00",
          "2016-12-31T00:00:00",
          "2015-12-31T00:00:00",
          "2014-12-31T00:00:00",
          "2013-12-31T00:00:00",
          "2012-12-31T00:00:00",
          "2011-12-31T00:00:00",
          "2010-12-31T00:00:00"
         ],
         "xaxis": "x",
         "y": [
          486.033,
          665.676,
          666.745,
          330.742,
          155.90800000000002,
          708.0479999999999,
          506.484,
          1557.6000000000001,
          619.883,
          156.441,
          394.306,
          785.953,
          3600.563
         ],
         "yaxis": "y"
        },
        {
         "hovertemplate": "Country=Slovakia<br>Month Date=%{x}<br>Value (k Euro)=%{y}<extra></extra>",
         "legendgroup": "Slovakia",
         "line": {
          "color": "#B6E880",
          "dash": "solid"
         },
         "marker": {
          "symbol": "circle"
         },
         "mode": "lines",
         "name": "Slovakia",
         "orientation": "v",
         "showlegend": true,
         "type": "scatter",
         "x": [
          "2022-12-31T00:00:00",
          "2021-12-31T00:00:00",
          "2020-12-31T00:00:00",
          "2019-12-31T00:00:00",
          "2018-12-31T00:00:00",
          "2017-12-31T00:00:00",
          "2016-12-31T00:00:00",
          "2015-12-31T00:00:00",
          "2014-12-31T00:00:00",
          "2013-12-31T00:00:00",
          "2012-12-31T00:00:00",
          "2011-12-31T00:00:00"
         ],
         "xaxis": "x",
         "y": [
          393.132,
          541.818,
          209.42700000000002,
          179.327,
          86.259,
          0.008,
          67.004,
          68.492,
          31.575000000000003,
          4.852,
          3.019,
          258.538
         ],
         "yaxis": "y"
        },
        {
         "hovertemplate": "Country=Czechia<br>Month Date=%{x}<br>Value (k Euro)=%{y}<extra></extra>",
         "legendgroup": "Czechia",
         "line": {
          "color": "#FF97FF",
          "dash": "solid"
         },
         "marker": {
          "symbol": "circle"
         },
         "mode": "lines",
         "name": "Czechia",
         "orientation": "v",
         "showlegend": true,
         "type": "scatter",
         "x": [
          "2022-12-31T00:00:00",
          "2021-12-31T00:00:00",
          "2020-12-31T00:00:00",
          "2019-12-31T00:00:00",
          "2018-12-31T00:00:00",
          "2017-12-31T00:00:00",
          "2016-12-31T00:00:00",
          "2015-12-31T00:00:00",
          "2014-12-31T00:00:00",
          "2013-12-31T00:00:00",
          "2012-12-31T00:00:00",
          "2011-12-31T00:00:00",
          "2010-12-31T00:00:00"
         ],
         "xaxis": "x",
         "y": [
          312.68399999999997,
          261.454,
          200.953,
          141.221,
          245.40800000000002,
          288.007,
          361.621,
          471.026,
          1615.0159999999998,
          2513.273,
          2399.016,
          4326.808,
          3054.3720000000003
         ],
         "yaxis": "y"
        },
        {
         "hovertemplate": "Country=Bulgaria<br>Month Date=%{x}<br>Value (k Euro)=%{y}<extra></extra>",
         "legendgroup": "Bulgaria",
         "line": {
          "color": "#FECB52",
          "dash": "solid"
         },
         "marker": {
          "symbol": "circle"
         },
         "mode": "lines",
         "name": "Bulgaria",
         "orientation": "v",
         "showlegend": true,
         "type": "scatter",
         "x": [
          "2022-12-31T00:00:00",
          "2021-12-31T00:00:00",
          "2020-12-31T00:00:00",
          "2019-12-31T00:00:00",
          "2018-12-31T00:00:00",
          "2017-12-31T00:00:00",
          "2016-12-31T00:00:00",
          "2015-12-31T00:00:00",
          "2014-12-31T00:00:00",
          "2013-12-31T00:00:00",
          "2012-12-31T00:00:00",
          "2011-12-31T00:00:00",
          "2010-12-31T00:00:00"
         ],
         "xaxis": "x",
         "y": [
          197.968,
          79.78,
          64.401,
          19.916,
          3.862,
          1.816,
          9.902999999999999,
          54,
          124.687,
          0.228,
          205.818,
          59.732,
          219.644
         ],
         "yaxis": "y"
        },
        {
         "hovertemplate": "Country=Hungary<br>Month Date=%{x}<br>Value (k Euro)=%{y}<extra></extra>",
         "legendgroup": "Hungary",
         "line": {
          "color": "#636efa",
          "dash": "solid"
         },
         "marker": {
          "symbol": "circle"
         },
         "mode": "lines",
         "name": "Hungary",
         "orientation": "v",
         "showlegend": true,
         "type": "scatter",
         "x": [
          "2022-12-31T00:00:00",
          "2021-12-31T00:00:00",
          "2020-12-31T00:00:00",
          "2019-12-31T00:00:00",
          "2018-12-31T00:00:00",
          "2017-12-31T00:00:00",
          "2016-12-31T00:00:00",
          "2015-12-31T00:00:00",
          "2014-12-31T00:00:00",
          "2013-12-31T00:00:00",
          "2012-12-31T00:00:00",
          "2011-12-31T00:00:00",
          "2010-12-31T00:00:00"
         ],
         "xaxis": "x",
         "y": [
          196.725,
          456.18699999999995,
          3750.081,
          109.895,
          131.01000000000002,
          83.096,
          297.51300000000003,
          550.286,
          427.828,
          1045.3429999999998,
          151.733,
          1.124,
          93.619
         ],
         "yaxis": "y"
        },
        {
         "hovertemplate": "Country=Sweden<br>Month Date=%{x}<br>Value (k Euro)=%{y}<extra></extra>",
         "legendgroup": "Sweden",
         "line": {
          "color": "#EF553B",
          "dash": "solid"
         },
         "marker": {
          "symbol": "circle"
         },
         "mode": "lines",
         "name": "Sweden",
         "orientation": "v",
         "showlegend": true,
         "type": "scatter",
         "x": [
          "2022-12-31T00:00:00",
          "2021-12-31T00:00:00",
          "2020-12-31T00:00:00",
          "2019-12-31T00:00:00",
          "2018-12-31T00:00:00",
          "2017-12-31T00:00:00",
          "2016-12-31T00:00:00",
          "2015-12-31T00:00:00",
          "2014-12-31T00:00:00",
          "2013-12-31T00:00:00",
          "2012-12-31T00:00:00",
          "2011-12-31T00:00:00",
          "2010-12-31T00:00:00"
         ],
         "xaxis": "x",
         "y": [
          195.899,
          149.287,
          23.342,
          16.985,
          29.939,
          23.192,
          16.429000000000002,
          5.631,
          364.846,
          91.405,
          2658.249,
          1001.446,
          2174.391
         ],
         "yaxis": "y"
        },
        {
         "hovertemplate": "Country=Greece<br>Month Date=%{x}<br>Value (k Euro)=%{y}<extra></extra>",
         "legendgroup": "Greece",
         "line": {
          "color": "#00cc96",
          "dash": "solid"
         },
         "marker": {
          "symbol": "circle"
         },
         "mode": "lines",
         "name": "Greece",
         "orientation": "v",
         "showlegend": true,
         "type": "scatter",
         "x": [
          "2022-12-31T00:00:00",
          "2021-12-31T00:00:00",
          "2020-12-31T00:00:00",
          "2019-12-31T00:00:00",
          "2018-12-31T00:00:00",
          "2017-12-31T00:00:00",
          "2016-12-31T00:00:00",
          "2015-12-31T00:00:00",
          "2014-12-31T00:00:00",
          "2013-12-31T00:00:00",
          "2012-12-31T00:00:00",
          "2011-12-31T00:00:00",
          "2010-12-31T00:00:00"
         ],
         "xaxis": "x",
         "y": [
          155.161,
          193.12199999999999,
          102.678,
          68.999,
          175.147,
          68.887,
          57.378,
          24.878999999999998,
          235.85899999999998,
          269.15999999999997,
          38.513,
          9.648,
          9.473
         ],
         "yaxis": "y"
        },
        {
         "hovertemplate": "Country=Austria<br>Month Date=%{x}<br>Value (k Euro)=%{y}<extra></extra>",
         "legendgroup": "Austria",
         "line": {
          "color": "#ab63fa",
          "dash": "solid"
         },
         "marker": {
          "symbol": "circle"
         },
         "mode": "lines",
         "name": "Austria",
         "orientation": "v",
         "showlegend": true,
         "type": "scatter",
         "x": [
          "2022-12-31T00:00:00",
          "2021-12-31T00:00:00",
          "2020-12-31T00:00:00",
          "2019-12-31T00:00:00",
          "2018-12-31T00:00:00",
          "2017-12-31T00:00:00",
          "2016-12-31T00:00:00",
          "2015-12-31T00:00:00",
          "2014-12-31T00:00:00",
          "2013-12-31T00:00:00",
          "2012-12-31T00:00:00",
          "2011-12-31T00:00:00",
          "2010-12-31T00:00:00"
         ],
         "xaxis": "x",
         "y": [
          117.583,
          242.629,
          183.048,
          310.07800000000003,
          291.272,
          370.51800000000003,
          317.147,
          666.7239999999999,
          322.467,
          436.711,
          294.951,
          645.7860000000001,
          356.651
         ],
         "yaxis": "y"
        },
        {
         "hovertemplate": "Country=Latvia<br>Month Date=%{x}<br>Value (k Euro)=%{y}<extra></extra>",
         "legendgroup": "Latvia",
         "line": {
          "color": "#FFA15A",
          "dash": "solid"
         },
         "marker": {
          "symbol": "circle"
         },
         "mode": "lines",
         "name": "Latvia",
         "orientation": "v",
         "showlegend": true,
         "type": "scatter",
         "x": [
          "2022-12-31T00:00:00",
          "2021-12-31T00:00:00",
          "2020-12-31T00:00:00",
          "2019-12-31T00:00:00",
          "2018-12-31T00:00:00",
          "2017-12-31T00:00:00",
          "2016-12-31T00:00:00",
          "2015-12-31T00:00:00",
          "2014-12-31T00:00:00",
          "2013-12-31T00:00:00",
          "2012-12-31T00:00:00",
          "2011-12-31T00:00:00",
          "2010-12-31T00:00:00"
         ],
         "xaxis": "x",
         "y": [
          61.155,
          193.308,
          671.055,
          745.722,
          24.532999999999998,
          928.5409999999999,
          730.653,
          347.954,
          8566.557999999999,
          6772.291,
          1749.365,
          367.639,
          633.657
         ],
         "yaxis": "y"
        },
        {
         "hovertemplate": "Country=Luxembourg<br>Month Date=%{x}<br>Value (k Euro)=%{y}<extra></extra>",
         "legendgroup": "Luxembourg",
         "line": {
          "color": "#19d3f3",
          "dash": "solid"
         },
         "marker": {
          "symbol": "circle"
         },
         "mode": "lines",
         "name": "Luxembourg",
         "orientation": "v",
         "showlegend": true,
         "type": "scatter",
         "x": [
          "2022-12-31T00:00:00",
          "2021-12-31T00:00:00",
          "2020-12-31T00:00:00",
          "2019-12-31T00:00:00",
          "2018-12-31T00:00:00",
          "2017-12-31T00:00:00",
          "2016-12-31T00:00:00",
          "2015-12-31T00:00:00",
          "2014-12-31T00:00:00",
          "2013-12-31T00:00:00",
          "2012-12-31T00:00:00",
          "2011-12-31T00:00:00",
          "2010-12-31T00:00:00"
         ],
         "xaxis": "x",
         "y": [
          25.63,
          24.775,
          25.012,
          40.458,
          16.626,
          26.941,
          27.101,
          35.401,
          5.826,
          8.597,
          19.23,
          27.208,
          2.536
         ],
         "yaxis": "y"
        },
        {
         "hovertemplate": "Country=Malta<br>Month Date=%{x}<br>Value (k Euro)=%{y}<extra></extra>",
         "legendgroup": "Malta",
         "line": {
          "color": "#FF6692",
          "dash": "solid"
         },
         "marker": {
          "symbol": "circle"
         },
         "mode": "lines",
         "name": "Malta",
         "orientation": "v",
         "showlegend": true,
         "type": "scatter",
         "x": [
          "2022-12-31T00:00:00",
          "2021-12-31T00:00:00",
          "2019-12-31T00:00:00",
          "2017-12-31T00:00:00"
         ],
         "xaxis": "x",
         "y": [
          2.525,
          67.42099999999999,
          0.711,
          0.541
         ],
         "yaxis": "y"
        },
        {
         "hovertemplate": "Country=United Kingdom<br>Month Date=%{x}<br>Value (k Euro)=%{y}<extra></extra>",
         "legendgroup": "United Kingdom",
         "line": {
          "color": "#B6E880",
          "dash": "solid"
         },
         "marker": {
          "symbol": "circle"
         },
         "mode": "lines",
         "name": "United Kingdom",
         "orientation": "v",
         "showlegend": true,
         "type": "scatter",
         "x": [
          "2020-12-31T00:00:00",
          "2019-12-31T00:00:00",
          "2018-12-31T00:00:00",
          "2017-12-31T00:00:00",
          "2016-12-31T00:00:00",
          "2015-12-31T00:00:00",
          "2014-12-31T00:00:00",
          "2013-12-31T00:00:00",
          "2012-12-31T00:00:00",
          "2011-12-31T00:00:00",
          "2010-12-31T00:00:00"
         ],
         "xaxis": "x",
         "y": [
          3298.135,
          26796.427,
          13194.249,
          31055.559,
          25195.987999999998,
          14775.062,
          9490.264000000001,
          5556.841,
          8096.5,
          6763.530000000001,
          8552.366
         ],
         "yaxis": "y"
        },
        {
         "hovertemplate": "Country=Cyprus<br>Month Date=%{x}<br>Value (k Euro)=%{y}<extra></extra>",
         "legendgroup": "Cyprus",
         "line": {
          "color": "#FF97FF",
          "dash": "solid"
         },
         "marker": {
          "symbol": "circle"
         },
         "mode": "lines",
         "name": "Cyprus",
         "orientation": "v",
         "showlegend": true,
         "type": "scatter",
         "x": [
          "2016-12-31T00:00:00",
          "2015-12-31T00:00:00",
          "2013-12-31T00:00:00"
         ],
         "xaxis": "x",
         "y": [
          1.318,
          0.453,
          11.52
         ],
         "yaxis": "y"
        }
       ],
       "layout": {
        "legend": {
         "title": {
          "text": "Country"
         },
         "tracegroupgap": 0
        },
        "template": {
         "data": {
          "bar": [
           {
            "error_x": {
             "color": "#2a3f5f"
            },
            "error_y": {
             "color": "#2a3f5f"
            },
            "marker": {
             "line": {
              "color": "#E5ECF6",
              "width": 0.5
             },
             "pattern": {
              "fillmode": "overlay",
              "size": 10,
              "solidity": 0.2
             }
            },
            "type": "bar"
           }
          ],
          "barpolar": [
           {
            "marker": {
             "line": {
              "color": "#E5ECF6",
              "width": 0.5
             },
             "pattern": {
              "fillmode": "overlay",
              "size": 10,
              "solidity": 0.2
             }
            },
            "type": "barpolar"
           }
          ],
          "carpet": [
           {
            "aaxis": {
             "endlinecolor": "#2a3f5f",
             "gridcolor": "white",
             "linecolor": "white",
             "minorgridcolor": "white",
             "startlinecolor": "#2a3f5f"
            },
            "baxis": {
             "endlinecolor": "#2a3f5f",
             "gridcolor": "white",
             "linecolor": "white",
             "minorgridcolor": "white",
             "startlinecolor": "#2a3f5f"
            },
            "type": "carpet"
           }
          ],
          "choropleth": [
           {
            "colorbar": {
             "outlinewidth": 0,
             "ticks": ""
            },
            "type": "choropleth"
           }
          ],
          "contour": [
           {
            "colorbar": {
             "outlinewidth": 0,
             "ticks": ""
            },
            "colorscale": [
             [
              0,
              "#0d0887"
             ],
             [
              0.1111111111111111,
              "#46039f"
             ],
             [
              0.2222222222222222,
              "#7201a8"
             ],
             [
              0.3333333333333333,
              "#9c179e"
             ],
             [
              0.4444444444444444,
              "#bd3786"
             ],
             [
              0.5555555555555556,
              "#d8576b"
             ],
             [
              0.6666666666666666,
              "#ed7953"
             ],
             [
              0.7777777777777778,
              "#fb9f3a"
             ],
             [
              0.8888888888888888,
              "#fdca26"
             ],
             [
              1,
              "#f0f921"
             ]
            ],
            "type": "contour"
           }
          ],
          "contourcarpet": [
           {
            "colorbar": {
             "outlinewidth": 0,
             "ticks": ""
            },
            "type": "contourcarpet"
           }
          ],
          "heatmap": [
           {
            "colorbar": {
             "outlinewidth": 0,
             "ticks": ""
            },
            "colorscale": [
             [
              0,
              "#0d0887"
             ],
             [
              0.1111111111111111,
              "#46039f"
             ],
             [
              0.2222222222222222,
              "#7201a8"
             ],
             [
              0.3333333333333333,
              "#9c179e"
             ],
             [
              0.4444444444444444,
              "#bd3786"
             ],
             [
              0.5555555555555556,
              "#d8576b"
             ],
             [
              0.6666666666666666,
              "#ed7953"
             ],
             [
              0.7777777777777778,
              "#fb9f3a"
             ],
             [
              0.8888888888888888,
              "#fdca26"
             ],
             [
              1,
              "#f0f921"
             ]
            ],
            "type": "heatmap"
           }
          ],
          "heatmapgl": [
           {
            "colorbar": {
             "outlinewidth": 0,
             "ticks": ""
            },
            "colorscale": [
             [
              0,
              "#0d0887"
             ],
             [
              0.1111111111111111,
              "#46039f"
             ],
             [
              0.2222222222222222,
              "#7201a8"
             ],
             [
              0.3333333333333333,
              "#9c179e"
             ],
             [
              0.4444444444444444,
              "#bd3786"
             ],
             [
              0.5555555555555556,
              "#d8576b"
             ],
             [
              0.6666666666666666,
              "#ed7953"
             ],
             [
              0.7777777777777778,
              "#fb9f3a"
             ],
             [
              0.8888888888888888,
              "#fdca26"
             ],
             [
              1,
              "#f0f921"
             ]
            ],
            "type": "heatmapgl"
           }
          ],
          "histogram": [
           {
            "marker": {
             "pattern": {
              "fillmode": "overlay",
              "size": 10,
              "solidity": 0.2
             }
            },
            "type": "histogram"
           }
          ],
          "histogram2d": [
           {
            "colorbar": {
             "outlinewidth": 0,
             "ticks": ""
            },
            "colorscale": [
             [
              0,
              "#0d0887"
             ],
             [
              0.1111111111111111,
              "#46039f"
             ],
             [
              0.2222222222222222,
              "#7201a8"
             ],
             [
              0.3333333333333333,
              "#9c179e"
             ],
             [
              0.4444444444444444,
              "#bd3786"
             ],
             [
              0.5555555555555556,
              "#d8576b"
             ],
             [
              0.6666666666666666,
              "#ed7953"
             ],
             [
              0.7777777777777778,
              "#fb9f3a"
             ],
             [
              0.8888888888888888,
              "#fdca26"
             ],
             [
              1,
              "#f0f921"
             ]
            ],
            "type": "histogram2d"
           }
          ],
          "histogram2dcontour": [
           {
            "colorbar": {
             "outlinewidth": 0,
             "ticks": ""
            },
            "colorscale": [
             [
              0,
              "#0d0887"
             ],
             [
              0.1111111111111111,
              "#46039f"
             ],
             [
              0.2222222222222222,
              "#7201a8"
             ],
             [
              0.3333333333333333,
              "#9c179e"
             ],
             [
              0.4444444444444444,
              "#bd3786"
             ],
             [
              0.5555555555555556,
              "#d8576b"
             ],
             [
              0.6666666666666666,
              "#ed7953"
             ],
             [
              0.7777777777777778,
              "#fb9f3a"
             ],
             [
              0.8888888888888888,
              "#fdca26"
             ],
             [
              1,
              "#f0f921"
             ]
            ],
            "type": "histogram2dcontour"
           }
          ],
          "mesh3d": [
           {
            "colorbar": {
             "outlinewidth": 0,
             "ticks": ""
            },
            "type": "mesh3d"
           }
          ],
          "parcoords": [
           {
            "line": {
             "colorbar": {
              "outlinewidth": 0,
              "ticks": ""
             }
            },
            "type": "parcoords"
           }
          ],
          "pie": [
           {
            "automargin": true,
            "type": "pie"
           }
          ],
          "scatter": [
           {
            "marker": {
             "colorbar": {
              "outlinewidth": 0,
              "ticks": ""
             }
            },
            "type": "scatter"
           }
          ],
          "scatter3d": [
           {
            "line": {
             "colorbar": {
              "outlinewidth": 0,
              "ticks": ""
             }
            },
            "marker": {
             "colorbar": {
              "outlinewidth": 0,
              "ticks": ""
             }
            },
            "type": "scatter3d"
           }
          ],
          "scattercarpet": [
           {
            "marker": {
             "colorbar": {
              "outlinewidth": 0,
              "ticks": ""
             }
            },
            "type": "scattercarpet"
           }
          ],
          "scattergeo": [
           {
            "marker": {
             "colorbar": {
              "outlinewidth": 0,
              "ticks": ""
             }
            },
            "type": "scattergeo"
           }
          ],
          "scattergl": [
           {
            "marker": {
             "colorbar": {
              "outlinewidth": 0,
              "ticks": ""
             }
            },
            "type": "scattergl"
           }
          ],
          "scattermapbox": [
           {
            "marker": {
             "colorbar": {
              "outlinewidth": 0,
              "ticks": ""
             }
            },
            "type": "scattermapbox"
           }
          ],
          "scatterpolar": [
           {
            "marker": {
             "colorbar": {
              "outlinewidth": 0,
              "ticks": ""
             }
            },
            "type": "scatterpolar"
           }
          ],
          "scatterpolargl": [
           {
            "marker": {
             "colorbar": {
              "outlinewidth": 0,
              "ticks": ""
             }
            },
            "type": "scatterpolargl"
           }
          ],
          "scatterternary": [
           {
            "marker": {
             "colorbar": {
              "outlinewidth": 0,
              "ticks": ""
             }
            },
            "type": "scatterternary"
           }
          ],
          "surface": [
           {
            "colorbar": {
             "outlinewidth": 0,
             "ticks": ""
            },
            "colorscale": [
             [
              0,
              "#0d0887"
             ],
             [
              0.1111111111111111,
              "#46039f"
             ],
             [
              0.2222222222222222,
              "#7201a8"
             ],
             [
              0.3333333333333333,
              "#9c179e"
             ],
             [
              0.4444444444444444,
              "#bd3786"
             ],
             [
              0.5555555555555556,
              "#d8576b"
             ],
             [
              0.6666666666666666,
              "#ed7953"
             ],
             [
              0.7777777777777778,
              "#fb9f3a"
             ],
             [
              0.8888888888888888,
              "#fdca26"
             ],
             [
              1,
              "#f0f921"
             ]
            ],
            "type": "surface"
           }
          ],
          "table": [
           {
            "cells": {
             "fill": {
              "color": "#EBF0F8"
             },
             "line": {
              "color": "white"
             }
            },
            "header": {
             "fill": {
              "color": "#C8D4E3"
             },
             "line": {
              "color": "white"
             }
            },
            "type": "table"
           }
          ]
         },
         "layout": {
          "annotationdefaults": {
           "arrowcolor": "#2a3f5f",
           "arrowhead": 0,
           "arrowwidth": 1
          },
          "autotypenumbers": "strict",
          "coloraxis": {
           "colorbar": {
            "outlinewidth": 0,
            "ticks": ""
           }
          },
          "colorscale": {
           "diverging": [
            [
             0,
             "#8e0152"
            ],
            [
             0.1,
             "#c51b7d"
            ],
            [
             0.2,
             "#de77ae"
            ],
            [
             0.3,
             "#f1b6da"
            ],
            [
             0.4,
             "#fde0ef"
            ],
            [
             0.5,
             "#f7f7f7"
            ],
            [
             0.6,
             "#e6f5d0"
            ],
            [
             0.7,
             "#b8e186"
            ],
            [
             0.8,
             "#7fbc41"
            ],
            [
             0.9,
             "#4d9221"
            ],
            [
             1,
             "#276419"
            ]
           ],
           "sequential": [
            [
             0,
             "#0d0887"
            ],
            [
             0.1111111111111111,
             "#46039f"
            ],
            [
             0.2222222222222222,
             "#7201a8"
            ],
            [
             0.3333333333333333,
             "#9c179e"
            ],
            [
             0.4444444444444444,
             "#bd3786"
            ],
            [
             0.5555555555555556,
             "#d8576b"
            ],
            [
             0.6666666666666666,
             "#ed7953"
            ],
            [
             0.7777777777777778,
             "#fb9f3a"
            ],
            [
             0.8888888888888888,
             "#fdca26"
            ],
            [
             1,
             "#f0f921"
            ]
           ],
           "sequentialminus": [
            [
             0,
             "#0d0887"
            ],
            [
             0.1111111111111111,
             "#46039f"
            ],
            [
             0.2222222222222222,
             "#7201a8"
            ],
            [
             0.3333333333333333,
             "#9c179e"
            ],
            [
             0.4444444444444444,
             "#bd3786"
            ],
            [
             0.5555555555555556,
             "#d8576b"
            ],
            [
             0.6666666666666666,
             "#ed7953"
            ],
            [
             0.7777777777777778,
             "#fb9f3a"
            ],
            [
             0.8888888888888888,
             "#fdca26"
            ],
            [
             1,
             "#f0f921"
            ]
           ]
          },
          "colorway": [
           "#636efa",
           "#EF553B",
           "#00cc96",
           "#ab63fa",
           "#FFA15A",
           "#19d3f3",
           "#FF6692",
           "#B6E880",
           "#FF97FF",
           "#FECB52"
          ],
          "font": {
           "color": "#2a3f5f"
          },
          "geo": {
           "bgcolor": "white",
           "lakecolor": "white",
           "landcolor": "#E5ECF6",
           "showlakes": true,
           "showland": true,
           "subunitcolor": "white"
          },
          "hoverlabel": {
           "align": "left"
          },
          "hovermode": "closest",
          "mapbox": {
           "style": "light"
          },
          "paper_bgcolor": "white",
          "plot_bgcolor": "#E5ECF6",
          "polar": {
           "angularaxis": {
            "gridcolor": "white",
            "linecolor": "white",
            "ticks": ""
           },
           "bgcolor": "#E5ECF6",
           "radialaxis": {
            "gridcolor": "white",
            "linecolor": "white",
            "ticks": ""
           }
          },
          "scene": {
           "xaxis": {
            "backgroundcolor": "#E5ECF6",
            "gridcolor": "white",
            "gridwidth": 2,
            "linecolor": "white",
            "showbackground": true,
            "ticks": "",
            "zerolinecolor": "white"
           },
           "yaxis": {
            "backgroundcolor": "#E5ECF6",
            "gridcolor": "white",
            "gridwidth": 2,
            "linecolor": "white",
            "showbackground": true,
            "ticks": "",
            "zerolinecolor": "white"
           },
           "zaxis": {
            "backgroundcolor": "#E5ECF6",
            "gridcolor": "white",
            "gridwidth": 2,
            "linecolor": "white",
            "showbackground": true,
            "ticks": "",
            "zerolinecolor": "white"
           }
          },
          "shapedefaults": {
           "line": {
            "color": "#2a3f5f"
           }
          },
          "ternary": {
           "aaxis": {
            "gridcolor": "white",
            "linecolor": "white",
            "ticks": ""
           },
           "baxis": {
            "gridcolor": "white",
            "linecolor": "white",
            "ticks": ""
           },
           "bgcolor": "#E5ECF6",
           "caxis": {
            "gridcolor": "white",
            "linecolor": "white",
            "ticks": ""
           }
          },
          "title": {
           "x": 0.05
          },
          "xaxis": {
           "automargin": true,
           "gridcolor": "white",
           "linecolor": "white",
           "ticks": "",
           "title": {
            "standoff": 15
           },
           "zerolinecolor": "white",
           "zerolinewidth": 2
          },
          "yaxis": {
           "automargin": true,
           "gridcolor": "white",
           "linecolor": "white",
           "ticks": "",
           "title": {
            "standoff": 15
           },
           "zerolinecolor": "white",
           "zerolinewidth": 2
          }
         }
        },
        "title": {
         "text": "Butter Exports"
        },
        "xaxis": {
         "anchor": "y",
         "domain": [
          0,
          1
         ],
         "title": {
          "text": "Month Date"
         }
        },
        "yaxis": {
         "anchor": "x",
         "domain": [
          0,
          1
         ],
         "title": {
          "text": "Value (k Euro)"
         }
        }
       }
      },
      "text/html": [
       "<div>                            <div id=\"2b87ca2c-91f1-4143-a371-7ff7b268957c\" class=\"plotly-graph-div\" style=\"height:525px; width:100%;\"></div>            <script type=\"text/javascript\">                require([\"plotly\"], function(Plotly) {                    window.PLOTLYENV=window.PLOTLYENV || {};                                    if (document.getElementById(\"2b87ca2c-91f1-4143-a371-7ff7b268957c\")) {                    Plotly.newPlot(                        \"2b87ca2c-91f1-4143-a371-7ff7b268957c\",                        [{\"hovertemplate\":\"Country=New Zealand<br>Month Date=%{x}<br>Value (k Euro)=%{y}<extra></extra>\",\"legendgroup\":\"New Zealand\",\"line\":{\"color\":\"#636efa\",\"dash\":\"solid\"},\"marker\":{\"symbol\":\"circle\"},\"mode\":\"lines\",\"name\":\"New Zealand\",\"orientation\":\"v\",\"showlegend\":true,\"x\":[\"2022-12-31T00:00:00\",\"2021-12-31T00:00:00\",\"2020-12-31T00:00:00\",\"2019-12-31T00:00:00\",\"2018-12-31T00:00:00\",\"2017-12-31T00:00:00\",\"2016-12-31T00:00:00\",\"2015-12-31T00:00:00\",\"2014-12-31T00:00:00\",\"2013-12-31T00:00:00\",\"2012-12-31T00:00:00\",\"2011-12-31T00:00:00\",\"2010-12-31T00:00:00\"],\"xaxis\":\"x\",\"y\":[1014677.0,986155.0,879919.0,1129225.0,1206128.0,1185094.0,828354.0,798252.0,877985.0,786149.0,756961.0,808375.0,688759.0],\"yaxis\":\"y\",\"type\":\"scatter\"},{\"hovertemplate\":\"Country=Ireland<br>Month Date=%{x}<br>Value (k Euro)=%{y}<extra></extra>\",\"legendgroup\":\"Ireland\",\"line\":{\"color\":\"#EF553B\",\"dash\":\"solid\"},\"marker\":{\"symbol\":\"circle\"},\"mode\":\"lines\",\"name\":\"Ireland\",\"orientation\":\"v\",\"showlegend\":true,\"x\":[\"2022-12-31T00:00:00\",\"2021-12-31T00:00:00\",\"2020-12-31T00:00:00\",\"2019-12-31T00:00:00\",\"2018-12-31T00:00:00\",\"2017-12-31T00:00:00\",\"2016-12-31T00:00:00\",\"2015-12-31T00:00:00\",\"2014-12-31T00:00:00\",\"2013-12-31T00:00:00\",\"2012-12-31T00:00:00\",\"2011-12-31T00:00:00\",\"2010-12-31T00:00:00\"],\"xaxis\":\"x\",\"y\":[499476.726,396279.148,420785.895,283954.787,195874.678,144567.345,110904.084,79432.879,38586.376000000004,24317.852,26919.962,24287.729,28006.582000000002],\"yaxis\":\"y\",\"type\":\"scatter\"},{\"hovertemplate\":\"Country=France<br>Month Date=%{x}<br>Value (k Euro)=%{y}<extra></extra>\",\"legendgroup\":\"France\",\"line\":{\"color\":\"#00cc96\",\"dash\":\"solid\"},\"marker\":{\"symbol\":\"circle\"},\"mode\":\"lines\",\"name\":\"France\",\"orientation\":\"v\",\"showlegend\":true,\"x\":[\"2022-12-31T00:00:00\",\"2021-12-31T00:00:00\",\"2020-12-31T00:00:00\",\"2019-12-31T00:00:00\",\"2018-12-31T00:00:00\",\"2017-12-31T00:00:00\",\"2016-12-31T00:00:00\",\"2015-12-31T00:00:00\",\"2014-12-31T00:00:00\",\"2013-12-31T00:00:00\",\"2012-12-31T00:00:00\",\"2011-12-31T00:00:00\",\"2010-12-31T00:00:00\"],\"xaxis\":\"x\",\"y\":[298713.263,267508.009,239149.666,209453.58,199586.581,188838.462,143301.51,128942.142,130417.656,119326.247,98042.612,85680.715,71429.24799999999],\"yaxis\":\"y\",\"type\":\"scatter\"},{\"hovertemplate\":\"Country=Denmark<br>Month Date=%{x}<br>Value (k Euro)=%{y}<extra></extra>\",\"legendgroup\":\"Denmark\",\"line\":{\"color\":\"#ab63fa\",\"dash\":\"solid\"},\"marker\":{\"symbol\":\"circle\"},\"mode\":\"lines\",\"name\":\"Denmark\",\"orientation\":\"v\",\"showlegend\":true,\"x\":[\"2022-12-31T00:00:00\",\"2021-12-31T00:00:00\",\"2020-12-31T00:00:00\",\"2019-12-31T00:00:00\",\"2018-12-31T00:00:00\",\"2017-12-31T00:00:00\",\"2016-12-31T00:00:00\",\"2015-12-31T00:00:00\",\"2014-12-31T00:00:00\",\"2013-12-31T00:00:00\",\"2012-12-31T00:00:00\",\"2011-12-31T00:00:00\",\"2010-12-31T00:00:00\"],\"xaxis\":\"x\",\"y\":[154833.218,150124.234,150185.119,127018.32,131779.218,96799.435,92796.932,92731.859,69188.152,70271.632,67650.748,58762.541,44552.686],\"yaxis\":\"y\",\"type\":\"scatter\"},{\"hovertemplate\":\"Country=Netherlands<br>Month Date=%{x}<br>Value (k Euro)=%{y}<extra></extra>\",\"legendgroup\":\"Netherlands\",\"line\":{\"color\":\"#FFA15A\",\"dash\":\"solid\"},\"marker\":{\"symbol\":\"circle\"},\"mode\":\"lines\",\"name\":\"Netherlands\",\"orientation\":\"v\",\"showlegend\":true,\"x\":[\"2022-12-31T00:00:00\",\"2021-12-31T00:00:00\",\"2020-12-31T00:00:00\",\"2019-12-31T00:00:00\",\"2018-12-31T00:00:00\",\"2017-12-31T00:00:00\",\"2016-12-31T00:00:00\",\"2015-12-31T00:00:00\",\"2014-12-31T00:00:00\",\"2013-12-31T00:00:00\",\"2012-12-31T00:00:00\",\"2011-12-31T00:00:00\",\"2010-12-31T00:00:00\"],\"xaxis\":\"x\",\"y\":[121849.368,138876.34,128503.863,111346.631,81003.682,80169.41,73779.136,81675.537,72263.538,54921.108,58430.233,69661.092,97731.441],\"yaxis\":\"y\",\"type\":\"scatter\"},{\"hovertemplate\":\"Country=Belgium<br>Month Date=%{x}<br>Value (k Euro)=%{y}<extra></extra>\",\"legendgroup\":\"Belgium\",\"line\":{\"color\":\"#19d3f3\",\"dash\":\"solid\"},\"marker\":{\"symbol\":\"circle\"},\"mode\":\"lines\",\"name\":\"Belgium\",\"orientation\":\"v\",\"showlegend\":true,\"x\":[\"2022-12-31T00:00:00\",\"2021-12-31T00:00:00\",\"2020-12-31T00:00:00\",\"2019-12-31T00:00:00\",\"2018-12-31T00:00:00\",\"2017-12-31T00:00:00\",\"2016-12-31T00:00:00\",\"2015-12-31T00:00:00\",\"2014-12-31T00:00:00\",\"2013-12-31T00:00:00\",\"2012-12-31T00:00:00\",\"2011-12-31T00:00:00\",\"2010-12-31T00:00:00\"],\"xaxis\":\"x\",\"y\":[71956.462,55655.169,72503.901,60909.287000000004,37359.366,47171.967000000004,37605.745,37558.886,30002.336,20312.635,15092.835000000001,19065.709,34837.812],\"yaxis\":\"y\",\"type\":\"scatter\"},{\"hovertemplate\":\"Country=Germany<br>Month Date=%{x}<br>Value (k Euro)=%{y}<extra></extra>\",\"legendgroup\":\"Germany\",\"line\":{\"color\":\"#FF6692\",\"dash\":\"solid\"},\"marker\":{\"symbol\":\"circle\"},\"mode\":\"lines\",\"name\":\"Germany\",\"orientation\":\"v\",\"showlegend\":true,\"x\":[\"2022-12-31T00:00:00\",\"2021-12-31T00:00:00\",\"2020-12-31T00:00:00\",\"2019-12-31T00:00:00\",\"2018-12-31T00:00:00\",\"2017-12-31T00:00:00\",\"2016-12-31T00:00:00\",\"2015-12-31T00:00:00\",\"2014-12-31T00:00:00\",\"2013-12-31T00:00:00\",\"2012-12-31T00:00:00\",\"2011-12-31T00:00:00\",\"2010-12-31T00:00:00\"],\"xaxis\":\"x\",\"y\":[57218.03,58713.573000000004,52822.591,70435.412,47720.093,52931.257,45075.382,35620.835,38760.223,36968.873999999996,33970.244,47169.359,76226.13],\"yaxis\":\"y\",\"type\":\"scatter\"},{\"hovertemplate\":\"Country=Poland<br>Month Date=%{x}<br>Value (k Euro)=%{y}<extra></extra>\",\"legendgroup\":\"Poland\",\"line\":{\"color\":\"#B6E880\",\"dash\":\"solid\"},\"marker\":{\"symbol\":\"circle\"},\"mode\":\"lines\",\"name\":\"Poland\",\"orientation\":\"v\",\"showlegend\":true,\"x\":[\"2022-12-31T00:00:00\",\"2021-12-31T00:00:00\",\"2020-12-31T00:00:00\",\"2019-12-31T00:00:00\",\"2018-12-31T00:00:00\",\"2017-12-31T00:00:00\",\"2016-12-31T00:00:00\",\"2015-12-31T00:00:00\",\"2014-12-31T00:00:00\",\"2013-12-31T00:00:00\",\"2012-12-31T00:00:00\",\"2011-12-31T00:00:00\",\"2010-12-31T00:00:00\"],\"xaxis\":\"x\",\"y\":[24699.518,28810.431,45559.504,26002.326,8989.942000000001,15153.769,13714.483,7761.027,8628.157,7346.549,7992.017,9606.584,7923.357],\"yaxis\":\"y\",\"type\":\"scatter\"},{\"hovertemplate\":\"Country=Finland<br>Month Date=%{x}<br>Value (k Euro)=%{y}<extra></extra>\",\"legendgroup\":\"Finland\",\"line\":{\"color\":\"#FF97FF\",\"dash\":\"solid\"},\"marker\":{\"symbol\":\"circle\"},\"mode\":\"lines\",\"name\":\"Finland\",\"orientation\":\"v\",\"showlegend\":true,\"x\":[\"2022-12-31T00:00:00\",\"2021-12-31T00:00:00\",\"2020-12-31T00:00:00\",\"2019-12-31T00:00:00\",\"2018-12-31T00:00:00\",\"2017-12-31T00:00:00\",\"2016-12-31T00:00:00\",\"2015-12-31T00:00:00\",\"2014-12-31T00:00:00\",\"2013-12-31T00:00:00\",\"2012-12-31T00:00:00\",\"2011-12-31T00:00:00\",\"2010-12-31T00:00:00\"],\"xaxis\":\"x\",\"y\":[18534.605,18450.548,21784.114,19467.314,14339.261,15302.380000000001,19517.225,21878.374,40581.797000000006,53425.814,53438.012,48835.287,49157.131],\"yaxis\":\"y\",\"type\":\"scatter\"},{\"hovertemplate\":\"Country=Lithuania<br>Month Date=%{x}<br>Value (k Euro)=%{y}<extra></extra>\",\"legendgroup\":\"Lithuania\",\"line\":{\"color\":\"#FECB52\",\"dash\":\"solid\"},\"marker\":{\"symbol\":\"circle\"},\"mode\":\"lines\",\"name\":\"Lithuania\",\"orientation\":\"v\",\"showlegend\":true,\"x\":[\"2022-12-31T00:00:00\",\"2021-12-31T00:00:00\",\"2020-12-31T00:00:00\",\"2019-12-31T00:00:00\",\"2018-12-31T00:00:00\",\"2017-12-31T00:00:00\",\"2016-12-31T00:00:00\",\"2015-12-31T00:00:00\",\"2014-12-31T00:00:00\",\"2013-12-31T00:00:00\",\"2012-12-31T00:00:00\",\"2011-12-31T00:00:00\",\"2010-12-31T00:00:00\"],\"xaxis\":\"x\",\"y\":[15951.28,4498.613,18761.676,6189.078,2265.062,2796.3469999999998,27230.154,16435.645,22692.423,7985.87,2285.832,865.001,1716.717],\"yaxis\":\"y\",\"type\":\"scatter\"},{\"hovertemplate\":\"Country=Portugal<br>Month Date=%{x}<br>Value (k Euro)=%{y}<extra></extra>\",\"legendgroup\":\"Portugal\",\"line\":{\"color\":\"#636efa\",\"dash\":\"solid\"},\"marker\":{\"symbol\":\"circle\"},\"mode\":\"lines\",\"name\":\"Portugal\",\"orientation\":\"v\",\"showlegend\":true,\"x\":[\"2022-12-31T00:00:00\",\"2021-12-31T00:00:00\",\"2020-12-31T00:00:00\",\"2019-12-31T00:00:00\",\"2018-12-31T00:00:00\",\"2017-12-31T00:00:00\",\"2016-12-31T00:00:00\",\"2015-12-31T00:00:00\",\"2014-12-31T00:00:00\",\"2013-12-31T00:00:00\",\"2012-12-31T00:00:00\",\"2011-12-31T00:00:00\",\"2010-12-31T00:00:00\"],\"xaxis\":\"x\",\"y\":[15555.956,19762.993000000002,25205.634000000002,9388.67,12709.755000000001,15195.796,14069.933,10875.687,9019.662,7527.093,5945.64,4282.392,4158.041],\"yaxis\":\"y\",\"type\":\"scatter\"},{\"hovertemplate\":\"Country=Italy<br>Month Date=%{x}<br>Value (k Euro)=%{y}<extra></extra>\",\"legendgroup\":\"Italy\",\"line\":{\"color\":\"#EF553B\",\"dash\":\"solid\"},\"marker\":{\"symbol\":\"circle\"},\"mode\":\"lines\",\"name\":\"Italy\",\"orientation\":\"v\",\"showlegend\":true,\"x\":[\"2022-12-31T00:00:00\",\"2021-12-31T00:00:00\",\"2020-12-31T00:00:00\",\"2019-12-31T00:00:00\",\"2018-12-31T00:00:00\",\"2017-12-31T00:00:00\",\"2016-12-31T00:00:00\",\"2015-12-31T00:00:00\",\"2014-12-31T00:00:00\",\"2013-12-31T00:00:00\",\"2012-12-31T00:00:00\",\"2011-12-31T00:00:00\",\"2010-12-31T00:00:00\"],\"xaxis\":\"x\",\"y\":[9269.485,10189.95,8527.85,6039.814,2199.8109999999997,2500.796,2328.489,2038.887,1481.51,1287.826,809.391,910.438,802.4159999999999],\"yaxis\":\"y\",\"type\":\"scatter\"},{\"hovertemplate\":\"Country=Spain<br>Month Date=%{x}<br>Value (k Euro)=%{y}<extra></extra>\",\"legendgroup\":\"Spain\",\"line\":{\"color\":\"#00cc96\",\"dash\":\"solid\"},\"marker\":{\"symbol\":\"circle\"},\"mode\":\"lines\",\"name\":\"Spain\",\"orientation\":\"v\",\"showlegend\":true,\"x\":[\"2022-12-31T00:00:00\",\"2021-12-31T00:00:00\",\"2020-12-31T00:00:00\",\"2019-12-31T00:00:00\",\"2018-12-31T00:00:00\",\"2017-12-31T00:00:00\",\"2016-12-31T00:00:00\",\"2015-12-31T00:00:00\",\"2014-12-31T00:00:00\",\"2013-12-31T00:00:00\",\"2012-12-31T00:00:00\",\"2011-12-31T00:00:00\",\"2010-12-31T00:00:00\"],\"xaxis\":\"x\",\"y\":[8036.446000000001,8030.604,7396.383,4487.844,3587.6530000000002,3912.264,3474.068,3036.194,2135.492,3080.56,3016.815,1670.401,1287.984],\"yaxis\":\"y\",\"type\":\"scatter\"},{\"hovertemplate\":\"Country=Croatia<br>Month Date=%{x}<br>Value (k Euro)=%{y}<extra></extra>\",\"legendgroup\":\"Croatia\",\"line\":{\"color\":\"#ab63fa\",\"dash\":\"solid\"},\"marker\":{\"symbol\":\"circle\"},\"mode\":\"lines\",\"name\":\"Croatia\",\"orientation\":\"v\",\"showlegend\":true,\"x\":[\"2022-12-31T00:00:00\",\"2021-12-31T00:00:00\",\"2020-12-31T00:00:00\",\"2019-12-31T00:00:00\",\"2018-12-31T00:00:00\",\"2017-12-31T00:00:00\",\"2016-12-31T00:00:00\",\"2015-12-31T00:00:00\",\"2014-12-31T00:00:00\",\"2013-12-31T00:00:00\"],\"xaxis\":\"x\",\"y\":[2278.0550000000003,2172.966,2229.339,2527.626,2309.913,2102.501,1370.829,1414.353,1870.151,824.653],\"yaxis\":\"y\",\"type\":\"scatter\"},{\"hovertemplate\":\"Country=Romania<br>Month Date=%{x}<br>Value (k Euro)=%{y}<extra></extra>\",\"legendgroup\":\"Romania\",\"line\":{\"color\":\"#FFA15A\",\"dash\":\"solid\"},\"marker\":{\"symbol\":\"circle\"},\"mode\":\"lines\",\"name\":\"Romania\",\"orientation\":\"v\",\"showlegend\":true,\"x\":[\"2022-12-31T00:00:00\",\"2021-12-31T00:00:00\",\"2020-12-31T00:00:00\",\"2019-12-31T00:00:00\",\"2018-12-31T00:00:00\",\"2017-12-31T00:00:00\",\"2016-12-31T00:00:00\",\"2015-12-31T00:00:00\",\"2014-12-31T00:00:00\",\"2012-12-31T00:00:00\",\"2010-12-31T00:00:00\"],\"xaxis\":\"x\",\"y\":[1182.574,1621.001,1199.969,610.396,297.08,1412.943,474.483,47.081,29.434,0.012,1.17],\"yaxis\":\"y\",\"type\":\"scatter\"},{\"hovertemplate\":\"Country=Slovenia<br>Month Date=%{x}<br>Value (k Euro)=%{y}<extra></extra>\",\"legendgroup\":\"Slovenia\",\"line\":{\"color\":\"#19d3f3\",\"dash\":\"solid\"},\"marker\":{\"symbol\":\"circle\"},\"mode\":\"lines\",\"name\":\"Slovenia\",\"orientation\":\"v\",\"showlegend\":true,\"x\":[\"2022-12-31T00:00:00\",\"2021-12-31T00:00:00\",\"2020-12-31T00:00:00\",\"2019-12-31T00:00:00\",\"2018-12-31T00:00:00\",\"2017-12-31T00:00:00\",\"2016-12-31T00:00:00\",\"2015-12-31T00:00:00\",\"2014-12-31T00:00:00\",\"2013-12-31T00:00:00\",\"2012-12-31T00:00:00\",\"2011-12-31T00:00:00\",\"2010-12-31T00:00:00\"],\"xaxis\":\"x\",\"y\":[585.854,338.906,194.12300000000002,298.55,298.459,320.36400000000003,185.793,180.264,403.646,276.054,956.734,442.32,553.932],\"yaxis\":\"y\",\"type\":\"scatter\"},{\"hovertemplate\":\"Country=Estonia<br>Month Date=%{x}<br>Value (k Euro)=%{y}<extra></extra>\",\"legendgroup\":\"Estonia\",\"line\":{\"color\":\"#FF6692\",\"dash\":\"solid\"},\"marker\":{\"symbol\":\"circle\"},\"mode\":\"lines\",\"name\":\"Estonia\",\"orientation\":\"v\",\"showlegend\":true,\"x\":[\"2022-12-31T00:00:00\",\"2021-12-31T00:00:00\",\"2020-12-31T00:00:00\",\"2019-12-31T00:00:00\",\"2018-12-31T00:00:00\",\"2017-12-31T00:00:00\",\"2016-12-31T00:00:00\",\"2015-12-31T00:00:00\",\"2014-12-31T00:00:00\",\"2013-12-31T00:00:00\",\"2012-12-31T00:00:00\",\"2011-12-31T00:00:00\",\"2010-12-31T00:00:00\"],\"xaxis\":\"x\",\"y\":[486.033,665.676,666.745,330.742,155.90800000000002,708.0479999999999,506.484,1557.6000000000001,619.883,156.441,394.306,785.953,3600.563],\"yaxis\":\"y\",\"type\":\"scatter\"},{\"hovertemplate\":\"Country=Slovakia<br>Month Date=%{x}<br>Value (k Euro)=%{y}<extra></extra>\",\"legendgroup\":\"Slovakia\",\"line\":{\"color\":\"#B6E880\",\"dash\":\"solid\"},\"marker\":{\"symbol\":\"circle\"},\"mode\":\"lines\",\"name\":\"Slovakia\",\"orientation\":\"v\",\"showlegend\":true,\"x\":[\"2022-12-31T00:00:00\",\"2021-12-31T00:00:00\",\"2020-12-31T00:00:00\",\"2019-12-31T00:00:00\",\"2018-12-31T00:00:00\",\"2017-12-31T00:00:00\",\"2016-12-31T00:00:00\",\"2015-12-31T00:00:00\",\"2014-12-31T00:00:00\",\"2013-12-31T00:00:00\",\"2012-12-31T00:00:00\",\"2011-12-31T00:00:00\"],\"xaxis\":\"x\",\"y\":[393.132,541.818,209.42700000000002,179.327,86.259,0.008,67.004,68.492,31.575000000000003,4.852,3.019,258.538],\"yaxis\":\"y\",\"type\":\"scatter\"},{\"hovertemplate\":\"Country=Czechia<br>Month Date=%{x}<br>Value (k Euro)=%{y}<extra></extra>\",\"legendgroup\":\"Czechia\",\"line\":{\"color\":\"#FF97FF\",\"dash\":\"solid\"},\"marker\":{\"symbol\":\"circle\"},\"mode\":\"lines\",\"name\":\"Czechia\",\"orientation\":\"v\",\"showlegend\":true,\"x\":[\"2022-12-31T00:00:00\",\"2021-12-31T00:00:00\",\"2020-12-31T00:00:00\",\"2019-12-31T00:00:00\",\"2018-12-31T00:00:00\",\"2017-12-31T00:00:00\",\"2016-12-31T00:00:00\",\"2015-12-31T00:00:00\",\"2014-12-31T00:00:00\",\"2013-12-31T00:00:00\",\"2012-12-31T00:00:00\",\"2011-12-31T00:00:00\",\"2010-12-31T00:00:00\"],\"xaxis\":\"x\",\"y\":[312.68399999999997,261.454,200.953,141.221,245.40800000000002,288.007,361.621,471.026,1615.0159999999998,2513.273,2399.016,4326.808,3054.3720000000003],\"yaxis\":\"y\",\"type\":\"scatter\"},{\"hovertemplate\":\"Country=Bulgaria<br>Month Date=%{x}<br>Value (k Euro)=%{y}<extra></extra>\",\"legendgroup\":\"Bulgaria\",\"line\":{\"color\":\"#FECB52\",\"dash\":\"solid\"},\"marker\":{\"symbol\":\"circle\"},\"mode\":\"lines\",\"name\":\"Bulgaria\",\"orientation\":\"v\",\"showlegend\":true,\"x\":[\"2022-12-31T00:00:00\",\"2021-12-31T00:00:00\",\"2020-12-31T00:00:00\",\"2019-12-31T00:00:00\",\"2018-12-31T00:00:00\",\"2017-12-31T00:00:00\",\"2016-12-31T00:00:00\",\"2015-12-31T00:00:00\",\"2014-12-31T00:00:00\",\"2013-12-31T00:00:00\",\"2012-12-31T00:00:00\",\"2011-12-31T00:00:00\",\"2010-12-31T00:00:00\"],\"xaxis\":\"x\",\"y\":[197.968,79.78,64.401,19.916,3.862,1.816,9.902999999999999,54.0,124.687,0.228,205.818,59.732,219.644],\"yaxis\":\"y\",\"type\":\"scatter\"},{\"hovertemplate\":\"Country=Hungary<br>Month Date=%{x}<br>Value (k Euro)=%{y}<extra></extra>\",\"legendgroup\":\"Hungary\",\"line\":{\"color\":\"#636efa\",\"dash\":\"solid\"},\"marker\":{\"symbol\":\"circle\"},\"mode\":\"lines\",\"name\":\"Hungary\",\"orientation\":\"v\",\"showlegend\":true,\"x\":[\"2022-12-31T00:00:00\",\"2021-12-31T00:00:00\",\"2020-12-31T00:00:00\",\"2019-12-31T00:00:00\",\"2018-12-31T00:00:00\",\"2017-12-31T00:00:00\",\"2016-12-31T00:00:00\",\"2015-12-31T00:00:00\",\"2014-12-31T00:00:00\",\"2013-12-31T00:00:00\",\"2012-12-31T00:00:00\",\"2011-12-31T00:00:00\",\"2010-12-31T00:00:00\"],\"xaxis\":\"x\",\"y\":[196.725,456.18699999999995,3750.081,109.895,131.01000000000002,83.096,297.51300000000003,550.286,427.828,1045.3429999999998,151.733,1.124,93.619],\"yaxis\":\"y\",\"type\":\"scatter\"},{\"hovertemplate\":\"Country=Sweden<br>Month Date=%{x}<br>Value (k Euro)=%{y}<extra></extra>\",\"legendgroup\":\"Sweden\",\"line\":{\"color\":\"#EF553B\",\"dash\":\"solid\"},\"marker\":{\"symbol\":\"circle\"},\"mode\":\"lines\",\"name\":\"Sweden\",\"orientation\":\"v\",\"showlegend\":true,\"x\":[\"2022-12-31T00:00:00\",\"2021-12-31T00:00:00\",\"2020-12-31T00:00:00\",\"2019-12-31T00:00:00\",\"2018-12-31T00:00:00\",\"2017-12-31T00:00:00\",\"2016-12-31T00:00:00\",\"2015-12-31T00:00:00\",\"2014-12-31T00:00:00\",\"2013-12-31T00:00:00\",\"2012-12-31T00:00:00\",\"2011-12-31T00:00:00\",\"2010-12-31T00:00:00\"],\"xaxis\":\"x\",\"y\":[195.899,149.287,23.342,16.985,29.939,23.192,16.429000000000002,5.631,364.846,91.405,2658.249,1001.446,2174.391],\"yaxis\":\"y\",\"type\":\"scatter\"},{\"hovertemplate\":\"Country=Greece<br>Month Date=%{x}<br>Value (k Euro)=%{y}<extra></extra>\",\"legendgroup\":\"Greece\",\"line\":{\"color\":\"#00cc96\",\"dash\":\"solid\"},\"marker\":{\"symbol\":\"circle\"},\"mode\":\"lines\",\"name\":\"Greece\",\"orientation\":\"v\",\"showlegend\":true,\"x\":[\"2022-12-31T00:00:00\",\"2021-12-31T00:00:00\",\"2020-12-31T00:00:00\",\"2019-12-31T00:00:00\",\"2018-12-31T00:00:00\",\"2017-12-31T00:00:00\",\"2016-12-31T00:00:00\",\"2015-12-31T00:00:00\",\"2014-12-31T00:00:00\",\"2013-12-31T00:00:00\",\"2012-12-31T00:00:00\",\"2011-12-31T00:00:00\",\"2010-12-31T00:00:00\"],\"xaxis\":\"x\",\"y\":[155.161,193.12199999999999,102.678,68.999,175.147,68.887,57.378,24.878999999999998,235.85899999999998,269.15999999999997,38.513,9.648,9.473],\"yaxis\":\"y\",\"type\":\"scatter\"},{\"hovertemplate\":\"Country=Austria<br>Month Date=%{x}<br>Value (k Euro)=%{y}<extra></extra>\",\"legendgroup\":\"Austria\",\"line\":{\"color\":\"#ab63fa\",\"dash\":\"solid\"},\"marker\":{\"symbol\":\"circle\"},\"mode\":\"lines\",\"name\":\"Austria\",\"orientation\":\"v\",\"showlegend\":true,\"x\":[\"2022-12-31T00:00:00\",\"2021-12-31T00:00:00\",\"2020-12-31T00:00:00\",\"2019-12-31T00:00:00\",\"2018-12-31T00:00:00\",\"2017-12-31T00:00:00\",\"2016-12-31T00:00:00\",\"2015-12-31T00:00:00\",\"2014-12-31T00:00:00\",\"2013-12-31T00:00:00\",\"2012-12-31T00:00:00\",\"2011-12-31T00:00:00\",\"2010-12-31T00:00:00\"],\"xaxis\":\"x\",\"y\":[117.583,242.629,183.048,310.07800000000003,291.272,370.51800000000003,317.147,666.7239999999999,322.467,436.711,294.951,645.7860000000001,356.651],\"yaxis\":\"y\",\"type\":\"scatter\"},{\"hovertemplate\":\"Country=Latvia<br>Month Date=%{x}<br>Value (k Euro)=%{y}<extra></extra>\",\"legendgroup\":\"Latvia\",\"line\":{\"color\":\"#FFA15A\",\"dash\":\"solid\"},\"marker\":{\"symbol\":\"circle\"},\"mode\":\"lines\",\"name\":\"Latvia\",\"orientation\":\"v\",\"showlegend\":true,\"x\":[\"2022-12-31T00:00:00\",\"2021-12-31T00:00:00\",\"2020-12-31T00:00:00\",\"2019-12-31T00:00:00\",\"2018-12-31T00:00:00\",\"2017-12-31T00:00:00\",\"2016-12-31T00:00:00\",\"2015-12-31T00:00:00\",\"2014-12-31T00:00:00\",\"2013-12-31T00:00:00\",\"2012-12-31T00:00:00\",\"2011-12-31T00:00:00\",\"2010-12-31T00:00:00\"],\"xaxis\":\"x\",\"y\":[61.155,193.308,671.055,745.722,24.532999999999998,928.5409999999999,730.653,347.954,8566.557999999999,6772.291,1749.365,367.639,633.657],\"yaxis\":\"y\",\"type\":\"scatter\"},{\"hovertemplate\":\"Country=Luxembourg<br>Month Date=%{x}<br>Value (k Euro)=%{y}<extra></extra>\",\"legendgroup\":\"Luxembourg\",\"line\":{\"color\":\"#19d3f3\",\"dash\":\"solid\"},\"marker\":{\"symbol\":\"circle\"},\"mode\":\"lines\",\"name\":\"Luxembourg\",\"orientation\":\"v\",\"showlegend\":true,\"x\":[\"2022-12-31T00:00:00\",\"2021-12-31T00:00:00\",\"2020-12-31T00:00:00\",\"2019-12-31T00:00:00\",\"2018-12-31T00:00:00\",\"2017-12-31T00:00:00\",\"2016-12-31T00:00:00\",\"2015-12-31T00:00:00\",\"2014-12-31T00:00:00\",\"2013-12-31T00:00:00\",\"2012-12-31T00:00:00\",\"2011-12-31T00:00:00\",\"2010-12-31T00:00:00\"],\"xaxis\":\"x\",\"y\":[25.63,24.775,25.012,40.458,16.626,26.941,27.101,35.401,5.826,8.597,19.23,27.208,2.536],\"yaxis\":\"y\",\"type\":\"scatter\"},{\"hovertemplate\":\"Country=Malta<br>Month Date=%{x}<br>Value (k Euro)=%{y}<extra></extra>\",\"legendgroup\":\"Malta\",\"line\":{\"color\":\"#FF6692\",\"dash\":\"solid\"},\"marker\":{\"symbol\":\"circle\"},\"mode\":\"lines\",\"name\":\"Malta\",\"orientation\":\"v\",\"showlegend\":true,\"x\":[\"2022-12-31T00:00:00\",\"2021-12-31T00:00:00\",\"2019-12-31T00:00:00\",\"2017-12-31T00:00:00\"],\"xaxis\":\"x\",\"y\":[2.525,67.42099999999999,0.711,0.541],\"yaxis\":\"y\",\"type\":\"scatter\"},{\"hovertemplate\":\"Country=United Kingdom<br>Month Date=%{x}<br>Value (k Euro)=%{y}<extra></extra>\",\"legendgroup\":\"United Kingdom\",\"line\":{\"color\":\"#B6E880\",\"dash\":\"solid\"},\"marker\":{\"symbol\":\"circle\"},\"mode\":\"lines\",\"name\":\"United Kingdom\",\"orientation\":\"v\",\"showlegend\":true,\"x\":[\"2020-12-31T00:00:00\",\"2019-12-31T00:00:00\",\"2018-12-31T00:00:00\",\"2017-12-31T00:00:00\",\"2016-12-31T00:00:00\",\"2015-12-31T00:00:00\",\"2014-12-31T00:00:00\",\"2013-12-31T00:00:00\",\"2012-12-31T00:00:00\",\"2011-12-31T00:00:00\",\"2010-12-31T00:00:00\"],\"xaxis\":\"x\",\"y\":[3298.135,26796.427,13194.249,31055.559,25195.987999999998,14775.062,9490.264000000001,5556.841,8096.5,6763.530000000001,8552.366],\"yaxis\":\"y\",\"type\":\"scatter\"},{\"hovertemplate\":\"Country=Cyprus<br>Month Date=%{x}<br>Value (k Euro)=%{y}<extra></extra>\",\"legendgroup\":\"Cyprus\",\"line\":{\"color\":\"#FF97FF\",\"dash\":\"solid\"},\"marker\":{\"symbol\":\"circle\"},\"mode\":\"lines\",\"name\":\"Cyprus\",\"orientation\":\"v\",\"showlegend\":true,\"x\":[\"2016-12-31T00:00:00\",\"2015-12-31T00:00:00\",\"2013-12-31T00:00:00\"],\"xaxis\":\"x\",\"y\":[1.318,0.453,11.52],\"yaxis\":\"y\",\"type\":\"scatter\"}],                        {\"template\":{\"data\":{\"bar\":[{\"error_x\":{\"color\":\"#2a3f5f\"},\"error_y\":{\"color\":\"#2a3f5f\"},\"marker\":{\"line\":{\"color\":\"#E5ECF6\",\"width\":0.5},\"pattern\":{\"fillmode\":\"overlay\",\"size\":10,\"solidity\":0.2}},\"type\":\"bar\"}],\"barpolar\":[{\"marker\":{\"line\":{\"color\":\"#E5ECF6\",\"width\":0.5},\"pattern\":{\"fillmode\":\"overlay\",\"size\":10,\"solidity\":0.2}},\"type\":\"barpolar\"}],\"carpet\":[{\"aaxis\":{\"endlinecolor\":\"#2a3f5f\",\"gridcolor\":\"white\",\"linecolor\":\"white\",\"minorgridcolor\":\"white\",\"startlinecolor\":\"#2a3f5f\"},\"baxis\":{\"endlinecolor\":\"#2a3f5f\",\"gridcolor\":\"white\",\"linecolor\":\"white\",\"minorgridcolor\":\"white\",\"startlinecolor\":\"#2a3f5f\"},\"type\":\"carpet\"}],\"choropleth\":[{\"colorbar\":{\"outlinewidth\":0,\"ticks\":\"\"},\"type\":\"choropleth\"}],\"contour\":[{\"colorbar\":{\"outlinewidth\":0,\"ticks\":\"\"},\"colorscale\":[[0.0,\"#0d0887\"],[0.1111111111111111,\"#46039f\"],[0.2222222222222222,\"#7201a8\"],[0.3333333333333333,\"#9c179e\"],[0.4444444444444444,\"#bd3786\"],[0.5555555555555556,\"#d8576b\"],[0.6666666666666666,\"#ed7953\"],[0.7777777777777778,\"#fb9f3a\"],[0.8888888888888888,\"#fdca26\"],[1.0,\"#f0f921\"]],\"type\":\"contour\"}],\"contourcarpet\":[{\"colorbar\":{\"outlinewidth\":0,\"ticks\":\"\"},\"type\":\"contourcarpet\"}],\"heatmap\":[{\"colorbar\":{\"outlinewidth\":0,\"ticks\":\"\"},\"colorscale\":[[0.0,\"#0d0887\"],[0.1111111111111111,\"#46039f\"],[0.2222222222222222,\"#7201a8\"],[0.3333333333333333,\"#9c179e\"],[0.4444444444444444,\"#bd3786\"],[0.5555555555555556,\"#d8576b\"],[0.6666666666666666,\"#ed7953\"],[0.7777777777777778,\"#fb9f3a\"],[0.8888888888888888,\"#fdca26\"],[1.0,\"#f0f921\"]],\"type\":\"heatmap\"}],\"heatmapgl\":[{\"colorbar\":{\"outlinewidth\":0,\"ticks\":\"\"},\"colorscale\":[[0.0,\"#0d0887\"],[0.1111111111111111,\"#46039f\"],[0.2222222222222222,\"#7201a8\"],[0.3333333333333333,\"#9c179e\"],[0.4444444444444444,\"#bd3786\"],[0.5555555555555556,\"#d8576b\"],[0.6666666666666666,\"#ed7953\"],[0.7777777777777778,\"#fb9f3a\"],[0.8888888888888888,\"#fdca26\"],[1.0,\"#f0f921\"]],\"type\":\"heatmapgl\"}],\"histogram\":[{\"marker\":{\"pattern\":{\"fillmode\":\"overlay\",\"size\":10,\"solidity\":0.2}},\"type\":\"histogram\"}],\"histogram2d\":[{\"colorbar\":{\"outlinewidth\":0,\"ticks\":\"\"},\"colorscale\":[[0.0,\"#0d0887\"],[0.1111111111111111,\"#46039f\"],[0.2222222222222222,\"#7201a8\"],[0.3333333333333333,\"#9c179e\"],[0.4444444444444444,\"#bd3786\"],[0.5555555555555556,\"#d8576b\"],[0.6666666666666666,\"#ed7953\"],[0.7777777777777778,\"#fb9f3a\"],[0.8888888888888888,\"#fdca26\"],[1.0,\"#f0f921\"]],\"type\":\"histogram2d\"}],\"histogram2dcontour\":[{\"colorbar\":{\"outlinewidth\":0,\"ticks\":\"\"},\"colorscale\":[[0.0,\"#0d0887\"],[0.1111111111111111,\"#46039f\"],[0.2222222222222222,\"#7201a8\"],[0.3333333333333333,\"#9c179e\"],[0.4444444444444444,\"#bd3786\"],[0.5555555555555556,\"#d8576b\"],[0.6666666666666666,\"#ed7953\"],[0.7777777777777778,\"#fb9f3a\"],[0.8888888888888888,\"#fdca26\"],[1.0,\"#f0f921\"]],\"type\":\"histogram2dcontour\"}],\"mesh3d\":[{\"colorbar\":{\"outlinewidth\":0,\"ticks\":\"\"},\"type\":\"mesh3d\"}],\"parcoords\":[{\"line\":{\"colorbar\":{\"outlinewidth\":0,\"ticks\":\"\"}},\"type\":\"parcoords\"}],\"pie\":[{\"automargin\":true,\"type\":\"pie\"}],\"scatter\":[{\"marker\":{\"colorbar\":{\"outlinewidth\":0,\"ticks\":\"\"}},\"type\":\"scatter\"}],\"scatter3d\":[{\"line\":{\"colorbar\":{\"outlinewidth\":0,\"ticks\":\"\"}},\"marker\":{\"colorbar\":{\"outlinewidth\":0,\"ticks\":\"\"}},\"type\":\"scatter3d\"}],\"scattercarpet\":[{\"marker\":{\"colorbar\":{\"outlinewidth\":0,\"ticks\":\"\"}},\"type\":\"scattercarpet\"}],\"scattergeo\":[{\"marker\":{\"colorbar\":{\"outlinewidth\":0,\"ticks\":\"\"}},\"type\":\"scattergeo\"}],\"scattergl\":[{\"marker\":{\"colorbar\":{\"outlinewidth\":0,\"ticks\":\"\"}},\"type\":\"scattergl\"}],\"scattermapbox\":[{\"marker\":{\"colorbar\":{\"outlinewidth\":0,\"ticks\":\"\"}},\"type\":\"scattermapbox\"}],\"scatterpolar\":[{\"marker\":{\"colorbar\":{\"outlinewidth\":0,\"ticks\":\"\"}},\"type\":\"scatterpolar\"}],\"scatterpolargl\":[{\"marker\":{\"colorbar\":{\"outlinewidth\":0,\"ticks\":\"\"}},\"type\":\"scatterpolargl\"}],\"scatterternary\":[{\"marker\":{\"colorbar\":{\"outlinewidth\":0,\"ticks\":\"\"}},\"type\":\"scatterternary\"}],\"surface\":[{\"colorbar\":{\"outlinewidth\":0,\"ticks\":\"\"},\"colorscale\":[[0.0,\"#0d0887\"],[0.1111111111111111,\"#46039f\"],[0.2222222222222222,\"#7201a8\"],[0.3333333333333333,\"#9c179e\"],[0.4444444444444444,\"#bd3786\"],[0.5555555555555556,\"#d8576b\"],[0.6666666666666666,\"#ed7953\"],[0.7777777777777778,\"#fb9f3a\"],[0.8888888888888888,\"#fdca26\"],[1.0,\"#f0f921\"]],\"type\":\"surface\"}],\"table\":[{\"cells\":{\"fill\":{\"color\":\"#EBF0F8\"},\"line\":{\"color\":\"white\"}},\"header\":{\"fill\":{\"color\":\"#C8D4E3\"},\"line\":{\"color\":\"white\"}},\"type\":\"table\"}]},\"layout\":{\"annotationdefaults\":{\"arrowcolor\":\"#2a3f5f\",\"arrowhead\":0,\"arrowwidth\":1},\"autotypenumbers\":\"strict\",\"coloraxis\":{\"colorbar\":{\"outlinewidth\":0,\"ticks\":\"\"}},\"colorscale\":{\"diverging\":[[0,\"#8e0152\"],[0.1,\"#c51b7d\"],[0.2,\"#de77ae\"],[0.3,\"#f1b6da\"],[0.4,\"#fde0ef\"],[0.5,\"#f7f7f7\"],[0.6,\"#e6f5d0\"],[0.7,\"#b8e186\"],[0.8,\"#7fbc41\"],[0.9,\"#4d9221\"],[1,\"#276419\"]],\"sequential\":[[0.0,\"#0d0887\"],[0.1111111111111111,\"#46039f\"],[0.2222222222222222,\"#7201a8\"],[0.3333333333333333,\"#9c179e\"],[0.4444444444444444,\"#bd3786\"],[0.5555555555555556,\"#d8576b\"],[0.6666666666666666,\"#ed7953\"],[0.7777777777777778,\"#fb9f3a\"],[0.8888888888888888,\"#fdca26\"],[1.0,\"#f0f921\"]],\"sequentialminus\":[[0.0,\"#0d0887\"],[0.1111111111111111,\"#46039f\"],[0.2222222222222222,\"#7201a8\"],[0.3333333333333333,\"#9c179e\"],[0.4444444444444444,\"#bd3786\"],[0.5555555555555556,\"#d8576b\"],[0.6666666666666666,\"#ed7953\"],[0.7777777777777778,\"#fb9f3a\"],[0.8888888888888888,\"#fdca26\"],[1.0,\"#f0f921\"]]},\"colorway\":[\"#636efa\",\"#EF553B\",\"#00cc96\",\"#ab63fa\",\"#FFA15A\",\"#19d3f3\",\"#FF6692\",\"#B6E880\",\"#FF97FF\",\"#FECB52\"],\"font\":{\"color\":\"#2a3f5f\"},\"geo\":{\"bgcolor\":\"white\",\"lakecolor\":\"white\",\"landcolor\":\"#E5ECF6\",\"showlakes\":true,\"showland\":true,\"subunitcolor\":\"white\"},\"hoverlabel\":{\"align\":\"left\"},\"hovermode\":\"closest\",\"mapbox\":{\"style\":\"light\"},\"paper_bgcolor\":\"white\",\"plot_bgcolor\":\"#E5ECF6\",\"polar\":{\"angularaxis\":{\"gridcolor\":\"white\",\"linecolor\":\"white\",\"ticks\":\"\"},\"bgcolor\":\"#E5ECF6\",\"radialaxis\":{\"gridcolor\":\"white\",\"linecolor\":\"white\",\"ticks\":\"\"}},\"scene\":{\"xaxis\":{\"backgroundcolor\":\"#E5ECF6\",\"gridcolor\":\"white\",\"gridwidth\":2,\"linecolor\":\"white\",\"showbackground\":true,\"ticks\":\"\",\"zerolinecolor\":\"white\"},\"yaxis\":{\"backgroundcolor\":\"#E5ECF6\",\"gridcolor\":\"white\",\"gridwidth\":2,\"linecolor\":\"white\",\"showbackground\":true,\"ticks\":\"\",\"zerolinecolor\":\"white\"},\"zaxis\":{\"backgroundcolor\":\"#E5ECF6\",\"gridcolor\":\"white\",\"gridwidth\":2,\"linecolor\":\"white\",\"showbackground\":true,\"ticks\":\"\",\"zerolinecolor\":\"white\"}},\"shapedefaults\":{\"line\":{\"color\":\"#2a3f5f\"}},\"ternary\":{\"aaxis\":{\"gridcolor\":\"white\",\"linecolor\":\"white\",\"ticks\":\"\"},\"baxis\":{\"gridcolor\":\"white\",\"linecolor\":\"white\",\"ticks\":\"\"},\"bgcolor\":\"#E5ECF6\",\"caxis\":{\"gridcolor\":\"white\",\"linecolor\":\"white\",\"ticks\":\"\"}},\"title\":{\"x\":0.05},\"xaxis\":{\"automargin\":true,\"gridcolor\":\"white\",\"linecolor\":\"white\",\"ticks\":\"\",\"title\":{\"standoff\":15},\"zerolinecolor\":\"white\",\"zerolinewidth\":2},\"yaxis\":{\"automargin\":true,\"gridcolor\":\"white\",\"linecolor\":\"white\",\"ticks\":\"\",\"title\":{\"standoff\":15},\"zerolinecolor\":\"white\",\"zerolinewidth\":2}}},\"xaxis\":{\"anchor\":\"y\",\"domain\":[0.0,1.0],\"title\":{\"text\":\"Month Date\"}},\"yaxis\":{\"anchor\":\"x\",\"domain\":[0.0,1.0],\"title\":{\"text\":\"Value (k Euro)\"}},\"legend\":{\"title\":{\"text\":\"Country\"},\"tracegroupgap\":0},\"title\":{\"text\":\"Butter Exports\"}},                        {\"responsive\": true}                    ).then(function(){\n",
       "                            \n",
       "var gd = document.getElementById('2b87ca2c-91f1-4143-a371-7ff7b268957c');\n",
       "var x = new MutationObserver(function (mutations, observer) {{\n",
       "        var display = window.getComputedStyle(gd).display;\n",
       "        if (!display || display === 'none') {{\n",
       "            console.log([gd, 'removed!']);\n",
       "            Plotly.purge(gd);\n",
       "            observer.disconnect();\n",
       "        }}\n",
       "}});\n",
       "\n",
       "// Listen for the removal of the full notebook cells\n",
       "var notebookContainer = gd.closest('#notebook-container');\n",
       "if (notebookContainer) {{\n",
       "    x.observe(notebookContainer, {childList: true});\n",
       "}}\n",
       "\n",
       "// Listen for the clearing of the current output cell\n",
       "var outputEl = gd.closest('.output');\n",
       "if (outputEl) {{\n",
       "    x.observe(outputEl, {childList: true});\n",
       "}}\n",
       "\n",
       "                        })                };                });            </script>        </div>"
      ]
     },
     "metadata": {},
     "output_type": "display_data"
    }
   ],
   "source": [
    "fig = px.line(df_plot, x=\"Month Date\", y=\"Value (k Euro)\", color='Country', title='Butter Exports')\n",
    "fig.show()"
   ]
  },
  {
   "cell_type": "code",
   "execution_count": null,
   "id": "a0d095a1",
   "metadata": {},
   "outputs": [],
   "source": []
  }
 ],
 "metadata": {
  "kernelspec": {
   "display_name": "Python 3 (ipykernel)",
   "language": "python",
   "name": "python3"
  },
  "language_info": {
   "codemirror_mode": {
    "name": "ipython",
    "version": 3
   },
   "file_extension": ".py",
   "mimetype": "text/x-python",
   "name": "python",
   "nbconvert_exporter": "python",
   "pygments_lexer": "ipython3",
   "version": "3.9.12"
  }
 },
 "nbformat": 4,
 "nbformat_minor": 5
}
